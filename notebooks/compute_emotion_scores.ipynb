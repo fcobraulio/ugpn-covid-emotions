{
 "cells": [
  {
   "cell_type": "code",
   "execution_count": 1,
   "metadata": {},
   "outputs": [],
   "source": [
    "from transformers import AutoModelForSequenceClassification\n",
    "from transformers import TFAutoModelForSequenceClassification\n",
    "from transformers import AutoTokenizer\n",
    "import numpy as np\n",
    "from scipy.special import softmax\n",
    "import csv\n",
    "import urllib.request\n",
    "\n",
    "task='emotion'\n",
    "MODEL = \"cardiffnlp/twitter-roberta-base-emotion\"\n",
    "\n",
    "tokenizer = AutoTokenizer.from_pretrained(MODEL)"
   ]
  },
  {
   "cell_type": "code",
   "execution_count": 2,
   "metadata": {},
   "outputs": [],
   "source": [
    "def preprocess(text):\n",
    "    new_text = []\n",
    "    for t in text.split(\" \"):\n",
    "        t = '@user' if t.startswith('@') and len(t) > 1 else t\n",
    "        t = 'http' if t.startswith('http') else t\n",
    "        new_text.append(t)\n",
    "    return \" \".join(new_text)"
   ]
  },
  {
   "cell_type": "code",
   "execution_count": 3,
   "metadata": {},
   "outputs": [],
   "source": [
    "# download label mapping\n",
    "mapping_link = f\"https://raw.githubusercontent.com/cardiffnlp/tweeteval/main/datasets/{task}/mapping.txt\"\n",
    "with urllib.request.urlopen(mapping_link) as f:\n",
    "    html = f.read().decode('utf-8').split(\"\\n\")\n",
    "    csvreader = csv.reader(html, delimiter='\\t')\n",
    "labels = [row[1] for row in csvreader if len(row) > 1]"
   ]
  },
  {
   "cell_type": "code",
   "execution_count": 4,
   "metadata": {},
   "outputs": [],
   "source": [
    "import pandas as pd\n",
    "df_tweet = pd.read_parquet('../../../covid_media_coverage/data/final/comments.parquet')\n",
    "df_news_tweets = pd.read_parquet('../../../covid_media_coverage/data/final/news_tweets.parquet')"
   ]
  },
  {
   "cell_type": "code",
   "execution_count": 5,
   "metadata": {},
   "outputs": [
    {
     "data": {
      "text/plain": [
       "((17984042, 14), (1814506, 14))"
      ]
     },
     "execution_count": 5,
     "metadata": {},
     "output_type": "execute_result"
    }
   ],
   "source": [
    "df_tweet.shape, df_news_tweets.shape"
   ]
  },
  {
   "cell_type": "code",
   "execution_count": 6,
   "metadata": {},
   "outputs": [
    {
     "name": "stderr",
     "output_type": "stream",
     "text": [
      "/home/ahaque2/venv/py3/lib/python3.6/site-packages/torch/cuda/__init__.py:52: UserWarning: CUDA initialization: Unexpected error from cudaGetDeviceCount(). Did you run some cuda functions before calling NumCudaDevices() that might have already set an error? Error 804: forward compatibility was attempted on non supported HW (Triggered internally at  /pytorch/c10/cuda/CUDAFunctions.cpp:100.)\n",
      "  return torch._C._cuda_getDeviceCount() > 0\n"
     ]
    },
    {
     "name": "stdout",
     "output_type": "stream",
     "text": [
      "cpu\n"
     ]
    }
   ],
   "source": [
    "import torch\n",
    "device = torch.device('cuda') if torch.cuda.is_available() else torch.device('cpu')\n",
    "print(device)\n",
    "\n",
    "model = AutoModelForSequenceClassification.from_pretrained(MODEL).to(device)"
   ]
  },
  {
   "cell_type": "code",
   "execution_count": 7,
   "metadata": {},
   "outputs": [],
   "source": [
    "def get_emotion_scores(text, model):\n",
    "\n",
    "    text = preprocess(text)\n",
    "    encoded_input = tokenizer(text, return_tensors='pt').to(device)\n",
    "    output = model(**encoded_input)\n",
    "    scores = output[0][0].cpu().detach().numpy()\n",
    "    \n",
    "    #scores = [scores[0], scores[1], scores[3]]\n",
    "    #label = [labels[0], labels[1], labels[3]]\n",
    "    scores = softmax(scores)\n",
    "    \n",
    "    return scores  #, labels[np.argmax(scores)]"
   ]
  },
  {
   "cell_type": "code",
   "execution_count": 11,
   "metadata": {},
   "outputs": [],
   "source": [
    "#computed_em_scores = pd.read_csv('results/tweet_emotion_scores.csv')\n",
    "#l = computed_em_scores.shape[0]"
   ]
  },
  {
   "cell_type": "code",
   "execution_count": 8,
   "metadata": {},
   "outputs": [],
   "source": [
    "def create_dataframe(df, em_scores):\n",
    "\n",
    "    em_scores_df = pd.DataFrame()\n",
    "    #em_scores_df['tweetId'] = df_tweet['tweetId']\n",
    "    \n",
    "    df['anger'] = [a[0] for a in em_scores]\n",
    "    df['joy'] = [a[1] for a in em_scores]\n",
    "    df['optimism'] = [a[2] for a in em_scores]\n",
    "    df['sadness'] = [a[3] for a in em_scores]\n",
    "    \n",
    "    return df"
   ]
  },
  {
   "cell_type": "code",
   "execution_count": 31,
   "metadata": {},
   "outputs": [
    {
     "name": "stdout",
     "output_type": "stream",
     "text": [
      "(14506, 18)243\n"
     ]
    },
    {
     "name": "stderr",
     "output_type": "stream",
     "text": [
      "/home/ahaque2/venv/py3/lib/python3.6/site-packages/ipykernel_launcher.py:6: SettingWithCopyWarning: \n",
      "A value is trying to be set on a copy of a slice from a DataFrame.\n",
      "Try using .loc[row_indexer,col_indexer] = value instead\n",
      "\n",
      "See the caveats in the documentation: https://pandas.pydata.org/pandas-docs/stable/user_guide/indexing.html#returning-a-view-versus-a-copy\n",
      "  \n",
      "/home/ahaque2/venv/py3/lib/python3.6/site-packages/ipykernel_launcher.py:7: SettingWithCopyWarning: \n",
      "A value is trying to be set on a copy of a slice from a DataFrame.\n",
      "Try using .loc[row_indexer,col_indexer] = value instead\n",
      "\n",
      "See the caveats in the documentation: https://pandas.pydata.org/pandas-docs/stable/user_guide/indexing.html#returning-a-view-versus-a-copy\n",
      "  import sys\n",
      "/home/ahaque2/venv/py3/lib/python3.6/site-packages/ipykernel_launcher.py:8: SettingWithCopyWarning: \n",
      "A value is trying to be set on a copy of a slice from a DataFrame.\n",
      "Try using .loc[row_indexer,col_indexer] = value instead\n",
      "\n",
      "See the caveats in the documentation: https://pandas.pydata.org/pandas-docs/stable/user_guide/indexing.html#returning-a-view-versus-a-copy\n",
      "  \n",
      "/home/ahaque2/venv/py3/lib/python3.6/site-packages/ipykernel_launcher.py:9: SettingWithCopyWarning: \n",
      "A value is trying to be set on a copy of a slice from a DataFrame.\n",
      "Try using .loc[row_indexer,col_indexer] = value instead\n",
      "\n",
      "See the caveats in the documentation: https://pandas.pydata.org/pandas-docs/stable/user_guide/indexing.html#returning-a-view-versus-a-copy\n",
      "  if __name__ == '__main__':\n"
     ]
    }
   ],
   "source": [
    "#em_scores_ = [get_emotion_scores(tweet, model).round(3) for tweet in df_tweet['content'][0:100]]\n",
    "import sys\n",
    "import re\n",
    "em_scores = []\n",
    "\n",
    "import time\n",
    "start_time = time.time()\n",
    "diff = 0\n",
    "    \n",
    "x = 50000\n",
    "i = 0\n",
    "k = 0\n",
    "for tweet in df_news_tweets['content'].iloc[k:]:\n",
    "    \n",
    "    if(i%x == 0 and i !=0):\n",
    "        \n",
    "        df = df_news_tweets.iloc[i-x:i]\n",
    "        df = create_dataframe(df, em_scores)\n",
    "        df.to_parquet('covid_data/em_scores/em_scores_' + str(i) + '.parquet')\n",
    "        \n",
    "        em_scores = []\n",
    "    \n",
    "    if(i%1000 == 0):    \n",
    "        diff = round((time.time() - start_time) - diff, 3)\n",
    "        print(i, \"\\t\", diff, end = \"\\r\")\n",
    "        \n",
    "    #print(get_emotion_scores(tweet, model).round(3))\n",
    "    if(len(re.findall(r'[^\\w\\s,]', tweet)) > 150):\n",
    "        em_scr = np.array([None, None, None, None])\n",
    "    else:\n",
    "        em_scr = get_emotion_scores(tweet, model).round(3)\n",
    "        \n",
    "    em_scores.append(em_scr)\n",
    "    i+=1\n",
    "    \n",
    "df = df_news_tweets.iloc[i-x:i]\n",
    "df = create_dataframe(df, em_scores)\n",
    "df.to_parquet('covid_data/em_scores/em_scores_' + str(i) + '.parquet')"
   ]
  },
  {
   "cell_type": "code",
   "execution_count": 9,
   "metadata": {},
   "outputs": [],
   "source": [
    "# df_news_tweet = pd.read_parquet('covid_data/news_tweets_with_em_scores.parquet')\n",
    "# tmp_df = pd.concat((df_news_tweet, df), axis = 0)\n",
    "# tmp_df.shape, df_news_tweet.shape\n",
    "# tmp_df.to_parquet('covid_data/news_tweets_with_em_scores.parquet')"
   ]
  },
  {
   "cell_type": "code",
   "execution_count": 35,
   "metadata": {},
   "outputs": [],
   "source": []
  },
  {
   "cell_type": "code",
   "execution_count": null,
   "metadata": {},
   "outputs": [],
   "source": []
  }
 ],
 "metadata": {
  "kernelspec": {
   "display_name": "py3",
   "language": "python",
   "name": "py3"
  },
  "language_info": {
   "codemirror_mode": {
    "name": "ipython",
    "version": 3
   },
   "file_extension": ".py",
   "mimetype": "text/x-python",
   "name": "python",
   "nbconvert_exporter": "python",
   "pygments_lexer": "ipython3",
   "version": "3.6.9"
  }
 },
 "nbformat": 4,
 "nbformat_minor": 4
}
