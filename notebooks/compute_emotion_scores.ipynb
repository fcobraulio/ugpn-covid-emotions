{
 "cells": [
  {
   "cell_type": "code",
   "execution_count": 1,
   "metadata": {},
   "outputs": [
    {
     "data": {
      "application/vnd.jupyter.widget-view+json": {
       "model_id": "9949742e519d412fa8b2a25dd85d433e",
       "version_major": 2,
       "version_minor": 0
      },
      "text/plain": [
       "Downloading:   0%|          | 0.00/779 [00:00<?, ?B/s]"
      ]
     },
     "metadata": {},
     "output_type": "display_data"
    },
    {
     "data": {
      "application/vnd.jupyter.widget-view+json": {
       "model_id": "5f72501eb75c4198b41eb4b98c901510",
       "version_major": 2,
       "version_minor": 0
      },
      "text/plain": [
       "Downloading:   0%|          | 0.00/899k [00:00<?, ?B/s]"
      ]
     },
     "metadata": {},
     "output_type": "display_data"
    },
    {
     "data": {
      "application/vnd.jupyter.widget-view+json": {
       "model_id": "c6bbc40e2fbe464cbb683e88f4d05dd5",
       "version_major": 2,
       "version_minor": 0
      },
      "text/plain": [
       "Downloading:   0%|          | 0.00/456k [00:00<?, ?B/s]"
      ]
     },
     "metadata": {},
     "output_type": "display_data"
    },
    {
     "data": {
      "application/vnd.jupyter.widget-view+json": {
       "model_id": "1be154440413491090c8f7e36902cc9a",
       "version_major": 2,
       "version_minor": 0
      },
      "text/plain": [
       "Downloading:   0%|          | 0.00/150 [00:00<?, ?B/s]"
      ]
     },
     "metadata": {},
     "output_type": "display_data"
    }
   ],
   "source": [
    "from transformers import AutoModelForSequenceClassification\n",
    "from transformers import TFAutoModelForSequenceClassification\n",
    "from transformers import AutoTokenizer\n",
    "import numpy as np\n",
    "from scipy.special import softmax\n",
    "import csv\n",
    "import urllib.request\n",
    "\n",
    "task='emotion'\n",
    "MODEL = \"cardiffnlp/twitter-roberta-base-emotion\"\n",
    "\n",
    "tokenizer = AutoTokenizer.from_pretrained(MODEL)"
   ]
  },
  {
   "cell_type": "code",
   "execution_count": 2,
   "metadata": {},
   "outputs": [],
   "source": [
    "def preprocess(text):\n",
    "    new_text = []\n",
    "    for t in text.split(\" \"):\n",
    "        t = '@user' if t.startswith('@') and len(t) > 1 else t\n",
    "        t = 'http' if t.startswith('http') else t\n",
    "        new_text.append(t)\n",
    "    return \" \".join(new_text)"
   ]
  },
  {
   "cell_type": "code",
   "execution_count": 3,
   "metadata": {},
   "outputs": [],
   "source": [
    "# download label mapping\n",
    "mapping_link = f\"https://raw.githubusercontent.com/cardiffnlp/tweeteval/main/datasets/{task}/mapping.txt\"\n",
    "with urllib.request.urlopen(mapping_link) as f:\n",
    "    html = f.read().decode('utf-8').split(\"\\n\")\n",
    "    csvreader = csv.reader(html, delimiter='\\t')\n",
    "labels = [row[1] for row in csvreader if len(row) > 1]"
   ]
  },
  {
   "cell_type": "code",
   "execution_count": 4,
   "metadata": {},
   "outputs": [],
   "source": [
    "import pandas as pd\n",
    "df_tweet = pd.read_parquet('../data/processed/skynews/comments_skynews.parquet')\n",
    "df_news_tweets = pd.read_parquet('../data/processed/skynews/news_tweets_skynews.parquet')"
   ]
  },
  {
   "cell_type": "code",
   "execution_count": 60,
   "metadata": {},
   "outputs": [],
   "source": [
    "df_tweet_shape = df_tweet.shape[0]"
   ]
  },
  {
   "cell_type": "code",
   "execution_count": 5,
   "metadata": {},
   "outputs": [
    {
     "data": {
      "text/plain": [
       "((1015519, 14), (29716, 14))"
      ]
     },
     "execution_count": 5,
     "metadata": {},
     "output_type": "execute_result"
    }
   ],
   "source": [
    "df_tweet.shape, df_news_tweets.shape"
   ]
  },
  {
   "cell_type": "code",
   "execution_count": 7,
   "metadata": {},
   "outputs": [
    {
     "name": "stdout",
     "output_type": "stream",
     "text": [
      "cuda\n"
     ]
    },
    {
     "data": {
      "application/vnd.jupyter.widget-view+json": {
       "model_id": "83365f324d5c46f8920f3db13f84c5f9",
       "version_major": 2,
       "version_minor": 0
      },
      "text/plain": [
       "Downloading:   0%|          | 0.00/499M [00:00<?, ?B/s]"
      ]
     },
     "metadata": {},
     "output_type": "display_data"
    }
   ],
   "source": [
    "import torch\n",
    "device = torch.device('cuda') if torch.cuda.is_available() else torch.device('cpu')\n",
    "print(device)\n",
    "\n",
    "model = AutoModelForSequenceClassification.from_pretrained(MODEL).to(device)"
   ]
  },
  {
   "cell_type": "code",
   "execution_count": 27,
   "metadata": {},
   "outputs": [],
   "source": [
    "def get_emotion_scores(text, model):\n",
    "\n",
    "    text = preprocess(text)\n",
    "    encoded_input = tokenizer(text, return_tensors='pt').to(device)\n",
    "    output = model(**encoded_input)\n",
    "    scores = output[0][0].cpu().detach().numpy()\n",
    "    \n",
    "    #scores = [scores[0], scores[1], scores[3]]\n",
    "    #label = [labels[0], labels[1], labels[3]]\n",
    "    scores = softmax(scores)\n",
    "    \n",
    "    return list(scores.round(3))  #, labels[np.argmax(scores)]"
   ]
  },
  {
   "cell_type": "code",
   "execution_count": null,
   "metadata": {},
   "outputs": [],
   "source": [
    "#computed_em_scores = pd.read_csv('results/tweet_emotion_scores.csv')\n",
    "#l = computed_em_scores.shape[0]"
   ]
  },
  {
   "cell_type": "code",
   "execution_count": 9,
   "metadata": {},
   "outputs": [],
   "source": [
    "def create_dataframe(df, em_scores):\n",
    "\n",
    "    em_scores_df = pd.DataFrame()\n",
    "    #em_scores_df['tweetId'] = df_tweet['tweetId']\n",
    "    \n",
    "    df['anger'] = [a[0] for a in em_scores]\n",
    "    df['joy'] = [a[1] for a in em_scores]\n",
    "    df['optimism'] = [a[2] for a in em_scores]\n",
    "    df['sadness'] = [a[3] for a in em_scores]\n",
    "    \n",
    "    return df"
   ]
  },
  {
   "cell_type": "code",
   "execution_count": 73,
   "metadata": {
    "tags": []
   },
   "outputs": [
    {
     "name": "stdout",
     "output_type": "stream",
     "text": [
      "1015519 \t 55.11132836341858\t 0.55\r"
     ]
    }
   ],
   "source": [
    "import csv\n",
    "import sys\n",
    "import re\n",
    "import time\n",
    "\n",
    "def append_user_response_to_csv(tweet_list, fileName):\n",
    "\n",
    "    #Open OR create the target CSV file\n",
    "    csvFile = open(fileName, \"a\", newline=\"\", encoding='utf-8')\n",
    "    csvWriter = csv.writer(csvFile)\n",
    "\n",
    "    #Loop through each tweet\n",
    "    for tweet in tweet_list:        \n",
    "        # Append the result to the CSV file\n",
    "        csvWriter.writerow(tweet)\n",
    "        \n",
    "    # When done, close the CSV file\n",
    "    csvFile.close()\n",
    "\n",
    "# Create user file and write header\n",
    "csvName = \"./../data/processed/skynews/em_scores/user_replies_with_em_scores.csv\"\n",
    "csvFile = open(csvName, \"a\", newline=\"\", encoding='utf-8')\n",
    "csvWriter = csv.writer(csvFile)\n",
    "csvWriter.writerow(['tweetId', 'anger', 'joy', 'optimism', 'sadness'])\n",
    "csvFile.close()\n",
    "\n",
    "#\n",
    "start_time = time.time()\n",
    "em_scores = []\n",
    "errCount = 0\n",
    "elapsed_time = 0\n",
    "x = 1000\n",
    "i = 0\n",
    "for index, tweet in df_tweet.iterrows():\n",
    "    \n",
    "    #Checks for too many emojis in the text as the model fails over > ~150 emojis in a tweet\n",
    "    if(len(re.findall(r'[^\\w\\s,]', tweet.content)) > 150):\n",
    "        em_scr =  [tweet.tweetId, None, None, None, None]\n",
    "    else:\n",
    "        try:\n",
    "            em_scr = [tweet.tweetId] + get_emotion_scores(tweet.content, model)\n",
    "        except:\n",
    "            em_scr =  [tweet.tweetId, -1., -1., -1., -1.]\n",
    "            errCount += 1\n",
    "    em_scores.append(em_scr)\n",
    "    \n",
    "    #\n",
    "    if((i%x == 0) and (i > 0)):\n",
    "        append_user_response_to_csv(em_scores, csvName)\n",
    "        diff = (time.time() - start_time) - elapsed_time\n",
    "        elapsed_time = (time.time() - start_time)\n",
    "        print(i, \n",
    "              \"\\t\", errCount,\n",
    "              \"\\t\", round(diff,1),\n",
    "              \"\\t\", round(elapsed_time/60,1), \n",
    "              \"\\t\", round(((df_tweet_shape-i) * (elapsed_time/i))/60,1), \n",
    "              end = \"\\r\")\n",
    "        em_scores = []\n",
    "    i+=1\n",
    "append_user_response_to_csv(em_scores, csvName)\n",
    "print(i, \"\\t\", diff, end = \"\\r\")  "
   ]
  },
  {
   "cell_type": "code",
   "execution_count": 74,
   "metadata": {},
   "outputs": [],
   "source": [
    "tmp = pd.read_csv(csvName)"
   ]
  },
  {
   "cell_type": "code",
   "execution_count": 77,
   "metadata": {},
   "outputs": [
    {
     "data": {
      "text/html": [
       "<div>\n",
       "<style scoped>\n",
       "    .dataframe tbody tr th:only-of-type {\n",
       "        vertical-align: middle;\n",
       "    }\n",
       "\n",
       "    .dataframe tbody tr th {\n",
       "        vertical-align: top;\n",
       "    }\n",
       "\n",
       "    .dataframe thead th {\n",
       "        text-align: right;\n",
       "    }\n",
       "</style>\n",
       "<table border=\"1\" class=\"dataframe\">\n",
       "  <thead>\n",
       "    <tr style=\"text-align: right;\">\n",
       "      <th></th>\n",
       "      <th>tweetId</th>\n",
       "      <th>anger</th>\n",
       "      <th>joy</th>\n",
       "      <th>optimism</th>\n",
       "      <th>sadness</th>\n",
       "    </tr>\n",
       "  </thead>\n",
       "  <tbody>\n",
       "    <tr>\n",
       "      <th>0</th>\n",
       "      <td>1383659647609884672</td>\n",
       "      <td>0.640</td>\n",
       "      <td>0.013</td>\n",
       "      <td>0.131</td>\n",
       "      <td>0.216</td>\n",
       "    </tr>\n",
       "    <tr>\n",
       "      <th>1</th>\n",
       "      <td>1383431071019143180</td>\n",
       "      <td>0.966</td>\n",
       "      <td>0.003</td>\n",
       "      <td>0.019</td>\n",
       "      <td>0.012</td>\n",
       "    </tr>\n",
       "    <tr>\n",
       "      <th>2</th>\n",
       "      <td>1383399358050181123</td>\n",
       "      <td>0.494</td>\n",
       "      <td>0.095</td>\n",
       "      <td>0.332</td>\n",
       "      <td>0.079</td>\n",
       "    </tr>\n",
       "    <tr>\n",
       "      <th>3</th>\n",
       "      <td>1383394492338696201</td>\n",
       "      <td>0.976</td>\n",
       "      <td>0.005</td>\n",
       "      <td>0.010</td>\n",
       "      <td>0.009</td>\n",
       "    </tr>\n",
       "    <tr>\n",
       "      <th>4</th>\n",
       "      <td>1383392021553893386</td>\n",
       "      <td>0.940</td>\n",
       "      <td>0.005</td>\n",
       "      <td>0.015</td>\n",
       "      <td>0.040</td>\n",
       "    </tr>\n",
       "    <tr>\n",
       "      <th>...</th>\n",
       "      <td>...</td>\n",
       "      <td>...</td>\n",
       "      <td>...</td>\n",
       "      <td>...</td>\n",
       "      <td>...</td>\n",
       "    </tr>\n",
       "    <tr>\n",
       "      <th>1015514</th>\n",
       "      <td>1223007718186856449</td>\n",
       "      <td>0.032</td>\n",
       "      <td>0.068</td>\n",
       "      <td>0.761</td>\n",
       "      <td>0.138</td>\n",
       "    </tr>\n",
       "    <tr>\n",
       "      <th>1015515</th>\n",
       "      <td>1223007683659419649</td>\n",
       "      <td>0.193</td>\n",
       "      <td>0.037</td>\n",
       "      <td>0.725</td>\n",
       "      <td>0.046</td>\n",
       "    </tr>\n",
       "    <tr>\n",
       "      <th>1015516</th>\n",
       "      <td>1223007637740183553</td>\n",
       "      <td>0.642</td>\n",
       "      <td>0.153</td>\n",
       "      <td>0.099</td>\n",
       "      <td>0.106</td>\n",
       "    </tr>\n",
       "    <tr>\n",
       "      <th>1015517</th>\n",
       "      <td>1223007627724148737</td>\n",
       "      <td>0.204</td>\n",
       "      <td>0.372</td>\n",
       "      <td>0.232</td>\n",
       "      <td>0.191</td>\n",
       "    </tr>\n",
       "    <tr>\n",
       "      <th>1015518</th>\n",
       "      <td>1223007445351616515</td>\n",
       "      <td>0.970</td>\n",
       "      <td>0.009</td>\n",
       "      <td>0.006</td>\n",
       "      <td>0.015</td>\n",
       "    </tr>\n",
       "  </tbody>\n",
       "</table>\n",
       "<p>1015519 rows × 5 columns</p>\n",
       "</div>"
      ],
      "text/plain": [
       "                     tweetId  anger    joy  optimism  sadness\n",
       "0        1383659647609884672  0.640  0.013     0.131    0.216\n",
       "1        1383431071019143180  0.966  0.003     0.019    0.012\n",
       "2        1383399358050181123  0.494  0.095     0.332    0.079\n",
       "3        1383394492338696201  0.976  0.005     0.010    0.009\n",
       "4        1383392021553893386  0.940  0.005     0.015    0.040\n",
       "...                      ...    ...    ...       ...      ...\n",
       "1015514  1223007718186856449  0.032  0.068     0.761    0.138\n",
       "1015515  1223007683659419649  0.193  0.037     0.725    0.046\n",
       "1015516  1223007637740183553  0.642  0.153     0.099    0.106\n",
       "1015517  1223007627724148737  0.204  0.372     0.232    0.191\n",
       "1015518  1223007445351616515  0.970  0.009     0.006    0.015\n",
       "\n",
       "[1015519 rows x 5 columns]"
      ]
     },
     "execution_count": 77,
     "metadata": {},
     "output_type": "execute_result"
    }
   ],
   "source": [
    "tmp"
   ]
  },
  {
   "cell_type": "code",
   "execution_count": null,
   "metadata": {},
   "outputs": [],
   "source": [
    "# df_news_tweet = pd.read_parquet('covid_data/news_tweets_with_em_scores.parquet')\n",
    "# tmp_df = pd.concat((df_news_tweet, df), axis = 0)\n",
    "# tmp_df.shape, df_news_tweet.shape\n",
    "# tmp_df.to_parquet('covid_data/news_tweets_with_em_scores.parquet')"
   ]
  }
 ],
 "metadata": {
  "kernelspec": {
   "display_name": "Python 3 (ipykernel)",
   "language": "python",
   "name": "python3"
  },
  "language_info": {
   "codemirror_mode": {
    "name": "ipython",
    "version": 3
   },
   "file_extension": ".py",
   "mimetype": "text/x-python",
   "name": "python",
   "nbconvert_exporter": "python",
   "pygments_lexer": "ipython3",
   "version": "3.8.8"
  }
 },
 "nbformat": 4,
 "nbformat_minor": 4
}
