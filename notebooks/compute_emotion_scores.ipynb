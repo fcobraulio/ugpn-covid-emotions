{
 "cells": [
  {
   "cell_type": "code",
   "execution_count": null,
   "metadata": {},
   "outputs": [],
   "source": [
    "from transformers import AutoModelForSequenceClassification\n",
    "from transformers import TFAutoModelForSequenceClassification\n",
    "from transformers import AutoTokenizer\n",
    "import numpy as np\n",
    "from scipy.special import softmax\n",
    "import csv\n",
    "import urllib.request\n",
    "\n",
    "task='emotion'\n",
    "MODEL = \"cardiffnlp/twitter-roberta-base-emotion\"\n",
    "\n",
    "tokenizer = AutoTokenizer.from_pretrained(MODEL)"
   ]
  },
  {
   "cell_type": "code",
   "execution_count": null,
   "metadata": {},
   "outputs": [],
   "source": [
    "def preprocess(text):\n",
    "    new_text = []\n",
    "    for t in text.split(\" \"):\n",
    "        t = '@user' if t.startswith('@') and len(t) > 1 else t\n",
    "        t = 'http' if t.startswith('http') else t\n",
    "        new_text.append(t)\n",
    "    return \" \".join(new_text)"
   ]
  },
  {
   "cell_type": "code",
   "execution_count": null,
   "metadata": {},
   "outputs": [],
   "source": [
    "# download label mapping\n",
    "mapping_link = f\"https://raw.githubusercontent.com/cardiffnlp/tweeteval/main/datasets/{task}/mapping.txt\"\n",
    "with urllib.request.urlopen(mapping_link) as f:\n",
    "    html = f.read().decode('utf-8').split(\"\\n\")\n",
    "    csvreader = csv.reader(html, delimiter='\\t')\n",
    "labels = [row[1] for row in csvreader if len(row) > 1]"
   ]
  },
  {
   "cell_type": "code",
   "execution_count": null,
   "metadata": {},
   "outputs": [],
   "source": [
    "import pandas as pd\n",
    "df_tweet = pd.read_parquet('../../../covid_media_coverage/data/final/comments.parquet')\n",
    "df_news_tweets = pd.read_parquet('../../../covid_media_coverage/data/final/news_tweets.parquet')"
   ]
  },
  {
   "cell_type": "code",
   "execution_count": null,
   "metadata": {},
   "outputs": [],
   "source": [
    "df_tweet.shape, df_news_tweets.shape"
   ]
  },
  {
   "cell_type": "code",
   "execution_count": null,
   "metadata": {},
   "outputs": [],
   "source": [
    "import torch\n",
    "device = torch.device('cuda') if torch.cuda.is_available() else torch.device('cpu')\n",
    "print(device)\n",
    "\n",
    "model = AutoModelForSequenceClassification.from_pretrained(MODEL).to(device)"
   ]
  },
  {
   "cell_type": "code",
   "execution_count": null,
   "metadata": {},
   "outputs": [],
   "source": [
    "def get_emotion_scores(text, model):\n",
    "\n",
    "    text = preprocess(text)\n",
    "    encoded_input = tokenizer(text, return_tensors='pt').to(device)\n",
    "    output = model(**encoded_input)\n",
    "    scores = output[0][0].cpu().detach().numpy()\n",
    "    \n",
    "    #scores = [scores[0], scores[1], scores[3]]\n",
    "    #label = [labels[0], labels[1], labels[3]]\n",
    "    scores = softmax(scores)\n",
    "    \n",
    "    return scores  #, labels[np.argmax(scores)]"
   ]
  },
  {
   "cell_type": "code",
   "execution_count": null,
   "metadata": {},
   "outputs": [],
   "source": [
    "#computed_em_scores = pd.read_csv('results/tweet_emotion_scores.csv')\n",
    "#l = computed_em_scores.shape[0]"
   ]
  },
  {
   "cell_type": "code",
   "execution_count": null,
   "metadata": {},
   "outputs": [],
   "source": [
    "def create_dataframe(df, em_scores):\n",
    "\n",
    "    em_scores_df = pd.DataFrame()\n",
    "    #em_scores_df['tweetId'] = df_tweet['tweetId']\n",
    "    \n",
    "    df['anger'] = [a[0] for a in em_scores]\n",
    "    df['joy'] = [a[1] for a in em_scores]\n",
    "    df['optimism'] = [a[2] for a in em_scores]\n",
    "    df['sadness'] = [a[3] for a in em_scores]\n",
    "    \n",
    "    return df"
   ]
  },
  {
   "cell_type": "code",
   "execution_count": null,
   "metadata": {},
   "outputs": [],
   "source": [
    "#em_scores_ = [get_emotion_scores(tweet, model).round(3) for tweet in df_tweet['content'][0:100]]\n",
    "import sys\n",
    "import re\n",
    "em_scores = []\n",
    "\n",
    "import time\n",
    "start_time = time.time()\n",
    "diff = 0\n",
    "    \n",
    "x = 50000\n",
    "i = 0\n",
    "k = 0\n",
    "for tweet in df_news_tweets['content'].iloc[k:]:\n",
    "    \n",
    "    if(i%x == 0 and i !=0):\n",
    "        \n",
    "        df = df_news_tweets.iloc[i-x:i]\n",
    "        df = create_dataframe(df, em_scores)\n",
    "        df.to_parquet('covid_data/em_scores/em_scores_' + str(i) + '.parquet')\n",
    "        \n",
    "        em_scores = []\n",
    "    \n",
    "    if(i%1000 == 0):    \n",
    "        diff = round((time.time() - start_time) - diff, 3)\n",
    "        print(i, \"\\t\", diff, end = \"\\r\")\n",
    "        \n",
    "    #print(get_emotion_scores(tweet, model).round(3))\n",
    "    #Checks for too many emojis in the text as the model fails over > ~150 emojis in a tweet\n",
    "    if(len(re.findall(r'[^\\w\\s,]', tweet)) > 150):\n",
    "        em_scr = np.array([None, None, None, None])\n",
    "    else:\n",
    "        em_scr = get_emotion_scores(tweet, model).round(3)\n",
    "        \n",
    "    em_scores.append(em_scr)\n",
    "    i+=1\n",
    "    \n",
    "df = df_news_tweets.iloc[i-x:i]\n",
    "df = create_dataframe(df, em_scores)\n",
    "df.to_parquet('covid_data/em_scores/em_scores_' + str(i) + '.parquet')"
   ]
  },
  {
   "cell_type": "code",
   "execution_count": null,
   "metadata": {},
   "outputs": [],
   "source": [
    "# df_news_tweet = pd.read_parquet('covid_data/news_tweets_with_em_scores.parquet')\n",
    "# tmp_df = pd.concat((df_news_tweet, df), axis = 0)\n",
    "# tmp_df.shape, df_news_tweet.shape\n",
    "# tmp_df.to_parquet('covid_data/news_tweets_with_em_scores.parquet')"
   ]
  },
  {
   "cell_type": "code",
   "execution_count": null,
   "metadata": {},
   "outputs": [],
   "source": []
  },
  {
   "cell_type": "code",
   "execution_count": null,
   "metadata": {},
   "outputs": [],
   "source": []
  }
 ],
 "metadata": {
  "kernelspec": {
   "display_name": "py3",
   "language": "python",
   "name": "py3"
  },
  "language_info": {
   "codemirror_mode": {
    "name": "ipython",
    "version": 3
   },
   "file_extension": ".py",
   "mimetype": "text/x-python",
   "name": "python",
   "nbconvert_exporter": "python",
   "pygments_lexer": "ipython3",
   "version": "3.6.9"
  }
 },
 "nbformat": 4,
 "nbformat_minor": 4
}
