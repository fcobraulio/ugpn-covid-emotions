{
 "cells": [
  {
   "cell_type": "code",
   "execution_count": 1,
   "id": "2fe6cb1c-1259-4f34-afaa-e212c0bd1e3e",
   "metadata": {},
   "outputs": [],
   "source": [
    "import glob\n",
    "import pandas as pd\n",
    "import numpy as np"
   ]
  },
  {
   "cell_type": "code",
   "execution_count": 4,
   "id": "84c228aa-8f03-492a-b2e6-73339bad8dc5",
   "metadata": {},
   "outputs": [
    {
     "data": {
      "text/plain": [
       "(1814506, 14)"
      ]
     },
     "execution_count": 4,
     "metadata": {},
     "output_type": "execute_result"
    }
   ],
   "source": [
    "# Concat news_tweets\n",
    "news_tweets = pd.concat([pd.read_parquet('./../data/raw/news_tweets.parquet'), pd.read_parquet('./../data/raw/tmp/news_tweets5.parquet')])\n",
    "news_tweets = news_tweets.drop_duplicates('tweetId')\n",
    "news_tweets.to_parquet('./../data/raw/news_tweets.parquet')\n",
    "news_tweets.shape"
   ]
  },
  {
   "cell_type": "code",
   "execution_count": 5,
   "id": "e9de3722-67e2-4f3b-a53d-d56a66ce95fb",
   "metadata": {},
   "outputs": [
    {
     "data": {
      "text/plain": [
       "(282, 19)"
      ]
     },
     "execution_count": 5,
     "metadata": {},
     "output_type": "execute_result"
    }
   ],
   "source": [
    "# Concat news_tweets\n",
    "news_accounts = pd.concat([pd.read_parquet('./../data/raw/news_accounts.parquet'), pd.read_parquet('./../data/raw/tmp/news_accounts4.parquet')])\n",
    "news_accounts = news_accounts.drop_duplicates('userId')\n",
    "news_accounts.to_parquet('./../data/raw/news_accounts.parquet')\n",
    "news_accounts.shape"
   ]
  },
  {
   "cell_type": "code",
   "execution_count": 6,
   "id": "bd7d67b6-274f-4189-9138-341628d097cf",
   "metadata": {},
   "outputs": [
    {
     "data": {
      "text/plain": [
       "(2977685, 19)"
      ]
     },
     "execution_count": 6,
     "metadata": {},
     "output_type": "execute_result"
    }
   ],
   "source": [
    "# Concat news_tweets\n",
    "users = pd.concat([pd.read_parquet('./../data/raw/users.parquet'), pd.read_parquet('./../data/raw/tmp/users/')])\n",
    "users = users.drop_duplicates('userId')\n",
    "users.to_parquet('./../data/raw/users.parquet')\n",
    "users.shape"
   ]
  },
  {
   "cell_type": "code",
   "execution_count": 7,
   "id": "35382a8e-d842-4174-9b51-77624ee5aa45",
   "metadata": {},
   "outputs": [
    {
     "data": {
      "text/plain": [
       "(17984042, 14)"
      ]
     },
     "execution_count": 7,
     "metadata": {},
     "output_type": "execute_result"
    }
   ],
   "source": [
    "# Concat news_tweets\n",
    "comments = pd.concat([pd.read_parquet('./../data/raw/comments.parquet'), pd.read_parquet('./../data/raw/tmp/comments/')])\n",
    "comments = comments.drop_duplicates('tweetId')\n",
    "comments.to_parquet('./../data/raw/comments.parquet')\n",
    "comments.shape"
   ]
  },
  {
   "cell_type": "code",
   "execution_count": null,
   "id": "89627df0-a82e-4dc8-b8a9-29cfa1995179",
   "metadata": {},
   "outputs": [],
   "source": []
  },
  {
   "cell_type": "code",
   "execution_count": null,
   "id": "fb655d61-f74a-4245-8371-83365c4ab67b",
   "metadata": {},
   "outputs": [],
   "source": []
  }
 ],
 "metadata": {
  "kernelspec": {
   "display_name": "Python 3",
   "language": "python",
   "name": "python3"
  },
  "language_info": {
   "codemirror_mode": {
    "name": "ipython",
    "version": 3
   },
   "file_extension": ".py",
   "mimetype": "text/x-python",
   "name": "python",
   "nbconvert_exporter": "python",
   "pygments_lexer": "ipython3",
   "version": "3.8.8"
  }
 },
 "nbformat": 4,
 "nbformat_minor": 5
}
