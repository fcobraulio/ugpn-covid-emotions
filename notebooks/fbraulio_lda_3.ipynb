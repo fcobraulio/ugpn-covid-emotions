{
 "cells": [
  {
   "cell_type": "code",
   "execution_count": 2,
   "metadata": {
    "tags": []
   },
   "outputs": [
    {
     "name": "stderr",
     "output_type": "stream",
     "text": [
      "C:\\Users\\f.braulio\\Anaconda3\\envs\\ugpn-covid-emotions\\lib\\site-packages\\sklearn\\linear_model\\_least_angle.py:34: DeprecationWarning: `np.float` is a deprecated alias for the builtin `float`. To silence this warning, use `float` by itself. Doing this will not modify any behavior and is safe. If you specifically wanted the numpy scalar type, use `np.float64` here.\n",
      "Deprecated in NumPy 1.20; for more details and guidance: https://numpy.org/devdocs/release/1.20.0-notes.html#deprecations\n",
      "  method='lar', copy_X=True, eps=np.finfo(np.float).eps,\n",
      "C:\\Users\\f.braulio\\Anaconda3\\envs\\ugpn-covid-emotions\\lib\\site-packages\\sklearn\\linear_model\\_least_angle.py:164: DeprecationWarning: `np.float` is a deprecated alias for the builtin `float`. To silence this warning, use `float` by itself. Doing this will not modify any behavior and is safe. If you specifically wanted the numpy scalar type, use `np.float64` here.\n",
      "Deprecated in NumPy 1.20; for more details and guidance: https://numpy.org/devdocs/release/1.20.0-notes.html#deprecations\n",
      "  method='lar', copy_X=True, eps=np.finfo(np.float).eps,\n",
      "C:\\Users\\f.braulio\\Anaconda3\\envs\\ugpn-covid-emotions\\lib\\site-packages\\sklearn\\linear_model\\_least_angle.py:281: DeprecationWarning: `np.float` is a deprecated alias for the builtin `float`. To silence this warning, use `float` by itself. Doing this will not modify any behavior and is safe. If you specifically wanted the numpy scalar type, use `np.float64` here.\n",
      "Deprecated in NumPy 1.20; for more details and guidance: https://numpy.org/devdocs/release/1.20.0-notes.html#deprecations\n",
      "  eps=np.finfo(np.float).eps, copy_Gram=True, verbose=0,\n",
      "C:\\Users\\f.braulio\\Anaconda3\\envs\\ugpn-covid-emotions\\lib\\site-packages\\sklearn\\linear_model\\_least_angle.py:865: DeprecationWarning: `np.float` is a deprecated alias for the builtin `float`. To silence this warning, use `float` by itself. Doing this will not modify any behavior and is safe. If you specifically wanted the numpy scalar type, use `np.float64` here.\n",
      "Deprecated in NumPy 1.20; for more details and guidance: https://numpy.org/devdocs/release/1.20.0-notes.html#deprecations\n",
      "  eps=np.finfo(np.float).eps, copy_X=True, fit_path=True,\n",
      "C:\\Users\\f.braulio\\Anaconda3\\envs\\ugpn-covid-emotions\\lib\\site-packages\\sklearn\\linear_model\\_least_angle.py:1121: DeprecationWarning: `np.float` is a deprecated alias for the builtin `float`. To silence this warning, use `float` by itself. Doing this will not modify any behavior and is safe. If you specifically wanted the numpy scalar type, use `np.float64` here.\n",
      "Deprecated in NumPy 1.20; for more details and guidance: https://numpy.org/devdocs/release/1.20.0-notes.html#deprecations\n",
      "  eps=np.finfo(np.float).eps, copy_X=True, fit_path=True,\n",
      "C:\\Users\\f.braulio\\Anaconda3\\envs\\ugpn-covid-emotions\\lib\\site-packages\\sklearn\\linear_model\\_least_angle.py:1149: DeprecationWarning: `np.float` is a deprecated alias for the builtin `float`. To silence this warning, use `float` by itself. Doing this will not modify any behavior and is safe. If you specifically wanted the numpy scalar type, use `np.float64` here.\n",
      "Deprecated in NumPy 1.20; for more details and guidance: https://numpy.org/devdocs/release/1.20.0-notes.html#deprecations\n",
      "  eps=np.finfo(np.float).eps, positive=False):\n",
      "C:\\Users\\f.braulio\\Anaconda3\\envs\\ugpn-covid-emotions\\lib\\site-packages\\sklearn\\linear_model\\_least_angle.py:1379: DeprecationWarning: `np.float` is a deprecated alias for the builtin `float`. To silence this warning, use `float` by itself. Doing this will not modify any behavior and is safe. If you specifically wanted the numpy scalar type, use `np.float64` here.\n",
      "Deprecated in NumPy 1.20; for more details and guidance: https://numpy.org/devdocs/release/1.20.0-notes.html#deprecations\n",
      "  max_n_alphas=1000, n_jobs=None, eps=np.finfo(np.float).eps,\n",
      "C:\\Users\\f.braulio\\Anaconda3\\envs\\ugpn-covid-emotions\\lib\\site-packages\\sklearn\\linear_model\\_least_angle.py:1621: DeprecationWarning: `np.float` is a deprecated alias for the builtin `float`. To silence this warning, use `float` by itself. Doing this will not modify any behavior and is safe. If you specifically wanted the numpy scalar type, use `np.float64` here.\n",
      "Deprecated in NumPy 1.20; for more details and guidance: https://numpy.org/devdocs/release/1.20.0-notes.html#deprecations\n",
      "  max_n_alphas=1000, n_jobs=None, eps=np.finfo(np.float).eps,\n",
      "C:\\Users\\f.braulio\\Anaconda3\\envs\\ugpn-covid-emotions\\lib\\site-packages\\sklearn\\linear_model\\_least_angle.py:1755: DeprecationWarning: `np.float` is a deprecated alias for the builtin `float`. To silence this warning, use `float` by itself. Doing this will not modify any behavior and is safe. If you specifically wanted the numpy scalar type, use `np.float64` here.\n",
      "Deprecated in NumPy 1.20; for more details and guidance: https://numpy.org/devdocs/release/1.20.0-notes.html#deprecations\n",
      "  eps=np.finfo(np.float).eps, copy_X=True, positive=False):\n",
      "C:\\Users\\f.braulio\\Anaconda3\\envs\\ugpn-covid-emotions\\lib\\site-packages\\sklearn\\decomposition\\_lda.py:28: DeprecationWarning: `np.float` is a deprecated alias for the builtin `float`. To silence this warning, use `float` by itself. Doing this will not modify any behavior and is safe. If you specifically wanted the numpy scalar type, use `np.float64` here.\n",
      "Deprecated in NumPy 1.20; for more details and guidance: https://numpy.org/devdocs/release/1.20.0-notes.html#deprecations\n",
      "  EPS = np.finfo(np.float).eps\n"
     ]
    }
   ],
   "source": [
    "import warnings\n",
    "warnings.filterwarnings(\"ignore\")\n",
    "\n",
    "import io\n",
    "import os\n",
    "import os.path\n",
    "import re\n",
    "import spacy\n",
    "import time\n",
    "import pickle\n",
    "\n",
    "import pandas as pd\n",
    "from pprint import pprint\n",
    "\n",
    "import gensim\n",
    "from gensim.models import Phrases, LdaModel, CoherenceModel\n",
    "from gensim.corpora import Dictionary\n",
    "from gensim.utils import simple_preprocess\n",
    "from gensim.test.utils import datapath\n",
    "\n",
    "import pyLDAvis\n",
    "import pyLDAvis.gensim_models  # don't skip this\n",
    "import matplotlib.pyplot as plt\n",
    "%matplotlib inline\n",
    "\n",
    "import warnings\n",
    "warnings.filterwarnings(\"ignore\")\n",
    "os.environ.update({'MALLET_HOME':r'C:/mallet/mallet-2.0.8/'})\n",
    "mallet_path = 'C:\\\\mallet\\\\mallet-2.0.8\\\\bin\\\\mallet'\n",
    "pd.options.display.max_columns = 100"
   ]
  },
  {
   "cell_type": "code",
   "execution_count": 2,
   "metadata": {},
   "outputs": [],
   "source": [
    "def make_bigrams(texts):\n",
    "    return [bigram_mod[doc] for doc in texts]\n",
    "\n",
    "def make_trigrams(texts):\n",
    "    return [trigram_mod[bigram_mod[doc]] for doc in texts]\n",
    "\n",
    "def compute_coherence_values(id2word, corpus, texts, limit, start=2, step=3):\n",
    "    \"\"\"\n",
    "    Compute c_v coherence for various number of topics\n",
    "\n",
    "    Parameters:\n",
    "    ----------\n",
    "    dictionary : Gensim dictionary\n",
    "    corpus : Gensim corpus\n",
    "    texts : List of input texts\n",
    "    limit : Max num of topics\n",
    "\n",
    "    Returns:\n",
    "    -------\n",
    "    model_list : List of LDA topic models\n",
    "    coherence_values : Coherence values corresponding to the LDA model with respective number of topics\n",
    "    \"\"\"\n",
    "    coherence_values = []\n",
    "    model_list = []\n",
    "    chunksize = 2000\n",
    "    passes = 20\n",
    "    iterations = 400\n",
    "    eval_every = None  # Don't evaluate model perplexity, takes too much time.\n",
    "    for num_topics in range(start, limit, step):\n",
    "        #model = gensim.models.wrappers.LdaMallet(mallet_path, corpus=corpus, num_topics=num_topics, id2word=id2word)\n",
    "        ldamallet = gensim.models.wrappers.LdaMallet(mallet_path, corpus=corpus, num_topics=20, id2word=id2word, random_seed=50)\n",
    "#         model = LdaModel(\n",
    "#             corpus=corpus,\n",
    "#             id2word=id2word,\n",
    "#             chunksize=chunksize,\n",
    "#             alpha='auto',\n",
    "#             eta='auto',\n",
    "#             iterations=iterations,\n",
    "#             num_topics=num_topics,\n",
    "#             passes=passes,\n",
    "#             eval_every=eval_every\n",
    "#         )\n",
    "        model_list.append(ldamallet)\n",
    "        coherence_model_ldamallet = CoherenceModel(model=ldamallet, texts=texts, dictionary=dictionary, coherence='c_v')\n",
    "#         coherence_ldamallet = coherence_model_ldamallet.get_coherence()\n",
    "#         coherencemodel = CoherenceModel(model=model, texts=texts, dictionary=dictionary, coherence='c_v')\n",
    "        coherence_values.append(coherence_model_ldamallet.get_coherence())\n",
    "\n",
    "    return model_list, coherence_values"
   ]
  },
  {
   "cell_type": "code",
   "execution_count": 3,
   "metadata": {
    "tags": []
   },
   "outputs": [
    {
     "name": "stdout",
     "output_type": "stream",
     "text": [
      "Just collected 1814506 tweets.\n",
      "Finish 1 2304.1617822647095\n",
      "Finish 2 489.37044882774353\n",
      "Finish 3 37.27526807785034\n",
      "Finish 4 0.380770206451416\n",
      "Finish 5 16.250972747802734\n",
      "Number of unique tokens: 1975\n",
      "Number of documents: 1814506\n"
     ]
    }
   ],
   "source": [
    "tweets = pd.read_parquet('./../data/raw/news_tweets.parquet').sample(frac=1, random_state=3)\n",
    "tweets = tweets.reset_index(drop=True)\n",
    "data = list(tweets.content)\n",
    "print(\"Just collected\", len(data), \"tweets.\")\n",
    "\n",
    "# Clean data\n",
    "start = time.time()\n",
    "nlp = spacy.load(\"en_core_web_sm\")\n",
    "docs = []\n",
    "for doc in nlp.pipe(data, disable=[\"tok2vec\", \"tagger\", \"parser\", \"attribute_ruler\"]):\n",
    "    docs.append([\n",
    "        re.sub(r'[^\\w\\s]|[0-9]|[_]', '', token.lemma_.lower()) for token in doc\n",
    "        if not token.like_url\n",
    "        and not token.is_punct\n",
    "        and not token.is_stop\n",
    "        and not token.is_space\n",
    "        and not token.like_num\n",
    "        and not token.ent_type_ == 'GPE'\n",
    "        and not token.text.startswith('@')\n",
    "        and len(token.text)>1\n",
    "    ])\n",
    "print(\"Finish 1\", time.time() - start)\n",
    "\n",
    "# Form Bigrams and Trigrams\n",
    "start = time.time()\n",
    "bigram = gensim.models.Phrases(docs, min_count=5, ) # higher threshold fewer phrases.\n",
    "trigram = gensim.models.Phrases(bigram[docs])\n",
    "bigram_mod = gensim.models.phrases.Phraser(bigram)\n",
    "trigram_mod = gensim.models.phrases.Phraser(trigram)\n",
    "docs = make_bigrams(docs)\n",
    "docs = make_trigrams(docs)\n",
    "print(\"Finish 2\", time.time() - start)\n",
    "\n",
    "# Create a dictionary representation of the documents.\n",
    "start = time.time()\n",
    "dictionary = Dictionary(docs)\n",
    "print(\"Finish 3\", time.time() - start)\n",
    "\n",
    "# Filter out words that occur less than 20 documents, or more than 50% of the documents.\n",
    "start = time.time()\n",
    "dictionary.filter_extremes(no_below=len(docs)*0.0005, no_above=0.33)\n",
    "temp = dictionary[0]  # This is only to \"load\" the dictionary.\n",
    "id2word = dictionary.id2token\n",
    "print(\"Finish 4\", time.time() - start)\n",
    "\n",
    "# Bag-of-words representation of the documents.\n",
    "start = time.time()\n",
    "corpus = [dictionary.doc2bow(doc) for doc in docs]\n",
    "print(\"Finish 5\", time.time() - start)\n",
    "\n",
    "print('Number of unique tokens: %d' % len(dictionary))\n",
    "print('Number of documents: %d' % len(corpus))"
   ]
  },
  {
   "cell_type": "code",
   "execution_count": null,
   "metadata": {
    "tags": []
   },
   "outputs": [],
   "source": [
    "# import pickle\n",
    "# with open(\"docs.txt\", \"wb\") as fp:   #Pickling\n",
    "#     pickle.dump(docs, fp) \n",
    "# with open(\"test.txt\", \"rb\") as fp:   # Unpickling\n",
    "#     b = pickle.load(fp)"
   ]
  },
  {
   "cell_type": "code",
   "execution_count": 13,
   "metadata": {},
   "outputs": [],
   "source": [
    "with open(\"data_pp.pickle\", \"rb\") as fp:   # Unpickling\n",
    "    b = pickle.load(fp)"
   ]
  },
  {
   "cell_type": "code",
   "execution_count": 31,
   "metadata": {},
   "outputs": [],
   "source": [
    "tweets = pd.read_parquet('./../data/raw/news_tweets.parquet').sample(frac=1, random_state=3)\n",
    "tweets = tweets.reset_index(drop=True)\n",
    "data = list(tweets.content)"
   ]
  },
  {
   "cell_type": "code",
   "execution_count": 34,
   "metadata": {},
   "outputs": [
    {
     "data": {
      "text/plain": [
       "tweetId                                         1331811812828803073\n",
       "conversationId                                  1331811812828803073\n",
       "userId                                                     55118669\n",
       "date                                      2020-11-26 04:07:34+00:00\n",
       "content           Less than a year after an unknown coronavirus ...\n",
       "lang                                                             en\n",
       "sourceLabel                                               TweetDeck\n",
       "replyCount                                                        0\n",
       "retweetCount                                                      2\n",
       "likeCount                                                         8\n",
       "quoteCount                                                        0\n",
       "longitude                                                       NaN\n",
       "latitude                                                        NaN\n",
       "place                                                          None\n",
       "Name: 0, dtype: object"
      ]
     },
     "execution_count": 34,
     "metadata": {},
     "output_type": "execute_result"
    }
   ],
   "source": [
    "tweets.iloc[0,:]"
   ]
  },
  {
   "cell_type": "code",
   "execution_count": 53,
   "metadata": {},
   "outputs": [
    {
     "data": {
      "text/plain": [
       "'Less than a year after an unknown coronavirus that has claimed 1.4 million lives began spreading across the globe, a number of highly promising COVID-19 vaccines are on the cusp of release \\n\\nhttps://t.co/fx7gdVNYbO'"
      ]
     },
     "execution_count": 53,
     "metadata": {},
     "output_type": "execute_result"
    }
   ],
   "source": [
    "data[0]"
   ]
  },
  {
   "cell_type": "code",
   "execution_count": 4,
   "metadata": {},
   "outputs": [],
   "source": [
    "def compute_coherence_values(id2word, corpus, texts, limit, mallet_path, start=2, step=3):\n",
    "    coherence_values = []\n",
    "    model_list = []\n",
    "    for num_topics in range(start, limit, step):\n",
    "        ldamallet = gensim.models.wrappers.LdaMallet(mallet_path, corpus=corpus, num_topics=num_topics, id2word=id2word, random_seed=50)\n",
    "        model_list.append(ldamallet)\n",
    "        coherence_model_ldamallet = CoherenceModel(model=ldamallet, texts=texts, dictionary=dictionary, coherence='c_v')\n",
    "        coherence_values.append(coherence_model_ldamallet.get_coherence())\n",
    "        print(num_topics)\n",
    "    return model_list, coherence_values"
   ]
  },
  {
   "cell_type": "code",
   "execution_count": 15,
   "metadata": {},
   "outputs": [
    {
     "data": {
      "text/plain": [
       "0.28604413114162136"
      ]
     },
     "execution_count": 15,
     "metadata": {},
     "output_type": "execute_result"
    }
   ],
   "source": [
    "ldamallet = gensim.models.wrappers.LdaMallet(mallet_path, corpus=corpus, num_topics=14, id2word=id2word, random_seed=50, workers=7, alpha=25)\n",
    "CoherenceModel(model=ldamallet, texts=docs, dictionary=dictionary, coherence='c_v').get_coherence()"
   ]
  },
  {
   "cell_type": "code",
   "execution_count": 13,
   "metadata": {},
   "outputs": [
    {
     "data": {
      "text/plain": [
       "0.4582848885346675"
      ]
     },
     "execution_count": 13,
     "metadata": {},
     "output_type": "execute_result"
    }
   ],
   "source": [
    "coherence_model_ldamallet.get_coherence()"
   ]
  },
  {
   "cell_type": "code",
   "execution_count": 6,
   "metadata": {},
   "outputs": [
    {
     "data": {
      "text/plain": [
       "[0.20358866182495022,\n",
       " 0.35812993607968135,\n",
       " 0.4137227508276471,\n",
       " 0.45879723439594605,\n",
       " 0.4903186970103492,\n",
       " 0.49442360909967475,\n",
       " 0.5092837897212853,\n",
       " 0.5104064790527232,\n",
       " 0.5184022248959052,\n",
       " 0.5228645652295535,\n",
       " 0.541855925166316,\n",
       " 0.5391412493066043,\n",
       " 0.5432144632110592]"
      ]
     },
     "execution_count": 6,
     "metadata": {},
     "output_type": "execute_result"
    }
   ],
   "source": [
    "coherence_values"
   ]
  },
  {
   "cell_type": "code",
   "execution_count": null,
   "metadata": {
    "tags": []
   },
   "outputs": [],
   "source": [
    "# Can take a long time to run.\n",
    "limit=40; start=2; step=3;\n",
    "model_list, coherence_values = compute_coherence_values(id2word=id2word, corpus=corpus, texts=docs, mallet_path=mallet_path, start=start, limit=limit, step=step)\n",
    "\n",
    "# Show graph\n",
    "x = range(start, limit, step)\n",
    "plt.plot(x, coherence_values)\n",
    "plt.xlabel(\"Num Topics\")\n",
    "plt.ylabel(\"Coherence score\")\n",
    "plt.legend((\"coherence_values\"), loc='best')\n",
    "plt.show()"
   ]
  },
  {
   "cell_type": "code",
   "execution_count": 39,
   "metadata": {},
   "outputs": [],
   "source": [
    "topics = [\n",
    "    ['case', 'state', 'rise', 'death', 'report', 'infection', 'confirm', 'maharashtra', 'numb', 'increase', 'total', 'coronavirusoutbreak', 'high', 'recovery', 'govt', 'surge', 'record', 'coronaviruspandemic', 'daily', 'breaking', 'positive', 'number', 'active_case', 'district', 'hour', 'spike', 'continue', 'death_toll', 'health_ministry', 'rate', 'fatality', 'live_update', 'low', 'additional', 'lakh', 'jump', 'total_numb', 'today', 'reach', 'discharge', 'fresh', 'mark', 'department_health', 'county', 'tally', 'include', 'bring_total', 'register', 'double', 'past_hour', 'newsalert', 'drop', 'climb', 'live_updates', 'soar', 'karnataka', 'recover', 'covidindia', 'record_high', 'relate_death', 'covidー', 'count', 'log', 'yesterday', 'fall', 'patient_recover', 'follow_live_update', 'worldwide', 'death_toll_rise', 'centre', 'hospitalization', 'doh', 'tamil_nadu', 'bring_total_numb', 'coronavirusupdates', 'peak', 'union_health_ministry', 'health_department', 'hit', 'additional_death', 'pune', 'trend', 'stand', 'telangana', 'country', 'punjab', 'toll', 'cases', 'infection_rate', 'bring', 'bihar', 'single_day', 'total_active', 'previous', 'high_daily', 'indiafightscorona', 'positivity_rate', 'filipino_abroad', 'rajasthan', 'top', 'victoria_record_new', 'coronavirusindia', 'exceed', 'ministry_health', 'mumbai', 'past_week', 'dfa', 'kerala', 'dip', 'cross', 'decrease', 'updates', 'reports', 'past_day', 'assam', 'consecutive_day', 'madhya_pradesh', 'milestone', 'recovery_rate', 'western_cape', 'pradesh', 'rapidly', 'follow_live_updates', 'overtake', 'coronavirusupdate', 'day', 'odisha', 'take_total_numb', 'west_bengal', 'high_single_day', 'seal', 'kashmir', 'kaduna', 'tally_rise', 'wrong_hit', 'uttarakhand', 'uttarpradesh', 'gujarat', 'tamilnadu'],\n",
    "    ['pandemic', 'year', 'worker', 'amid', 'vaccination', 'plan', 'impact', 'work', 'crisis', 'business', 'government', 'hold', 'economy', 'community', 'deal', 'hit', 'group', 'fund', 'global', 'support', 'cancel', 'demand', 'offer', 'house', 'market', 'free', 'sign', 'company', 'launch', 'event', 'job', 'employee', 'relief', 'industry', 'provide', 'seek', 'half', 'service', 'ongoing', 'cost', 'food', 'postpone', 'cut', 'ensure', 'aid', 'expect', 'centre', 'push', 'cent', 'pay', 'budget', 'big', 'effort', 'pass', 'sector', 'affect', 'delay', 'boost', 'urge', 'money', 'sale', 'citizen', 'congress', 'price', 'target', 'concern', 'bank', 'include', 'bill', 'stock', 'cover', 'power', 'quarter', 'nstnation', 'spend', 'firm', 'poor', 'massive', 'sell', 'protect', 'season', 'trade', 'people', 'reuters', 'drive', 'host', 'percent', 'benefit', 'law', 'loss', 'vulnerable', 'light', 'fall', 'access', 'celebrate', 'growth', 'donate', 'set', 'financial', 'site', 'lawmaker', 'estimate', 'involve', 'propose', 'household', 'fight', 'party', 'struggle', 'office', 'senate', 'product', 'essential', 'package', 'loan', 'app', 'parliament', 'shock', 'initiative', 'unveil', 'bernama', 'relief_bill', 'revenue', 'social', 'small_business', 'gain', 'malaysian', 'supreme_court', 'economic_recovery', 'apply', 'annual', 'lose_job', 'location', 'farmer', 'debt', 'public', 'celebration', 'profit', 'sabah', 'relief_package', 'fallout', 'programme', 'festival', 'weigh', 'workplace', 'call', 'performance', 'scheme', 'session', 'oil', 'healthcare', 'proposal', 'month', 'donation', 'file', 'global_economy', 'plant', 'stimulus_package', 'economist', 'employer', 'judge', 'credit', 'assistance', 'inquiry', 'boom', 'mission', 'legal', 'job_loss', 'network', 'stall', 'world_bank', 'amazon', 'violence', 'pain', 'commit', 'owe', 'tool', 'registration', 'relief_fund', 'google', 'mco', 'vital', 'organisation'],\n",
    "    ['school', 'home', 'close', 'amid', 'open', 'student', 'child', 'return', 'pandemic', 'force', 'leave', 'reopen', 'shut', 'online', 'send', 'stay', 'learn', 'safe', 'parent', 'kid', 'restaurant', 'scare', 'shutdown', 'university', 'miss', 'store', 'teacher', 'closure', 'education', 'summer', 'work_home', 'class', 'turn', 'bring', 'finally', 'virtual', 'option', 'migrant', 'work', 'space', 'owner', 'college', 'fee', 'teach', 'children', 'exam', 'reopen_school', 'safely', 'gym', 'eat', 'teen', 'pet', 'shelter', 'girl', 'meal', 'mom', 'parents', 'remain_open'],\n",
    "    ['time', 'test_positive', 'world', 'news', 'pandemic', 'die', 'face', 'people', 'post', 'man', 'change', 'family', 'write', 'woman', 'life', 'contract', 'challenge', 'resident', 'share', 'year_old', 'make', 'person', 'opinion', 'breaking', 'experience', 'australian', 'thing', 'reveal', 'big', 'age', 'good', 'victoria', 'happen', 'nsw', 'wrong', 'victim', 'future', 'couple', 'long', 'kill', 'feel', 'infect', 'problem', 'diagnose', 'great', 'nurse_home', 'survive', 'wife', 'lot', 'visit', 'hope', 'isolation', 'play', 'hotel_quarantine', 'create', 'mother', 'cope', 'young', 'mental_health', 'jail', 'stress', 'prison', 'love', 'victorian', 'real', 'son', 'history', 'care_home', 'social_medium', 'cop', 'normal', 'test_negative', 'moment', 'complication', 'difficult', 'dozen', 'story', 'catch', 'film', 'daughter', 'bring', 'reportedly', 'opportunity', 'husband', 'reality', 'inmate', 'look_like', 'father', 'era', 'year_old_man', 'new_normal', 'mum', 'kind', 'baby', 'digital', 'leave', 'devastate', 'year_old_woman', 'decade', 'quarantine_hotel', 'music', 'home', 'bite', 'funeral', 'art', 'dad', 'overcome', 'pass_away', 'environment', 'sydney', 'perspective', 'relative', 'song'],\n",
    "    ['response', 'update', 'live', 'trump', 'late', 'amp', 'american', 'official', 'watch', 'call', 'early', 'pm', 'emergency', 'give', 'meet', 'president', 'province', 'today', 'nation', 'release', 'situation', 'national', 'datum', 'video', 'lead', 'health_official', 'speak', 'team', 'accord', 'talk', 'claim', 'canadian', 'join', 'president_trump', 'month', 'question', 'crisis', 'watch_live', 'minister', 'declare', 'january', 'discuss', 'handle', 'news', 'fight', 'white_house', 'tuesday', 'health_minister', 'leader', 'expect', 'detail', 'expert', 'relate', 'listen', 'address', 'december', 'pm_modi', 'election', 'thursday', 'indian', 'analysis', 'senior', 'special', 'governor', 'september', 'govt', 'policy', 'week', 'explain', 'president_donald_trump', 'ottnews', 'review', 'task_force', 'february', 'tomorrow', 'action', 'track', 'tonight', 'approach', 'friday', 'union', 'donald_trump', 'public_health', 'india', 'administration', 'follow', 'answer', 'fail', 'federal', 'exclusive', 'respond', 'october', 'story', 'biden', 'source', 'mp', 'poll', 'vaccine_rollout', 'catch', 'pandemic', 'november', 'follow_update', 'accuse', 'wednesday', 'bjp', 'attack', 'africa', 'vmnews', 'slam', 'begin', 'interview', 'head', 'outbreak', 'tv', 'model', 'states', 'win', 'quebec', 'political', 'sabcnews', 'times', 'diagnosis', 'provide_update', 'grind', 'joe_biden', 'guidance', 'conversation', 'defend', 'publish', 'newsnight', 'debate', 'thread', 'discussion', 'comment', 'trudeau', 'tune', 'trump_administration', 'weekly', 'chair', 'twitter', 'commission', 'answer_question', 'trust', 'ontario', 'preparedness', 'dr_anthony_fauci', 'tracker', 'pm_narendra_modi', 'failure', 'provincial', 'warrior', 'leadership', 'chief_medical_officer', 'episode', 'defeat', 'covidab', 'dstv', 'praise', 'cdnpoli', 'coming', 'criticism', 'statistic', 'pres_trump', 'prime_minister_justin_trudeau', 'opposition', 'headline', 'voter', 'projection', 'speech', 'historic', 'government', 'climate_change'],\n",
    "    ['day', 'order', 'lockdown', 'country', 'travel', 'restriction', 'read', 'start', 'quarantine', 'measure', 'disease', 'week', 'police', 'ease', 'city', 'issue', 'level', 'area', 'march', 'social_distance', 'place', 'sa', 'announce', 'follow', 'rule', 'list', 'april', 'guideline', 'impose', 'add', 'end', 'protocol', 'lift', 'ph', 'extend', 'mask', 'boris_johnson', 'filipino', 'begin', 'public', 'weekend', 'na', 'monday', 'suspend', 'curb', 'government', 'month', 'passenger', 'protest', 'ang', 'june', 'flight', 'strict', 'doh', 'july', 'wear_mask', 'christmas', 'ng', 'sunday', 'resume', 'anti', 'remain', 'nationwide', 'train', 'break', 'ncov', 'decide', 'check', 'curfew', 'roque', 'period', 'hotel', 'metro_manila', 'complete', 'relax', 'icymi', 'saturday', 'holiday', 'ahead', 'national', 'august', 'arrest', 'stage', 'duterte', 'set', 'require', 'tough', 'arrive', 'friday', 'urge', 'enforce', 'president_rodrigo_duterte', 'date', 'breach', 'street', 'monitor', 'extension', 'airport', 'limit', 'arrival', 'bengaluru', 'fine', 'plan', 'region', 'need_know', 'player', 'brit', 'quarantine_facility', 'tuesday', 'advice', 'crowd', 'enhance_community_quarantine', 'village', 'ban', 'johnson', 'affect', 'relaxation', 'airline', 'personnel', 'average', 'activity', 'decision', 'president_duterte', 'covidpandemic', 'violate', 'local_government', 'phase', 'authority', 'pub', 'abroad', 'goa', 'game', 'part', 'malacañang', 'photos', 'tourism', 'include', 'induce', 'mandatory', 'exercise', 'wednesday', 'chandigarh', 'fly', 'local', 'frontliners', 'ottnews_ottawa', 'church', 'tier', 'community_quarantine', 'haryana', 'fan', 'stay_home_order', 'duque', 'containment_zone', 'easter', 'covidquarantine', 'traveller', 'restriction_ease', 'travel_ban', 'chennai', 'prevent_spread', 'mall', 'galvez', 'quarantine_period', 'norm', 'tighten', 'philippine', 'mid', 'precaution', 'ease_restriction', 'recommendation', 'trip', 'slow_spread', 'wa', 'land', 'protester', 'cdntopstories', 'observe', 'confusion', 'pnp', 'club', 'briton', 'lgus', 'flout', 'alert_level', 'curve', 'driver', 'social_distance_measure', 'distance', 'exit', 'ofws', 'spot', 'enforcement', 'yung', 'guest', 'ncr', 'football', 'prime_minister_boris_johnson', 'presidential_spokesperson_harry_roque', 'station', 'mkhize', 'muslim', 'health_secretary_francisco', 'vaccine_passport', 'reiterate', 'match', 'compliance', 'comply'],\n",
    "    ['patient', 'test', 'outbreak', 'hospital', 'people', 'spread', 'health', 'find', 'warn', 'doctor', 'study', 'virus', 'battle', 'variant', 'fear', 'treatment', 'result', 'wave', 'facility', 'symptom', 'vanguardnews', 'treat', 'risk', 'care', 'infect', 'chinese', 'medical', 'positive', 'europe', 'system', 'show', 'control', 'nurse', 'strain', 'malay_mail', 'staff', 'conduct', 'deadly', 'chief', 'detect', 'stop', 'fight', 'identify', 'nigerian', 'inside', 'research', 'grow', 'line', 'screen', 'cluster', 'build', 'lab', 'expert', 'cure', 'researcher', 'scientist', 'admit', 'carry', 'prevent', 'body', 'expose', 'concern', 'healthcare_worker', 'negative', 'worry', 'run', 'transmission', 'fg', 'condition', 'contact', 'fmtnews', 'lagos', 'evidence', 'world_health_organization', 'bed', 'wait', 'epidemic', 'shift', 'reduce', 'link', 'health_worker', 'population', 'thecable', 'suspect', 'country', 'work', 'human', 'emerge', 'fire', 'test_result', 'lock', 'officer', 'undergo', 'nstworld', 'recover', 'test_kit', 'global', 'critical', 'suggest', 'nigeria', 'ventilator', 'sample', 'panic', 'nhs', 'asymptomatic', 'ncdc', 'doctors', 'develop', 'quickly', 'sick', 'antibody', 'wrong', 'health_care_worker', 'icmr', 'buhari', 'icu', 'study_find', 'medicine', 'rapid', 'winter', 'ward', 'scientists', 'spark', 'describe', 'high_risk', 'lead', 'frontline', 'exposure', 'resurgence', 'private_hospital', 'trace', 'expert_warn', 'duty', 'close_contact', 'epicentre', 'commissioner', 'animal', 'new_youtube', 'army', 'long', 'origin', 'overwhelm', 'caution', 'oxygen', 'claim', 'china', 'save_live', 'mutation', 'danger', 'ppe', 'researchers', 'epicenter', 'intensive_care', 'study_show', 'ptf', 'hospitals', 'ability', 'palliative', 'aiims', 'infectious', 'gravitas', 'dedicate', 'rapid_test', 'scam', 'equipment', 'asian', 'transfer', 'fears'],\n",
    "    ['vaccine', 'dose', 'receive', 'astrazeneca', 'trial', 'supply', 'ready', 'jab', 'shoot', 'approve', 'pfizer', 'roll', 'develope', 'effective', 'eu', 'development', 'vaccinate', 'shot', 'deliver', 'distribution', 'race', 'delivery', 'covidvaccine', 'administer', 'volunteer', 'produce', 'distribute', 'approval', 'johnson_amp_johnson', 'clinical_trial', 'rollout', 'vaccination', 'fda', 'moderna', 'manufacture', 'russian', 'potential', 'sinovac', 'pfizer_biontech', 'vaccine_candidate', 'give', 'manufacturer', 'experimental', 'shipment', 'covishield', 'procure']\n",
    "]"
   ]
  },
  {
   "cell_type": "code",
   "execution_count": 43,
   "metadata": {},
   "outputs": [],
   "source": [
    "ch2 = CoherenceModel(topics=topics, texts=docs, dictionary=dictionary, coherence='c_v')\n",
    "cm2 = ch2.get_coherence()\n",
    "ct2 = ch2.get_coherence_per_topic()"
   ]
  },
  {
   "cell_type": "code",
   "execution_count": 30,
   "metadata": {},
   "outputs": [],
   "source": [
    "ch = CoherenceModel(model=ldamallet, texts=docs, dictionary=dictionary, coherence='c_v')\n",
    "cm = ch.get_coherence()\n",
    "ct = ch.get_coherence_per_topic()"
   ]
  },
  {
   "cell_type": "code",
   "execution_count": 37,
   "metadata": {},
   "outputs": [
    {
     "data": {
      "text/plain": [
       "[0.5045240018586463,\n",
       " 0.457429369616528,\n",
       " 0.39920349346028877,\n",
       " 0.632010435653083,\n",
       " 0.5676439882354302,\n",
       " 0.7761133997948086,\n",
       " 0.4258232788488341,\n",
       " 0.40830264158623547,\n",
       " 0.45647835420339933,\n",
       " 0.5317752172531746,\n",
       " 0.5020692943267668,\n",
       " 0.5413021154766547,\n",
       " 0.5135971149032914,\n",
       " 0.3908425767860518,\n",
       " 0.49576224182692885,\n",
       " 0.6483536339736877,\n",
       " 0.5485482238894555,\n",
       " 0.4492176147115874,\n",
       " 0.5023008732303528,\n",
       " 0.4343779247905027]"
      ]
     },
     "execution_count": 37,
     "metadata": {},
     "output_type": "execute_result"
    }
   ],
   "source": [
    "ct"
   ]
  },
  {
   "cell_type": "code",
   "execution_count": 45,
   "metadata": {},
   "outputs": [
    {
     "data": {
      "text/plain": [
       "0.4176788044591231"
      ]
     },
     "execution_count": 45,
     "metadata": {},
     "output_type": "execute_result"
    }
   ],
   "source": [
    "cm2"
   ]
  },
  {
   "cell_type": "code",
   "execution_count": 44,
   "metadata": {},
   "outputs": [
    {
     "data": {
      "text/plain": [
       "[0.5459828234103381,\n",
       " 0.3692984340037231,\n",
       " 0.4957032362906711,\n",
       " 0.3049389606300409,\n",
       " 0.3250778286215447,\n",
       " 0.3490729300288671,\n",
       " 0.3126503754655304,\n",
       " 0.6387058472222693]"
      ]
     },
     "execution_count": 44,
     "metadata": {},
     "output_type": "execute_result"
    }
   ],
   "source": [
    "ct2"
   ]
  },
  {
   "cell_type": "code",
   "execution_count": 7,
   "metadata": {},
   "outputs": [
    {
     "data": {
      "image/png": "[encoded data removed]",
      "text/plain": [
       "<Figure size 432x288 with 1 Axes>"
      ]
     },
     "metadata": {
      "needs_background": "light"
     },
     "output_type": "display_data"
    }
   ],
   "source": [
    "# Show graph\n",
    "x = range(start, limit, step)\n",
    "plt.plot(x, coherence_values)\n",
    "plt.xlabel(\"Num Topics\")\n",
    "plt.ylabel(\"Coherence score\")\n",
    "plt.legend((\"coherence_values\"), loc='best')\n",
    "plt.show()"
   ]
  },
  {
   "cell_type": "code",
   "execution_count": null,
   "metadata": {},
   "outputs": [],
   "source": [
    "coherence_values"
   ]
  },
  {
   "cell_type": "code",
   "execution_count": 8,
   "metadata": {},
   "outputs": [
    {
     "name": "stderr",
     "output_type": "stream",
     "text": [
      "WARNING:root:random_state not set so using default value\n",
      "WARNING:root:failed to load state from C:\\Users\\f.braulio\\AppData\\Roaming\\Python\\Python38\\site-packages\\gensim\\test\\test_data\\model.state: [Errno 2] No such file or directory: 'C:\\\\Users\\\\f.braulio\\\\AppData\\\\Roaming\\\\Python\\\\Python38\\\\site-packages\\\\gensim\\\\test\\\\test_data\\\\model.state'\n"
     ]
    }
   ],
   "source": [
    "ldamallet = LdaModel.load(datapath(\"model\"))"
   ]
  },
  {
   "cell_type": "code",
   "execution_count": 17,
   "metadata": {},
   "outputs": [
    {
     "data": {
      "text/html": [
       "\n",
       "<link rel=\"stylesheet\" type=\"text/css\" href=\"https://cdn.jsdelivr.net/gh/bmabey/pyLDAvis@3.3.1/pyLDAvis/js/ldavis.v1.0.0.css\">\n",
       "\n",
       "\n",
       "<div id=\"ldavis_el1678422927533132327169986117\"></div>\n",
       "<script type=\"text/javascript\">\n",
       "\n",
       "var ldavis_el1678422927533132327169986117_data = {\"mdsDat\": {\"x\": [0.3766218245951018, 0.3360778418477031, -0.11795524479731198, -0.05887874574140065, -0.0033044228339060874, -0.15199158165472976, 0.009250550884267716, 0.010238200739899525, -0.030969378054499317, 0.32286452297449775, -0.12917827432821563, -0.04088821303084821, -0.025928143214658958, -0.18822331188531363, -0.019612817872650172, -0.027865766004876665, -0.15119219021814267, -0.05998153416053554, -0.041648648177774424, -0.007434669066605692], \"y\": [-0.12662237833333345, -0.09619966202478424, -0.19792114240473252, 0.08598342138315967, 0.15694536671585083, -0.23817895370121378, 0.22307785224748453, -0.0028561806802685965, 0.03768169199505045, -0.08128922340657288, -0.1158674305502217, 0.12481219181500872, 0.19364807397686748, -0.19270048514132854, 0.08153820994892513, 0.03520546425673455, -0.1707137516331789, 0.19108982705504823, 0.022337169416473197, 0.07002993906502884], \"topics\": [1, 2, 3, 4, 5, 6, 7, 8, 9, 10, 11, 12, 13, 14, 15, 16, 17, 18, 19, 20], \"cluster\": [1, 1, 1, 1, 1, 1, 1, 1, 1, 1, 1, 1, 1, 1, 1, 1, 1, 1, 1, 1], \"Freq\": [5.0874969265106325, 5.024330532343592, 5.020961899083076, 5.014223349262053, 5.012755453519992, 5.0121733449070405, 5.012033884345049, 5.008032658729836, 5.0044929232764535, 4.9971971296253095, 4.995125401877762, 4.992944725638076, 4.9899784856211475, 4.987230626119534, 4.986988076813838, 4.983835059318558, 4.980991391269489, 4.979267798296114, 4.9558594343833615, 4.954080899059102]}, \"tinfo\": {\"Term\": [\"vaccine\", \"case\", \"lockdown\", \"pandemic\", \"report\", \"state\", \"test\", \"people\", \"death\", \"day\", \"outbreak\", \"test_positive\", \"amid\", \"patient\", \"country\", \"news\", \"year\", \"live\", \"hospital\", \"quarantine\", \"confirm\", \"time\", \"update\", \"rise\", \"world\", \"infection\", \"health\", \"week\", \"die\", \"late\", \"log\", \"total\", \"confirm\", \"additional_death\", \"additional\", \"patient_recover\", \"filipino_abroad\", \"fatality\", \"past_hour\", \"relate_death\", \"total_active\", \"bring_total\", \"active_case\", \"recovery\", \"total_numb\", \"discharge\", \"climb\", \"union_health_ministry\", \"bring_total_numb\", \"high_daily\", \"victoria_record_new\", \"department_health\", \"death\", \"death_toll_rise\", \"death_toll\", \"tally\", \"breaking\", \"record\", \"dfa\", \"ministry_health\", \"case\", \"hour\", \"report\", \"reach\", \"recover\", \"doh\", \"today\", \"infection\", \"bring\", \"stand\", \"high\", \"rise\", \"daily\", \"past_day\", \"rate\", \"overtake\", \"past_week\", \"hospitalization\", \"consecutive_day\", \"record_high\", \"infection_rate\", \"decrease\", \"positivity_rate\", \"milestone\", \"numb\", \"number\", \"increase\", \"county\", \"double\", \"previous\", \"dip\", \"rapidly\", \"soar\", \"top\", \"western_cape\", \"trend\", \"jump\", \"mark\", \"exceed\", \"single_day\", \"infection\", \"low\", \"surge\", \"continue\", \"drop\", \"case\", \"reach\", \"record\", \"peak\", \"count\", \"worldwide\", \"death_toll\", \"fall\", \"toll\", \"death\", \"spike\", \"hit\", \"country\", \"report\", \"day\", \"year\", \"sale\", \"job_loss\", \"oil\", \"bank\", \"lose_job\", \"economic_recovery\", \"economist\", \"gain\", \"half\", \"shock\", \"performance\", \"credit\", \"debt\", \"weigh\", \"global_economy\", \"stock\", \"world_bank\", \"percent\", \"boom\", \"giant\", \"price\", \"estimate\", \"pain\", \"sell\", \"disruption\", \"owe\", \"market\", \"profit\", \"impact\", \"economy\", \"demand\", \"job\", \"industry\", \"cut\", \"sector\", \"cent\", \"quarter\", \"trade\", \"growth\", \"financial\", \"loss\", \"household\", \"finance\", \"product\", \"revenue\", \"cost\", \"firm\", \"loan\", \"business\", \"boost\", \"company\", \"hit\", \"global\", \"pandemic\", \"expect\", \"big\", \"reuters\", \"fall\", \"month\", \"struggle\", \"vulnerable\", \"donate\", \"worker\", \"apply\", \"community\", \"scheme\", \"amazon\", \"google\", \"commit\", \"relief_fund\", \"organisation\", \"assistance\", \"launch\", \"healthcare\", \"workplace\", \"mco\", \"essential\", \"site\", \"mission\", \"registration\", \"location\", \"test_site\", \"mobile\", \"network\", \"vital\", \"tool\", \"employee\", \"malaysian\", \"social\", \"nstnation\", \"offer\", \"ensure\", \"food\", \"poor\", \"involve\", \"app\", \"initiative\", \"sabah\", \"programme\", \"bernama\", \"donation\", \"employer\", \"group\", \"cover\", \"plant\", \"citizen\", \"support\", \"free\", \"vaccination\", \"benefit\", \"pay\", \"target\", \"service\", \"access\", \"work\", \"provide\", \"effort\", \"government\", \"affect\", \"centre\", \"urge\", \"include\", \"protect\", \"drive\", \"people\", \"fight\", \"public\", \"office\", \"ofws\", \"philippine\", \"president_duterte\", \"community_quarantine\", \"covidquarantine\", \"ang\", \"health_secretary_francisco\", \"filipino\", \"malaca\\u00f1ang\", \"duterte\", \"list\", \"curve\", \"ncr\", \"roque\", \"yung\", \"enhance_community_quarantine\", \"president_rodrigo_duterte\", \"galvez\", \"sa\", \"metro_manila\", \"abroad\", \"mkhize\", \"travel_ban\", \"quarantine_facility\", \"nograles\", \"iatf\", \"cdntopstories\", \"cebu\", \"implementation\", \"clarify\", \"area\", \"add\", \"na\", \"ng\", \"ncov\", \"ph\", \"arrival\", \"personnel\", \"local_government\", \"frontliners\", \"duque\", \"recommendation\", \"disease\", \"read\", \"monitor\", \"icymi\", \"country\", \"quarantine\", \"doh\", \"remain\", \"arrive\", \"region\", \"government\", \"national\", \"affect\", \"include\", \"wednesday\", \"place\", \"new_normal\", \"challenge\", \"reality\", \"music\", \"stress\", \"great\", \"feel\", \"perspective\", \"environment\", \"art\", \"explore\", \"bite\", \"overcome\", \"generation\", \"difficult\", \"song\", \"lot\", \"normal\", \"history\", \"era\", \"write\", \"thing\", \"real\", \"film\", \"future\", \"opinion\", \"look_like\", \"post\", \"decade\", \"life\", \"world\", \"change\", \"experience\", \"love\", \"mental_health\", \"opportunity\", \"digital\", \"kind\", \"devastate\", \"face\", \"time\", \"moment\", \"survive\", \"cope\", \"problem\", \"share\", \"make\", \"good\", \"happen\", \"social_medium\", \"pandemic\", \"wrong\", \"big\", \"long\", \"play\", \"hope\", \"create\", \"bring\", \"story\", \"march\", \"village\", \"july\", \"complete\", \"chennai\", \"bengaluru\", \"period\", \"decide\", \"extension\", \"photos\", \"nationwide\", \"start\", \"city\", \"august\", \"extend\", \"june\", \"goa\", \"ottnews_ottawa\", \"april\", \"chandigarh\", \"relaxation\", \"containment_zone\", \"covidpandemic\", \"average\", \"haryana\", \"induce\", \"day\", \"end\", \"quarantine_period\", \"mid\", \"monday\", \"announce\", \"week\", \"begin\", \"sunday\", \"saturday\", \"lockdown\", \"month\", \"date\", \"set\", \"friday\", \"need_know\", \"tuesday\", \"phase\", \"wednesday\", \"times\", \"join\", \"tomorrow\", \"grind\", \"tv\", \"rahul_gandhi\", \"follow_update\", \"union\", \"pm\", \"discuss\", \"meet\", \"newsnight\", \"video\", \"pm_narendra_modi\", \"conversation\", \"coming\", \"pm_modi\", \"speak\", \"listen\", \"preparedness\", \"tonight\", \"health_minister\", \"discussion\", \"dstv\", \"interview\", \"tune\", \"cm\", \"episode\", \"chair\", \"answer_question\", \"amp\", \"watch\", \"situation\", \"talk\", \"question\", \"exclusive\", \"india\", \"answer\", \"vmnews\", \"states\", \"bjp\", \"live\", \"special\", \"review\", \"minister\", \"detail\", \"mp\", \"explain\", \"today\", \"indian\", \"fight\", \"govt\", \"story\", \"catch\", \"shoot\", \"volunteer\", \"manufacturer\", \"rollout\", \"manufacture\", \"covidvaccine\", \"moderna\", \"approval\", \"approve\", \"jab\", \"sinovac\", \"vaccine_candidate\", \"trial\", \"shipment\", \"johnson_amp_johnson\", \"covishield\", \"pfizer_biontech\", \"russian\", \"pharmacy\", \"blood_clot\", \"jampj\", \"batch\", \"covaxin\", \"inoculation\", \"efficacy\", \"vaccine\", \"effective\", \"pfizer\", \"procure\", \"supply\", \"dose\", \"receive\", \"astrazeneca\", \"roll\", \"develope\", \"development\", \"eu\", \"distribution\", \"race\", \"shot\", \"administer\", \"produce\", \"distribute\", \"fda\", \"delivery\", \"clinical_trial\", \"ready\", \"deliver\", \"vaccinate\", \"vaccination\", \"give\", \"potential\", \"coronavirusoutbreak\", \"maharashtra\", \"uttarpradesh\", \"tally_rise\", \"follow_live_updates\", \"high_single_day\", \"pradesh\", \"madhya_pradesh\", \"telangana\", \"follow_live_update\", \"coronavirusupdate\", \"bihar\", \"pune\", \"wrong_hit\", \"seal\", \"kaduna\", \"take_total_numb\", \"recovery_rate\", \"odisha\", \"tamil_nadu\", \"punjab\", \"tamilnadu\", \"live_updates\", \"assam\", \"reports\", \"updates\", \"kashmir\", \"uttarakhand\", \"gujarat\", \"west_bengal\", \"state\", \"coronaviruspandemic\", \"district\", \"live_update\", \"lakh\", \"health_ministry\", \"karnataka\", \"covidindia\", \"coronavirusupdates\", \"coronavirusindia\", \"rajasthan\", \"newsalert\", \"kerala\", \"indiafightscorona\", \"covid\\u30fc\", \"cross\", \"mumbai\", \"register\", \"fresh\", \"report\", \"yesterday\", \"spike\", \"govt\", \"positive\", \"hour\", \"case\", \"today\", \"include\", \"centre\", \"health_department\", \"cases\", \"stand\", \"day\", \"surge\", \"trump\", \"trust\", \"nation\", \"analysis\", \"twitter\", \"criticism\", \"criticize\", \"debate\", \"president_trump\", \"joe_biden\", \"american\", \"comment\", \"handle\", \"win\", \"failure\", \"biden\", \"donald_trump\", \"dr_anthony_fauci\", \"historic\", \"voter\", \"slam\", \"praise\", \"speech\", \"defeat\", \"editorial\", \"leadership\", \"aide\", \"opposition\", \"pres_trump\", \"climate_change\", \"response\", \"emergency\", \"president\", \"white_house\", \"election\", \"governor\", \"president_donald_trump\", \"approach\", \"task_force\", \"administration\", \"respond\", \"poll\", \"accuse\", \"attack\", \"political\", \"trump_administration\", \"diagnosis\", \"defend\", \"declare\", \"action\", \"team\", \"call\", \"leader\", \"policy\", \"address\", \"lead\", \"claim\", \"national\", \"crisis\", \"expert\", \"fail\", \"pandemic\", \"public_health\", \"government\", \"head\", \"police\", \"observe\", \"comply\", \"social_distance\", \"compliance\", \"travel\", \"traveller\", \"flight\", \"norm\", \"flout\", \"distance\", \"resume\", \"guideline\", \"fan\", \"game\", \"permit\", \"precaution\", \"activity\", \"guest\", \"violate\", \"water\", \"match\", \"muslim\", \"fine\", \"football\", \"wear_mask\", \"restrict\", \"club\", \"movement\", \"directive\", \"mask\", \"suspend\", \"passenger\", \"airport\", \"arrest\", \"breach\", \"hotel\", \"player\", \"airline\", \"fly\", \"tourism\", \"mandatory\", \"protocol\", \"train\", \"prevent_spread\", \"order\", \"issue\", \"church\", \"holiday\", \"follow\", \"check\", \"require\", \"quarantine\", \"public\", \"advice\", \"rule\", \"urge\", \"ban\", \"authority\", \"break\", \"official\", \"november\", \"late\", \"watch_live\", \"publish\", \"statistic\", \"provide_update\", \"weekly\", \"tracker\", \"cdnpoli\", \"headline\", \"projection\", \"covidab\", \"ontario\", \"trudeau\", \"commission\", \"prime_minister_justin_trudeau\", \"release\", \"datum\", \"january\", \"update\", \"december\", \"thread\", \"provincial\", \"september\", \"model\", \"health_official\", \"sabcnews\", \"guidance\", \"senior\", \"province\", \"october\", \"chief_medical_officer\", \"early\", \"canadian\", \"quebec\", \"federal\", \"february\", \"accord\", \"give\", \"ottnews\", \"source\", \"track\", \"relate\", \"vaccine_rollout\", \"tuesday\", \"africa\", \"month\", \"thursday\", \"expect\", \"public_health\", \"news\", \"friday\", \"week\", \"follow\", \"wednesday\", \"outbreak\", \"begin\", \"parliament\", \"lawmaker\", \"proposal\", \"relief\", \"supreme_court\", \"stall\", \"deal\", \"senate\", \"session\", \"violence\", \"bill\", \"cancel\", \"file\", \"power\", \"relief_package\", \"festival\", \"judge\", \"legal\", \"celebration\", \"budget\", \"money\", \"unveil\", \"relief_bill\", \"event\", \"house\", \"stimulus_package\", \"inquiry\", \"postpone\", \"farmer\", \"annual\", \"sign\", \"ongoing\", \"aid\", \"massive\", \"propose\", \"package\", \"small_business\", \"fund\", \"congress\", \"hold\", \"host\", \"plan\", \"season\", \"light\", \"seek\", \"celebrate\", \"amid\", \"crisis\", \"pass\", \"push\", \"pandemic\", \"delay\", \"spend\", \"law\", \"concern\", \"government\", \"set\", \"call\", \"party\", \"close_contact\", \"test\", \"variant\", \"result\", \"symptom\", \"researchers\", \"find\", \"evidence\", \"rapid\", \"antibody\", \"mutation\", \"rapid_test\", \"icmr\", \"animal\", \"trace\", \"ability\", \"human\", \"negative\", \"asymptomatic\", \"develop\", \"study_show\", \"sample\", \"study\", \"conduct\", \"carry\", \"high_risk\", \"detect\", \"test_result\", \"lab\", \"infectious\", \"research\", \"identify\", \"researcher\", \"screen\", \"test_kit\", \"scientists\", \"exposure\", \"study_find\", \"strain\", \"undergo\", \"expose\", \"show\", \"people\", \"infect\", \"transmission\", \"contact\", \"positive\", \"virus\", \"population\", \"wait\", \"reduce\", \"link\", \"suggest\", \"risk\", \"long\", \"claim\", \"treat\", \"nhs\", \"health_care_worker\", \"medical\", \"hospital\", \"inside\", \"doctor\", \"frontline\", \"nurse\", \"ppe\", \"system\", \"commissioner\", \"hospitals\", \"bed\", \"critical\", \"ventilator\", \"remdesivir\", \"overwhelm\", \"intensive_care\", \"aiims\", \"equipment\", \"oxygen\", \"duty\", \"mild\", \"care_centre\", \"army\", \"save_live\", \"private_hospital\", \"transfer\", \"dedicate\", \"patient\", \"health\", \"treatment\", \"facility\", \"care\", \"cure\", \"build\", \"body\", \"admit\", \"healthcare_worker\", \"shift\", \"doctors\", \"condition\", \"medicine\", \"ward\", \"icu\", \"describe\", \"sick\", \"lagos\", \"battle\", \"chief\", \"line\", \"officer\", \"staff\", \"fire\", \"run\", \"fight\", \"suspect\", \"health_worker\", \"work\", \"recover\", \"school\", \"parent\", \"space\", \"scare\", \"child\", \"store\", \"closure\", \"learn\", \"restaurant\", \"safely\", \"remain_open\", \"gym\", \"eat\", \"parents\", \"exam\", \"finally\", \"children\", \"teen\", \"pet\", \"shelter\", \"fee\", \"girl\", \"teach\", \"mom\", \"meal\", \"reopen_school\", \"online\", \"student\", \"kid\", \"shut\", \"close\", \"university\", \"shutdown\", \"teacher\", \"education\", \"class\", \"virtual\", \"work_home\", \"migrant\", \"owner\", \"college\", \"stay\", \"option\", \"miss\", \"return\", \"home\", \"force\", \"open\", \"send\", \"leave\", \"reopen\", \"summer\", \"amid\", \"safe\", \"pandemic\", \"bring\", \"work\", \"turn\", \"measure\", \"strict\", \"slow_spread\", \"social_distance_measure\", \"ease_restriction\", \"restriction\", \"lift\", \"ease\", \"anti\", \"impose\", \"prime_minister_boris_johnson\", \"enforcement\", \"weekend\", \"tough\", \"relax\", \"briton\", \"crowd\", \"tighten\", \"alert_level\", \"stage\", \"protester\", \"exit\", \"boris_johnson\", \"level\", \"christmas\", \"curfew\", \"easter\", \"mall\", \"confusion\", \"enforce\", \"curb\", \"protest\", \"brit\", \"introduce\", \"pub\", \"johnson\", \"exercise\", \"tier\", \"stay_home_order\", \"restriction_ease\", \"street\", \"lockdown\", \"place\", \"rule\", \"part\", \"break\", \"ahead\", \"limit\", \"government\", \"plan\", \"decision\", \"remain\", \"set\", \"week\", \"local\", \"vanguardnews\", \"cluster\", \"expert_warn\", \"epicenter\", \"control\", \"ptf\", \"palliative\", \"danger\", \"nstworld\", \"epidemic\", \"fg\", \"wave\", \"buhari\", \"new_youtube\", \"epicentre\", \"china\", \"asian\", \"fears\", \"gravitas\", \"spread\", \"deadly\", \"nigerian\", \"europe\", \"winter\", \"resurgence\", \"ncdc\", \"panic\", \"kano\", \"spark\", \"scam\", \"warn\", \"thecable\", \"origin\", \"nigeria\", \"caution\", \"outbreak\", \"lock\", \"fear\", \"chinese\", \"malay_mail\", \"quickly\", \"world_health_organization\", \"risk\", \"virus\", \"prevent\", \"grow\", \"scientist\", \"stop\", \"worry\", \"fmtnews\", \"expert\", \"concern\", \"emerge\", \"link\", \"country\", \"global\", \"lead\", \"wrong\", \"cop\", \"nurse_home\", \"woman\", \"year_old_man\", \"year_old_woman\", \"mother\", \"inmate\", \"reportedly\", \"daughter\", \"baby\", \"man\", \"diagnose\", \"funeral\", \"couple\", \"relative\", \"mum\", \"father\", \"dad\", \"pass_away\", \"quarantine_hotel\", \"sydney\", \"dozen\", \"test_positive\", \"die\", \"year_old\", \"australian\", \"victim\", \"victorian\", \"son\", \"wife\", \"contract\", \"victoria\", \"nsw\", \"hotel_quarantine\", \"jail\", \"prison\", \"care_home\", \"complication\", \"husband\", \"news\", \"family\", \"resident\", \"young\", \"person\", \"age\", \"people\", \"reveal\", \"breaking\", \"kill\", \"isolation\", \"infect\", \"visit\", \"test_negative\", \"home\", \"leave\", \"catch\"], \"Freq\": [190645.0, 278713.0, 202605.0, 249877.0, 117181.0, 78223.0, 76000.0, 107810.0, 80601.0, 78370.0, 70006.0, 59669.0, 75385.0, 54938.0, 79884.0, 60432.0, 45271.0, 46882.0, 43565.0, 56647.0, 42197.0, 44069.0, 40408.0, 39850.0, 39186.0, 43719.0, 37937.0, 51595.0, 36426.0, 35068.0, 2353.123205611867, 30205.264903476345, 42197.972734348004, 1838.313281589358, 7158.01582982195, 2278.1109811534975, 1025.5095891705867, 7208.366501033732, 3192.643580714441, 2676.8060919733243, 1361.5232521553378, 3265.6006757355954, 7781.747614016886, 18689.347102038704, 5462.5340441190765, 4322.964771183024, 3082.6941558234066, 1919.4908943593746, 2190.7679800718342, 1306.0347573505167, 973.1037885215887, 4459.630878757861, 67441.12761166727, 2618.23490301268, 10074.244501230893, 5270.379441739417, 20037.512012852145, 24594.761539877745, 808.6934335443403, 1377.9642876530627, 140028.29933412242, 11137.773984989968, 55186.39077755062, 4807.975318365907, 4865.518942607943, 4066.0735915310734, 5099.803698450522, 4910.731790226687, 3431.0385954314515, 2716.8811159990287, 21088.160190334125, 39850.923256977345, 17053.997859972136, 1259.3187037728485, 9844.398280872578, 992.2562890072272, 1571.977140571625, 2841.066420494435, 1176.8116162842828, 3533.691707569502, 2058.3347089252766, 1378.7368567168255, 1842.2964140539, 1110.5888223789864, 32108.284467918766, 13203.305237314986, 23158.436714553794, 5457.4095895397495, 4496.636268126843, 1884.6355773704008, 1421.0760200333266, 1094.3045287957166, 4113.4125591339, 1829.2689791872842, 1106.2463440901142, 2530.5792228400946, 6152.2061157592525, 5825.434624521642, 1840.125174909464, 2065.9340459308023, 38804.385989359216, 9951.874618522157, 22672.079146200147, 16160.532952036745, 5507.348089861776, 90827.27589004448, 7573.282135792579, 20075.277129454753, 3189.550303176404, 4187.234690044721, 3682.4215889633642, 6547.371640046595, 4709.417704281566, 2824.7821269111655, 13159.880454426268, 5172.97726161864, 6019.760527948659, 8701.240871327054, 6822.033391817742, 4622.568138504129, 45271.76379341829, 4385.173998121383, 1106.1700175441326, 1343.206449875018, 4091.073239488617, 1868.8566863865651, 1910.5575402225543, 1172.0134709693784, 1923.7262309076034, 6261.712420740893, 2123.451372964183, 1395.8812126152147, 1148.9682622705425, 1736.0723886456526, 1427.705548437417, 1287.239514463559, 4054.859340104732, 1102.8778448728704, 3421.664796331949, 1124.8256626812856, 1009.5996191871051, 4212.883628325322, 2802.736334134637, 1086.4169815165587, 3653.214274210731, 1620.846345151472, 1039.2291732284657, 10262.799607215009, 1669.1315443299857, 17723.9602711858, 17469.365584608182, 11884.743343256901, 7476.524136436681, 6581.053169853336, 5922.618635600876, 4835.104263193896, 5384.897099294701, 3922.075042363819, 3631.266456402316, 3062.8179751643593, 3038.6753755751024, 3347.0422157833373, 2605.2059738588996, 2113.5748549503965, 2346.2217237195987, 2022.4914110454724, 6149.778549917975, 3812.335953321742, 2203.560907964899, 18381.29741454784, 4886.681635043673, 10988.174985783135, 18596.38602907031, 16288.572986515435, 64495.85741180928, 8583.791544871236, 7727.826650343037, 4398.342688806432, 4863.636426344837, 4388.466170792645, 3794.77769907501, 3966.8139227786723, 3908.2963840596676, 17955.881688469926, 2347.453572458528, 14183.75111566025, 2085.249985506065, 1519.205332128002, 1186.1054963428994, 1316.644621177602, 1207.4869047209972, 1094.9531764152193, 1715.0140193800557, 9376.310242437417, 2007.6017129750785, 2103.25538203499, 1165.8494252478595, 3063.168084483276, 3808.1413658675256, 1680.1285636052646, 1261.5030943077707, 2238.2958560019233, 1071.321093471006, 1290.761863667273, 1603.6056283573357, 1150.0947032850506, 1302.0152364978508, 9277.280561528332, 2440.8565669523236, 2462.2379753304212, 4357.305959999721, 10826.870000298895, 6562.96703479297, 6852.178716538819, 4328.047190640219, 3314.1182986051604, 2960.7623917250176, 2483.6193837085193, 2194.4077019626698, 2158.3969089048205, 2484.7447209915767, 1980.5936181816917, 1773.5315580990602, 11829.545519503376, 4460.836990041037, 1794.912966477158, 5148.41806998934, 12513.750587602508, 11131.836404007554, 19523.476523769416, 4207.636101353037, 6816.16792348097, 5141.666046290994, 8739.369340226714, 4233.5188588633655, 20581.29356984373, 9742.044859431197, 7352.953807499531, 26313.761689740055, 8016.90280450362, 9950.232256796884, 8327.495894627567, 8205.959468057326, 5492.7712786050215, 5204.68493414223, 13131.560756001227, 7647.792175660668, 4829.947618883989, 4517.103854193927, 1357.8379884524024, 1990.5949946798073, 2894.69441816843, 2375.653528718548, 2068.2822427753426, 6475.063243440934, 1060.5998218260058, 7825.0199168691515, 2520.89490559281, 4019.4706623342263, 10715.210726452335, 1552.619059764397, 1283.5284467958031, 6076.493883646447, 1319.5573154777908, 3088.3495873341126, 3895.6214262398944, 2014.2389397523614, 13775.412760128644, 4817.735284069511, 2524.272612031746, 1148.4201892383503, 2039.0087869712277, 3286.5083650850434, 1266.6399146011215, 1744.0224246374555, 1696.734534492347, 1397.244563573326, 1360.0897927450267, 1691.1050237607863, 15958.53702182782, 10572.221153870696, 6895.02474401535, 6255.512324910073, 6102.389633011626, 8816.939707770118, 3544.3399565905165, 2941.982308313539, 2881.183592412685, 2386.9125501816693, 2152.724903748751, 1938.8034959494503, 21561.026101876872, 32644.406830173262, 3769.520385852938, 4644.346353537447, 55335.83868694749, 29563.938557863334, 8016.423281742211, 8257.366341053, 5085.699994891792, 4624.080114903828, 16059.868214995911, 7508.641413755449, 5193.786600937755, 5532.6831469777, 4609.443387001771, 3843.829927509537, 2082.0020909606087, 9936.577932797194, 2176.6885953617784, 1521.5901056094983, 3352.5628593204938, 4670.4668798809635, 5099.859167281618, 1136.2380528140393, 1211.1064516428712, 1425.8025953431986, 1114.2179355114415, 1513.883064553589, 1372.954313816964, 1023.9354545707912, 2652.3231290978883, 1130.73302348839, 4111.155900394983, 2720.585492735941, 2941.887671627048, 2107.3252258585962, 11989.953871264426, 6439.783305144686, 3044.2812170841266, 2602.7778651670437, 5383.918680485128, 7783.010460603143, 2168.9815543058694, 17769.133657331182, 1727.4782023887865, 11130.068290597987, 38933.76940272293, 14451.802985694845, 6903.306774364367, 3245.765290402895, 3362.471912106663, 2480.5662141376265, 2069.89102644418, 2073.1940440395697, 2002.7296686712573, 20571.193584086734, 41504.618097801205, 2700.767387163603, 4645.143744982976, 3490.1885924617295, 4800.38557196629, 9700.9626776594, 9520.397715778097, 6193.157991355592, 5990.572912171693, 2908.857495673151, 64035.60212181912, 7134.5180060416415, 8616.471900506465, 7734.566202537429, 4123.266964911412, 5836.43209105351, 4428.24558955239, 5070.132008923111, 4263.094709782908, 20999.67218726555, 2301.718642971387, 8447.498387088743, 5984.019136705017, 1075.0340367611605, 2955.5010979295853, 6061.529427756763, 7128.700101657601, 2980.2145240620257, 1447.9821038507166, 7527.484932431073, 29043.892393374925, 28344.05309880627, 5178.586112297753, 14852.769105596723, 8919.30015870806, 1537.849107968682, 1368.2251376960223, 17721.77321206277, 1370.4718127989715, 2223.085014368168, 1344.6350491150563, 1890.5770991316958, 2055.707719198457, 1404.1719393432084, 1424.3920152697508, 67494.61344279787, 19204.578780009197, 971.6869820255004, 791.9529737895697, 14808.958941089215, 23488.98820133319, 35482.86323842714, 17582.47935567992, 9551.739200188242, 7378.081038084955, 66409.46936807345, 16115.400513454137, 3719.370632932291, 7906.049687278001, 5998.622524874187, 4172.075666176541, 4604.560623494249, 2843.167342782129, 3006.051287745941, 2096.028781116157, 9704.792787940924, 5238.949881708426, 1982.699601837393, 2265.46151449332, 1082.7985940990854, 2897.187533641284, 4679.036411806412, 24905.489735360938, 9112.339256661839, 15095.222265715023, 1677.4962675421066, 11698.713100597997, 1243.2547588205045, 1885.07941770618, 1081.6765230171177, 6588.801393315886, 11190.414900466509, 7070.169887480143, 1281.4051756074155, 4865.300211413093, 8050.860013120145, 1486.744183607553, 1120.9490108859964, 2326.05335291959, 1354.339795935333, 2171.2075436080113, 1209.5926263614656, 1334.1425164599098, 1287.015531017255, 32244.95668251339, 30852.466469791147, 11763.793223352137, 10509.317753711955, 9335.631401973464, 3928.3708579698427, 4613.956289052269, 3958.666777182978, 2347.3727034769818, 2182.4282544276903, 2524.65993442792, 44743.70646455455, 6021.033425840096, 5593.524343610302, 10241.14276512161, 8418.899328005637, 3825.1403184287906, 6108.5549702335975, 19950.423837390405, 7867.962426759366, 14197.565400140653, 9854.028241842663, 5405.0164018396845, 4778.90073810156, 7198.5499574074865, 3659.7580782869136, 1791.148633270023, 3014.6050160664313, 2405.5295921938045, 4102.239701553264, 2598.651068055857, 3251.2318793479567, 7194.305529366562, 7434.115713678781, 2227.263614474987, 1926.9703305795983, 10170.710693064675, 1298.7949805228131, 3060.2326175063668, 1172.5232463053173, 1961.9868619172232, 2297.296677150237, 1079.1458294049844, 1404.9056815459185, 1045.1904050775904, 1360.3391871162141, 1079.1458294049844, 1395.355718453839, 1656.388042970679, 190645.9132071832, 6380.436452519342, 7090.3170423639185, 1121.5901098142267, 9731.412390829018, 17842.514377035215, 17469.00470943388, 11437.672463280558, 6729.540658885359, 6468.508334368519, 5687.533574838462, 5980.399109662233, 4465.138299052285, 4360.08870503941, 4570.18789306516, 4016.2900337245487, 3265.0262704809606, 3260.7818424400366, 2922.2887061763295, 4256.100218036767, 3018.8494441073553, 7887.208407047442, 4743.1483357328225, 5876.4106226595895, 6554.458002197235, 4343.110992875714, 3306.4094438799716, 13561.786944234736, 18001.03701382638, 1200.2170353068857, 1322.2354030367908, 1957.8401731207516, 1740.4256269838295, 1962.2772046745663, 2135.321435273341, 3160.275724204545, 3899.041477914698, 1913.4698575826042, 2929.5500834061786, 3235.705260619395, 1254.570671841116, 1435.3797076590665, 1355.5131396904014, 1809.199616067958, 2052.127093639315, 1896.830989255799, 3505.2549275136403, 3144.7461137661935, 1094.8375359037857, 4663.320163059287, 2412.635907386762, 2531.326501451306, 2533.5450172282135, 1371.042750128753, 1203.5448089722468, 1188.0151985338953, 1770.375589972079, 78219.32000431149, 9688.258397754473, 9139.175742969901, 8064.3048490582805, 7593.979504353919, 8493.587651889855, 4591.218400309796, 4070.976450625019, 3321.118118030329, 2772.0354632457556, 2801.985426234005, 5446.456232307586, 2671.09299539647, 2815.296520895449, 3956.7228881142896, 2554.6209171088335, 2714.354053046164, 5842.461298485552, 8153.045480134575, 55171.15959802086, 4224.054039231627, 10667.733113259075, 14537.933886073979, 13667.166443637836, 10665.514597482168, 47857.82233944572, 13494.122213039062, 9511.886393490337, 6942.845123831606, 3743.7453735311824, 3921.2266356837717, 3861.3267097072726, 6252.886717213414, 4554.612889990824, 18408.621744363547, 2129.03972751168, 11295.491106631007, 5570.913052688775, 2321.6777363294214, 1658.023093234776, 1040.022544715434, 2508.7481726379788, 8585.196809160594, 2597.8293327849115, 14974.543020699308, 2461.9805635608395, 7765.650135808817, 3049.9162205305925, 1925.2665736755728, 4014.219779121134, 4525.322935464157, 2111.223495482294, 1232.6605535331748, 1349.5795762260234, 3320.500244476899, 1740.4231663706885, 1338.4444312076569, 1789.4178044515013, 1067.8604072613502, 1811.6880944882344, 1026.660370693394, 1351.8066052296967, 1443.114794380302, 1068.9739217631868, 27042.813191604953, 13071.54673706047, 11919.059227659534, 7747.833903779431, 5968.43772984446, 5560.891422172244, 4823.744821956381, 4538.685109486198, 4713.506886274552, 4250.284853510504, 4145.614490337859, 3856.100719860329, 3818.241226797883, 3460.8030717083175, 2833.8944071742817, 2444.1643315314536, 2646.823970865724, 2526.564404667365, 8176.536986986543, 4750.252864835162, 9520.548990703383, 16247.290096298604, 7008.460274559893, 5187.864064056966, 6694.449185041957, 11936.87545968892, 10586.18236896106, 13019.211555474147, 13999.1043170904, 9658.624788931129, 4367.203876203353, 17283.972097508526, 4925.074641623516, 4951.798989667595, 4594.36083457803, 15263.254582929454, 2117.9048058990065, 1220.0014142314067, 14616.85238696236, 1332.5151070447914, 18712.571420453514, 2971.6851807770436, 6305.1790992285, 2863.5837896426146, 2071.5756382699656, 1874.1251381366728, 5849.608950876266, 9500.788590212574, 3182.3725859472047, 3350.040049747543, 1563.0578697702563, 2813.945395754357, 3551.902851559792, 1810.146763791807, 3479.099873857014, 1800.2190850141553, 1347.9581629211384, 1471.5026099319136, 4371.487888425918, 1550.9240401531267, 6166.191596341378, 1606.0778111400798, 2082.6063924673563, 2464.270487697073, 1437.3072719200027, 8677.894327087231, 7536.211267657298, 6433.135847918233, 4703.513589767376, 4989.210123479795, 4712.338193125289, 5102.826891712919, 3839.805536111688, 3673.2411477310893, 3198.9187172432908, 3246.350960292071, 3201.1248680827694, 8868.72637470209, 5371.97729412925, 2935.2836919256542, 19732.91618371215, 15162.874719733198, 3204.434094341986, 5261.669752155344, 16227.342499781396, 5665.395355779842, 5403.966481301683, 27072.78002665589, 10963.466596786575, 4107.852863108281, 8515.742240385589, 7713.806410235287, 4791.759623346502, 4510.47539131304, 4754.2550590753735, 30521.6581829914, 3629.6147732191, 35068.25198333661, 7757.146905147958, 1909.4342149616307, 1115.2447627209524, 2106.5734406951324, 1714.5480089507976, 1486.9930169612699, 1292.106810950437, 1058.9192696542377, 1040.895111872889, 1325.9021067904655, 1494.8785859906102, 1797.9097386895355, 1607.5295721240395, 1067.9313485449122, 11921.853862500848, 11847.504211652786, 7650.1284683212, 40401.149666893165, 5322.759094804545, 1820.4399359162214, 1399.1252477771948, 5007.336333630943, 2585.340131762208, 11329.30967543901, 2182.04960140453, 2099.814381527127, 5274.319170767171, 13847.05921552116, 4023.893224686103, 1333.7876758198058, 17323.468647598795, 8641.45714629538, 2374.6827876926945, 4340.44249572104, 5243.903404511145, 12504.25946081068, 15816.198453133506, 5328.391644111217, 4234.550568755616, 5380.211097732595, 6585.5766493602905, 4486.8887776944985, 8043.280409926869, 3830.1335285366044, 14039.692401809323, 7652.381488043869, 8333.919954151117, 6070.761642730517, 14619.844980396485, 7156.717149056779, 11569.256275903213, 7955.412640742795, 5873.622416997016, 8749.602092983474, 6401.9555419628, 2288.044461766637, 2796.6229816024065, 1706.8118676686152, 6714.354216820805, 2071.199993968529, 1077.515809058641, 11967.802663476006, 2650.197078089251, 1725.8137024756659, 1062.9849942061905, 4086.5122385045556, 9135.411522236798, 1462.0235251542558, 3812.6622662852956, 1749.2865572373166, 1742.5800273054165, 1226.1772225490968, 1087.5756039564915, 1857.7087911363708, 5128.259887926396, 4386.070575462767, 2163.9736580264826, 2134.912028321581, 7629.795552525191, 8779.965435846085, 1235.119262458297, 1179.231513025795, 5702.785952092518, 2004.1346946495262, 2025.3720394338773, 8122.725502519859, 5779.91104630937, 5579.832903341012, 3633.8214681012882, 2784.327676727256, 2425.5283253705925, 2113.67468353723, 10110.093872339634, 4405.072410269818, 13078.851122194148, 3434.861080121581, 25307.090698025615, 3529.8702541568346, 2966.5217398772133, 7061.9760182909695, 2976.5815347750636, 41052.90522313877, 18042.801026788984, 6051.52550855133, 6848.484815458811, 67894.67352058088, 6153.241212518484, 5007.542349152191, 3632.703713112638, 7180.458047087874, 10093.327547509885, 5988.931229186928, 4225.113857097161, 3696.415747465691, 2056.0543133761025, 76000.01854547042, 13765.698426360503, 11465.249434513305, 11165.922007211548, 1347.5339611112734, 22686.104190555514, 3487.6690124934867, 2469.7315443661687, 2645.740555925628, 1751.1215035406062, 1087.4442115457032, 2618.8347197636726, 2025.7852476939026, 2168.161964050917, 1301.5698243345992, 3169.283284577013, 3831.839500065168, 2776.906507215161, 2699.5522282495394, 1341.9285785775326, 2820.628490978339, 15319.510464713436, 6920.405276156314, 4000.00097607739, 2306.0543743809394, 5739.911714550515, 3147.982830948798, 4153.588457501886, 1279.1482941996362, 5335.203095614434, 5623.319757848708, 4056.0548014147976, 4561.660305958212, 2924.8886061059166, 2372.1978882790804, 2255.605931577273, 2615.4714902434284, 7469.732764462907, 3206.2788092997016, 4210.763359346042, 8931.616529262492, 49724.22738030733, 11903.59034865183, 3816.144428970694, 3823.991964517931, 13385.653490572882, 17153.591629753402, 3681.6152481609165, 4363.22976426379, 4206.279053319049, 4808.297137442804, 3593.050204127813, 4261.211802149709, 4171.525681609857, 3865.471795267613, 9061.604283785664, 3162.4616983457277, 2949.009576610137, 7600.018966006696, 43565.5780462341, 5538.520842928753, 20302.667073713674, 2437.8479166643797, 7105.708789355854, 1643.5813373640497, 7500.033498456866, 1967.1298166264191, 1558.2004886698132, 3823.0398435063985, 3304.0141580230143, 3261.3237336758966, 1264.9846793382912, 1700.8763805667609, 1630.1001507281176, 1537.9787087159154, 1481.807097732865, 1671.6671428555749, 2036.7826142454012, 1112.1978974643944, 1072.8777697762594, 1741.3199404745571, 1646.9516340230327, 2394.0340600976006, 1355.9826891308326, 1536.8552764962544, 54935.83554142313, 37783.27241163891, 12095.994709090037, 9686.232597917182, 8097.6994393165205, 4881.312994427065, 5077.913632867741, 4549.900489627068, 4717.291890356559, 4371.274766700968, 3764.6213680840265, 3154.597672808101, 4021.8873463863965, 2822.0617357884435, 2611.9799107118356, 2854.6412701586128, 2533.3396553355656, 3000.6874587145435, 3991.5546764555493, 12889.137856170706, 6941.6876852853475, 6019.3498329436625, 3854.4959456569063, 8527.973979446686, 3901.6800988826685, 5190.25685483384, 10922.008039544287, 4269.042434711818, 4725.155915894185, 8207.795796843298, 5754.219829103666, 28352.862365601773, 5149.974763254996, 2382.3393478563235, 4816.200844279357, 14304.116507509689, 4440.9851971087555, 3755.516611829926, 6450.348991210422, 5002.128597802699, 1448.220393407723, 1066.28446598929, 1448.220393407723, 1376.5374040975184, 1114.4464744320835, 1596.0665588600193, 2697.07247279644, 1615.1073528955424, 1299.2541812474542, 1211.8905380256429, 1154.7681559190735, 1980.242579694396, 1142.4476421313823, 1697.9908092854662, 1116.6865678480276, 1127.887034927747, 1557.9849707889734, 8914.451748748697, 14481.083887369256, 5107.412988352062, 10380.592889483973, 22987.838634416166, 4728.837201057545, 4764.678695712647, 4072.489830185986, 3718.555070466852, 3311.9781154730367, 2685.8720057167207, 3403.8219455267363, 2461.8626641223314, 2283.7752375547925, 2026.1644947212458, 6989.0914577449275, 2665.7111649732256, 4731.077294473489, 15334.559478843878, 26657.111649732255, 12170.427528823137, 16646.134173879025, 8531.395774622293, 12630.766725799605, 12401.157150665356, 3632.3114739530124, 34332.79173946398, 7320.625283304622, 36167.42824712202, 5409.8255995044865, 6322.66366650162, 4579.870988897276, 19444.790681436367, 5664.114901651585, 1393.7641228120644, 1251.2706661667414, 1414.9154952828546, 31764.908530606586, 9137.392907381329, 13111.62447162979, 4409.504545094718, 9458.003184833306, 1108.7772095214186, 1148.8534942029157, 6389.940946438698, 3874.040852544716, 4048.817982961245, 1264.6294277272405, 2865.45435472704, 1574.1074038788013, 1262.4029674671574, 3976.4580245085417, 1318.0644739692366, 1191.1562391444959, 6672.701399469261, 11714.520658427598, 5280.050506787237, 4130.0837824542805, 1715.4876303940825, 1638.6747514212132, 1306.9321726688206, 3830.6248774730943, 6061.53805807643, 5858.9301744088625, 3066.949008264567, 2809.792848224961, 2468.031198302194, 2867.680814987123, 2046.1169790164333, 2021.6259161555186, 1866.8869280797383, 1686.5436470130014, 3908.550986576005, 136195.91379967766, 13979.943973062225, 12839.996319899643, 2442.4269053112375, 6017.008852874767, 5431.449804472893, 4479.6380432873375, 11508.573084369908, 7475.340323229244, 4272.577239099603, 4848.117216331102, 4981.704831936093, 4509.695256798461, 4028.779840620496, 12560.610261300868, 5907.617946722408, 2013.5075791416082, 1454.1999182689392, 8778.361425894602, 1106.4323825976164, 1103.1097628300558, 1541.69557214803, 3139.8756803445867, 3959.4552230094882, 4194.253686583757, 16686.196472688378, 2462.0612477622635, 1851.8067504536682, 1860.6670698338294, 1714.4718000611713, 1047.7327667040493, 1032.2272077887674, 1080.9589643796533, 33990.40022214299, 7190.149177000727, 6454.742668447355, 9117.268642185763, 2275.9945407788805, 2022.3678985217693, 2611.5791373024817, 2950.486353593644, 2282.6397803140017, 2258.2739020185586, 1059.9157058517708, 27945.447325028086, 3441.126539270064, 1814.1503930879835, 2992.5728706494087, 1790.8920547150608, 61256.92557466623, 3331.4800869405703, 18121.568212274473, 10276.862941064346, 8041.847377418711, 2549.5569016413547, 4270.673941237646, 12034.528798103804, 26967.489573442806, 5851.133410673881, 6916.586816138252, 6231.019604098287, 8129.343031297803, 5529.946833143042, 5227.588434295044, 8976.611072025707, 7927.7707653991365, 4290.609659843009, 5197.684856387001, 10630.168176348272, 6423.7315506167915, 4602.935917993687, 4285.071960230409, 2640.9434912077445, 3951.519944796267, 13157.439949743162, 2017.5400942407205, 1644.8174283292196, 3327.017070938649, 2097.8019072541115, 2186.859535392258, 2207.7495963135516, 1944.9746194614904, 14462.519018878713, 3998.797451091826, 1501.8854325519478, 4292.357780880531, 1145.6549199993628, 2013.142186678343, 2040.629108943203, 1421.6236195385568, 1207.225625872649, 1617.3305060643597, 1197.3303338572994, 2285.8124555457534, 59666.411898776794, 36424.56990850181, 8841.993154160149, 7666.6523581147385, 4377.017501456299, 2742.095365142429, 2670.629367253793, 3807.4884721284006, 12005.188168400233, 4820.106688365841, 4415.499192627103, 3375.394054124802, 3051.048371399455, 2950.9959743553645, 2665.1319828008213, 2443.037650900753, 2145.079413549671, 45275.35887778672, 15085.922415845738, 12982.623124138654, 3191.781413395538, 9997.543366174863, 5796.442167213668, 43409.54659444803, 6597.960820456983, 13454.29871020365, 5425.918455083355, 4223.090736773083, 7231.259509439356, 5273.091167290733, 3618.3784469461643, 4683.771553932136, 3926.2319763125956, 3653.561707445185], \"Total\": [190645.0, 278713.0, 202605.0, 249877.0, 117181.0, 78223.0, 76000.0, 107810.0, 80601.0, 78370.0, 70006.0, 59669.0, 75385.0, 54938.0, 79884.0, 60432.0, 45271.0, 46882.0, 43565.0, 56647.0, 42197.0, 44069.0, 40408.0, 39850.0, 39186.0, 43719.0, 37937.0, 51595.0, 36426.0, 35068.0, 2353.123205611867, 30205.264903476345, 42197.972734348004, 1838.313281589358, 7158.01582982195, 2278.1109811534975, 1025.5095891705867, 7208.366501033732, 3192.643580714441, 2676.8060919733243, 1361.5232521553378, 3265.6006757355954, 7782.856871905339, 18692.71033155895, 5463.6350499842065, 4324.062162073445, 3083.8073859534484, 1920.604124489416, 2192.8901940922965, 1308.2854319166322, 975.3471727810353, 4897.606813673271, 80601.00806609353, 3398.0688249826485, 16623.84095545114, 8796.710269133677, 33491.810723055794, 44670.0386693325, 1501.123253526287, 2599.0748795412696, 278713.3975636126, 21803.288582472138, 117181.78272117041, 12582.033131968603, 14053.370035261669, 12083.594264163705, 38575.52815493141, 43719.61586251704, 17232.60924179889, 6579.333162989359, 21088.160190334125, 39850.923256977345, 17053.997859972136, 1259.3187037728485, 9844.398280872578, 992.2562890072272, 1571.977140571625, 2841.066420494435, 1176.8116162842828, 3533.691707569502, 2058.3347089252766, 1378.7368567168255, 1842.2964140539, 1110.5888223789864, 32110.511496922438, 13205.549379478922, 23164.002865204002, 5459.591773056729, 4498.758482147305, 1885.7576484523688, 1422.1980911152946, 1095.3656358059477, 4117.918598579237, 1832.6219493087017, 1112.9707435330506, 2558.180881456955, 6308.692788415818, 6240.369595286169, 1983.9842355145563, 2239.5924833755207, 43719.61586251704, 11207.457475519337, 27226.692036190972, 27815.674448245893, 7952.334993719243, 278713.3975636126, 12582.033131968603, 44670.0386693325, 4200.717569347799, 6189.958326611328, 5300.537415765284, 16623.84095545114, 9574.081695345012, 4086.020164701298, 80601.00806609353, 15840.710374877715, 24850.945020593237, 79884.9445768951, 117181.78272117041, 78370.06829851541, 45271.76379341829, 4385.173998121383, 1106.1700175441326, 1343.206449875018, 4091.073239488617, 1868.8566863865651, 1910.5575402225543, 1172.0134709693784, 1923.7262309076034, 6261.712420740893, 2123.451372964183, 1395.8812126152147, 1148.9682622705425, 1736.0723886456526, 1427.705548437417, 1287.239514463559, 4054.859340104732, 1102.8778448728704, 3421.664796331949, 1124.8256626812856, 1009.5996191871051, 4212.883628325322, 2802.736334134637, 1086.4169815165587, 3653.214274210731, 1620.846345151472, 1039.2291732284657, 10262.799607215009, 1669.1315443299857, 17723.9602711858, 17469.365584608182, 11885.866680808376, 7485.4359688990835, 6582.1766020729965, 5923.721711020615, 4843.593119275744, 5400.343841704503, 3926.1853012382503, 3632.367462267446, 3062.8179751643593, 3038.6753755751024, 3350.3954807492873, 2607.4566484250154, 2113.5748549503965, 2349.524741314988, 2023.6091660341224, 6225.104900178866, 3878.124587956068, 2210.319967132905, 19865.32487547491, 5321.496749049885, 13350.199190557465, 24850.945020593237, 24494.846190107855, 249877.53339883982, 18080.684782235592, 16344.298550849502, 6693.514804754579, 9574.081695345012, 37341.142601719475, 8139.481506321515, 3966.8139227786723, 3908.2963840596676, 17955.881688469926, 2347.453572458528, 14183.75111566025, 2085.249985506065, 1519.205332128002, 1186.1054963428994, 1316.644621177602, 1207.4869047209972, 1094.9531764152193, 1715.0140193800557, 9376.310242437417, 2007.6017129750785, 2103.25538203499, 1165.8494252478595, 3063.168084483276, 3808.1413658675256, 1680.1285636052646, 1261.5030943077707, 2238.2958560019233, 1071.321093471006, 1290.761863667273, 1603.6056283573357, 1150.0947032850506, 1302.0152364978508, 9278.377952418754, 2441.9421865245417, 2463.3374522210156, 4359.507971729981, 10874.818290500814, 6567.2933300983, 6866.4447981142885, 4330.300210362888, 3317.42131620055, 2963.0024851409617, 2486.96101361261, 2195.5209320927115, 2161.652797695893, 2492.569005912127, 1983.916237949252, 1774.6493130877102, 12197.232508586912, 4541.294985125611, 1797.084205621594, 5637.1183251006605, 15165.04867155689, 13507.477583092847, 26086.91553340176, 4593.917694781147, 8302.035189110687, 6090.799358952143, 11545.140512173502, 4839.410961705299, 35111.753033188645, 13814.377400439653, 10359.442962458494, 73231.75395653608, 13328.0709436229, 20963.474254461784, 17719.605793103896, 23445.778019521145, 9251.74080573156, 8260.632969635724, 107810.8136971358, 34986.54163543514, 19352.7710702392, 8507.482899470524, 1357.8379884524024, 1990.5949946798073, 2894.69441816843, 2375.653528718548, 2068.2822427753426, 6475.063243440934, 1060.5998218260058, 7825.0199168691515, 2520.89490559281, 4019.4706623342263, 10715.210726452335, 1552.619059764397, 1283.5284467958031, 6076.493883646447, 1319.5573154777908, 3088.3495873341126, 3895.6214262398944, 2014.2389397523614, 13775.412760128644, 4817.735284069511, 2524.272612031746, 1148.4201892383503, 2039.0087869712277, 3286.5083650850434, 1266.6399146011215, 1744.0224246374555, 1696.734534492347, 1397.244563573326, 1360.0897927450267, 1691.1050237607863, 15959.646279716275, 10586.352601151259, 6895.02474401535, 6255.512324910073, 6104.626295361328, 8864.762576762261, 3545.4652938735744, 2943.085383733278, 2882.3101022740193, 2390.169408898323, 2153.848335968412, 1938.8034959494503, 22627.06671993869, 35023.59565731129, 3836.9263190325983, 4934.408408049941, 79884.9445768951, 56647.79398374443, 12083.594264163705, 13806.098207744526, 7832.910977047676, 7491.617139202714, 73231.75395653608, 20623.60278970818, 13328.0709436229, 23445.778019521145, 14502.000152624096, 19437.573239650017, 2082.0020909606087, 9936.577932797194, 2176.6885953617784, 1521.5901056094983, 3352.5628593204938, 4670.4668798809635, 5099.859167281618, 1136.2380528140393, 1211.1064516428712, 1425.8025953431986, 1114.2179355114415, 1513.883064553589, 1372.954313816964, 1023.9354545707912, 2652.3231290978883, 1130.73302348839, 4111.155900394983, 2720.585492735941, 2941.887671627048, 2107.3252258585962, 11993.326616912509, 6442.0097654047695, 3045.3668366563447, 2603.8054298856514, 5386.169355051244, 7786.2847004247, 2170.0810311964638, 17780.398755944523, 1728.6002734707545, 11137.892575518537, 39186.44588867885, 14487.650553471934, 6912.283343020111, 3249.131503648799, 3368.9856295399704, 2486.195724869187, 2072.141701010296, 2076.4509027562235, 2006.0999653302404, 21510.969412653732, 44069.59819846986, 2715.2676318029444, 4757.702030287002, 3559.63148835599, 4989.819942560622, 10807.500939982749, 10707.563380500655, 6752.6933420238975, 6851.201432041122, 2994.240750301241, 249877.53339883982, 11426.296496203951, 16344.298550849502, 15236.88649336427, 5290.423286509517, 11621.430684742447, 6622.565461692879, 17232.60924179889, 10091.399555241838, 20999.67218726555, 2301.718642971387, 8447.498387088743, 5984.019136705017, 1075.0340367611605, 2955.5010979295853, 6061.529427756763, 7128.700101657601, 2980.2145240620257, 1447.9821038507166, 7528.570552003291, 29048.251988372278, 28348.554447938503, 5179.685589188348, 14856.091725364284, 8922.6732251387, 1538.9501138338119, 1369.2862447062535, 17739.748127577346, 1372.7236170915958, 2230.962375349572, 1351.3589190267326, 1901.6524983568972, 2070.5000092342375, 1486.5242997821863, 1508.6280836319636, 78370.06829851541, 22567.065924651342, 1155.2096395893964, 1040.603342959341, 19747.44806729049, 32509.61778396737, 51595.00304673893, 25171.810907427473, 13257.80333331255, 11546.507840968781, 202605.3831677511, 37341.142601719475, 5278.4548476643695, 23059.82649399733, 16132.543189516284, 8429.051217139015, 15496.373463590751, 6107.534797452661, 14502.000152624096, 2096.028781116157, 9704.792787940924, 5238.949881708426, 1982.699601837393, 2265.46151449332, 1082.7985940990854, 2897.187533641284, 4679.036411806412, 24905.489735360938, 9112.339256661839, 15095.222265715023, 1677.4962675421066, 11698.713100597997, 1243.2547588205045, 1885.07941770618, 1081.6765230171177, 6588.801393315886, 11190.414900466509, 7070.169887480143, 1281.4051756074155, 4865.300211413093, 8050.860013120145, 1486.744183607553, 1120.9490108859964, 2326.05335291959, 1354.339795935333, 2171.2075436080113, 1209.5926263614656, 1334.1425164599098, 1287.015531017255, 32249.397663140444, 30853.574009713666, 11764.914299858885, 10512.629937623187, 9346.808951859965, 3932.760421531526, 4630.661664594186, 3967.430705670633, 2348.4859336070235, 2183.5357943502104, 2530.1468888800237, 46882.948691228376, 6134.589049859078, 6060.531124676663, 12230.489141256501, 10002.70371254888, 4129.169675341602, 7623.648171542549, 38575.52815493141, 11370.911988965614, 34986.54163543514, 24393.061604807237, 10091.399555241838, 8625.11047931792, 7198.5499574074865, 3659.7580782869136, 1791.148633270023, 3014.6050160664313, 2405.5295921938045, 4102.239701553264, 2598.651068055857, 3251.2318793479567, 7194.305529366562, 7434.115713678781, 2227.263614474987, 1926.9703305795983, 10170.710693064675, 1298.7949805228131, 3060.2326175063668, 1172.5232463053173, 1961.9868619172232, 2297.296677150237, 1079.1458294049844, 1404.9056815459185, 1045.1904050775904, 1360.3391871162141, 1079.1458294049844, 1395.355718453839, 1656.388042970679, 190645.9132071832, 6380.436452519342, 7090.3170423639185, 1121.5901098142267, 9731.412390829018, 17842.514377035215, 17481.353090369885, 11437.672463280558, 6733.650917759791, 6477.316381289558, 5688.653621546434, 5993.784430685318, 4465.138299052285, 4360.08870503941, 4573.548033189076, 4016.2900337245487, 3266.1483415629286, 3264.1135883469856, 2922.2887061763295, 4275.230951848749, 3022.2027090733054, 8545.596641309103, 5233.842775750191, 8882.186505706919, 26086.91553340176, 20316.61806216397, 6481.553383190876, 13561.786944234736, 18001.03701382638, 1200.2170353068857, 1322.2354030367908, 1957.8401731207516, 1740.4256269838295, 1962.2772046745663, 2135.321435273341, 3160.275724204545, 3899.041477914698, 1913.4698575826042, 2929.5500834061786, 3235.705260619395, 1254.570671841116, 1435.3797076590665, 1355.5131396904014, 1809.199616067958, 2052.127093639315, 1896.830989255799, 3505.2549275136403, 3144.7461137661935, 1094.8375359037857, 4663.320163059287, 2412.635907386762, 2531.326501451306, 2533.5450172282135, 1371.042750128753, 1203.5448089722468, 1188.0151985338953, 1770.375589972079, 78223.70632330097, 9691.624611000376, 9149.237122498807, 8065.4307512045925, 7595.101575435887, 8512.69742924342, 4597.950826801604, 4072.101787908077, 3322.244627891663, 2773.1328541361763, 2804.2059796313474, 5487.972862340401, 2672.20053531899, 2818.6760504794515, 3979.189639143781, 2557.9292133915114, 2725.5883752427744, 6364.535770190997, 9989.49517795245, 117181.78272117041, 4798.3467929349345, 15840.710374877715, 24393.061604807237, 27052.81993421072, 21803.288582472138, 278713.3975636126, 38575.52815493141, 23445.778019521145, 20963.474254461784, 4772.595506207279, 5914.42417027597, 6579.333162989359, 78370.06829851541, 27226.692036190972, 18408.621744363547, 2129.03972751168, 11295.491106631007, 5570.913052688775, 2321.6777363294214, 1658.023093234776, 1040.022544715434, 2508.7481726379788, 8585.196809160594, 2597.8293327849115, 14974.543020699308, 2461.9805635608395, 7765.650135808817, 3049.9162205305925, 1925.2665736755728, 4014.219779121134, 4525.322935464157, 2111.223495482294, 1232.6605535331748, 1349.5795762260234, 3320.500244476899, 1740.4231663706885, 1338.4444312076569, 1789.4178044515013, 1067.8604072613502, 1811.6880944882344, 1026.660370693394, 1351.8066052296967, 1443.114794380302, 1068.9739217631868, 27045.007973385797, 13077.17928636714, 11922.316086376188, 7748.959241062489, 5971.793824986868, 5564.19555752137, 4824.870159239439, 4540.887121216458, 4717.952414928563, 4252.407067530966, 4146.73792255752, 3857.218474848979, 3820.4288436694483, 3461.912329596771, 2835.001947096802, 2445.2653373965836, 2651.330010311061, 2529.934701326348, 8663.854552895402, 4964.566452340603, 10577.273407724482, 20472.403953395766, 7938.866180886231, 5693.294542626373, 7837.21885996724, 16615.671886247423, 14888.764156534211, 20623.60278970818, 34922.057157615556, 19518.286806803393, 4792.235922408541, 249877.53339883982, 10998.038296084294, 73231.75395653608, 8406.88366945124, 15263.254582929454, 2117.9048058990065, 1220.0014142314067, 14616.85238696236, 1332.5151070447914, 18712.571420453514, 2971.6851807770436, 6305.1790992285, 2863.5837896426146, 2071.5756382699656, 1874.1251381366728, 5849.608950876266, 9500.788590212574, 3182.3725859472047, 3350.040049747543, 1563.0578697702563, 2813.945395754357, 3551.902851559792, 1810.146763791807, 3479.099873857014, 1800.2190850141553, 1347.9581629211384, 1471.5026099319136, 4371.487888425918, 1550.9240401531267, 6166.191596341378, 1606.0778111400798, 2082.6063924673563, 2464.270487697073, 1437.3072719200027, 8680.128376871087, 7547.440121082591, 6434.255894626204, 4704.635660849344, 4995.465702061483, 4716.582621166213, 5114.980577607686, 3842.05240055101, 3674.3589027197395, 3198.9187172432908, 3247.477470153405, 3202.2513779441038, 8964.41538512235, 5404.54976136068, 2937.4958213592067, 20875.06584097471, 16120.00135265187, 3222.4388774038516, 5618.964651998394, 24183.878478075665, 6688.653022151321, 6291.061557246089, 56647.79398374443, 19352.7710702392, 4646.2373628932555, 21359.06633395059, 17719.605793103896, 7402.284278294019, 7303.136046142712, 10773.487812701896, 30521.6581829914, 3629.6147732191, 35068.25198333661, 7757.146905147958, 1909.4342149616307, 1115.2447627209524, 2106.5734406951324, 1714.5480089507976, 1486.9930169612699, 1292.106810950437, 1058.9192696542377, 1040.895111872889, 1325.9021067904655, 1494.8785859906102, 1797.9097386895355, 1607.5295721240395, 1067.9313485449122, 11922.961402423369, 11848.625288159534, 7651.227945211795, 40408.9024463508, 5324.994604781846, 1821.5394128068158, 1400.2463242839428, 5011.7664933210235, 2588.6431493575974, 11346.679588594498, 2185.4256132537034, 2105.3297586258223, 5291.841514424799, 14062.238198695857, 4039.0918986971546, 1338.2759601476778, 18345.05225573594, 9113.524714106929, 2431.587818165222, 4808.118586492435, 5913.750386430768, 15378.654252083461, 20316.61806216397, 6127.004691956228, 4857.849035865968, 6628.173767006145, 9494.518417202511, 6030.2187046726995, 15496.373463590751, 5125.984415660745, 37341.142601719475, 14684.243772949758, 18080.684782235592, 10998.038296084294, 60432.89401099329, 16132.543189516284, 51595.00304673893, 24183.878478075665, 14502.000152624096, 70006.5276676497, 25171.810907427473, 2288.044461766637, 2796.6229816024065, 1706.8118676686152, 6714.354216820805, 2071.199993968529, 1077.515809058641, 11967.802663476006, 2650.197078089251, 1725.8137024756659, 1062.9849942061905, 4086.5122385045556, 9135.411522236798, 1462.0235251542558, 3812.6622662852956, 1749.2865572373166, 1742.5800273054165, 1226.1772225490968, 1087.5756039564915, 1857.7087911363708, 5129.360893791526, 4387.184089964604, 2165.0937047344546, 2136.0353658730555, 7634.289281403835, 8787.672476901995, 1236.239309166269, 1180.3548505772696, 5708.302898541208, 2006.3294764303678, 2028.675057029267, 8136.178420600837, 5789.878905612051, 5590.80681224522, 3642.7818417650637, 2792.1491449233863, 2432.2803490689394, 2124.3973468686763, 10589.409973744858, 4709.061869271224, 15195.054588594356, 3670.942654387336, 34268.68051487296, 3802.329882832384, 3156.1328558006226, 8824.254203559452, 3188.964004314772, 75385.69696260276, 34922.057157615556, 8490.223702025016, 10089.935615088258, 249877.53339883982, 10041.979885548304, 8174.716509673679, 4601.22403367025, 18452.68828249123, 73231.75395653608, 23059.82649399733, 20472.403953395766, 6232.433802626685, 2056.0543133761025, 76000.01854547042, 13765.698426360503, 11465.249434513305, 11165.922007211548, 1347.5339611112734, 22686.104190555514, 3487.6690124934867, 2469.7315443661687, 2645.740555925628, 1751.1215035406062, 1087.4442115457032, 2618.8347197636726, 2025.7852476939026, 2168.161964050917, 1301.5698243345992, 3169.283284577013, 3831.839500065168, 2776.906507215161, 2699.5522282495394, 1341.9285785775326, 2820.628490978339, 15320.623979215272, 6921.504753046909, 4001.1004529679844, 2307.15176527136, 5743.287726399689, 3150.161692947679, 4156.916231167247, 1280.2748040609706, 5341.923375862265, 5636.616209647011, 4060.5561505470287, 4586.261893142252, 2930.4547567561244, 2375.5700900014604, 2257.8329605809463, 2635.609713262966, 7916.071353238522, 3315.491317491976, 4751.114421567337, 11875.152292983244, 107810.8136971358, 19134.849858091184, 4348.866725935822, 4400.141810518462, 27052.81993421072, 44123.31671317351, 4430.857135145227, 6763.641562697203, 6337.525519835204, 10005.981993829806, 5248.846268358915, 16295.740600253514, 15236.88649336427, 14888.764156534211, 9061.604283785664, 3162.4616983457277, 2949.009576610137, 7600.018966006696, 43565.5780462341, 5538.520842928753, 20302.667073713674, 2437.8479166643797, 7105.708789355854, 1643.5813373640497, 7500.033498456866, 1967.1298166264191, 1558.2004886698132, 3823.0398435063985, 3304.0141580230143, 3261.3237336758966, 1264.9846793382912, 1700.8763805667609, 1630.1001507281176, 1537.9787087159154, 1481.807097732865, 1671.6671428555749, 2036.7826142454012, 1112.1978974643944, 1072.8777697762594, 1741.3199404745571, 1646.9516340230327, 2394.0340600976006, 1355.9826891308326, 1536.8552764962544, 54938.08621598924, 37937.5517334056, 12103.854287400382, 9690.73863736252, 8099.9435814804565, 4882.340559145673, 5081.2668978336915, 4550.997880517489, 4731.585089934286, 4383.369012497506, 3772.5069371133663, 3155.683292380319, 4036.200422633085, 2823.1838068704114, 2614.2050572135427, 2859.946805209768, 2535.5511770540957, 3015.0274391711514, 4046.7084474425023, 14169.669318269744, 8680.0178626623, 7419.27336711032, 4389.401159530881, 14394.628476967771, 4477.367096332218, 8037.308460185096, 34986.54163543514, 5580.70194760715, 7198.762931341886, 35111.753033188645, 14053.370035261669, 28352.862365601773, 5149.974763254996, 2382.3393478563235, 4816.200844279357, 14304.116507509689, 4440.9851971087555, 3755.516611829926, 6450.348991210422, 5002.128597802699, 1448.220393407723, 1066.28446598929, 1448.220393407723, 1376.5374040975184, 1114.4464744320835, 1596.0665588600193, 2697.07247279644, 1615.1073528955424, 1299.2541812474542, 1211.8905380256429, 1154.7681559190735, 1980.242579694396, 1142.4476421313823, 1697.9908092854662, 1116.6865678480276, 1127.887034927747, 1557.9849707889734, 8915.479313467305, 14483.285899099516, 5108.474095362293, 10382.833982024098, 22993.3750461011, 4729.93667794814, 4766.880707442907, 4073.6075851746364, 3720.789661475437, 3315.3488901843552, 2686.9750811364597, 3414.9605352677554, 2464.0136610606, 2284.8363445650234, 2029.5307079671497, 7112.641683361504, 2690.462052798317, 4855.307319709188, 17379.259569941678, 31527.7722481997, 13917.137721680994, 20149.455639880445, 10152.365436918855, 16556.9987021122, 16293.058113902804, 3883.806346399272, 75385.69696260276, 9874.800731253006, 249877.53339883982, 17232.60924179889, 35111.753033188645, 9758.52359646287, 19444.790681436367, 5664.114901651585, 1393.7641228120644, 1251.2706661667414, 1414.9154952828546, 31764.908530606586, 9137.392907381329, 13111.62447162979, 4409.504545094718, 9458.003184833306, 1108.7772095214186, 1148.8534942029157, 6389.940946438698, 3874.040852544716, 4048.817982961245, 1264.6294277272405, 2865.45435472704, 1574.1074038788013, 1262.4029674671574, 3976.4580245085417, 1318.0644739692366, 1191.1562391444959, 6673.822475976009, 11716.750269432086, 5281.147897677658, 4132.3279246182165, 1716.6097014760505, 1639.800088704271, 1308.0177922410385, 3833.927895068484, 6067.154745833804, 5873.460989261313, 3071.059267138998, 2813.091278896744, 2470.2777548715003, 2881.1219144498064, 2050.5879989710334, 2027.1529048055104, 1871.3911443800089, 1691.027953039994, 4058.6372454442453, 202605.3831677511, 19437.573239650017, 21359.06633395059, 2694.5572484259806, 10773.487812701896, 9315.534514610312, 7038.884651426209, 73231.75395653608, 34268.68051487296, 9055.300815409277, 13806.098207744526, 23059.82649399733, 51595.00304673893, 13471.030467960943, 12560.610261300868, 5907.617946722408, 2013.5075791416082, 1454.1999182689392, 8778.361425894602, 1106.4323825976164, 1103.1097628300558, 1541.69557214803, 3139.8756803445867, 3959.4552230094882, 4194.253686583757, 16686.196472688378, 2462.0612477622635, 1851.8067504536682, 1860.6670698338294, 1714.4718000611713, 1047.7327667040493, 1032.2272077887674, 1080.9589643796533, 33992.6187379199, 7191.234796572945, 6456.989343550304, 9120.553111460242, 2277.0556477891114, 2024.5943587818524, 2614.762458333175, 2954.9269033626906, 2287.037687876379, 2262.7109335723735, 1062.162684504831, 28259.362765464022, 3472.6234863189416, 1819.4516030207142, 3029.7157793493675, 1814.4346613567718, 70006.5276676497, 3462.5952340935664, 20555.429708697506, 11404.839328227965, 9208.507799018962, 2676.8897428690816, 4833.924617899639, 16295.740600253514, 44123.31671317351, 7219.93657779213, 9000.532117047287, 8244.244422865286, 11885.365349683656, 7935.807161866776, 7912.466158161316, 19518.286806803393, 18452.68828249123, 6554.022985684282, 10005.981993829806, 79884.9445768951, 24494.846190107855, 16615.671886247423, 11426.296496203951, 2640.9434912077445, 3951.519944796267, 13157.439949743162, 2017.5400942407205, 1644.8174283292196, 3327.017070938649, 2097.8019072541115, 2186.859535392258, 2207.7495963135516, 1944.9746194614904, 14462.519018878713, 3998.797451091826, 1501.8854325519478, 4292.357780880531, 1145.6549199993628, 2013.142186678343, 2040.629108943203, 1421.6236195385568, 1207.225625872649, 1617.3305060643597, 1197.3303338572994, 2285.8124555457534, 59669.739672442156, 36426.81000191776, 8843.1109091488, 7667.759898037259, 4378.120576876038, 2743.1927560328495, 2671.726758144214, 3809.7354507814607, 12013.008045622246, 4827.992257395182, 4424.486650384391, 3377.6125699017093, 3054.231692430148, 2953.2190513024625, 2672.4151261011184, 2448.6264258440033, 2151.8134527900165, 60432.89401099329, 18456.050478143952, 15808.458577584257, 3385.5151180848557, 13525.571132911284, 7305.613604412639, 107810.8136971358, 10350.193923988738, 33491.810723055794, 8566.913624509096, 6121.694265641854, 19134.849858091184, 10803.610040041018, 6793.575954989012, 31527.7722481997, 16556.9987021122, 8625.11047931792], \"Category\": [\"Default\", \"Default\", \"Default\", \"Default\", \"Default\", \"Default\", \"Default\", \"Default\", \"Default\", \"Default\", \"Default\", \"Default\", \"Default\", \"Default\", \"Default\", \"Default\", \"Default\", \"Default\", \"Default\", \"Default\", \"Default\", \"Default\", \"Default\", \"Default\", \"Default\", \"Default\", \"Default\", \"Default\", \"Default\", \"Default\", \"Topic1\", \"Topic1\", \"Topic1\", \"Topic1\", \"Topic1\", \"Topic1\", \"Topic1\", \"Topic1\", \"Topic1\", \"Topic1\", \"Topic1\", \"Topic1\", \"Topic1\", \"Topic1\", \"Topic1\", \"Topic1\", \"Topic1\", \"Topic1\", \"Topic1\", \"Topic1\", \"Topic1\", \"Topic1\", \"Topic1\", \"Topic1\", \"Topic1\", \"Topic1\", \"Topic1\", \"Topic1\", \"Topic1\", \"Topic1\", \"Topic1\", \"Topic1\", \"Topic1\", \"Topic1\", \"Topic1\", \"Topic1\", \"Topic1\", \"Topic1\", \"Topic1\", \"Topic1\", \"Topic2\", \"Topic2\", \"Topic2\", \"Topic2\", \"Topic2\", \"Topic2\", \"Topic2\", \"Topic2\", \"Topic2\", \"Topic2\", \"Topic2\", \"Topic2\", \"Topic2\", \"Topic2\", \"Topic2\", \"Topic2\", \"Topic2\", \"Topic2\", \"Topic2\", \"Topic2\", \"Topic2\", \"Topic2\", \"Topic2\", \"Topic2\", \"Topic2\", \"Topic2\", \"Topic2\", \"Topic2\", \"Topic2\", \"Topic2\", \"Topic2\", \"Topic2\", \"Topic2\", \"Topic2\", \"Topic2\", \"Topic2\", \"Topic2\", \"Topic2\", \"Topic2\", \"Topic2\", \"Topic2\", \"Topic2\", \"Topic2\", \"Topic2\", \"Topic2\", \"Topic2\", \"Topic2\", \"Topic2\", \"Topic2\", \"Topic2\", \"Topic3\", \"Topic3\", \"Topic3\", \"Topic3\", \"Topic3\", \"Topic3\", \"Topic3\", \"Topic3\", \"Topic3\", \"Topic3\", \"Topic3\", \"Topic3\", \"Topic3\", \"Topic3\", \"Topic3\", \"Topic3\", \"Topic3\", \"Topic3\", \"Topic3\", \"Topic3\", \"Topic3\", \"Topic3\", \"Topic3\", \"Topic3\", \"Topic3\", \"Topic3\", \"Topic3\", \"Topic3\", \"Topic3\", \"Topic3\", \"Topic3\", \"Topic3\", \"Topic3\", \"Topic3\", \"Topic3\", \"Topic3\", \"Topic3\", \"Topic3\", \"Topic3\", \"Topic3\", \"Topic3\", \"Topic3\", \"Topic3\", \"Topic3\", \"Topic3\", \"Topic3\", \"Topic3\", \"Topic3\", \"Topic3\", \"Topic3\", \"Topic3\", \"Topic3\", \"Topic3\", \"Topic3\", \"Topic3\", \"Topic3\", \"Topic3\", \"Topic3\", \"Topic3\", \"Topic3\", \"Topic3\", \"Topic4\", \"Topic4\", \"Topic4\", \"Topic4\", \"Topic4\", \"Topic4\", \"Topic4\", \"Topic4\", \"Topic4\", \"Topic4\", \"Topic4\", \"Topic4\", \"Topic4\", \"Topic4\", \"Topic4\", \"Topic4\", \"Topic4\", \"Topic4\", \"Topic4\", \"Topic4\", \"Topic4\", \"Topic4\", \"Topic4\", \"Topic4\", \"Topic4\", \"Topic4\", \"Topic4\", \"Topic4\", \"Topic4\", \"Topic4\", \"Topic4\", \"Topic4\", \"Topic4\", \"Topic4\", \"Topic4\", \"Topic4\", \"Topic4\", \"Topic4\", \"Topic4\", \"Topic4\", \"Topic4\", \"Topic4\", \"Topic4\", \"Topic4\", \"Topic4\", \"Topic4\", \"Topic4\", \"Topic4\", \"Topic4\", \"Topic4\", \"Topic4\", \"Topic4\", \"Topic4\", \"Topic4\", \"Topic4\", \"Topic4\", \"Topic4\", \"Topic4\", \"Topic4\", \"Topic4\", \"Topic4\", \"Topic4\", \"Topic4\", \"Topic4\", \"Topic4\", \"Topic4\", \"Topic4\", \"Topic4\", \"Topic5\", \"Topic5\", \"Topic5\", \"Topic5\", \"Topic5\", \"Topic5\", \"Topic5\", \"Topic5\", \"Topic5\", \"Topic5\", \"Topic5\", \"Topic5\", \"Topic5\", \"Topic5\", \"Topic5\", \"Topic5\", \"Topic5\", \"Topic5\", \"Topic5\", \"Topic5\", \"Topic5\", \"Topic5\", \"Topic5\", \"Topic5\", \"Topic5\", \"Topic5\", \"Topic5\", \"Topic5\", \"Topic5\", \"Topic5\", \"Topic5\", \"Topic5\", \"Topic5\", \"Topic5\", \"Topic5\", \"Topic5\", \"Topic5\", \"Topic5\", \"Topic5\", \"Topic5\", \"Topic5\", \"Topic5\", \"Topic5\", \"Topic5\", \"Topic5\", \"Topic5\", \"Topic5\", \"Topic5\", \"Topic5\", \"Topic5\", \"Topic5\", \"Topic5\", \"Topic5\", \"Topic5\", \"Topic5\", \"Topic5\", \"Topic5\", \"Topic5\", \"Topic6\", \"Topic6\", \"Topic6\", \"Topic6\", \"Topic6\", \"Topic6\", \"Topic6\", \"Topic6\", \"Topic6\", \"Topic6\", \"Topic6\", \"Topic6\", \"Topic6\", \"Topic6\", \"Topic6\", \"Topic6\", \"Topic6\", \"Topic6\", \"Topic6\", \"Topic6\", \"Topic6\", \"Topic6\", \"Topic6\", \"Topic6\", \"Topic6\", \"Topic6\", \"Topic6\", \"Topic6\", \"Topic6\", \"Topic6\", \"Topic6\", \"Topic6\", \"Topic6\", \"Topic6\", \"Topic6\", \"Topic6\", \"Topic6\", \"Topic6\", \"Topic6\", \"Topic6\", \"Topic6\", \"Topic6\", \"Topic6\", \"Topic6\", \"Topic6\", \"Topic6\", \"Topic6\", \"Topic6\", \"Topic6\", \"Topic6\", \"Topic6\", \"Topic6\", \"Topic6\", \"Topic6\", \"Topic6\", \"Topic6\", \"Topic6\", \"Topic6\", \"Topic6\", \"Topic7\", \"Topic7\", \"Topic7\", \"Topic7\", \"Topic7\", \"Topic7\", \"Topic7\", \"Topic7\", \"Topic7\", \"Topic7\", \"Topic7\", \"Topic7\", \"Topic7\", \"Topic7\", \"Topic7\", \"Topic7\", \"Topic7\", \"Topic7\", \"Topic7\", \"Topic7\", \"Topic7\", \"Topic7\", \"Topic7\", \"Topic7\", \"Topic7\", \"Topic7\", \"Topic7\", \"Topic7\", \"Topic7\", \"Topic7\", \"Topic7\", \"Topic7\", \"Topic7\", \"Topic7\", \"Topic7\", \"Topic7\", \"Topic7\", \"Topic7\", \"Topic7\", \"Topic7\", \"Topic7\", \"Topic7\", \"Topic7\", \"Topic7\", \"Topic7\", \"Topic8\", \"Topic8\", \"Topic8\", \"Topic8\", \"Topic8\", \"Topic8\", \"Topic8\", \"Topic8\", \"Topic8\", \"Topic8\", \"Topic8\", \"Topic8\", \"Topic8\", \"Topic8\", \"Topic8\", \"Topic8\", \"Topic8\", \"Topic8\", \"Topic8\", \"Topic8\", \"Topic8\", \"Topic8\", \"Topic8\", \"Topic8\", \"Topic8\", \"Topic8\", \"Topic8\", \"Topic8\", \"Topic8\", \"Topic8\", \"Topic8\", \"Topic8\", \"Topic8\", \"Topic8\", \"Topic8\", \"Topic8\", \"Topic8\", \"Topic8\", \"Topic8\", \"Topic8\", \"Topic8\", \"Topic8\", \"Topic8\", \"Topic8\", \"Topic8\", \"Topic8\", \"Topic8\", \"Topic8\", \"Topic8\", \"Topic8\", \"Topic8\", \"Topic8\", \"Topic8\", \"Topic8\", \"Topic9\", \"Topic9\", \"Topic9\", \"Topic9\", \"Topic9\", \"Topic9\", \"Topic9\", \"Topic9\", \"Topic9\", \"Topic9\", \"Topic9\", \"Topic9\", \"Topic9\", \"Topic9\", \"Topic9\", \"Topic9\", \"Topic9\", \"Topic9\", \"Topic9\", \"Topic9\", \"Topic9\", \"Topic9\", \"Topic9\", \"Topic9\", \"Topic9\", \"Topic9\", \"Topic9\", \"Topic9\", \"Topic9\", \"Topic9\", \"Topic9\", \"Topic9\", \"Topic9\", \"Topic9\", \"Topic9\", \"Topic9\", \"Topic9\", \"Topic9\", \"Topic9\", \"Topic9\", \"Topic9\", \"Topic9\", \"Topic9\", \"Topic9\", \"Topic9\", \"Topic9\", \"Topic9\", \"Topic9\", \"Topic9\", \"Topic9\", \"Topic9\", \"Topic9\", \"Topic10\", \"Topic10\", \"Topic10\", \"Topic10\", \"Topic10\", \"Topic10\", \"Topic10\", \"Topic10\", \"Topic10\", \"Topic10\", \"Topic10\", \"Topic10\", \"Topic10\", \"Topic10\", \"Topic10\", \"Topic10\", \"Topic10\", \"Topic10\", \"Topic10\", \"Topic10\", \"Topic10\", \"Topic10\", \"Topic10\", \"Topic10\", \"Topic10\", \"Topic10\", \"Topic10\", \"Topic10\", \"Topic10\", \"Topic10\", \"Topic10\", \"Topic10\", \"Topic10\", \"Topic10\", \"Topic10\", \"Topic10\", \"Topic10\", \"Topic10\", \"Topic10\", \"Topic10\", \"Topic10\", \"Topic10\", \"Topic10\", \"Topic10\", \"Topic10\", \"Topic10\", \"Topic10\", \"Topic10\", \"Topic10\", \"Topic10\", \"Topic10\", \"Topic10\", \"Topic10\", \"Topic10\", \"Topic10\", \"Topic10\", \"Topic10\", \"Topic10\", \"Topic10\", \"Topic10\", \"Topic10\", \"Topic10\", \"Topic10\", \"Topic10\", \"Topic11\", \"Topic11\", \"Topic11\", \"Topic11\", \"Topic11\", \"Topic11\", \"Topic11\", \"Topic11\", \"Topic11\", \"Topic11\", \"Topic11\", \"Topic11\", \"Topic11\", \"Topic11\", \"Topic11\", \"Topic11\", \"Topic11\", \"Topic11\", \"Topic11\", \"Topic11\", \"Topic11\", \"Topic11\", \"Topic11\", \"Topic11\", \"Topic11\", \"Topic11\", \"Topic11\", \"Topic11\", \"Topic11\", \"Topic11\", \"Topic11\", \"Topic11\", \"Topic11\", \"Topic11\", \"Topic11\", \"Topic11\", \"Topic11\", \"Topic11\", \"Topic11\", \"Topic11\", \"Topic11\", \"Topic11\", \"Topic11\", \"Topic11\", \"Topic11\", \"Topic11\", \"Topic11\", \"Topic11\", \"Topic11\", \"Topic11\", \"Topic11\", \"Topic11\", \"Topic11\", \"Topic11\", \"Topic11\", \"Topic11\", \"Topic11\", \"Topic11\", \"Topic11\", \"Topic11\", \"Topic11\", \"Topic11\", \"Topic11\", \"Topic11\", \"Topic11\", \"Topic12\", \"Topic12\", \"Topic12\", \"Topic12\", \"Topic12\", \"Topic12\", \"Topic12\", \"Topic12\", \"Topic12\", \"Topic12\", \"Topic12\", \"Topic12\", \"Topic12\", \"Topic12\", \"Topic12\", \"Topic12\", \"Topic12\", \"Topic12\", \"Topic12\", \"Topic12\", \"Topic12\", \"Topic12\", \"Topic12\", \"Topic12\", \"Topic12\", \"Topic12\", \"Topic12\", \"Topic12\", \"Topic12\", \"Topic12\", \"Topic12\", \"Topic12\", \"Topic12\", \"Topic12\", \"Topic12\", \"Topic12\", \"Topic12\", \"Topic12\", \"Topic12\", \"Topic12\", \"Topic12\", \"Topic12\", \"Topic12\", \"Topic12\", \"Topic12\", \"Topic12\", \"Topic12\", \"Topic12\", \"Topic12\", \"Topic12\", \"Topic12\", \"Topic12\", \"Topic12\", \"Topic12\", \"Topic12\", \"Topic12\", \"Topic12\", \"Topic12\", \"Topic12\", \"Topic12\", \"Topic13\", \"Topic13\", \"Topic13\", \"Topic13\", \"Topic13\", \"Topic13\", \"Topic13\", \"Topic13\", \"Topic13\", \"Topic13\", \"Topic13\", \"Topic13\", \"Topic13\", \"Topic13\", \"Topic13\", \"Topic13\", \"Topic13\", \"Topic13\", \"Topic13\", \"Topic13\", \"Topic13\", \"Topic13\", \"Topic13\", \"Topic13\", \"Topic13\", \"Topic13\", \"Topic13\", \"Topic13\", \"Topic13\", \"Topic13\", \"Topic13\", \"Topic13\", \"Topic13\", \"Topic13\", \"Topic13\", \"Topic13\", \"Topic13\", \"Topic13\", \"Topic13\", \"Topic13\", \"Topic13\", \"Topic13\", \"Topic13\", \"Topic13\", \"Topic13\", \"Topic13\", \"Topic13\", \"Topic13\", \"Topic13\", \"Topic13\", \"Topic13\", \"Topic13\", \"Topic13\", \"Topic13\", \"Topic13\", \"Topic13\", \"Topic13\", \"Topic13\", \"Topic14\", \"Topic14\", \"Topic14\", \"Topic14\", \"Topic14\", \"Topic14\", \"Topic14\", \"Topic14\", \"Topic14\", \"Topic14\", \"Topic14\", \"Topic14\", \"Topic14\", \"Topic14\", \"Topic14\", \"Topic14\", \"Topic14\", \"Topic14\", \"Topic14\", \"Topic14\", \"Topic14\", \"Topic14\", \"Topic14\", \"Topic14\", \"Topic14\", \"Topic14\", \"Topic14\", \"Topic14\", \"Topic14\", \"Topic14\", \"Topic14\", \"Topic14\", \"Topic14\", \"Topic14\", \"Topic14\", \"Topic14\", \"Topic14\", \"Topic14\", \"Topic14\", \"Topic14\", \"Topic14\", \"Topic14\", \"Topic14\", \"Topic14\", \"Topic14\", \"Topic14\", \"Topic14\", \"Topic14\", \"Topic14\", \"Topic14\", \"Topic14\", \"Topic14\", \"Topic14\", \"Topic14\", \"Topic14\", \"Topic14\", \"Topic14\", \"Topic14\", \"Topic14\", \"Topic15\", \"Topic15\", \"Topic15\", \"Topic15\", \"Topic15\", \"Topic15\", \"Topic15\", \"Topic15\", \"Topic15\", \"Topic15\", \"Topic15\", \"Topic15\", \"Topic15\", \"Topic15\", \"Topic15\", \"Topic15\", \"Topic15\", \"Topic15\", \"Topic15\", \"Topic15\", \"Topic15\", \"Topic15\", \"Topic15\", \"Topic15\", \"Topic15\", \"Topic15\", \"Topic15\", \"Topic15\", \"Topic15\", \"Topic15\", \"Topic15\", \"Topic15\", \"Topic15\", \"Topic15\", \"Topic15\", \"Topic15\", \"Topic15\", \"Topic15\", \"Topic15\", \"Topic15\", \"Topic15\", \"Topic15\", \"Topic15\", \"Topic15\", \"Topic15\", \"Topic15\", \"Topic15\", \"Topic15\", \"Topic15\", \"Topic15\", \"Topic15\", \"Topic15\", \"Topic15\", \"Topic15\", \"Topic15\", \"Topic15\", \"Topic16\", \"Topic16\", \"Topic16\", \"Topic16\", \"Topic16\", \"Topic16\", \"Topic16\", \"Topic16\", \"Topic16\", \"Topic16\", \"Topic16\", \"Topic16\", \"Topic16\", \"Topic16\", \"Topic16\", \"Topic16\", \"Topic16\", \"Topic16\", \"Topic16\", \"Topic16\", \"Topic16\", \"Topic16\", \"Topic16\", \"Topic16\", \"Topic16\", \"Topic16\", \"Topic16\", \"Topic16\", \"Topic16\", \"Topic16\", \"Topic16\", \"Topic16\", \"Topic16\", \"Topic16\", \"Topic16\", \"Topic16\", \"Topic16\", \"Topic16\", \"Topic16\", \"Topic16\", \"Topic16\", \"Topic16\", \"Topic16\", \"Topic16\", \"Topic16\", \"Topic16\", \"Topic16\", \"Topic16\", \"Topic16\", \"Topic16\", \"Topic16\", \"Topic16\", \"Topic16\", \"Topic16\", \"Topic16\", \"Topic16\", \"Topic16\", \"Topic16\", \"Topic16\", \"Topic16\", \"Topic16\", \"Topic17\", \"Topic17\", \"Topic17\", \"Topic17\", \"Topic17\", \"Topic17\", \"Topic17\", \"Topic17\", \"Topic17\", \"Topic17\", \"Topic17\", \"Topic17\", \"Topic17\", \"Topic17\", \"Topic17\", \"Topic17\", \"Topic17\", \"Topic17\", \"Topic17\", \"Topic17\", \"Topic17\", \"Topic17\", \"Topic17\", \"Topic17\", \"Topic17\", \"Topic17\", \"Topic17\", \"Topic17\", \"Topic17\", \"Topic17\", \"Topic17\", \"Topic17\", \"Topic17\", \"Topic17\", \"Topic17\", \"Topic17\", \"Topic17\", \"Topic17\", \"Topic17\", \"Topic17\", \"Topic17\", \"Topic17\", \"Topic17\", \"Topic17\", \"Topic17\", \"Topic17\", \"Topic17\", \"Topic17\", \"Topic17\", \"Topic17\", \"Topic17\", \"Topic17\", \"Topic17\", \"Topic17\", \"Topic17\", \"Topic17\", \"Topic17\", \"Topic17\", \"Topic18\", \"Topic18\", \"Topic18\", \"Topic18\", \"Topic18\", \"Topic18\", \"Topic18\", \"Topic18\", \"Topic18\", \"Topic18\", \"Topic18\", \"Topic18\", \"Topic18\", \"Topic18\", \"Topic18\", \"Topic18\", \"Topic18\", \"Topic18\", \"Topic18\", \"Topic18\", \"Topic18\", \"Topic18\", \"Topic18\", \"Topic18\", \"Topic18\", \"Topic18\", \"Topic18\", \"Topic18\", \"Topic18\", \"Topic18\", \"Topic18\", \"Topic18\", \"Topic18\", \"Topic18\", \"Topic18\", \"Topic18\", \"Topic18\", \"Topic18\", \"Topic18\", \"Topic18\", \"Topic18\", \"Topic18\", \"Topic18\", \"Topic18\", \"Topic18\", \"Topic18\", \"Topic18\", \"Topic18\", \"Topic18\", \"Topic18\", \"Topic18\", \"Topic18\", \"Topic18\", \"Topic18\", \"Topic18\", \"Topic19\", \"Topic19\", \"Topic19\", \"Topic19\", \"Topic19\", \"Topic19\", \"Topic19\", \"Topic19\", \"Topic19\", \"Topic19\", \"Topic19\", \"Topic19\", \"Topic19\", \"Topic19\", \"Topic19\", \"Topic19\", \"Topic19\", \"Topic19\", \"Topic19\", \"Topic19\", \"Topic19\", \"Topic19\", \"Topic19\", \"Topic19\", \"Topic19\", \"Topic19\", \"Topic19\", \"Topic19\", \"Topic19\", \"Topic19\", \"Topic19\", \"Topic19\", \"Topic19\", \"Topic19\", \"Topic19\", \"Topic19\", \"Topic19\", \"Topic19\", \"Topic19\", \"Topic19\", \"Topic19\", \"Topic19\", \"Topic19\", \"Topic19\", \"Topic19\", \"Topic19\", \"Topic19\", \"Topic19\", \"Topic19\", \"Topic19\", \"Topic19\", \"Topic19\", \"Topic19\", \"Topic19\", \"Topic19\", \"Topic19\", \"Topic19\", \"Topic19\", \"Topic20\", \"Topic20\", \"Topic20\", \"Topic20\", \"Topic20\", \"Topic20\", \"Topic20\", \"Topic20\", \"Topic20\", \"Topic20\", \"Topic20\", \"Topic20\", \"Topic20\", \"Topic20\", \"Topic20\", \"Topic20\", \"Topic20\", \"Topic20\", \"Topic20\", \"Topic20\", \"Topic20\", \"Topic20\", \"Topic20\", \"Topic20\", \"Topic20\", \"Topic20\", \"Topic20\", \"Topic20\", \"Topic20\", \"Topic20\", \"Topic20\", \"Topic20\", \"Topic20\", \"Topic20\", \"Topic20\", \"Topic20\", \"Topic20\", \"Topic20\", \"Topic20\", \"Topic20\", \"Topic20\", \"Topic20\", \"Topic20\", \"Topic20\", \"Topic20\", \"Topic20\", \"Topic20\", \"Topic20\", \"Topic20\", \"Topic20\", \"Topic20\", \"Topic20\", \"Topic20\", \"Topic20\", \"Topic20\", \"Topic20\"], \"logprob\": [30.0, 29.0, 28.0, 27.0, 26.0, 25.0, 24.0, 23.0, 22.0, 21.0, 20.0, 19.0, 18.0, 17.0, 16.0, 15.0, 14.0, 13.0, 12.0, 11.0, 10.0, 9.0, 8.0, 7.0, 6.0, 5.0, 4.0, 3.0, 2.0, 1.0, -5.442, -2.8898, -2.5554, -5.6889, -4.3295, -5.4744, -6.2726, -4.3225, -5.1369, -5.3132, -5.9892, -5.1143, -4.246, -3.3698, -4.5999, -4.8338, -5.172, -5.6457, -5.5135, -6.0308, -6.325, -4.8027, -2.0865, -5.3353, -3.9878, -4.6357, -3.3002, -3.0952, -6.5101, -5.9772, -1.3559, -3.8874, -2.2871, -4.7275, -4.7156, -4.8951, -4.6686, -4.7064, -5.0649, -5.2983, -3.2366, -2.6001, -3.4489, -6.0547, -3.9984, -6.2931, -5.833, -5.2411, -6.1225, -5.0229, -5.5634, -5.9641, -5.6743, -6.1804, -2.8162, -3.7048, -3.1429, -4.5883, -4.782, -5.6516, -5.9339, -6.1952, -4.871, -5.6814, -6.1843, -5.3568, -4.4685, -4.5231, -5.6755, -5.5597, -2.6268, -3.9875, -3.1642, -3.5027, -4.5792, -1.7763, -4.2607, -3.2858, -5.1254, -4.8532, -4.9817, -4.4062, -4.7357, -5.2469, -3.7081, -4.6418, -4.4902, -4.1218, -4.3651, -4.7543, -2.4719, -4.8064, -6.1837, -5.9896, -4.8758, -5.6593, -5.6372, -6.1259, -5.6304, -4.4502, -5.5316, -5.9511, -6.1458, -5.733, -5.9285, -6.0321, -4.8847, -6.1867, -5.0545, -6.167, -6.2751, -4.8465, -5.254, -6.2017, -4.989, -5.8017, -6.2461, -3.9561, -5.7723, -3.4097, -3.4242, -3.8094, -4.2728, -4.4004, -4.5058, -4.7087, -4.601, -4.918, -4.995, -5.1653, -5.1732, -5.0765, -5.3271, -5.5362, -5.4318, -5.5803, -4.4682, -4.9464, -5.4945, -3.3733, -4.6981, -3.8878, -3.3616, -3.4942, -2.118, -4.1347, -4.2398, -4.8034, -4.7028, -4.8056, -4.951, -4.9053, -4.9202, -3.3954, -5.4299, -3.6312, -5.5484, -5.8651, -6.1126, -6.0082, -6.0947, -6.1926, -5.7439, -4.0451, -5.5863, -5.5398, -6.1298, -5.1638, -4.9461, -5.7644, -6.051, -5.4776, -6.2144, -6.028, -5.811, -6.1434, -6.0194, -4.0557, -5.3909, -5.3822, -4.8114, -3.9012, -4.4018, -4.3587, -4.8182, -5.0851, -5.1978, -5.3736, -5.4974, -5.5139, -5.3731, -5.5999, -5.7103, -3.8127, -4.7879, -5.6983, -4.6446, -3.7564, -3.8735, -3.3117, -4.8464, -4.364, -4.6459, -4.1154, -4.8402, -3.2589, -4.0068, -4.2882, -3.0132, -4.2017, -3.9857, -4.1637, -4.1784, -4.5798, -4.6337, -3.7083, -4.2489, -4.7084, -4.7754, -5.9771, -5.5945, -5.2201, -5.4177, -5.5563, -4.415, -6.2241, -4.2257, -5.3584, -4.8918, -3.9113, -5.843, -6.0334, -4.4786, -6.0057, -5.1553, -4.9231, -5.5827, -3.6601, -4.7107, -5.357, -6.1446, -5.5705, -5.0932, -6.0466, -5.7268, -5.7543, -5.9485, -5.9754, -5.7576, -3.513, -3.9248, -4.3522, -4.4495, -4.4743, -4.1063, -5.0176, -5.2039, -5.2248, -5.413, -5.5162, -5.6209, -3.2121, -2.7973, -4.956, -4.7473, -2.2696, -2.8964, -4.2015, -4.1719, -4.6565, -4.7517, -3.5067, -4.2669, -4.6355, -4.5723, -4.7549, -4.9365, -5.5495, -3.9866, -5.5051, -5.8631, -5.0731, -4.7416, -4.6537, -6.1551, -6.0913, -5.9281, -6.1747, -5.8682, -5.9659, -6.2592, -5.3074, -6.16, -4.8692, -5.282, -5.2038, -5.5374, -3.7988, -4.4204, -5.1696, -5.3263, -4.5994, -4.2309, -5.5086, -3.4054, -5.7362, -3.8732, -2.621, -3.612, -4.3509, -5.1055, -5.0702, -5.3744, -5.5554, -5.5538, -5.5884, -3.259, -2.5571, -5.2893, -4.747, -5.0329, -4.7142, -4.0106, -4.0294, -4.4594, -4.4927, -5.2151, -2.1234, -4.3179, -4.1292, -4.2372, -4.8662, -4.5187, -4.7949, -4.6595, -4.8329, -3.2383, -5.4492, -4.149, -4.4937, -6.2105, -5.1992, -4.4809, -4.3187, -5.1908, -5.9127, -4.2643, -2.914, -2.9384, -4.6383, -3.5847, -4.0946, -5.8525, -5.9693, -3.408, -5.9677, -5.4839, -5.9867, -5.646, -5.5622, -5.9434, -5.9291, -2.0708, -3.3277, -6.3116, -6.5161, -3.5876, -3.1263, -2.7138, -3.4159, -4.0261, -4.2843, -2.087, -3.5031, -4.9693, -4.2152, -4.4913, -4.8544, -4.7558, -5.2379, -5.1822, -5.542, -4.0094, -4.6259, -5.5976, -5.4643, -6.2025, -5.2183, -4.7389, -3.067, -4.0724, -3.5677, -5.7647, -3.8226, -6.0643, -5.6481, -6.2035, -4.3967, -3.867, -4.3262, -6.0341, -4.6999, -4.1963, -5.8854, -6.1679, -5.4379, -5.9787, -5.5068, -6.0918, -5.9937, -6.0297, -2.8087, -2.8528, -3.817, -3.9298, -4.0482, -4.9138, -4.753, -4.9061, -5.4287, -5.5016, -5.3559, -2.4811, -4.4868, -4.5604, -3.9556, -4.1516, -4.9404, -4.4723, -3.2888, -4.2192, -3.629, -3.9942, -4.5947, -4.7178, -4.3075, -4.9839, -5.6985, -5.1779, -5.4036, -4.8698, -5.3263, -5.1023, -4.308, -4.2753, -5.4806, -5.6254, -3.9618, -6.0199, -5.1628, -6.1222, -5.6074, -5.4496, -6.2052, -5.9414, -6.2371, -5.9736, -6.2052, -5.9482, -5.7767, -1.0309, -4.4281, -4.3226, -6.1666, -4.006, -3.3997, -3.4209, -3.8444, -4.3748, -4.4144, -4.5431, -4.4928, -4.785, -4.8088, -4.7618, -4.891, -5.0981, -5.0994, -5.209, -4.833, -5.1765, -4.2161, -4.7246, -4.5104, -4.4012, -4.8127, -5.0855, -3.6726, -3.3894, -6.0974, -6.0005, -5.608, -5.7257, -5.6058, -5.5213, -5.1292, -4.9191, -5.631, -5.205, -5.1056, -6.0531, -5.9184, -5.9757, -5.687, -5.561, -5.6397, -5.0256, -5.1341, -6.1893, -4.7401, -5.3992, -5.3511, -5.3503, -5.9643, -6.0946, -6.1076, -5.7087, -1.9204, -4.009, -4.0673, -4.1924, -4.2525, -4.1406, -4.7557, -4.876, -5.0796, -5.2603, -5.2495, -4.5849, -5.2974, -5.2448, -4.9045, -5.342, -5.2813, -4.5147, -4.1815, -2.2694, -4.8391, -3.9126, -3.6031, -3.6649, -3.9129, -2.4116, -3.6776, -4.0273, -4.3422, -4.9598, -4.9135, -4.9289, -4.4468, -4.7637, -3.3666, -5.5238, -3.8551, -4.5619, -5.4372, -5.7738, -6.2402, -5.3597, -4.1294, -5.3248, -3.5731, -5.3785, -4.2297, -5.1643, -5.6244, -4.8896, -4.7698, -5.5322, -6.0703, -5.9797, -5.0793, -5.7253, -5.9879, -5.6976, -6.2138, -5.6852, -6.2531, -5.978, -5.9127, -6.2128, -2.982, -3.709, -3.8013, -4.232, -4.493, -4.5637, -4.7059, -4.7668, -4.729, -4.8325, -4.8574, -4.9298, -4.9397, -5.038, -5.2378, -5.3858, -5.3061, -5.3526, -4.1782, -4.7213, -4.026, -3.4915, -4.3323, -4.6331, -4.3782, -3.7998, -3.9199, -3.713, -3.6405, -4.0116, -4.8053, -3.4297, -4.6851, -4.6797, -4.7546, -3.5536, -5.5286, -6.0802, -3.5968, -5.992, -3.3498, -5.1899, -4.4376, -5.2269, -5.5507, -5.6509, -4.5126, -4.0276, -5.1214, -5.07, -5.8324, -5.2444, -5.0115, -5.6856, -5.0322, -5.6911, -5.9804, -5.8927, -4.8039, -5.8402, -4.4599, -5.8052, -5.5454, -5.3771, -5.9162, -4.1182, -4.2593, -4.4176, -4.7307, -4.6717, -4.7288, -4.6492, -4.9336, -4.9779, -5.1162, -5.1015, -5.1155, -4.0965, -4.5978, -5.2022, -3.2967, -3.5602, -5.1145, -4.6186, -3.4923, -4.5446, -4.5919, -2.9805, -3.8845, -4.8661, -4.1371, -4.236, -4.7121, -4.7726, -4.72, -2.86, -4.9893, -2.7211, -4.2298, -5.6316, -6.1694, -5.5334, -5.7393, -5.8817, -6.0222, -6.2212, -6.2383, -5.9963, -5.8764, -5.6918, -5.8037, -6.2127, -3.8001, -3.8063, -4.2437, -2.5796, -4.6064, -5.6793, -5.9426, -4.6675, -5.3286, -3.851, -5.4982, -5.5366, -4.6156, -3.6504, -4.8862, -5.9904, -3.4264, -4.1219, -5.4136, -4.8105, -4.6214, -3.7524, -3.5174, -4.6054, -4.8351, -4.5957, -4.3935, -4.7773, -4.1936, -4.9355, -3.6365, -4.2434, -4.1581, -4.4749, -3.596, -4.3104, -3.8301, -4.2046, -4.508, -4.1094, -4.4218, -5.4502, -5.2495, -5.7432, -4.3736, -5.5497, -6.2032, -3.7957, -5.3032, -5.7322, -6.2168, -4.8702, -4.0657, -5.8981, -4.9395, -5.7187, -5.7225, -6.074, -6.1939, -5.6585, -4.6431, -4.7994, -5.5059, -5.5195, -4.2458, -4.1054, -6.0667, -6.113, -4.5369, -5.5827, -5.5721, -4.1832, -4.5235, -4.5587, -4.9876, -5.2539, -5.3918, -5.5294, -3.9643, -4.7951, -3.7069, -5.0439, -3.0468, -5.0166, -5.1905, -4.3232, -5.1871, -2.563, -3.3851, -4.4776, -4.3538, -2.0599, -4.4609, -4.6669, -4.9879, -4.3065, -3.966, -4.488, -4.8368, -4.9705, -5.557, -1.9471, -3.6556, -3.8385, -3.865, -5.9796, -3.1561, -5.0286, -5.3737, -5.3049, -5.7176, -6.194, -5.3151, -5.5719, -5.5039, -6.0143, -5.1243, -4.9345, -5.2565, -5.2847, -5.9837, -5.2409, -3.5487, -4.3434, -4.8915, -5.4423, -4.5304, -5.1311, -4.8539, -6.0316, -4.6035, -4.5509, -4.8776, -4.7601, -5.2046, -5.414, -5.4644, -5.3164, -4.267, -5.1127, -4.8402, -4.0882, -2.3713, -3.801, -4.9386, -4.9365, -3.6836, -3.4356, -4.9745, -4.8046, -4.8412, -4.7075, -4.9988, -4.8283, -4.8495, -4.9257, -4.0731, -5.1258, -5.1957, -4.249, -2.5029, -4.5655, -3.2664, -5.3861, -4.3163, -5.7803, -4.2623, -5.6006, -5.8337, -4.9361, -5.0821, -5.0951, -6.0421, -5.7461, -5.7886, -5.8467, -5.8839, -5.7634, -5.5658, -6.1709, -6.2069, -5.7226, -5.7783, -5.4042, -5.9727, -5.8475, -2.271, -2.6453, -3.7843, -4.0065, -4.1856, -4.6918, -4.6523, -4.7621, -4.726, -4.8021, -4.9515, -5.1283, -4.8854, -5.2397, -5.3171, -5.2282, -5.3477, -5.1784, -4.893, -3.7208, -4.3396, -4.4822, -4.928, -4.1338, -4.9158, -4.6304, -3.8864, -4.8258, -4.7243, -4.1721, -4.5273, -2.9319, -4.6376, -5.4085, -4.7046, -3.6161, -4.7857, -4.9534, -4.4125, -4.6668, -5.9063, -6.2124, -5.9063, -5.9571, -6.1683, -5.8091, -5.2845, -5.7972, -6.0148, -6.0844, -6.1327, -5.5934, -6.1435, -5.7472, -6.1663, -6.1563, -5.8332, -4.089, -3.6038, -4.6459, -3.9367, -3.1417, -4.7229, -4.7154, -4.8724, -4.9633, -5.0791, -5.2886, -5.0517, -5.3757, -5.4508, -5.5705, -4.3323, -5.2962, -4.7225, -3.5465, -2.9936, -3.7776, -3.4644, -4.1329, -3.7405, -3.7588, -4.9868, -2.7405, -4.2859, -2.6885, -4.5884, -4.4325, -4.755, -3.3087, -4.5421, -5.9443, -6.0521, -5.9292, -2.8179, -4.0639, -3.7028, -4.7925, -4.0294, -6.173, -6.1375, -4.4216, -4.922, -4.8779, -6.0415, -5.2236, -5.8226, -6.0433, -4.8959, -6.0001, -6.1014, -4.3783, -3.8154, -4.6123, -4.858, -5.7366, -5.7824, -6.0086, -4.9333, -4.4743, -4.5083, -5.1556, -5.2432, -5.3729, -5.2228, -5.5603, -5.5724, -5.652, -5.7536, -4.9131, -1.3622, -3.6387, -3.7237, -5.3833, -4.4817, -4.5841, -4.7767, -3.8332, -4.2647, -4.8241, -4.6977, -4.6705, -4.77, -4.8828, -3.741, -4.4953, -5.5717, -5.8971, -4.0993, -6.1704, -6.1734, -5.8387, -5.1274, -4.8955, -4.8379, -3.457, -5.3706, -5.6554, -5.6506, -5.7325, -6.2249, -6.2398, -6.1937, -2.7455, -4.2989, -4.4068, -4.0614, -5.4491, -5.5673, -5.3116, -5.1896, -5.4462, -5.457, -6.2134, -2.9413, -5.0358, -5.6759, -5.1754, -5.6889, -2.1565, -5.0681, -3.3745, -3.9417, -4.1869, -5.3356, -4.8198, -3.7838, -2.9769, -4.5049, -4.3376, -4.442, -4.1761, -4.5614, -4.6176, -4.0769, -4.2012, -4.8151, -4.6234, -3.9079, -4.4116, -4.7449, -4.8164, -5.3001, -4.8971, -3.6942, -5.5693, -5.7736, -5.0691, -5.5303, -5.4887, -5.4792, -5.606, -3.5996, -4.8852, -5.8645, -4.8144, -6.1352, -5.5715, -5.5579, -5.9194, -6.0829, -5.7904, -6.0911, -5.4445, -2.1824, -2.676, -4.0917, -4.2343, -4.7948, -5.2625, -5.2889, -4.9342, -3.7859, -4.6984, -4.7861, -5.0547, -5.1557, -5.1891, -5.291, -5.378, -5.508, -2.4584, -3.5574, -3.7076, -5.1106, -3.9689, -4.514, -2.5005, -4.3844, -3.6719, -4.58, -4.8306, -4.2928, -4.6086, -4.9852, -4.7271, -4.9035, -4.9755], \"loglift\": [30.0, 29.0, 28.0, 27.0, 26.0, 25.0, 24.0, 23.0, 22.0, 21.0, 20.0, 19.0, 18.0, 17.0, 16.0, 15.0, 14.0, 13.0, 12.0, 11.0, 10.0, 9.0, 8.0, 7.0, 6.0, 5.0, 4.0, 3.0, 2.0, 1.0, 2.9784, 2.9784, 2.9784, 2.9784, 2.9784, 2.9784, 2.9784, 2.9784, 2.9784, 2.9784, 2.9784, 2.9784, 2.9782, 2.9782, 2.9782, 2.9781, 2.978, 2.9778, 2.9774, 2.9767, 2.9761, 2.8847, 2.8001, 2.7177, 2.4775, 2.4661, 2.4647, 2.3816, 2.3598, 2.3438, 2.29, 2.3067, 2.2254, 2.0164, 1.9177, 1.8892, 0.955, 0.792, 1.3644, 2.0939, 2.9909, 2.9909, 2.9909, 2.9909, 2.9909, 2.9909, 2.9909, 2.9909, 2.9909, 2.9909, 2.9909, 2.9909, 2.9909, 2.9909, 2.9908, 2.9907, 2.9906, 2.9905, 2.9904, 2.9903, 2.9901, 2.9899, 2.9898, 2.989, 2.9848, 2.98, 2.9658, 2.9221, 2.9156, 2.9102, 2.8716, 2.8721, 2.8078, 2.4479, 2.6235, 1.8697, 2.4832, 2.1911, 2.7155, 2.6, 2.6266, 2.0591, 2.2814, 2.6217, 1.1785, 1.8717, 1.573, 0.7738, 0.1473, 0.1604, 2.9915, 2.9915, 2.9915, 2.9915, 2.9915, 2.9915, 2.9915, 2.9915, 2.9915, 2.9915, 2.9915, 2.9915, 2.9915, 2.9915, 2.9915, 2.9915, 2.9915, 2.9915, 2.9915, 2.9915, 2.9915, 2.9915, 2.9915, 2.9915, 2.9915, 2.9915, 2.9915, 2.9915, 2.9915, 2.9915, 2.9915, 2.9915, 2.9904, 2.9914, 2.9914, 2.9898, 2.9887, 2.9905, 2.9912, 2.9915, 2.9915, 2.9905, 2.9907, 2.9915, 2.9901, 2.991, 2.9794, 2.9744, 2.9885, 2.9139, 2.9063, 2.7968, 2.7016, 2.5835, 1.6372, 2.2466, 2.2425, 2.5716, 2.3143, 0.8504, 2.2284, 2.9929, 2.9929, 2.9929, 2.9929, 2.9929, 2.9929, 2.9929, 2.9929, 2.9929, 2.9929, 2.9929, 2.9929, 2.9929, 2.9929, 2.9929, 2.9929, 2.9929, 2.9929, 2.9929, 2.9929, 2.9929, 2.9929, 2.9929, 2.9929, 2.9929, 2.9929, 2.9928, 2.9924, 2.9924, 2.9924, 2.9885, 2.9922, 2.9908, 2.9924, 2.9919, 2.9921, 2.9915, 2.9924, 2.9914, 2.9897, 2.9912, 2.9923, 2.9623, 2.975, 2.9917, 2.9022, 2.8007, 2.7995, 2.7031, 2.9051, 2.7957, 2.8235, 2.7145, 2.8591, 2.4587, 2.6436, 2.6501, 1.9694, 2.4846, 2.2477, 2.2378, 1.9431, 2.4715, 2.5309, 0.8875, 1.4723, 1.6049, 2.3598, 2.9932, 2.9932, 2.9932, 2.9932, 2.9932, 2.9932, 2.9932, 2.9932, 2.9932, 2.9932, 2.9932, 2.9932, 2.9932, 2.9932, 2.9932, 2.9932, 2.9932, 2.9932, 2.9932, 2.9932, 2.9932, 2.9932, 2.9932, 2.9932, 2.9932, 2.9932, 2.9932, 2.9932, 2.9932, 2.9932, 2.9931, 2.9918, 2.9932, 2.9932, 2.9928, 2.9878, 2.9929, 2.9928, 2.9928, 2.9918, 2.9927, 2.9932, 2.9449, 2.9228, 2.9755, 2.9326, 2.626, 2.3429, 2.5828, 2.4792, 2.5613, 2.5107, 1.4759, 1.9828, 2.0508, 1.5492, 1.847, 1.3724, 2.9933, 2.9933, 2.9933, 2.9933, 2.9933, 2.9933, 2.9933, 2.9933, 2.9933, 2.9933, 2.9933, 2.9933, 2.9933, 2.9933, 2.9933, 2.9933, 2.9933, 2.9933, 2.9933, 2.9933, 2.993, 2.993, 2.9929, 2.9929, 2.9929, 2.9929, 2.9928, 2.9927, 2.9927, 2.9926, 2.9868, 2.9908, 2.992, 2.9923, 2.9914, 2.991, 2.9922, 2.9917, 2.9916, 2.9486, 2.9333, 2.9879, 2.9694, 2.9736, 2.9546, 2.8853, 2.8758, 2.9068, 2.8591, 2.9644, 1.6318, 2.5223, 2.3531, 2.3153, 2.744, 2.3046, 2.5908, 1.7699, 2.1316, 2.9933, 2.9933, 2.9933, 2.9933, 2.9933, 2.9933, 2.9933, 2.9933, 2.9933, 2.9933, 2.9932, 2.9932, 2.9932, 2.9931, 2.9931, 2.993, 2.9926, 2.9926, 2.9923, 2.9917, 2.9898, 2.9883, 2.9875, 2.9862, 2.9363, 2.9359, 2.8439, 2.832, 2.8203, 2.7203, 2.7055, 2.6683, 2.619, 2.6345, 2.6655, 2.5455, 1.8779, 2.153, 2.6432, 1.9229, 2.004, 2.2901, 1.7798, 2.2287, 1.4197, 2.9941, 2.9941, 2.9941, 2.9941, 2.9941, 2.9941, 2.9941, 2.9941, 2.9941, 2.9941, 2.9941, 2.9941, 2.9941, 2.9941, 2.9941, 2.9941, 2.9941, 2.9941, 2.9941, 2.9941, 2.9941, 2.9941, 2.9941, 2.9941, 2.9941, 2.9941, 2.9941, 2.9941, 2.9941, 2.9941, 2.994, 2.9941, 2.994, 2.9938, 2.9929, 2.993, 2.9905, 2.9919, 2.9937, 2.9936, 2.992, 2.9474, 2.9754, 2.9139, 2.8166, 2.8218, 2.9176, 2.7726, 2.3348, 2.6259, 2.0922, 2.0877, 2.3698, 2.4037, 2.9948, 2.9948, 2.9948, 2.9948, 2.9948, 2.9948, 2.9948, 2.9948, 2.9948, 2.9948, 2.9948, 2.9948, 2.9948, 2.9948, 2.9948, 2.9948, 2.9948, 2.9948, 2.9948, 2.9948, 2.9948, 2.9948, 2.9948, 2.9948, 2.9948, 2.9948, 2.9948, 2.9948, 2.9948, 2.9948, 2.9948, 2.9941, 2.9948, 2.9942, 2.9935, 2.9946, 2.9926, 2.9948, 2.9948, 2.9941, 2.9948, 2.9945, 2.9938, 2.9948, 2.9903, 2.9937, 2.9147, 2.8964, 2.5817, 1.6135, 1.452, 2.3217, 2.9963, 2.9963, 2.9963, 2.9963, 2.9963, 2.9963, 2.9963, 2.9963, 2.9963, 2.9963, 2.9963, 2.9963, 2.9963, 2.9963, 2.9963, 2.9963, 2.9963, 2.9963, 2.9963, 2.9963, 2.9963, 2.9963, 2.9963, 2.9963, 2.9963, 2.9963, 2.9963, 2.9963, 2.9963, 2.9963, 2.9962, 2.9959, 2.9952, 2.9962, 2.9961, 2.994, 2.9948, 2.996, 2.996, 2.9959, 2.9955, 2.9887, 2.9959, 2.9951, 2.9906, 2.995, 2.9922, 2.9107, 2.7932, 2.243, 2.8688, 2.6009, 2.4788, 2.3135, 2.2812, 1.2343, 1.9459, 2.0941, 1.8912, 2.7535, 2.5853, 2.4634, 0.4679, 1.2082, 2.9967, 2.9967, 2.9967, 2.9967, 2.9967, 2.9967, 2.9967, 2.9967, 2.9967, 2.9967, 2.9967, 2.9967, 2.9967, 2.9967, 2.9967, 2.9967, 2.9967, 2.9967, 2.9967, 2.9967, 2.9967, 2.9967, 2.9967, 2.9967, 2.9967, 2.9967, 2.9967, 2.9967, 2.9967, 2.9967, 2.9966, 2.9963, 2.9964, 2.9966, 2.9961, 2.9961, 2.9965, 2.9962, 2.9958, 2.9962, 2.9964, 2.9964, 2.9961, 2.9964, 2.9963, 2.9963, 2.995, 2.9954, 2.9388, 2.9526, 2.8915, 2.7656, 2.8721, 2.9037, 2.8391, 2.666, 2.6557, 2.5367, 2.0826, 2.2932, 2.9038, 0.3255, 2.1933, 0.3028, 2.3925, 2.9971, 2.9971, 2.9971, 2.9971, 2.9971, 2.9971, 2.9971, 2.9971, 2.9971, 2.9971, 2.9971, 2.9971, 2.9971, 2.9971, 2.9971, 2.9971, 2.9971, 2.9971, 2.9971, 2.9971, 2.9971, 2.9971, 2.9971, 2.9971, 2.9971, 2.9971, 2.9971, 2.9971, 2.9971, 2.9971, 2.9969, 2.9957, 2.997, 2.9969, 2.9959, 2.9962, 2.9948, 2.9966, 2.9968, 2.9971, 2.9968, 2.9968, 2.9864, 2.9911, 2.9964, 2.9409, 2.9359, 2.9915, 2.9314, 2.5982, 2.8311, 2.8451, 2.2588, 2.4289, 2.874, 2.0776, 2.1655, 2.5623, 2.5152, 2.1791, 2.9977, 2.9977, 2.9977, 2.9977, 2.9977, 2.9977, 2.9977, 2.9977, 2.9977, 2.9977, 2.9977, 2.9977, 2.9977, 2.9977, 2.9977, 2.9977, 2.9977, 2.9976, 2.9976, 2.9976, 2.9975, 2.9973, 2.9971, 2.9969, 2.9969, 2.9965, 2.9962, 2.9962, 2.9951, 2.9944, 2.9823, 2.994, 2.9944, 2.9404, 2.9446, 2.9741, 2.8954, 2.8775, 2.7908, 2.7473, 2.8581, 2.8604, 2.7891, 2.6319, 2.7021, 2.342, 2.7063, 2.0195, 2.346, 2.2232, 2.4035, 1.5786, 2.185, 1.5027, 1.8859, 2.0939, 0.9182, 1.6286, 2.9983, 2.9983, 2.9983, 2.9983, 2.9983, 2.9983, 2.9983, 2.9983, 2.9983, 2.9983, 2.9983, 2.9983, 2.9983, 2.9983, 2.9983, 2.9983, 2.9983, 2.9983, 2.9983, 2.9981, 2.998, 2.9978, 2.9978, 2.9977, 2.9974, 2.9974, 2.9973, 2.9973, 2.9972, 2.9967, 2.9966, 2.9966, 2.9963, 2.9958, 2.9955, 2.9955, 2.9932, 2.952, 2.9316, 2.8483, 2.9318, 2.6951, 2.9239, 2.9363, 2.7755, 2.9294, 2.3905, 2.3379, 2.6597, 2.6108, 1.6953, 2.5085, 2.5082, 2.7619, 2.0544, 1.0165, 1.6501, 1.4203, 2.4759, 2.9983, 2.9983, 2.9983, 2.9983, 2.9983, 2.9983, 2.9983, 2.9983, 2.9983, 2.9983, 2.9983, 2.9983, 2.9983, 2.9983, 2.9983, 2.9983, 2.9983, 2.9983, 2.9983, 2.9983, 2.9983, 2.9983, 2.9983, 2.9982, 2.9981, 2.9979, 2.9978, 2.9976, 2.9975, 2.9975, 2.9971, 2.996, 2.9972, 2.993, 2.9964, 2.9969, 2.9974, 2.9907, 2.9403, 2.9648, 2.8776, 2.7135, 2.2245, 2.5237, 2.8677, 2.858, 2.2947, 2.0536, 2.8131, 2.56, 2.5884, 2.2655, 2.6193, 1.657, 1.7029, 1.6498, 2.999, 2.999, 2.999, 2.999, 2.999, 2.999, 2.999, 2.999, 2.999, 2.999, 2.999, 2.999, 2.999, 2.999, 2.999, 2.999, 2.999, 2.999, 2.999, 2.999, 2.999, 2.999, 2.999, 2.999, 2.999, 2.999, 2.999, 2.999, 2.999, 2.999, 2.9989, 2.9949, 2.9983, 2.9985, 2.9987, 2.9988, 2.9983, 2.9987, 2.9959, 2.9962, 2.9969, 2.9986, 2.9954, 2.9986, 2.9981, 2.9971, 2.9981, 2.9942, 2.9852, 2.9043, 2.7755, 2.7899, 2.869, 2.4755, 2.8613, 2.5617, 1.8348, 2.731, 2.578, 1.5455, 2.106, 2.9995, 2.9995, 2.9995, 2.9995, 2.9995, 2.9995, 2.9995, 2.9995, 2.9995, 2.9995, 2.9995, 2.9995, 2.9995, 2.9995, 2.9995, 2.9995, 2.9995, 2.9995, 2.9995, 2.9995, 2.9995, 2.9995, 2.9995, 2.9995, 2.9995, 2.9995, 2.9994, 2.9994, 2.9993, 2.9993, 2.9993, 2.9993, 2.9991, 2.9993, 2.9989, 2.9985, 2.9991, 2.9963, 2.9987, 2.9991, 2.9979, 2.982, 2.9903, 2.9736, 2.8744, 2.8317, 2.8654, 2.8085, 2.8256, 2.7289, 2.7266, 2.9326, 2.213, 2.7003, 1.0667, 1.841, 1.2851, 2.2431, 2.9999, 2.9999, 2.9999, 2.9999, 2.9999, 2.9999, 2.9999, 2.9999, 2.9999, 2.9999, 2.9999, 2.9999, 2.9999, 2.9999, 2.9999, 2.9999, 2.9999, 2.9999, 2.9999, 2.9999, 2.9999, 2.9999, 2.9997, 2.9997, 2.9997, 2.9993, 2.9992, 2.9992, 2.9991, 2.999, 2.999, 2.9974, 2.9985, 2.9987, 2.999, 2.9952, 2.9977, 2.9972, 2.9975, 2.9972, 2.9622, 2.6027, 2.6703, 2.491, 2.9016, 2.4174, 2.4604, 2.548, 1.1494, 1.4773, 2.2488, 1.9534, 1.4676, 0.5627, 1.7928, 3.0046, 3.0046, 3.0046, 3.0046, 3.0046, 3.0046, 3.0046, 3.0046, 3.0046, 3.0046, 3.0046, 3.0046, 3.0046, 3.0046, 3.0046, 3.0046, 3.0046, 3.0046, 3.0046, 3.0045, 3.0044, 3.0043, 3.0042, 3.0041, 3.0035, 3.0034, 3.0031, 3.0027, 3.0026, 3.0025, 2.9934, 2.9955, 3.0017, 2.9923, 2.9915, 2.8711, 2.966, 2.8786, 2.9005, 2.8691, 2.9559, 2.8807, 2.7015, 2.5122, 2.7944, 2.7412, 2.7246, 2.6248, 2.6434, 2.5901, 2.2279, 2.1598, 2.5809, 2.3496, 0.9877, 1.6661, 1.7209, 2.0238, 3.005, 3.005, 3.005, 3.005, 3.005, 3.005, 3.005, 3.005, 3.005, 3.005, 3.005, 3.005, 3.005, 3.005, 3.005, 3.005, 3.005, 3.005, 3.005, 3.005, 3.005, 3.005, 3.0049, 3.0049, 3.0048, 3.0048, 3.0047, 3.0046, 3.0045, 3.0044, 3.0043, 3.0033, 3.0029, 3.0043, 3.0039, 3.0042, 3.0022, 3.0027, 3.0018, 2.7162, 2.8033, 2.808, 2.946, 2.7027, 2.7736, 2.0953, 2.5547, 2.093, 2.5482, 2.6337, 2.0319, 2.2877, 2.375, 1.0982, 1.5658, 2.146]}, \"token.table\": {\"Topic\": [15, 5, 4, 9, 11, 13, 15, 9, 11, 13, 8, 11, 15, 1, 10, 12, 5, 9, 10, 1, 1, 5, 11, 12, 13, 9, 9, 11, 16, 20, 2, 12, 13, 15, 4, 5, 8, 14, 4, 13, 18, 19, 4, 9, 20, 3, 8, 14, 18, 3, 14, 11, 16, 12, 14, 8, 12, 18, 4, 11, 14, 17, 6, 8, 11, 18, 11, 5, 15, 7, 11, 13, 18, 6, 14, 2, 3, 8, 20, 8, 18, 15, 4, 17, 4, 6, 11, 9, 9, 7, 16, 5, 10, 16, 1, 12, 14, 4, 5, 5, 9, 10, 12, 19, 6, 19, 10, 4, 9, 15, 10, 11, 7, 20, 19, 20, 3, 5, 8, 12, 19, 1, 2, 7, 20, 12, 18, 3, 9, 8, 16, 19, 16, 1, 4, 7, 9, 13, 3, 4, 7, 4, 14, 11, 3, 6, 10, 14, 6, 3, 8, 9, 3, 16, 3, 3, 8, 14, 18, 15, 18, 9, 12, 3, 12, 13, 18, 1, 20, 1, 6, 8, 13, 17, 19, 20, 1, 1, 9, 1, 18, 18, 6, 14, 19, 14, 16, 2, 3, 17, 11, 14, 3, 13, 15, 14, 8, 16, 16, 1, 14, 20, 15, 20, 1, 2, 10, 2, 10, 8, 17, 20, 15, 19, 13, 5, 5, 6, 14, 18, 14, 3, 13, 20, 4, 8, 10, 16, 8, 6, 5, 7, 6, 8, 17, 5, 12, 14, 7, 11, 13, 16, 8, 13, 17, 17, 19, 5, 6, 15, 19, 3, 18, 5, 12, 15, 4, 17, 19, 4, 7, 11, 15, 16, 19, 20, 5, 13, 14, 17, 11, 1, 18, 9, 14, 3, 15, 17, 20, 15, 17, 12, 19, 8, 8, 17, 8, 11, 13, 16, 4, 4, 5, 3, 9, 7, 12, 14, 20, 12, 14, 17, 19, 6, 16, 15, 20, 1, 2, 18, 11, 14, 2, 15, 16, 20, 7, 8, 11, 2, 3, 4, 5, 6, 7, 18, 19, 20, 17, 18, 20, 19, 8, 20, 6, 17, 3, 10, 10, 8, 10, 10, 10, 13, 3, 4, 5, 9, 14, 1, 2, 1, 2, 5, 13, 19, 2, 9, 15, 20, 9, 3, 4, 14, 13, 4, 10, 7, 19, 5, 9, 7, 10, 9, 4, 6, 14, 3, 3, 6, 11, 14, 16, 11, 11, 3, 10, 11, 18, 7, 18, 1, 16, 8, 18, 5, 3, 12, 20, 2, 19, 7, 13, 15, 13, 15, 20, 2, 7, 10, 2, 19, 14, 1, 2, 1, 2, 4, 20, 1, 8, 10, 11, 3, 6, 8, 13, 14, 7, 7, 8, 11, 18, 11, 19, 2, 16, 11, 11, 16, 6, 9, 13, 14, 9, 14, 4, 9, 3, 7, 1, 5, 2, 5, 16, 8, 9, 13, 16, 4, 15, 6, 16, 15, 6, 9, 9, 17, 1, 5, 20, 11, 13, 17, 20, 6, 4, 6, 2, 8, 12, 1, 3, 8, 8, 2, 5, 15, 19, 3, 12, 9, 10, 18, 9, 6, 10, 17, 16, 2, 16, 1, 3, 5, 11, 4, 4, 19, 9, 2, 9, 20, 11, 3, 4, 8, 15, 18, 2, 3, 8, 5, 16, 5, 16, 9, 13, 15, 18, 18, 8, 18, 17, 3, 3, 3, 11, 11, 15, 17, 9, 9, 4, 11, 11, 12, 13, 6, 15, 19, 11, 13, 3, 4, 4, 14, 3, 7, 14, 6, 18, 18, 5, 4, 6, 9, 12, 6, 19, 19, 19, 8, 16, 6, 4, 3, 9, 13, 18, 2, 18, 19, 14, 16, 15, 17, 1, 2, 3, 8, 14, 18, 18, 3, 9, 13, 6, 8, 8, 11, 12, 19, 19, 8, 14, 15, 16, 18, 6, 11, 15, 16, 11, 15, 7, 19, 7, 6, 11, 14, 17, 13, 16, 5, 11, 14, 11, 1, 2, 3, 1, 17, 20, 12, 3, 14, 1, 20, 9, 17, 19, 19, 5, 9, 13, 11, 13, 17, 6, 14, 19, 4, 8, 9, 11, 16, 19, 14, 5, 1, 1, 6, 17, 3, 3, 15, 12, 11, 16, 3, 9, 12, 12, 12, 4, 11, 15, 19, 7, 12, 13, 10, 10, 8, 3, 4, 12, 10, 12, 17, 18, 4, 5, 16, 1, 7, 10, 2, 5, 7, 13, 16, 2, 5, 4, 14, 20, 20, 4, 6, 3, 5, 12, 6, 3, 17, 4, 9, 13, 15, 3, 6, 11, 15, 19, 3, 6, 7, 5, 6, 18, 4, 4, 5, 7, 11, 13, 14, 18, 2, 10, 11, 8, 10, 20, 19, 6, 8, 4, 8, 12, 14, 3, 19, 3, 12, 12, 13, 12, 10, 17, 3, 11, 6, 8, 7, 10, 13, 14, 11, 13, 17, 13, 13, 14, 16, 16, 1, 10, 11, 8, 2, 10, 13, 2, 13, 5, 5, 16, 4, 16, 20, 2, 1, 4, 3, 15, 10, 11, 6, 2, 3, 19, 8, 14, 20, 12, 17, 5, 7, 14, 17, 20, 3, 6, 9, 16, 2, 16, 12, 13, 14, 9, 10, 12, 10, 20, 1, 10, 6, 14, 3, 4, 15, 4, 10, 16, 20, 5, 15, 9, 16, 5, 12, 20, 6, 15, 17, 19, 3, 5, 18, 1, 4, 5, 10, 15, 2, 18, 2, 3, 8, 10, 12, 13, 10, 13, 3, 7, 8, 4, 6, 7, 3, 16, 15, 20, 1, 2, 4, 8, 2, 13, 15, 4, 15, 20, 20, 9, 7, 14, 16, 16, 8, 18, 20, 4, 6, 13, 16, 20, 8, 12, 9, 9, 20, 9, 13, 20, 2, 3, 16, 3, 11, 10, 15, 18, 9, 8, 14, 7, 1, 2, 13, 7, 13, 17, 10, 19, 20, 8, 10, 10, 10, 19, 9, 17, 11, 19, 20, 2, 6, 10, 15, 12, 16, 8, 10, 13, 4, 7, 14, 18, 14, 11, 15, 16, 18, 19, 5, 6, 11, 14, 11, 17, 17, 20, 14, 8, 18, 19, 6, 14, 18, 8, 14, 15, 4, 12, 15, 18, 19, 4, 5, 16, 15, 19, 5, 8, 8, 13, 5, 10, 10, 3, 13, 4, 5, 13, 16, 18, 5, 13, 4, 7, 9, 19, 20, 7, 18, 1, 6, 7, 12, 15, 18, 6, 20, 3, 3, 14, 6, 6, 8, 2, 3, 4, 10, 10, 4, 6, 11, 14, 5, 14, 18, 19, 2, 4, 4, 18, 20, 12, 13, 9, 9, 7, 2, 3, 11, 19, 3, 12, 13, 19, 14, 17, 12, 4, 17, 18, 16, 8, 16, 8, 2, 6, 5, 7, 17, 1, 16, 17, 16, 2, 8, 13, 14, 1, 10, 13, 9, 17, 18, 20, 4, 5, 4, 6, 13, 9, 17, 6, 10, 16, 19, 5, 7, 13, 16, 11, 14, 5, 16, 3, 7, 13, 14, 18, 20, 12, 8, 14, 20, 10, 16, 6, 12, 15, 5, 11, 4, 5, 11, 13, 2, 7, 9, 19, 5, 16, 18, 5, 2, 7, 12, 13, 15, 4, 6, 19, 13, 18, 20, 8, 10, 8, 5, 16, 4, 5, 19, 7, 19, 5, 12, 6, 13, 4, 6, 19, 16, 20, 2, 11, 2, 8, 16, 20, 12, 2, 13, 10, 4, 6, 12, 14, 1, 4, 7, 17, 12, 16, 20, 13, 5, 3, 14, 19, 1, 17, 13, 17, 18, 20, 1, 6, 7, 5, 6, 11, 4, 8, 17, 7, 12, 18, 4, 1, 10, 19, 7, 13, 17, 7, 9, 13, 19, 6, 2, 16, 3, 9, 17, 16, 4, 14, 3, 19, 3, 6, 11, 14, 17, 3, 6, 15, 19, 17, 17, 14, 6, 18, 11, 12, 14, 19, 5, 14, 17, 20, 12, 17, 2, 1, 2, 4, 16, 1, 3, 4, 2, 3, 6, 19, 4, 12, 13, 15, 20, 3, 3, 7, 12, 15, 20, 5, 12, 6, 17, 9, 9, 1, 5, 17, 9, 4, 7, 9, 18, 5, 7, 5, 12, 18, 4, 11, 13, 14, 15, 17, 18, 2, 4, 6, 12, 17, 12, 16, 8, 8, 8, 12, 5, 6, 11, 11, 19, 11, 14, 4, 13, 4, 15, 20, 10, 15, 2, 6, 13, 10, 14, 20, 8, 9, 15, 19, 14, 16, 10, 11, 12, 8, 11, 2, 11, 4, 11, 5, 5, 11, 3, 11, 15, 19, 2, 12, 13, 2, 8, 3, 18, 13, 6, 8, 20, 16, 6, 8, 11, 9, 8, 9, 3, 6, 3, 3, 4, 9, 13, 14, 3, 4, 14, 4, 15, 14, 18, 18, 5, 12, 18, 4, 5, 13, 13, 2, 7, 13, 13, 15, 19, 13, 17, 18, 4, 5, 11, 12, 17, 6, 11, 13, 13, 10, 10, 1, 11, 13, 14, 5, 12, 19, 5, 20, 5, 7, 13, 1, 3, 2, 10, 13, 17, 8, 14, 9, 19, 9, 8, 10, 15, 20, 15, 15, 2, 9, 2, 1, 2, 10, 5, 13, 5, 8, 9, 16, 2, 6, 6, 4, 9, 14, 5, 1, 2, 2, 1, 2, 15, 16, 20, 1, 15, 10, 3, 10, 15, 19, 2, 5, 11, 13, 4, 9, 10, 19, 4, 4, 11, 12, 13, 14, 15, 1, 20, 18, 4, 7, 13, 19, 14, 7, 14, 4, 14, 2, 5, 15, 18, 17, 16, 4, 17, 18, 17, 1, 2, 10, 20, 20, 10, 5, 12, 15, 15, 17, 4, 15, 15, 4, 12, 20, 11, 16, 3, 11, 17, 12, 18, 15, 18, 15, 12, 18, 19, 12, 16, 17, 18, 3, 9, 19, 14, 15, 20, 3, 14, 6, 8, 9, 2, 15, 19, 1, 9, 9, 5, 10, 12, 18, 4, 16, 20, 9, 5, 4, 18, 4, 13, 9, 12, 17, 17, 3, 15, 1, 2, 7, 10, 13, 16, 16, 5, 15, 19, 17, 4, 17, 8, 9, 19, 4, 15, 16, 4, 12, 15, 10, 12, 14, 3, 9, 4, 14, 3, 14, 16, 17, 19, 2, 13, 20, 13, 19, 4, 12, 16, 14, 4, 7, 13, 14, 16, 18, 6, 12, 17, 17, 13, 16, 9, 3, 9, 9, 17, 10, 13, 15, 7, 14, 17, 6, 17, 12, 16, 14, 15, 1, 2, 9, 4, 8, 15, 11, 18, 1, 3, 9, 14, 2, 13, 4, 20, 12, 18, 4, 6, 19, 3, 20, 6, 6, 13, 15, 17, 10, 19, 8, 4, 8, 20, 11, 2, 3, 6, 14, 2, 10, 10, 19, 1, 16, 17, 20, 18, 14, 1, 4, 10, 1, 7, 10, 11, 2, 10, 19, 8, 19, 13, 11, 12, 17, 18, 5, 13, 18, 14, 17, 3, 3, 8, 11, 12, 19, 17, 1, 5, 6, 8, 13, 17, 15, 19, 17, 18, 6, 18, 1, 3, 6, 14, 17, 6, 17, 11, 15, 1, 13, 15, 16, 15, 11, 15, 14, 17, 1, 2, 7, 10, 17, 9, 4, 6, 14, 14, 2, 10, 3, 6, 13, 16, 15, 16, 7, 12, 15, 20, 15, 16, 10, 8, 18, 20, 1, 10, 10, 10, 10, 3, 4, 15, 10, 11, 14, 17, 14, 17, 11, 12, 15, 16, 17, 10, 15, 15, 18, 5, 15, 20, 10, 20, 9, 14, 15, 4, 2, 8, 13, 19, 6, 18, 13, 20, 2, 5, 7, 11, 13, 18, 19, 6, 11, 18, 20, 18, 4, 6, 7, 8, 13, 17, 8, 1, 8, 10, 11, 2, 10, 15, 8, 8, 4, 2, 13, 18, 1, 1, 1, 6, 18, 12, 13, 15, 4, 13, 15, 13, 3, 6, 12, 15, 16, 16, 3, 15, 16, 19, 12, 5, 12, 16, 11, 13, 16, 2, 6, 13, 9, 13, 11, 6, 11, 11, 5, 7, 13, 8, 3, 6, 9, 11, 14, 16, 17, 8, 11, 5, 15, 8, 1, 18, 17, 20, 14, 17, 13, 19, 10, 4, 9, 12, 16, 19, 10, 10, 4, 9, 4, 8, 9, 13, 9, 9, 8, 9, 13, 20, 19, 15, 16, 12, 20, 13, 20, 1, 7, 17, 3, 20, 8, 7, 12, 14, 12, 17, 14, 15, 19, 8, 12, 14, 20, 4, 8, 18, 9, 11, 4, 9, 15, 16, 8, 12, 16, 7, 9, 13, 18, 19, 8, 19, 13, 12, 19, 12, 2, 5, 7, 13, 2, 7, 13, 17, 18, 18, 13, 3, 10, 2, 15, 17, 4, 11, 5, 15, 20, 11, 9, 19, 20, 4, 16, 17, 7, 17, 19, 4, 4, 6, 13, 17, 19, 3, 5, 13, 19, 2, 19, 17, 19, 4, 6, 8, 6, 14, 19, 10, 3, 14, 20, 20, 20, 2, 10, 14, 17, 20, 5], \"Freq\": [1.000330505254008, 0.9998920037279465, 0.8748998656043119, 0.12522185133590294, 0.0004551763688329008, 0.813075045126656, 0.18649226083039422, 0.0002617507198588521, 0.9993642484210973, 0.0002617507198588521, 0.04270262107178566, 0.9567804249574616, 0.0004028549157715628, 0.9998899026515016, 0.00012848752282851474, 1.0000273510972197, 0.9986442354895965, 0.0005667674435241751, 0.0007556899246989002, 0.9999977885181695, 0.9998295820454024, 0.14520457069445128, 0.8541295221692943, 0.00012759628356278673, 0.00038278885068836015, 0.9999277856623617, 0.0004703218596523594, 0.9994339517612637, 0.9969175044605425, 0.0029588393178816186, 0.00043045583851845687, 0.8841562923169104, 0.1151469368036872, 0.00021522791925922843, 0.6015124044515913, 0.3897038079981995, 0.00030011845051844394, 0.008478346227146041, 0.00019508447917727408, 0.7471735552489597, 0.00039016895835454815, 0.2520491470970381, 0.02354353916228349, 0.18300995267426176, 0.7933625173522971, 0.00021469514141815878, 0.06032933473850262, 0.35639393475414355, 0.5830046565210102, 0.001967515668026185, 0.9980670388714649, 1.0003308097948465, 1.000013843679346, 0.9996301660355679, 0.0002721563207284421, 0.00021255631085776076, 0.9998648862749067, 0.9996807933143836, 0.9998648424122403, 1.0000305170782213, 0.5445727990067601, 0.4554312208194065, 3.1008331084054736e-05, 0.999863635805345, 3.1008331084054736e-05, 6.201666216810947e-05, 1.0000156073717903, 0.9999902327686147, 1.0001060094135554, 0.722524643509773, 0.00012304051147511992, 0.16007570542913102, 0.1172576074357893, 0.0014787976958681166, 0.9981884447109787, 0.0005041045826311239, 0.0005041045826311239, 0.9978750213183099, 0.0010082091652622478, 0.9999879325331508, 1.0001123606745872, 1.0000980610414694, 0.999324170279639, 0.0006749909964739203, 0.9998067810738199, 0.00044044257137671817, 0.9995844157394619, 0.9999286795416132, 0.9999575317776935, 0.9989995276455049, 0.001014670550593561, 0.9999595053859623, 6.265803028923882e-05, 0.9998162655425229, 0.0010009076827284882, 0.9987056858264857, 0.00020018153654569767, 0.0002820504269856938, 0.9995867132372989, 0.6493116052133378, 0.34725276566659036, 0.00025533291593131646, 0.0030639949911757973, 0.00012766645796565823, 1.0001384516043428, 1.0002550586413284, 1.0001509107164173, 0.9999918255011928, 1.0000286366584192, 1.0000336679627477, 0.0002888576904304436, 0.9997364665797653, 0.999867638840902, 0.0001930619113421321, 0.00013041618586100658, 0.9999008969963374, 0.00013692747796039876, 0.05970038039073386, 0.00109541982368319, 0.6175429256013985, 0.3215057182510163, 0.0033808258723886262, 0.003863800997015573, 0.9929968562330023, 1.000013049290338, 0.6473677340455232, 0.3527289552572748, 0.9999820977322258, 0.9997506598946597, 0.06153989767959382, 0.9096189692572073, 0.02886447035659848, 0.9999895780561989, 3.972697886845038e-05, 0.0007548125985005573, 0.6984797424650946, 0.046361384339481594, 0.25433211871581934, 0.08402414358413728, 0.9159937725441701, 1.0001688045627066, 0.996963371567979, 0.003209540029192689, 0.9999452498534642, 0.4728254305901879, 0.5271563030493088, 1.0001535787342808, 1.0001193588730382, 1.0000772420599378, 0.001976169850839476, 0.9979657746739352, 1.0000671350791164, 0.00021973202938215634, 0.9997807336888113, 1.0001549905238638, 0.918350650288857, 0.0005637511665370515, 0.08080433387031072, 0.0001879170555123505, 0.000149839166924163, 0.9998767608849397, 0.0008480716487504182, 0.9990284022279927, 9.282045122109892e-05, 0.4412684251051042, 9.282045122109892e-05, 0.5585006549973521, 0.5982955106755641, 0.40171014076400036, 0.19909927462858446, 0.29420965385220726, 0.07271098545893802, 0.11234514592857461, 0.31393968981073794, 0.0076018667957868154, 5.8029517525090195e-05, 1.0001222820252862, 0.9991380352297672, 0.0009120383708167661, 0.0013024821900380985, 0.998678219211712, 1.0002930283485696, 0.00019495606191609165, 0.999734685505718, 0.9999751233799243, 0.0005904039406548388, 0.9993570702150906, 5.0338970355051564e-05, 0.9252806140962029, 0.07465269303654147, 0.7936048954966572, 0.20637537289797359, 0.05080361490470499, 0.9481512665044401, 0.0009875432702858421, 0.9999549530707187, 0.0002469153000735411, 0.9997600499977679, 1.0001139274455897, 0.002245160170438645, 0.0003741933617397742, 0.9972253090364982, 0.9997249624244829, 0.00024993124060612075, 0.5024085717588818, 0.32587956228142906, 0.17171043953521126, 0.3369727876495888, 0.66295549441748, 0.5540798592040674, 0.022376524968902495, 0.42364674733870317, 0.01322726054078664, 0.9870843178562031, 0.9999173358196616, 1.0001564567127363, 0.9998249672393066, 0.006898792200298681, 0.9335320172858717, 0.05958047809348861, 1.0001567570035834, 0.9971587287487125, 0.00037034678876461, 0.002407254126969965, 0.4746350666508573, 0.03625353272911071, 0.33119510228712584, 0.15794137745537573, 0.9998931774843006, 1.0000424761125672, 0.0014569575223288003, 0.9980159027952281, 0.9975392453496615, 0.0002070729128182248, 0.002208777736727731, 0.14920791924694665, 0.8469567760861251, 0.0038871802609424977, 0.999968338899052, 0.18778763198305826, 0.012442370708079934, 0.7997679394026935, 0.0029889201622949296, 0.9968048741253591, 0.9999918549663919, 0.999933532037143, 0.9997248131691904, 0.0973271054553705, 0.0005260924619209216, 0.0010521849238418431, 0.9011087051935519, 0.00018935277318019099, 0.9997826423914083, 0.004965183393296929, 0.9942779745077098, 0.0006206479241621161, 0.9132325601677118, 0.004434890055204506, 0.08231155942459563, 0.0001763758363475778, 0.999839341087149, 0.7110059564852559, 0.25959172698049443, 0.021425552627885567, 0.00376122553969151, 0.004164213990372744, 0.9999378963699411, 0.0006032547602821937, 0.00030162738014109683, 0.9989898830273127, 1.0000243955781167, 0.9997381853493426, 0.0003242744681639126, 0.9989402732438528, 0.000992653467946856, 8.698157604049226e-05, 8.698157604049226e-05, 0.999766235009418, 4.349078802024613e-05, 0.9999735836861171, 1.0001287141610693, 1.000188997562894, 1.0000646712907024, 0.9999044109769136, 0.00147817423418289, 0.9982603328181784, 1.0002990514964494, 1.0000078946355013, 1.0002926402624985, 0.9999340070872181, 1.0002699124856336, 1.0000175471451607, 1.0001458425133394, 0.8230588804826044, 0.17692619909900908, 0.9999968020314474, 1.0003638930265368, 0.0024503533641036706, 0.9977022114175444, 0.9999988407952727, 0.3891031967853008, 0.18122020752786155, 0.42963929583758564, 0.0034686087245555707, 0.9964817350116075, 0.9997825974118927, 0.00014447725396125616, 1.0000006461365376, 0.0007645155944604478, 0.9992218819598052, 0.06455638265951412, 0.9354304789972359, 1.000160079755426, 0.8690628994862836, 0.0002272654025853252, 0.130677606486562, 0.9952944262718062, 0.004439975135785009, 0.0007399958559641682, 0.5810033486719622, 0.07538914808273652, 0.055508271168214204, 0.1311490759207548, 0.00010785285848746284, 0.00025165666980407993, 0.12572048204355252, 0.03084591752741437, 3.5950952829154274e-05, 0.0003329723899966646, 0.00024972929249749847, 0.9993333854774896, 0.999958827635698, 0.9999578703658668, 1.0000213971985557, 0.9804385682664727, 0.01938402900011078, 0.00036060299040793607, 0.9995914894107988, 1.000015710006811, 0.000309545625260277, 0.9996260058405211, 0.9997544473560729, 0.9996253653685783, 0.00030100131447412774, 0.9879351591044341, 0.011566070155368985, 0.00016063986326901366, 0.00016063986326901366, 0.00016063986326901366, 0.3235886082445624, 0.6764181241737308, 3.75540099062381e-05, 0.10891914673139257, 0.6926962307238638, 0.06528138722034389, 0.13306637510110367, 0.999525280796722, 0.00018316387773441853, 0.00018316387773441853, 0.9999166470040953, 0.9998648658957754, 0.00022020150711974512, 0.982318923261183, 0.017395919062459866, 1.0000738314005484, 0.00024557342917346886, 0.9997294301651917, 0.9943982939227323, 0.005784442746245402, 0.9998635375919662, 0.9999415681260231, 0.005528763892925152, 0.9944235783774921, 1.0004066048977578, 0.30426275310609313, 0.668623062408824, 0.02702880039999537, 1.0000276228077831, 0.0006872447373784293, 0.08178212374803309, 0.40086412827335965, 0.516664866521625, 0.9999957149024378, 0.9999860718256155, 0.9999783228589145, 0.0007818824655230536, 0.9988548497057009, 0.0003909412327615268, 0.9998414371088165, 0.0009889314268966161, 0.9991503849745479, 0.000204819796547536, 0.9997254269485233, 0.00048398869510937444, 0.9994366554008582, 1.0002453533165185, 0.999878165947723, 0.00016881279181963922, 1.0002647539449052, 1.0000001254854072, 1.0001974630124584, 0.7045622454543865, 0.2951621345571213, 0.00018944938033191357, 0.9999472269445335, 8.439797661584516e-05, 1.0001134203294009, 0.05898935780419085, 0.8612344159623321, 0.07978811471979351, 0.0001390581768344652, 0.9998282914398048, 1.0000164889520275, 0.836726507746625, 0.16327339217902442, 0.6059971354993398, 0.3938319680478636, 6.0154569733903095e-05, 6.0154569733903095e-05, 0.7704376028973952, 0.0005885695973242133, 0.22895357335911898, 1.000100379689268, 0.999958303210093, 0.9990742374073901, 0.0005785027431426694, 0.9996254259525343, 0.0003755872350000129, 1.0000420691483891, 0.02197607832766467, 0.25156535894683474, 0.2546574704703252, 0.4718783049955333, 0.9438062412148068, 0.0562105465906336, 1.0001908582351249, 1.000094168596067, 0.9997665137507507, 0.9988400090623645, 0.0011858013562275796, 9.958195608807464e-05, 0.22555313053948906, 0.16152193277485707, 0.6127277758099232, 0.9062175161194373, 0.09381252380658735, 0.004444204351529543, 0.9955017747426176, 0.9999270830784451, 8.413353664942744e-05, 0.91064884742247, 0.08943143389485243, 0.0003943915662399841, 0.0003943915662399841, 0.9989938372858796, 0.8416724359672828, 9.997297018259684e-05, 0.1581572388288682, 9.997297018259684e-05, 0.0005223488954262472, 0.9994275532488863, 0.9984547303804324, 0.0014954389371649012, 1.0001658688969877, 0.001389464319821939, 0.9987160761031249, 0.9998851008358185, 0.00017578851983752084, 0.5389297634951553, 0.46098812897237024, 1.0000506524550572, 0.9983668535058927, 0.0018858459643103377, 5.490461558107082e-05, 0.9999503112702522, 0.9998781712928024, 0.0009651849576816478, 0.9989664312005054, 0.9991575778910271, 0.0007031369302540655, 0.9997862169586103, 0.9997543601285936, 0.0002312640203859805, 0.9999627695312605, 1.0001720648348704, 4.419485797152896e-05, 0.9528853327241358, 0.046802354591849164, 0.0002651691478291737, 1.000094799145513, 0.9999332285053295, 0.9990461151970627, 0.0006127237750365303, 0.00030636188751826516, 0.9999690269274941, 0.00010929873022319084, 0.9988810955097411, 0.0009836885720087177, 1.0000163981552335, 0.0003168885808073928, 0.9997834724473242, 0.3364892854817651, 8.275683361578089e-05, 0.6633787782640996, 0.9999286381394736, 0.99992416540852, 0.9985300599423157, 0.001512160615763224, 1.0000272171822044, 0.9996091183480325, 0.0004445670973306793, 1.000082047174864, 0.9998941393543733, 0.2961032173915679, 0.6300969936725719, 0.0008473926908180602, 0.07287577141035317, 0.00012105609868829431, 0.6925010081126399, 0.3074568666852015, 1.0000454874517115, 0.9996061301279923, 0.0004642852439052449, 0.999882904398672, 1.0001067299735762, 0.014881396694557859, 0.9442873074718893, 0.04082844734147925, 1.0000286408729158, 1.000059724214928, 0.0005825436027421587, 0.9990622787028022, 1.0003360576335263, 1.0002315867322134, 0.9999885061309344, 0.9999790728171317, 1.0001307218974507, 0.0002687601533496686, 0.0002687601533496686, 0.9995190103074176, 0.9999315951937473, 0.9997657294301745, 0.7097871986598585, 0.2901700420469923, 0.9993647093154835, 0.00016745387220433705, 0.0003349077444086741, 0.0003051560857153734, 0.3449789549012296, 0.6547123819023336, 0.9996039446845744, 0.0004588145400938989, 0.00010777745906969794, 0.9998514877895878, 0.9996341175223061, 0.000563491610779203, 0.14880091240978996, 0.8510189168642097, 0.00017724944896937457, 0.0007824873294719103, 0.9992363197356293, 1.0001275234812999, 0.9998868044810904, 0.9993462557734974, 0.00015226973270965983, 0.00030453946541931967, 0.00015226973270965983, 0.9999121038099279, 0.9998625235317182, 1.0001789305414002, 0.9998850288780025, 1.0003367858150392, 1.0001301804178357, 0.9998456688817627, 0.9999451272412614, 1.0000940744450884, 0.9977002124709812, 0.0003336790008264151, 0.001835234504545283, 0.00021928494637972576, 0.00010964247318986288, 0.9996104280719799, 0.9994381557672588, 0.0005239518509920099, 1.000094902212718, 0.9999582981927352, 0.07258122187783053, 0.9274267239945012, 0.001017097298401485, 0.9987895470302581, 0.0019506600067917905, 0.9977625934740009, 0.9998688340459786, 0.47476077943872147, 0.06432278500550245, 0.4609338695063263, 0.9986569788072295, 0.0013020299593314594, 0.04518839223597051, 0.49486925238916, 5.123400480268765e-05, 0.459927661113727, 1.0002445587309892, 0.8013223934970652, 0.00026234159223999514, 0.0813258935943985, 0.0013117079611999758, 0.11582381297395786, 0.9998044049512258, 0.00042095386945874134, 0.8863183721453799, 0.11323659088440143, 0.0008858051215114668, 0.9991881770649346, 0.9997918883767387, 0.00020193736384098944, 0.9999280172416134, 0.9563027869817526, 0.0031146899386406803, 0.015248034326479747, 0.025335910694912995, 0.0005159565423344061, 0.9995110138102116, 0.008138163611193603, 0.9112656535918581, 0.08054695266463412, 0.9998615393425422, 0.00010444865960212218, 0.49184873806639334, 0.5080382803047223, 5.4182773350355824e-05, 0.18254176341734876, 0.817401318763468, 0.9998829219592797, 0.0009968452457561313, 0.9988389362476434, 0.999949156159904, 1.0001817532912627, 0.9999012054573119, 0.11841153575933833, 0.881616208311721, 0.9997798858748801, 0.11312618157422324, 0.00016909743135160425, 0.8867469300078128, 0.0973353696630453, 0.9026399665333689, 0.9998775000109161, 1.0000276150210745, 1.0002410062596856, 0.9999395156796145, 0.2185983421766368, 0.4058131880522867, 2.858241921765648e-05, 0.06336722340554442, 0.3121771826952441, 2.858241921765648e-05, 0.9999839091821362, 0.9999974547196859, 1.0004782118417928, 0.0003840532739206692, 0.999690672015502, 0.9999731290882352, 1.0002011497480716, 1.0001068308999068, 0.9999954072962621, 0.9998883930509771, 0.12864703465388158, 0.871494321561538, 0.9829493389249472, 0.017018535248962883, 0.999971594902273, 1.000204849739587, 1.0000254094473457, 0.3339034818208869, 0.0002527656940354935, 0.00505531388070987, 0.6607295242087801, 4.134986044139149e-05, 0.6709841853824597, 0.3289381398112693, 0.9999893620227092, 1.0000816342832488, 0.9999352704513924, 0.0020389008302877172, 0.9978963206522456, 1.0000489771548489, 7.185385529685009e-05, 0.10382882090394836, 0.8744614189626655, 0.021628010444351874, 0.8241361076870337, 0.1754583700339804, 0.0004441984051493175, 0.18359286103343567, 0.00020021031737561142, 0.8161573587816799, 0.0032232983596654583, 0.18131053273118203, 0.37185705499294397, 0.443637430002417, 1.0000623842589116, 0.0012551411581251724, 0.9986739814815955, 0.04495056865115087, 0.9547274139981835, 0.00028330190326355593, 1.0000762824151357, 0.0003713214101083482, 0.9995972360116733, 1.0001423118778536, 0.9998813746732595, 0.9999880449944035, 1.0000630366190766, 1.0003965738549083, 0.9996081727381859, 0.004675975091391827, 0.21376589286226003, 0.7784760215310856, 0.0031009097974493164, 0.6649970313583046, 0.0407840895283287, 0.03192508309424729, 8.164982888554294e-05, 0.26225925038036396, 0.9998139317035657, 0.0006497936424390089, 0.9993826220711957, 0.0823375165787341, 0.9171155398778782, 0.0004442671757845365, 0.9999110565264011, 0.3593250001306493, 0.21930377373634669, 0.02709207267079152, 0.06762093944846755, 0.03169390154682818, 0.13782272654551353, 0.15715860099200585, 0.00017972049861695742, 0.00035944099723391484, 0.9994256928089003, 0.40396733135204455, 0.5959891478786303, 4.099526398945043e-05, 1.000037962236957, 0.9999000357152783, 1.0001515096701128, 0.9698921449330101, 8.198581106787913e-05, 0.0003279432442715165, 0.029678863606572244, 0.23154186584733577, 0.7685101180739067, 1.0000594305104373, 0.9999189216063898, 0.002849909842112469, 0.9974684447393642, 1.0000222518147224, 0.9999872067849688, 0.999847817770882, 1.000045926615562, 1.0000450527882487, 0.8744451698620035, 0.12567138895863544, 0.9444850650646759, 0.043053450259358444, 0.011436072725142087, 0.0006727101603024757, 0.5464569489278867, 0.2298116729056763, 0.2237452157016445, 1.000076238432972, 0.0039011478927270843, 0.00018451375168303778, 0.995926154262888, 0.9999967526012078, 0.21497736371447684, 0.7844788009230033, 0.000628588782790868, 1.0000173878169074, 0.00011747157799415368, 0.9978035834823413, 0.002114488403894766, 0.0014982356615664137, 0.9984418711697589, 1.0003773130692264, 0.3436701588308637, 0.6563627730298428, 1.0001983894625848, 0.9971781950225407, 0.0027376203020522735, 0.999992403778581, 0.9982531090992246, 0.0015287183906573117, 0.0004334348589687957, 0.9995007847820429, 0.9997554466118916, 1.0002753770824029, 1.000038182413977, 0.24224430881849385, 0.7483015227223774, 0.009456380825971104, 0.13919002315316142, 0.8607405734374459, 6.581088565161297e-05, 0.9364714544215117, 0.06353483641742297, 0.005867842438837837, 3.171806723696128e-05, 3.171806723696128e-05, 0.8455085183356769, 0.14856742693792663, 0.21778729905629446, 0.5021756923320958, 0.2799999490830431, 1.0000096854853033, 0.9999766212806727, 0.9998713332005278, 0.0640162547129793, 0.00027240959452331614, 0.9357269571875909, 0.00019550416366736378, 0.0021505458003410016, 0.9976577471945574, 0.0005921342245769181, 0.9992265039735492, 0.5108403696933104, 0.48919225921609344, 0.0009103662000407551, 0.9991269045447289, 0.9990578372888772, 0.0007670309691277368, 0.999910615570911, 0.002323621498655963, 0.0004647242997311926, 0.0004647242997311926, 0.996833622923408, 0.9999871420016516, 1.0000631121296353, 0.0017482842655995713, 0.9982703156573552, 0.9411462562409363, 0.05593375683085668, 0.002837219549391281, 0.00017741140478723925, 0.9975843291186463, 0.00017741140478723925, 0.0019515254526596317, 1.0000022415314407, 0.9999339802816655, 0.999999663265782, 0.0025590961387608256, 0.3499990485778556, 0.2359913155960608, 0.40570204119821623, 0.005800617914524538, 0.9997408537186369, 0.00025902258926987744, 0.00043190372021603365, 0.00021595186010801683, 0.9964018825383897, 0.00043190372021603365, 0.00043190372021603365, 0.0019435667409721516, 0.9986958237081461, 0.0010643294746445608, 0.3078029276276535, 0.00026383108082370294, 0.691940981306965, 0.017234201246874584, 0.03844552585841253, 0.9439039452134387, 0.9998212442260169, 0.0001519254283886973, 0.622110969685314, 0.37789687683085565, 0.11232944075820299, 0.8875649804889654, 6.861908415284238e-05, 2.2873028050947462e-05, 0.9998373884850578, 0.0007810823089137173, 0.9990042731006445, 0.9988093847887431, 0.0008041943516817578, 0.0004020971758408789, 1.0000944287185571, 0.9997450696986191, 0.000847202855574267, 0.9988521667220607, 1.0000865135448318, 0.9999385616104184, 0.9999770628994717, 0.9989011096369556, 0.0010664424658045788, 0.9989686820350969, 0.0009043168515706973, 0.00016335346990661105, 0.30988153241284117, 0.6898417034156185, 0.05936724067597958, 0.9406326754126211, 0.9999844347756698, 0.0009822437529659063, 0.9989418967663266, 0.9998178273770354, 0.9998395100471993, 0.00013069797516956853, 0.0002671855064033296, 0.9988730156888478, 0.0009351492724116537, 0.9998463007119737, 1.0000656960843943, 0.0003470870132168513, 0.004165044158602216, 0.9954455539059297, 0.9999239869854873, 1.0000213515181213, 0.9998554674268632, 0.9999410018130924, 0.02425225084362049, 0.975162399934335, 0.00047553433026706836, 0.9995883268336723, 0.00022414807194386641, 0.00011207403597193321, 1.0003591704833712, 0.9982345337386511, 0.001748987356528517, 0.001522417325386947, 0.9984882772644962, 0.9999688192591012, 0.9995507315775435, 0.0003742234112982192, 0.00019575317038562372, 0.9997114411593804, 0.00023345630499625874, 0.3664096706916281, 0.63336695545485, 0.0014447729036202507, 0.9983380764015932, 0.0007216888272866665, 0.9992984628496042, 0.013591292951870476, 0.9864807538884899, 0.0001316638085834434, 0.9998549623826691, 0.999992814488252, 0.9999669120976806, 0.00021733347315460575, 0.7895725079706827, 0.21016146854050374, 1.0001348120215252, 0.7184181345010852, 0.0009629463141507382, 0.00036110486780652684, 0.0033101279548931628, 0.2770276177522405, 0.00012596257163366976, 0.05202254208470561, 0.8827457020087576, 0.06499668696297359, 1.0001721629196076, 0.9999458957630203, 0.7628798085481909, 0.23712026984088333, 1.0003902221068262, 8.534789741221226e-05, 0.9998506181840665, 8.534789741221226e-05, 0.9992913762217562, 0.0007182687340318104, 0.9999570000562183, 0.053229698392206336, 0.9400744948195012, 0.006653712299025792, 0.0002841359248009218, 0.36142089634677255, 0.0001420679624004609, 0.6364644715540648, 0.001704815548805531, 0.18761945154504533, 0.0010782727100289962, 0.811265430208066, 0.4805125576844787, 0.5194892418560566, 0.9999803338956448, 0.9999759712308407, 0.95437683100277, 0.04562426339877805, 0.00012398593836425258, 0.9998226069693328, 0.9999313443966763, 0.9971407003389184, 0.0031669622969021914, 0.2768904731431875, 0.10266475183834539, 0.3206139285537337, 0.0007423337081586796, 0.299086251017132, 0.999545467965787, 0.00034694393195619126, 0.9998678208686622, 0.03465608651523875, 0.0005776014419206458, 0.9619952015188356, 0.002599206488642906, 0.3277751013407939, 0.6722230074569827, 0.9999476416655222, 0.5076496437358529, 0.00013126041208425413, 6.563020604212707e-05, 0.2738092196077541, 0.21835169550215675, 0.9995018475435142, 0.00046081228563555287, 1.0000766851810943, 0.9989865432995009, 0.0008954166805791761, 0.9999620786954423, 0.9990362028605853, 0.0009233236625328885, 0.8879801705015026, 0.1114436528292179, 0.000624584123142134, 0.9998494675002876, 0.9999979437947741, 0.09992936413045728, 0.8890911649737882, 0.009712760625764072, 0.001214095078220509, 1.0000416893250714, 0.05961877993506052, 0.06711185063728124, 0.8733228201052035, 0.00040951010450547776, 0.9996141650978713, 0.0006098304341416246, 0.9995120815581225, 1.0000332570778756, 0.9996092193284004, 0.0003122802934484225, 1.0001955526997972, 0.9999170179027791, 1.0000156103738918, 0.9334383021800616, 0.06490000212582403, 0.0009614815129751708, 0.0006409876753167806, 1.0000195261325038, 0.9997547989178641, 0.00011520566938440471, 0.00011520566938440471, 0.9975892485066279, 0.0024706393056025456, 1.0000310373719397, 1.0001291545450721, 1.000100156370944, 1.0000107647630188, 0.9999975044790308, 0.0003542100225874176, 0.9995806837416924, 0.9999852757573813, 0.0020777767463958695, 0.9979264887689876, 1.000054946134414, 0.7610969207033822, 0.23928425916053303, 0.0004058419057504592, 0.0004058419057504592, 0.9991827719576306, 0.9998220663203504, 1.0003702338910028, 0.837333640684455, 0.1618904998100987, 0.0007358659082277215, 0.5301886493717386, 0.14004983190951587, 0.3297327086441074, 0.00020596018627712647, 0.9743976412770853, 0.00041192037255425294, 0.0249211825395323, 0.9999234799002591, 0.9996341154202201, 1.000184492848317, 0.0011589082878203918, 0.998592641338571, 1.0001342742580688, 1.0002806805069542, 0.994745404970091, 0.0014731512846650739, 0.002578014748163879, 0.0011048634634988053, 0.11444516741094488, 0.7499196832693287, 0.13495414652662305, 0.0006583129098859661, 0.00022793663987965182, 0.999730102512153, 0.9825573092971271, 0.01746189382570491, 0.1175111336790734, 0.43156151304427254, 0.3759927795930243, 0.00024102101255963094, 0.07468973378097897, 0.9999948689957746, 0.99989023619833, 0.926336358334212, 0.07362254978656221, 0.9999293707720777, 0.9957483032478291, 0.004035825842198275, 1.0002693855519897, 1.0003380150770573, 0.9999306138721039, 0.9999964113231977, 0.9999565218876832, 0.00014546439972637048, 0.3640973925151053, 0.6312670066792058, 0.004460908258275362, 0.00013282733994355783, 0.9997913877551599, 0.001147331754912988, 0.9989435146109081, 0.9995697860549919, 0.0001638101910939023, 0.0001638101910939023, 1.0003673881988155, 0.0002372746289562634, 0.49495487600276544, 0.0001186373144781317, 0.5046831357899723, 1.000041885870958, 1.000245928073393, 0.999998995697162, 1.0001043572966155, 0.24192122914617475, 0.008902436476104105, 0.7491780882074598, 0.007653099068366873, 0.9923518458649044, 0.9997041617607688, 1.0000779592565079, 0.9998540066600746, 0.007921535136590933, 0.004620895496344712, 0.9878814443256944, 0.0003097418771486345, 0.9996919084972177, 1.0002842839505748, 1.000145345967836, 1.0001523595803792, 1.0001061343434412, 0.9994247122046238, 0.0004587673684666623, 1.000039593814555, 0.0020341342874699592, 0.9978558754644299, 0.9999217858325714, 6.22849000767766e-05, 0.9998069463521992, 0.00015145148017150635, 1.0000409826313994, 1.0001214862155423, 1.0000449472992026, 0.003713706044875677, 0.9962635416386484, 1.000089101635917, 0.9956028423442639, 0.0006436889162658028, 9.195555946654327e-05, 0.0036782223786617305, 0.00023508716075403138, 0.5309443525629799, 0.03843675078328413, 0.43032704776025443, 0.11596114857143737, 0.8780240993994493, 0.005923359259051811, 1.000011199162462, 1.000119315816007, 0.9998463007119738, 0.9982937630003841, 0.0017271518391010104, 0.00011216446865503315, 0.9998340735909654, 1.0000812199803566, 0.8261265364933088, 0.1738012213624635, 4.962913231366748e-05, 0.00012843095757151746, 0.9995781427791203, 0.0002568619151430349, 0.0024133256846927023, 0.9979101706204324, 1.0001430639335205, 0.008548717487421158, 0.0007433667380366225, 0.9909078618028178, 0.017628686913057284, 0.9452904316721723, 0.037077727366049834, 1.0000427630932438, 0.0016488484744630195, 0.0010992323163086797, 0.9970037108919725, 0.001142483211933863, 0.8695929361690888, 0.12926381483594562, 0.9990606458574851, 0.0007303074896619044, 0.12498834453752532, 0.8750184024383073, 1.0000332758217634, 0.9997417108764474, 1.0000726798459028, 0.9997794776798329, 0.0004376681079932556, 0.9996339586565958, 1.0001991168791273, 0.0028779577167901524, 0.99741791727613, 0.9996161864885648, 0.9999004969099591, 0.2581104396330633, 0.2562695378371192, 0.06916988400238566, 0.2717131031209196, 0.14473890272588996, 0.0003384178467704245, 0.0003384178467704245, 0.000676835693540849, 0.9983326479727522, 1.000004900362849, 0.9995993756162125, 0.9999805677873048, 0.093521857866336, 0.9062713369428275, 0.0003209019242462057, 0.40545958128508086, 0.5930267560069881, 0.0011231567348617198, 0.28715380013114483, 0.7128198516791175, 0.00011778252671498968, 0.9998131038077609, 0.9998048112094433, 0.00015541812703395667, 0.9997469236565028, 1.000111637668455, 1.0000145418325657, 3.6404617229238646e-05, 0.9999620260527271, 0.9999512836931933, 0.17899225504959346, 0.8210035063378391, 0.7593940671653575, 0.00023805456650951646, 0.00023805456650951646, 0.24019705760810212, 0.12180596314661593, 0.014302832407255694, 2.7826522193104463e-05, 0.46121532984330876, 0.4026497761342216, 1.0000979650807438, 1.000085098490983, 1.0000776325923755, 0.999962976565759, 0.2608392625591569, 0.7391924453136199, 0.9996312088873545, 0.0003397794727693251, 0.999790490369998, 1.0000903233179257, 0.9999552851639745, 1.0000066963153689, 0.004625053366626624, 0.9946120861840717, 0.0007896432577167407, 0.9998648658957754, 0.1298396204522233, 0.46549059387852565, 0.30175841171935375, 0.10282381039595993, 1.0002034594286004, 1.0000123593718706, 0.1977613127218351, 0.08303505690245624, 0.7192255858093793, 0.0368266294773818, 0.0013423335625670071, 0.005106703770635353, 0.7384877275626793, 8.754349321089176e-05, 2.918116440363059e-05, 0.21812920391713864, 0.0011129139045035564, 0.9988402292919417, 0.7793327257033619, 0.05424896732400312, 0.1663382970213336, 0.999465806205372, 0.0005205551073986312, 0.9999803362485082, 1.0000301430673437, 0.9997950871945616, 0.9999833205344201, 0.08799825764308405, 0.0007025808993459805, 0.9112474264517367, 0.9996465797500323, 0.0003527334438073508, 0.9996841053062138, 0.0002592541766872961, 0.9994688104170276, 0.00046186174233688894, 0.16678488551082077, 0.8309904579849012, 0.002256899668617331, 0.5051968716472641, 0.4948097844347902, 0.9998391062091644, 0.9993589144933709, 0.0006186587911208892, 0.00035036683153430985, 0.9990710201200844, 0.0005255502473014647, 0.00046285200825162327, 0.5100629130932889, 0.30856800550108215, 0.18082085122363414, 1.0000885821221803, 1.0002547258395023, 0.9998587331729146, 0.9997568600677897, 1.0000194048703737, 0.9996838036749591, 0.9999204537430084, 0.0002516289602007907, 0.9997218588777413, 0.00020725946336297543, 0.9998196512629935, 1.000105566179854, 1.0000971792991884, 0.9999770757543515, 0.00013850537178898624, 0.00013850537178898624, 0.1893368432355442, 0.8103949303373585, 0.00034042601617635345, 0.9991503574775974, 0.00034042601617635345, 0.9995982259687555, 0.0005302908360576953, 1.0000276228077831, 1.0002009334938238, 1.000064284520893, 0.0003386135544395085, 0.0003386135544395085, 0.9992485991509895, 0.9999857729268902, 0.9619585586763253, 0.0036073445950362197, 0.03426977365284409, 1.0003654545294103, 0.00030617102942773157, 0.9996484110815435, 0.998499806683025, 0.0012768539727404413, 0.9999211899562784, 0.0009252179638338781, 0.9983101829767544, 0.0004626089819169391, 1.0001007672395754, 1.00011022441017, 0.0007162941147453919, 0.0021488823442361756, 0.9970814077255855, 0.5937261014269901, 0.40630191430257706, 0.0025538604968050535, 0.9975379100520539, 0.9999510843585349, 0.01059745626665909, 0.9893562066210471, 0.00011155217122799042, 0.7052073153647846, 7.238835099207397e-05, 0.29469297688873314, 1.000202489643431, 0.0147913864820815, 0.0004977870450700505, 0.9846938875835698, 0.999109924973679, 0.0007141600607388699, 0.9996092101022918, 0.00040481277784571167, 0.00040481277784571167, 0.9990779357232163, 0.24957666178501958, 0.12184301625032633, 0.040252633443173966, 0.566482182846619, 0.021805662789498605, 0.0001818506124598669, 0.44780713318242227, 0.552007534121926, 0.9997725949612569, 1.000091089687368, 1.0000807334597521, 0.06798854087573873, 0.19038773618410218, 0.06283489054696553, 0.6786961048353627, 0.5218914616248541, 0.47791799284838576, 0.00019418231896473398, 1.0001495918647827, 0.9997956471709892, 0.15754716179886574, 0.8414057212554807, 0.0008656437461476139, 0.001018800615125952, 0.9989340031309958, 0.0028787773765382315, 0.00041125391093403305, 0.9767280384683286, 0.02015144163576762, 0.9988435676907879, 0.0011768722412809198, 0.04744311951521837, 0.952598069006353, 0.9999796552213931, 1.0001860049523634, 0.9992133318139357, 0.0003566071848015473, 0.0003566071848015473, 1.0001086983054672, 0.9995915086576517, 0.9987532603166404, 0.000912937166651408, 0.9999595423853024, 0.38213219990525754, 0.6018900062151654, 0.01597516060336039, 0.9320573569717264, 0.06792563571362999, 0.005850966538521351, 0.005031831223128362, 0.9229314617863579, 0.06623294121606169, 0.0003283676659124417, 0.9995511750374725, 1.0001430634767348, 0.00045763047966847795, 0.9992933561660802, 0.00022881523983423897, 1.0001013532578007, 0.5505927626806668, 0.44940637165335995, 1.0000872437258286, 0.3462514676401885, 0.0003557865471025364, 0.024478114440654508, 0.40943915840559897, 0.21944914225284448, 0.9998015091715895, 0.00016049037013830426, 0.999938067364488, 0.33435762796819485, 0.0001577902916319938, 0.6636659666041659, 0.0017356932079519319, 0.05779793493906197, 0.6172232128365417, 0.0001334825287276258, 0.32476299239431355, 0.08170273823198185, 0.00015712065044611894, 0.9178988399062268, 0.00015712065044611894, 1.0003938997014525, 0.16483195157792063, 0.0003159717921621482, 0.12333432287395851, 0.693663407726636, 0.01737844856891815, 0.0003159717921621482, 1.0000724400722403, 1.0003012076277187, 1.000044955599269, 0.0035858964222767182, 0.9964309683401431, 0.9999193654671085, 8.387178036127398e-05, 0.9999472448415191, 0.0004681570427048023, 0.9995152861747528, 0.9995967619035092, 0.9998361862233885, 0.04983305128266194, 0.5980690471525285, 0.0008691811270231732, 0.351149175317362, 0.9997332175433822, 1.0000121113417095, 0.00030687916074720925, 0.7611216944852284, 0.23856785956488044, 1.000009646569966, 0.47094350946437624, 0.05821724027046669, 0.47081550321927845, 1.7067499346369596e-05, 1.0000642311979662, 0.9998710156705907, 0.13670188920810128, 0.8589965224192783, 0.004291803498393878, 0.9987039544794767, 0.0013103894435532028, 0.001231358418557126, 0.9988779491335406, 1.0003458457465089, 0.1720597860095511, 0.006705271072431036, 0.8212691918242655, 0.99982204745723, 0.0002411534123148167, 7.395080090078515e-05, 0.9999257543799664, 0.9999742913841209, 0.999951552073293, 1.0000028795736442, 0.0023654251207433454, 0.997618044673506, 0.9999782443012051, 1.0000668504727441, 0.000987852204232827, 0.9987185784793882, 0.11410152383187258, 0.0009206376103428952, 0.8823736096630187, 0.002646833129735824, 0.6570538989285547, 0.03660259327819371, 0.30626659681753915, 0.0002898496416619666, 0.36221543553023766, 0.6374759785618853, 0.9992048039408341, 0.0004941665697036766, 0.0004950061204677096, 0.9230214126321226, 0.07656094663233909, 1.0000019257526898, 0.26147937086907924, 0.7385365473854419, 0.0005940313878538204, 0.9994578100640528, 1.0001310234446847, 0.9999187222671653, 0.00014045557765001414, 0.3987065664225068, 0.6011498723420605, 0.35397422085931496, 0.6457385610755166, 0.0002488395225724534, 0.9998708581468002, 0.9999700364601896, 0.9993072568471202, 0.0004554727697571195, 0.0013727303193511778, 0.9984325189414234, 0.23018186005578065, 0.02845627042484574, 0.7413820490401981, 0.999847817770882, 0.9999603212731222, 1.000131711433409, 0.09795169375688106, 0.1007230944644144, 0.638981075630653, 0.1386566416487768, 0.02303726838137079, 0.000692850176883332, 1.0000293669686275, 0.0009414753639798496, 0.0009414753639798496, 0.9979638858186406, 0.9999582981927352, 0.9998801172483862, 1.0000048543387419, 0.0007277804601910021, 0.24356386067725536, 0.7558000079083557, 0.0004209515872458999, 0.9984971649472746, 0.0008419031744917998, 0.0037067224672493668, 0.0017443399845879374, 0.9947098762112713, 0.9997354653566297, 0.07153508727059346, 0.9283781546514519, 0.9982258792049343, 0.0016516663978571819, 0.19967693125717745, 0.8002942613724104, 0.9999413463885095, 0.9999256364400668, 0.158682231250427, 0.8402967813764076, 0.0009849921244595096, 0.0009448506699172148, 0.9966284866286782, 0.0022676416078013153, 0.9990489394652813, 0.0007981217810787148, 0.7569418484586972, 0.09753021185084025, 0.14551576901368704, 1.0001079476446773, 0.027927356702689792, 0.3428473324401638, 0.15277651811114307, 0.25971574424287136, 0.000737212832213861, 0.21604672529937974, 0.8976173172570167, 0.00037011331502196336, 0.1019662182885509, 1.0002007711069432, 0.0021206057757766276, 0.9980100932248754, 1.0001578536106632, 0.9997874342827295, 1.0000625185065293, 0.9992242274130875, 0.0006559458823280662, 0.00016841889271447527, 0.24765998173663586, 0.7521587748628465, 9.63128180351636e-05, 9.63128180351636e-05, 0.9998233640230333, 0.0004195615797301666, 0.9996054637071219, 0.004643407160449817, 0.9953474920364215, 0.9983802689764683, 0.0015978017354049104, 0.07769270583447693, 0.9224892543335019, 0.999881641996361, 0.9999628779885136, 0.9999222858887382, 8.499849421019535e-05, 1.000150506094355, 1.0001692375231037, 0.0004707217326711418, 0.0018828869306845672, 0.002353608663355709, 0.9951057428667938, 0.9988055619698422, 0.0012142056430462461, 0.9994570568397725, 0.0004059533130949523, 1.000010098825228, 0.9997836869559401, 0.02571603502231852, 0.9715317646743452, 0.003005770327283983, 0.00037428977231736147, 0.9997279818596724, 1.0002361092371623, 0.00020585242411135123, 0.8717850161115724, 0.12804020779726047, 0.9998575568771809, 0.0017677909894061414, 0.9979180135197668, 0.9999629235850325, 0.01776810135350532, 0.9814838371509682, 0.0006520404166423971, 0.9996679494513973, 0.0002446568021818578, 0.25970319551604204, 0.1274661939367479, 0.6126206326633719, 0.3265636374618669, 0.6734546461324562, 5.883630253437737e-05, 0.9999229615717433, 6.947035844655923e-05, 0.5924432168322571, 0.21181512290355908, 0.19569799974395735, 0.9998848159578905, 1.0004493585498129, 0.4129597837184939, 0.00015199108712495173, 0.5868375873894387, 3.442547938513787e-05, 0.9998536232619443, 6.885095877027574e-05, 3.442547938513787e-05, 2.5567696725260484e-05, 0.9999398350765749, 2.5567696725260484e-05, 0.9992966479623626, 0.00045797279924947873, 0.9997805300422525, 0.001124757910793437, 0.00028118947769835927, 0.9826166298169164, 0.016027800228806476, 0.001603085495519911, 0.0005343618318399704, 0.9976535400452247, 0.9989975167776335, 0.0008089048718847235, 1.0000346892169296, 0.0011779191962637166, 0.0005889595981318583, 8.413708544740833e-05, 0.3141678770606227, 0.6839503676019824, 1.0000033332448968, 9.90942826637524e-05, 0.022395307882008043, 0.4224389269955765, 0.5356045977975817, 0.018431536575457947, 0.000990942826637524, 0.9436499074688064, 0.05634107881272927, 0.03695821797534938, 0.9631311604376048, 1.0001303900024696, 0.9999797141029835, 0.0002457158970687142, 0.4662459146878852, 0.13846090799822044, 0.026045885089283703, 0.36894241944867434, 0.0001380902106009209, 0.9998421698559677, 6.527149294680492e-05, 0.9999592719450514, 0.0003794188475508269, 0.0018970942377541345, 0.9921802863454124, 0.005691282713262404, 1.0000532229685004, 0.3154979047457907, 0.6845313839079867, 0.06462732114146355, 0.9351650612979906, 0.013576909799809635, 0.1194768062383248, 0.7204813467098979, 0.14640434400794725, 7.542727666560908e-05, 0.9999576227157522, 0.8251869328629906, 6.594110059637132e-05, 0.174743916580384, 0.9999034405324878, 0.8327122505320637, 0.167299060566935, 0.007987049159046999, 0.9763116669414028, 0.00021018550418544732, 0.015343541805537654, 0.23509587365842916, 0.7649575340303613, 0.0011924572908978649, 0.9984842382451455, 0.00026499050908841443, 0.9997241080026469, 1.0000069848946107, 0.9999955335590337, 0.9998896660898083, 0.9996547069910455, 9.512367561052864e-05, 0.00019024735122105728, 0.5990875951083249, 0.4008316623058736, 0.999821965864588, 0.9999272727607801, 1.0001483910542766, 0.011656926425534857, 0.844224164508454, 0.14415185072703668, 0.0006358690669510334, 0.9991622605357239, 0.00021195635565034448, 1.0000054126998117, 0.00024548265366535784, 0.9996053657253372, 0.9001374582079824, 0.04254404539371832, 0.049823804272199006, 0.007563385847772145, 0.999804363725649, 0.9999127531175735, 0.9999997559807119, 0.9981385971772645, 0.002047463789081568, 0.010598247591112192, 0.45675503160029346, 0.5325619414533876, 5.027674021151325e-05, 0.9999373271533832, 0.0003174440227111888, 0.0003174440227111888, 0.9993137834948224, 0.9997002826949243, 0.0002879667213965722, 0.0002879667213965722, 0.008351034920500594, 0.9908934883256051, 0.9996880219872434, 0.0003104621186295787, 0.999154883613282, 0.0005489861997875176, 0.07906433711885862, 0.22833998480579926, 0.1705910116130412, 0.0006810020423674299, 0.5211027628195574, 0.000136200408473486, 6.8100204236743e-05, 0.0004933026993816938, 0.0009866053987633875, 0.9974580581497848, 0.0009866053987633875, 0.9999317683923368, 0.00015883966013202833, 0.9418057276828337, 0.0002496051802074731, 2.2691380018861187e-05, 2.2691380018861187e-05, 0.057749562148001726, 0.9999862687400018, 0.1322081704109611, 0.5171672548428773, 0.3498072650050018, 0.000803618290733293, 0.6913818057984344, 0.30836852223222205, 0.00024473692240652547, 1.0000095664766233, 0.9999382953980128, 0.9999882977576424, 0.9980236243977827, 0.000545666279058383, 0.001091332558116766, 0.9999912298906435, 1.0003501576957334, 0.9998837678617996, 0.0001830283301961925, 0.9999894547976464, 0.9995450406763452, 0.00030793131259283584, 0.9999252989151168, 0.008147040481769244, 0.811686625776269, 0.18014011731911994, 1.0000046960803786, 0.999623534160117, 0.0002753025431451713, 0.9939773407965652, 0.0005550878671611495, 0.0053658493825577795, 1.0000127662906806, 0.0004598899267416904, 0.8774699802231453, 0.0002299449633708452, 0.12164088562317711, 1.0000229032951622, 0.999995690567258, 1.000105939628125, 1.00004366955364, 0.00016523662236102085, 0.0004957098670830626, 0.9993510920394542, 0.9893749180701114, 0.009381666548274466, 0.0011727083185343083, 1.0000284451051706, 1.000050203471577, 1.0000205477434272, 0.0004089535743653392, 0.999482535748889, 0.999981340173616, 0.1838494668893868, 0.297166302220297, 0.5190246620538217, 0.9997491058474742, 0.00020494903560257122, 0.23323200251572604, 0.000512372589006428, 0.00010247451780128561, 0.08464395170386191, 0.21191730281305862, 0.46933329152988806, 0.9997962823511379, 1.0001388063750347, 0.032875972084419065, 0.9669758394738305, 0.9999922180972305, 0.9991647812951341, 0.0005206695056253956, 0.999801968184372, 0.00021141932082562316, 0.9994948464668929, 0.0004618737737832222, 0.9998044379858796, 0.0001979761764284804, 1.0001795834566556, 0.4699314475291937, 0.0009593892888190576, 0.43533699846765944, 5.643466404817986e-05, 0.09368154231997856, 1.0003782086253539, 0.9998191699496831, 0.3384301824858785, 0.6615488197894285, 0.7483828425404566, 0.00030666714850810083, 0.2512370614152616, 3.8333393563512604e-05, 1.0000004552566344, 1.0000153969264243, 0.10812211495658985, 0.14742417208038094, 0.7440857819175133, 0.00033166292931469284, 1.000031028643595, 1.0000219076163197, 0.9999007354981189, 0.00022840851055626693, 0.9997440507047803, 0.0016570034858167302, 0.9983446002045799, 0.9975935001950713, 0.0010252759508685215, 0.0010252759508685215, 0.0003645387287498455, 0.9995651942320763, 1.0000245240138412, 1.0001222378023795, 0.9999712931905852, 1.0000141166562946, 0.00037216571415952566, 0.999637108232486, 4.53275081971088e-05, 0.3887740378066022, 0.6111734567757166, 0.2331628030504548, 0.27824032789585834, 0.000555369915959797, 0.4880775944760017, 0.9999176560984238, 0.9993672801758104, 0.0004258062548682618, 1.000066103198056, 1.0003115220335153, 1.0000469084824621, 0.24409927473176368, 0.6450667084522622, 0.1107391621890315, 0.00038252546304301424, 0.00038252546304301424, 0.9991565094683532, 3.53865021054936e-05, 3.53865021054936e-05, 7.07730042109872e-05, 0.010934429150597521, 0.9888758013380186, 0.9999489845256446, 3.241115598747714e-05, 0.999981061961343, 0.9998783009157168, 0.9999882254359944, 0.9999689279292763, 0.06985243341186288, 0.31781822862317477, 0.20728175205928906, 0.40504757538132535, 0.0002519623845786684, 0.68772163784653, 0.22422714055312418, 0.0003876344378133359, 0.08741156572690725, 1.0000092416442963, 1.0002636211099618, 1.0002062410998578, 0.999787847293983, 0.9937368133227631, 0.003593984858310174, 0.001796992429155087, 0.00012904958832418457, 0.9998762103357821, 0.0002624854174047382, 0.0002624854174047382, 0.9992819840598381, 1.0000274694330433, 0.00043916361946223927, 0.9995363978960565, 0.9999665626637976, 0.5861570050503102, 0.23376787801627452, 0.18008215066970076, 0.0011713166107456565, 0.9967904357445536, 0.002049804068804899, 1.0000065890125658, 0.9998785777337497, 0.9935578263617987, 0.00015311416649126192, 0.00015311416649126192, 0.006150085687399021, 1.0001107603418615, 0.0016549699534776847, 0.11481354052251437, 0.8835470839128988, 0.6946465445274851, 0.30525206655227344, 0.303182770312431, 0.696841529437965, 0.00016675940411559208, 0.9997226276729746, 8.337970205779604e-05, 0.624436798254832, 0.0006126219464308092, 0.3750121486365739, 1.0003422112189613, 1.000005217525493, 0.00011308237680988848, 0.9998743757530338, 1.0002279537148195, 1.0001109981373226, 0.11962453419272553, 0.8803031923868861, 0.005021392434252868, 0.05228155652133869, 0.9428402735373621, 1.000335479571078], \"Term\": [\"ability\", \"abroad\", \"access\", \"access\", \"accord\", \"accord\", \"accord\", \"accuse\", \"accuse\", \"accuse\", \"action\", \"action\", \"action\", \"active_case\", \"active_case\", \"activity\", \"add\", \"add\", \"add\", \"additional\", \"additional_death\", \"address\", \"address\", \"address\", \"address\", \"administer\", \"administration\", \"administration\", \"admit\", \"admit\", \"advice\", \"advice\", \"advice\", \"advice\", \"affect\", \"affect\", \"affect\", \"affect\", \"africa\", \"africa\", \"africa\", \"africa\", \"age\", \"age\", \"age\", \"ahead\", \"ahead\", \"ahead\", \"ahead\", \"aid\", \"aid\", \"aide\", \"aiims\", \"airline\", \"airline\", \"airport\", \"airport\", \"alert_level\", \"amazon\", \"american\", \"amid\", \"amid\", \"amp\", \"amp\", \"amp\", \"amp\", \"analysis\", \"ang\", \"animal\", \"announce\", \"announce\", \"announce\", \"announce\", \"annual\", \"annual\", \"answer\", \"answer\", \"answer\", \"answer\", \"answer_question\", \"anti\", \"antibody\", \"app\", \"app\", \"apply\", \"approach\", \"approach\", \"approval\", \"approve\", \"april\", \"april\", \"area\", \"area\", \"army\", \"arrest\", \"arrest\", \"arrest\", \"arrival\", \"arrival\", \"arrive\", \"arrive\", \"arrive\", \"arrive\", \"arrive\", \"art\", \"asian\", \"assam\", \"assistance\", \"astrazeneca\", \"asymptomatic\", \"attack\", \"attack\", \"august\", \"august\", \"australian\", \"australian\", \"authority\", \"authority\", \"authority\", \"authority\", \"authority\", \"average\", \"average\", \"average\", \"baby\", \"ban\", \"ban\", \"bank\", \"batch\", \"battle\", \"battle\", \"battle\", \"bed\", \"begin\", \"begin\", \"begin\", \"begin\", \"begin\", \"benefit\", \"benefit\", \"bengaluru\", \"bernama\", \"bernama\", \"biden\", \"big\", \"big\", \"bihar\", \"bill\", \"bite\", \"bjp\", \"bjp\", \"blood_clot\", \"body\", \"body\", \"boom\", \"boost\", \"boost\", \"boost\", \"boost\", \"boris_johnson\", \"boris_johnson\", \"breach\", \"breach\", \"break\", \"break\", \"break\", \"break\", \"breaking\", \"breaking\", \"bring\", \"bring\", \"bring\", \"bring\", \"bring\", \"bring\", \"bring\", \"bring_total\", \"bring_total_numb\", \"bring_total_numb\", \"brit\", \"brit\", \"briton\", \"budget\", \"budget\", \"buhari\", \"build\", \"build\", \"business\", \"business\", \"business\", \"call\", \"call\", \"canadian\", \"canadian\", \"canadian\", \"cancel\", \"care\", \"care\", \"care_centre\", \"care_home\", \"care_home\", \"care_home\", \"carry\", \"carry\", \"case\", \"case\", \"case\", \"cases\", \"cases\", \"catch\", \"catch\", \"catch\", \"caution\", \"caution\", \"cdnpoli\", \"cdntopstories\", \"cebu\", \"celebrate\", \"celebrate\", \"celebrate\", \"celebration\", \"cent\", \"cent\", \"cent\", \"centre\", \"centre\", \"centre\", \"centre\", \"chair\", \"challenge\", \"chandigarh\", \"chandigarh\", \"change\", \"change\", \"change\", \"check\", \"check\", \"check\", \"chennai\", \"chief\", \"chief\", \"chief\", \"chief_medical_officer\", \"chief_medical_officer\", \"child\", \"children\", \"china\", \"chinese\", \"chinese\", \"chinese\", \"chinese\", \"christmas\", \"christmas\", \"church\", \"church\", \"church\", \"citizen\", \"citizen\", \"citizen\", \"city\", \"city\", \"claim\", \"claim\", \"claim\", \"claim\", \"claim\", \"clarify\", \"class\", \"class\", \"class\", \"climate_change\", \"climb\", \"climb\", \"clinical_trial\", \"clinical_trial\", \"close\", \"close\", \"close\", \"close\", \"close_contact\", \"closure\", \"club\", \"cluster\", \"cm\", \"college\", \"college\", \"coming\", \"comment\", \"commission\", \"commissioner\", \"commit\", \"community\", \"community_quarantine\", \"company\", \"company\", \"complete\", \"compliance\", \"complication\", \"complication\", \"comply\", \"concern\", \"concern\", \"concern\", \"condition\", \"condition\", \"conduct\", \"conduct\", \"confirm\", \"confusion\", \"confusion\", \"congress\", \"congress\", \"consecutive_day\", \"contact\", \"contact\", \"contact\", \"containment_zone\", \"containment_zone\", \"containment_zone\", \"continue\", \"continue\", \"continue\", \"continue\", \"continue\", \"continue\", \"continue\", \"continue\", \"continue\", \"contract\", \"contract\", \"contract\", \"control\", \"conversation\", \"cop\", \"cope\", \"cope\", \"coronavirusindia\", \"coronavirusindia\", \"coronavirusoutbreak\", \"coronaviruspandemic\", \"coronaviruspandemic\", \"coronavirusupdate\", \"coronavirusupdates\", \"coronavirusupdates\", \"cost\", \"cost\", \"cost\", \"cost\", \"cost\", \"count\", \"count\", \"country\", \"country\", \"country\", \"country\", \"country\", \"county\", \"county\", \"county\", \"couple\", \"covaxin\", \"cover\", \"cover\", \"cover\", \"covidab\", \"covidindia\", \"covidindia\", \"covidpandemic\", \"covidpandemic\", \"covidquarantine\", \"covidvaccine\", \"covid\\u30fc\", \"covid\\u30fc\", \"covishield\", \"create\", \"create\", \"create\", \"credit\", \"crisis\", \"crisis\", \"crisis\", \"crisis\", \"critical\", \"criticism\", \"criticize\", \"cross\", \"cross\", \"cross\", \"crowd\", \"curb\", \"curb\", \"cure\", \"cure\", \"curfew\", \"curfew\", \"curve\", \"cut\", \"cut\", \"dad\", \"daily\", \"danger\", \"date\", \"date\", \"date\", \"datum\", \"datum\", \"daughter\", \"day\", \"day\", \"day\", \"deadly\", \"deadly\", \"deal\", \"death\", \"death\", \"death_toll\", \"death_toll\", \"death_toll\", \"death_toll\", \"death_toll_rise\", \"death_toll_rise\", \"death_toll_rise\", \"debate\", \"debt\", \"decade\", \"decade\", \"december\", \"december\", \"decide\", \"decision\", \"decision\", \"decision\", \"decision\", \"declare\", \"declare\", \"decrease\", \"dedicate\", \"defeat\", \"defend\", \"defend\", \"delay\", \"delay\", \"delay\", \"delay\", \"deliver\", \"deliver\", \"delivery\", \"delivery\", \"demand\", \"demand\", \"department_health\", \"department_health\", \"describe\", \"describe\", \"describe\", \"detail\", \"detail\", \"detail\", \"detail\", \"detect\", \"detect\", \"devastate\", \"devastate\", \"develop\", \"develope\", \"develope\", \"development\", \"development\", \"dfa\", \"dfa\", \"diagnose\", \"diagnosis\", \"diagnosis\", \"die\", \"die\", \"difficult\", \"digital\", \"digital\", \"dip\", \"dip\", \"directive\", \"discharge\", \"discharge\", \"discuss\", \"discussion\", \"disease\", \"disease\", \"disease\", \"disease\", \"disruption\", \"distance\", \"distribute\", \"distribute\", \"distribute\", \"distribution\", \"district\", \"district\", \"district\", \"doctor\", \"doctors\", \"doctors\", \"doh\", \"doh\", \"doh\", \"donald_trump\", \"donate\", \"donation\", \"donation\", \"dose\", \"double\", \"double\", \"dozen\", \"dr_anthony_fauci\", \"drive\", \"drive\", \"drive\", \"drive\", \"drive\", \"drop\", \"drop\", \"dstv\", \"duque\", \"duque\", \"duterte\", \"duty\", \"early\", \"early\", \"early\", \"ease\", \"ease_restriction\", \"easter\", \"easter\", \"eat\", \"economic_recovery\", \"economist\", \"economy\", \"editorial\", \"education\", \"education\", \"education\", \"effective\", \"efficacy\", \"effort\", \"effort\", \"election\", \"election\", \"election\", \"emerge\", \"emerge\", \"emerge\", \"emergency\", \"emergency\", \"employee\", \"employee\", \"employer\", \"employer\", \"end\", \"end\", \"end\", \"enforce\", \"enforce\", \"enforcement\", \"enhance_community_quarantine\", \"ensure\", \"ensure\", \"ensure\", \"ensure\", \"environment\", \"epicenter\", \"epicentre\", \"epidemic\", \"episode\", \"equipment\", \"era\", \"essential\", \"estimate\", \"eu\", \"eu\", \"eu\", \"europe\", \"europe\", \"europe\", \"event\", \"event\", \"evidence\", \"exam\", \"exceed\", \"exceed\", \"exclusive\", \"exclusive\", \"exercise\", \"exercise\", \"exit\", \"expect\", \"expect\", \"expect\", \"experience\", \"experience\", \"expert\", \"expert\", \"expert\", \"expert\", \"expert_warn\", \"explain\", \"explain\", \"explain\", \"explain\", \"explain\", \"explore\", \"expose\", \"expose\", \"expose\", \"exposure\", \"exposure\", \"extend\", \"extend\", \"extension\", \"face\", \"face\", \"face\", \"face\", \"facility\", \"facility\", \"fail\", \"fail\", \"fail\", \"failure\", \"fall\", \"fall\", \"fall\", \"family\", \"family\", \"family\", \"fan\", \"farmer\", \"farmer\", \"fatality\", \"father\", \"fda\", \"fear\", \"fear\", \"fears\", \"february\", \"february\", \"february\", \"federal\", \"federal\", \"fee\", \"feel\", \"festival\", \"fg\", \"fight\", \"fight\", \"fight\", \"fight\", \"fight\", \"fight\", \"file\", \"filipino\", \"filipino_abroad\", \"film\", \"film\", \"finally\", \"finance\", \"financial\", \"find\", \"fine\", \"fire\", \"fire\", \"firm\", \"firm\", \"flight\", \"flout\", \"fly\", \"fmtnews\", \"fmtnews\", \"fmtnews\", \"fmtnews\", \"follow\", \"follow\", \"follow\", \"follow_live_update\", \"follow_live_updates\", \"follow_update\", \"food\", \"food\", \"football\", \"force\", \"force\", \"force\", \"force\", \"free\", \"free\", \"free\", \"fresh\", \"fresh\", \"fresh\", \"friday\", \"friday\", \"friday\", \"friday\", \"frontline\", \"frontliners\", \"frontliners\", \"fund\", \"fund\", \"fund\", \"funeral\", \"future\", \"future\", \"gain\", \"galvez\", \"game\", \"generation\", \"giant\", \"girl\", \"give\", \"give\", \"give\", \"give\", \"global\", \"global\", \"global\", \"global\", \"global\", \"global_economy\", \"goa\", \"goa\", \"good\", \"good\", \"good\", \"google\", \"government\", \"government\", \"government\", \"government\", \"government\", \"government\", \"government\", \"governor\", \"governor\", \"governor\", \"govt\", \"govt\", \"govt\", \"gravitas\", \"great\", \"grind\", \"group\", \"group\", \"group\", \"group\", \"grow\", \"grow\", \"growth\", \"guest\", \"guidance\", \"guidance\", \"guideline\", \"gujarat\", \"gym\", \"half\", \"handle\", \"happen\", \"happen\", \"haryana\", \"haryana\", \"haryana\", \"haryana\", \"head\", \"head\", \"head\", \"headline\", \"health\", \"health\", \"health\", \"health_care_worker\", \"health_department\", \"health_department\", \"health_department\", \"health_minister\", \"health_ministry\", \"health_ministry\", \"health_ministry\", \"health_official\", \"health_official\", \"health_secretary_francisco\", \"health_worker\", \"health_worker\", \"healthcare\", \"healthcare_worker\", \"healthcare_worker\", \"high\", \"high_daily\", \"high_daily\", \"high_risk\", \"high_risk\", \"high_single_day\", \"historic\", \"history\", \"hit\", \"hit\", \"hit\", \"hold\", \"hold\", \"hold\", \"holiday\", \"holiday\", \"home\", \"home\", \"home\", \"home\", \"home\", \"hope\", \"hope\", \"hope\", \"hospital\", \"hospitalization\", \"hospitals\", \"host\", \"host\", \"host\", \"hotel\", \"hotel\", \"hotel\", \"hotel_quarantine\", \"hotel_quarantine\", \"hour\", \"hour\", \"house\", \"house\", \"household\", \"household\", \"human\", \"husband\", \"husband\", \"husband\", \"husband\", \"iatf\", \"icmr\", \"icu\", \"icu\", \"icymi\", \"icymi\", \"icymi\", \"identify\", \"identify\", \"identify\", \"identify\", \"impact\", \"implementation\", \"impose\", \"include\", \"include\", \"include\", \"include\", \"include\", \"increase\", \"increase\", \"india\", \"india\", \"india\", \"india\", \"india\", \"india\", \"indiafightscorona\", \"indiafightscorona\", \"indian\", \"indian\", \"indian\", \"induce\", \"induce\", \"induce\", \"industry\", \"industry\", \"infect\", \"infect\", \"infection\", \"infection\", \"infection\", \"infection\", \"infection_rate\", \"infectious\", \"infectious\", \"initiative\", \"initiative\", \"initiative\", \"inmate\", \"inoculation\", \"inquiry\", \"inquiry\", \"inside\", \"intensive_care\", \"interview\", \"introduce\", \"introduce\", \"involve\", \"involve\", \"isolation\", \"isolation\", \"isolation\", \"issue\", \"issue\", \"jab\", \"jail\", \"jail\", \"jampj\", \"january\", \"january\", \"job\", \"job\", \"job\", \"job_loss\", \"joe_biden\", \"johnson\", \"johnson\", \"johnson\", \"johnson_amp_johnson\", \"join\", \"judge\", \"july\", \"jump\", \"jump\", \"jump\", \"june\", \"june\", \"june\", \"kaduna\", \"kano\", \"kano\", \"karnataka\", \"karnataka\", \"kashmir\", \"kerala\", \"kerala\", \"kid\", \"kid\", \"kill\", \"kill\", \"kill\", \"kind\", \"kind\", \"lab\", \"lab\", \"lagos\", \"lagos\", \"lakh\", \"lakh\", \"late\", \"launch\", \"law\", \"law\", \"law\", \"lawmaker\", \"lead\", \"lead\", \"lead\", \"lead\", \"lead\", \"leader\", \"leader\", \"leader\", \"leader\", \"leadership\", \"learn\", \"leave\", \"leave\", \"legal\", \"level\", \"level\", \"level\", \"life\", \"life\", \"lift\", \"light\", \"light\", \"light\", \"limit\", \"limit\", \"limit\", \"limit\", \"limit\", \"line\", \"line\", \"line\", \"link\", \"link\", \"list\", \"listen\", \"live\", \"live\", \"live_update\", \"live_update\", \"live_updates\", \"loan\", \"loan\", \"local\", \"local\", \"local\", \"local\", \"local\", \"local_government\", \"local_government\", \"location\", \"lock\", \"lock\", \"lock\", \"lock\", \"lockdown\", \"lockdown\", \"log\", \"long\", \"long\", \"long\", \"long\", \"long\", \"look_like\", \"look_like\", \"lose_job\", \"loss\", \"loss\", \"lot\", \"love\", \"love\", \"low\", \"low\", \"low\", \"madhya_pradesh\", \"maharashtra\", \"make\", \"make\", \"make\", \"make\", \"malaca\\u00f1ang\", \"malay_mail\", \"malay_mail\", \"malay_mail\", \"malaysian\", \"malaysian\", \"mall\", \"mall\", \"man\", \"mandatory\", \"mandatory\", \"manufacture\", \"manufacturer\", \"march\", \"mark\", \"mark\", \"mark\", \"mark\", \"market\", \"mask\", \"mask\", \"mask\", \"massive\", \"massive\", \"match\", \"mco\", \"meal\", \"measure\", \"medical\", \"medicine\", \"medicine\", \"meet\", \"mental_health\", \"mental_health\", \"metro_manila\", \"mid\", \"mid\", \"migrant\", \"migrant\", \"migrant\", \"mild\", \"milestone\", \"minister\", \"minister\", \"minister\", \"ministry_health\", \"ministry_health\", \"ministry_health\", \"miss\", \"miss\", \"miss\", \"miss\", \"mission\", \"mkhize\", \"mobile\", \"model\", \"model\", \"moderna\", \"mom\", \"moment\", \"moment\", \"moment\", \"moment\", \"monday\", \"monday\", \"monday\", \"monday\", \"money\", \"money\", \"monitor\", \"monitor\", \"month\", \"month\", \"month\", \"month\", \"month\", \"mother\", \"movement\", \"mp\", \"mp\", \"mum\", \"mumbai\", \"mumbai\", \"music\", \"muslim\", \"mutation\", \"na\", \"nation\", \"national\", \"national\", \"national\", \"national\", \"nationwide\", \"nationwide\", \"ncdc\", \"ncdc\", \"ncov\", \"ncov\", \"ncov\", \"ncr\", \"need_know\", \"need_know\", \"need_know\", \"need_know\", \"negative\", \"network\", \"new_normal\", \"new_youtube\", \"news\", \"news\", \"news\", \"newsalert\", \"newsalert\", \"newsnight\", \"ng\", \"nhs\", \"nigeria\", \"nigeria\", \"nigeria\", \"nigerian\", \"nigerian\", \"nograles\", \"norm\", \"normal\", \"november\", \"nstnation\", \"nstnation\", \"nstworld\", \"nsw\", \"nsw\", \"numb\", \"numb\", \"number\", \"number\", \"nurse\", \"nurse_home\", \"observe\", \"october\", \"october\", \"odisha\", \"offer\", \"offer\", \"offer\", \"offer\", \"office\", \"office\", \"office\", \"office\", \"officer\", \"officer\", \"officer\", \"official\", \"ofws\", \"oil\", \"ongoing\", \"ongoing\", \"online\", \"online\", \"ontario\", \"open\", \"open\", \"open\", \"opinion\", \"opinion\", \"opinion\", \"opportunity\", \"opportunity\", \"opposition\", \"option\", \"option\", \"option\", \"order\", \"order\", \"order\", \"organisation\", \"origin\", \"origin\", \"origin\", \"ottnews\", \"ottnews\", \"ottnews\", \"ottnews_ottawa\", \"ottnews_ottawa\", \"outbreak\", \"outbreak\", \"overcome\", \"overtake\", \"overwhelm\", \"owe\", \"owner\", \"owner\", \"oxygen\", \"package\", \"package\", \"pain\", \"palliative\", \"pandemic\", \"pandemic\", \"pandemic\", \"pandemic\", \"pandemic\", \"panic\", \"panic\", \"panic\", \"panic\", \"parent\", \"parents\", \"parliament\", \"part\", \"part\", \"party\", \"party\", \"party\", \"party\", \"pass\", \"pass\", \"pass\", \"pass_away\", \"passenger\", \"passenger\", \"past_day\", \"past_hour\", \"past_week\", \"patient\", \"patient\", \"patient_recover\", \"pay\", \"pay\", \"peak\", \"peak\", \"peak\", \"peak\", \"people\", \"people\", \"people\", \"people\", \"people\", \"percent\", \"performance\", \"period\", \"permit\", \"person\", \"person\", \"personnel\", \"personnel\", \"perspective\", \"pet\", \"pfizer\", \"pfizer_biontech\", \"ph\", \"ph\", \"ph\", \"pharmacy\", \"phase\", \"phase\", \"phase\", \"phase\", \"philippine\", \"photos\", \"place\", \"place\", \"place\", \"plan\", \"plan\", \"plan\", \"plan\", \"plan\", \"plan\", \"plan\", \"plant\", \"plant\", \"play\", \"play\", \"play\", \"player\", \"player\", \"pm\", \"pm_modi\", \"pm_narendra_modi\", \"police\", \"policy\", \"policy\", \"policy\", \"political\", \"political\", \"poll\", \"poll\", \"poor\", \"poor\", \"population\", \"population\", \"population\", \"positive\", \"positive\", \"positivity_rate\", \"post\", \"post\", \"postpone\", \"postpone\", \"postpone\", \"potential\", \"potential\", \"potential\", \"potential\", \"power\", \"ppe\", \"pradesh\", \"praise\", \"precaution\", \"preparedness\", \"pres_trump\", \"president\", \"president\", \"president_donald_trump\", \"president_donald_trump\", \"president_duterte\", \"president_rodrigo_duterte\", \"president_trump\", \"prevent\", \"prevent\", \"prevent\", \"prevent\", \"prevent_spread\", \"prevent_spread\", \"prevent_spread\", \"previous\", \"previous\", \"price\", \"prime_minister_boris_johnson\", \"prime_minister_justin_trudeau\", \"prison\", \"prison\", \"prison\", \"private_hospital\", \"problem\", \"problem\", \"problem\", \"procure\", \"produce\", \"produce\", \"product\", \"product\", \"profit\", \"programme\", \"programme\", \"programme\", \"projection\", \"proposal\", \"propose\", \"propose\", \"propose\", \"protect\", \"protect\", \"protest\", \"protest\", \"protester\", \"protocol\", \"protocol\", \"protocol\", \"provide\", \"provide\", \"provide\", \"provide_update\", \"province\", \"province\", \"province\", \"provincial\", \"provincial\", \"ptf\", \"pub\", \"pub\", \"pub\", \"public\", \"public\", \"public\", \"public\", \"public\", \"public_health\", \"public_health\", \"public_health\", \"publish\", \"pune\", \"punjab\", \"push\", \"push\", \"push\", \"push\", \"quarantine\", \"quarantine\", \"quarantine\", \"quarantine_facility\", \"quarantine_hotel\", \"quarantine_period\", \"quarantine_period\", \"quarantine_period\", \"quarter\", \"quarter\", \"quebec\", \"quebec\", \"quebec\", \"quebec\", \"question\", \"question\", \"quickly\", \"quickly\", \"race\", \"rahul_gandhi\", \"rajasthan\", \"rajasthan\", \"rajasthan\", \"rapid\", \"rapid_test\", \"rapidly\", \"rapidly\", \"rate\", \"reach\", \"reach\", \"reach\", \"read\", \"read\", \"ready\", \"ready\", \"ready\", \"ready\", \"real\", \"real\", \"reality\", \"receive\", \"receive\", \"receive\", \"recommendation\", \"record\", \"record\", \"record_high\", \"recover\", \"recover\", \"recover\", \"recover\", \"recover\", \"recovery\", \"recovery\", \"recovery_rate\", \"reduce\", \"reduce\", \"reduce\", \"reduce\", \"region\", \"region\", \"region\", \"region\", \"register\", \"register\", \"register\", \"register\", \"registration\", \"relate\", \"relate\", \"relate\", \"relate\", \"relate\", \"relate\", \"relate_death\", \"relative\", \"relax\", \"relaxation\", \"relaxation\", \"release\", \"release\", \"relief\", \"relief_bill\", \"relief_bill\", \"relief_fund\", \"relief_package\", \"remain\", \"remain\", \"remain\", \"remain\", \"remain_open\", \"remdesivir\", \"reopen\", \"reopen\", \"reopen\", \"reopen_school\", \"report\", \"report\", \"report\", \"report\", \"reportedly\", \"reports\", \"require\", \"require\", \"require\", \"research\", \"research\", \"researcher\", \"researcher\", \"researchers\", \"resident\", \"resident\", \"resident\", \"respond\", \"respond\", \"response\", \"response\", \"restaurant\", \"restrict\", \"restriction\", \"restriction_ease\", \"restriction_ease\", \"result\", \"resume\", \"resurgence\", \"resurgence\", \"return\", \"return\", \"return\", \"return\", \"reuters\", \"reuters\", \"reuters\", \"reveal\", \"reveal\", \"reveal\", \"revenue\", \"revenue\", \"review\", \"review\", \"review\", \"rise\", \"risk\", \"risk\", \"roll\", \"roll\", \"rollout\", \"roque\", \"rule\", \"rule\", \"rule\", \"run\", \"run\", \"run\", \"russian\", \"sa\", \"sabah\", \"sabah\", \"sabcnews\", \"sabcnews\", \"safe\", \"safe\", \"safe\", \"safely\", \"sale\", \"sample\", \"saturday\", \"saturday\", \"saturday\", \"saturday\", \"saturday\", \"saturday\", \"save_live\", \"scam\", \"scam\", \"scam\", \"scare\", \"scheme\", \"school\", \"scientist\", \"scientist\", \"scientist\", \"scientists\", \"scientists\", \"scientists\", \"screen\", \"screen\", \"screen\", \"seal\", \"season\", \"season\", \"sector\", \"sector\", \"seek\", \"seek\", \"sell\", \"senate\", \"send\", \"send\", \"send\", \"senior\", \"senior\", \"senior\", \"september\", \"september\", \"service\", \"service\", \"service\", \"session\", \"set\", \"set\", \"set\", \"set\", \"set\", \"set\", \"share\", \"share\", \"share\", \"shelter\", \"shift\", \"shift\", \"shipment\", \"shock\", \"shoot\", \"shot\", \"shot\", \"show\", \"show\", \"show\", \"shut\", \"shut\", \"shut\", \"shutdown\", \"shutdown\", \"sick\", \"sick\", \"sign\", \"sign\", \"single_day\", \"single_day\", \"sinovac\", \"site\", \"situation\", \"situation\", \"slam\", \"slow_spread\", \"small_business\", \"small_business\", \"small_business\", \"small_business\", \"soar\", \"soar\", \"social\", \"social\", \"social_distance\", \"social_distance_measure\", \"social_medium\", \"social_medium\", \"social_medium\", \"son\", \"son\", \"song\", \"source\", \"source\", \"source\", \"space\", \"spark\", \"spark\", \"speak\", \"special\", \"special\", \"special\", \"speech\", \"spend\", \"spend\", \"spend\", \"spend\", \"spike\", \"spike\", \"spread\", \"spread\", \"staff\", \"staff\", \"staff\", \"staff\", \"stage\", \"stall\", \"stand\", \"stand\", \"stand\", \"start\", \"start\", \"start\", \"start\", \"state\", \"state\", \"state\", \"states\", \"states\", \"statistic\", \"stay\", \"stay\", \"stay\", \"stay\", \"stay_home_order\", \"stay_home_order\", \"stay_home_order\", \"stimulus_package\", \"stimulus_package\", \"stock\", \"stop\", \"stop\", \"stop\", \"stop\", \"stop\", \"store\", \"story\", \"story\", \"story\", \"story\", \"story\", \"story\", \"strain\", \"strain\", \"street\", \"street\", \"stress\", \"strict\", \"struggle\", \"struggle\", \"struggle\", \"struggle\", \"struggle\", \"student\", \"student\", \"study\", \"study\", \"study_find\", \"study_find\", \"study_find\", \"study_find\", \"study_show\", \"suggest\", \"suggest\", \"summer\", \"summer\", \"sunday\", \"sunday\", \"sunday\", \"sunday\", \"sunday\", \"supply\", \"support\", \"support\", \"support\", \"supreme_court\", \"surge\", \"surge\", \"survive\", \"survive\", \"survive\", \"survive\", \"suspect\", \"suspect\", \"suspend\", \"suspend\", \"suspend\", \"sydney\", \"symptom\", \"system\", \"take_total_numb\", \"talk\", \"talk\", \"talk\", \"tally\", \"tally\", \"tally_rise\", \"tamil_nadu\", \"tamilnadu\", \"target\", \"target\", \"target\", \"task_force\", \"task_force\", \"task_force\", \"teach\", \"teacher\", \"teacher\", \"team\", \"team\", \"team\", \"team\", \"teen\", \"telangana\", \"test\", \"test_kit\", \"test_kit\", \"test_negative\", \"test_negative\", \"test_negative\", \"test_positive\", \"test_positive\", \"test_result\", \"test_result\", \"test_result\", \"test_site\", \"thecable\", \"thecable\", \"thecable\", \"thecable\", \"thing\", \"thing\", \"thread\", \"thread\", \"thursday\", \"thursday\", \"thursday\", \"thursday\", \"thursday\", \"thursday\", \"thursday\", \"tier\", \"tier\", \"tier\", \"tier\", \"tighten\", \"time\", \"time\", \"time\", \"time\", \"time\", \"time\", \"times\", \"today\", \"today\", \"today\", \"today\", \"toll\", \"toll\", \"toll\", \"tomorrow\", \"tonight\", \"tool\", \"top\", \"top\", \"top\", \"total\", \"total_active\", \"total_numb\", \"total_numb\", \"tough\", \"tourism\", \"tourism\", \"trace\", \"track\", \"track\", \"track\", \"tracker\", \"trade\", \"trade\", \"train\", \"train\", \"train\", \"transfer\", \"transmission\", \"transmission\", \"transmission\", \"transmission\", \"travel\", \"travel_ban\", \"traveller\", \"treat\", \"treatment\", \"treatment\", \"treatment\", \"trend\", \"trend\", \"trend\", \"trial\", \"trudeau\", \"trump\", \"trump_administration\", \"trump_administration\", \"trust\", \"tuesday\", \"tuesday\", \"tuesday\", \"tune\", \"turn\", \"turn\", \"turn\", \"turn\", \"turn\", \"turn\", \"turn\", \"tv\", \"twitter\", \"undergo\", \"undergo\", \"union\", \"union_health_ministry\", \"union_health_ministry\", \"university\", \"university\", \"unveil\", \"unveil\", \"update\", \"update\", \"updates\", \"urge\", \"urge\", \"urge\", \"urge\", \"urge\", \"uttarakhand\", \"uttarpradesh\", \"vaccinate\", \"vaccinate\", \"vaccination\", \"vaccination\", \"vaccination\", \"vaccination\", \"vaccine\", \"vaccine_candidate\", \"vaccine_rollout\", \"vaccine_rollout\", \"vaccine_rollout\", \"vaccine_rollout\", \"vanguardnews\", \"variant\", \"ventilator\", \"victim\", \"victim\", \"victoria\", \"victoria\", \"victoria_record_new\", \"victoria_record_new\", \"victoria_record_new\", \"victorian\", \"victorian\", \"video\", \"village\", \"violate\", \"violence\", \"virtual\", \"virtual\", \"virus\", \"virus\", \"virus\", \"visit\", \"visit\", \"visit\", \"visit\", \"vital\", \"vmnews\", \"vmnews\", \"volunteer\", \"voter\", \"vulnerable\", \"wait\", \"wait\", \"wait\", \"ward\", \"ward\", \"ward\", \"warn\", \"warn\", \"warn\", \"warn\", \"warn\", \"watch\", \"watch\", \"watch_live\", \"water\", \"wave\", \"wear_mask\", \"wednesday\", \"wednesday\", \"wednesday\", \"wednesday\", \"week\", \"week\", \"week\", \"week\", \"week\", \"weekend\", \"weekly\", \"weigh\", \"west_bengal\", \"western_cape\", \"western_cape\", \"western_cape\", \"white_house\", \"white_house\", \"wife\", \"wife\", \"wife\", \"win\", \"winter\", \"winter\", \"woman\", \"work\", \"work\", \"work\", \"work_home\", \"work_home\", \"work_home\", \"worker\", \"workplace\", \"world\", \"world\", \"world\", \"world\", \"world_bank\", \"world_health_organization\", \"world_health_organization\", \"world_health_organization\", \"worldwide\", \"worldwide\", \"worry\", \"worry\", \"write\", \"write\", \"write\", \"wrong\", \"wrong\", \"wrong\", \"wrong_hit\", \"year\", \"year_old\", \"year_old\", \"year_old_man\", \"year_old_woman\", \"yesterday\", \"yesterday\", \"young\", \"young\", \"young\", \"yung\"]}, \"R\": 30, \"lambda.step\": 0.01, \"plot.opts\": {\"xlab\": \"PC1\", \"ylab\": \"PC2\"}, \"topic.order\": [6, 4, 5, 7, 20, 19, 10, 13, 16, 17, 15, 11, 8, 3, 9, 1, 2, 12, 14, 18]};\n",
       "\n",
       "function LDAvis_load_lib(url, callback){\n",
       "  var s = document.createElement('script');\n",
       "  s.src = url;\n",
       "  s.async = true;\n",
       "  s.onreadystatechange = s.onload = callback;\n",
       "  s.onerror = function(){console.warn(\"failed to load library \" + url);};\n",
       "  document.getElementsByTagName(\"head\")[0].appendChild(s);\n",
       "}\n",
       "\n",
       "if(typeof(LDAvis) !== \"undefined\"){\n",
       "   // already loaded: just create the visualization\n",
       "   !function(LDAvis){\n",
       "       new LDAvis(\"#\" + \"ldavis_el1678422927533132327169986117\", ldavis_el1678422927533132327169986117_data);\n",
       "   }(LDAvis);\n",
       "}else if(typeof define === \"function\" && define.amd){\n",
       "   // require.js is available: use it to load d3/LDAvis\n",
       "   require.config({paths: {d3: \"https://d3js.org/d3.v5\"}});\n",
       "   require([\"d3\"], function(d3){\n",
       "      window.d3 = d3;\n",
       "      LDAvis_load_lib(\"https://cdn.jsdelivr.net/gh/bmabey/pyLDAvis@3.3.1/pyLDAvis/js/ldavis.v3.0.0.js\", function(){\n",
       "        new LDAvis(\"#\" + \"ldavis_el1678422927533132327169986117\", ldavis_el1678422927533132327169986117_data);\n",
       "      });\n",
       "    });\n",
       "}else{\n",
       "    // require.js not available: dynamically load d3 & LDAvis\n",
       "    LDAvis_load_lib(\"https://d3js.org/d3.v5.js\", function(){\n",
       "         LDAvis_load_lib(\"https://cdn.jsdelivr.net/gh/bmabey/pyLDAvis@3.3.1/pyLDAvis/js/ldavis.v3.0.0.js\", function(){\n",
       "                 new LDAvis(\"#\" + \"ldavis_el1678422927533132327169986117\", ldavis_el1678422927533132327169986117_data);\n",
       "            })\n",
       "         });\n",
       "}\n",
       "</script>"
      ],
      "text/plain": [
       "PreparedData(topic_coordinates=              x         y  topics  cluster      Freq\n",
       "topic                                               \n",
       "5      0.376622 -0.126622       1        1  5.087497\n",
       "3      0.336078 -0.096200       2        1  5.024331\n",
       "4     -0.117955 -0.197921       3        1  5.020962\n",
       "6     -0.058879  0.085983       4        1  5.014223\n",
       "19    -0.003304  0.156945       5        1  5.012755\n",
       "18    -0.151992 -0.238179       6        1  5.012173\n",
       "9      0.009251  0.223078       7        1  5.012034\n",
       "12     0.010238 -0.002856       8        1  5.008033\n",
       "15    -0.030969  0.037682       9        1  5.004493\n",
       "16     0.322865 -0.081289      10        1  4.997197\n",
       "14    -0.129178 -0.115867      11        1  4.995125\n",
       "10    -0.040888  0.124812      12        1  4.992945\n",
       "7     -0.025928  0.193648      13        1  4.989978\n",
       "2     -0.188223 -0.192700      14        1  4.987231\n",
       "8     -0.019613  0.081538      15        1  4.986988\n",
       "0     -0.027866  0.035205      16        1  4.983835\n",
       "1     -0.151192 -0.170714      17        1  4.980991\n",
       "11    -0.059982  0.191090      18        1  4.979268\n",
       "13    -0.041649  0.022337      19        1  4.955859\n",
       "17    -0.007435  0.070030      20        1  4.954081, topic_info=              Term           Freq          Total Category  logprob  loglift\n",
       "8          vaccine  190645.000000  190645.000000  Default  30.0000  30.0000\n",
       "69            case  278713.000000  278713.000000  Default  29.0000  29.0000\n",
       "93        lockdown  202605.000000  202605.000000  Default  28.0000  28.0000\n",
       "44        pandemic  249877.000000  249877.000000  Default  27.0000  27.0000\n",
       "47          report  117181.000000  117181.000000  Default  26.0000  26.0000\n",
       "..             ...            ...            ...      ...      ...      ...\n",
       "514          visit    5273.091167   10803.610040  Topic20  -4.6086   2.2877\n",
       "777  test_negative    3618.378447    6793.575955  Topic20  -4.9852   2.3750\n",
       "104           home    4683.771554   31527.772248  Topic20  -4.7271   1.0982\n",
       "170          leave    3926.231976   16556.998702  Topic20  -4.9035   1.5658\n",
       "267          catch    3653.561707    8625.110479  Topic20  -4.9755   2.1460\n",
       "\n",
       "[1167 rows x 6 columns], token_table=      Topic      Freq       Term\n",
       "term                            \n",
       "1322     15  1.000331    ability\n",
       "991       5  0.999892     abroad\n",
       "816       4  0.874900     access\n",
       "816       9  0.125222     access\n",
       "162      11  0.000455     accord\n",
       "...     ...       ...        ...\n",
       "658      10  0.880303  yesterday\n",
       "1019     14  0.005021      young\n",
       "1019     17  0.052282      young\n",
       "1019     20  0.942840      young\n",
       "852       5  1.000335       yung\n",
       "\n",
       "[2059 rows x 3 columns], R=30, lambda_step=0.01, plot_opts={'xlab': 'PC1', 'ylab': 'PC2'}, topic_order=[6, 4, 5, 7, 20, 19, 10, 13, 16, 17, 15, 11, 8, 3, 9, 1, 2, 12, 14, 18])"
      ]
     },
     "execution_count": 17,
     "metadata": {},
     "output_type": "execute_result"
    }
   ],
   "source": [
    "# Train model\n",
    "ldamallet = gensim.models.wrappers.LdaMallet(mallet_path, corpus=corpus, num_topics=20, id2word=id2word, random_seed=50)\n",
    "model = gensim.models.wrappers.ldamallet.malletmodel2ldamodel(ldamallet)\n",
    "temp_file = datapath(\"model\")\n",
    "ldamallet.save(temp_file)\n",
    "\n",
    "# Visualize the topics\n",
    "pyLDAvis.enable_notebook()\n",
    "vis = pyLDAvis.gensim_models.prepare(model, corpus, dictionary)\n",
    "vis"
   ]
  },
  {
   "cell_type": "code",
   "execution_count": 176,
   "metadata": {},
   "outputs": [
    {
     "data": {
      "text/plain": [
       "array(['case', 'death', 'confirm', 'report', 'total', 'recovery',\n",
       "       'record', 'breaking', 'active_case', 'hour', 'death_toll',\n",
       "       'fatality', 'additional', 'total_numb', 'discharge',\n",
       "       'department_health', 'tally', 'bring_total', 'past_hour', 'climb',\n",
       "       'reach', 'recover', 'relate_death', 'log', 'patient_recover',\n",
       "       'death_toll_rise', 'doh', 'bring_total_numb',\n",
       "       'union_health_ministry', 'additional_death', 'stand', 'today',\n",
       "       'infection', 'bring', 'total_active', 'high_daily',\n",
       "       'filipino_abroad', 'victoria_record_new', 'ministry_health', 'dfa'],\n",
       "      dtype=object)"
      ]
     },
     "execution_count": 176,
     "metadata": {},
     "output_type": "execute_result"
    }
   ],
   "source": [
    "vis.sorted_terms(1, 0.64).Term.values"
   ]
  },
  {
   "cell_type": "code",
   "execution_count": 64,
   "metadata": {},
   "outputs": [],
   "source": [
    "subthemes = [\n",
    "    (1,11,['rise', 'increase', 'high', 'spike', 'jump', 'reach', 'double', 'climb', 'soar', 'record_high', 'death_toll_rise', 'peak', 'hit', 'high_daily', 'top', 'exceed', 'high_single_day', 'tally_rise']),\n",
    "    (1,12,['low', 'drop', 'fall', 'dip', 'decrease']),\n",
    "    (2,21,['worker', 'plan', 'work', 'support', 'free', 'job', 'employee', 'food', 'citizen', 'congress', 'poor', 'protect', 'people', 'vulnerable', 'household', 'essential', 'loan', 'small_business', 'lose_job', 'donation', 'employer', 'assistance', 'job_loss']),\n",
    "    (2,22,['impact', 'business', 'government', 'economy', 'global', 'demand', 'market', 'company', 'industry', 'cut', 'aid', 'budget', 'sector', 'boost', 'bank', 'bill', 'stock', 'quarter', 'trade', 'law', 'growth', 'lawmaker', 'office', 'relief_bill', 'supreme_court', 'economic_recovery', 'debt', 'profit', 'relief_package', 'global_economy', 'stimulus_package', 'world_bank', 'relief_fund', 'organisation']),\n",
    "    (4,41,['nurse_home', 'care_home']),\n",
    "    (4,42,['mental_health']),\n",
    "    (4,43,['jail', 'prison', 'cop', 'inmate']),\n",
    "    (4,44,['family', 'couple', 'wife', 'mother', 'son', 'daughter', 'husband', 'father', 'mum', 'baby', 'dad']),\n",
    "    (5,51,['health_official', 'health_minister', 'expert', 'task_force', 'public_health', 'dr_anthony_fauci', 'chief_medical_officer']),\n",
    "    (5,52,['trump', 'pm', 'president', 'president_trump', 'minister', 'white_house', 'leader', 'pm_modi', 'governor', 'govt', 'president_donald_trump', 'donald_trump', 'administration', 'federal', 'biden', 'mp', 'joe_biden', 'trudeau', 'trump_administration', 'pm_narendra_modi', 'leadership', 'pres_trump', 'prime_minister_justin_trudeau', 'opposition', 'government']),\n",
    "    (5,53,['election', 'poll', 'debate', 'voter']),\n",
    "    (6,61,['lockdown', 'restriction', 'quarantine', 'police', 'rule', 'impose', 'protocol', 'quarantine_facility', 'mandatory', 'community_quarantine', 'stay_home_order', 'containment_zone', 'covidquarantine', 'quarantine_period']),\n",
    "    (6,62,['travel', 'passenger', 'flight', 'airport', 'plan', 'airline', 'tourism', 'fly', 'traveller', 'travel_ban', 'trip', 'vaccine_passport']),\n",
    "    (6,63,['protest', 'anti', 'break', 'arrest', 'fine', 'protester']),\n",
    "    (6,64,['social_distance', 'mask', 'wear_mask', 'social_distance_measure']),\n",
    "    (6,65,['christmas', 'holiday', 'easter']),\n",
    "    (6,66,['ease', 'relax', 'restriction_ease', 'ease_restriction', 'slow_spread']),\n",
    "    (7,71,['outbreak', 'fear', 'chinese', 'detect', 'epidemic', 'suspect', 'emerge', 'panic', 'epicentre', 'animal', 'origin', 'china', 'epicenter']),\n",
    "    (7,72,['hospital', 'study', 'treatment', 'research', 'lab', 'expert', 'cure', 'researcher', 'scientist', 'ventilator', 'study_find', 'medicine', 'scientists', 'private_hospital', 'expert_warn', 'oxygen', 'researchers', 'intensive_care', 'study_show', 'hospitals', 'palliative']),\n",
    "    (7,73,['variant', 'wave', 'strain', 'mutation']),\n",
    "    (7,74,['doctor', 'medical', 'healthcare_worker', 'health_worker', 'doctors', 'health_care_worker'])\n",
    "]"
   ]
  },
  {
   "cell_type": "code",
   "execution_count": 54,
   "metadata": {},
   "outputs": [],
   "source": [
    "df_iter = ldamallet.load_document_topics()\n",
    "df = []\n",
    "for k in df_iter:\n",
    "    df.append([i[1] for i in k])\n",
    "df = pd.DataFrame(df, columns=[fr'topic_{k}' for k in range(20)])"
   ]
  },
  {
   "cell_type": "code",
   "execution_count": 56,
   "metadata": {},
   "outputs": [
    {
     "data": {
      "text/html": [
       "<div>\n",
       "<style scoped>\n",
       "    .dataframe tbody tr th:only-of-type {\n",
       "        vertical-align: middle;\n",
       "    }\n",
       "\n",
       "    .dataframe tbody tr th {\n",
       "        vertical-align: top;\n",
       "    }\n",
       "\n",
       "    .dataframe thead th {\n",
       "        text-align: right;\n",
       "    }\n",
       "</style>\n",
       "<table border=\"1\" class=\"dataframe\">\n",
       "  <thead>\n",
       "    <tr style=\"text-align: right;\">\n",
       "      <th></th>\n",
       "      <th>topic_0</th>\n",
       "      <th>topic_1</th>\n",
       "      <th>topic_2</th>\n",
       "      <th>topic_3</th>\n",
       "      <th>topic_4</th>\n",
       "      <th>topic_5</th>\n",
       "      <th>topic_6</th>\n",
       "      <th>topic_7</th>\n",
       "      <th>topic_8</th>\n",
       "      <th>topic_9</th>\n",
       "      <th>topic_10</th>\n",
       "      <th>topic_11</th>\n",
       "      <th>topic_12</th>\n",
       "      <th>topic_13</th>\n",
       "      <th>topic_14</th>\n",
       "      <th>topic_15</th>\n",
       "      <th>topic_16</th>\n",
       "      <th>topic_17</th>\n",
       "      <th>topic_18</th>\n",
       "      <th>topic_19</th>\n",
       "      <th>topic</th>\n",
       "    </tr>\n",
       "  </thead>\n",
       "  <tbody>\n",
       "    <tr>\n",
       "      <th>0</th>\n",
       "      <td>0.041667</td>\n",
       "      <td>0.041667</td>\n",
       "      <td>0.058333</td>\n",
       "      <td>0.058333</td>\n",
       "      <td>0.058333</td>\n",
       "      <td>0.041667</td>\n",
       "      <td>0.041667</td>\n",
       "      <td>0.058333</td>\n",
       "      <td>0.058333</td>\n",
       "      <td>0.058333</td>\n",
       "      <td>0.041667</td>\n",
       "      <td>0.041667</td>\n",
       "      <td>0.058333</td>\n",
       "      <td>0.075000</td>\n",
       "      <td>0.041667</td>\n",
       "      <td>0.058333</td>\n",
       "      <td>0.041667</td>\n",
       "      <td>0.041667</td>\n",
       "      <td>0.041667</td>\n",
       "      <td>0.041667</td>\n",
       "      <td>topic_13</td>\n",
       "    </tr>\n",
       "    <tr>\n",
       "      <th>1</th>\n",
       "      <td>0.046296</td>\n",
       "      <td>0.046296</td>\n",
       "      <td>0.046296</td>\n",
       "      <td>0.046296</td>\n",
       "      <td>0.046296</td>\n",
       "      <td>0.046296</td>\n",
       "      <td>0.046296</td>\n",
       "      <td>0.046296</td>\n",
       "      <td>0.046296</td>\n",
       "      <td>0.046296</td>\n",
       "      <td>0.046296</td>\n",
       "      <td>0.064815</td>\n",
       "      <td>0.046296</td>\n",
       "      <td>0.046296</td>\n",
       "      <td>0.083333</td>\n",
       "      <td>0.046296</td>\n",
       "      <td>0.064815</td>\n",
       "      <td>0.046296</td>\n",
       "      <td>0.046296</td>\n",
       "      <td>0.046296</td>\n",
       "      <td>topic_14</td>\n",
       "    </tr>\n",
       "    <tr>\n",
       "      <th>2</th>\n",
       "      <td>0.044643</td>\n",
       "      <td>0.080357</td>\n",
       "      <td>0.044643</td>\n",
       "      <td>0.044643</td>\n",
       "      <td>0.044643</td>\n",
       "      <td>0.044643</td>\n",
       "      <td>0.044643</td>\n",
       "      <td>0.062500</td>\n",
       "      <td>0.044643</td>\n",
       "      <td>0.044643</td>\n",
       "      <td>0.044643</td>\n",
       "      <td>0.044643</td>\n",
       "      <td>0.080357</td>\n",
       "      <td>0.044643</td>\n",
       "      <td>0.044643</td>\n",
       "      <td>0.044643</td>\n",
       "      <td>0.062500</td>\n",
       "      <td>0.044643</td>\n",
       "      <td>0.044643</td>\n",
       "      <td>0.044643</td>\n",
       "      <td>topic_1</td>\n",
       "    </tr>\n",
       "    <tr>\n",
       "      <th>3</th>\n",
       "      <td>0.101562</td>\n",
       "      <td>0.070312</td>\n",
       "      <td>0.039062</td>\n",
       "      <td>0.039062</td>\n",
       "      <td>0.039062</td>\n",
       "      <td>0.039062</td>\n",
       "      <td>0.054688</td>\n",
       "      <td>0.039062</td>\n",
       "      <td>0.132812</td>\n",
       "      <td>0.039062</td>\n",
       "      <td>0.039062</td>\n",
       "      <td>0.039062</td>\n",
       "      <td>0.039062</td>\n",
       "      <td>0.039062</td>\n",
       "      <td>0.039062</td>\n",
       "      <td>0.039062</td>\n",
       "      <td>0.039062</td>\n",
       "      <td>0.054688</td>\n",
       "      <td>0.039062</td>\n",
       "      <td>0.039062</td>\n",
       "      <td>topic_8</td>\n",
       "    </tr>\n",
       "    <tr>\n",
       "      <th>4</th>\n",
       "      <td>0.046296</td>\n",
       "      <td>0.064815</td>\n",
       "      <td>0.046296</td>\n",
       "      <td>0.046296</td>\n",
       "      <td>0.046296</td>\n",
       "      <td>0.046296</td>\n",
       "      <td>0.046296</td>\n",
       "      <td>0.064815</td>\n",
       "      <td>0.046296</td>\n",
       "      <td>0.046296</td>\n",
       "      <td>0.046296</td>\n",
       "      <td>0.064815</td>\n",
       "      <td>0.046296</td>\n",
       "      <td>0.046296</td>\n",
       "      <td>0.046296</td>\n",
       "      <td>0.046296</td>\n",
       "      <td>0.046296</td>\n",
       "      <td>0.046296</td>\n",
       "      <td>0.064815</td>\n",
       "      <td>0.046296</td>\n",
       "      <td>topic_1</td>\n",
       "    </tr>\n",
       "    <tr>\n",
       "      <th>...</th>\n",
       "      <td>...</td>\n",
       "      <td>...</td>\n",
       "      <td>...</td>\n",
       "      <td>...</td>\n",
       "      <td>...</td>\n",
       "      <td>...</td>\n",
       "      <td>...</td>\n",
       "      <td>...</td>\n",
       "      <td>...</td>\n",
       "      <td>...</td>\n",
       "      <td>...</td>\n",
       "      <td>...</td>\n",
       "      <td>...</td>\n",
       "      <td>...</td>\n",
       "      <td>...</td>\n",
       "      <td>...</td>\n",
       "      <td>...</td>\n",
       "      <td>...</td>\n",
       "      <td>...</td>\n",
       "      <td>...</td>\n",
       "      <td>...</td>\n",
       "    </tr>\n",
       "    <tr>\n",
       "      <th>1814501</th>\n",
       "      <td>0.048077</td>\n",
       "      <td>0.048077</td>\n",
       "      <td>0.048077</td>\n",
       "      <td>0.048077</td>\n",
       "      <td>0.048077</td>\n",
       "      <td>0.048077</td>\n",
       "      <td>0.048077</td>\n",
       "      <td>0.048077</td>\n",
       "      <td>0.067308</td>\n",
       "      <td>0.048077</td>\n",
       "      <td>0.048077</td>\n",
       "      <td>0.048077</td>\n",
       "      <td>0.048077</td>\n",
       "      <td>0.067308</td>\n",
       "      <td>0.048077</td>\n",
       "      <td>0.048077</td>\n",
       "      <td>0.048077</td>\n",
       "      <td>0.048077</td>\n",
       "      <td>0.048077</td>\n",
       "      <td>0.048077</td>\n",
       "      <td>topic_8</td>\n",
       "    </tr>\n",
       "    <tr>\n",
       "      <th>1814502</th>\n",
       "      <td>0.046296</td>\n",
       "      <td>0.046296</td>\n",
       "      <td>0.046296</td>\n",
       "      <td>0.046296</td>\n",
       "      <td>0.046296</td>\n",
       "      <td>0.046296</td>\n",
       "      <td>0.046296</td>\n",
       "      <td>0.046296</td>\n",
       "      <td>0.046296</td>\n",
       "      <td>0.046296</td>\n",
       "      <td>0.046296</td>\n",
       "      <td>0.120370</td>\n",
       "      <td>0.046296</td>\n",
       "      <td>0.046296</td>\n",
       "      <td>0.046296</td>\n",
       "      <td>0.046296</td>\n",
       "      <td>0.046296</td>\n",
       "      <td>0.046296</td>\n",
       "      <td>0.046296</td>\n",
       "      <td>0.046296</td>\n",
       "      <td>topic_11</td>\n",
       "    </tr>\n",
       "    <tr>\n",
       "      <th>1814503</th>\n",
       "      <td>0.044643</td>\n",
       "      <td>0.044643</td>\n",
       "      <td>0.080357</td>\n",
       "      <td>0.044643</td>\n",
       "      <td>0.062500</td>\n",
       "      <td>0.044643</td>\n",
       "      <td>0.062500</td>\n",
       "      <td>0.062500</td>\n",
       "      <td>0.044643</td>\n",
       "      <td>0.062500</td>\n",
       "      <td>0.044643</td>\n",
       "      <td>0.044643</td>\n",
       "      <td>0.044643</td>\n",
       "      <td>0.044643</td>\n",
       "      <td>0.044643</td>\n",
       "      <td>0.044643</td>\n",
       "      <td>0.044643</td>\n",
       "      <td>0.044643</td>\n",
       "      <td>0.044643</td>\n",
       "      <td>0.044643</td>\n",
       "      <td>topic_2</td>\n",
       "    </tr>\n",
       "    <tr>\n",
       "      <th>1814504</th>\n",
       "      <td>0.046296</td>\n",
       "      <td>0.046296</td>\n",
       "      <td>0.046296</td>\n",
       "      <td>0.046296</td>\n",
       "      <td>0.083333</td>\n",
       "      <td>0.046296</td>\n",
       "      <td>0.046296</td>\n",
       "      <td>0.046296</td>\n",
       "      <td>0.046296</td>\n",
       "      <td>0.046296</td>\n",
       "      <td>0.046296</td>\n",
       "      <td>0.046296</td>\n",
       "      <td>0.046296</td>\n",
       "      <td>0.046296</td>\n",
       "      <td>0.064815</td>\n",
       "      <td>0.046296</td>\n",
       "      <td>0.046296</td>\n",
       "      <td>0.046296</td>\n",
       "      <td>0.046296</td>\n",
       "      <td>0.064815</td>\n",
       "      <td>topic_4</td>\n",
       "    </tr>\n",
       "    <tr>\n",
       "      <th>1814505</th>\n",
       "      <td>0.040323</td>\n",
       "      <td>0.040323</td>\n",
       "      <td>0.040323</td>\n",
       "      <td>0.137097</td>\n",
       "      <td>0.040323</td>\n",
       "      <td>0.056452</td>\n",
       "      <td>0.040323</td>\n",
       "      <td>0.040323</td>\n",
       "      <td>0.056452</td>\n",
       "      <td>0.072581</td>\n",
       "      <td>0.040323</td>\n",
       "      <td>0.040323</td>\n",
       "      <td>0.040323</td>\n",
       "      <td>0.040323</td>\n",
       "      <td>0.040323</td>\n",
       "      <td>0.040323</td>\n",
       "      <td>0.040323</td>\n",
       "      <td>0.040323</td>\n",
       "      <td>0.056452</td>\n",
       "      <td>0.056452</td>\n",
       "      <td>topic_3</td>\n",
       "    </tr>\n",
       "  </tbody>\n",
       "</table>\n",
       "<p>1814506 rows × 21 columns</p>\n",
       "</div>"
      ],
      "text/plain": [
       "          topic_0   topic_1   topic_2   topic_3   topic_4   topic_5   topic_6  \\\n",
       "0        0.041667  0.041667  0.058333  0.058333  0.058333  0.041667  0.041667   \n",
       "1        0.046296  0.046296  0.046296  0.046296  0.046296  0.046296  0.046296   \n",
       "2        0.044643  0.080357  0.044643  0.044643  0.044643  0.044643  0.044643   \n",
       "3        0.101562  0.070312  0.039062  0.039062  0.039062  0.039062  0.054688   \n",
       "4        0.046296  0.064815  0.046296  0.046296  0.046296  0.046296  0.046296   \n",
       "...           ...       ...       ...       ...       ...       ...       ...   \n",
       "1814501  0.048077  0.048077  0.048077  0.048077  0.048077  0.048077  0.048077   \n",
       "1814502  0.046296  0.046296  0.046296  0.046296  0.046296  0.046296  0.046296   \n",
       "1814503  0.044643  0.044643  0.080357  0.044643  0.062500  0.044643  0.062500   \n",
       "1814504  0.046296  0.046296  0.046296  0.046296  0.083333  0.046296  0.046296   \n",
       "1814505  0.040323  0.040323  0.040323  0.137097  0.040323  0.056452  0.040323   \n",
       "\n",
       "          topic_7   topic_8   topic_9  topic_10  topic_11  topic_12  topic_13  \\\n",
       "0        0.058333  0.058333  0.058333  0.041667  0.041667  0.058333  0.075000   \n",
       "1        0.046296  0.046296  0.046296  0.046296  0.064815  0.046296  0.046296   \n",
       "2        0.062500  0.044643  0.044643  0.044643  0.044643  0.080357  0.044643   \n",
       "3        0.039062  0.132812  0.039062  0.039062  0.039062  0.039062  0.039062   \n",
       "4        0.064815  0.046296  0.046296  0.046296  0.064815  0.046296  0.046296   \n",
       "...           ...       ...       ...       ...       ...       ...       ...   \n",
       "1814501  0.048077  0.067308  0.048077  0.048077  0.048077  0.048077  0.067308   \n",
       "1814502  0.046296  0.046296  0.046296  0.046296  0.120370  0.046296  0.046296   \n",
       "1814503  0.062500  0.044643  0.062500  0.044643  0.044643  0.044643  0.044643   \n",
       "1814504  0.046296  0.046296  0.046296  0.046296  0.046296  0.046296  0.046296   \n",
       "1814505  0.040323  0.056452  0.072581  0.040323  0.040323  0.040323  0.040323   \n",
       "\n",
       "         topic_14  topic_15  topic_16  topic_17  topic_18  topic_19     topic  \n",
       "0        0.041667  0.058333  0.041667  0.041667  0.041667  0.041667  topic_13  \n",
       "1        0.083333  0.046296  0.064815  0.046296  0.046296  0.046296  topic_14  \n",
       "2        0.044643  0.044643  0.062500  0.044643  0.044643  0.044643   topic_1  \n",
       "3        0.039062  0.039062  0.039062  0.054688  0.039062  0.039062   topic_8  \n",
       "4        0.046296  0.046296  0.046296  0.046296  0.064815  0.046296   topic_1  \n",
       "...           ...       ...       ...       ...       ...       ...       ...  \n",
       "1814501  0.048077  0.048077  0.048077  0.048077  0.048077  0.048077   topic_8  \n",
       "1814502  0.046296  0.046296  0.046296  0.046296  0.046296  0.046296  topic_11  \n",
       "1814503  0.044643  0.044643  0.044643  0.044643  0.044643  0.044643   topic_2  \n",
       "1814504  0.064815  0.046296  0.046296  0.046296  0.046296  0.064815   topic_4  \n",
       "1814505  0.040323  0.040323  0.040323  0.040323  0.056452  0.056452   topic_3  \n",
       "\n",
       "[1814506 rows x 21 columns]"
      ]
     },
     "execution_count": 56,
     "metadata": {},
     "output_type": "execute_result"
    }
   ],
   "source": [
    "df['topic'] = df.idxmax(axis=1)\n",
    "df"
   ]
  },
  {
   "cell_type": "code",
   "execution_count": 87,
   "metadata": {},
   "outputs": [],
   "source": [
    "df_iter = ldamallet.load_document_topics()\n",
    "df = []\n",
    "for k in df_iter:\n",
    "    df.append([i[1] for i in k])\n",
    "df = pd.DataFrame(df, columns=[fr'topic_{k}' for k in range(20)])\n",
    "df['topic'] = df.idxmax(axis=1)"
   ]
  },
  {
   "cell_type": "code",
   "execution_count": 62,
   "metadata": {},
   "outputs": [],
   "source": [
    "topic2theme = pd.DataFrame({\n",
    "    'topic':[fr'topic_{k}' for k in range(20)], \n",
    "    'theme':[7,3,2,1,2,1,2,5,7,6,6,6,5,7,5,8,1,4,4,6]\n",
    "})\n",
    "\n",
    "df = df.merge(topic2theme, how='left')"
   ]
  },
  {
   "cell_type": "code",
   "execution_count": 65,
   "metadata": {},
   "outputs": [],
   "source": [
    "for col in [fr'subtheme{subtheme[1]}' for subtheme in subthemes]:\n",
    "    df[col] = False"
   ]
  },
  {
   "cell_type": "code",
   "execution_count": 68,
   "metadata": {},
   "outputs": [],
   "source": [
    "for k in range(1,9):\n",
    "    subthemes_desc = [subtheme for subtheme in subthemes if subtheme[0]==k]\n",
    "    if len(subthemes_desc)>0:\n",
    "        indices = list(df[df.theme==k].index)\n",
    "        topic_docs = [b[0][i] for i in indices]\n",
    "        for subtheme_desc in subthemes_desc:\n",
    "            kw = subtheme_desc[2]\n",
    "            t = [ind for k, ind in enumerate(indices) if any(i in topic_docs[k] for i in kw)]\n",
    "            df.loc[t,fr'subtheme{subtheme_desc[1]}'] = True"
   ]
  },
  {
   "cell_type": "code",
   "execution_count": 70,
   "metadata": {},
   "outputs": [
    {
     "data": {
      "text/plain": [
       "array([1331811812828803073, 1237432142214258688, 1234744569268338689, ...,\n",
       "       1310723512223625216, 1266240991133970438, 1325600258848600065],\n",
       "      dtype=int64)"
      ]
     },
     "execution_count": 70,
     "metadata": {},
     "output_type": "execute_result"
    }
   ],
   "source": [
    "tweets.tweetId.values"
   ]
  },
  {
   "cell_type": "code",
   "execution_count": 71,
   "metadata": {},
   "outputs": [],
   "source": [
    "df['tweetId'] = tweets.tweetId.values"
   ]
  },
  {
   "cell_type": "code",
   "execution_count": 73,
   "metadata": {},
   "outputs": [
    {
     "data": {
      "text/plain": [
       "0.2681159420289854"
      ]
     },
     "execution_count": 73,
     "metadata": {},
     "output_type": "execute_result"
    }
   ],
   "source": [
    "df[[fr'topic_{k}' for k in range(20)]].max(axis=1).max()"
   ]
  },
  {
   "cell_type": "code",
   "execution_count": 77,
   "metadata": {},
   "outputs": [],
   "source": [
    "df.to_parquet('news_tweets_topics2.parquet', compression='gzip', index=False)"
   ]
  },
  {
   "cell_type": "code",
   "execution_count": 186,
   "metadata": {},
   "outputs": [
    {
     "data": {
      "text/plain": [
       "1814506"
      ]
     },
     "execution_count": 186,
     "metadata": {},
     "output_type": "execute_result"
    }
   ],
   "source": [
    "df.shape[0]"
   ]
  },
  {
   "cell_type": "code",
   "execution_count": 76,
   "metadata": {},
   "outputs": [
    {
     "data": {
      "text/html": [
       "<div>\n",
       "<style scoped>\n",
       "    .dataframe tbody tr th:only-of-type {\n",
       "        vertical-align: middle;\n",
       "    }\n",
       "\n",
       "    .dataframe tbody tr th {\n",
       "        vertical-align: top;\n",
       "    }\n",
       "\n",
       "    .dataframe thead th {\n",
       "        text-align: right;\n",
       "    }\n",
       "</style>\n",
       "<table border=\"1\" class=\"dataframe\">\n",
       "  <thead>\n",
       "    <tr style=\"text-align: right;\">\n",
       "      <th></th>\n",
       "      <th>topic_0</th>\n",
       "      <th>topic_1</th>\n",
       "      <th>topic_2</th>\n",
       "      <th>topic_3</th>\n",
       "      <th>topic_4</th>\n",
       "      <th>topic_5</th>\n",
       "      <th>topic_6</th>\n",
       "      <th>topic_7</th>\n",
       "      <th>topic_8</th>\n",
       "      <th>topic_9</th>\n",
       "      <th>topic_10</th>\n",
       "      <th>topic_11</th>\n",
       "      <th>topic_12</th>\n",
       "      <th>topic_13</th>\n",
       "      <th>topic_14</th>\n",
       "      <th>topic_15</th>\n",
       "      <th>topic_16</th>\n",
       "      <th>topic_17</th>\n",
       "      <th>topic_18</th>\n",
       "      <th>topic_19</th>\n",
       "      <th>topic</th>\n",
       "      <th>theme</th>\n",
       "      <th>subtheme11</th>\n",
       "      <th>subtheme12</th>\n",
       "      <th>subtheme21</th>\n",
       "      <th>subtheme22</th>\n",
       "      <th>subtheme41</th>\n",
       "      <th>subtheme42</th>\n",
       "      <th>subtheme43</th>\n",
       "      <th>subtheme44</th>\n",
       "      <th>subtheme51</th>\n",
       "      <th>subtheme52</th>\n",
       "      <th>subtheme53</th>\n",
       "      <th>subtheme61</th>\n",
       "      <th>subtheme62</th>\n",
       "      <th>subtheme63</th>\n",
       "      <th>subtheme64</th>\n",
       "      <th>subtheme65</th>\n",
       "      <th>subtheme66</th>\n",
       "      <th>subtheme71</th>\n",
       "      <th>subtheme72</th>\n",
       "      <th>subtheme73</th>\n",
       "      <th>subtheme74</th>\n",
       "      <th>tweetId</th>\n",
       "    </tr>\n",
       "  </thead>\n",
       "  <tbody>\n",
       "    <tr>\n",
       "      <th>0</th>\n",
       "      <td>0.041667</td>\n",
       "      <td>0.041667</td>\n",
       "      <td>0.058333</td>\n",
       "      <td>0.058333</td>\n",
       "      <td>0.058333</td>\n",
       "      <td>0.041667</td>\n",
       "      <td>0.041667</td>\n",
       "      <td>0.058333</td>\n",
       "      <td>0.058333</td>\n",
       "      <td>0.058333</td>\n",
       "      <td>0.041667</td>\n",
       "      <td>0.041667</td>\n",
       "      <td>0.058333</td>\n",
       "      <td>0.075000</td>\n",
       "      <td>0.041667</td>\n",
       "      <td>0.058333</td>\n",
       "      <td>0.041667</td>\n",
       "      <td>0.041667</td>\n",
       "      <td>0.041667</td>\n",
       "      <td>0.041667</td>\n",
       "      <td>topic_13</td>\n",
       "      <td>7</td>\n",
       "      <td>False</td>\n",
       "      <td>False</td>\n",
       "      <td>False</td>\n",
       "      <td>False</td>\n",
       "      <td>False</td>\n",
       "      <td>False</td>\n",
       "      <td>False</td>\n",
       "      <td>False</td>\n",
       "      <td>False</td>\n",
       "      <td>False</td>\n",
       "      <td>False</td>\n",
       "      <td>False</td>\n",
       "      <td>False</td>\n",
       "      <td>False</td>\n",
       "      <td>False</td>\n",
       "      <td>False</td>\n",
       "      <td>False</td>\n",
       "      <td>False</td>\n",
       "      <td>False</td>\n",
       "      <td>False</td>\n",
       "      <td>False</td>\n",
       "      <td>1331811812828803073</td>\n",
       "    </tr>\n",
       "    <tr>\n",
       "      <th>1</th>\n",
       "      <td>0.046296</td>\n",
       "      <td>0.046296</td>\n",
       "      <td>0.046296</td>\n",
       "      <td>0.046296</td>\n",
       "      <td>0.046296</td>\n",
       "      <td>0.046296</td>\n",
       "      <td>0.046296</td>\n",
       "      <td>0.046296</td>\n",
       "      <td>0.046296</td>\n",
       "      <td>0.046296</td>\n",
       "      <td>0.046296</td>\n",
       "      <td>0.064815</td>\n",
       "      <td>0.046296</td>\n",
       "      <td>0.046296</td>\n",
       "      <td>0.083333</td>\n",
       "      <td>0.046296</td>\n",
       "      <td>0.064815</td>\n",
       "      <td>0.046296</td>\n",
       "      <td>0.046296</td>\n",
       "      <td>0.046296</td>\n",
       "      <td>topic_14</td>\n",
       "      <td>5</td>\n",
       "      <td>False</td>\n",
       "      <td>False</td>\n",
       "      <td>False</td>\n",
       "      <td>False</td>\n",
       "      <td>False</td>\n",
       "      <td>False</td>\n",
       "      <td>False</td>\n",
       "      <td>False</td>\n",
       "      <td>False</td>\n",
       "      <td>True</td>\n",
       "      <td>False</td>\n",
       "      <td>False</td>\n",
       "      <td>False</td>\n",
       "      <td>False</td>\n",
       "      <td>False</td>\n",
       "      <td>False</td>\n",
       "      <td>False</td>\n",
       "      <td>False</td>\n",
       "      <td>False</td>\n",
       "      <td>False</td>\n",
       "      <td>False</td>\n",
       "      <td>1237432142214258688</td>\n",
       "    </tr>\n",
       "    <tr>\n",
       "      <th>2</th>\n",
       "      <td>0.044643</td>\n",
       "      <td>0.080357</td>\n",
       "      <td>0.044643</td>\n",
       "      <td>0.044643</td>\n",
       "      <td>0.044643</td>\n",
       "      <td>0.044643</td>\n",
       "      <td>0.044643</td>\n",
       "      <td>0.062500</td>\n",
       "      <td>0.044643</td>\n",
       "      <td>0.044643</td>\n",
       "      <td>0.044643</td>\n",
       "      <td>0.044643</td>\n",
       "      <td>0.080357</td>\n",
       "      <td>0.044643</td>\n",
       "      <td>0.044643</td>\n",
       "      <td>0.044643</td>\n",
       "      <td>0.062500</td>\n",
       "      <td>0.044643</td>\n",
       "      <td>0.044643</td>\n",
       "      <td>0.044643</td>\n",
       "      <td>topic_1</td>\n",
       "      <td>3</td>\n",
       "      <td>False</td>\n",
       "      <td>False</td>\n",
       "      <td>False</td>\n",
       "      <td>False</td>\n",
       "      <td>False</td>\n",
       "      <td>False</td>\n",
       "      <td>False</td>\n",
       "      <td>False</td>\n",
       "      <td>False</td>\n",
       "      <td>False</td>\n",
       "      <td>False</td>\n",
       "      <td>False</td>\n",
       "      <td>False</td>\n",
       "      <td>False</td>\n",
       "      <td>False</td>\n",
       "      <td>False</td>\n",
       "      <td>False</td>\n",
       "      <td>False</td>\n",
       "      <td>False</td>\n",
       "      <td>False</td>\n",
       "      <td>False</td>\n",
       "      <td>1234744569268338689</td>\n",
       "    </tr>\n",
       "    <tr>\n",
       "      <th>3</th>\n",
       "      <td>0.101562</td>\n",
       "      <td>0.070312</td>\n",
       "      <td>0.039062</td>\n",
       "      <td>0.039062</td>\n",
       "      <td>0.039062</td>\n",
       "      <td>0.039062</td>\n",
       "      <td>0.054688</td>\n",
       "      <td>0.039062</td>\n",
       "      <td>0.132812</td>\n",
       "      <td>0.039062</td>\n",
       "      <td>0.039062</td>\n",
       "      <td>0.039062</td>\n",
       "      <td>0.039062</td>\n",
       "      <td>0.039062</td>\n",
       "      <td>0.039062</td>\n",
       "      <td>0.039062</td>\n",
       "      <td>0.039062</td>\n",
       "      <td>0.054688</td>\n",
       "      <td>0.039062</td>\n",
       "      <td>0.039062</td>\n",
       "      <td>topic_8</td>\n",
       "      <td>7</td>\n",
       "      <td>False</td>\n",
       "      <td>False</td>\n",
       "      <td>False</td>\n",
       "      <td>False</td>\n",
       "      <td>False</td>\n",
       "      <td>False</td>\n",
       "      <td>False</td>\n",
       "      <td>False</td>\n",
       "      <td>False</td>\n",
       "      <td>False</td>\n",
       "      <td>False</td>\n",
       "      <td>False</td>\n",
       "      <td>False</td>\n",
       "      <td>False</td>\n",
       "      <td>False</td>\n",
       "      <td>False</td>\n",
       "      <td>False</td>\n",
       "      <td>False</td>\n",
       "      <td>False</td>\n",
       "      <td>False</td>\n",
       "      <td>False</td>\n",
       "      <td>1290590799000793090</td>\n",
       "    </tr>\n",
       "    <tr>\n",
       "      <th>4</th>\n",
       "      <td>0.046296</td>\n",
       "      <td>0.064815</td>\n",
       "      <td>0.046296</td>\n",
       "      <td>0.046296</td>\n",
       "      <td>0.046296</td>\n",
       "      <td>0.046296</td>\n",
       "      <td>0.046296</td>\n",
       "      <td>0.064815</td>\n",
       "      <td>0.046296</td>\n",
       "      <td>0.046296</td>\n",
       "      <td>0.046296</td>\n",
       "      <td>0.064815</td>\n",
       "      <td>0.046296</td>\n",
       "      <td>0.046296</td>\n",
       "      <td>0.046296</td>\n",
       "      <td>0.046296</td>\n",
       "      <td>0.046296</td>\n",
       "      <td>0.046296</td>\n",
       "      <td>0.064815</td>\n",
       "      <td>0.046296</td>\n",
       "      <td>topic_1</td>\n",
       "      <td>3</td>\n",
       "      <td>False</td>\n",
       "      <td>False</td>\n",
       "      <td>False</td>\n",
       "      <td>False</td>\n",
       "      <td>False</td>\n",
       "      <td>False</td>\n",
       "      <td>False</td>\n",
       "      <td>False</td>\n",
       "      <td>False</td>\n",
       "      <td>False</td>\n",
       "      <td>False</td>\n",
       "      <td>False</td>\n",
       "      <td>False</td>\n",
       "      <td>False</td>\n",
       "      <td>False</td>\n",
       "      <td>False</td>\n",
       "      <td>False</td>\n",
       "      <td>False</td>\n",
       "      <td>False</td>\n",
       "      <td>False</td>\n",
       "      <td>False</td>\n",
       "      <td>1381989345708679172</td>\n",
       "    </tr>\n",
       "    <tr>\n",
       "      <th>...</th>\n",
       "      <td>...</td>\n",
       "      <td>...</td>\n",
       "      <td>...</td>\n",
       "      <td>...</td>\n",
       "      <td>...</td>\n",
       "      <td>...</td>\n",
       "      <td>...</td>\n",
       "      <td>...</td>\n",
       "      <td>...</td>\n",
       "      <td>...</td>\n",
       "      <td>...</td>\n",
       "      <td>...</td>\n",
       "      <td>...</td>\n",
       "      <td>...</td>\n",
       "      <td>...</td>\n",
       "      <td>...</td>\n",
       "      <td>...</td>\n",
       "      <td>...</td>\n",
       "      <td>...</td>\n",
       "      <td>...</td>\n",
       "      <td>...</td>\n",
       "      <td>...</td>\n",
       "      <td>...</td>\n",
       "      <td>...</td>\n",
       "      <td>...</td>\n",
       "      <td>...</td>\n",
       "      <td>...</td>\n",
       "      <td>...</td>\n",
       "      <td>...</td>\n",
       "      <td>...</td>\n",
       "      <td>...</td>\n",
       "      <td>...</td>\n",
       "      <td>...</td>\n",
       "      <td>...</td>\n",
       "      <td>...</td>\n",
       "      <td>...</td>\n",
       "      <td>...</td>\n",
       "      <td>...</td>\n",
       "      <td>...</td>\n",
       "      <td>...</td>\n",
       "      <td>...</td>\n",
       "      <td>...</td>\n",
       "      <td>...</td>\n",
       "      <td>...</td>\n",
       "    </tr>\n",
       "    <tr>\n",
       "      <th>1814501</th>\n",
       "      <td>0.048077</td>\n",
       "      <td>0.048077</td>\n",
       "      <td>0.048077</td>\n",
       "      <td>0.048077</td>\n",
       "      <td>0.048077</td>\n",
       "      <td>0.048077</td>\n",
       "      <td>0.048077</td>\n",
       "      <td>0.048077</td>\n",
       "      <td>0.067308</td>\n",
       "      <td>0.048077</td>\n",
       "      <td>0.048077</td>\n",
       "      <td>0.048077</td>\n",
       "      <td>0.048077</td>\n",
       "      <td>0.067308</td>\n",
       "      <td>0.048077</td>\n",
       "      <td>0.048077</td>\n",
       "      <td>0.048077</td>\n",
       "      <td>0.048077</td>\n",
       "      <td>0.048077</td>\n",
       "      <td>0.048077</td>\n",
       "      <td>topic_8</td>\n",
       "      <td>7</td>\n",
       "      <td>False</td>\n",
       "      <td>False</td>\n",
       "      <td>False</td>\n",
       "      <td>False</td>\n",
       "      <td>False</td>\n",
       "      <td>False</td>\n",
       "      <td>False</td>\n",
       "      <td>False</td>\n",
       "      <td>False</td>\n",
       "      <td>False</td>\n",
       "      <td>False</td>\n",
       "      <td>False</td>\n",
       "      <td>False</td>\n",
       "      <td>False</td>\n",
       "      <td>False</td>\n",
       "      <td>False</td>\n",
       "      <td>False</td>\n",
       "      <td>False</td>\n",
       "      <td>False</td>\n",
       "      <td>False</td>\n",
       "      <td>False</td>\n",
       "      <td>1338677309054709761</td>\n",
       "    </tr>\n",
       "    <tr>\n",
       "      <th>1814502</th>\n",
       "      <td>0.046296</td>\n",
       "      <td>0.046296</td>\n",
       "      <td>0.046296</td>\n",
       "      <td>0.046296</td>\n",
       "      <td>0.046296</td>\n",
       "      <td>0.046296</td>\n",
       "      <td>0.046296</td>\n",
       "      <td>0.046296</td>\n",
       "      <td>0.046296</td>\n",
       "      <td>0.046296</td>\n",
       "      <td>0.046296</td>\n",
       "      <td>0.120370</td>\n",
       "      <td>0.046296</td>\n",
       "      <td>0.046296</td>\n",
       "      <td>0.046296</td>\n",
       "      <td>0.046296</td>\n",
       "      <td>0.046296</td>\n",
       "      <td>0.046296</td>\n",
       "      <td>0.046296</td>\n",
       "      <td>0.046296</td>\n",
       "      <td>topic_11</td>\n",
       "      <td>6</td>\n",
       "      <td>False</td>\n",
       "      <td>False</td>\n",
       "      <td>False</td>\n",
       "      <td>False</td>\n",
       "      <td>False</td>\n",
       "      <td>False</td>\n",
       "      <td>False</td>\n",
       "      <td>False</td>\n",
       "      <td>False</td>\n",
       "      <td>False</td>\n",
       "      <td>False</td>\n",
       "      <td>True</td>\n",
       "      <td>False</td>\n",
       "      <td>False</td>\n",
       "      <td>False</td>\n",
       "      <td>False</td>\n",
       "      <td>False</td>\n",
       "      <td>False</td>\n",
       "      <td>False</td>\n",
       "      <td>False</td>\n",
       "      <td>False</td>\n",
       "      <td>1346192468350541829</td>\n",
       "    </tr>\n",
       "    <tr>\n",
       "      <th>1814503</th>\n",
       "      <td>0.044643</td>\n",
       "      <td>0.044643</td>\n",
       "      <td>0.080357</td>\n",
       "      <td>0.044643</td>\n",
       "      <td>0.062500</td>\n",
       "      <td>0.044643</td>\n",
       "      <td>0.062500</td>\n",
       "      <td>0.062500</td>\n",
       "      <td>0.044643</td>\n",
       "      <td>0.062500</td>\n",
       "      <td>0.044643</td>\n",
       "      <td>0.044643</td>\n",
       "      <td>0.044643</td>\n",
       "      <td>0.044643</td>\n",
       "      <td>0.044643</td>\n",
       "      <td>0.044643</td>\n",
       "      <td>0.044643</td>\n",
       "      <td>0.044643</td>\n",
       "      <td>0.044643</td>\n",
       "      <td>0.044643</td>\n",
       "      <td>topic_2</td>\n",
       "      <td>2</td>\n",
       "      <td>False</td>\n",
       "      <td>False</td>\n",
       "      <td>False</td>\n",
       "      <td>True</td>\n",
       "      <td>False</td>\n",
       "      <td>False</td>\n",
       "      <td>False</td>\n",
       "      <td>False</td>\n",
       "      <td>False</td>\n",
       "      <td>False</td>\n",
       "      <td>False</td>\n",
       "      <td>False</td>\n",
       "      <td>False</td>\n",
       "      <td>False</td>\n",
       "      <td>False</td>\n",
       "      <td>False</td>\n",
       "      <td>False</td>\n",
       "      <td>False</td>\n",
       "      <td>False</td>\n",
       "      <td>False</td>\n",
       "      <td>False</td>\n",
       "      <td>1310723512223625216</td>\n",
       "    </tr>\n",
       "    <tr>\n",
       "      <th>1814504</th>\n",
       "      <td>0.046296</td>\n",
       "      <td>0.046296</td>\n",
       "      <td>0.046296</td>\n",
       "      <td>0.046296</td>\n",
       "      <td>0.083333</td>\n",
       "      <td>0.046296</td>\n",
       "      <td>0.046296</td>\n",
       "      <td>0.046296</td>\n",
       "      <td>0.046296</td>\n",
       "      <td>0.046296</td>\n",
       "      <td>0.046296</td>\n",
       "      <td>0.046296</td>\n",
       "      <td>0.046296</td>\n",
       "      <td>0.046296</td>\n",
       "      <td>0.064815</td>\n",
       "      <td>0.046296</td>\n",
       "      <td>0.046296</td>\n",
       "      <td>0.046296</td>\n",
       "      <td>0.046296</td>\n",
       "      <td>0.064815</td>\n",
       "      <td>topic_4</td>\n",
       "      <td>2</td>\n",
       "      <td>False</td>\n",
       "      <td>False</td>\n",
       "      <td>False</td>\n",
       "      <td>False</td>\n",
       "      <td>False</td>\n",
       "      <td>False</td>\n",
       "      <td>False</td>\n",
       "      <td>False</td>\n",
       "      <td>False</td>\n",
       "      <td>False</td>\n",
       "      <td>False</td>\n",
       "      <td>False</td>\n",
       "      <td>False</td>\n",
       "      <td>False</td>\n",
       "      <td>False</td>\n",
       "      <td>False</td>\n",
       "      <td>False</td>\n",
       "      <td>False</td>\n",
       "      <td>False</td>\n",
       "      <td>False</td>\n",
       "      <td>False</td>\n",
       "      <td>1266240991133970438</td>\n",
       "    </tr>\n",
       "    <tr>\n",
       "      <th>1814505</th>\n",
       "      <td>0.040323</td>\n",
       "      <td>0.040323</td>\n",
       "      <td>0.040323</td>\n",
       "      <td>0.137097</td>\n",
       "      <td>0.040323</td>\n",
       "      <td>0.056452</td>\n",
       "      <td>0.040323</td>\n",
       "      <td>0.040323</td>\n",
       "      <td>0.056452</td>\n",
       "      <td>0.072581</td>\n",
       "      <td>0.040323</td>\n",
       "      <td>0.040323</td>\n",
       "      <td>0.040323</td>\n",
       "      <td>0.040323</td>\n",
       "      <td>0.040323</td>\n",
       "      <td>0.040323</td>\n",
       "      <td>0.040323</td>\n",
       "      <td>0.040323</td>\n",
       "      <td>0.056452</td>\n",
       "      <td>0.056452</td>\n",
       "      <td>topic_3</td>\n",
       "      <td>1</td>\n",
       "      <td>True</td>\n",
       "      <td>False</td>\n",
       "      <td>False</td>\n",
       "      <td>False</td>\n",
       "      <td>False</td>\n",
       "      <td>False</td>\n",
       "      <td>False</td>\n",
       "      <td>False</td>\n",
       "      <td>False</td>\n",
       "      <td>False</td>\n",
       "      <td>False</td>\n",
       "      <td>False</td>\n",
       "      <td>False</td>\n",
       "      <td>False</td>\n",
       "      <td>False</td>\n",
       "      <td>False</td>\n",
       "      <td>False</td>\n",
       "      <td>False</td>\n",
       "      <td>False</td>\n",
       "      <td>False</td>\n",
       "      <td>False</td>\n",
       "      <td>1325600258848600065</td>\n",
       "    </tr>\n",
       "  </tbody>\n",
       "</table>\n",
       "<p>1814506 rows × 44 columns</p>\n",
       "</div>"
      ],
      "text/plain": [
       "          topic_0   topic_1   topic_2   topic_3   topic_4   topic_5   topic_6  \\\n",
       "0        0.041667  0.041667  0.058333  0.058333  0.058333  0.041667  0.041667   \n",
       "1        0.046296  0.046296  0.046296  0.046296  0.046296  0.046296  0.046296   \n",
       "2        0.044643  0.080357  0.044643  0.044643  0.044643  0.044643  0.044643   \n",
       "3        0.101562  0.070312  0.039062  0.039062  0.039062  0.039062  0.054688   \n",
       "4        0.046296  0.064815  0.046296  0.046296  0.046296  0.046296  0.046296   \n",
       "...           ...       ...       ...       ...       ...       ...       ...   \n",
       "1814501  0.048077  0.048077  0.048077  0.048077  0.048077  0.048077  0.048077   \n",
       "1814502  0.046296  0.046296  0.046296  0.046296  0.046296  0.046296  0.046296   \n",
       "1814503  0.044643  0.044643  0.080357  0.044643  0.062500  0.044643  0.062500   \n",
       "1814504  0.046296  0.046296  0.046296  0.046296  0.083333  0.046296  0.046296   \n",
       "1814505  0.040323  0.040323  0.040323  0.137097  0.040323  0.056452  0.040323   \n",
       "\n",
       "          topic_7   topic_8   topic_9  topic_10  topic_11  topic_12  topic_13  \\\n",
       "0        0.058333  0.058333  0.058333  0.041667  0.041667  0.058333  0.075000   \n",
       "1        0.046296  0.046296  0.046296  0.046296  0.064815  0.046296  0.046296   \n",
       "2        0.062500  0.044643  0.044643  0.044643  0.044643  0.080357  0.044643   \n",
       "3        0.039062  0.132812  0.039062  0.039062  0.039062  0.039062  0.039062   \n",
       "4        0.064815  0.046296  0.046296  0.046296  0.064815  0.046296  0.046296   \n",
       "...           ...       ...       ...       ...       ...       ...       ...   \n",
       "1814501  0.048077  0.067308  0.048077  0.048077  0.048077  0.048077  0.067308   \n",
       "1814502  0.046296  0.046296  0.046296  0.046296  0.120370  0.046296  0.046296   \n",
       "1814503  0.062500  0.044643  0.062500  0.044643  0.044643  0.044643  0.044643   \n",
       "1814504  0.046296  0.046296  0.046296  0.046296  0.046296  0.046296  0.046296   \n",
       "1814505  0.040323  0.056452  0.072581  0.040323  0.040323  0.040323  0.040323   \n",
       "\n",
       "         topic_14  topic_15  topic_16  topic_17  topic_18  topic_19     topic  \\\n",
       "0        0.041667  0.058333  0.041667  0.041667  0.041667  0.041667  topic_13   \n",
       "1        0.083333  0.046296  0.064815  0.046296  0.046296  0.046296  topic_14   \n",
       "2        0.044643  0.044643  0.062500  0.044643  0.044643  0.044643   topic_1   \n",
       "3        0.039062  0.039062  0.039062  0.054688  0.039062  0.039062   topic_8   \n",
       "4        0.046296  0.046296  0.046296  0.046296  0.064815  0.046296   topic_1   \n",
       "...           ...       ...       ...       ...       ...       ...       ...   \n",
       "1814501  0.048077  0.048077  0.048077  0.048077  0.048077  0.048077   topic_8   \n",
       "1814502  0.046296  0.046296  0.046296  0.046296  0.046296  0.046296  topic_11   \n",
       "1814503  0.044643  0.044643  0.044643  0.044643  0.044643  0.044643   topic_2   \n",
       "1814504  0.064815  0.046296  0.046296  0.046296  0.046296  0.064815   topic_4   \n",
       "1814505  0.040323  0.040323  0.040323  0.040323  0.056452  0.056452   topic_3   \n",
       "\n",
       "         theme  subtheme11  subtheme12  subtheme21  subtheme22  subtheme41  \\\n",
       "0            7       False       False       False       False       False   \n",
       "1            5       False       False       False       False       False   \n",
       "2            3       False       False       False       False       False   \n",
       "3            7       False       False       False       False       False   \n",
       "4            3       False       False       False       False       False   \n",
       "...        ...         ...         ...         ...         ...         ...   \n",
       "1814501      7       False       False       False       False       False   \n",
       "1814502      6       False       False       False       False       False   \n",
       "1814503      2       False       False       False        True       False   \n",
       "1814504      2       False       False       False       False       False   \n",
       "1814505      1        True       False       False       False       False   \n",
       "\n",
       "         subtheme42  subtheme43  subtheme44  subtheme51  subtheme52  \\\n",
       "0             False       False       False       False       False   \n",
       "1             False       False       False       False        True   \n",
       "2             False       False       False       False       False   \n",
       "3             False       False       False       False       False   \n",
       "4             False       False       False       False       False   \n",
       "...             ...         ...         ...         ...         ...   \n",
       "1814501       False       False       False       False       False   \n",
       "1814502       False       False       False       False       False   \n",
       "1814503       False       False       False       False       False   \n",
       "1814504       False       False       False       False       False   \n",
       "1814505       False       False       False       False       False   \n",
       "\n",
       "         subtheme53  subtheme61  subtheme62  subtheme63  subtheme64  \\\n",
       "0             False       False       False       False       False   \n",
       "1             False       False       False       False       False   \n",
       "2             False       False       False       False       False   \n",
       "3             False       False       False       False       False   \n",
       "4             False       False       False       False       False   \n",
       "...             ...         ...         ...         ...         ...   \n",
       "1814501       False       False       False       False       False   \n",
       "1814502       False        True       False       False       False   \n",
       "1814503       False       False       False       False       False   \n",
       "1814504       False       False       False       False       False   \n",
       "1814505       False       False       False       False       False   \n",
       "\n",
       "         subtheme65  subtheme66  subtheme71  subtheme72  subtheme73  \\\n",
       "0             False       False       False       False       False   \n",
       "1             False       False       False       False       False   \n",
       "2             False       False       False       False       False   \n",
       "3             False       False       False       False       False   \n",
       "4             False       False       False       False       False   \n",
       "...             ...         ...         ...         ...         ...   \n",
       "1814501       False       False       False       False       False   \n",
       "1814502       False       False       False       False       False   \n",
       "1814503       False       False       False       False       False   \n",
       "1814504       False       False       False       False       False   \n",
       "1814505       False       False       False       False       False   \n",
       "\n",
       "         subtheme74              tweetId  \n",
       "0             False  1331811812828803073  \n",
       "1             False  1237432142214258688  \n",
       "2             False  1234744569268338689  \n",
       "3             False  1290590799000793090  \n",
       "4             False  1381989345708679172  \n",
       "...             ...                  ...  \n",
       "1814501       False  1338677309054709761  \n",
       "1814502       False  1346192468350541829  \n",
       "1814503       False  1310723512223625216  \n",
       "1814504       False  1266240991133970438  \n",
       "1814505       False  1325600258848600065  \n",
       "\n",
       "[1814506 rows x 44 columns]"
      ]
     },
     "execution_count": 76,
     "metadata": {},
     "output_type": "execute_result"
    }
   ],
   "source": [
    "df"
   ]
  },
  {
   "cell_type": "code",
   "execution_count": 185,
   "metadata": {},
   "outputs": [
    {
     "data": {
      "text/plain": [
       "subtheme11    24882\n",
       "subtheme12     4687\n",
       "subtheme21    44784\n",
       "subtheme22    41271\n",
       "subtheme41      356\n",
       "subtheme42      178\n",
       "subtheme43      466\n",
       "subtheme44     2045\n",
       "subtheme51     5507\n",
       "subtheme52    21703\n",
       "subtheme53     1287\n",
       "subtheme61    42059\n",
       "subtheme62    10884\n",
       "subtheme63     3971\n",
       "subtheme64     3849\n",
       "subtheme65     1651\n",
       "subtheme66     2890\n",
       "subtheme71    20791\n",
       "subtheme72    20940\n",
       "subtheme73     6134\n",
       "subtheme74     6820\n",
       "dtype: int64"
      ]
     },
     "execution_count": 185,
     "metadata": {},
     "output_type": "execute_result"
    }
   ],
   "source": [
    "df[[fr'subtheme{subtheme[1]}' for subtheme in subthemes]].sum(axis=0)"
   ]
  },
  {
   "cell_type": "code",
   "execution_count": 181,
   "metadata": {},
   "outputs": [
    {
     "data": {
      "text/plain": [
       "topic_0     175491\n",
       "topic_1     160666\n",
       "topic_2     140509\n",
       "topic_3     135791\n",
       "topic_5     119667\n",
       "topic_4     115319\n",
       "topic_15     95432\n",
       "topic_6      94345\n",
       "topic_8      90977\n",
       "topic_10     84361\n",
       "topic_7      79566\n",
       "topic_11     75052\n",
       "topic_9      70405\n",
       "topic_12     63129\n",
       "topic_13     61638\n",
       "topic_14     60010\n",
       "topic_17     56182\n",
       "topic_16     48950\n",
       "topic_18     46101\n",
       "topic_19     40915\n",
       "Name: topic, dtype: int64"
      ]
     },
     "execution_count": 181,
     "metadata": {},
     "output_type": "execute_result"
    }
   ],
   "source": [
    "df.topic.value_counts()"
   ]
  },
  {
   "cell_type": "code",
   "execution_count": 165,
   "metadata": {},
   "outputs": [
    {
     "data": {
      "text/plain": [
       "array(['Some of Melbourne’s biggest hospitals are bracing themselves for a huge surge of COVID-19 cases in coming days. \\n\\nThis is how the second wave crisis has unfolded in hospitals. https://t.co/aeSah0MkPV',\n",
       "       'What we know about COVID vaccine effectiveness against the new variants https://t.co/Su7gSgMVQw',\n",
       "       'Second waves of the pandemic have occurred around the world, sparking fears that Australia could be next. But experts say it’s avoidable.\\n\\nhttps://t.co/xz27TIOakS',\n",
       "       \"Japan detects new mutant 'vaccine-busting' Covid variant from traveller coming from Philippines https://t.co/1X8tTlXpQ5\",\n",
       "       'A leading medical professor claims lifting restrictions on air travel could cause a second wave of Covid-19 cases.\\n\\nhttps://t.co/dHTERBP8zf',\n",
       "       'Wuhan to test all 11 million residents after the #COVID19 epicentre in China witnesses a second wave of coronavirus infection. @SinghBhairavi has more https://t.co/idQMokjJUL',\n",
       "       'Health officials are calling on British Columbians to treat each other with compassion while also encouraging those around them to follow public health orders and help get the second wave of COVID-19 under control.\\nhttps://t.co/iiANc7HcCR',\n",
       "       '#InPics | As Covid cases rise, here’s are some of the variants of novel coronavirus widely reported till now. #coronavirus #CoronavirusIndia\\n\\nhttps://t.co/UKE72wRqZF',\n",
       "       'Pak may witness third wave of Covid-19 amid dull vaccination drive: Experts https://t.co/KRi5gptl58',\n",
       "       'BREAKING: Due to the shortage of vaccines and the unknown nature of the variants, the province is still grappling with what additional measures would be effective in reducing deaths linked to COVID-19. https://t.co/u7nyY15a8Q',\n",
       "       'UPDATED: “The old COVID-19 virus is being bulldozed by the B.1.1.7 variant, with the other two primary variants present in Toronto as well,” de Villa said.\\nhttps://t.co/uhBzLPP5ZQ',\n",
       "       'With coronavirus cases surging and families hoping to gather safely for Thanksgiving, long lines to get tested have reappeared across the U.S. — a reminder that the nation’s strained testing system remains unable to keep pace with the virus. https://t.co/XYzxUAH9qo https://t.co/QvUxXaUotv',\n",
       "       'Canada has become the latest country to halt flights from the UK following the discovery of a new variant of Covid-19 https://t.co/m9B6PpYdXx',\n",
       "       \"UK could be hit by an 'exit wave' of coronavirus but not a surge in deaths, SAGE expert says\\nhttps://t.co/qL9IY2aULz https://t.co/nycZPV4FME\",\n",
       "       'Biden says he will take action next week to extend nationwide restrictions on foreclosures and evictions: \"If we don\\'t act now, there will be a wave of evictions and foreclosures in the coming months as the pandemic rages on\" https://t.co/YiYVNMBhOS https://t.co/N5vMKnLHCZ',\n",
       "       \"@piaranada 'I think we've seen the worst,' says Roque when asked if Palace confident that 2021 won't be a repetition of pandemic-besieged 2020, despite threat of new COVID-19 virus variant. | via @piaranada\\n\\nLIVE: https://t.co/w6xTuJlllY\",\n",
       "       \"Stage 2 a 'trial run' for Albertans fearing a second wave of COVID-19 https://t.co/iXOvpieY60 #yyc #COVID19AB\",\n",
       "       \"Colorado health officials have announced the US' first known case of the Covid-19 variant originally discovered in the UK https://t.co/OvFCsgwARZ\",\n",
       "       'Nevada district sees first case of UK Covid-19 variant https://t.co/FnWXgd3f72',\n",
       "       'Guardian front page, Wednesday 3 June 2020 - Starmer warns PM: get a grip or risk second wave of coronavirus https://t.co/V4gggp40qN',\n",
       "       'Concern about the coronavirus variant is growing as several cases have now been detected in Canada. @Mirandanthistle speaks with Infectious Diseases physician @BogochIsaac for a breakdown of the state of the pandemic. https://t.co/HteFaWiCVh',\n",
       "       'Brazilian coronavirus variant likely to be in Britain already, top scientist warns https://t.co/KuEu3R3OXe',\n",
       "       'The Covid-19 health crisis determined every step for the retail industry throughout 2020, courtesy of the havoc it wreaked on retail operations. Stores were forced to close, employees were laid off, rent was defaulted, supply chains were strained... \\n\\nhttps://t.co/FSQUUeCKsI',\n",
       "       'UK COVID-19 variant has significantly higher death rate, study finds https://t.co/yZz2SOmNuW https://t.co/Uj32pMlbmS',\n",
       "       'UK economy crumbles under COVID-19 strain https://t.co/xl8s1OWliK'],\n",
       "      dtype=object)"
      ]
     },
     "execution_count": 165,
     "metadata": {},
     "output_type": "execute_result"
    }
   ],
   "source": [
    "tweets[tweets.tweetId.isin(df[df.subtheme73].tweetId.values)].sample(25).content.values"
   ]
  },
  {
   "cell_type": "code",
   "execution_count": null,
   "metadata": {},
   "outputs": [],
   "source": []
  },
  {
   "cell_type": "code",
   "execution_count": null,
   "metadata": {},
   "outputs": [],
   "source": []
  },
  {
   "cell_type": "code",
   "execution_count": null,
   "metadata": {},
   "outputs": [],
   "source": []
  },
  {
   "cell_type": "code",
   "execution_count": null,
   "metadata": {},
   "outputs": [],
   "source": []
  },
  {
   "cell_type": "code",
   "execution_count": null,
   "metadata": {},
   "outputs": [],
   "source": []
  },
  {
   "cell_type": "code",
   "execution_count": null,
   "metadata": {},
   "outputs": [],
   "source": []
  },
  {
   "cell_type": "code",
   "execution_count": null,
   "metadata": {
    "tags": []
   },
   "outputs": [],
   "source": [
    "# Train model\n",
    "ldamallet = gensim.models.wrappers.LdaMallet(mallet_path, corpus=corpus, num_topics=20, id2word=id2word, random_seed=50)\n",
    "model = gensim.models.wrappers.ldamallet.malletmodel2ldamodel(ldamallet)\n",
    "temp_file = datapath(\"model\")\n",
    "ldamallet.save(temp_file)\n",
    "\n",
    "# Visualize the topics\n",
    "pyLDAvis.enable_notebook()\n",
    "vis = pyLDAvis.gensim_models.prepare(model, corpus, dictionary)\n",
    "vis"
   ]
  },
  {
   "cell_type": "code",
   "execution_count": null,
   "metadata": {},
   "outputs": [],
   "source": [
    "# Compute Coherence Score\n",
    "coherence_model_ldamallet = CoherenceModel(model=ldamallet, texts=docs, dictionary=dictionary, coherence='c_v')\n",
    "coherence_ldamallet = coherence_model_ldamallet.get_coherence()\n",
    "print('\\nCoherence Score: ', coherence_ldamallet)"
   ]
  },
  {
   "cell_type": "code",
   "execution_count": null,
   "metadata": {
    "tags": []
   },
   "outputs": [],
   "source": [
    "# Train model\n",
    "ldamallet = gensim.models.wrappers.LdaMallet(mallet_path, corpus=corpus, num_topics=20, id2word=id2word)\n",
    "model = gensim.models.wrappers.ldamallet.malletmodel2ldamodel(ldamallet)\n",
    "\n",
    "# Visualize the topics\n",
    "pyLDAvis.enable_notebook()\n",
    "vis = pyLDAvis.gensim_models.prepare(model, corpus, dictionary)\n",
    "vis"
   ]
  },
  {
   "cell_type": "code",
   "execution_count": null,
   "metadata": {
    "tags": []
   },
   "outputs": [],
   "source": [
    "pprint(model.print_topics())\n",
    "doc_lda = model[corpus]"
   ]
  },
  {
   "cell_type": "code",
   "execution_count": null,
   "metadata": {
    "tags": []
   },
   "outputs": [],
   "source": [
    "# Compute Coherence Score\n",
    "coherence_model_ldamallet = CoherenceModel(model=ldamallet, texts=docs, dictionary=dictionary, coherence='c_v')\n",
    "coherence_ldamallet = coherence_model_ldamallet.get_coherence()\n",
    "print('\\nCoherence Score: ', coherence_ldamallet)"
   ]
  },
  {
   "cell_type": "code",
   "execution_count": null,
   "metadata": {},
   "outputs": [],
   "source": [
    "1"
   ]
  },
  {
   "cell_type": "code",
   "execution_count": null,
   "metadata": {},
   "outputs": [],
   "source": [
    "ldamallet[corpus[10]]"
   ]
  },
  {
   "cell_type": "code",
   "execution_count": null,
   "metadata": {
    "tags": []
   },
   "outputs": [],
   "source": [
    "# Compute tweets topics\n",
    "def format_topics_sentences(ldamodel, corpus, texts):\n",
    "    # Init output\n",
    "    sent_topics_df = pd.DataFrame()\n",
    "\n",
    "    # Get main topic in each document\n",
    "    for i, row in enumerate(ldamodel[corpus]):\n",
    "        row = sorted(row, key=lambda x: (x[1]), reverse=True)\n",
    "        # Get the Dominant topic, Perc Contribution and Keywords for each document\n",
    "        for j, (topic_num, prop_topic) in enumerate(row):\n",
    "            if j == 0:  # => dominant topic\n",
    "                wp = ldamodel.show_topic(topic_num)\n",
    "                topic_keywords = \", \".join([word for word, prop in wp])\n",
    "                sent_topics_df = sent_topics_df.append(pd.Series([int(topic_num), round(prop_topic,4), topic_keywords]), ignore_index=True)\n",
    "            else:\n",
    "                break\n",
    "    sent_topics_df.columns = ['Dominant_Topic', 'Perc_Contribution', 'Topic_Keywords']\n",
    "\n",
    "    # Add original text to the end of the output\n",
    "    contents = pd.Series(texts)\n",
    "    sent_topics_df = pd.concat([sent_topics_df, contents], axis=1)\n",
    "    return(sent_topics_df)\n",
    "\n",
    "\n",
    "df_topic_sents_keywords = format_topics_sentences(ldamodel=ldamallet, corpus=corpus, texts=list(tweets.content))\n",
    "\n",
    "# Format\n",
    "df = df_topic_sents_keywords.reset_index()\n",
    "df.columns = ['Document_No', 'Dominant_Topic', 'Topic_Perc_Contrib', 'Keywords', 'Text']\n",
    "df.to_csv('tweets_topics2.csv')\n",
    "\n",
    "# Show\n",
    "df.head(5)"
   ]
  },
  {
   "cell_type": "code",
   "execution_count": null,
   "metadata": {},
   "outputs": [],
   "source": [
    "df = pd.read_csv('tweets_topics2.csv')"
   ]
  },
  {
   "cell_type": "code",
   "execution_count": null,
   "metadata": {},
   "outputs": [],
   "source": [
    "df[df.Topic_Perc_Contrib==0.05]"
   ]
  },
  {
   "cell_type": "code",
   "execution_count": null,
   "metadata": {
    "tags": []
   },
   "outputs": [],
   "source": [
    "indices = list(df_dominant_topic[df_dominant_topic.Dominant_Topic==2.0].Document_No)\n",
    "topic_docs = [docs[i] for i in indices]\n",
    "\n",
    "kw = ['low', 'fall', 'drop', 'decline']\n",
    "t = [ind for k, ind in enumerate(indices) if any(i in topic_docs[k] for i in kw)]\n",
    "len(t)"
   ]
  },
  {
   "cell_type": "code",
   "execution_count": null,
   "metadata": {},
   "outputs": [],
   "source": [
    "(df.Dominant_Topic.value_counts() / df.shape[0]).sort_index()"
   ]
  },
  {
   "cell_type": "code",
   "execution_count": null,
   "metadata": {},
   "outputs": [],
   "source": [
    "# Group top 5 sentences under each topic\n",
    "sent_topics_sorteddf_mallet = pd.DataFrame()\n",
    "\n",
    "sent_topics_outdf_grpd = df_topic_sents_keywords.groupby('Dominant_Topic')\n",
    "\n",
    "for i, grp in sent_topics_outdf_grpd:\n",
    "    sent_topics_sorteddf_mallet = pd.concat([sent_topics_sorteddf_mallet, \n",
    "                                             grp.sort_values(['Perc_Contribution'], ascending=[0]).head(10)], \n",
    "                                            axis=0)\n",
    "\n",
    "# Reset Index    \n",
    "sent_topics_sorteddf_mallet.reset_index(drop=True, inplace=True)\n",
    "\n",
    "# Format\n",
    "sent_topics_sorteddf_mallet.columns = ['Topic_Num', \"Topic_Perc_Contrib\", \"Keywords\", \"Text\"]\n",
    "sent_topics_sorteddf_mallet.to_csv('relevant_topics2.csv', sep=\"|\")"
   ]
  },
  {
   "cell_type": "code",
   "execution_count": null,
   "metadata": {},
   "outputs": [],
   "source": [
    "sent_topics_sorteddf_mallet[sent_topics_sorteddf_mallet.Topic_Num==19.0].Text.values"
   ]
  },
  {
   "cell_type": "code",
   "execution_count": null,
   "metadata": {},
   "outputs": [],
   "source": [
    "topic_desc = pd.read_csv('topic_desc.csv', sep=';')"
   ]
  },
  {
   "cell_type": "code",
   "execution_count": null,
   "metadata": {
    "tags": []
   },
   "outputs": [],
   "source": [
    "# required: tweets, df, docs\n",
    "tweets['theme'] = np.nan\n",
    "for topic in topic_desc.topic.unique():\n",
    "    topic_themes = topic_desc[topic_desc.topic==topic]\n",
    "    non_default = []\n",
    "    for index, row in topic_themes[topic_themes.default=='F'].iterrows():\n",
    "        kw = row.keywords.replace(' ', '').split(',')\n",
    "        t = [k for k in df[df.Dominant_Topic==topic].Document_No.values if any(i in kw for i in docs[k])]\n",
    "        tweets.loc[t, 'theme'] = row.theme_id\n",
    "        non_default = non_default + t\n",
    "    topic_tweets = [k for k in df[df.Dominant_Topic==topic].Document_No.values]\n",
    "    topic_tweets = np.setdiff1d(topic_tweets,non_default)\n",
    "    tweets.loc[topic_tweets, 'theme'] = topic_themes[topic_themes.default=='T'].theme_id.unique()[0]"
   ]
  },
  {
   "cell_type": "code",
   "execution_count": null,
   "metadata": {},
   "outputs": [],
   "source": [
    "topic_themes.themes.unique()[0]"
   ]
  },
  {
   "cell_type": "code",
   "execution_count": null,
   "metadata": {},
   "outputs": [],
   "source": [
    "topic = 11\n",
    "topic_themes = topic_desc[topic_desc.topic==topic]\n",
    "non_default = []"
   ]
  },
  {
   "cell_type": "code",
   "execution_count": null,
   "metadata": {},
   "outputs": [],
   "source": [
    "topic_themes"
   ]
  },
  {
   "cell_type": "code",
   "execution_count": null,
   "metadata": {},
   "outputs": [],
   "source": [
    "topic_desc"
   ]
  },
  {
   "cell_type": "code",
   "execution_count": null,
   "metadata": {},
   "outputs": [],
   "source": [
    "topic = 10\n",
    "topic_desc[topic_desc.topic==topic]"
   ]
  },
  {
   "cell_type": "code",
   "execution_count": null,
   "metadata": {},
   "outputs": [],
   "source": [
    "topic = 1\n",
    "topic_themes = topic_desc[topic_desc.topic==topic]\n",
    "non_default = []\n",
    "for index, row in topic_themes[topic_themes.default=='F'].iterrows():\n",
    "    kw = row.keywords.replace(' ', '').split(',')\n",
    "    t = [k for k in df[df.Dominant_Topic==topic].Document_No.values if any(i in kw for i in docs[k])]\n",
    "    print(row.themes, len(t))"
   ]
  },
  {
   "cell_type": "code",
   "execution_count": null,
   "metadata": {},
   "outputs": [],
   "source": []
  },
  {
   "cell_type": "code",
   "execution_count": null,
   "metadata": {},
   "outputs": [],
   "source": [
    "topic = 1\n",
    "for topic in topic_desc.topic.unique():\n",
    "    topic_themes = topic_desc[topic_desc.topic==topic]\n",
    "    non_default = []\n",
    "    for index, row in topic_themes[topic_themes.default=='F'].iterrows():\n",
    "        kw = row.keywords.replace(' ', '').split(',')\n",
    "        t = [k for k in df[df.Dominant_Topic==topic].Document_No.values if any(i in kw for i in docs[k])]\n",
    "        print(row.themes, len(t))"
   ]
  },
  {
   "cell_type": "code",
   "execution_count": null,
   "metadata": {},
   "outputs": [],
   "source": [
    "tweets[tweets.theme=='Elections'].content[:10].values"
   ]
  },
  {
   "cell_type": "code",
   "execution_count": null,
   "metadata": {},
   "outputs": [],
   "source": [
    "tweets[['tweetId', 'theme']].to_parquet('news_tweets_topics.parquet', compression='gzip', index=False)"
   ]
  },
  {
   "cell_type": "code",
   "execution_count": null,
   "metadata": {},
   "outputs": [],
   "source": [
    "tweets.theme.value_counts() / tweets.shape[0]"
   ]
  },
  {
   "cell_type": "code",
   "execution_count": null,
   "metadata": {},
   "outputs": [],
   "source": []
  },
  {
   "cell_type": "code",
   "execution_count": null,
   "metadata": {},
   "outputs": [],
   "source": []
  },
  {
   "cell_type": "code",
   "execution_count": null,
   "metadata": {},
   "outputs": [],
   "source": [
    "topic_desc.topic.unique()"
   ]
  },
  {
   "cell_type": "code",
   "execution_count": null,
   "metadata": {},
   "outputs": [],
   "source": [
    "tweets.theme.isnull().sum()"
   ]
  },
  {
   "cell_type": "code",
   "execution_count": null,
   "metadata": {},
   "outputs": [],
   "source": [
    "topic_desc.keywords[20]"
   ]
  },
  {
   "cell_type": "code",
   "execution_count": null,
   "metadata": {},
   "outputs": [],
   "source": [
    "docs[92]"
   ]
  },
  {
   "cell_type": "code",
   "execution_count": null,
   "metadata": {},
   "outputs": [],
   "source": [
    "tweets[tweets.theme=='People violating mobility restrictions or protesting against them'].sample(frac=1).head(10).content.values"
   ]
  },
  {
   "cell_type": "code",
   "execution_count": null,
   "metadata": {},
   "outputs": [],
   "source": [
    "(tweets.theme.nunique())"
   ]
  },
  {
   "cell_type": "code",
   "execution_count": null,
   "metadata": {},
   "outputs": [],
   "source": [
    "df[df.Dominant_Topic==3.0]"
   ]
  },
  {
   "cell_type": "code",
   "execution_count": null,
   "metadata": {},
   "outputs": [],
   "source": []
  },
  {
   "cell_type": "code",
   "execution_count": null,
   "metadata": {},
   "outputs": [],
   "source": []
  },
  {
   "cell_type": "code",
   "execution_count": null,
   "metadata": {},
   "outputs": [],
   "source": []
  },
  {
   "cell_type": "code",
   "execution_count": null,
   "metadata": {},
   "outputs": [],
   "source": []
  },
  {
   "cell_type": "code",
   "execution_count": null,
   "metadata": {},
   "outputs": [],
   "source": []
  },
  {
   "cell_type": "code",
   "execution_count": null,
   "metadata": {},
   "outputs": [],
   "source": []
  },
  {
   "cell_type": "code",
   "execution_count": null,
   "metadata": {},
   "outputs": [],
   "source": []
  },
  {
   "cell_type": "code",
   "execution_count": null,
   "metadata": {},
   "outputs": [],
   "source": []
  },
  {
   "cell_type": "code",
   "execution_count": null,
   "metadata": {},
   "outputs": [],
   "source": []
  },
  {
   "cell_type": "code",
   "execution_count": null,
   "metadata": {},
   "outputs": [],
   "source": []
  },
  {
   "cell_type": "code",
   "execution_count": null,
   "metadata": {},
   "outputs": [],
   "source": []
  },
  {
   "cell_type": "code",
   "execution_count": null,
   "metadata": {},
   "outputs": [],
   "source": []
  },
  {
   "cell_type": "code",
   "execution_count": null,
   "metadata": {},
   "outputs": [],
   "source": []
  },
  {
   "cell_type": "markdown",
   "metadata": {},
   "source": [
    "# Trunk"
   ]
  },
  {
   "cell_type": "code",
   "execution_count": null,
   "metadata": {},
   "outputs": [],
   "source": [
    "# Visualize the topics\n",
    "pyLDAvis.enable_notebook()\n",
    "vis = pyLDAvis.gensim.prepare(ldamallet, corpus, id2word)\n",
    "vis"
   ]
  },
  {
   "cell_type": "code",
   "execution_count": null,
   "metadata": {},
   "outputs": [],
   "source": [
    "for k,i in enumerate(x):\n",
    "    print(i, coherence_values[k])"
   ]
  },
  {
   "cell_type": "code",
   "execution_count": null,
   "metadata": {
    "tags": []
   },
   "outputs": [],
   "source": [
    "# Set training parameters.\n",
    "num_topics = 20\n",
    "chunksize = 5000\n",
    "passes = 20\n",
    "iterations = 500\n",
    "eval_every = None  # Don't evaluate model perplexity, takes too much time.\n",
    "\n",
    "# Make a index to word dictionary.\n",
    "temp = dictionary[0]  # This is only to \"load\" the dictionary.\n",
    "id2word = dictionary.id2token\n",
    "\n",
    "model = LdaModel(\n",
    "    corpus=corpus,\n",
    "    id2word=id2word,\n",
    "    chunksize=chunksize,\n",
    "    alpha='auto',\n",
    "    eta='auto',\n",
    "    iterations=iterations,\n",
    "    num_topics=num_topics,\n",
    "    passes=passes,\n",
    "    eval_every=eval_every\n",
    ")"
   ]
  },
  {
   "cell_type": "code",
   "execution_count": null,
   "metadata": {
    "tags": []
   },
   "outputs": [],
   "source": [
    "# # Make a index to word dictionary.\n",
    "# temp = dictionary[0]  # This is only to \"load\" the dictionary.\n",
    "# id2word = dictionary.id2token\n",
    "\n",
    "# model = gensim.models.ldamodel.LdaModel(corpus=corpus,\n",
    "#                                            id2word=id2word,\n",
    "#                                            num_topics=20, \n",
    "#                                            random_state=100,\n",
    "#                                            update_every=1,\n",
    "#                                            chunksize=100,\n",
    "#                                            passes=10,\n",
    "#                                            alpha='auto',\n",
    "#                                            per_word_topics=True)"
   ]
  },
  {
   "cell_type": "code",
   "execution_count": null,
   "metadata": {
    "tags": []
   },
   "outputs": [],
   "source": [
    "# Print the Keyword in the 10 topics\n",
    "pprint(model.print_topics())\n",
    "doc_lda = model[corpus]"
   ]
  },
  {
   "cell_type": "code",
   "execution_count": null,
   "metadata": {
    "tags": []
   },
   "outputs": [],
   "source": [
    "# Compute Perplexity\n",
    "print('\\nPerplexity: ', model.log_perplexity(corpus))  # a measure of how good the model is. lower the better.\n",
    "\n",
    "# Compute Coherence Score\n",
    "coherence_model_lda = CoherenceModel(model=model, texts=docs, dictionary=dictionary, coherence='c_v')\n",
    "coherence_lda = coherence_model_lda.get_coherence()\n",
    "print('\\nCoherence Score: ', coherence_lda)"
   ]
  },
  {
   "cell_type": "code",
   "execution_count": null,
   "metadata": {},
   "outputs": [],
   "source": [
    "# Visualize the topics\n",
    "pyLDAvis.enable_notebook()\n",
    "vis = pyLDAvis.gensim_models.prepare(model, corpus, dictionary)\n",
    "vis"
   ]
  },
  {
   "cell_type": "code",
   "execution_count": null,
   "metadata": {
    "tags": []
   },
   "outputs": [],
   "source": [
    "def format_topics_sentences(ldamodel, corpus, texts):\n",
    "    # Init output\n",
    "    sent_topics_df = pd.DataFrame()\n",
    "\n",
    "    # Get main topic in each document\n",
    "    for i, row in enumerate(ldamodel[corpus]):\n",
    "        row = sorted(row, key=lambda x: (x[1]), reverse=True)\n",
    "        # Get the Dominant topic, Perc Contribution and Keywords for each document\n",
    "        for j, (topic_num, prop_topic) in enumerate(row):\n",
    "            if j == 0:  # => dominant topic\n",
    "                wp = ldamodel.show_topic(topic_num)\n",
    "                topic_keywords = \", \".join([word for word, prop in wp])\n",
    "                sent_topics_df = sent_topics_df.append(pd.Series([int(topic_num), round(prop_topic,4), topic_keywords]), ignore_index=True)\n",
    "            else:\n",
    "                break\n",
    "    sent_topics_df.columns = ['Dominant_Topic', 'Perc_Contribution', 'Topic_Keywords']\n",
    "\n",
    "    # Add original text to the end of the output\n",
    "    contents = pd.Series(texts)\n",
    "    sent_topics_df = pd.concat([sent_topics_df, contents], axis=1)\n",
    "    return(sent_topics_df)\n",
    "\n",
    "\n",
    "df_topic_sents_keywords = format_topics_sentences(ldamodel=model, corpus=corpus, texts=list(tweets.content))\n",
    "\n",
    "# Format\n",
    "df_dominant_topic = df_topic_sents_keywords.reset_index()\n",
    "df_dominant_topic.columns = ['Document_No', 'Dominant_Topic', 'Topic_Perc_Contrib', 'Keywords', 'Text']\n",
    "\n",
    "# Show\n",
    "df_dominant_topic.head(5)"
   ]
  },
  {
   "cell_type": "code",
   "execution_count": null,
   "metadata": {},
   "outputs": [],
   "source": [
    "df_dominant_topic.Dominant_Topic.value_counts() / df_dominant_topic.shape[0]"
   ]
  },
  {
   "cell_type": "code",
   "execution_count": null,
   "metadata": {},
   "outputs": [],
   "source": [
    "# Group top 5 sentences under each topic\n",
    "sent_topics_sorteddf_mallet = pd.DataFrame()\n",
    "\n",
    "sent_topics_outdf_grpd = df_topic_sents_keywords.groupby('Dominant_Topic')\n",
    "\n",
    "for i, grp in sent_topics_outdf_grpd:\n",
    "    sent_topics_sorteddf_mallet = pd.concat([sent_topics_sorteddf_mallet, \n",
    "                                             grp.sort_values(['Perc_Contribution'], ascending=[0]).head(5)], \n",
    "                                            axis=0)\n",
    "\n",
    "# Reset Index    \n",
    "sent_topics_sorteddf_mallet.reset_index(drop=True, inplace=True)\n",
    "\n",
    "# Format\n",
    "sent_topics_sorteddf_mallet.columns = ['Topic_Num', \"Topic_Perc_Contrib\", \"Keywords\", \"Text\"]\n",
    "sent_topics_sorteddf_mallet.to_csv('relevant_topics.csv', sep=\"|\")"
   ]
  },
  {
   "cell_type": "code",
   "execution_count": null,
   "metadata": {},
   "outputs": [],
   "source": [
    "def extract_documents(url='https://cs.nyu.edu/~roweis/data/nips12raw_str602.tgz'):\n",
    "    with smart_open.open(url, \"rb\") as file:\n",
    "        with tarfile.open(fileobj=file) as tar:\n",
    "            for member in tar.getmembers():\n",
    "                if member.isfile() and re.search(r'nipstxt/nips\\d+/\\d+\\.txt', member.name):\n",
    "                    member_bytes = tar.extractfile(member).read()\n",
    "                    yield member_bytes.decode('utf-8', errors='replace')\n",
    "\n",
    "docs = list(extract_documents())"
   ]
  },
  {
   "cell_type": "code",
   "execution_count": null,
   "metadata": {},
   "outputs": [],
   "source": [
    "print(len(docs))\n",
    "print(docs[0][:500])"
   ]
  },
  {
   "cell_type": "code",
   "execution_count": null,
   "metadata": {},
   "outputs": [],
   "source": [
    "# Tokenize the documents.\n",
    "from nltk.tokenize import RegexpTokenizer\n",
    "\n",
    "# Split the documents into tokens.\n",
    "tokenizer = RegexpTokenizer(r'\\w+')\n",
    "for idx in range(len(docs)):\n",
    "    docs[idx] = docs[idx].lower()  # Convert to lowercase.\n",
    "    docs[idx] = tokenizer.tokenize(docs[idx])  # Split into words.\n",
    "\n",
    "# Remove numbers, but not words that contain numbers.\n",
    "docs = [[token for token in doc if not token.isnumeric()] for doc in docs]\n",
    "\n",
    "# Remove words that are only one character.\n",
    "docs = [[token for token in doc if len(token) > 1] for doc in docs]"
   ]
  },
  {
   "cell_type": "code",
   "execution_count": null,
   "metadata": {},
   "outputs": [],
   "source": [
    "# Lemmatize the documents.\n",
    "from nltk.stem.wordnet import WordNetLemmatizer\n",
    "\n",
    "lemmatizer = WordNetLemmatizer()\n",
    "docs = [[lemmatizer.lemmatize(token) for token in doc] for doc in docs]"
   ]
  },
  {
   "cell_type": "code",
   "execution_count": null,
   "metadata": {},
   "outputs": [],
   "source": [
    "# Compute bigrams.\n",
    "from gensim.models import Phrases\n",
    "\n",
    "# Add bigrams and trigrams to docs (only ones that appear 20 times or more).\n",
    "bigram = Phrases(docs, min_count=20)\n",
    "for idx in range(len(docs)):\n",
    "    for token in bigram[docs[idx]]:\n",
    "        if '_' in token:\n",
    "            # Token is a bigram, add to document.\n",
    "            docs[idx].append(token)"
   ]
  },
  {
   "cell_type": "code",
   "execution_count": null,
   "metadata": {},
   "outputs": [],
   "source": [
    "# Remove rare and common tokens.\n",
    "from gensim.corpora import Dictionary\n",
    "\n",
    "# Create a dictionary representation of the documents.\n",
    "dictionary = Dictionary(docs)\n",
    "\n",
    "# Filter out words that occur less than 20 documents, or more than 50% of the documents.\n",
    "dictionary.filter_extremes(no_below=20, no_above=0.5)"
   ]
  },
  {
   "cell_type": "code",
   "execution_count": null,
   "metadata": {},
   "outputs": [],
   "source": [
    "# Bag-of-words representation of the documents.\n",
    "corpus = [dictionary.doc2bow(doc) for doc in docs]"
   ]
  },
  {
   "cell_type": "code",
   "execution_count": null,
   "metadata": {},
   "outputs": [],
   "source": [
    "print('Number of unique tokens: %d' % len(dictionary))\n",
    "print('Number of documents: %d' % len(corpus))"
   ]
  },
  {
   "cell_type": "code",
   "execution_count": null,
   "metadata": {},
   "outputs": [],
   "source": [
    "# Train LDA model.\n",
    "from gensim.models import LdaModel\n",
    "\n",
    "# Set training parameters.\n",
    "num_topics = 10\n",
    "chunksize = 2000\n",
    "passes = 20\n",
    "iterations = 400\n",
    "eval_every = None  # Don't evaluate model perplexity, takes too much time.\n",
    "\n",
    "# Make a index to word dictionary.\n",
    "temp = dictionary[0]  # This is only to \"load\" the dictionary.\n",
    "id2word = dictionary.id2token\n",
    "\n",
    "model = LdaModel(\n",
    "    corpus=corpus,\n",
    "    id2word=id2word,\n",
    "    chunksize=chunksize,\n",
    "    alpha='auto',\n",
    "    eta='auto',\n",
    "    iterations=iterations,\n",
    "    num_topics=num_topics,\n",
    "    passes=passes,\n",
    "    eval_every=eval_every\n",
    ")"
   ]
  },
  {
   "cell_type": "code",
   "execution_count": null,
   "metadata": {
    "tags": []
   },
   "outputs": [],
   "source": [
    "top_topics = model.top_topics(corpus) #, num_words=20)\n",
    "\n",
    "# Average topic coherence is the sum of topic coherences of all topics, divided by the number of topics.\n",
    "avg_topic_coherence = sum([t[1] for t in top_topics]) / num_topics\n",
    "print('Average topic coherence: %.4f.' % avg_topic_coherence)\n",
    "\n",
    "from pprint import pprint\n",
    "pprint(top_topics)"
   ]
  },
  {
   "cell_type": "code",
   "execution_count": null,
   "metadata": {},
   "outputs": [],
   "source": []
  },
  {
   "cell_type": "code",
   "execution_count": null,
   "metadata": {},
   "outputs": [],
   "source": []
  },
  {
   "cell_type": "code",
   "execution_count": null,
   "metadata": {},
   "outputs": [],
   "source": []
  },
  {
   "cell_type": "code",
   "execution_count": null,
   "metadata": {},
   "outputs": [],
   "source": []
  },
  {
   "cell_type": "code",
   "execution_count": null,
   "metadata": {},
   "outputs": [],
   "source": []
  },
  {
   "cell_type": "code",
   "execution_count": null,
   "metadata": {
    "tags": []
   },
   "outputs": [],
   "source": [
    "import os\n",
    "import json\n",
    "import pickle \n",
    "import time\n",
    "\n",
    "import pandas as pd\n",
    "import numpy as np\n",
    "\n",
    "from transformers import (\n",
    "    AutoTokenizer, AutoModelForTokenClassification, pipeline    \n",
    ")\n",
    "\n",
    "pd.options.display.max_rows = 100\n",
    "pd.options.display.max_columns = 100"
   ]
  },
  {
   "cell_type": "code",
   "execution_count": null,
   "metadata": {},
   "outputs": [],
   "source": [
    "CATEGORIES = [\n",
    "    'social distancing', 'wearing mask', 'breaking rule', 'discrimination', 'vaccination', 'economic impact', 'covid-19 outbreak', \n",
    "    'panic buying', 'government and health authorities', 'being compassionate and helpful', 'school reopening', \n",
    "    'teaching children at home', 'alcohol or drug abuse', 'domestic violence'\n",
    "]"
   ]
  },
  {
   "cell_type": "code",
   "execution_count": null,
   "metadata": {},
   "outputs": [],
   "source": [
    "def token_replace(text, page):\n",
    "    new_text = []\n",
    "    text = text.replace('\\n', ' ').replace(\"\\'s\", \"'s\").replace(page, '').strip()\n",
    "    refs = True\n",
    "\n",
    "    for t in text.split(\" \"):\n",
    "        if (t.startswith('@') or t.startswith('http')) and refs:\n",
    "            pass\n",
    "        else:\n",
    "            refs = False\n",
    "            t = '[NAME]' if t.startswith('@') and len(t) > 1 else '' if t.startswith('http') else t\n",
    "            new_text.append(t)\n",
    "        \n",
    "    return \" \".join(new_text).strip()\n",
    "\n",
    "def NER_replace(text):\n",
    "    end_name = -2\n",
    "    replace_names = []\n",
    "    ner_result = xlm_roberta_nlp(text)\n",
    "    for name in ner_result:\n",
    "        if name['entity'] == 'I-PER':\n",
    "            if name['start'] <= end_name+1:\n",
    "                replace_names[-1] = ''.join([replace_names[-1], name['word'].replace('▁', ' ')])\n",
    "                end_name = name['end']\n",
    "            else:\n",
    "                replace_names = replace_names + [name['word'].replace('▁', ' ')]\n",
    "                end_name = name['end']\n",
    "    replace_names = [name.strip() for name in replace_names]\n",
    "\n",
    "    for name in replace_names:\n",
    "        text = text.replace(name, '[NAME]')\n",
    "\n",
    "def render_text(comment, page, NER=False):\n",
    "    \n",
    "    text = comment.content\n",
    "    text = token_replace(text, page)\n",
    "    if NER:\n",
    "        text = NER_replace(text, page)        \n",
    "    return text\n",
    "\n",
    "def get_elegible(comment):\n",
    "    \n",
    "    text = comment.renderedContent    \n",
    "    comment_criteria = len(text.split()) > 3\n",
    "    words_criteria = (len(text) / (len(text.split())+1)) > 2\n",
    "    lang_criteria = comment.lang == 'en'\n",
    "    \n",
    "    return comment_criteria and words_criteria and lang_criteria\n",
    "\n",
    "def get_zero_shot_classification(tweet):\n",
    "        \n",
    "    if tweet.elegible == False:\n",
    "        return ''\n",
    "    \n",
    "    text = tweet.renderedContent\n",
    "    result = facebook_zsc(text, CATEGORIES, multi_label=True)\n",
    "    tmp = pd.DataFrame(columns=result['labels'])\n",
    "    tmp.loc[0] = result['scores']\n",
    "    return [tweet.tweetId] + list(tmp[CATEGORIES].values[0])"
   ]
  },
  {
   "cell_type": "code",
   "execution_count": null,
   "metadata": {},
   "outputs": [],
   "source": [
    "# Get Facebook Zero Shot Classifier\n",
    "facebook_zsc = pipeline(\"zero-shot-classification\", model=\"facebook/bart-large-mnli\", device=0)"
   ]
  },
  {
   "cell_type": "code",
   "execution_count": null,
   "metadata": {},
   "outputs": [],
   "source": [
    "news_tweets = pd.read_parquet('./../data/raw/news_tweets.parquet')\n",
    "news_accounts = pd.read_parquet('./../data/raw/news_accounts.parquet')\n",
    "news_tweets_zsc = pd.DataFrame([])\n",
    "print('Start processing.')\n",
    "for user in news_tweets.userId.unique():\n",
    "    start = time.time()\n",
    "    page = news_accounts[news_accounts.userId==user].username.values[0]\n",
    "    tmp = news_tweets[news_tweets.userId==user]\n",
    "    tmp['renderedContent'] = tmp.apply(lambda x: render_text(x, '@'+page), axis=1)\n",
    "    tmp['elegible'] = tmp.apply(lambda x: get_elegible(x), axis=1)\n",
    "    zsc = tmp.apply(lambda x: get_zero_shot_classification(x), axis=1)\n",
    "    zsc = pd.DataFrame(list(zsc), columns=['tweetId'] + CATEGORIES)\n",
    "    zsc = zsc[~(zsc.tweetId.isnull())]\n",
    "    zsc.to_parquet(page + '_zsc.parquet')\n",
    "    news_tweets_zsc = news_tweets_zsc.append(zsc)\n",
    "    print('Page:', page, '| Time:', time.time()-start)"
   ]
  },
  {
   "cell_type": "code",
   "execution_count": null,
   "metadata": {},
   "outputs": [],
   "source": []
  },
  {
   "cell_type": "code",
   "execution_count": null,
   "metadata": {},
   "outputs": [],
   "source": []
  },
  {
   "cell_type": "code",
   "execution_count": null,
   "metadata": {},
   "outputs": [],
   "source": []
  },
  {
   "cell_type": "code",
   "execution_count": null,
   "metadata": {},
   "outputs": [],
   "source": []
  }
 ],
 "metadata": {
  "kernelspec": {
   "display_name": "Python 3 (ipykernel)",
   "language": "python",
   "name": "python3"
  },
  "language_info": {
   "codemirror_mode": {
    "name": "ipython",
    "version": 3
   },
   "file_extension": ".py",
   "mimetype": "text/x-python",
   "name": "python",
   "nbconvert_exporter": "python",
   "pygments_lexer": "ipython3",
   "version": "3.8.8"
  }
 },
 "nbformat": 4,
 "nbformat_minor": 4
}
