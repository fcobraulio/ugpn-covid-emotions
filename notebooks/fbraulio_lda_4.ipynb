{
 "cells": [
  {
   "cell_type": "code",
   "execution_count": 2,
   "metadata": {
    "tags": []
   },
   "outputs": [
    {
     "name": "stderr",
     "output_type": "stream",
     "text": [
      "C:\\Users\\f.braulio\\Anaconda3\\envs\\ugpn-covid-emotions\\lib\\site-packages\\sklearn\\linear_model\\_least_angle.py:34: DeprecationWarning: `np.float` is a deprecated alias for the builtin `float`. To silence this warning, use `float` by itself. Doing this will not modify any behavior and is safe. If you specifically wanted the numpy scalar type, use `np.float64` here.\n",
      "Deprecated in NumPy 1.20; for more details and guidance: https://numpy.org/devdocs/release/1.20.0-notes.html#deprecations\n",
      "  method='lar', copy_X=True, eps=np.finfo(np.float).eps,\n",
      "C:\\Users\\f.braulio\\Anaconda3\\envs\\ugpn-covid-emotions\\lib\\site-packages\\sklearn\\linear_model\\_least_angle.py:164: DeprecationWarning: `np.float` is a deprecated alias for the builtin `float`. To silence this warning, use `float` by itself. Doing this will not modify any behavior and is safe. If you specifically wanted the numpy scalar type, use `np.float64` here.\n",
      "Deprecated in NumPy 1.20; for more details and guidance: https://numpy.org/devdocs/release/1.20.0-notes.html#deprecations\n",
      "  method='lar', copy_X=True, eps=np.finfo(np.float).eps,\n",
      "C:\\Users\\f.braulio\\Anaconda3\\envs\\ugpn-covid-emotions\\lib\\site-packages\\sklearn\\linear_model\\_least_angle.py:281: DeprecationWarning: `np.float` is a deprecated alias for the builtin `float`. To silence this warning, use `float` by itself. Doing this will not modify any behavior and is safe. If you specifically wanted the numpy scalar type, use `np.float64` here.\n",
      "Deprecated in NumPy 1.20; for more details and guidance: https://numpy.org/devdocs/release/1.20.0-notes.html#deprecations\n",
      "  eps=np.finfo(np.float).eps, copy_Gram=True, verbose=0,\n",
      "C:\\Users\\f.braulio\\Anaconda3\\envs\\ugpn-covid-emotions\\lib\\site-packages\\sklearn\\linear_model\\_least_angle.py:865: DeprecationWarning: `np.float` is a deprecated alias for the builtin `float`. To silence this warning, use `float` by itself. Doing this will not modify any behavior and is safe. If you specifically wanted the numpy scalar type, use `np.float64` here.\n",
      "Deprecated in NumPy 1.20; for more details and guidance: https://numpy.org/devdocs/release/1.20.0-notes.html#deprecations\n",
      "  eps=np.finfo(np.float).eps, copy_X=True, fit_path=True,\n",
      "C:\\Users\\f.braulio\\Anaconda3\\envs\\ugpn-covid-emotions\\lib\\site-packages\\sklearn\\linear_model\\_least_angle.py:1121: DeprecationWarning: `np.float` is a deprecated alias for the builtin `float`. To silence this warning, use `float` by itself. Doing this will not modify any behavior and is safe. If you specifically wanted the numpy scalar type, use `np.float64` here.\n",
      "Deprecated in NumPy 1.20; for more details and guidance: https://numpy.org/devdocs/release/1.20.0-notes.html#deprecations\n",
      "  eps=np.finfo(np.float).eps, copy_X=True, fit_path=True,\n",
      "C:\\Users\\f.braulio\\Anaconda3\\envs\\ugpn-covid-emotions\\lib\\site-packages\\sklearn\\linear_model\\_least_angle.py:1149: DeprecationWarning: `np.float` is a deprecated alias for the builtin `float`. To silence this warning, use `float` by itself. Doing this will not modify any behavior and is safe. If you specifically wanted the numpy scalar type, use `np.float64` here.\n",
      "Deprecated in NumPy 1.20; for more details and guidance: https://numpy.org/devdocs/release/1.20.0-notes.html#deprecations\n",
      "  eps=np.finfo(np.float).eps, positive=False):\n",
      "C:\\Users\\f.braulio\\Anaconda3\\envs\\ugpn-covid-emotions\\lib\\site-packages\\sklearn\\linear_model\\_least_angle.py:1379: DeprecationWarning: `np.float` is a deprecated alias for the builtin `float`. To silence this warning, use `float` by itself. Doing this will not modify any behavior and is safe. If you specifically wanted the numpy scalar type, use `np.float64` here.\n",
      "Deprecated in NumPy 1.20; for more details and guidance: https://numpy.org/devdocs/release/1.20.0-notes.html#deprecations\n",
      "  max_n_alphas=1000, n_jobs=None, eps=np.finfo(np.float).eps,\n",
      "C:\\Users\\f.braulio\\Anaconda3\\envs\\ugpn-covid-emotions\\lib\\site-packages\\sklearn\\linear_model\\_least_angle.py:1621: DeprecationWarning: `np.float` is a deprecated alias for the builtin `float`. To silence this warning, use `float` by itself. Doing this will not modify any behavior and is safe. If you specifically wanted the numpy scalar type, use `np.float64` here.\n",
      "Deprecated in NumPy 1.20; for more details and guidance: https://numpy.org/devdocs/release/1.20.0-notes.html#deprecations\n",
      "  max_n_alphas=1000, n_jobs=None, eps=np.finfo(np.float).eps,\n",
      "C:\\Users\\f.braulio\\Anaconda3\\envs\\ugpn-covid-emotions\\lib\\site-packages\\sklearn\\linear_model\\_least_angle.py:1755: DeprecationWarning: `np.float` is a deprecated alias for the builtin `float`. To silence this warning, use `float` by itself. Doing this will not modify any behavior and is safe. If you specifically wanted the numpy scalar type, use `np.float64` here.\n",
      "Deprecated in NumPy 1.20; for more details and guidance: https://numpy.org/devdocs/release/1.20.0-notes.html#deprecations\n",
      "  eps=np.finfo(np.float).eps, copy_X=True, positive=False):\n",
      "C:\\Users\\f.braulio\\Anaconda3\\envs\\ugpn-covid-emotions\\lib\\site-packages\\sklearn\\decomposition\\_lda.py:28: DeprecationWarning: `np.float` is a deprecated alias for the builtin `float`. To silence this warning, use `float` by itself. Doing this will not modify any behavior and is safe. If you specifically wanted the numpy scalar type, use `np.float64` here.\n",
      "Deprecated in NumPy 1.20; for more details and guidance: https://numpy.org/devdocs/release/1.20.0-notes.html#deprecations\n",
      "  EPS = np.finfo(np.float).eps\n"
     ]
    }
   ],
   "source": [
    "import warnings\n",
    "warnings.filterwarnings(\"ignore\")\n",
    "\n",
    "import io\n",
    "import os\n",
    "import os.path\n",
    "import re\n",
    "import spacy\n",
    "import time\n",
    "import pickle\n",
    "\n",
    "import numpy as np\n",
    "import pandas as pd\n",
    "from pprint import pprint\n",
    "\n",
    "import gensim\n",
    "from gensim.models import Phrases, LdaModel, CoherenceModel\n",
    "from gensim.corpora import Dictionary\n",
    "from gensim.utils import simple_preprocess\n",
    "from gensim.test.utils import datapath\n",
    "\n",
    "import pyLDAvis\n",
    "import pyLDAvis.gensim_models  # don't skip this\n",
    "import matplotlib.pyplot as plt\n",
    "%matplotlib inline\n",
    "\n",
    "import warnings\n",
    "warnings.filterwarnings(\"ignore\")\n",
    "os.environ.update({'MALLET_HOME':r'C:/mallet/mallet-2.0.8/'})\n",
    "mallet_path = 'C:\\\\mallet\\\\mallet-2.0.8\\\\bin\\\\mallet'\n",
    "pd.options.display.max_columns = 100"
   ]
  },
  {
   "cell_type": "code",
   "execution_count": 3,
   "metadata": {},
   "outputs": [],
   "source": [
    "def make_bigrams(texts):\n",
    "    return [bigram_mod[doc] for doc in texts]\n",
    "\n",
    "def make_trigrams(texts):\n",
    "    return [trigram_mod[bigram_mod[doc]] for doc in texts]\n",
    "\n",
    "def compute_coherence_values(id2word, corpus, texts, limit, start=2, step=3):\n",
    "    \"\"\"\n",
    "    Compute c_v coherence for various number of topics\n",
    "\n",
    "    Parameters:\n",
    "    ----------\n",
    "    dictionary : Gensim dictionary\n",
    "    corpus : Gensim corpus\n",
    "    texts : List of input texts\n",
    "    limit : Max num of topics\n",
    "\n",
    "    Returns:\n",
    "    -------\n",
    "    model_list : List of LDA topic models\n",
    "    coherence_values : Coherence values corresponding to the LDA model with respective number of topics\n",
    "    \"\"\"\n",
    "    coherence_values = []\n",
    "    model_list = []\n",
    "    chunksize = 2000\n",
    "    passes = 20\n",
    "    iterations = 400\n",
    "    eval_every = None  # Don't evaluate model perplexity, takes too much time.\n",
    "    for num_topics in range(start, limit, step):\n",
    "        ldamallet = gensim.models.wrappers.LdaMallet(mallet_path, corpus=corpus, num_topics=20, id2word=id2word, random_seed=50)\n",
    "        model_list.append(ldamallet)\n",
    "        coherence_model_ldamallet = CoherenceModel(model=ldamallet, texts=texts, dictionary=dictionary, coherence='c_v')\n",
    "        coherence_values.append(coherence_model_ldamallet.get_coherence())\n",
    "\n",
    "    return model_list, coherence_values\n",
    "\n",
    "def loop_compute_coherence_values(id2word, corpus, texts, limit, mallet_path, start=2, step=3):\n",
    "    coherence_values = []\n",
    "    model_list = []\n",
    "    for num_topics in range(start, limit, step):\n",
    "        ldamallet = gensim.models.wrappers.LdaMallet(mallet_path, corpus=corpus, num_topics=num_topics, id2word=id2word, random_seed=50)\n",
    "        model_list.append(ldamallet)\n",
    "        coherence_model_ldamallet = CoherenceModel(model=ldamallet, texts=texts, dictionary=dictionary, coherence='c_v')\n",
    "        coherence_values.append(coherence_model_ldamallet.get_coherence())\n",
    "        print(num_topics)\n",
    "    return model_list, coherence_values"
   ]
  },
  {
   "cell_type": "markdown",
   "metadata": {},
   "source": [
    "# Load and process News Tweets"
   ]
  },
  {
   "cell_type": "code",
   "execution_count": 4,
   "metadata": {},
   "outputs": [
    {
     "name": "stdout",
     "output_type": "stream",
     "text": [
      "Number of valid news tweets: 1719871\n",
      "Just collected 1719871 tweets.\n"
     ]
    }
   ],
   "source": [
    "# Load lookup tables\n",
    "media_list = pd.read_csv('./../data/external/MediaList.csv', sep=\";\")\n",
    "news_accounts = pd.read_parquet('./../data/processed/news_accounts.parquet')\n",
    "emotions = ['anger', 'sadness', 'optimism', 'joy']\n",
    "\n",
    "# Process lookup tables\n",
    "news_accounts = news_accounts.merge(media_list)\n",
    "news_accounts['userId'] = news_accounts.userId.astype('float64')\n",
    "\n",
    "# Load news tweets\n",
    "news_tweets = pd.read_parquet('./../data/processed/consolidated/consolidated_news_tweets.parquet')\n",
    "\n",
    "# Include country information and filter valid news accountsw\n",
    "news_tweets = news_tweets.merge(news_accounts[['userId','country']])\n",
    "news_tweets = news_tweets.sort_values('date').drop_duplicates('conversationId', keep='first')\n",
    "news_tweets = news_tweets[news_tweets.lang=='en']\n",
    "print('Number of valid news tweets:', news_tweets.shape[0])\n",
    "\n",
    "# Generate content file\n",
    "news_tweets = news_tweets.reset_index(drop=True)\n",
    "data = list(news_tweets.content)\n",
    "print(\"Just collected\", len(data), \"tweets.\")\n",
    "del media_list, news_accounts"
   ]
  },
  {
   "cell_type": "code",
   "execution_count": 5,
   "metadata": {
    "tags": []
   },
   "outputs": [
    {
     "name": "stdout",
     "output_type": "stream",
     "text": [
      "Finish 1 2278.4770452976227\n",
      "Finish 2 431.08384132385254\n",
      "Finish 3 31.26934790611267\n",
      "Finish 4 0.3418409824371338\n",
      "Finish 5 14.406043291091919\n",
      "Number of unique tokens: 1966\n",
      "Number of documents: 1719871\n"
     ]
    }
   ],
   "source": [
    "# Clean data\n",
    "start = time.time()\n",
    "nlp = spacy.load(\"en_core_web_sm\")\n",
    "docs = []\n",
    "for doc in nlp.pipe(data, disable=[\"tok2vec\", \"tagger\", \"parser\", \"attribute_ruler\"]):\n",
    "    docs.append([\n",
    "        re.sub(r'[^\\w\\s]|[0-9]|[_]', '', token.lemma_.lower()) for token in doc\n",
    "        if not token.like_url\n",
    "        and not token.is_punct\n",
    "        and not token.is_stop\n",
    "        and not token.is_space\n",
    "        and not token.like_num\n",
    "        and not token.ent_type_ == 'GPE'\n",
    "        and not token.text.startswith('@')\n",
    "        and len(token.text)>1\n",
    "    ])\n",
    "print(\"Finish 1\", time.time() - start)\n",
    "\n",
    "# Form Bigrams and Trigrams\n",
    "start = time.time()\n",
    "bigram = gensim.models.Phrases(docs, min_count=5, ) # higher threshold fewer phrases.\n",
    "trigram = gensim.models.Phrases(bigram[docs])\n",
    "bigram_mod = gensim.models.phrases.Phraser(bigram)\n",
    "trigram_mod = gensim.models.phrases.Phraser(trigram)\n",
    "docs = make_bigrams(docs)\n",
    "docs = make_trigrams(docs)\n",
    "print(\"Finish 2\", time.time() - start)\n",
    "\n",
    "# Create a dictionary representation of the documents.\n",
    "start = time.time()\n",
    "dictionary = Dictionary(docs)\n",
    "print(\"Finish 3\", time.time() - start)\n",
    "\n",
    "# Filter out words that occur less than 20 documents, or more than 50% of the documents.\n",
    "start = time.time()\n",
    "dictionary.filter_extremes(no_below=len(docs)*0.0005, no_above=0.33)\n",
    "temp = dictionary[0]  # This is only to \"load\" the dictionary.\n",
    "id2word = dictionary.id2token\n",
    "print(\"Finish 4\", time.time() - start)\n",
    "\n",
    "# Bag-of-words representation of the documents.\n",
    "start = time.time()\n",
    "corpus = [dictionary.doc2bow(doc) for doc in docs]\n",
    "print(\"Finish 5\", time.time() - start)\n",
    "\n",
    "print('Number of unique tokens: %d' % len(dictionary))\n",
    "print('Number of documents: %d' % len(corpus))"
   ]
  },
  {
   "cell_type": "code",
   "execution_count": 2,
   "metadata": {},
   "outputs": [
    {
     "data": {
      "text/plain": [
       "859.9355"
      ]
     },
     "execution_count": 2,
     "metadata": {},
     "output_type": "execute_result"
    }
   ],
   "source": [
    "0.0005 * 1719871"
   ]
  },
  {
   "cell_type": "markdown",
   "metadata": {},
   "source": [
    "# Coherence over number of topics"
   ]
  },
  {
   "cell_type": "code",
   "execution_count": 87,
   "metadata": {
    "tags": []
   },
   "outputs": [
    {
     "name": "stdout",
     "output_type": "stream",
     "text": [
      "2\n",
      "5\n",
      "8\n",
      "11\n",
      "14\n",
      "17\n",
      "20\n",
      "23\n",
      "26\n",
      "29\n",
      "32\n",
      "35\n",
      "38\n"
     ]
    },
    {
     "data": {
      "image/png": "[encoded data removed]",
      "text/plain": [
       "<Figure size 432x288 with 1 Axes>"
      ]
     },
     "metadata": {
      "needs_background": "light"
     },
     "output_type": "display_data"
    }
   ],
   "source": [
    "# Can take a long time to run.\n",
    "limit=40; start=2; step=3;\n",
    "model_list, coherence_values = loop_compute_coherence_values(id2word=id2word, corpus=corpus, texts=docs, mallet_path=mallet_path, start=start, limit=limit, step=step)\n",
    "\n",
    "# Show graph\n",
    "x = range(start, limit, step)\n",
    "plt.plot(x, coherence_values)\n",
    "plt.xlabel(\"Num Topics\")\n",
    "plt.ylabel(\"Coherence score\")\n",
    "plt.legend((\"coherence_values\"), loc='best')\n",
    "plt.show()"
   ]
  },
  {
   "cell_type": "code",
   "execution_count": 88,
   "metadata": {},
   "outputs": [
    {
     "data": {
      "text/plain": [
       "[0.1904751007100423,\n",
       " 0.37879459862606674,\n",
       " 0.42374450561744703,\n",
       " 0.4644860060338329,\n",
       " 0.487347851713527,\n",
       " 0.4946509603327943,\n",
       " 0.5126522710767392,\n",
       " 0.5197612616471091,\n",
       " 0.5102378284271195,\n",
       " 0.5372328881105903,\n",
       " 0.5216428422006523,\n",
       " 0.5294609204296856,\n",
       " 0.5281553643090436]"
      ]
     },
     "execution_count": 88,
     "metadata": {},
     "output_type": "execute_result"
    }
   ],
   "source": [
    "coherence_values"
   ]
  },
  {
   "cell_type": "markdown",
   "metadata": {},
   "source": [
    "# Train LDA"
   ]
  },
  {
   "cell_type": "code",
   "execution_count": 6,
   "metadata": {},
   "outputs": [],
   "source": [
    "# Train model\n",
    "temp_file = datapath(\"model_0112\")\n",
    "ldamallet = gensim.models.wrappers.LdaMallet.load(temp_file)\n",
    "#ldamallet = gensim.models.wrappers.LdaMallet(mallet_path, corpus=corpus, num_topics=20, id2word=id2word, random_seed=50)\n",
    "model = gensim.models.wrappers.ldamallet.malletmodel2ldamodel(ldamallet)"
   ]
  },
  {
   "cell_type": "code",
   "execution_count": 90,
   "metadata": {},
   "outputs": [],
   "source": [
    "# Save the model\n",
    "# temp_file = datapath(\"model_0112\")\n",
    "# ldamallet.save(temp_file)"
   ]
  },
  {
   "cell_type": "code",
   "execution_count": 91,
   "metadata": {},
   "outputs": [
    {
     "data": {
      "text/html": [
       "\n",
       "<link rel=\"stylesheet\" type=\"text/css\" href=\"https://cdn.jsdelivr.net/gh/bmabey/pyLDAvis@3.3.1/pyLDAvis/js/ldavis.v1.0.0.css\">\n",
       "\n",
       "\n",
       "<div id=\"ldavis_el11402826887632297923108584864\"></div>\n",
       "<script type=\"text/javascript\">\n",
       "\n",
       "var ldavis_el11402826887632297923108584864_data = {\"mdsDat\": {\"x\": [-0.3960164504132353, -0.009427841092315386, 0.003147189248024865, 0.17488914388475033, -0.4038776887372153, 0.07901108776393893, 0.04657727348516722, 0.19018796518830514, -0.06410387478630968, 0.016743527801295347, 0.034346155319133105, 0.13153333275476273, -0.038118346479165836, 0.04874569124493745, -0.02659787320255045, 0.15539288519501132, -0.006414703696688845, 0.019405939579256813, 0.028080347816427483, 0.01649623912647103], \"y\": [0.15867118124769095, -0.12829138717063965, -0.017627871309627452, 0.2410404863882799, 0.1598750898253526, 0.10918348815692516, -0.10768653703618246, 0.23755625382720896, -0.03279510688458261, -0.054228209635092166, -0.1717737273263802, 0.1253759663975034, -0.08638509405883275, -0.1359517147884828, -0.07536842960699805, 0.20199838375807755, -0.09889827595223584, -0.10765161462249127, -0.12987372770303415, -0.08716915350645953], \"topics\": [1, 2, 3, 4, 5, 6, 7, 8, 9, 10, 11, 12, 13, 14, 15, 16, 17, 18, 19, 20], \"cluster\": [1, 1, 1, 1, 1, 1, 1, 1, 1, 1, 1, 1, 1, 1, 1, 1, 1, 1, 1, 1], \"Freq\": [5.060770157534799, 5.039622961353951, 5.024505897758074, 5.024421815059623, 5.019312991800456, 5.016136651244453, 5.014239927440975, 5.008797429785092, 5.005229020302972, 5.001546357674942, 5.000514145740885, 4.993290866637386, 4.992449388681661, 4.9896664006830544, 4.978412738119851, 4.976855242719655, 4.972300688495708, 4.965963366812214, 4.9610922112318265, 4.954871740922427]}, \"tinfo\": {\"Term\": [\"case\", \"lockdown\", \"vaccine\", \"pandemic\", \"report\", \"people\", \"state\", \"amid\", \"test\", \"news\", \"death\", \"outbreak\", \"government\", \"quarantine\", \"country\", \"patient\", \"day\", \"update\", \"test_positive\", \"hospital\", \"time\", \"week\", \"late\", \"rise\", \"live\", \"health\", \"die\", \"read\", \"record\", \"virus\", \"health_department\", \"doh\", \"department_health\", \"ministry_health\", \"bring_total_numb\", \"total\", \"hour\", \"total_numb\", \"recovery\", \"discharge\", \"bring_total\", \"take_total_numb\", \"sample_test\", \"patient_discharge\", \"total_active\", \"stand\", \"active_case\", \"fatality\", \"death_toll_rise\", \"fresh\", \"union_health_ministry\", \"patient_recover\", \"dfa\", \"additional\", \"recovery_rate\", \"death_toll\", \"health_ministry\", \"reach\", \"relate_death\", \"tally_rise\", \"death\", \"report\", \"confirm\", \"case\", \"breaking\", \"tally\", \"today\", \"record\", \"recover\", \"include\", \"covidph\", \"bring\", \"read\", \"local_government\", \"national\", \"filipino\", \"operate\", \"statement\", \"spokesperson\", \"metro_manila\", \"luzon\", \"department\", \"private_sector\", \"cebu\", \"implementation\", \"assistance\", \"malaca\\u00f1ang\", \"operation\", \"cdntopstories\", \"president_duterte\", \"rank\", \"community_quarantine\", \"vaccination_program\", \"enhance_community_quarantine\", \"covidquarantine\", \"list\", \"agency\", \"council\", \"philippine\", \"suspension\", \"palace\", \"clarify\", \"disease\", \"implement\", \"president_rodrigo_duterte\", \"travel_ban\", \"roque\", \"government\", \"duterte\", \"add\", \"entire\", \"area\", \"country\", \"icymi\", \"ph\", \"wednesday\", \"thursday\", \"release\", \"affect\", \"tuesday\", \"include\", \"friday\", \"decision\", \"announce\", \"official\", \"suspend\", \"measure\", \"remain\", \"monday\", \"continue\", \"place\", \"december\", \"early\", \"april\", \"august\", \"resume\", \"september\", \"date\", \"schedule\", \"july\", \"ottnews_ottawa\", \"final\", \"phase\", \"league\", \"march\", \"begin\", \"january\", \"start\", \"june\", \"need_know\", \"end\", \"february\", \"summer\", \"october\", \"restart\", \"mid\", \"expect\", \"ontario\", \"set\", \"vaccine_rollout\", \"ease_restriction\", \"ahead\", \"month\", \"plan\", \"monday\", \"delay\", \"week\", \"announce\", \"reopen\", \"year\", \"tuesday\", \"friday\", \"day\", \"sunday\", \"open\", \"thursday\", \"market\", \"retailer\", \"hire\", \"collapse\", \"growth\", \"employee\", \"income\", \"stock\", \"benefit\", \"economy\", \"investor\", \"adapt\", \"trade\", \"scheme\", \"business\", \"slump\", \"economic_impact\", \"financial\", \"industry\", \"finance\", \"imf\", \"dollar\", \"rs_crore\", \"credit\", \"grant\", \"charity\", \"apple\", \"slash\", \"bank\", \"retail\", \"pay\", \"job\", \"cost\", \"cut\", \"sector\", \"million\", \"money\", \"sale\", \"price\", \"sell\", \"food\", \"loss\", \"firm\", \"work_home\", \"quarter\", \"payment\", \"revenue\", \"customer\", \"impact\", \"company\", \"demand\", \"boost\", \"pandemic\", \"struggle\", \"support\", \"year\", \"big\", \"worker\", \"hit\", \"crisis\", \"affect\", \"import\", \"numb\", \"spike\", \"log\", \"surpass\", \"record_high\", \"death_toll_reach\", \"overtake\", \"additional_death\", \"single_day\", \"high_daily\", \"high_single_day\", \"day_row\", \"victoria_record_new\", \"province\", \"top\", \"consecutive_day\", \"jump\", \"manage_isolation\", \"straight_day\", \"high_numb\", \"health_official\", \"rise\", \"daily\", \"toll\", \"exceed\", \"count\", \"cross_mark\", \"cross\", \"record\", \"case\", \"infection\", \"increase\", \"report\", \"death\", \"confirm\", \"register\", \"sunday\", \"number\", \"saturday\", \"tally\", \"breaking\", \"cases\", \"active\", \"death_toll\", \"tonight\", \"future\", \"reporter\", \"cooperation\", \"headline\", \"covidireland\", \"post\", \"amp\", \"speak\", \"meet\", \"review\", \"facebook\", \"bbcbreakfast\", \"newsnight\", \"performance\", \"conversation\", \"times\", \"click\", \"pm_modi\", \"india\", \"chairman\", \"discussion\", \"join\", \"discuss\", \"listen\", \"pm\", \"tv\", \"era\", \"exclusive\", \"watch\", \"talk\", \"special\", \"vmnews\", \"interview\", \"session\", \"feature\", \"panel\", \"hear\", \"detail\", \"situation\", \"youth\", \"story\", \"tomorrow\", \"prime_minister\", \"today\", \"fight\", \"indian\", \"dr\", \"hold\", \"strategy\", \"explain\", \"live\", \"world\", \"step\", \"share\", \"pandemic\", \"vaccination\", \"clinic\", \"prioritize\", \"center\", \"union\", \"answer\", \"launch\", \"hse\", \"priority\", \"information\", \"system\", \"strengthen\", \"equipment\", \"app\", \"application\", \"document\", \"essential\", \"infrastructure\", \"letter\", \"engage\", \"frontline\", \"mobile\", \"frontline_worker\", \"vaccination_site\", \"health\", \"line\", \"question\", \"service\", \"healthcare\", \"workers\", \"senior\", \"vulnerable\", \"provide\", \"workplace\", \"resource\", \"deploy\", \"commission\", \"gear\", \"ppe\", \"critical\", \"health_worker\", \"monitor\", \"community\", \"security\", \"target\", \"medical\", \"site\", \"member\", \"group\", \"offer\", \"free\", \"work\", \"drive\", \"worker\", \"give\", \"facility\", \"effort\", \"run\", \"fight\", \"team\", \"government\", \"office\", \"minister\", \"great\", \"lot\", \"history\", \"decade\", \"face\", \"write\", \"cope\", \"good\", \"moment\", \"overcome\", \"generation\", \"unprecedented\", \"easy\", \"love\", \"feel_like\", \"stress\", \"word\", \"professional\", \"midst\", \"kind\", \"remember\", \"mind\", \"society\", \"art\", \"fix\", \"guardian_nigeria_news\", \"hard\", \"feel\", \"change\", \"mental_health\", \"life\", \"opinion\", \"happen\", \"thing\", \"problem\", \"difficult\", \"social\", \"touch\", \"anxiety\", \"success\", \"idea\", \"time\", \"make\", \"manage\", \"challenge\", \"experience\", \"normal\", \"long\", \"pandemic\", \"create\", \"world\", \"spend\", \"turn\", \"year\", \"work\", \"lose\", \"wrong\", \"crisis\", \"hope\", \"big\", \"peak\", \"low\", \"past\", \"alarm\", \"high\", \"mark\", \"past_week\", \"grip\", \"drop\", \"mount\", \"fall\", \"oil\", \"double\", \"trend\", \"average\", \"western_cape\", \"infection_rate\", \"milestone\", \"hospitalization\", \"thanksgiving\", \"rate\", \"high_level\", \"slow\", \"lockdowns\", \"surge\", \"cent\", \"percent\", \"compare\", \"witness\", \"point\", \"wave\", \"datum\", \"europe\", \"decline\", \"spring\", \"datum_show\", \"recent\", \"continue\", \"current\", \"hit\", \"soar\", \"day\", \"reuters\", \"number\", \"remain\", \"infection\", \"week\", \"country\", \"increase\", \"month\", \"accord\", \"wrong\", \"push\", \"receive\", \"develope\", \"distribution\", \"batch\", \"shot\", \"administer\", \"manufacturer\", \"export\", \"purchase\", \"roll\", \"approve\", \"jab\", \"effective\", \"race\", \"progress\", \"receive_dose\", \"inoculate\", \"delivery\", \"trial\", \"distribute\", \"approval\", \"manufacture\", \"pharmacy\", \"clinical_trial\", \"appointment\", \"european_union\", \"efficacy\", \"pause\", \"jampj\", \"vaccine_candidate\", \"vaccine\", \"dose\", \"astrazeneca\", \"supply\", \"shoot\", \"pfizer\", \"eu\", \"development\", \"covidvaccine\", \"produce\", \"johnson_amp_johnson\", \"rollout\", \"volunteer\", \"moderna\", \"oxford\", \"deliver\", \"ready\", \"access\", \"give\", \"vaccinate\", \"drug\", \"hope\", \"age\", \"mask\", \"supreme_court\", \"prevent_spread\", \"fine\", \"norm\", \"avoid\", \"wear_mask\", \"event\", \"order\", \"protocol\", \"illegal\", \"compliance\", \"court\", \"lawyer\", \"precaution\", \"observe\", \"safety_measure\", \"wear_face_mask\", \"violate\", \"briton\", \"distance\", \"wear\", \"plea\", \"gather\", \"meeting\", \"gathering\", \"beach\", \"prayer\", \"attend\", \"sit\", \"public\", \"urge\", \"issue\", \"social_distance\", \"guideline\", \"party\", \"stay_home\", \"advice\", \"appeal\", \"encourage\", \"face_mask\", \"church\", \"violation\", \"ignore\", \"crowd\", \"kenyan\", \"limit\", \"people\", \"police\", \"arrest\", \"bar\", \"ban\", \"place\", \"follow\", \"stop\", \"hold\", \"safe\", \"breach\", \"aid\", \"president\", \"accuse\", \"diagnosis\", \"resign\", \"vote\", \"relief\", \"congress\", \"trump\", \"political\", \"leadership\", \"vow\", \"pledge\", \"election\", \"package\", \"donald_trump\", \"historic\", \"adviser\", \"criticism\", \"president_donald_trump\", \"president_trump\", \"opposition\", \"win\", \"speech\", \"republican\", \"stimulus_package\", \"pres_trump\", \"voter\", \"democrats\", \"joe_biden\", \"response\", \"american\", \"handle\", \"white_house\", \"analysis\", \"federal\", \"fail\", \"budget\", \"campaign\", \"biden\", \"respond\", \"administration\", \"bill\", \"attack\", \"slam\", \"poll\", \"war\", \"power\", \"call\", \"sign\", \"deal\", \"crisis\", \"house\", \"fund\", \"address\", \"pass\", \"pandemic\", \"plan\", \"push\", \"support\", \"seek\", \"ani\", \"newsalert\", \"justin\", \"live_updates\", \"kashmir\", \"district\", \"chhattisgarh\", \"lab\", \"positive\", \"itvideo\", \"jampk\", \"govt\", \"reports\", \"surveillance\", \"sample\", \"punjab\", \"lakh\", \"tamilnadu\", \"pune\", \"rapid\", \"live_update\", \"coronavirusoutbreak\", \"maharashtra\", \"cm\", \"tamil_nadu\", \"icmr\", \"bihar\", \"wrong_hit\", \"coronavirusindia\", \"west_bengal\", \"state\", \"test\", \"coronaviruspandemic\", \"conduct\", \"karnataka\", \"delhi\", \"covid\\u30fc\", \"covidindia\", \"indiafightscovid\", \"coronavirusupdates\", \"telangana\", \"indiafightscorona\", \"bengaluru\", \"rajasthan\", \"mumbai\", \"capacity\", \"centre\", \"view\", \"health_minister\", \"check\", \"person\", \"decide\", \"minister\", \"day\", \"complete\", \"suggest\", \"associate\", \"experts\", \"strain\", \"evidence\", \"common\", \"research\", \"high_risk\", \"widespread\", \"antibody\", \"viral\", \"pose\", \"infectious\", \"mutation\", \"potentially\", \"uk\", \"researchers\", \"image\", \"study_suggest\", \"antibody_test\", \"herd_immunity\", \"researcher\", \"expose\", \"possibly\", \"put\", \"similar\", \"quickly\", \"design\", \"variant\", \"risk\", \"find\", \"study\", \"expert\", \"scientist\", \"cure\", \"identify\", \"transmission\", \"severe\", \"illness\", \"flu\", \"science\", \"human\", \"model\", \"dangerous\", \"scientists\", \"reduce\", \"study_find\", \"immunity\", \"putt\", \"result\", \"claim\", \"show\", \"symptom\", \"infect\", \"prevent\", \"survey\", \"people\", \"cdc\", \"detect\", \"protect\", \"accord\", \"virus\", \"worry\", \"spread\", \"effect\", \"lead\", \"work\", \"reveal\", \"news\", \"panic_buy\", \"city\", \"major\", \"australian\", \"sydney\", \"nsw\", \"victoria\", \"gt\", \"provide_update\", \"north\", \"victorian\", \"venue\", \"wa\", \"premier\", \"bay_area\", \"community_transmission\", \"lock\", \"hotspot\", \"cluster\", \"town\", \"queue\", \"watch_live\", \"map\", \"update\", \"late\", \"mayor\", \"alert\", \"coverage\", \"follow_live_blog\", \"resident\", \"morning\", \"border\", \"dozen\", \"melbourne\", \"thread\", \"village\", \"details\", \"nyc\", \"latest\", \"live\", \"follow_live\", \"local\", \"follow\", \"link\", \"grow\", \"breaking\", \"reveal\", \"outbreak\", \"move\", \"county\", \"track\", \"child\", \"parent\", \"school\", \"student\", \"fee\", \"campus\", \"students\", \"learn\", \"internet\", \"alternative\", \"college\", \"online\", \"parents\", \"fan\", \"festival\", \"football\", \"cancel\", \"social_medium\", \"cancellation\", \"cinema\", \"scene\", \"education\", \"closure\", \"exam\", \"opt\", \"forget\", \"meal\", \"reopen_school\", \"kid\", \"scare\", \"amid\", \"university\", \"restaurant\", \"teacher\", \"sport\", \"class\", \"game\", \"photo\", \"film\", \"teach\", \"close\", \"shut\", \"schools\", \"star\", \"play\", \"popular\", \"open\", \"video\", \"concern\", \"fear\", \"pandemic\", \"ongoing\", \"force\", \"reopen\", \"turn\", \"postpone\", \"year\", \"grow\", \"introduce\", \"tough\", \"impose\", \"tighten\", \"anti\", \"protester\", \"nationwide\", \"movement\", \"enforce\", \"break\", \"traffic\", \"ease\", \"christmas\", \"regulation\", \"remain_open\", \"extension\", \"exit\", \"flout\", \"unlock\", \"mha\", \"relaxation\", \"president_cyril_ramaphosa\", \"ramaphosa\", \"restriction\", \"extend\", \"lockdown\", \"rule\", \"lift\", \"curfew\", \"curb\", \"level\", \"boris_johnson\", \"protest\", \"strict\", \"period\", \"relax\", \"pub\", \"coronaviruslockdown\", \"tier\", \"road\", \"street\", \"measure\", \"weekend\", \"place\", \"shop\", \"police\", \"sa\", \"decision\", \"requirement\", \"quarantine\", \"prison\", \"malaysian\", \"player\", \"tourist\", \"flight\", \"await\", \"route\", \"cruise_ship\", \"traveler\", \"sabah\", \"passenger\", \"isolate\", \"board\", \"undergo\", \"home\", \"station\", \"return_home\", \"migrant\", \"traveller\", \"guard\", \"holiday\", \"crow\", \"port\", \"airline\", \"camp\", \"plane\", \"isolation\", \"overseas\", \"travel\", \"stay\", \"train\", \"hotel\", \"airport\", \"screen\", \"contact\", \"hotel_quarantine\", \"brit\", \"jail\", \"arrival\", \"test_result\", \"mandatory\", \"self_isolate\", \"stick\", \"ship\", \"fly\", \"test_negative\", \"recently\", \"leave\", \"return\", \"send\", \"test_positive\", \"arrive\", \"day\", \"visit\", \"force\", \"staff\", \"canadian\", \"free\", \"require\", \"enter\", \"minister\", \"world_health_organisation\", \"animal\", \"declare\", \"vanguardnews\", \"emergency\", \"international\", \"epicenter\", \"ncov\", \"globally\", \"epicentre\", \"origin\", \"nigerian\", \"gravitas\", \"kano\", \"thecable\", \"countries\", \"buhari\", \"fct\", \"new_youtube\", \"palliative\", \"ptf\", \"chinese\", \"control\", \"deadly\", \"diagnose\", \"nigeria\", \"ncdc\", \"globe\", \"nstworld\", \"probe\", \"africa\", \"world_health_organization\", \"fg\", \"epidemic\", \"health_authority\", \"liveblog\", \"worsen\", \"halt\", \"global\", \"outbreak\", \"public_health\", \"warn\", \"panic\", \"kill\", \"spread\", \"virus\", \"official\", \"fmtnews\", \"malay_mail\", \"lead\", \"world\", \"chief\", \"country\", \"prepare\", \"fear\", \"head\", \"stop\", \"team\", \"fight\", \"dad\", \"doctor\", \"year_old_man\", \"dye\", \"hospitalize\", \"complication\", \"dedicate\", \"survivor\", \"icu\", \"intensive_care\", \"care_centre\", \"baby\", \"patient\", \"fire\", \"woman\", \"doctors\", \"husband\", \"care\", \"mum\", \"treatment\", \"relative\", \"ward\", \"hospitalise\", \"colleague\", \"bed\", \"medic\", \"son\", \"daughter\", \"wife\", \"pass_away\", \"hospital\", \"die\", \"man\", \"contract\", \"treat\", \"year_old\", \"nurse\", \"suspect\", \"victim\", \"admit\", \"mother\", \"young\", \"ventilator\", \"care_home\", \"sick\", \"family\", \"beat\", \"inside\", \"person\", \"battle\", \"recover\", \"test_positive\", \"body\", \"staff\", \"infect\", \"video\"], \"Freq\": [258530.0, 194610.0, 177010.0, 239851.0, 110141.0, 105169.0, 74385.0, 71985.0, 70666.0, 61739.0, 78198.0, 69448.0, 71352.0, 50475.0, 75099.0, 48935.0, 75469.0, 46187.0, 56030.0, 39954.0, 42056.0, 49706.0, 37333.0, 38072.0, 45162.0, 35279.0, 34970.0, 35147.0, 43518.0, 42175.0, 3950.7028192887824, 7110.842878319137, 4455.227518091892, 2389.631627803848, 2118.3704403720512, 27177.837802262053, 20665.458321895556, 5081.133682088218, 17902.182879496937, 4205.076150693697, 2995.4834627682512, 1566.348646493335, 1212.7591609304866, 980.5511405608546, 1338.3625901304238, 6536.655773405138, 7074.956184262011, 6527.156354390016, 3268.8556322034087, 9205.992516654223, 1838.6653249268124, 2145.8132064157344, 1161.0401018481593, 5776.702252195433, 1622.2896695823829, 13547.22700656466, 6318.169136057347, 8382.70953534371, 1914.6606770477829, 834.8933823289946, 51899.548043614406, 66594.09376900538, 25262.121634212588, 115816.91663235895, 14555.220913169198, 4668.436700431281, 12511.790333916439, 13271.743855126142, 5197.237692273034, 5362.949779536817, 2572.2315710945136, 2778.0523164221418, 35147.92805958434, 2499.272694423885, 19622.622261913693, 6239.711539399893, 2468.779986448537, 3824.0114520195543, 1496.4014099013318, 3621.856091738544, 994.9657676400553, 3778.8370698338535, 1041.2695093803984, 1075.150296019674, 1128.230195087872, 1525.7647583220373, 2074.6335018782993, 3983.2511492241492, 1691.780612854487, 1951.5333104222652, 1057.0805431453937, 1607.0786462562983, 1434.2866343959936, 2298.2466936975175, 1464.7793423713415, 10601.298139429286, 4942.077411115643, 2059.9518276679464, 1825.0450403023035, 1343.9378700245923, 1548.3519494148875, 1467.0380614806265, 21818.09723613874, 4133.4559699916035, 3637.6671255035394, 1739.2137141494725, 1450.0976681609886, 58654.41782991364, 1635.3126351223611, 8482.619614919928, 3005.2257749037312, 11294.724905979789, 39206.84629896954, 3929.0418906013083, 3804.8123395906314, 9205.409729891137, 8928.71663900372, 7248.229621695658, 7468.454734850949, 7876.153534076897, 10203.76357619512, 7833.2378710004805, 5282.014637063041, 11519.46745735365, 10480.456667082535, 4430.477532862585, 6209.218831424546, 4888.9975120474455, 4767.026680146054, 4413.5371395429465, 4149.267003756599, 4964.816950665891, 17275.148759453405, 16294.927132768582, 4730.100255564623, 5673.437830162104, 4730.100255564623, 4858.635588596269, 4001.360802202587, 8021.722479722896, 1353.5329417506516, 2543.881895478516, 6069.103116189957, 1061.8136206962174, 19309.360116997734, 24152.34792592059, 6878.316865015286, 27333.317993816832, 8846.584008221642, 8215.084328544417, 22198.61086383955, 5337.010567183618, 3887.3555502962563, 3784.527283870939, 1259.646263710144, 996.987104906343, 16870.54188504074, 1259.646263710144, 19994.50932698382, 5025.172672263361, 1184.760460987358, 7525.464324365927, 27240.549014324428, 24209.350551873755, 14089.707897364751, 7702.0606949659295, 31799.641392029556, 19813.442162191415, 10925.503307690025, 13466.032107524237, 6909.612424362122, 6860.433688245665, 8684.517718746956, 5776.266096587422, 5839.974913829195, 5078.8222025722225, 9807.239241740577, 1153.2827755539317, 1245.4153281122815, 1536.9877591498825, 2834.4308816480557, 8400.320968555423, 1365.729602629656, 3957.364110476884, 4127.538354614072, 17686.198354054046, 1748.3506738425674, 1721.2528642665823, 3621.351271734667, 2075.6922135204695, 19281.717381888055, 1169.5414612995228, 1285.5200862847398, 3076.143343065844, 6431.936080955856, 1952.1262018539765, 1099.0871564019612, 1198.807095641587, 1014.5419905248873, 1099.0871564019612, 2458.3132847333804, 1527.2325477025279, 1026.4650267383208, 940.8359484782075, 4164.391375637411, 1096.9193316358824, 7909.308659038571, 7457.317195311137, 6038.47588591255, 5899.735100883506, 4667.326721367697, 4341.069094072835, 4097.188807888968, 4415.859048502554, 3887.993717962362, 3584.4982507113273, 6402.670446613792, 3344.953614059618, 3788.273778722736, 3184.534581369785, 3635.4421327141795, 2704.3613956833265, 2011.741382921144, 3814.2876759156816, 15876.06467437823, 11109.018013770909, 9232.765678729691, 4675.998020432012, 63040.344197572056, 5802.182986409959, 8269.167570207655, 13954.288019249358, 7076.863948864305, 6456.866065765762, 6570.676865984899, 7062.773087884792, 4896.032234189013, 2713.044623821081, 30203.875583446046, 14695.569263125464, 2098.144876601089, 4179.179499366491, 3316.18107152904, 942.1333518275021, 948.5496970158846, 1796.5766527471096, 2447.8356893679365, 1305.7262458358457, 1553.8249264533038, 1302.5180732416545, 1002.0192402524058, 12054.17382724132, 1713.1641652981366, 1108.9583267254482, 6174.662852953458, 969.937514310493, 1073.668428189344, 2364.423201918964, 10346.356616266838, 37653.25234715817, 16565.933885538972, 4003.7993975507015, 1753.8010181578927, 5473.142445690301, 834.1248744897295, 1914.209647867456, 30246.651218035266, 142711.2802891396, 22329.950646435947, 12705.432863862148, 43547.734793552256, 26298.460145450546, 15324.371091586952, 3345.054624876761, 4752.373002861997, 4640.086962065303, 4000.59122495651, 3360.026096982987, 5236.8070645848775, 2411.476399967102, 2173.0022371322184, 2703.4201060385076, 4797.922329684744, 5394.160283291911, 1384.1238208737816, 1108.4198047321213, 1043.416418812543, 1402.0557894033204, 17447.805379241323, 30185.1067753794, 11192.910606531545, 15308.297384060714, 5811.078551603689, 2324.431420641476, 970.5677966612913, 1693.4502780083271, 1368.4333484104352, 1838.0267742777341, 2067.780121062451, 1535.4248053417657, 6043.073394454599, 4397.815281869408, 1458.0931910581294, 1405.418033502609, 9861.461943213282, 9136.337965800054, 7535.90977453871, 24368.424483610226, 2240.3753181592624, 2065.5386249962585, 3843.0450054867993, 27615.231535489856, 10286.225447756733, 5925.3948509795, 2300.8957119464562, 2216.8396094642426, 1636.2921283204219, 1514.1305927129383, 1487.23263991863, 3438.4549655390783, 9025.383910523533, 9695.591234315048, 1738.2801993321743, 9623.863360196892, 4396.694533836311, 3871.0637063142035, 21549.743180373338, 19314.971602379555, 7663.675050311675, 4740.764179996839, 9610.414383799738, 3769.0756353024512, 4658.949573580818, 11556.032969254706, 8893.135642618185, 4977.242014980132, 5286.568472114678, 11364.385055595258, 24308.834578875067, 2138.998165986287, 1229.167620789396, 4197.321702349204, 5279.706316462748, 3821.9605784071377, 9109.510261638825, 1935.0706299938806, 3266.20201877948, 4085.2736056500803, 7087.042116219626, 1268.3844546340897, 1370.348222630293, 2887.4794519364386, 1132.806257628149, 1638.1431737412006, 2882.997528068474, 1248.2157972282473, 1806.2153187898873, 1237.0109875583348, 2419.1184077340986, 1198.9146346806324, 1566.432391853761, 1161.9387627699214, 35277.22276475237, 7120.6565452293635, 9270.859520885562, 11049.062815500669, 1871.2032148753797, 1305.3603265448007, 5055.610123064499, 3810.755768737225, 12444.06161940477, 1981.0103496405218, 1834.2273429646684, 2098.660851174602, 1537.2998867119884, 1694.1672220907626, 1630.2998069722619, 3055.551596985126, 5751.428803566062, 3191.1297939910664, 10914.605099461722, 2243.202895916473, 4825.911524831293, 6105.500789135295, 3140.7081504764606, 6448.367965034617, 8345.342242150795, 7386.210534406288, 8096.595467478739, 16653.70861239088, 5503.802509860997, 8957.124850128015, 8418.173505005225, 5343.5737315812485, 5582.236177550384, 4892.0199018837775, 10011.497440066776, 5296.513530967616, 8132.450858422459, 4486.405791832946, 4360.911923529926, 4483.641383594138, 3809.1601890214065, 2926.806101695113, 1733.748382114823, 21330.191351643527, 11731.549958060124, 3612.3443650313307, 6509.296381065027, 2716.7217951888524, 1323.5311309894407, 1007.2989643537014, 2500.0032474244995, 1971.475360529802, 3372.405972863655, 974.1277580632393, 3134.678994448676, 1627.6005219853441, 998.4533093429116, 1284.831390317235, 1936.0927404866425, 1528.0869031139575, 1353.3852166508568, 1978.1096017878945, 1414.1990948500375, 1315.7911828549998, 1374.3936473014828, 5928.800270981939, 5277.5389208125325, 14470.38589077595, 3480.765246745831, 11227.347622445097, 7673.60572186025, 6658.566809372108, 6271.569402650049, 4634.017518777566, 2569.66278063447, 2321.9844403323523, 2255.642027751428, 1951.5726367555249, 1816.6763978409786, 2055.509083132306, 39347.68490174624, 9866.2224576598, 3628.929968176562, 8625.619342396516, 5987.402735428423, 4043.570046807339, 11413.106377671686, 74019.33542341365, 4742.376792659742, 15088.476034654896, 5196.822318839074, 5555.071346776066, 13407.801582604812, 10702.136856179448, 5089.568751833247, 5588.242553066528, 7836.144632683515, 5006.6407361070915, 4786.605067713693, 4230.890141542162, 11005.727020642726, 4257.953404707678, 1921.4916847515578, 21179.258698945865, 6187.338541215843, 1597.8601627306086, 1087.041070481515, 8120.106585619698, 2299.2497331035365, 9835.240888734206, 1357.673702136664, 4544.372939876043, 2504.4794787753576, 1847.0677110463917, 1155.826864360532, 2212.421763780843, 1137.7846889168554, 2783.005562187115, 1061.10544328123, 9721.349656245999, 1346.3973424843662, 5889.642646395179, 5699.072168271346, 27701.505121834958, 5358.526106771949, 3080.701457007779, 3091.977816660077, 2175.2097769282595, 4846.579378557626, 16694.650465227, 12045.40738058459, 9234.210919266729, 4430.481707387835, 1586.5838030783107, 1787.303004889213, 5178.104352335184, 22407.254265081105, 4421.460619665997, 18231.618285835204, 3731.347408945366, 40932.057901876055, 5179.231988300413, 7884.430668886673, 7754.752532885248, 16841.243140706876, 17843.711513796155, 20456.444045233577, 9369.527235094303, 8721.136555087176, 6531.267510610928, 5006.703685620256, 4571.436203041558, 16620.91847615983, 6122.317400574821, 4100.032767911082, 1207.3977870123167, 4264.290064024066, 3776.8512047796935, 1519.9132919545505, 2295.3357223061, 2006.2855453800066, 6617.222500551601, 6838.009905067104, 7565.435073567458, 6076.453350361456, 4318.686960788754, 2133.2116378309483, 2055.3494130501185, 1717.235368453913, 3962.440617270986, 9713.579192863222, 2921.4333380094836, 3075.024575933312, 2277.203423384537, 1091.13775275053, 2581.186081775447, 2006.2855453800066, 1244.728990674358, 1454.8503370007065, 2023.351238482654, 989.8101999535598, 1811.0966805184748, 177005.36886066073, 16683.848219475844, 10774.851982684118, 8988.287236000699, 6939.337457864074, 6652.420492575811, 6048.721599069653, 5343.695152766524, 3689.3895276286244, 3059.0254886495795, 3028.093919901031, 2871.302864520456, 3520.8658082399797, 2568.3868119484614, 2512.923309364857, 5023.713407091883, 7697.694195112976, 4312.287325875262, 9983.430465048836, 5678.609379905984, 3917.643172876536, 4265.35666984298, 3478.201575483361, 8419.27120518246, 2050.0852407871944, 2812.4115707403735, 4588.5533291879865, 2779.8527142328003, 6832.868989830705, 5933.570918707735, 7376.265077750202, 20205.577260923958, 7771.462232600746, 999.2200790255221, 1270.9181229852707, 4201.215208666858, 1368.5946925079902, 2734.9439466361478, 2019.771822659454, 1035.147093102844, 1534.757132615605, 3371.5257273186994, 1587.524934541672, 1808.7006149551864, 1735.723867610626, 1201.309533210459, 3142.491012575771, 1232.745670528116, 1533.634413425689, 1840.1367522728433, 1224.8866361987018, 4300.014497379493, 2142.1482143603325, 18528.234791188977, 17756.926707716466, 15659.687260952787, 13885.790940885008, 8844.781778160745, 6481.457883386897, 5399.156584307568, 4745.734015776271, 3964.3214595945146, 3452.3615089926743, 3552.2835168952265, 3213.222321540499, 2663.0899184815034, 2134.2891800309185, 2803.429817221043, 2384.655559382257, 6231.0915040355585, 59763.465198435464, 11354.059167623713, 4253.983010592925, 3484.9203655002475, 5325.057117773091, 8706.687317801037, 9488.099873982794, 5971.743371164889, 5917.8528500489065, 4022.702857470163, 3490.533961449829, 5314.916796676367, 10807.107594650619, 3829.5588603356955, 2542.395459607568, 1092.2721073757934, 3891.219382526265, 6457.838618708699, 4473.691101076462, 17907.97737334668, 2761.5105295347685, 1694.5632794872442, 1757.3248824312163, 1861.9275540045028, 5776.2696323522305, 2258.3166252295896, 4735.748320386379, 1193.5715366888712, 1446.8201099715652, 1571.2422351061061, 4779.7915505225, 8460.704509148787, 1315.7915003166063, 2946.492096106475, 1256.3331396328433, 1877.342684552145, 1171.549921620811, 1389.5639107946083, 1262.9396241532613, 1273.9504316872915, 2578.731124469867, 24702.7467025967, 14667.4967160816, 7511.572899715387, 7490.65236540073, 5694.789656600407, 4522.1386542261935, 4612.427276005241, 4592.607822443987, 4479.196504843476, 3876.9053327320253, 3844.973990883338, 3901.1291093068917, 3781.1113071859627, 3312.050906236277, 3174.4158120609, 3746.9778038304694, 3170.0114890472883, 3588.4221753404345, 14643.272939506733, 6611.989924185122, 8262.509973536246, 17008.394397816413, 6411.593227065771, 6882.855789522264, 5343.544896264844, 5542.840512630792, 22074.4669442237, 8948.483282906325, 5029.7368815449845, 5513.11133228891, 4539.755946280642, 1913.0967018371982, 5285.807078343429, 978.2754247018404, 4756.557845161909, 1330.365440881546, 8716.456318271636, 1103.066822841483, 3767.1403313404585, 25136.55305384228, 2548.195781655021, 1078.5542267783387, 22462.451665135653, 2500.284798440695, 1077.4400178663777, 2531.4826479756052, 2994.99355535142, 7159.906468261989, 998.3311851171401, 3119.784953491063, 2402.2344141881185, 10251.836198954024, 13098.639969014619, 16469.121927696928, 2035.6596821529185, 3133.155460434596, 2486.9142914971617, 2775.494399695085, 1164.348312999343, 2426.7470102512625, 1615.6029223435862, 74380.13012687478, 70616.33242227019, 9110.886273105865, 6131.4916425219, 4356.556845767877, 4365.470517063565, 3547.641175684123, 3402.7940171291807, 3611.151083665905, 3208.92166644795, 2980.508839495926, 2621.733569844454, 2683.015060002314, 2633.989867876026, 2590.535720309543, 4268.534341722951, 17408.40004048013, 4788.869903608781, 5327.032808085989, 4557.114449920873, 4844.580349206835, 3656.8336490563097, 4101.403004928787, 5251.266602072635, 3256.832649662277, 5265.823266522567, 1242.4348551608518, 3572.000208587449, 7659.074579251474, 3337.36772694736, 1588.7970899628876, 5144.037835576044, 2157.5015335571984, 1432.3754355361618, 2539.6172893710573, 995.5121006729487, 1122.8840192775683, 1192.1564662379756, 1650.2484542019588, 1278.1883761726747, 1500.5305849649494, 1309.47270705802, 988.8083154832318, 1067.0191426965946, 1016.7407537737186, 1096.068878518701, 3935.121906363777, 4443.492283250636, 1034.61751427963, 1735.1630666050385, 1604.4392554055605, 2629.0010919006154, 1563.09924673564, 12581.887503566863, 15978.471999690053, 22945.939406869074, 14884.637716234593, 18870.038011521243, 8361.85472664012, 4563.043119133919, 5112.753504690699, 3896.0164927570954, 3085.9757823329787, 2671.458398102155, 2636.8221746219515, 2578.722702977739, 3031.228203283625, 2357.4977917170836, 2255.823716339712, 2557.4940498769693, 6066.925596693727, 2654.698935127863, 2002.197176662092, 2353.028601590606, 9117.147858014883, 11603.134865868207, 9142.845701242131, 8593.135315685351, 13575.165009176571, 5725.03255201817, 3174.242287330917, 43500.86209607249, 4253.551702875327, 4459.1344486933085, 6423.343509280338, 9026.646757953706, 17075.658175740376, 5310.5151677873455, 10568.517351588574, 4752.98369950923, 5500.455748162655, 5993.183959606842, 4335.114422683548, 61739.78187137236, 1680.885471129852, 27351.666607840798, 8854.019034083185, 7858.817353931709, 1224.5160286994353, 4555.7870329749285, 4901.452996795987, 1478.6821785678603, 2088.680938252081, 2097.7179569140694, 2773.235101897706, 1238.071556692418, 1223.3864013666869, 2397.0692000924373, 1262.9233580128862, 1745.27422909652, 3413.733799566138, 5186.119084648623, 5748.6734963574045, 3702.9183967497684, 1248.238202687155, 8370.538535666805, 1938.440502996523, 46184.81349942473, 37330.79446534155, 4394.2503243918845, 3828.307030684858, 2436.6061567386364, 1234.6826746941722, 15295.154085415455, 3977.417838607668, 6743.875176508883, 2302.1805041415582, 2626.383548640394, 1787.0704404082164, 2206.162180857931, 2149.680814220503, 1999.440378964945, 6607.190269246307, 33606.41314926956, 4782.842126857388, 9322.814377173838, 17310.409247038882, 6772.115859827597, 6022.0433108825555, 13363.491346415423, 6249.098404765015, 15018.39538889206, 3772.955291380179, 3273.6600103053165, 3325.6228676117503, 14239.968231896404, 5090.984534894064, 27512.064485231764, 14541.25563229226, 1912.5680032454832, 1499.8153008716743, 1604.6589017420267, 6082.032467331713, 1028.5709053807216, 1039.60707389339, 1954.505443593624, 8473.570184027016, 1087.0625984978656, 3200.4888686739187, 1658.7361274541033, 1595.8299669318917, 8983.44116931231, 2915.7557210470663, 1227.221938608758, 987.7370818838473, 1057.26494351366, 3523.848606095111, 3611.0343373451933, 1561.617844542619, 981.1153807762461, 1197.4242836245521, 998.7732503965161, 1556.0997602862847, 4965.172213849641, 4539.176109260629, 71952.50785204602, 4532.554408153029, 4916.613072393899, 4210.298287583103, 3196.074401268851, 3389.2073502405533, 3287.674599924001, 2521.7645051447944, 2762.352978720972, 1628.9384724698978, 21375.954792187975, 9849.7803975568, 1624.5240050648304, 3544.8173262691816, 4694.786085289258, 1801.1027012675295, 12535.983813540359, 7132.675709737771, 10869.522368127387, 11616.670976435058, 68997.02192435335, 4261.06466274138, 7567.500749136917, 6112.933739167184, 3923.3579062537174, 3492.947334259639, 4085.589583389947, 3567.993280145786, 2892.4084527446475, 3873.274238869672, 8868.16141226273, 1623.5019908276258, 4268.23910491779, 1307.0936727227795, 7041.721672581652, 2739.6596095216187, 3629.967152878704, 10613.86247766878, 1326.7328097085974, 13301.151055228216, 5531.690251005419, 3501.221699305008, 964.4998386368422, 2790.939578317921, 1144.525261006841, 2147.2123104494403, 1507.8492952444751, 1034.3278812530841, 2059.9272571791385, 973.2283439638725, 1075.7882815564778, 32594.4210174627, 13891.416227968637, 194582.3871291535, 21502.672873139014, 9484.612100984243, 3894.004439021369, 5760.813515839963, 11192.125955584534, 7478.146938933164, 5785.907968655175, 5158.546648274875, 5522.961745678388, 3838.360217561551, 2595.6392716256196, 2526.902292175256, 2308.6896589995, 2560.7252503174986, 3988.926934452823, 12812.354756914523, 4183.136177979246, 5663.708894076751, 3283.0090661292516, 4286.78717873773, 3278.644813465736, 3184.813381200161, 1605.3452785261059, 50475.86672853649, 2940.3632637738338, 2327.695258925706, 3830.005954358004, 2589.159362260531, 6142.190630882492, 1933.283306437581, 979.3824887626484, 2708.8124264985017, 1530.008164005902, 1890.0752554627582, 6197.585568029701, 3632.7999781139415, 2695.5176415831716, 2874.997237940128, 30664.421407208807, 1374.902339993718, 1782.6090773971735, 2356.500626242255, 3009.0529858363725, 1171.0489712919905, 5707.8943236483765, 974.9508937908718, 1204.2859335803155, 3738.0503586936384, 1681.7902917892538, 1235.3070983827524, 5808.713109256297, 1449.1315557709777, 18117.46814336605, 6747.10334453001, 5247.008446583601, 4837.085911694257, 4623.261454306032, 4306.402413823998, 3981.7880821413555, 3373.551672265005, 3048.937340582363, 2982.463416005712, 3163.0509111056126, 2838.4365794229698, 2872.7814404542396, 3225.0932407104865, 2815.1707058211423, 2960.305441146829, 3132.0297463031757, 5864.108046403505, 3321.4804313466293, 13849.842185545102, 14406.007354503075, 8577.352067873784, 35180.21668344925, 5320.129763617916, 20481.72406080892, 5541.70951220675, 5859.676451431728, 5415.409055511115, 4365.121047200039, 4604.427175675981, 3683.763320289374, 3590.699825882063, 3609.534104512114, 1762.8686278621733, 2000.8502532485572, 8263.940138417238, 12299.47689496929, 12584.829270432583, 4569.021632418211, 1378.2632522377323, 4160.730881755315, 3215.571630220765, 1888.0627530654372, 1833.9247529775391, 6565.360385659444, 1100.8060017872558, 2061.7555033474423, 3512.202755702372, 1016.2153766499155, 2204.995628580006, 1020.7268766572403, 1884.6791280599432, 1072.6091267414758, 1024.1105016627341, 10723.835517411097, 9263.237390039687, 7635.713762397257, 3998.316881491621, 3021.577129905798, 2526.440004101899, 2362.8981288363743, 3190.7583801804785, 2568.1713791696534, 5065.286633223941, 4446.08325721861, 4241.937881887162, 3946.434631407386, 3003.531129876498, 2260.2615036697343, 2810.6645045633622, 4275.7741319420975, 20799.14290876925, 54428.99183837028, 8959.839014547091, 22904.885537188107, 2790.3627545304007, 7243.213261759998, 24164.721914233563, 25096.34666574614, 16885.416652414966, 5331.4651336561055, 6539.4192606173265, 8286.497638453862, 13422.840396793168, 5558.168009024177, 15436.09727506187, 5895.4026345717075, 7357.128636944949, 5020.171633150692, 5455.5313838575385, 5108.145883293527, 4721.284757665424, 1426.867172426928, 19049.66004474419, 1875.9042381753713, 2142.485853850846, 1869.3489525440073, 2346.792256028362, 1371.1472445603326, 2560.9315866529237, 2592.6154672045172, 1713.1146449964951, 961.4418926000739, 1932.716713647194, 48935.207238133306, 4316.655588253287, 12916.097788997811, 2981.5624146654563, 2131.5603777985725, 7438.064096387844, 2038.6938313542473, 11095.913478689035, 1083.807224385538, 2445.1215404988243, 1444.3479341105653, 1171.2110328037263, 3383.6199333891236, 992.0332255464398, 2579.504895941789, 2220.056733821989, 3729.9575242461956, 1114.3985573319037, 39953.373375559204, 34969.171200512006, 14091.679012222447, 11726.313446905218, 8481.44705937997, 8354.711537173596, 6810.941770987341, 5095.642030780391, 4362.542587672835, 4398.596658645338, 3433.877123229582, 3318.067077075482, 3090.817175188192, 2914.9170107465875, 2814.402631065671, 17110.388045465632, 3827.1942611114305, 4624.7540129274, 7698.090426431955, 8150.405134996081, 7827.011043848783, 20849.085950553646, 3615.240025697323, 5864.795544860451, 4456.501681722388, 3360.676433679349], \"Total\": [258530.0, 194610.0, 177010.0, 239851.0, 110141.0, 105169.0, 74385.0, 71985.0, 70666.0, 61739.0, 78198.0, 69448.0, 71352.0, 50475.0, 75099.0, 48935.0, 75469.0, 46187.0, 56030.0, 39954.0, 42056.0, 49706.0, 37333.0, 38072.0, 45162.0, 35279.0, 34970.0, 35147.0, 43518.0, 42175.0, 3950.7028192887824, 7110.842878319137, 4455.227518091892, 2389.631627803848, 2118.3704403720512, 27177.837802262053, 20665.458321895556, 5081.133682088218, 17902.182879496937, 4205.076150693697, 2995.4834627682512, 1566.348646493335, 1212.7591609304866, 980.5511405608546, 1338.3625901304238, 6537.78513295978, 7077.215438927508, 6529.358515896822, 3269.9613390797576, 9210.318387796517, 1839.7880441167288, 2148.0353140706397, 1165.5108960405644, 6363.969220609541, 1838.4461985028352, 16250.647112603168, 7667.469818273215, 11889.680357631609, 2764.8712325556994, 1211.4959945718442, 78198.00818906495, 110141.82856255764, 40586.492725799544, 258530.43693822008, 33155.519324169494, 8028.462797414268, 36406.854180619695, 43518.39507316141, 13035.545009449303, 21932.506960971703, 4253.847947957218, 16828.308661769897, 35147.92805958434, 2499.272694423885, 19622.622261913693, 6239.711539399893, 2468.779986448537, 3824.0114520195543, 1496.4014099013318, 3621.856091738544, 994.9657676400553, 3778.8370698338535, 1041.2695093803984, 1075.150296019674, 1128.230195087872, 1525.7647583220373, 2074.6335018782993, 3983.2511492241492, 1691.780612854487, 1951.5333104222652, 1057.0805431453937, 1607.0786462562983, 1434.2866343959936, 2298.2466936975175, 1464.7793423713415, 10602.40603817223, 4943.2001303055595, 2061.0723086349376, 1826.162337833923, 1345.0414868758592, 1550.5481138713817, 1469.2558872438544, 22008.708111448213, 4141.286165066529, 3645.3582535426176, 1750.2927015789141, 1455.5848024063096, 71352.33042005207, 1650.2451165871778, 10109.619558072047, 3253.4442176393495, 14424.893698446693, 75099.38761926499, 4764.968044965263, 4591.400361962096, 13837.149023586706, 14048.133736324215, 11392.651025857427, 12367.797819593761, 14807.092930473074, 21932.506960971703, 15404.816484291876, 8598.169406696357, 31332.909619545066, 28904.02683786241, 7398.879021747056, 19066.67902694826, 12841.434828163692, 18856.734577510804, 27080.130271045076, 18519.663215634388, 4964.816950665891, 17275.148759453405, 16294.927132768582, 4730.100255564623, 5673.437830162104, 4730.100255564623, 4858.635588596269, 4001.360802202587, 8021.722479722896, 1353.5329417506516, 2543.881895478516, 6069.103116189957, 1061.8136206962174, 19311.601078931715, 24155.72442395735, 6880.519026522092, 27342.255285995245, 8850.805972228363, 8219.566252412382, 22215.218293478745, 5342.6241631331995, 3892.9949253054124, 3790.8602298810197, 1265.2173082699494, 1005.7888287857231, 17667.24880092212, 1338.0325132932403, 22393.290436154835, 5823.8609023341305, 1416.3340642008122, 9395.955955953394, 35985.94953856551, 33544.38718616801, 18856.734577510804, 9792.60810004026, 49706.63456944668, 31332.909619545066, 17040.67164192045, 44913.711292768356, 14807.092930473074, 15404.816484291876, 75469.30678077592, 12345.039552860402, 19196.26497129395, 14048.133736324215, 9807.239241740577, 1153.2827755539317, 1245.4153281122815, 1536.9877591498825, 2834.4308816480557, 8400.320968555423, 1365.729602629656, 3957.364110476884, 4127.538354614072, 17686.198354054046, 1748.3506738425674, 1721.2528642665823, 3621.351271734667, 2075.6922135204695, 19281.717381888055, 1169.5414612995228, 1285.5200862847398, 3076.143343065844, 6431.936080955856, 1952.1262018539765, 1099.0871564019612, 1198.807095641587, 1014.5419905248873, 1099.0871564019612, 2458.3132847333804, 1527.2325477025279, 1026.4650267383208, 940.8359484782075, 4164.391375637411, 1096.9193316358824, 7911.524456524459, 7458.4376762781285, 6040.734605021836, 5901.993819992791, 4671.816053249539, 4342.1601572387135, 4097.188807888968, 4422.506440960219, 3889.1079268743233, 3584.4982507113273, 6440.334425357755, 3346.0461616648454, 3797.212158975692, 3186.7179473732967, 3644.1825135559984, 2704.3613956833265, 2011.741382921144, 3862.8468173714236, 17285.960770167094, 12862.586929936922, 11679.628306852179, 5198.736255126002, 239851.99188827496, 8009.415566932741, 14197.796893863571, 44913.711292768356, 16492.822157147915, 17756.12040932284, 24806.65940448362, 33696.91803408338, 12367.797819593761, 2713.044623821081, 30203.875583446046, 14695.569263125464, 2098.144876601089, 4179.179499366491, 3316.18107152904, 942.1333518275021, 948.5496970158846, 1796.5766527471096, 2447.8356893679365, 1305.7262458358457, 1553.8249264533038, 1302.5180732416545, 1002.0192402524058, 12059.762319981826, 1714.2846462651278, 1110.0422391084876, 6181.349720219161, 971.0552128585944, 1075.9038252855466, 2370.0699996921767, 10405.614633228248, 38072.697837863656, 16775.660399207445, 4108.669542317071, 1850.9061903124662, 5886.8949183489185, 955.5063396829461, 2270.924583519077, 43518.39507316141, 258530.43693822008, 41262.12146147119, 22076.089458511095, 110141.82856255764, 78198.00818906495, 40586.492725799544, 5767.451361893643, 12345.039552860402, 12524.517630951976, 10836.688555206965, 8028.462797414268, 33155.519324169494, 5766.45314374444, 4118.272153228725, 16250.647112603168, 4797.922329684744, 5394.160283291911, 1384.1238208737816, 1108.4198047321213, 1043.416418812543, 1402.0557894033204, 17447.805379241323, 30185.1067753794, 11192.910606531545, 15308.297384060714, 5811.078551603689, 2324.431420641476, 970.5677966612913, 1693.4502780083271, 1368.4333484104352, 1838.0267742777341, 2067.780121062451, 1535.4248053417657, 6043.073394454599, 4397.815281869408, 1458.0931910581294, 1405.418033502609, 9862.579641761384, 9137.407356664784, 7537.039134093352, 24372.82792534135, 2241.492615690882, 2066.667984550901, 3845.232092272706, 27632.688546143916, 10297.41008826612, 5937.709887916074, 2303.130307009695, 2220.112798961879, 1637.3615191851522, 1515.221655878817, 1488.3622672513786, 3511.558567788436, 9616.891295331427, 10836.695344371083, 1753.9982679910029, 11128.754339363926, 5024.852247544791, 4412.357660686229, 36406.854180619695, 34051.121957681506, 10975.184392971805, 5984.365222219676, 15770.664478016193, 5081.712203609688, 7547.16369281715, 45162.44611852427, 39145.52200438104, 8945.791896187897, 10554.904678059578, 239851.99188827496, 24308.834578875067, 2138.998165986287, 1229.167620789396, 4197.321702349204, 5279.706316462748, 3821.9605784071377, 9109.510261638825, 1935.0706299938806, 3266.20201877948, 4085.2736056500803, 7087.042116219626, 1268.3844546340897, 1370.348222630293, 2887.4794519364386, 1132.806257628149, 1638.1431737412006, 2882.997528068474, 1248.2157972282473, 1806.2153187898873, 1237.0109875583348, 2419.1184077340986, 1198.9146346806324, 1566.432391853761, 1161.9387627699214, 35279.42492625918, 7122.85870673617, 9274.076644906432, 11053.553692260333, 1872.320913423481, 1306.4896860994431, 5060.063178847974, 3826.4473371839313, 12686.801892939977, 1984.3992316387676, 1836.462740060871, 2105.416886581289, 1539.535283808191, 1698.624057738607, 1634.5662302479238, 3136.8654849193867, 6174.218785002737, 3316.9452909457527, 13419.945906282213, 2341.810002340926, 5690.2430628971915, 7903.0518044408545, 3525.752851104947, 8520.601942939096, 11778.769755752404, 10505.056751577853, 12701.02264315472, 33349.02942817717, 8014.694980829579, 17756.12040932284, 18898.79001746772, 8541.460572081722, 9667.528961805732, 7789.0466598633, 34051.121957681506, 10404.659414261143, 71352.33042005207, 8016.836368699496, 12071.849032970826, 4483.641383594138, 3809.1601890214065, 2926.806101695113, 1733.748382114823, 21330.191351643527, 11731.549958060124, 3612.3443650313307, 6509.296381065027, 2716.7217951888524, 1323.5311309894407, 1007.2989643537014, 2500.0032474244995, 1971.475360529802, 3372.405972863655, 974.1277580632393, 3134.678994448676, 1627.6005219853441, 998.4533093429116, 1284.831390317235, 1936.0927404866425, 1528.0869031139575, 1353.3852166508568, 1978.1096017878945, 1414.1990948500375, 1315.7911828549998, 1374.3936473014828, 5929.92814598377, 5278.659668845628, 14474.799269924204, 3481.8825442774505, 11240.458193707826, 7685.633651050657, 6668.671282081355, 6278.293890848626, 4636.276773443063, 2570.753843800349, 2323.113799886995, 2257.8271229618827, 1952.7022640882735, 1817.743003659894, 2060.0196269932253, 42056.26649022818, 10381.544044082993, 3733.9158701739766, 9643.258556447847, 6603.614024545673, 4379.794456736193, 14609.701516637944, 239851.99188827496, 6316.419841552184, 39145.52200438104, 7948.204797865306, 9478.429253029783, 44913.711292768356, 33349.02942817717, 8765.074672237066, 11435.21311505103, 33696.91803408338, 11358.740595255163, 16492.822157147915, 4230.890141542162, 11005.727020642726, 4257.953404707678, 1921.4916847515578, 21179.258698945865, 6187.338541215843, 1597.8601627306086, 1087.041070481515, 8120.106585619698, 2299.2497331035365, 9835.240888734206, 1357.673702136664, 4544.372939876043, 2504.4794787753576, 1847.0677110463917, 1155.826864360532, 2212.421763780843, 1137.7846889168554, 2783.005562187115, 1061.10544328123, 9721.349656245999, 1346.3973424843662, 5890.772273727928, 5700.189866819447, 27707.15191960817, 5359.648825961865, 3081.805073859046, 3093.10717621472, 2176.3108576816626, 4849.787551151818, 16707.076365887235, 12074.205737695307, 9240.847786316344, 4433.6481803928755, 1587.7134304110593, 1792.6656879219433, 5374.7550847709535, 27080.130271045076, 4927.413700145844, 24806.65940448362, 4163.470954390918, 75469.30678077592, 6595.684515820162, 12524.517630951976, 12841.434828163692, 41262.12146147119, 49706.63456944668, 75099.38761926499, 22076.089458511095, 35985.94953856551, 15559.031967112736, 11435.21311505103, 9671.096178888161, 16620.91847615983, 6122.317400574821, 4100.032767911082, 1207.3977870123167, 4264.290064024066, 3776.8512047796935, 1519.9132919545505, 2295.3357223061, 2006.2855453800066, 6617.222500551601, 6838.009905067104, 7565.435073567458, 6076.453350361456, 4318.686960788754, 2133.2116378309483, 2055.3494130501185, 1717.235368453913, 3962.440617270986, 9713.579192863222, 2921.4333380094836, 3075.024575933312, 2277.203423384537, 1091.13775275053, 2581.186081775447, 2006.2855453800066, 1244.728990674358, 1454.8503370007065, 2023.351238482654, 989.8101999535598, 1811.0966805184748, 177010.85953204863, 16686.10747414134, 10774.851982684118, 8992.790326910905, 6942.680084599958, 6654.648910399734, 6052.038719698699, 5350.419640965101, 3691.5916891354304, 3060.1459696165707, 3029.2112174326503, 2871.302864520456, 3529.537107304295, 2568.3868119484614, 2512.923309364857, 5064.433359792746, 8116.754076767701, 4561.588628610724, 18898.79001746772, 8120.137674046012, 6011.425361982844, 11358.740595255163, 7305.764558725455, 8419.27120518246, 2050.0852407871944, 2812.4115707403735, 4588.5533291879865, 2779.8527142328003, 6832.868989830705, 5933.570918707735, 7376.265077750202, 20205.577260923958, 7771.462232600746, 999.2200790255221, 1270.9181229852707, 4201.215208666858, 1368.5946925079902, 2734.9439466361478, 2019.771822659454, 1035.147093102844, 1534.757132615605, 3371.5257273186994, 1587.524934541672, 1808.7006149551864, 1735.723867610626, 1201.309533210459, 3142.491012575771, 1232.745670528116, 1533.634413425689, 1840.1367522728433, 1224.8866361987018, 4300.014497379493, 2142.1482143603325, 18529.325854354855, 17777.22845774943, 15661.918513769284, 13885.790940885008, 8854.691504941371, 6483.669297139595, 5400.240496690607, 4746.789506777951, 3966.545824478878, 3455.7118268240506, 3556.77432353386, 3218.6776373698926, 2664.2106665146, 2134.2891800309185, 2813.249385713952, 2396.9837877463146, 6740.432663179333, 105169.21040699855, 15640.846346361443, 4917.349415447224, 3774.067980532167, 7321.176381378446, 18519.663215634388, 26798.509121021678, 11764.60757765053, 15770.664478016193, 9467.552365893345, 4728.890654722245, 5314.916796676367, 10807.107594650619, 3829.5588603356955, 2542.395459607568, 1092.2721073757934, 3891.219382526265, 6457.838618708699, 4473.691101076462, 17907.97737334668, 2761.5105295347685, 1694.5632794872442, 1757.3248824312163, 1861.9275540045028, 5776.2696323522305, 2258.3166252295896, 4735.748320386379, 1193.5715366888712, 1446.8201099715652, 1571.2422351061061, 4779.7915505225, 8460.704509148787, 1315.7915003166063, 2946.492096106475, 1256.3331396328433, 1877.342684552145, 1171.549921620811, 1389.5639107946083, 1262.9396241532613, 1273.9504316872915, 2578.731124469867, 24706.063823225748, 14678.575703511042, 7512.678606591736, 7491.772846367721, 5695.906954132027, 4523.222566609233, 4615.7924380461645, 4595.8595234733575, 4481.307486846837, 3876.9053327320253, 3846.081889626282, 3904.48100190175, 3783.2507105706823, 3313.1588049792213, 3175.5365600939963, 3754.821170599408, 3177.810951431016, 3666.341344246042, 19988.18804593376, 7802.891209215504, 11414.675793644687, 33696.91803408338, 8676.138257643659, 9712.951021638162, 6979.819893403436, 7694.379871428375, 239851.99188827496, 33544.38718616801, 9671.096178888161, 14197.796893863571, 8470.495903103392, 1913.0967018371982, 5285.807078343429, 978.2754247018404, 4756.557845161909, 1330.365440881546, 8716.456318271636, 1103.066822841483, 3767.1403313404585, 25136.55305384228, 2548.195781655021, 1078.5542267783387, 22462.451665135653, 2500.284798440695, 1077.4400178663777, 2531.4826479756052, 2994.99355535142, 7159.906468261989, 998.3311851171401, 3119.784953491063, 2402.2344141881185, 10251.836198954024, 13098.639969014619, 16469.121927696928, 2035.6596821529185, 3133.155460434596, 2486.9142914971617, 2775.494399695085, 1164.348312999343, 2426.7470102512625, 1615.6029223435862, 74385.75162563956, 70666.7540657848, 9110.886273105865, 6137.1380268547255, 4356.556845767877, 4366.590998030557, 3547.641175684123, 3402.7940171291807, 3614.402820815023, 3208.92166644795, 2980.508839495926, 2621.733569844454, 2684.1426959675437, 2635.112587065942, 2591.6051111742736, 4367.907640995016, 19934.850343427082, 5527.663381551539, 7714.777748744333, 6596.596082890157, 12542.670775638791, 6640.52269616098, 12071.849032970826, 75469.30678077592, 5404.044960111718, 5265.823266522567, 1242.4348551608518, 3572.000208587449, 7659.074579251474, 3337.36772694736, 1588.7970899628876, 5144.037835576044, 2157.5015335571984, 1432.3754355361618, 2539.6172893710573, 995.5121006729487, 1122.8840192775683, 1192.1564662379756, 1650.2484542019588, 1278.1883761726747, 1500.5305849649494, 1309.47270705802, 988.8083154832318, 1067.0191426965946, 1016.7407537737186, 1096.068878518701, 3935.121906363777, 4443.492283250636, 1034.61751427963, 1735.1630666050385, 1604.4392554055605, 2629.0010919006154, 1563.09924673564, 12581.887503566863, 15979.601627022801, 22948.195156872738, 14885.74133308586, 19055.721992145824, 8377.541460177998, 4564.109724952835, 5121.489641172688, 3897.146120089844, 3087.1034182982085, 2672.5877576567977, 2637.891565486682, 2579.845422167655, 3038.8656454447764, 2359.743126230415, 2257.962498069173, 2564.233788529724, 6136.8004776976495, 2663.7005542363077, 2003.3248126273218, 2367.577990045768, 10914.561003649724, 14574.734060749786, 11258.247048431022, 10588.185716086653, 18077.789708420718, 6831.477928814582, 3337.913057169868, 105169.21040699855, 4950.760319813359, 5354.958413910028, 8894.004041496035, 15559.031967112736, 42175.319051597486, 7865.013202074288, 34733.239265822136, 8522.06348120805, 16167.489975473842, 33349.02942817717, 10791.79687244176, 61739.78187137236, 1680.885471129852, 27351.666607840798, 8854.019034083185, 7858.817353931709, 1224.5160286994353, 4555.7870329749285, 4901.452996795987, 1478.6821785678603, 2088.680938252081, 2097.7179569140694, 2773.235101897706, 1238.071556692418, 1223.3864013666869, 2397.0692000924373, 1262.9233580128862, 1745.27422909652, 3413.733799566138, 5186.119084648623, 5748.6734963574045, 3702.9183967497684, 1248.238202687155, 8370.538535666805, 1938.440502996523, 46187.06877135519, 37333.049737272006, 4395.367621923504, 3831.5846735005402, 2438.788283070394, 1235.7905734371163, 15316.910210745666, 3982.9024418580016, 6790.406923712538, 2304.4362541452206, 2635.4046363622324, 1789.3291595175015, 2224.1642182684386, 2168.681689538225, 2012.6837811801474, 7133.330574693675, 45162.44611852427, 5329.918702630285, 12671.365456688894, 26798.509121021678, 9834.284966448078, 9590.036591028342, 33155.519324169494, 10791.79687244176, 69448.50770822933, 6184.948758182743, 5463.613241493584, 6844.317041463836, 14239.968231896404, 5090.984534894064, 27512.064485231764, 14541.25563229226, 1912.5680032454832, 1499.8153008716743, 1604.6589017420267, 6082.032467331713, 1028.5709053807216, 1039.60707389339, 1954.505443593624, 8473.570184027016, 1087.0625984978656, 3200.4888686739187, 1658.7361274541033, 1595.8299669318917, 8983.44116931231, 2915.7557210470663, 1227.221938608758, 987.7370818838473, 1057.26494351366, 3523.848606095111, 3611.0343373451933, 1561.617844542619, 981.1153807762461, 1197.4242836245521, 998.7732503965161, 1556.0997602862847, 4966.301573404283, 4540.24550012536, 71985.25927913065, 4533.646955758256, 4923.061107470954, 4219.250052421643, 3197.1886101808122, 3392.4071676973, 3289.8567262557585, 2529.607871913733, 2776.536799877396, 1630.0526813818587, 22103.434794478046, 10076.728939843431, 1625.5933959295608, 3702.752853904679, 5175.586991487519, 1826.640338419267, 19196.26497129395, 10493.35214341712, 18067.504104573032, 20435.48759776867, 239851.99188827496, 5459.252396481361, 13683.602605102567, 17040.67164192045, 9478.429253029783, 5570.748935179921, 44913.711292768356, 9590.036591028342, 2892.4084527446475, 3873.274238869672, 8868.16141226273, 1623.5019908276258, 4268.23910491779, 1307.0936727227795, 7041.721672581652, 2739.6596095216187, 3629.967152878704, 10613.86247766878, 1326.7328097085974, 13301.151055228216, 5531.690251005419, 3501.221699305008, 964.4998386368422, 2790.939578317921, 1144.525261006841, 2147.2123104494403, 1507.8492952444751, 1034.3278812530841, 2059.9272571791385, 973.2283439638725, 1075.7882815564778, 32595.524634313966, 13892.508775573864, 194610.48466705644, 21507.101021224433, 9486.833015367129, 3895.0710448402842, 5762.988613581042, 11197.58869361067, 7481.515096502913, 5788.153407035007, 5160.781243338114, 5530.779739780066, 3841.6727120676514, 2596.768898958368, 2527.9577831769366, 2309.7451500011803, 2570.8894863092814, 4054.040328677568, 19066.67902694826, 6246.666940753952, 18519.663215634388, 5476.999366447786, 15640.846346361443, 6468.654978122589, 8598.169406696357, 1605.3452785261059, 50475.86672853649, 2940.3632637738338, 2327.695258925706, 3830.005954358004, 2589.159362260531, 6142.190630882492, 1933.283306437581, 979.3824887626484, 2708.8124264985017, 1530.008164005902, 1890.0752554627582, 6197.585568029701, 3632.7999781139415, 2695.5176415831716, 2874.997237940128, 30664.421407208807, 1374.902339993718, 1782.6090773971735, 2356.500626242255, 3009.0529858363725, 1171.0489712919905, 5707.8943236483765, 974.9508937908718, 1204.2859335803155, 3738.0503586936384, 1681.7902917892538, 1235.3070983827524, 5808.713109256297, 1449.1315557709777, 18118.590862555968, 6765.177381853987, 5253.717420291098, 4840.36355450994, 4626.61334690089, 4309.708257067549, 3988.34336777272, 3373.551672265005, 3048.937340582363, 2982.463416005712, 3165.2581448081464, 2838.4365794229698, 2873.898737985859, 3230.672812032933, 2816.300065375785, 2967.0092263365455, 3145.261912807742, 6139.428558481451, 3367.4201509932705, 16102.712427251432, 17013.853974046688, 9874.751356445197, 56030.43199355755, 7403.210927959837, 75469.30678077592, 10748.818699590647, 13683.602605102567, 13888.684291527185, 8432.00781610938, 12701.02264315472, 5729.357684316903, 5908.176825810819, 12071.849032970826, 1762.8686278621733, 2000.8502532485572, 8263.940138417238, 12299.47689496929, 12584.829270432583, 4569.021632418211, 1378.2632522377323, 4160.730881755315, 3215.571630220765, 1888.0627530654372, 1833.9247529775391, 6565.360385659444, 1100.8060017872558, 2061.7555033474423, 3512.202755702372, 1016.2153766499155, 2204.995628580006, 1020.7268766572403, 1884.6791280599432, 1072.6091267414758, 1024.1105016627341, 10724.891008412777, 9264.354687571307, 7636.769253398937, 3999.4179622450242, 3022.6944274374173, 2527.5607521349953, 2364.0154263679938, 3192.9656138830123, 2570.426651100113, 5073.155338157023, 4451.545995244747, 4248.493167518526, 3964.1405392555816, 3018.826796349681, 2270.1836408599893, 2829.495546088426, 4398.006578596162, 24095.36825841669, 69448.50770822933, 10360.185608321362, 29191.510119842504, 2875.6332995930397, 8554.270388032826, 34733.239265822136, 42175.319051597486, 28904.02683786241, 6736.280739709317, 9258.958367131982, 16167.489975473842, 39145.52200438104, 8749.470270951504, 75099.38761926499, 11400.479504734192, 20435.48759776867, 8267.381875123257, 11764.60757765053, 10404.659414261143, 34051.121957681506, 1426.867172426928, 19049.66004474419, 1875.9042381753713, 2142.485853850846, 1869.3489525440073, 2346.792256028362, 1371.1472445603326, 2560.9315866529237, 2592.6154672045172, 1713.1146449964951, 961.4418926000739, 1932.716713647194, 48935.207238133306, 4316.655588253287, 12916.097788997811, 2981.5624146654563, 2131.5603777985725, 7438.064096387844, 2038.6938313542473, 11095.913478689035, 1083.807224385538, 2445.1215404988243, 1444.3479341105653, 1171.2110328037263, 3383.6199333891236, 992.0332255464398, 2579.504895941789, 2220.056733821989, 3729.9575242461956, 1114.3985573319037, 39954.47699241047, 34970.30056006665, 14107.277936989902, 11737.567200263285, 8482.53097176301, 8356.967287177258, 6813.123897319099, 5096.756239692352, 4363.6602862209365, 4407.4983964593475, 3434.9465140943125, 3319.1949520773132, 3090.817175188192, 2916.046638079336, 2819.727330388828, 18019.262519558924, 4075.9783082898966, 5305.531846387302, 12542.670775638791, 13721.004844030615, 13035.545009449303, 56030.43199355755, 4292.322329858722, 13888.684291527185, 18077.789708420718, 10493.35214341712], \"Category\": [\"Default\", \"Default\", \"Default\", \"Default\", \"Default\", \"Default\", \"Default\", \"Default\", \"Default\", \"Default\", \"Default\", \"Default\", \"Default\", \"Default\", \"Default\", \"Default\", \"Default\", \"Default\", \"Default\", \"Default\", \"Default\", \"Default\", \"Default\", \"Default\", \"Default\", \"Default\", \"Default\", \"Default\", \"Default\", \"Default\", \"Topic1\", \"Topic1\", \"Topic1\", \"Topic1\", \"Topic1\", \"Topic1\", \"Topic1\", \"Topic1\", \"Topic1\", \"Topic1\", \"Topic1\", \"Topic1\", \"Topic1\", \"Topic1\", \"Topic1\", \"Topic1\", \"Topic1\", \"Topic1\", \"Topic1\", \"Topic1\", \"Topic1\", \"Topic1\", \"Topic1\", \"Topic1\", \"Topic1\", \"Topic1\", \"Topic1\", \"Topic1\", \"Topic1\", \"Topic1\", \"Topic1\", \"Topic1\", \"Topic1\", \"Topic1\", \"Topic1\", \"Topic1\", \"Topic1\", \"Topic1\", \"Topic1\", \"Topic1\", \"Topic1\", \"Topic1\", \"Topic2\", \"Topic2\", \"Topic2\", \"Topic2\", \"Topic2\", \"Topic2\", \"Topic2\", \"Topic2\", \"Topic2\", \"Topic2\", \"Topic2\", \"Topic2\", \"Topic2\", \"Topic2\", \"Topic2\", \"Topic2\", \"Topic2\", \"Topic2\", \"Topic2\", \"Topic2\", \"Topic2\", \"Topic2\", \"Topic2\", \"Topic2\", \"Topic2\", \"Topic2\", \"Topic2\", \"Topic2\", \"Topic2\", \"Topic2\", \"Topic2\", \"Topic2\", \"Topic2\", \"Topic2\", \"Topic2\", \"Topic2\", \"Topic2\", \"Topic2\", \"Topic2\", \"Topic2\", \"Topic2\", \"Topic2\", \"Topic2\", \"Topic2\", \"Topic2\", \"Topic2\", \"Topic2\", \"Topic2\", \"Topic2\", \"Topic2\", \"Topic2\", \"Topic2\", \"Topic2\", \"Topic2\", \"Topic2\", \"Topic2\", \"Topic2\", \"Topic2\", \"Topic2\", \"Topic3\", \"Topic3\", \"Topic3\", \"Topic3\", \"Topic3\", \"Topic3\", \"Topic3\", \"Topic3\", \"Topic3\", \"Topic3\", \"Topic3\", \"Topic3\", \"Topic3\", \"Topic3\", \"Topic3\", \"Topic3\", \"Topic3\", \"Topic3\", \"Topic3\", \"Topic3\", \"Topic3\", \"Topic3\", \"Topic3\", \"Topic3\", \"Topic3\", \"Topic3\", \"Topic3\", \"Topic3\", \"Topic3\", \"Topic3\", \"Topic3\", \"Topic3\", \"Topic3\", \"Topic3\", \"Topic3\", \"Topic3\", \"Topic3\", \"Topic3\", \"Topic3\", \"Topic3\", \"Topic3\", \"Topic3\", \"Topic3\", \"Topic3\", \"Topic3\", \"Topic4\", \"Topic4\", \"Topic4\", \"Topic4\", \"Topic4\", \"Topic4\", \"Topic4\", \"Topic4\", \"Topic4\", \"Topic4\", \"Topic4\", \"Topic4\", \"Topic4\", \"Topic4\", \"Topic4\", \"Topic4\", \"Topic4\", \"Topic4\", \"Topic4\", \"Topic4\", \"Topic4\", \"Topic4\", \"Topic4\", \"Topic4\", \"Topic4\", \"Topic4\", \"Topic4\", \"Topic4\", \"Topic4\", \"Topic4\", \"Topic4\", \"Topic4\", \"Topic4\", \"Topic4\", \"Topic4\", \"Topic4\", \"Topic4\", \"Topic4\", \"Topic4\", \"Topic4\", \"Topic4\", \"Topic4\", \"Topic4\", \"Topic4\", \"Topic4\", \"Topic4\", \"Topic4\", \"Topic4\", \"Topic4\", \"Topic4\", \"Topic4\", \"Topic4\", \"Topic4\", \"Topic4\", \"Topic4\", \"Topic4\", \"Topic4\", \"Topic4\", \"Topic4\", \"Topic4\", \"Topic4\", \"Topic5\", \"Topic5\", \"Topic5\", \"Topic5\", \"Topic5\", \"Topic5\", \"Topic5\", \"Topic5\", \"Topic5\", \"Topic5\", \"Topic5\", \"Topic5\", \"Topic5\", \"Topic5\", \"Topic5\", \"Topic5\", \"Topic5\", \"Topic5\", \"Topic5\", \"Topic5\", \"Topic5\", \"Topic5\", \"Topic5\", \"Topic5\", \"Topic5\", \"Topic5\", \"Topic5\", \"Topic5\", \"Topic5\", \"Topic5\", \"Topic5\", \"Topic5\", \"Topic5\", \"Topic5\", \"Topic5\", \"Topic5\", \"Topic5\", \"Topic5\", \"Topic5\", \"Topic5\", \"Topic5\", \"Topic5\", \"Topic5\", \"Topic5\", \"Topic5\", \"Topic6\", \"Topic6\", \"Topic6\", \"Topic6\", \"Topic6\", \"Topic6\", \"Topic6\", \"Topic6\", \"Topic6\", \"Topic6\", \"Topic6\", \"Topic6\", \"Topic6\", \"Topic6\", \"Topic6\", \"Topic6\", \"Topic6\", \"Topic6\", \"Topic6\", \"Topic6\", \"Topic6\", \"Topic6\", \"Topic6\", \"Topic6\", \"Topic6\", \"Topic6\", \"Topic6\", \"Topic6\", \"Topic6\", \"Topic6\", \"Topic6\", \"Topic6\", \"Topic6\", \"Topic6\", \"Topic6\", \"Topic6\", \"Topic6\", \"Topic6\", \"Topic6\", \"Topic6\", \"Topic6\", \"Topic6\", \"Topic6\", \"Topic6\", \"Topic6\", \"Topic6\", \"Topic6\", \"Topic6\", \"Topic6\", \"Topic6\", \"Topic6\", \"Topic6\", \"Topic6\", \"Topic6\", \"Topic6\", \"Topic6\", \"Topic7\", \"Topic7\", \"Topic7\", \"Topic7\", \"Topic7\", \"Topic7\", \"Topic7\", \"Topic7\", \"Topic7\", \"Topic7\", \"Topic7\", \"Topic7\", \"Topic7\", \"Topic7\", \"Topic7\", \"Topic7\", \"Topic7\", \"Topic7\", \"Topic7\", \"Topic7\", \"Topic7\", \"Topic7\", \"Topic7\", \"Topic7\", \"Topic7\", \"Topic7\", \"Topic7\", \"Topic7\", \"Topic7\", \"Topic7\", \"Topic7\", \"Topic7\", \"Topic7\", \"Topic7\", \"Topic7\", \"Topic7\", \"Topic7\", \"Topic7\", \"Topic7\", \"Topic7\", \"Topic7\", \"Topic7\", \"Topic7\", \"Topic7\", \"Topic7\", \"Topic7\", \"Topic7\", \"Topic7\", \"Topic7\", \"Topic7\", \"Topic7\", \"Topic7\", \"Topic7\", \"Topic7\", \"Topic7\", \"Topic7\", \"Topic7\", \"Topic7\", \"Topic7\", \"Topic7\", \"Topic7\", \"Topic7\", \"Topic7\", \"Topic8\", \"Topic8\", \"Topic8\", \"Topic8\", \"Topic8\", \"Topic8\", \"Topic8\", \"Topic8\", \"Topic8\", \"Topic8\", \"Topic8\", \"Topic8\", \"Topic8\", \"Topic8\", \"Topic8\", \"Topic8\", \"Topic8\", \"Topic8\", \"Topic8\", \"Topic8\", \"Topic8\", \"Topic8\", \"Topic8\", \"Topic8\", \"Topic8\", \"Topic8\", \"Topic8\", \"Topic8\", \"Topic8\", \"Topic8\", \"Topic8\", \"Topic8\", \"Topic8\", \"Topic8\", \"Topic8\", \"Topic8\", \"Topic8\", \"Topic8\", \"Topic8\", \"Topic8\", \"Topic8\", \"Topic8\", \"Topic8\", \"Topic8\", \"Topic8\", \"Topic8\", \"Topic8\", \"Topic8\", \"Topic8\", \"Topic8\", \"Topic8\", \"Topic8\", \"Topic8\", \"Topic8\", \"Topic8\", \"Topic8\", \"Topic8\", \"Topic8\", \"Topic8\", \"Topic8\", \"Topic9\", \"Topic9\", \"Topic9\", \"Topic9\", \"Topic9\", \"Topic9\", \"Topic9\", \"Topic9\", \"Topic9\", \"Topic9\", \"Topic9\", \"Topic9\", \"Topic9\", \"Topic9\", \"Topic9\", \"Topic9\", \"Topic9\", \"Topic9\", \"Topic9\", \"Topic9\", \"Topic9\", \"Topic9\", \"Topic9\", \"Topic9\", \"Topic9\", \"Topic9\", \"Topic9\", \"Topic9\", \"Topic9\", \"Topic9\", \"Topic9\", \"Topic9\", \"Topic9\", \"Topic9\", \"Topic9\", \"Topic9\", \"Topic9\", \"Topic9\", \"Topic9\", \"Topic9\", \"Topic9\", \"Topic9\", \"Topic9\", \"Topic9\", \"Topic9\", \"Topic9\", \"Topic9\", \"Topic9\", \"Topic9\", \"Topic9\", \"Topic9\", \"Topic9\", \"Topic9\", \"Topic10\", \"Topic10\", \"Topic10\", \"Topic10\", \"Topic10\", \"Topic10\", \"Topic10\", \"Topic10\", \"Topic10\", \"Topic10\", \"Topic10\", \"Topic10\", \"Topic10\", \"Topic10\", \"Topic10\", \"Topic10\", \"Topic10\", \"Topic10\", \"Topic10\", \"Topic10\", \"Topic10\", \"Topic10\", \"Topic10\", \"Topic10\", \"Topic10\", \"Topic10\", \"Topic10\", \"Topic10\", \"Topic10\", \"Topic10\", \"Topic10\", \"Topic10\", \"Topic10\", \"Topic10\", \"Topic10\", \"Topic10\", \"Topic10\", \"Topic10\", \"Topic10\", \"Topic10\", \"Topic10\", \"Topic10\", \"Topic10\", \"Topic10\", \"Topic10\", \"Topic10\", \"Topic10\", \"Topic10\", \"Topic10\", \"Topic10\", \"Topic10\", \"Topic10\", \"Topic10\", \"Topic11\", \"Topic11\", \"Topic11\", \"Topic11\", \"Topic11\", \"Topic11\", \"Topic11\", \"Topic11\", \"Topic11\", \"Topic11\", \"Topic11\", \"Topic11\", \"Topic11\", \"Topic11\", \"Topic11\", \"Topic11\", \"Topic11\", \"Topic11\", \"Topic11\", \"Topic11\", \"Topic11\", \"Topic11\", \"Topic11\", \"Topic11\", \"Topic11\", \"Topic11\", \"Topic11\", \"Topic11\", \"Topic11\", \"Topic11\", \"Topic11\", \"Topic11\", \"Topic11\", \"Topic11\", \"Topic11\", \"Topic11\", \"Topic11\", \"Topic11\", \"Topic11\", \"Topic11\", \"Topic11\", \"Topic11\", \"Topic11\", \"Topic11\", \"Topic11\", \"Topic11\", \"Topic11\", \"Topic11\", \"Topic11\", \"Topic11\", \"Topic11\", \"Topic11\", \"Topic11\", \"Topic11\", \"Topic11\", \"Topic11\", \"Topic11\", \"Topic11\", \"Topic12\", \"Topic12\", \"Topic12\", \"Topic12\", \"Topic12\", \"Topic12\", \"Topic12\", \"Topic12\", \"Topic12\", \"Topic12\", \"Topic12\", \"Topic12\", \"Topic12\", \"Topic12\", \"Topic12\", \"Topic12\", \"Topic12\", \"Topic12\", \"Topic12\", \"Topic12\", \"Topic12\", \"Topic12\", \"Topic12\", \"Topic12\", \"Topic12\", \"Topic12\", \"Topic12\", \"Topic12\", \"Topic12\", \"Topic12\", \"Topic12\", \"Topic12\", \"Topic12\", \"Topic12\", \"Topic12\", \"Topic12\", \"Topic12\", \"Topic12\", \"Topic12\", \"Topic12\", \"Topic12\", \"Topic12\", \"Topic12\", \"Topic12\", \"Topic12\", \"Topic12\", \"Topic12\", \"Topic12\", \"Topic12\", \"Topic12\", \"Topic12\", \"Topic12\", \"Topic12\", \"Topic12\", \"Topic12\", \"Topic12\", \"Topic12\", \"Topic12\", \"Topic12\", \"Topic12\", \"Topic12\", \"Topic13\", \"Topic13\", \"Topic13\", \"Topic13\", \"Topic13\", \"Topic13\", \"Topic13\", \"Topic13\", \"Topic13\", \"Topic13\", \"Topic13\", \"Topic13\", \"Topic13\", \"Topic13\", \"Topic13\", \"Topic13\", \"Topic13\", \"Topic13\", \"Topic13\", \"Topic13\", \"Topic13\", \"Topic13\", \"Topic13\", \"Topic13\", \"Topic13\", \"Topic13\", \"Topic13\", \"Topic13\", \"Topic13\", \"Topic13\", \"Topic13\", \"Topic13\", \"Topic13\", \"Topic13\", \"Topic13\", \"Topic13\", \"Topic13\", \"Topic13\", \"Topic13\", \"Topic13\", \"Topic13\", \"Topic13\", \"Topic13\", \"Topic13\", \"Topic13\", \"Topic13\", \"Topic13\", \"Topic13\", \"Topic13\", \"Topic13\", \"Topic13\", \"Topic13\", \"Topic13\", \"Topic13\", \"Topic13\", \"Topic14\", \"Topic14\", \"Topic14\", \"Topic14\", \"Topic14\", \"Topic14\", \"Topic14\", \"Topic14\", \"Topic14\", \"Topic14\", \"Topic14\", \"Topic14\", \"Topic14\", \"Topic14\", \"Topic14\", \"Topic14\", \"Topic14\", \"Topic14\", \"Topic14\", \"Topic14\", \"Topic14\", \"Topic14\", \"Topic14\", \"Topic14\", \"Topic14\", \"Topic14\", \"Topic14\", \"Topic14\", \"Topic14\", \"Topic14\", \"Topic14\", \"Topic14\", \"Topic14\", \"Topic14\", \"Topic14\", \"Topic14\", \"Topic14\", \"Topic14\", \"Topic14\", \"Topic14\", \"Topic14\", \"Topic14\", \"Topic14\", \"Topic14\", \"Topic14\", \"Topic14\", \"Topic14\", \"Topic14\", \"Topic14\", \"Topic14\", \"Topic14\", \"Topic14\", \"Topic14\", \"Topic14\", \"Topic14\", \"Topic14\", \"Topic14\", \"Topic14\", \"Topic14\", \"Topic14\", \"Topic14\", \"Topic14\", \"Topic14\", \"Topic14\", \"Topic14\", \"Topic14\", \"Topic14\", \"Topic14\", \"Topic15\", \"Topic15\", \"Topic15\", \"Topic15\", \"Topic15\", \"Topic15\", \"Topic15\", \"Topic15\", \"Topic15\", \"Topic15\", \"Topic15\", \"Topic15\", \"Topic15\", \"Topic15\", \"Topic15\", \"Topic15\", \"Topic15\", \"Topic15\", \"Topic15\", \"Topic15\", \"Topic15\", \"Topic15\", \"Topic15\", \"Topic15\", \"Topic15\", \"Topic15\", \"Topic15\", \"Topic15\", \"Topic15\", \"Topic15\", \"Topic15\", \"Topic15\", \"Topic15\", \"Topic15\", \"Topic15\", \"Topic15\", \"Topic15\", \"Topic15\", \"Topic15\", \"Topic15\", \"Topic15\", \"Topic15\", \"Topic15\", \"Topic15\", \"Topic15\", \"Topic15\", \"Topic15\", \"Topic15\", \"Topic15\", \"Topic15\", \"Topic15\", \"Topic15\", \"Topic16\", \"Topic16\", \"Topic16\", \"Topic16\", \"Topic16\", \"Topic16\", \"Topic16\", \"Topic16\", \"Topic16\", \"Topic16\", \"Topic16\", \"Topic16\", \"Topic16\", \"Topic16\", \"Topic16\", \"Topic16\", \"Topic16\", \"Topic16\", \"Topic16\", \"Topic16\", \"Topic16\", \"Topic16\", \"Topic16\", \"Topic16\", \"Topic16\", \"Topic16\", \"Topic16\", \"Topic16\", \"Topic16\", \"Topic16\", \"Topic16\", \"Topic16\", \"Topic16\", \"Topic16\", \"Topic16\", \"Topic16\", \"Topic16\", \"Topic16\", \"Topic16\", \"Topic16\", \"Topic16\", \"Topic16\", \"Topic16\", \"Topic16\", \"Topic16\", \"Topic16\", \"Topic16\", \"Topic16\", \"Topic16\", \"Topic16\", \"Topic16\", \"Topic16\", \"Topic16\", \"Topic16\", \"Topic16\", \"Topic16\", \"Topic16\", \"Topic16\", \"Topic17\", \"Topic17\", \"Topic17\", \"Topic17\", \"Topic17\", \"Topic17\", \"Topic17\", \"Topic17\", \"Topic17\", \"Topic17\", \"Topic17\", \"Topic17\", \"Topic17\", \"Topic17\", \"Topic17\", \"Topic17\", \"Topic17\", \"Topic17\", \"Topic17\", \"Topic17\", \"Topic17\", \"Topic17\", \"Topic17\", \"Topic17\", \"Topic17\", \"Topic17\", \"Topic17\", \"Topic17\", \"Topic17\", \"Topic17\", \"Topic17\", \"Topic17\", \"Topic17\", \"Topic17\", \"Topic17\", \"Topic17\", \"Topic17\", \"Topic17\", \"Topic17\", \"Topic17\", \"Topic17\", \"Topic17\", \"Topic17\", \"Topic17\", \"Topic17\", \"Topic17\", \"Topic17\", \"Topic17\", \"Topic18\", \"Topic18\", \"Topic18\", \"Topic18\", \"Topic18\", \"Topic18\", \"Topic18\", \"Topic18\", \"Topic18\", \"Topic18\", \"Topic18\", \"Topic18\", \"Topic18\", \"Topic18\", \"Topic18\", \"Topic18\", \"Topic18\", \"Topic18\", \"Topic18\", \"Topic18\", \"Topic18\", \"Topic18\", \"Topic18\", \"Topic18\", \"Topic18\", \"Topic18\", \"Topic18\", \"Topic18\", \"Topic18\", \"Topic18\", \"Topic18\", \"Topic18\", \"Topic18\", \"Topic18\", \"Topic18\", \"Topic18\", \"Topic18\", \"Topic18\", \"Topic18\", \"Topic18\", \"Topic18\", \"Topic18\", \"Topic18\", \"Topic18\", \"Topic18\", \"Topic18\", \"Topic18\", \"Topic18\", \"Topic18\", \"Topic18\", \"Topic18\", \"Topic18\", \"Topic18\", \"Topic18\", \"Topic18\", \"Topic18\", \"Topic18\", \"Topic18\", \"Topic18\", \"Topic18\", \"Topic18\", \"Topic18\", \"Topic18\", \"Topic19\", \"Topic19\", \"Topic19\", \"Topic19\", \"Topic19\", \"Topic19\", \"Topic19\", \"Topic19\", \"Topic19\", \"Topic19\", \"Topic19\", \"Topic19\", \"Topic19\", \"Topic19\", \"Topic19\", \"Topic19\", \"Topic19\", \"Topic19\", \"Topic19\", \"Topic19\", \"Topic19\", \"Topic19\", \"Topic19\", \"Topic19\", \"Topic19\", \"Topic19\", \"Topic19\", \"Topic19\", \"Topic19\", \"Topic19\", \"Topic19\", \"Topic19\", \"Topic19\", \"Topic19\", \"Topic19\", \"Topic19\", \"Topic19\", \"Topic19\", \"Topic19\", \"Topic19\", \"Topic19\", \"Topic19\", \"Topic19\", \"Topic19\", \"Topic19\", \"Topic19\", \"Topic19\", \"Topic19\", \"Topic19\", \"Topic19\", \"Topic19\", \"Topic19\", \"Topic19\", \"Topic19\", \"Topic19\", \"Topic19\", \"Topic19\", \"Topic19\", \"Topic19\", \"Topic20\", \"Topic20\", \"Topic20\", \"Topic20\", \"Topic20\", \"Topic20\", \"Topic20\", \"Topic20\", \"Topic20\", \"Topic20\", \"Topic20\", \"Topic20\", \"Topic20\", \"Topic20\", \"Topic20\", \"Topic20\", \"Topic20\", \"Topic20\", \"Topic20\", \"Topic20\", \"Topic20\", \"Topic20\", \"Topic20\", \"Topic20\", \"Topic20\", \"Topic20\", \"Topic20\", \"Topic20\", \"Topic20\", \"Topic20\", \"Topic20\", \"Topic20\", \"Topic20\", \"Topic20\", \"Topic20\", \"Topic20\", \"Topic20\", \"Topic20\", \"Topic20\", \"Topic20\", \"Topic20\", \"Topic20\", \"Topic20\", \"Topic20\", \"Topic20\", \"Topic20\", \"Topic20\", \"Topic20\", \"Topic20\", \"Topic20\", \"Topic20\", \"Topic20\", \"Topic20\", \"Topic20\", \"Topic20\", \"Topic20\"], \"logprob\": [30.0, 29.0, 28.0, 27.0, 26.0, 25.0, 24.0, 23.0, 22.0, 21.0, 20.0, 19.0, 18.0, 17.0, 16.0, 15.0, 14.0, 13.0, 12.0, 11.0, 10.0, 9.0, 8.0, 7.0, 6.0, 5.0, 4.0, 3.0, 2.0, 1.0, -4.8749, -4.2872, -4.7547, -5.3777, -5.4982, -2.9464, -3.2204, -4.6233, -3.3639, -4.8125, -5.1517, -5.8001, -6.0559, -6.2685, -5.9574, -4.3714, -4.2923, -4.3728, -5.0644, -4.029, -5.6398, -5.4853, -6.0995, -4.495, -5.765, -3.6426, -4.4054, -4.1226, -5.5993, -6.4293, -2.2995, -2.0502, -3.0195, -1.4968, -3.5709, -4.708, -3.7221, -3.6632, -4.6007, -4.5693, -5.304, -5.2271, -2.6851, -5.3286, -3.2679, -4.4137, -5.3409, -4.9033, -5.8416, -4.9576, -6.2497, -4.9152, -6.2042, -6.1722, -6.124, -5.8221, -5.5148, -4.8625, -5.7188, -5.576, -6.1891, -5.7702, -5.884, -5.4125, -5.8629, -3.8837, -4.6468, -5.5219, -5.643, -5.949, -5.8074, -5.8614, -3.1619, -4.8255, -4.9533, -5.6912, -5.873, -2.173, -5.7528, -4.1066, -5.1443, -3.8203, -2.5758, -4.8762, -4.9084, -4.0248, -4.0554, -4.2639, -4.2339, -4.1808, -3.9219, -4.1863, -4.5803, -3.8006, -3.8951, -4.7561, -4.4186, -4.6576, -4.6829, -4.76, -4.8217, -4.6392, -3.3924, -3.4508, -4.6877, -4.5058, -4.6877, -4.6609, -4.855, -4.1595, -5.9389, -5.3079, -4.4384, -6.1816, -3.281, -3.0572, -4.3132, -2.9335, -4.0616, -4.1357, -3.1416, -4.567, -4.8839, -4.9107, -6.0108, -6.2446, -3.4161, -6.0108, -3.2462, -4.6272, -6.0721, -4.2233, -2.9369, -3.0549, -3.5962, -4.2001, -2.7822, -3.2553, -3.8505, -3.6415, -4.3087, -4.3159, -4.0801, -4.4879, -4.4769, -4.6165, -3.9585, -6.099, -6.0221, -5.8118, -5.1998, -4.1133, -5.9299, -4.866, -4.8239, -3.3688, -5.6829, -5.6986, -4.9548, -5.5113, -3.2824, -6.085, -5.9904, -5.1179, -4.3803, -5.5727, -6.1471, -6.0603, -6.2272, -6.1471, -5.3421, -5.8181, -6.2155, -6.3026, -4.815, -6.1491, -4.1736, -4.2324, -4.4435, -4.4667, -4.701, -4.7735, -4.8313, -4.7564, -4.8837, -4.965, -4.3849, -5.0342, -4.9097, -5.0833, -4.9509, -5.2467, -5.5426, -4.9029, -3.4768, -3.8338, -4.0188, -4.6992, -2.0978, -4.4834, -4.1291, -3.6058, -4.2848, -4.3765, -4.359, -4.2868, -4.6532, -5.2425, -2.8326, -3.553, -5.4995, -4.8105, -5.0418, -6.3002, -6.2934, -5.6547, -5.3454, -5.9738, -5.7999, -5.9763, -6.2386, -3.7512, -5.7022, -6.1372, -4.4201, -6.2711, -6.1695, -5.3801, -3.904, -2.6122, -3.4332, -4.8533, -5.6788, -4.5407, -6.422, -5.5913, -2.8312, -1.2798, -3.1347, -3.6986, -2.4667, -2.9711, -3.5111, -5.0331, -4.6819, -4.7059, -4.8541, -5.0286, -4.5849, -5.3604, -5.4645, -5.2461, -4.6718, -4.5546, -5.9149, -6.137, -6.1975, -5.902, -3.3807, -2.8326, -3.8247, -3.5116, -4.4802, -5.3965, -6.2698, -5.7132, -5.9263, -5.6313, -5.5135, -5.8111, -4.441, -4.7588, -5.8628, -5.8996, -3.9513, -4.0277, -4.2203, -3.0467, -5.4333, -5.5146, -4.8937, -2.9216, -3.9092, -4.4607, -5.4067, -5.4439, -5.7475, -5.8251, -5.843, -5.0049, -4.0399, -3.9683, -5.6871, -3.9757, -4.7591, -4.8864, -3.1696, -3.2791, -4.2035, -4.6838, -3.9771, -4.9131, -4.7012, -3.7927, -4.0547, -4.6351, -4.5748, -3.8095, -3.0487, -5.4792, -6.0332, -4.8051, -4.5757, -4.8988, -4.0303, -5.5794, -5.056, -4.8322, -4.2813, -6.0018, -5.9245, -5.1792, -6.1149, -5.746, -5.1807, -6.0179, -5.6483, -6.0269, -5.3562, -6.0582, -5.7908, -6.0895, -2.6763, -4.2766, -4.0127, -3.8372, -5.613, -5.9731, -4.6191, -4.9018, -3.7183, -5.556, -5.633, -5.4983, -5.8096, -5.7124, -5.7508, -5.1226, -4.4901, -5.0792, -3.8495, -5.4317, -4.6656, -4.4304, -5.0951, -4.3758, -4.1179, -4.24, -4.1481, -3.4269, -4.5341, -4.0471, -4.1092, -4.5637, -4.52, -4.652, -3.9358, -4.5725, -4.1437, -4.7385, -4.7669, -4.7381, -4.9011, -5.1646, -5.6882, -3.1784, -3.7762, -4.9541, -4.3653, -5.2391, -5.9582, -6.2312, -5.3222, -5.5597, -5.0229, -6.2647, -5.096, -5.7514, -6.24, -5.9879, -5.5778, -5.8145, -5.9359, -5.5564, -5.8919, -5.9641, -5.9205, -4.4587, -4.575, -3.5664, -4.9912, -3.8201, -4.2007, -4.3426, -4.4025, -4.7051, -5.2947, -5.3961, -5.4251, -5.5699, -5.6415, -5.518, -2.5661, -3.9494, -4.9496, -4.0838, -4.4488, -4.8414, -3.8037, -1.9342, -4.682, -3.5246, -4.5904, -4.5238, -3.6427, -3.868, -4.6113, -4.5178, -4.1797, -4.6277, -4.6727, -4.7954, -3.8394, -4.789, -5.5847, -3.1848, -4.4153, -5.7691, -6.1543, -4.1434, -5.4052, -3.9518, -5.932, -4.7239, -5.3197, -5.6242, -6.093, -5.4437, -6.1087, -5.2142, -6.1785, -3.9635, -5.9403, -4.4646, -4.4975, -2.9163, -4.5591, -5.1126, -5.109, -5.4607, -4.6595, -3.4227, -3.7491, -4.0149, -4.7493, -5.7762, -5.6571, -4.5933, -3.1284, -4.7513, -3.3346, -4.921, -2.5259, -4.5931, -4.1729, -4.1895, -3.4139, -3.3561, -3.2195, -4.0003, -4.072, -4.3612, -4.627, -4.718, -3.4264, -4.4251, -4.826, -6.0486, -4.7868, -4.9082, -5.8184, -5.4062, -5.5408, -4.3474, -4.3145, -4.2135, -4.4326, -4.7741, -5.4794, -5.5166, -5.6963, -4.8602, -3.9635, -5.165, -5.1137, -5.4141, -6.1498, -5.2888, -5.5408, -6.0181, -5.8621, -5.5323, -6.2473, -5.6431, -1.0609, -3.4226, -3.8598, -4.0411, -4.2998, -4.3421, -4.4372, -4.5611, -4.9316, -5.1189, -5.1291, -5.1823, -4.9783, -5.2938, -5.3156, -4.6229, -4.1961, -4.7756, -3.9361, -4.5003, -4.8716, -4.7865, -4.9905, -4.1063, -5.519, -5.2028, -4.7133, -5.2144, -4.3151, -4.4562, -4.2386, -3.2309, -4.1864, -6.2376, -5.9971, -4.8015, -5.9231, -5.2307, -5.5339, -6.2023, -5.8085, -5.0215, -5.7747, -5.6442, -5.6854, -6.0534, -5.0918, -6.0276, -5.8092, -5.627, -6.034, -4.7782, -5.475, -3.3175, -3.3601, -3.4857, -3.606, -4.057, -4.3679, -4.5506, -4.6796, -4.8595, -4.9978, -4.9692, -5.0696, -5.2574, -5.4787, -5.206, -5.3678, -4.4073, -2.1464, -3.8073, -4.789, -4.9884, -4.5644, -4.0727, -3.9868, -4.4498, -4.4589, -4.8449, -4.9868, -4.5649, -3.8552, -4.8926, -5.3023, -6.1471, -4.8767, -4.3701, -4.7372, -3.3501, -5.2196, -5.708, -5.6716, -5.6138, -4.4816, -5.4208, -4.6803, -6.0584, -5.866, -5.7835, -4.671, -4.1, -5.961, -5.1548, -6.0072, -5.6055, -6.0771, -5.9064, -6.0019, -5.9933, -5.2881, -3.0285, -3.5498, -4.2189, -4.2217, -4.4958, -4.7264, -4.7066, -4.7109, -4.7359, -4.8804, -4.8886, -4.8741, -4.9054, -5.0378, -5.0803, -4.9144, -5.0817, -4.9577, -3.5514, -4.3465, -4.1237, -3.4017, -4.3773, -4.3064, -4.5595, -4.5229, -3.141, -4.0439, -4.62, -4.5283, -4.7225, -5.5865, -4.5702, -6.2572, -4.6757, -5.9498, -4.07, -6.1371, -4.9089, -3.0109, -5.2998, -6.1596, -3.1234, -5.3188, -6.1606, -5.3064, -5.1383, -4.2667, -6.2369, -5.0975, -5.3588, -3.9078, -3.6627, -3.4337, -5.5244, -5.0932, -5.3242, -5.2144, -6.0831, -5.3487, -5.7555, -1.926, -1.978, -4.0258, -4.4218, -4.7635, -4.7615, -4.9689, -5.0106, -4.9512, -5.0693, -5.1431, -5.2714, -5.2483, -5.2667, -5.2834, -4.784, -3.3783, -4.6689, -4.5624, -4.7185, -4.6574, -4.9386, -4.8239, -4.5768, -5.0545, -4.5734, -6.0176, -4.9615, -4.1988, -5.0295, -5.7717, -4.5968, -5.4657, -5.8753, -5.3027, -6.2392, -6.1188, -6.0589, -5.7337, -5.9892, -5.8288, -5.965, -6.2459, -6.1698, -6.2181, -6.1429, -4.8647, -4.7432, -6.2006, -5.6836, -5.7619, -5.2681, -5.788, -3.7024, -3.4634, -3.1015, -3.5343, -3.2971, -4.111, -4.7167, -4.6029, -4.8747, -5.1078, -5.252, -5.2651, -5.2874, -5.1257, -5.3771, -5.4212, -5.2956, -4.4318, -5.2583, -5.5404, -5.379, -4.0245, -3.7834, -4.0217, -4.0837, -3.6264, -4.4898, -5.0796, -2.4619, -4.7869, -4.7397, -4.3747, -4.0345, -3.397, -4.565, -3.8768, -4.6759, -4.5298, -4.444, -4.7679, -2.1095, -5.7131, -2.9236, -4.0515, -4.1708, -6.0299, -4.716, -4.6429, -5.8413, -5.4959, -5.4916, -5.2124, -6.0189, -6.0308, -5.3582, -5.999, -5.6755, -5.0046, -4.5864, -4.4834, -4.9233, -6.0107, -4.1077, -5.5705, -2.3998, -2.6126, -4.7521, -4.89, -5.3418, -6.0216, -3.5049, -4.8518, -4.3238, -5.3986, -5.2668, -5.6518, -5.4412, -5.4671, -5.5395, -4.3442, -2.7177, -4.6674, -3.9999, -3.3811, -4.3196, -4.437, -3.6399, -4.4, -3.5231, -4.9045, -5.0465, -5.0308, -3.576, -4.6046, -2.9175, -3.5551, -5.5836, -5.8268, -5.7592, -4.4268, -6.2039, -6.1933, -5.562, -4.0951, -6.1486, -5.0688, -5.726, -5.7647, -4.0367, -5.162, -6.0273, -6.2444, -6.1764, -4.9725, -4.9481, -5.7864, -6.2512, -6.0519, -6.2333, -5.7899, -4.6296, -4.7193, -1.9561, -4.7208, -4.6395, -4.7946, -5.0702, -5.0115, -5.0419, -5.3071, -5.216, -5.7442, -3.1698, -3.9446, -5.7469, -4.9666, -4.6856, -5.6437, -3.7035, -4.2674, -3.8461, -3.7797, -1.998, -4.7826, -4.2082, -4.4217, -4.8651, -4.9813, -4.8246, -4.9601, -5.1691, -4.8771, -4.0487, -5.7466, -4.78, -5.9634, -4.2793, -5.2233, -4.942, -3.869, -5.9485, -3.6433, -4.5207, -4.9781, -6.2673, -5.2048, -6.0962, -5.467, -5.8205, -6.1974, -5.5085, -6.2583, -6.1581, -2.747, -3.5999, -0.9603, -3.163, -3.9815, -4.8717, -4.4801, -3.816, -4.2192, -4.4758, -4.5905, -4.5223, -4.8861, -5.2773, -5.3042, -5.3945, -5.2909, -4.8477, -3.6808, -4.8001, -4.4971, -5.0424, -4.7756, -5.0437, -5.0728, -5.7566, -2.3084, -5.1514, -5.385, -4.887, -5.2786, -4.4147, -5.5707, -6.2507, -5.2334, -5.8046, -5.5933, -4.4057, -4.9399, -5.2383, -5.1739, -2.8068, -5.9115, -5.6518, -5.3727, -5.1283, -6.072, -4.4881, -6.2553, -6.044, -4.9113, -5.71, -6.0186, -4.4705, -5.8589, -3.333, -4.3208, -4.5722, -4.6536, -4.6988, -4.7698, -4.8482, -5.0139, -5.1151, -5.1372, -5.0784, -5.1867, -5.1746, -5.0589, -5.1949, -5.1446, -5.0882, -4.4611, -5.0295, -3.6016, -3.5623, -4.0808, -2.6694, -4.5584, -3.2104, -4.5176, -4.4618, -4.5407, -4.7563, -4.7029, -4.926, -4.9516, -4.9463, -5.662, -5.5354, -4.117, -3.7194, -3.6964, -4.7096, -5.9081, -4.8032, -5.0609, -5.5934, -5.6225, -4.3471, -6.1329, -5.5054, -4.9727, -6.2128, -5.4382, -6.2084, -5.5952, -6.1588, -6.2051, -3.8565, -4.0029, -4.1961, -4.843, -5.1231, -5.3021, -5.369, -5.0687, -5.2857, -4.6065, -4.7369, -4.7839, -4.8561, -5.1291, -5.4134, -5.1955, -4.776, -3.194, -2.232, -4.0362, -3.0976, -5.2028, -4.2489, -3.044, -3.0062, -3.4025, -4.5553, -4.3511, -4.1143, -3.632, -4.5137, -3.4922, -4.4547, -4.2333, -4.6155, -4.5323, -4.5981, -4.6768, -5.8722, -3.2806, -5.5986, -5.4657, -5.6021, -5.3746, -5.912, -5.2873, -5.275, -5.6894, -6.267, -5.5687, -2.3372, -4.7652, -3.6692, -5.1352, -5.4708, -4.2211, -5.5154, -3.8211, -6.1472, -5.3336, -5.86, -6.0696, -5.0087, -6.2357, -5.2801, -5.4301, -4.9113, -6.1194, -2.54, -2.6732, -3.5821, -3.7658, -4.0898, -4.1048, -4.3091, -4.5993, -4.7546, -4.7464, -4.994, -5.0283, -5.0992, -5.1578, -5.1929, -3.388, -4.8855, -4.6962, -4.1867, -4.1296, -4.1701, -3.1904, -4.9425, -4.4587, -4.7333, -5.0155], \"loglift\": [30.0, 29.0, 28.0, 27.0, 26.0, 25.0, 24.0, 23.0, 22.0, 21.0, 20.0, 19.0, 18.0, 17.0, 16.0, 15.0, 14.0, 13.0, 12.0, 11.0, 10.0, 9.0, 8.0, 7.0, 6.0, 5.0, 4.0, 3.0, 2.0, 1.0, 2.9837, 2.9837, 2.9837, 2.9837, 2.9837, 2.9837, 2.9837, 2.9837, 2.9837, 2.9837, 2.9837, 2.9837, 2.9837, 2.9837, 2.9837, 2.9835, 2.9833, 2.9833, 2.9833, 2.9832, 2.983, 2.9826, 2.9798, 2.8868, 2.8586, 2.8017, 2.7901, 2.6342, 2.6162, 2.6113, 2.5737, 2.4805, 2.5095, 2.1806, 2.1604, 2.4415, 1.9156, 1.7961, 2.0641, 1.5752, 2.4806, 1.1823, 2.9878, 2.9878, 2.9878, 2.9878, 2.9878, 2.9878, 2.9878, 2.9878, 2.9878, 2.9878, 2.9878, 2.9878, 2.9878, 2.9878, 2.9878, 2.9878, 2.9878, 2.9878, 2.9878, 2.9878, 2.9878, 2.9878, 2.9878, 2.9877, 2.9876, 2.9873, 2.9872, 2.987, 2.9864, 2.9863, 2.9791, 2.9859, 2.9857, 2.9815, 2.9841, 2.7919, 2.9787, 2.8124, 2.9085, 2.7432, 2.3379, 2.7949, 2.7999, 2.5803, 2.5346, 2.5356, 2.4834, 2.3566, 2.2226, 2.3115, 2.5006, 1.9872, 1.9734, 2.475, 1.8659, 2.0221, 1.6127, 1.1737, 1.4919, 2.9908, 2.9908, 2.9908, 2.9908, 2.9908, 2.9908, 2.9908, 2.9908, 2.9908, 2.9908, 2.9908, 2.9908, 2.9908, 2.9907, 2.9907, 2.9905, 2.9905, 2.9904, 2.9903, 2.9901, 2.9898, 2.9894, 2.9892, 2.9864, 2.9821, 2.9447, 2.9305, 2.8775, 2.8433, 2.8123, 2.7689, 2.7124, 2.6647, 2.6994, 2.7507, 2.5442, 2.5325, 2.5463, 1.7863, 2.2287, 2.1819, 0.8287, 2.2313, 1.8009, 1.9734, 2.9909, 2.9909, 2.9909, 2.9909, 2.9909, 2.9909, 2.9909, 2.9909, 2.9909, 2.9909, 2.9909, 2.9909, 2.9909, 2.9909, 2.9909, 2.9909, 2.9909, 2.9909, 2.9909, 2.9909, 2.9909, 2.9909, 2.9909, 2.9909, 2.9909, 2.9909, 2.9909, 2.9909, 2.9909, 2.9909, 2.9906, 2.9907, 2.9905, 2.9905, 2.9899, 2.9906, 2.9909, 2.9894, 2.9906, 2.9909, 2.985, 2.9905, 2.9885, 2.9902, 2.9885, 2.9909, 2.9909, 2.9782, 2.9058, 2.8443, 2.7558, 2.8849, 1.6546, 2.6685, 2.4503, 1.8219, 2.1448, 1.9793, 1.6624, 1.4283, 2.0642, 2.9919, 2.9919, 2.9919, 2.9919, 2.9919, 2.9919, 2.9919, 2.9919, 2.9919, 2.9919, 2.9919, 2.9919, 2.9919, 2.9919, 2.9914, 2.9912, 2.9909, 2.9908, 2.9907, 2.9898, 2.9895, 2.9862, 2.9808, 2.9793, 2.966, 2.938, 2.919, 2.856, 2.821, 2.6281, 2.3977, 2.3779, 2.4394, 2.064, 1.9021, 2.0179, 2.4471, 2.0373, 1.9989, 1.9954, 2.1208, 1.1464, 2.1201, 2.3526, 1.1983, 2.9925, 2.9925, 2.9925, 2.9925, 2.9925, 2.9925, 2.9925, 2.9925, 2.9925, 2.9925, 2.9925, 2.9925, 2.9925, 2.9925, 2.9925, 2.9925, 2.9925, 2.9925, 2.9925, 2.9925, 2.9925, 2.9925, 2.9924, 2.9924, 2.9924, 2.9923, 2.992, 2.992, 2.9919, 2.9919, 2.9914, 2.9904, 2.9915, 2.991, 2.9919, 2.9918, 2.9918, 2.9715, 2.929, 2.8812, 2.9835, 2.8472, 2.859, 2.8616, 2.4681, 2.4255, 2.6334, 2.7596, 2.4972, 2.6937, 2.5101, 1.6295, 1.5105, 2.4062, 2.3011, -0.057, 2.9929, 2.9929, 2.9929, 2.9929, 2.9929, 2.9929, 2.9929, 2.9929, 2.9929, 2.9929, 2.9929, 2.9929, 2.9929, 2.9929, 2.9929, 2.9929, 2.9929, 2.9929, 2.9929, 2.9929, 2.9929, 2.9929, 2.9929, 2.9929, 2.9928, 2.9926, 2.9925, 2.9925, 2.9923, 2.992, 2.992, 2.9888, 2.9736, 2.9912, 2.9917, 2.9897, 2.9914, 2.9903, 2.9903, 2.9666, 2.922, 2.9542, 2.7862, 2.9499, 2.8281, 2.7348, 2.8772, 2.7142, 2.6483, 2.6406, 2.5426, 2.2985, 2.6171, 2.3086, 2.1842, 2.5239, 2.4437, 2.5278, 1.7688, 2.3177, 0.8211, 2.4124, 1.9747, 2.994, 2.994, 2.994, 2.994, 2.994, 2.994, 2.994, 2.994, 2.994, 2.994, 2.994, 2.994, 2.994, 2.994, 2.994, 2.994, 2.994, 2.994, 2.994, 2.994, 2.994, 2.994, 2.994, 2.994, 2.994, 2.994, 2.9938, 2.9938, 2.9937, 2.9937, 2.9928, 2.9924, 2.9925, 2.9929, 2.9935, 2.9935, 2.9935, 2.993, 2.9934, 2.9934, 2.9918, 2.9274, 2.9431, 2.9655, 2.8825, 2.896, 2.9141, 2.7471, 1.8183, 2.7074, 2.0406, 2.5691, 2.4597, 1.7851, 1.8574, 2.4504, 2.2779, 1.5353, 2.1748, 1.7569, 2.9947, 2.9947, 2.9947, 2.9947, 2.9947, 2.9947, 2.9947, 2.9947, 2.9947, 2.9947, 2.9947, 2.9947, 2.9947, 2.9947, 2.9947, 2.9947, 2.9947, 2.9947, 2.9947, 2.9947, 2.9947, 2.9947, 2.9945, 2.9945, 2.9945, 2.9945, 2.9943, 2.9943, 2.9942, 2.994, 2.9939, 2.9923, 2.994, 2.994, 2.994, 2.9917, 2.9574, 2.8053, 2.8863, 2.6867, 2.8851, 2.3829, 2.7529, 2.5319, 2.4903, 2.0986, 1.9702, 1.6942, 2.1377, 1.5773, 2.1266, 2.1688, 2.2454, 2.9954, 2.9954, 2.9954, 2.9954, 2.9954, 2.9954, 2.9954, 2.9954, 2.9954, 2.9954, 2.9954, 2.9954, 2.9954, 2.9954, 2.9954, 2.9954, 2.9954, 2.9954, 2.9954, 2.9954, 2.9954, 2.9954, 2.9954, 2.9954, 2.9954, 2.9954, 2.9954, 2.9954, 2.9954, 2.9954, 2.9954, 2.9953, 2.9954, 2.9949, 2.9949, 2.9951, 2.9949, 2.9942, 2.9948, 2.9951, 2.9951, 2.9954, 2.993, 2.9954, 2.9954, 2.9874, 2.9424, 2.9392, 2.3573, 2.6378, 2.5673, 2.016, 2.2533, 2.9956, 2.9956, 2.9956, 2.9956, 2.9956, 2.9956, 2.9956, 2.9956, 2.9956, 2.9956, 2.9956, 2.9956, 2.9956, 2.9956, 2.9956, 2.9956, 2.9956, 2.9956, 2.9956, 2.9956, 2.9956, 2.9956, 2.9956, 2.9956, 2.9956, 2.9956, 2.9956, 2.9956, 2.9956, 2.9956, 2.9956, 2.9945, 2.9955, 2.9956, 2.9945, 2.9953, 2.9954, 2.9954, 2.9951, 2.9947, 2.9944, 2.9939, 2.9952, 2.9956, 2.9921, 2.9905, 2.9171, 2.4305, 2.6753, 2.8507, 2.9159, 2.6773, 2.2409, 1.9573, 2.3176, 2.0155, 2.1397, 2.692, 2.9971, 2.9971, 2.9971, 2.9971, 2.9971, 2.9971, 2.9971, 2.9971, 2.9971, 2.9971, 2.9971, 2.9971, 2.9971, 2.9971, 2.9971, 2.9971, 2.9971, 2.9971, 2.9971, 2.9971, 2.9971, 2.9971, 2.9971, 2.9971, 2.9971, 2.9971, 2.9971, 2.9971, 2.9971, 2.9971, 2.9969, 2.9963, 2.9969, 2.9969, 2.9969, 2.9968, 2.9963, 2.9964, 2.9966, 2.9971, 2.9968, 2.9962, 2.9965, 2.9967, 2.9967, 2.995, 2.9946, 2.9756, 2.6859, 2.8315, 2.6739, 2.3134, 2.6946, 2.6526, 2.7299, 2.6691, 0.6115, 1.6757, 2.3433, 2.0511, 2.3734, 2.9972, 2.9972, 2.9972, 2.9972, 2.9972, 2.9972, 2.9972, 2.9972, 2.9972, 2.9972, 2.9972, 2.9972, 2.9972, 2.9972, 2.9972, 2.9972, 2.9972, 2.9972, 2.9972, 2.9972, 2.9972, 2.9972, 2.9972, 2.9972, 2.9972, 2.9972, 2.9972, 2.9972, 2.9972, 2.9972, 2.9972, 2.9965, 2.9972, 2.9963, 2.9972, 2.997, 2.9972, 2.9972, 2.9963, 2.9972, 2.9972, 2.9972, 2.9968, 2.9968, 2.9968, 2.9742, 2.8617, 2.8538, 2.6269, 2.6274, 2.046, 2.4007, 1.9177, 0.332, 2.4909, 2.9978, 2.9978, 2.9978, 2.9978, 2.9978, 2.9978, 2.9978, 2.9978, 2.9978, 2.9978, 2.9978, 2.9978, 2.9978, 2.9978, 2.9978, 2.9978, 2.9978, 2.9978, 2.9978, 2.9978, 2.9978, 2.9978, 2.9978, 2.9978, 2.9978, 2.9978, 2.9978, 2.9978, 2.9978, 2.9977, 2.9977, 2.9977, 2.988, 2.9959, 2.9976, 2.9961, 2.9975, 2.9974, 2.9974, 2.9974, 2.9974, 2.9953, 2.9968, 2.9969, 2.9952, 2.9863, 2.9944, 2.9972, 2.9916, 2.8179, 2.7698, 2.7897, 2.789, 2.7114, 2.8211, 2.9475, 2.115, 2.846, 2.8147, 2.6724, 2.4533, 2.0936, 2.6051, 1.808, 2.4139, 1.9196, 1.2814, 2.0858, 3.0001, 3.0001, 3.0001, 3.0001, 3.0001, 3.0001, 3.0001, 3.0001, 3.0001, 3.0001, 3.0001, 3.0001, 3.0001, 3.0001, 3.0001, 3.0001, 3.0001, 3.0001, 3.0001, 3.0001, 3.0001, 3.0001, 3.0001, 3.0001, 3.0, 3.0, 2.9998, 2.9992, 2.9992, 2.9992, 2.9986, 2.9987, 2.9932, 2.9991, 2.9966, 2.9988, 2.9919, 2.9913, 2.9935, 2.9234, 2.7045, 2.8918, 2.6932, 2.563, 2.627, 2.5348, 2.0914, 2.4537, 1.4687, 2.5058, 2.4879, 2.2783, 3.0004, 3.0004, 3.0004, 3.0004, 3.0004, 3.0004, 3.0004, 3.0004, 3.0004, 3.0004, 3.0004, 3.0004, 3.0004, 3.0004, 3.0004, 3.0004, 3.0004, 3.0004, 3.0004, 3.0004, 3.0004, 3.0004, 3.0004, 3.0004, 3.0004, 3.0004, 3.0004, 3.0004, 3.0001, 3.0001, 2.9999, 3.0001, 2.9991, 2.9982, 3.0, 2.9994, 2.9997, 2.9973, 2.9953, 2.9997, 2.9669, 2.9776, 2.9997, 2.9568, 2.9029, 2.9863, 2.5743, 2.6143, 2.4922, 2.4355, 1.7544, 2.7526, 2.408, 1.9752, 2.1183, 2.5336, 0.6031, 2.0117, 3.0013, 3.0013, 3.0013, 3.0013, 3.0013, 3.0013, 3.0013, 3.0013, 3.0013, 3.0013, 3.0013, 3.0013, 3.0013, 3.0013, 3.0013, 3.0013, 3.0013, 3.0013, 3.0013, 3.0013, 3.0013, 3.0013, 3.0013, 3.0013, 3.0012, 3.0011, 3.0011, 3.0011, 3.001, 3.0009, 3.0008, 3.0008, 3.0009, 3.0009, 2.9999, 3.0004, 3.0009, 3.0009, 3.0008, 2.9973, 2.9851, 2.6038, 2.6003, 1.8165, 2.4895, 1.7069, 2.3217, 2.0081, 3.0026, 3.0026, 3.0026, 3.0026, 3.0026, 3.0026, 3.0026, 3.0026, 3.0026, 3.0026, 3.0026, 3.0026, 3.0026, 3.0026, 3.0026, 3.0026, 3.0026, 3.0026, 3.0026, 3.0026, 3.0026, 3.0026, 3.0026, 3.0026, 3.0026, 3.0026, 3.0026, 3.0026, 3.0026, 3.0026, 3.0025, 2.9999, 3.0013, 3.0019, 3.0018, 3.0018, 3.0009, 3.0026, 3.0026, 3.0026, 3.0019, 3.0026, 3.0022, 3.0008, 3.0022, 3.0003, 2.9983, 2.9567, 2.9888, 2.8518, 2.8362, 2.8617, 2.5372, 2.6721, 1.6984, 2.3401, 2.1545, 2.0607, 2.3442, 1.9879, 2.5609, 2.5046, 1.7953, 3.0035, 3.0035, 3.0035, 3.0035, 3.0035, 3.0035, 3.0035, 3.0035, 3.0035, 3.0035, 3.0035, 3.0035, 3.0035, 3.0035, 3.0035, 3.0035, 3.0035, 3.0035, 3.0035, 3.0035, 3.0035, 3.0034, 3.0034, 3.0034, 3.0033, 3.0032, 3.0031, 3.0031, 3.0029, 3.0027, 3.002, 3.0023, 3.002, 2.9991, 2.9985, 2.9992, 2.9969, 2.9754, 2.8564, 2.7599, 2.8583, 2.761, 2.9734, 2.8372, 2.6407, 2.4844, 2.466, 2.7697, 2.6558, 2.3352, 1.9332, 2.5498, 1.4214, 2.3441, 1.9819, 2.5047, 2.2351, 2.2921, 1.0278, 3.0048, 3.0048, 3.0048, 3.0048, 3.0048, 3.0048, 3.0048, 3.0048, 3.0048, 3.0048, 3.0048, 3.0048, 3.0048, 3.0048, 3.0048, 3.0048, 3.0048, 3.0048, 3.0048, 3.0048, 3.0048, 3.0048, 3.0048, 3.0048, 3.0048, 3.0048, 3.0048, 3.0048, 3.0048, 3.0048, 3.0048, 3.0048, 3.0037, 3.0038, 3.0047, 3.0045, 3.0045, 3.0046, 3.0045, 3.0028, 3.0045, 3.0045, 3.0048, 3.0044, 3.0029, 2.953, 2.9418, 2.8675, 2.5166, 2.4839, 2.4947, 2.0162, 2.8331, 2.1427, 1.6045, 1.8662]}, \"token.table\": {\"Topic\": [4, 8, 10, 3, 9, 14, 12, 1, 5, 1, 15, 4, 1, 2, 9, 13, 18, 1, 2, 5, 6, 12, 16, 10, 12, 14, 6, 18, 20, 1, 11, 12, 2, 4, 16, 2, 19, 20, 7, 10, 2, 11, 3, 4, 6, 12, 18, 14, 18, 9, 15, 20, 16, 12, 18, 2, 16, 6, 12, 14, 13, 19, 2, 3, 7, 17, 14, 14, 8, 15, 7, 6, 11, 16, 4, 7, 10, 10, 10, 3, 2, 12, 15, 11, 17, 16, 18, 10, 18, 8, 2, 14, 10, 12, 18, 11, 3, 15, 9, 11, 18, 20, 11, 17, 18, 4, 11, 16, 10, 6, 7, 8, 19, 20, 15, 6, 11, 8, 20, 20, 3, 6, 19, 4, 9, 13, 12, 4, 6, 7, 8, 9, 15, 18, 13, 1, 4, 12, 18, 14, 20, 4, 10, 14, 15, 18, 11, 17, 11, 17, 17, 1, 5, 15, 1, 2, 6, 15, 17, 18, 19, 1, 1, 18, 11, 10, 12, 20, 19, 4, 2, 7, 11, 12, 15, 18, 1, 12, 16, 4, 8, 14, 18, 16, 16, 2, 9, 13, 20, 20, 15, 20, 1, 5, 11, 14, 1, 5, 9, 13, 11, 14, 2, 2, 9, 11, 7, 5, 6, 7, 10, 13, 20, 6, 6, 8, 8, 9, 16, 17, 4, 11, 13, 18, 13, 3, 4, 7, 11, 15, 19, 16, 1, 19, 17, 11, 17, 16, 15, 12, 14, 19, 2, 13, 16, 10, 16, 6, 7, 10, 15, 16, 16, 15, 13, 4, 20, 16, 3, 7, 14, 7, 14, 15, 2, 15, 4, 10, 12, 2, 9, 13, 17, 11, 20, 14, 15, 16, 13, 15, 19, 1, 5, 12, 4, 5, 18, 20, 1, 2, 9, 19, 2, 11, 20, 14, 19, 6, 6, 8, 13, 1, 17, 13, 13, 13, 2, 4, 2, 7, 1, 5, 19, 2, 9, 19, 5, 9, 15, 11, 15, 17, 13, 6, 1, 2, 2, 10, 12, 13, 4, 8, 14, 19, 20, 4, 4, 6, 7, 8, 12, 16, 19, 2, 7, 12, 1, 5, 9, 20, 1, 5, 18, 11, 17, 18, 5, 8, 17, 10, 14, 10, 17, 2, 9, 4, 16, 2, 4, 20, 5, 6, 9, 5, 14, 3, 9, 10, 1, 9, 10, 20, 20, 3, 9, 13, 15, 18, 5, 1, 19, 4, 6, 8, 12, 1, 5, 1, 5, 5, 1, 8, 8, 3, 2, 13, 17, 2, 6, 11, 14, 17, 19, 1, 9, 20, 3, 10, 7, 13, 10, 12, 17, 10, 4, 9, 13, 12, 2, 1, 7, 15, 18, 14, 3, 6, 7, 3, 15, 13, 14, 10, 6, 10, 1, 3, 12, 19, 12, 2, 20, 8, 17, 1, 5, 6, 6, 2, 19, 11, 10, 10, 13, 20, 20, 7, 1, 4, 12, 10, 15, 9, 15, 19, 6, 7, 8, 20, 4, 7, 16, 9, 4, 10, 14, 2, 10, 20, 3, 17, 3, 15, 8, 4, 4, 16, 2, 8, 14, 10, 10, 2, 7, 12, 12, 19, 4, 11, 15, 17, 2, 3, 4, 6, 17, 7, 2, 7, 17, 18, 2, 13, 15, 20, 19, 19, 9, 16, 19, 7, 2, 6, 7, 8, 10, 9, 13, 17, 18, 10, 11, 14, 16, 1, 5, 6, 7, 10, 17, 3, 4, 5, 9, 19, 6, 8, 14, 6, 8, 14, 17, 14, 6, 14, 10, 14, 17, 20, 17, 8, 9, 11, 18, 6, 7, 20, 9, 12, 15, 18, 9, 8, 13, 16, 20, 16, 1, 12, 19, 9, 15, 16, 19, 6, 17, 3, 11, 4, 12, 16, 6, 8, 8, 16, 19, 20, 6, 7, 11, 19, 2, 16, 17, 3, 4, 4, 14, 19, 11, 20, 4, 14, 8, 18, 17, 5, 14, 5, 8, 18, 18, 19, 11, 15, 13, 15, 15, 18, 3, 4, 8, 14, 16, 15, 16, 18, 16, 7, 18, 1, 3, 5, 2, 3, 5, 7, 7, 4, 12, 6, 16, 17, 11, 11, 7, 13, 8, 7, 8, 9, 10, 4, 6, 19, 19, 14, 19, 8, 2, 7, 11, 12, 13, 4, 19, 8, 9, 2, 7, 11, 15, 16, 4, 15, 18, 8, 11, 12, 10, 14, 18, 19, 20, 8, 12, 8, 11, 8, 19, 2, 6, 7, 15, 19, 6, 7, 12, 19, 20, 1, 7, 13, 1, 13, 18, 5, 6, 7, 14, 15, 7, 10, 20, 3, 7, 6, 8, 9, 12, 14, 9, 5, 9, 2, 5, 14, 5, 4, 12, 8, 4, 9, 17, 3, 6, 9, 10, 11, 18, 18, 3, 8, 10, 16, 20, 20, 9, 20, 18, 20, 18, 15, 1, 12, 18, 7, 14, 17, 20, 13, 20, 2, 3, 8, 20, 8, 9, 4, 13, 14, 20, 11, 11, 2, 14, 14, 4, 9, 14, 4, 6, 11, 14, 2, 6, 8, 2, 5, 17, 1, 2, 7, 13, 4, 2, 5, 9, 6, 13, 4, 13, 6, 18, 4, 14, 18, 19, 20, 1, 5, 9, 9, 14, 7, 7, 10, 4, 15, 18, 20, 20, 19, 16, 6, 17, 17, 4, 18, 18, 9, 11, 16, 13, 10, 18, 10, 13, 3, 12, 4, 7, 12, 10, 14, 3, 6, 3, 5, 12, 19, 1, 3, 13, 19, 13, 13, 6, 11, 2, 16, 19, 20, 8, 13, 13, 9, 15, 5, 15, 7, 11, 12, 14, 19, 12, 3, 16, 15, 18, 20, 7, 17, 20, 8, 20, 14, 16, 17, 2, 11, 7, 12, 12, 14, 15, 17, 2, 18, 2, 6, 6, 15, 13, 13, 4, 14, 19, 2, 15, 2, 15, 3, 15, 17, 3, 9, 5, 6, 8, 14, 4, 8, 20, 4, 20, 8, 8, 9, 2, 13, 15, 8, 9, 11, 15, 20, 2, 1, 9, 13, 19, 18, 13, 20, 2, 8, 19, 3, 5, 14, 18, 10, 10, 15, 3, 7, 9, 4, 11, 14, 15, 16, 2, 9, 17, 20, 6, 7, 20, 6, 11, 9, 15, 7, 12, 8, 14, 2, 17, 3, 8, 17, 8, 18, 9, 4, 17, 8, 7, 13, 18, 1, 7, 3, 9, 14, 10, 8, 2, 3, 4, 7, 11, 18, 19, 3, 9, 10, 16, 18, 8, 15, 17, 5, 20, 9, 3, 15, 17, 20, 5, 13, 14, 2, 17, 6, 19, 19, 3, 7, 19, 15, 13, 6, 14, 19, 19, 11, 6, 8, 15, 16, 19, 15, 5, 5, 9, 17, 20, 15, 16, 11, 1, 3, 4, 7, 10, 2, 7, 11, 18, 2, 7, 11, 19, 9, 2, 10, 16, 16, 3, 5, 8, 19, 3, 7, 15, 16, 2, 2, 8, 14, 17, 12, 16, 11, 19, 3, 7, 15, 19, 8, 18, 5, 10, 12, 2, 16, 20, 19, 2, 4, 6, 8, 10, 12, 16, 6, 15, 10, 11, 19, 15, 16, 16, 8, 11, 12, 18, 20, 18, 9, 9, 20, 1, 1, 13, 18, 10, 4, 18, 4, 9, 1, 3, 11, 13, 14, 19, 20, 9, 16, 6, 13, 14, 17, 13, 20, 10, 13, 1, 2, 14, 10, 3, 2, 14, 7, 16, 2, 11, 17, 3, 7, 12, 18, 18, 6, 16, 18, 11, 12, 3, 6, 16, 17, 6, 5, 9, 11, 17, 12, 7, 12, 11, 16, 17, 18, 14, 13, 14, 6, 3, 16, 14, 2, 11, 12, 7, 10, 11, 11, 15, 2, 3, 6, 7, 8, 16, 19, 12, 12, 17, 12, 2, 2, 10, 12, 13, 12, 14, 19, 11, 4, 13, 6, 11, 17, 7, 7, 18, 2, 9, 19, 8, 15, 7, 10, 8, 10, 7, 14, 11, 17, 17, 11, 2, 5, 7, 14, 15, 3, 5, 19, 15, 17, 11, 17, 11, 14, 19, 13, 13, 10, 9, 11, 12, 19, 14, 7, 14, 16, 18, 4, 20, 4, 7, 10, 15, 14, 10, 11, 13, 17, 2, 13, 9, 1, 5, 9, 15, 2, 7, 10, 10, 10, 7, 9, 14, 7, 18, 1, 5, 5, 1, 15, 20, 1, 1, 13, 4, 11, 14, 1, 2, 3, 5, 6, 7, 17, 1, 5, 13, 20, 8, 12, 17, 17, 2, 3, 14, 12, 2, 9, 15, 17, 8, 3, 14, 16, 16, 1, 5, 6, 13, 12, 11, 18, 18, 14, 14, 14, 4, 5, 7, 10, 15, 12, 3, 7, 12, 18, 8, 12, 3, 13, 5, 12, 16, 16, 17, 1, 4, 10, 14, 3, 4, 4, 16, 18, 18, 9, 10, 14, 15, 20, 4, 6, 5, 9, 20, 14, 15, 2, 17, 10, 10, 2, 3, 4, 18, 4, 14, 16, 17, 2, 4, 7, 15, 20, 9, 15, 16, 17, 18, 18, 5, 10, 11, 14, 16, 11, 4, 18, 13, 1, 1, 2, 3, 5, 5, 16, 16, 3, 4, 16, 5, 16, 11, 14, 7, 14, 9, 12, 14, 19, 6, 18, 20, 4, 8, 19, 7, 8, 13, 18, 2, 4, 7, 9, 12, 17, 8, 11, 18, 4, 7, 17, 18, 2, 7, 18, 3, 7, 11, 5, 6, 3, 7, 16, 9, 14, 6, 8, 16, 14, 18, 10, 13, 16, 17, 10, 4, 9, 14, 6, 15, 16, 1, 5, 10, 20, 3, 12, 15, 14, 5, 11, 7, 10, 6, 13, 15, 6, 12, 4, 9, 15, 4, 5, 9, 13, 2, 8, 11, 16, 8, 20, 6, 3, 6, 19, 12, 4, 7, 8, 12, 15, 18, 5, 2, 13, 16, 14, 19, 9, 15, 7, 18, 20, 1, 2, 6, 16, 18, 3, 11, 18, 6, 13, 15, 2, 18, 15, 18, 4, 11, 2, 6, 7, 11, 15, 2, 18, 12, 4, 6, 10, 11, 14, 19, 6, 8, 15, 3, 5, 14, 2, 6, 12, 18, 16, 17, 7, 8, 14, 17, 4, 8, 10, 16, 16, 16, 14, 16, 6, 14, 19, 14, 8, 10, 14, 3, 19, 1, 2, 3, 5, 10, 13, 15, 2, 4, 11, 12, 11, 2, 9, 5, 13, 4, 14, 20, 13, 20, 2, 8, 11, 2, 16, 15, 2, 13, 14, 20, 7, 1, 6, 11, 13, 1, 5, 1, 13, 13, 13, 7, 10, 13, 13, 16, 3, 16, 19, 7, 19, 13, 7, 13, 17, 18, 20, 2, 18, 20, 18, 9, 19, 6, 8, 2, 15, 2, 3, 9, 1, 17, 17, 8, 9, 6, 1, 3, 6, 13, 17, 5, 9, 3, 6, 7, 6, 5, 7, 1, 1, 1, 8, 20, 17, 18, 15, 13, 14, 15, 19, 4, 17, 3, 7, 18, 14, 15, 11, 18, 2, 18, 18, 18, 4, 20, 20, 9, 10, 12, 1, 2, 3, 19, 8, 16, 6, 14, 14, 18, 7, 1, 11, 16, 20, 17, 8, 9, 15, 11, 19, 6, 7, 10, 7, 2, 7, 7, 10, 20, 10, 3, 6, 7, 10, 19, 14, 20, 15, 3, 20, 15, 5, 15, 16, 20, 9, 11, 13, 4, 15, 19, 11, 6, 11, 14, 1, 2, 14, 19, 9, 11, 18, 20, 6, 14, 4, 10, 12, 12, 12, 7, 11, 17, 19, 15, 12, 13, 20, 8, 9, 12, 14, 19, 6, 17, 15, 9, 15, 11, 11, 11, 2, 3, 13, 3, 9, 17, 11, 14, 17, 13, 9, 7, 12, 14, 20, 12, 9, 12, 20, 8, 7, 8, 14, 1, 4, 19, 4, 7, 13, 18, 2, 7, 7, 15, 6, 8, 9, 19, 19, 19, 20, 9, 10, 14, 16, 8, 11, 19, 8, 8, 9, 19, 13, 3, 4, 8, 16, 19, 20, 20, 19, 20, 6, 11], \"Freq\": [0.0063574342978034454, 0.048228811914370964, 0.9452847135216709, 6.427135069287786e-05, 0.41975619137518533, 0.5801774827046084, 1.0001151933369856, 0.47228544584532134, 0.5276484698313024, 0.9996869617794418, 0.0002825970209977221, 0.9998530929000429, 9.891569057131808e-05, 0.8391018031164913, 0.16004558734439264, 0.0005934941434279085, 0.00019783138114263615, 0.9077668039768865, 0.09223803253149254, 1.0002356410745086, 0.23424673200310275, 0.7656358017275726, 0.00014327017247896194, 1.0000393966328667, 0.99910845976711, 0.0007683479567550192, 0.000680658217008082, 0.001361316434016164, 0.9980718322061842, 0.00021066870535803154, 0.9998336756292177, 1.0001243347581326, 0.603826170910457, 0.3958667558620243, 0.00024256541413114234, 0.0013798118790785859, 0.9983924525047195, 0.00019711598272551225, 0.5239698007278547, 0.47606242605315535, 0.9997572159180443, 0.0002022981011570304, 0.8008764659259675, 0.00010642876623600897, 0.19891536409510077, 1.0000156546803678, 0.9999865280858186, 0.0006484224582997696, 0.999219008239945, 0.9997441129954089, 0.9990644410065287, 0.0007829658628577812, 1.000377956361088, 0.9992113878250277, 0.0007493915092435607, 0.0004584271881558267, 0.9995518627083697, 0.9999964626469539, 0.999840770901047, 0.00017556466565426637, 0.9999494527186705, 1.0000748415585823, 0.367632630989833, 0.632338338206577, 1.0000103144948917, 0.9999439804303571, 1.0001506961818794, 1.0002549777072662, 0.9996403629466771, 0.0005121108416735027, 0.9998339548577161, 0.00025210852067526014, 0.9993581759567313, 0.00025210852067526014, 0.9995469629006275, 1.0001710286913992, 0.9998576746063569, 0.9999920078904395, 0.9999985514693249, 1.000004471773996, 0.7830213682071205, 6.932460099221962e-05, 0.21691667650465515, 0.8651002075704858, 0.1348287347482915, 0.0006318599964051983, 0.9992865843148211, 0.2813643998893909, 0.7186071086949397, 0.9998592172412198, 1.000154179519929, 0.9996499976163373, 1.000013737294593, 0.9996502416432681, 0.00030182676378118, 0.9999966285277638, 0.9999788047696231, 1.0000232409101861, 0.9999633413296185, 1.0000191735227897, 0.9998534583955504, 1.00014657417241, 0.7273421268123303, 0.18917724800658733, 0.08359312330688191, 0.9999060185265725, 0.9234067902265485, 0.07657519723829914, 0.9996705418739411, 0.0005101667173483568, 0.02922526480809872, 0.10902991559330595, 0.26725447893091775, 0.5939798209127296, 1.0000606861743648, 1.0004453097869057, 0.9999256836359176, 0.06108962834605211, 0.9389156934953471, 1.0001123254438615, 0.9998458160934451, 4.1398054657727934e-05, 8.279610931545587e-05, 1.000111845208031, 0.0003725584342078108, 0.9995742789795563, 1.0000244182562765, 0.4290957564793033, 0.13205744773377456, 0.0003637946218561283, 0.29024747580421434, 0.13745373462464047, 0.010792573781731806, 6.0632436976021385e-05, 0.9998218696837798, 0.0002643229530641271, 0.0002643229530641271, 0.9994050855354646, 1.000178948343497, 0.15772347647113513, 0.8422014290149977, 0.8994493604843717, 0.10021666313352388, 0.0003847088795912625, 0.9931658110870378, 0.006921529229105988, 0.00040098829733061566, 0.999530162479448, 0.7382281077939297, 0.2617950150240289, 1.0000129568600977, 0.4389917665801661, 0.15795258547443009, 0.40303998466580276, 0.1650789782761108, 0.16775304379894196, 0.20524938479686347, 0.1873628576330372, 0.00023769471314054831, 0.028761060290006343, 0.24547921499590125, 0.9998386027583659, 0.9998251295594994, 1.000020551231671, 1.000299249131772, 0.0002175871553280728, 0.9993778044218383, 0.0004351743106561456, 1.000001982507329, 1.0000146573101527, 0.09995903557683697, 0.05077999054579055, 0.11636872710296436, 0.7325826616374493, 0.00030017728401452544, 1.0001246934363754, 0.000446298319378939, 0.9994850862491339, 1.000123147915759, 0.3108393703089993, 0.11147997256408215, 0.06000943203981443, 0.5176702981300197, 0.9999508908330345, 0.9998191536495757, 0.021291658991858736, 0.0016025979886345285, 0.9773558304972574, 0.9999913826518549, 0.9995403855360631, 0.0003429300433475417, 0.9996410763580842, 0.44798206884892355, 0.5520085050337924, 3.86801651613255e-06, 3.86801651613255e-06, 0.0001734168257457913, 0.4181079668731028, 0.3267172997050708, 0.2549227338463132, 0.14078645601374548, 0.8592619567897751, 1.000129678247786, 0.9998602092933142, 0.9998789424488554, 0.0001865793884024735, 0.9999233553270352, 0.00015049021930526606, 0.00015049021930526606, 0.12631145740355332, 5.016340643508868e-05, 0.8732445792220238, 5.016340643508868e-05, 0.9999360870356566, 0.10556597586189648, 0.8945109113798811, 0.9996684396215306, 6.908558670501249e-05, 6.908558670501249e-05, 0.00013817117341002498, 0.9998477326174866, 0.11263384792152842, 0.6908108276963728, 0.1964649621888302, 0.9999394208581935, 0.00011429263361463484, 0.00034287790084390447, 0.1741819736287035, 0.18389684748594745, 0.006171802215190281, 0.6352384576301404, 1.0000022309111283, 9.324104079151797e-05, 0.9999169214482387, 1.0000559953613681, 0.9982360341700661, 0.0015534329819017526, 1.0002661822877514, 1.0000121890985285, 0.16638382490494977, 0.7961037197410854, 0.037530701947631966, 0.9984646056119699, 0.0006806166364089774, 0.0006806166364089774, 0.0008843278096350509, 0.9989956489510625, 0.9997233304162549, 1.0000008574171508, 0.999927908422891, 0.03289081569266427, 0.9670895134063157, 0.9999904909945502, 1.0000567963448963, 1.000167178163455, 1.0000079641819166, 0.9998198165848718, 1.000253034038865, 0.0012990933179867139, 0.9983532148727896, 1.0001277129964514, 0.8133415794835964, 0.001192255178354333, 0.18554471213139306, 0.999951062596419, 0.9998428733479541, 0.8636676323752922, 0.13613124712297567, 0.0001554897168737586, 0.000323299498863075, 0.999642050484628, 0.6026966881364858, 0.3972949921489208, 1.0000644235165497, 1.0000885225230758, 0.22665001077617147, 0.17174480670047865, 0.6016326293374809, 0.9989998551722534, 0.0008147120006297941, 0.0001629424001259588, 0.6224238238733486, 0.3775640359842924, 1.000069047888323, 0.0009008666199973919, 0.9990610815771077, 0.9984095231559107, 0.0017551146815899987, 3.692744421799297e-05, 0.162997738778221, 0.8274332425925686, 0.009527280608242187, 0.0004259826516595232, 0.0005963757123233325, 0.9990145146719138, 0.00010794059961257319, 0.9998537742112654, 0.9999854331405239, 0.9996212583622838, 0.9999046699327273, 1.0001042505657445, 0.00039557622625456957, 0.9996211237452973, 1.000027486134914, 1.0000124825281236, 1.0000244111761496, 0.0003310855600802827, 0.9995473058823736, 0.9994797326467174, 0.0004851843362362706, 0.07032569898769545, 0.929692151110283, 0.9997880600364212, 0.5220681718307695, 0.2723857097704548, 0.20554095698165528, 0.10963440740110876, 0.291199235684748, 0.5992371449603173, 0.9999487746625275, 0.999266732957999, 0.0008200793869167, 1.00006053345274, 0.9999602088563507, 0.6046290397462668, 0.3954067048418432, 1.0001506422314104, 0.9992979480523109, 0.000541771725699274, 1.0001011444782906, 0.16860817151417995, 0.7507417364509308, 0.07678400299002561, 0.003641303234578534, 0.00015831753193819713, 0.9999207011004964, 0.2096037386225054, 0.05009360198142278, 0.00038579195838773464, 0.2325435219943299, 0.5047345867891224, 0.002581838490748686, 2.9676304491364206e-05, 0.025821955193619527, 0.9742209268111269, 0.9998458321061553, 0.040952482823487284, 0.8428285174640285, 0.11581186002771135, 0.00044034927767190623, 0.12663442928086688, 0.8728356530598593, 1.0000503678794912, 0.9963567447073837, 0.0035546084363445724, 1.0000692456589697, 0.0001735210785673605, 0.0001735210785673605, 0.9996549336265639, 0.00021910077983726254, 0.999756858397429, 0.0002567347266552887, 0.9997250255956941, 0.10269078887876275, 0.8972252522391504, 0.9873547102225858, 0.012684945149687129, 0.0003388685351084361, 0.9996621785698865, 1.0000930903560183, 0.987502107564281, 0.0001192203437841701, 0.012339305581661606, 0.0008857543035857497, 0.9991308544447257, 1.0000750028268401, 0.9975811462608983, 0.0024018142998394397, 0.0011156569869524297, 0.996839517841996, 0.0005578284934762149, 0.0011156569869524297, 0.9999744448774103, 0.11507989632432009, 0.5423661849564847, 0.06957795458825616, 0.0015900503809923327, 0.271395099195708, 1.0003699962159804, 0.00013094542558751856, 0.9998992697862916, 0.011038421263804324, 0.022427268599475452, 0.24275766128572843, 0.7238926579588502, 0.6636997693664733, 0.3363001259113587, 0.8336283414519315, 0.16633183781978084, 0.999858457587513, 0.9997060090380064, 0.00030581401316549605, 1.00014512941311, 1.0000368693017139, 0.4198464680516489, 0.5507096605684648, 0.02936515827477458, 0.6143168097951542, 0.00034891147849024285, 0.014654282096590199, 0.00023260765232682856, 0.37042768633047446, 1.00000724370963, 0.0006766436753522836, 0.9991771606035389, 0.9998926121458386, 0.7865116137924825, 0.21352840618541688, 0.00022901160206005678, 0.9996356429921478, 0.9920162124920524, 0.007700762796017127, 0.00039491091261626294, 0.9998888015459296, 0.7905217321499182, 0.2087395194391314, 0.000770572467166605, 1.000038909137652, 1.0000431164834935, 0.9999489323292765, 0.9969522014275717, 0.002849791904985912, 0.0004749653174976521, 0.9999365064401078, 0.05126396720729594, 0.9384529493830545, 0.01029438692398032, 0.008761082869679068, 0.9913856931478945, 0.16732156083090252, 0.8326862050725383, 0.9999481567919378, 0.001308308594414727, 0.9988001612217573, 0.996129683509705, 0.003431971347147993, 0.0002500363826537055, 0.9996454578495146, 0.9998444539357269, 2.859569360241421e-05, 0.9999628095828225, 0.9997067615780613, 0.0003889909578124752, 0.9999818907694016, 0.00010944023408025084, 0.9998459785571716, 0.9997025557573307, 0.9913348793358292, 0.008678383076044705, 1.0001655249311787, 0.9998516693830232, 0.9999920078904396, 0.9999476486481462, 1.0000178457387172, 1.0001467637680135, 0.9999125999830201, 1.0000220960698405, 1.0001609135941172, 1.0000531446345104, 0.9998736988752707, 0.00011986018926819355, 0.9999179336993294, 0.9989427982046202, 0.0008678912234618768, 0.7922310594274699, 0.1171385725919967, 0.003843348316142545, 0.08672599026426005, 0.2943343453047824, 0.6867385487738544, 0.01896516341090586, 0.9999868738644531, 0.00016634989869859318, 0.6517589031010881, 0.34817033797615554, 0.9907619077711887, 0.00908955878689164, 0.9997732289107194, 0.9999913888178055, 0.9999886434469025, 0.8366670194214767, 0.16380316329601907, 0.9997588808162055, 1.0003733226111209, 0.9999887848111801, 1.000042962658676, 0.3267987860148175, 0.11546499297615095, 0.5577287719671193, 0.9999253922748491, 1.0001028717494076, 0.07395891988788518, 0.5773967703694757, 0.3485895944366057, 0.9999533206776359, 1.000013566299848, 0.9999617909176775, 0.9989258864714243, 0.000578751962034429, 0.0002893759810172145, 9.002837485450674e-05, 0.9992699466975976, 0.0003150993119907736, 0.00036011349941802697, 1.0000090488756268, 0.9999911176550206, 0.9998926600446357, 0.0003385139035214178, 0.3918298433260411, 0.6078017137727056, 0.9236365522136978, 0.001844199438696235, 0.07253851125538524, 0.0021515660118122744, 0.9998089971293185, 0.999966763252262, 0.0005045229805035056, 0.003783922353776292, 0.9954238405334166, 0.9997458874871785, 0.00048387065918442906, 0.9996767818750305, 1.0000008574171508, 0.0004957007281257704, 0.9994979014775949, 0.9992589655760281, 0.00010821517929131776, 0.00010821517929131776, 0.00043286071716527104, 1.0002177255673101, 0.9999640634186261, 0.999889815274358, 1.0002447176552935, 0.052406761891927466, 0.9476439212210389, 0.9994195168928317, 0.00026006232549904545, 0.00026006232549904545, 1.0004147911883932, 0.9549307982304206, 0.007018636653462874, 5.660190849566834e-05, 0.03792327869209779, 0.00011320381699133668, 0.08343915891388105, 0.9066247630079961, 0.009843094971691958, 0.008448905796713407, 0.0011545088666316456, 0.9902537415154161, 0.00010495535151196778, 0.9999999416048609, 0.6173180004607695, 0.3826603102233746, 0.9998537371667084, 0.9998892125339135, 0.9998913964642213, 7.198123939703559e-05, 1.0000216492261418, 0.9999910290704677, 0.0008434608797499774, 0.9986576816239732, 0.0002811536265833258, 0.9998143973456713, 0.6256541202645348, 0.37440903379602963, 0.00021664752334992203, 0.9991783776898404, 0.00021664752334992203, 0.00021664752334992203, 0.9999755075918393, 0.04966906936554848, 5.5496166888880975e-05, 0.0007214501695554527, 0.9495394154687535, 0.9998472518749546, 0.999638782907834, 0.0003063088043229153, 1.0002675773010448, 0.0013701654959804967, 0.07012311270500185, 0.5684718773859082, 0.3600109840688755, 0.9991937444438724, 0.0006599694481135221, 0.998947303242476, 0.0011230436236565216, 0.00022108131653349866, 0.9997297133644809, 1.0002258726245465, 0.00018944202936627027, 0.9998750309951745, 0.999868848760153, 1.0001590804839475, 0.9984716540047259, 0.0016476429934071384, 0.5672353476048321, 0.2939991232136668, 8.81028238578564e-05, 0.13864447714431336, 1.000046229797369, 0.9947644130349586, 0.005042252636672491, 1.0000464268886435, 0.9999353515905598, 0.9999534016949609, 0.9999043429403606, 8.71528234062896e-05, 1.000097344583351, 1.000079786709797, 0.9975739677979497, 0.0023701599023710526, 1.0001587008240527, 0.9999689636981416, 0.9999011227495264, 0.0003790906393134865, 0.999662015869664, 0.00031793854620752726, 0.0038152625544903276, 0.9957835267219755, 0.2085720673305294, 0.7913862568961226, 0.35404954645619763, 0.6459314554338934, 0.10262820701750264, 0.8973870460049637, 0.9993602690827156, 0.0008091985984475429, 0.00015527143995235166, 0.9942030300149077, 0.0048134146385229015, 0.00093162863971411, 1.0001065483614369, 0.01870852343406542, 0.5530707240195589, 0.4282497942329037, 0.999645669767722, 0.6375077210309454, 0.3624904961870412, 0.999531135883181, 0.00010857387963102117, 0.0003257216388930635, 0.5084773329164437, 0.4453152692208354, 0.04615439597901078, 0.9999510533532712, 0.9997239639220884, 0.29136356125913, 0.708641481323884, 0.9999702857750803, 0.9994356209372461, 0.0006079292098158432, 0.9998437505234522, 1.0002383792193958, 0.9972777627176886, 0.0023548471374679777, 0.9997032019645794, 0.4454253416340112, 0.024340182602951434, 0.001957797296324354, 0.5282348759244873, 0.13127004186354949, 0.005519733028091078, 0.8631949417388446, 1.0001332173027055, 0.0004230090839704763, 0.9995704654222355, 0.9999544680334591, 0.8220334171946896, 0.1139696482529276, 0.011492266547884978, 0.052500037180947715, 0.9999798924381725, 0.9998725611030433, 1.0001762328806614, 1.000079983293752, 0.9999622180958657, 0.018422976635061875, 0.7084780646064117, 0.2731185061520463, 0.6279433809078157, 0.37205280356676956, 0.9998479830110356, 1.0002149355938323, 0.9999581816873666, 0.9997135847489867, 0.9989054949078731, 0.0011293448218291386, 0.023874452692045734, 0.0002273757399242451, 0.0031832603589394314, 0.972258663916072, 0.0004547514798484902, 0.00013310831626985682, 0.9999096718191645, 0.9985497437686963, 0.0014995490971147264, 0.9998434810741511, 0.00016863610745052304, 0.09942688174032664, 0.20211960996117495, 0.02552198545889163, 0.06567980144160263, 0.6072055308229194, 0.9996009083190228, 0.9999312651420978, 5.66902664706238e-05, 0.9950885567970944, 0.004968817693727169, 1.0000752222388802, 0.30953581266662855, 0.6904929958438569, 0.8240006351173185, 0.17580766953753488, 0.00013042111983496653, 0.9942709166801277, 9.610196372319038e-05, 0.0008649176735087134, 0.004612894258713138, 9.610196372319038e-05, 0.9314538729934966, 0.0001619638102927311, 0.06834872794353253, 0.0005340964750383154, 0.999294504796688, 0.979052444557471, 0.01851029927173811, 0.0019934168446487195, 0.00028477383494981707, 0.9999371585855132, 0.9999877852690907, 1.0002096566298084, 0.9997048846786692, 0.002531570797815793, 0.9974388943394225, 1.000231038743217, 1.0001126726336511, 0.9996665143724295, 1.0003589758116362, 1.0000662491118817, 0.2648885483876293, 0.7349639345918823, 0.0001612470238244586, 0.015091310853246828, 0.6093592323516892, 6.34088691312892e-05, 0.0001902266073938676, 0.3752536875189694, 1.0000185140693978, 0.9999862574544222, 0.18373515818045824, 0.4408059113605915, 0.37548176791550286, 2.502848429701519e-05, 0.9999630331186478, 0.9997591064435734, 0.9999980013740574, 0.9998133293714198, 0.9993051029179811, 0.0006197881556241355, 1.0001328948771353, 0.9999770378106095, 0.9999778218373666, 0.739038476519325, 0.26106084674302416, 0.9999635000434682, 0.9974116508057647, 0.0026325612690353407, 1.0002062443109783, 1.0000344637944023, 1.0001483184839197, 0.8245595695340371, 0.08730383836247377, 0.08772356835460104, 0.00041972999212727777, 0.9980487433514931, 0.002427161340835343, 0.0005857670736815311, 0.00019525569122717703, 0.9983423492445561, 0.0007810227649087081, 0.9998645075683164, 0.9997797491962565, 0.00037416919131469574, 0.9994059100015523, 1.000193854070366, 0.9999207011004964, 0.0004991701763472491, 0.9993386930471927, 0.9184331846569692, 0.08139553356086897, 5.785041475541504e-05, 0.00011570082951083008, 0.9979991324587936, 0.0016902961353040297, 0.00024147087647200424, 0.9997959679781003, 0.9999835521241747, 0.9999817986778514, 0.24452289059081628, 0.46524549237156243, 0.17503698992693337, 0.11521710694070347, 1.000197987485827, 4.5297877682519785e-05, 0.5755095359564139, 0.4244411138852104, 1.0000420022485605, 1.0001016236579532, 0.0008300126324391039, 0.9990585385792013, 0.6983026184879233, 0.30177169525469755, 1.000009937761094, 0.7509214466454769, 0.00038721547893321096, 0.0021573433826278894, 0.24654562708647446, 0.05067601776007776, 0.5411743073087214, 0.40814673127569084, 0.999809365561419, 0.9998687536054145, 0.9999330263584545, 0.9998271154485254, 0.9998629375691668, 0.0016963426590546947, 0.12647176935841115, 0.00018848251767274385, 0.8717316442364403, 0.9999330780360614, 0.9999952654156729, 1.000417175536498, 0.998597909546157, 0.001351282692214015, 0.999858784555736, 0.9997994259116241, 1.0000550599777758, 1.000049389725109, 6.384913822153034e-05, 0.9998775045491651, 6.384913822153034e-05, 0.9999231685192987, 0.9999424919303084, 0.999844619718309, 1.0001917539811664, 1.0004133062674028, 0.9996338900434136, 0.0002906757458689775, 0.9998072416314879, 0.00013407633654706824, 1.0001042666013458, 0.9996001541834786, 0.00033011894127591763, 0.00010139335106260368, 0.9998398348283348, 1.000034596095515, 0.9989727615316132, 0.00048533089629066226, 0.00048533089629066226, 0.00045193624315695193, 0.9995699858023884, 0.9997184589381621, 1.0001185866375333, 1.0001017212096184, 0.9997253078963748, 0.005006291682632783, 0.9950004719232657, 0.00020135708337875333, 0.9997379189755102, 0.8467116038479149, 0.1532567876079824, 0.9999520991506744, 0.9999627485763429, 1.0000130632625475, 5.35718355203987e-05, 0.999945095906002, 0.07373834627348501, 0.9262153114618165, 1.0000537612173552, 1.0002961486656559, 0.147270850553301, 0.3401888610009053, 0.5125099822279092, 1.0002577186216899, 1.0001755292079042, 0.9999946617628421, 6.210133879728545e-05, 0.8601035423424036, 0.13985221497148684, 0.99988079007655, 0.9995009020456467, 0.00044652470606042113, 0.998802700612742, 0.0011565364841868394, 0.00010540925495159053, 0.00010540925495159053, 0.9998067832158362, 0.07551444030892736, 0.9244213704615449, 0.9997390504553443, 0.00028078613971502437, 0.0006101104473248821, 0.30973273709193183, 0.6886113248806836, 0.0011185358200956172, 0.9998673849909947, 9.431821384690073e-05, 0.0001326780957626396, 0.999862129667252, 0.2558763085965815, 0.744113813317473, 1.0000159777275794, 1.00009295689288, 0.0017619719955715666, 0.00264295799335735, 0.9955141774979351, 0.2642966941050656, 0.7357533828430955, 0.9998908904880635, 1.0000779792595123, 6.680010083855792e-05, 7.707703942910529e-05, 0.9998536324129443, 0.00017543275283178825, 0.9997912583883611, 0.9999309501442418, 0.00013689533613827381, 0.7811932356730594, 0.21862185181282326, 0.24780165386151257, 0.5807138205133973, 0.171476006332345, 0.9996873439234547, 0.00029886019250327495, 0.9999579463678455, 0.9998796192193581, 1.0000248033916126, 1.0000344055655561, 0.9999925965878774, 0.9999978502324073, 0.9503403306970671, 0.00019264957038253946, 0.04912564044754756, 0.00019264957038253946, 9.632478519126973e-05, 1.0001766568029336, 0.0002160070194396513, 0.2919334867726887, 0.001512049136077559, 0.7062349500579399, 1.0001309196610362, 0.001134166355229119, 0.9989170173680464, 0.01901489012303104, 0.9719019191053471, 0.009105722030747259, 0.0010298075606393151, 0.9989133338201357, 0.0003479593719787216, 0.999687275694867, 0.9999106696474948, 1.0000570480210342, 0.9997727539246926, 0.9998653100319811, 0.00010356469108001254, 0.9999452848403901, 0.9999756055975917, 0.9999677875702242, 0.00022751225517795922, 0.9996888492519528, 1.000227028110128, 0.3256466420410387, 0.002360138330141205, 0.6719576063504249, 0.9999665076273817, 0.0015184007769324002, 0.7726129286624362, 0.2258621155686945, 0.9999805736684327, 1.0002063113892543, 0.003415035351999344, 0.9964314260389198, 0.7567540466250002, 0.24317530778644547, 0.999746532438637, 0.0002872009573222169, 1.000039733290835, 0.9996830006625299, 0.9912617554160611, 0.005965466933296255, 0.0029827334666481277, 1.000131230980217, 1.0002119132718168, 1.0001892371071979, 0.9997328156501138, 0.00023030011878602023, 0.9997153680665952, 0.361253689313805, 0.3397159779582468, 0.2990428384367888, 1.000154154385917, 1.0000712021664415, 0.00042377493926529865, 0.00042377493926529865, 0.9988375318483089, 0.9998493949795015, 1.0001024046008835, 0.25280092798703807, 0.7472131477527516, 0.9999539176987391, 0.9620297352236876, 0.004522233164636576, 0.007235573063418522, 0.02622895235489214, 0.7569898904795134, 0.24234458481229895, 2.7788623416156286e-05, 0.0005001952214908131, 0.0001667317404969377, 0.0005021463691857366, 0.9985180551258372, 0.000753219553778605, 0.0002911253482104564, 0.9997244457547072, 0.9998913849592147, 0.38997897869548265, 0.6100293062263914, 1.0001242455366346, 1.0001501788257972, 0.00038586125474451366, 0.9997665110430348, 0.9998494443661946, 1.000019250132896, 1.0000395254784682, 0.00039563836364974174, 0.9993825065792477, 1.0000646805218443, 0.9994444655262629, 0.00048664368376202696, 1.0001702528219683, 1.0000035330320423, 1.0000364980510472, 0.9997341061534699, 0.0003308306625118507, 0.9997702621108129, 0.9999451080156649, 1.0000529832988796, 0.07671592886812913, 0.9233310010199827, 1.0001344523390292, 0.0006263769303696856, 0.9993843924048333, 1.0000467464838743, 1.0000041192248197, 0.37047334969077916, 0.6294853208970049, 0.0002935510978725899, 0.9996882638051049, 0.993201226487688, 0.00645903749091543, 1.0001129718406734, 0.001582754213069026, 0.9984541160777105, 0.1595422128251012, 0.7030899665430772, 0.13736241832137291, 0.27779037734822415, 0.5595723541913487, 0.0042410744633316665, 0.15841660495385929, 0.3625792371003433, 0.01895929598578131, 0.034251282894020976, 0.5841746582480245, 1.0002403359973921, 0.2192607912342539, 0.00018317526418901747, 0.7805098007094035, 1.000050724306715, 0.9416811530975564, 0.053062985611052785, 0.0029894639780874807, 0.0022420979835656107, 0.3042258485561187, 0.02036854568243877, 0.022348097436742285, 0.6530437050512851, 1.0000891183307832, 0.9999369486846948, 0.9984863120493563, 0.00013011288924281422, 0.0014312417816709565, 1.0001584595153135, 0.9998823983615925, 1.0000209219004528, 1.00004103059427, 1.0003450660378788, 1.4399157490917614e-05, 0.21624654719860073, 0.7837317430731549, 1.0003542561255878, 0.9999092175099951, 1.0004747278772341, 1.0000305184940812, 0.9998597959090181, 0.9983566366960264, 0.0006449332278398104, 0.0006449332278398104, 1.0003644135116692, 0.0014550640053161079, 0.26282875328116745, 0.04737921878628152, 0.3086028154999799, 2.91846648630738e-05, 0.09203175602678443, 0.28766490307964326, 0.999084720648089, 0.0006718794355400733, 0.0003477494853538941, 0.029210956769727105, 0.9702210641373646, 1.0000681360343195, 1.0000030377436486, 0.9999424150017192, 0.0003084673058328779, 0.9995883045514409, 0.720395937375393, 0.27968465762797146, 0.9996423565614999, 1.0000668699069581, 1.0000109431193565, 1.000087515336231, 0.9999957650504616, 1.0004577623956346, 0.9990524764386751, 0.00046554169451941993, 0.00046554169451941993, 0.9998264075579297, 0.9996809140212697, 0.0002527957805086028, 0.9998663656107859, 1.0000259658025055, 1.9016972669663677e-05, 9.508486334831838e-06, 0.5682556688285552, 2.8525459004495513e-05, 0.41362866405151977, 0.017086749943692813, 0.0009698656061528474, 0.9997387654832959, 0.0003244851559504368, 0.999683325160894, 0.0001808063323888153, 0.0012656443267217072, 0.9985933737834269, 0.3862813659599741, 0.6137448823859403, 0.999601945882435, 0.00030054177567120715, 0.17031840796950648, 0.8287231999027777, 0.0008711939026573221, 0.9998737531075406, 0.9999830096493694, 0.9993635079369222, 0.0005475964427051628, 0.003162545503128804, 0.9969924698613555, 0.22403215175626923, 0.47014893838077515, 0.3058370950946033, 0.7217004700560622, 0.011477329958758475, 0.2667510349895346, 2.981124664612591e-05, 0.9997513991596466, 0.09293631829416038, 0.9071434810625425, 0.9999984453397527, 0.9997423368400051, 1.0000389091376523, 4.102929717729891e-05, 0.99980191361642, 4.102929717729891e-05, 8.205859435459783e-05, 0.9999878547802072, 0.0006185837974052088, 0.9994252220076825, 0.7259197967021331, 0.27409002716769815, 1.0001772473651636, 0.002130594144573576, 0.9979170324646488, 0.008759250337067469, 0.9859631160661569, 0.005474531460667168, 0.999762570023993, 1.0001032882474419, 1.0000177807258124, 1.0003696880393873, 1.000011154454927, 0.37301986217278443, 0.6270252062413552, 0.999852622527175, 0.0210018633755539, 0.0002727514724097909, 0.9786322830063298, 0.9972064574910303, 0.0024471324110209333, 1.0000925504434026, 1.0000204952514369, 0.9999711313747494, 0.02289377388833658, 0.2435862455475505, 0.002631468263027193, 0.1656947849619456, 0.04789272238709492, 8.77156087675731e-05, 0.5170835136848434, 1.0003138317007256, 0.9999900440844438, 0.999765374729077, 1.0000436105791009, 1.0002391399497217, 0.9979814731417779, 0.0005486429209135667, 0.00027432146045678333, 0.0010972858418271333, 1.0000349250881997, 0.8380324228015794, 0.16189761740061953, 0.9998536591355777, 0.9997151205635957, 0.00025712837463055447, 0.8773087536602745, 0.0009065448242420817, 0.12170364265449947, 0.9998636306500749, 0.999938148718812, 0.9998764561582205, 0.9997411723113272, 0.0007780809458787797, 0.9990559345083532, 0.9995089220177483, 0.00043138063099600705, 0.00032678179731579856, 0.9996255179890278, 0.999545988441653, 0.9999007891072808, 0.2778276227974774, 0.7221719227957092, 0.00034553334359956154, 0.9996279630335316, 0.9999283351111444, 0.9999405217979691, 0.01899611911920159, 7.882207103403149e-05, 0.9808618519474879, 7.882207103403149e-05, 1.0001527575332716, 0.0004975222430427668, 0.9995221862729186, 0.999892099863682, 0.0003850939528739451, 0.9997039016607614, 0.9999284456236953, 5.3968504189534506e-05, 0.07441951613113265, 0.06071319798506153, 0.8648493703436427, 1.0000689299141265, 1.0000021518071611, 0.9998576746063569, 0.47264549079538837, 0.00010340089494539234, 0.5201065015753235, 0.007134661751232071, 0.9999060223167627, 0.005490843408182172, 0.9938426568809731, 0.00042237256986016704, 1.0000026403006455, 0.9974802267664036, 0.00246968969488243, 0.00010782744614788433, 0.9996682532370356, 0.00021565489229576865, 0.9998091688856804, 0.999999584670916, 1.0000724848117237, 0.00037949042667412053, 0.9995777838596336, 1.0001968030765458, 0.9999238060468373, 0.9999024182707841, 0.9999640321294508, 0.7050652118346662, 0.0016821310075979153, 0.29319543462431663, 8.410655037989576e-05, 1.0000020467896582, 0.05162162066721831, 0.9484086775566742, 1.000004904893811, 0.9998299982241948, 0.0003721099786791923, 0.9633927348004289, 0.03609466793188165, 0.013660309060760243, 0.9862149215387993, 0.3049744821169907, 0.6950394183689435, 0.9999453975747602, 0.3986791496813336, 0.0008438465742725938, 0.6004351942574174, 0.9999897845140915, 0.8822667757810366, 0.11749052007934889, 0.0089623249443877, 0.002444270439378464, 0.988625917047276, 0.10836675695775475, 0.0003467736222648152, 0.0001733868111324076, 0.5799788832379035, 0.20338272945831412, 0.10767320971322512, 0.9999366794439062, 0.6926181506940836, 0.3070667414826512, 0.00036168049644599664, 1.0001778689144385, 0.0005206065560237606, 0.0002603032780118803, 0.9990439810095966, 1.0000353132959467, 0.6361995977538077, 0.36260217140190115, 0.001141086474999931, 1.0000249899851683, 0.38072069557815297, 0.6039044782590666, 0.015418837742784677, 0.9994817638979093, 0.9999431294687623, 0.6411719109193904, 0.0001173662659563226, 0.35872999189550003, 0.9999358908157236, 0.6046204323017605, 0.3953811242135488, 0.9999105420541758, 0.9998860935998681, 0.9998174629730816, 0.3571080935652806, 0.6430040159797135, 0.999784919462047, 0.999992644771043, 0.9999690209435241, 0.9996390096139675, 0.0010445971008418596, 6.528731880261622e-05, 0.0001958619564078487, 6.528731880261622e-05, 0.9985695410860153, 0.9997508794979236, 0.0010890501377303786, 0.9986589762987571, 0.9997187034344743, 0.000260004864352269, 0.00012142767951484653, 0.9998759890184179, 0.9958763540177272, 0.004742268352465368, 0.0010156282627514592, 0.00020312565255029184, 0.998768833589785, 3.067905828235327e-05, 0.9999532256550225, 9.162072571362326e-05, 0.08676482725080123, 0.07778599613086615, 0.8353061563311033, 0.9999228280673534, 1.0000735408354937, 0.9997548081355885, 0.1532868451779533, 0.8467217375895687, 1.0002192979985254, 0.7852103883346518, 0.21468582928786775, 0.4016939951001097, 0.5790509285768364, 0.019273898726833407, 1.0001285538395002, 0.999986482439879, 0.9889764092985746, 0.010978996071675674, 2.6265540841329363e-05, 0.9998997705286913, 6.257978285947498e-05, 0.0038897043428948804, 0.9961532822153788, 0.9999663755372314, 0.99989452017612, 0.9961631899446346, 0.0013740181930270822, 0.0020610272895406232, 0.9996094592592403, 1.0004514445724182, 4.6496271115904605e-05, 0.0001394888133477138, 0.9998093178052967, 0.0525096353713688, 0.07792994784943977, 0.628061457791531, 0.08486276034345912, 0.15663020819821502, 0.39451787251461545, 0.09816569320014921, 0.00015459164283488066, 0.5069059968555737, 0.0003091832856697613, 0.9999601838802235, 0.00010562392066638876, 0.3000775586132105, 0.424925032840882, 0.00010562392066638876, 0.2747278176532772, 0.999857901254977, 0.9985287888108069, 0.001582812844582348, 0.9998093417800074, 1.000198587714092, 0.07917547834183497, 0.17459208044609764, 0.3770524528027246, 0.3692087282583703, 0.0002202524070498807, 0.9997256755994085, 0.9997494066976443, 0.9999098301251943, 1.0001482813673075, 0.9999976561107656, 0.0006151599794290327, 0.9996349665721781, 0.0003876201230536414, 0.9996722973553412, 0.0019098681965412855, 0.9981448662173893, 0.0011699401253581231, 0.00038998004178604105, 0.9971789668469069, 0.0007799600835720821, 0.00023203426783241913, 0.9991395572863968, 0.00046406853566483827, 0.9989691260968656, 0.00021404952348336523, 0.0006421485704500957, 0.9578061404459998, 0.00042702012503165394, 0.00042702012503165394, 0.040993932003038774, 0.0009444547393109518, 0.16350872674320854, 0.2976212997253637, 0.0005902842120693449, 0.5359780645589651, 0.0014166821089664277, 0.0006190660943908709, 0.0009285991415863064, 0.9982440772052793, 0.9998609984783147, 0.1309400058114948, 0.000405073490522799, 0.8685788320535118, 0.00019762599095208733, 0.9991970102537535, 0.000592877972856262, 0.9999788047696231, 0.999588033641749, 0.0003618745709627112, 0.0006107386721154037, 0.9991684675808005, 0.8929013829837752, 0.10663908489948763, 0.000491218565282397, 0.0003239282474544563, 0.9996425716444521, 0.5009045710275393, 0.25997392526944724, 0.23913053475950616, 0.0023592781370090675, 0.9976376122209771, 0.9994699331446769, 0.00043210978519008945, 0.4005843077946093, 0.5994158078804477, 0.9999319783551984, 8.882377475802173e-05, 0.18777345983845795, 0.8121157726125927, 0.0012901011903374657, 0.021137811810913863, 0.9774997480633875, 0.0003546442201069507, 0.0003546442201069507, 0.001063932660320852, 0.9979688353809594, 0.13238682589602027, 0.8473782118339651, 0.02024890463850068, 0.9997262249698263, 1.0000671248616797, 0.9999308104082907, 0.8908735616609179, 0.10919653652959357, 0.8947377121786859, 0.10427533155547805, 0.001015069599212618, 0.0003149074120470526, 0.9995161258373448, 1.000174367829012, 0.9998689011063333, 0.00016975702905031126, 1.0003920670755595, 0.10327921215506725, 0.896127303605944, 0.0004803684286282198, 0.0004304567430354225, 0.999520557328251, 1.0000150556144682, 1.0000837789500576, 0.9999445926617032, 1.0001919376307407, 1.0000079866150635, 0.0016841509923465874, 0.997859462965353, 0.00033683019846931746, 0.9997348317716583, 0.3123975870207664, 0.00025162914782180136, 0.6538583406149509, 0.0008807020173763047, 0.00025162914782180136, 0.032334345495101474, 1.0000293106627463, 0.9997317498508917, 0.00031277479120740595, 0.9996282326988695, 0.3042906513588557, 0.6957312508361007, 0.999550655428496, 0.0006298365818705079, 0.18777876617089026, 0.3898857434108017, 0.42228622070255806, 0.9998799084179408, 0.00015295699991095928, 0.04051040021259315, 0.9573957916909515, 0.002160554678004968, 0.9996615024657463, 0.0002194405668896381, 0.00010972028344481905, 4.033030431819887e-05, 0.9999226783958773, 2.6886869545465915e-05, 0.9999970052339806, 1.0000710305040883, 0.002660684115730773, 0.997313096046418, 0.0001851769380665219, 0.9997702886211518, 0.008383830170692885, 0.5563509701271798, 0.41729117369595387, 0.017550151157317104, 0.00033535320682771537, 0.000355075800442652, 0.9995383782460654, 1.000384173453374, 0.9999079916664934, 0.0002550021307722293, 0.00017000142051481953, 0.5076242416572511, 0.028220235805460042, 0.4637638751644277, 0.8647868131978254, 0.13514540389126448, 8.985731641706414e-05, 0.001858902211328412, 0.9982304874833572, 0.9999902626288983, 0.20859111211513537, 0.7416791524169294, 0.0489992329402535, 0.0005903522040994396, 0.01603338761585607, 0.983956664609998, 0.9996968942400034, 1.0001024046008835, 0.0003875382244852435, 0.9996548500596856, 0.7243974234467041, 0.2234869679368494, 0.00024970610942664736, 0.05181401770602933, 0.9999824202050549, 1.0002125674544309, 0.9999501984436467, 6.717838081583115e-05, 0.0011262527220745016, 0.9967336590359339, 0.0022525054441490033, 0.9999820596502643, 0.9995912493359084, 0.0005501327734374839, 1.0000335623640384, 0.9984600736912232, 0.0015412298539097863, 0.059700092239010585, 0.08748453136788525, 0.4678802344267641, 0.38493193801869513, 0.9994673147336073, 0.00011120019078033014, 0.0003336005723409904, 0.028243818600709535, 0.5824143042625116, 0.0010565019426699328, 0.3882996806626226, 0.9999584208570949, 0.00021655058655645651, 0.9998140581311598, 0.9999570491369136, 0.9995916080161482, 0.04913249602104719, 0.9508935510414865, 1.0000267142423611, 0.00019620322278947393, 0.9998516233351592, 0.5987393478091995, 0.0005406224359451011, 0.4006012250353199, 0.9992256841993192, 0.0007434714912197316, 1.000395234761507, 9.444488667031008e-05, 9.444488667031008e-05, 0.8115649111579746, 0.188228659133928, 0.999994057292318, 0.9997774145021189, 0.9988919458224624, 0.000582670783096906, 0.000582670783096906, 0.5814313546428123, 0.4185110007711759, 0.6892305081826523, 0.3111855108800718, 0.9999503821509788, 0.999668261272334, 0.8481184277465361, 0.1502572017661186, 0.0015816547554328274, 0.0006134771050174042, 0.9993542040733516, 0.001896071553144472, 0.9978076548422784, 0.000237008944143059, 0.5090988363097853, 0.49093389765346107, 1.000164790822817, 0.0007075462947322331, 0.9992817829762274, 0.00016288160868303087, 0.9551377533172931, 0.04462956077915046, 1.7847444048173344e-05, 0.6278730816147383, 0.37210136096036606, 0.9998461901787291, 0.9999006288376922, 0.9999422710713262, 0.0011149525845235357, 0.9989975157330879, 0.0011177373315367568, 0.9986983057280923, 0.6356004411399012, 0.3615426856926373, 0.0029185371359319017, 0.00043294819776956304, 0.9996773886499211, 1.0003067499610028, 0.9356037347999625, 0.0644137063528794, 1.0001063357439746, 0.3436715498110919, 2.7467355323776526e-05, 0.5919215072273841, 0.06427361145763706, 0.0001098694212951061, 0.9745247114086368, 0.0255557179565202, 0.12418275588200521, 0.875050605149322, 0.0007960433069359308, 1.0000161883227612, 0.9992506225451376, 0.0005833336967572316, 1.0000059680147895, 0.9997290792995129, 0.9999736904996833, 0.9991907604690806, 0.0008858074117633693, 0.9999291971461974, 0.9999384501924239, 1.0000220375502478, 0.30404786736105427, 0.0628258447694634, 0.4859506039610123, 0.14712936205313873, 0.9999029998173862, 1.0002013896765403, 0.0011420484811053182, 0.00019034141351755306, 0.9987213967266009, 0.9997059078478131, 0.0002565980256282888, 5.5191930078106044e-05, 0.9999121972250472, 0.9935481068002356, 0.006284663125245884, 0.9999946640769023, 0.9999823911919724, 0.00011788934261823979, 0.9998195147452917, 1.0000077975834194, 0.999808551525608, 1.0000433215325084, 1.0000012634957511, 0.0012156336213002287, 0.5319072445200335, 0.46666824017692116, 0.00020260560355003812, 0.5860675700274223, 0.4138871426134253, 0.9993340974311344, 0.00044613129349604214, 1.0003128327004822, 1.0000009607174003, 1.000055624976021, 0.999571665812674, 0.000543540873198844, 0.9998572990432274, 0.00022057297574304597, 1.000099946828904, 0.9999987010318875, 4.330216342372396e-05, 0.9999552088623457, 0.9988621140917717, 0.0011250347627321865, 0.0001231506213492229, 0.3004875160921039, 0.6993723786422369, 1.0000068049796627, 0.9998001554298006, 1.0000527026311892, 5.649370906641721e-06, 0.9999668973301179, 2.2597483626566885e-05, 0.9999466176932933, 0.8628296733505505, 0.0005151221930451048, 0.13582055156622597, 0.0006868295907268064, 0.9999612264022801, 1.0000089411412323, 1.0000591509628185, 0.9999422031044723, 0.00022916541032254155, 0.9998486852372488, 0.9999075790798599, 0.9999807985199956, 0.9999152246783747, 0.6797637115871312, 0.32029802812902675, 0.0018090826647249886, 0.1318821262584517, 0.8663696881367972, 0.00044960708916472105, 0.9918332386973746, 0.007643320515800258, 1.0001406700466373, 0.00037534569340503014, 0.9995455815375953, 1.0004900988413115, 2.371054973589163e-05, 4.742109947178326e-05, 0.40488134729008546, 0.5950399561719364, 9.303347911506624e-05, 0.2911947896301573, 0.5155915412556972, 0.19313750264287752, 0.999075038436509, 0.0008683833450121765, 0.0025499094431886576, 0.9975812388296958, 0.9999436211365389, 1.0000478058060607, 0.9998151267107953, 0.9959630080273626, 0.003397407269576414, 0.00026133902073664723, 0.00026133902073664723, 0.9996841542735352, 0.9975420339502894, 0.002517456237098522, 0.9999502926554729, 0.0002397957478479968, 0.09485634654158616, 6.851307081371337e-05, 0.12017192620725325, 0.7846459434940524, 0.9993598687976243, 0.0006152133901705455, 1.0000551295870903, 0.9992771706058702, 0.0007182585233465374, 1.000159087741159, 1.000158244831859, 1.0000723141760912, 0.6652381920805523, 0.3346787688783311, 7.22692223878927e-05, 0.6397536319939592, 0.35898628331132726, 0.0012674364407427492, 0.3294556952561979, 0.0009605122310676323, 0.6696371104259844, 1.0002457767629176, 1.0001497937492254, 0.000133479754459565, 0.9998968406566016, 0.9997378930643129, 1.000011387731235, 0.9998329891645984, 0.9993976698333165, 0.0004594931815325593, 0.9999924289054319, 1.0002454398418161, 0.49938484824175267, 0.3209088895090211, 0.1797053798194322, 0.0003138024815858793, 0.9994609038510256, 0.0003138024815858793, 0.36364925733493875, 0.5044457794562562, 0.0003379116530911619, 0.13161658887900757, 0.0007654097928515031, 0.9988597796712114, 0.9982870222964356, 0.0015117925627911694, 0.2271779642893694, 0.3854336135385141, 0.044475074308758814, 0.34290001289286015, 1.0000745217968885, 0.9987541417631826, 0.001123205287632909, 0.3078189365736214, 0.000254290736533351, 0.6752690508643135, 0.01665604324293449, 0.0060081381020377555, 0.0007068397767103242, 0.9934633061663607, 1.0000383616778248, 0.488666012935524, 0.4378580398654561, 0.07345731046274877, 0.9997008515446328, 0.299819356103137, 0.31068463501137483, 0.29852799098699395, 0.0909744459406964, 0.00023932126706643388, 0.9997645931700275, 1.0000510483545375, 0.00030127787443583317, 0.9996399873780943, 0.9908789716141927, 0.009122015849152522], \"Term\": [\"access\", \"access\", \"access\", \"accord\", \"accord\", \"accord\", \"accuse\", \"active\", \"active\", \"active_case\", \"active_case\", \"adapt\", \"add\", \"add\", \"add\", \"add\", \"add\", \"additional\", \"additional\", \"additional_death\", \"address\", \"address\", \"address\", \"administer\", \"administration\", \"administration\", \"admit\", \"admit\", \"admit\", \"advice\", \"advice\", \"adviser\", \"affect\", \"affect\", \"affect\", \"africa\", \"africa\", \"africa\", \"age\", \"age\", \"agency\", \"agency\", \"ahead\", \"ahead\", \"ahead\", \"aid\", \"airline\", \"airport\", \"airport\", \"alarm\", \"alert\", \"alert\", \"alternative\", \"american\", \"american\", \"amid\", \"amid\", \"amp\", \"analysis\", \"analysis\", \"ani\", \"animal\", \"announce\", \"announce\", \"answer\", \"anti\", \"antibody\", \"antibody_test\", \"anxiety\", \"anxiety\", \"app\", \"appeal\", \"appeal\", \"appeal\", \"apple\", \"application\", \"appointment\", \"approval\", \"approve\", \"april\", \"area\", \"area\", \"area\", \"arrest\", \"arrest\", \"arrival\", \"arrival\", \"arrive\", \"arrive\", \"art\", \"assistance\", \"associate\", \"astrazeneca\", \"attack\", \"attack\", \"attend\", \"august\", \"australian\", \"average\", \"avoid\", \"await\", \"baby\", \"ban\", \"ban\", \"ban\", \"bank\", \"bar\", \"bar\", \"batch\", \"battle\", \"battle\", \"battle\", \"battle\", \"battle\", \"bay_area\", \"bbcbreakfast\", \"beach\", \"beat\", \"beat\", \"bed\", \"begin\", \"begin\", \"begin\", \"benefit\", \"bengaluru\", \"bengaluru\", \"biden\", \"big\", \"big\", \"big\", \"big\", \"big\", \"big\", \"big\", \"bihar\", \"bill\", \"bill\", \"bill\", \"board\", \"body\", \"body\", \"boost\", \"boost\", \"boost\", \"border\", \"border\", \"boris_johnson\", \"boris_johnson\", \"breach\", \"breach\", \"break\", \"breaking\", \"breaking\", \"breaking\", \"bring\", \"bring\", \"bring\", \"bring\", \"bring\", \"bring\", \"bring\", \"bring_total\", \"bring_total_numb\", \"brit\", \"briton\", \"budget\", \"budget\", \"budget\", \"buhari\", \"business\", \"call\", \"call\", \"call\", \"call\", \"call\", \"camp\", \"campaign\", \"campaign\", \"campus\", \"canadian\", \"canadian\", \"canadian\", \"canadian\", \"cancel\", \"cancellation\", \"capacity\", \"capacity\", \"capacity\", \"care\", \"care_centre\", \"care_home\", \"care_home\", \"case\", \"case\", \"case\", \"case\", \"cases\", \"cases\", \"cases\", \"cases\", \"cdc\", \"cdc\", \"cdntopstories\", \"cebu\", \"cent\", \"cent\", \"center\", \"centre\", \"centre\", \"centre\", \"centre\", \"centre\", \"centre\", \"chairman\", \"challenge\", \"challenge\", \"change\", \"change\", \"change\", \"change\", \"charity\", \"check\", \"check\", \"check\", \"chhattisgarh\", \"chief\", \"chief\", \"chief\", \"chief\", \"chief\", \"chief\", \"child\", \"chinese\", \"chinese\", \"christmas\", \"church\", \"church\", \"cinema\", \"city\", \"claim\", \"claim\", \"claim\", \"clarify\", \"clarify\", \"clarify\", \"class\", \"class\", \"click\", \"clinic\", \"clinical_trial\", \"close\", \"close\", \"closure\", \"cluster\", \"cm\", \"collapse\", \"colleague\", \"college\", \"commission\", \"commission\", \"common\", \"community\", \"community\", \"community\", \"community_quarantine\", \"community_transmission\", \"company\", \"company\", \"company\", \"compare\", \"compare\", \"complete\", \"complete\", \"compliance\", \"complication\", \"concern\", \"concern\", \"concern\", \"conduct\", \"conduct\", \"conduct\", \"confirm\", \"confirm\", \"congress\", \"consecutive_day\", \"consecutive_day\", \"contact\", \"contact\", \"continue\", \"continue\", \"continue\", \"continue\", \"contract\", \"contract\", \"contract\", \"control\", \"control\", \"conversation\", \"cooperation\", \"cope\", \"coronavirusindia\", \"coronaviruslockdown\", \"coronaviruslockdown\", \"coronavirusoutbreak\", \"coronaviruspandemic\", \"coronavirusupdates\", \"cost\", \"cost\", \"council\", \"council\", \"count\", \"count\", \"countries\", \"country\", \"country\", \"country\", \"county\", \"county\", \"county\", \"court\", \"coverage\", \"coverage\", \"covidindia\", \"covidireland\", \"covidph\", \"covidph\", \"covidquarantine\", \"covidvaccine\", \"covidvaccine\", \"covid\\u30fc\", \"create\", \"create\", \"create\", \"create\", \"create\", \"credit\", \"crisis\", \"crisis\", \"crisis\", \"crisis\", \"crisis\", \"crisis\", \"crisis\", \"critical\", \"critical\", \"criticism\", \"cross\", \"cross\", \"cross\", \"cross\", \"cross_mark\", \"cross_mark\", \"crow\", \"crowd\", \"crowd\", \"cruise_ship\", \"curb\", \"curb\", \"curb\", \"cure\", \"cure\", \"curfew\", \"curfew\", \"current\", \"current\", \"customer\", \"customer\", \"cut\", \"cut\", \"dad\", \"daily\", \"daily\", \"daily\", \"dangerous\", \"dangerous\", \"date\", \"datum\", \"datum\", \"datum_show\", \"datum_show\", \"datum_show\", \"datum_show\", \"daughter\", \"day\", \"day\", \"day\", \"day\", \"day\", \"day_row\", \"deadly\", \"deadly\", \"deal\", \"deal\", \"deal\", \"deal\", \"death\", \"death\", \"death_toll\", \"death_toll\", \"death_toll_reach\", \"death_toll_rise\", \"death_toll_rise\", \"decade\", \"december\", \"decide\", \"decide\", \"decide\", \"decision\", \"decision\", \"decision\", \"decision\", \"decision\", \"declare\", \"decline\", \"decline\", \"dedicate\", \"delay\", \"delay\", \"delhi\", \"delhi\", \"deliver\", \"deliver\", \"deliver\", \"delivery\", \"demand\", \"demand\", \"demand\", \"democrats\", \"department\", \"department_health\", \"deploy\", \"deploy\", \"deploy\", \"design\", \"detail\", \"detail\", \"detail\", \"details\", \"details\", \"detect\", \"detect\", \"develope\", \"development\", \"development\", \"dfa\", \"dfa\", \"diagnose\", \"diagnose\", \"diagnosis\", \"die\", \"die\", \"difficult\", \"difficult\", \"discharge\", \"discuss\", \"discuss\", \"discussion\", \"disease\", \"disease\", \"distance\", \"distribute\", \"distribution\", \"district\", \"doctor\", \"doctors\", \"document\", \"doh\", \"dollar\", \"donald_trump\", \"dose\", \"dose\", \"double\", \"dozen\", \"dozen\", \"dr\", \"dr\", \"dr\", \"dr\", \"drive\", \"drive\", \"drive\", \"drop\", \"drug\", \"drug\", \"drug\", \"duterte\", \"duterte\", \"dye\", \"early\", \"ease\", \"ease_restriction\", \"ease_restriction\", \"easy\", \"economic_impact\", \"economy\", \"education\", \"effect\", \"effect\", \"effect\", \"effective\", \"efficacy\", \"effort\", \"effort\", \"effort\", \"election\", \"emergency\", \"employee\", \"encourage\", \"encourage\", \"encourage\", \"end\", \"end\", \"end\", \"end\", \"enforce\", \"engage\", \"enhance_community_quarantine\", \"enter\", \"enter\", \"enter\", \"entire\", \"entire\", \"entire\", \"entire\", \"epicenter\", \"epicentre\", \"epidemic\", \"epidemic\", \"epidemic\", \"equipment\", \"era\", \"era\", \"essential\", \"eu\", \"eu\", \"europe\", \"europe\", \"europe\", \"europe\", \"european_union\", \"event\", \"evidence\", \"exam\", \"exceed\", \"exceed\", \"exclusive\", \"exclusive\", \"exclusive\", \"exit\", \"expect\", \"expect\", \"expect\", \"expect\", \"expect\", \"experience\", \"experience\", \"experience\", \"expert\", \"expert\", \"expert\", \"expert\", \"experts\", \"explain\", \"explain\", \"export\", \"expose\", \"extend\", \"extend\", \"extension\", \"face\", \"face_mask\", \"face_mask\", \"face_mask\", \"facebook\", \"facility\", \"facility\", \"fail\", \"fail\", \"fail\", \"fail\", \"fall\", \"family\", \"family\", \"family\", \"family\", \"fan\", \"fatality\", \"fatality\", \"fct\", \"fear\", \"fear\", \"fear\", \"fear\", \"feature\", \"feature\", \"february\", \"february\", \"federal\", \"federal\", \"fee\", \"feel\", \"feel\", \"feel_like\", \"festival\", \"fg\", \"fg\", \"fight\", \"fight\", \"fight\", \"fight\", \"filipino\", \"film\", \"film\", \"final\", \"finance\", \"financial\", \"find\", \"find\", \"fine\", \"fire\", \"firm\", \"firm\", \"fix\", \"flight\", \"flout\", \"flu\", \"flu\", \"fly\", \"fly\", \"fly\", \"fmtnews\", \"fmtnews\", \"follow\", \"follow\", \"follow_live\", \"follow_live\", \"follow_live_blog\", \"follow_live_blog\", \"food\", \"food\", \"food\", \"food\", \"football\", \"force\", \"force\", \"force\", \"forget\", \"free\", \"free\", \"fresh\", \"fresh\", \"fresh\", \"friday\", \"friday\", \"friday\", \"frontline\", \"frontline_worker\", \"fund\", \"fund\", \"future\", \"game\", \"game\", \"gather\", \"gathering\", \"gear\", \"gear\", \"generation\", \"give\", \"give\", \"give\", \"give\", \"global\", \"global\", \"global\", \"globally\", \"globe\", \"globe\", \"good\", \"government\", \"government\", \"government\", \"government\", \"govt\", \"grant\", \"gravitas\", \"great\", \"grip\", \"group\", \"group\", \"group\", \"grow\", \"grow\", \"growth\", \"gt\", \"guard\", \"guardian_nigeria_news\", \"guideline\", \"guideline\", \"halt\", \"halt\", \"halt\", \"halt\", \"halt\", \"handle\", \"handle\", \"happen\", \"happen\", \"hard\", \"hard\", \"head\", \"head\", \"head\", \"head\", \"head\", \"headline\", \"health\", \"health\", \"health_authority\", \"health_authority\", \"health_department\", \"health_minister\", \"health_minister\", \"health_ministry\", \"health_ministry\", \"health_ministry\", \"health_official\", \"health_official\", \"health_official\", \"health_official\", \"health_official\", \"health_worker\", \"health_worker\", \"health_worker\", \"healthcare\", \"healthcare\", \"hear\", \"hear\", \"hear\", \"hear\", \"herd_immunity\", \"high\", \"high_daily\", \"high_level\", \"high_numb\", \"high_numb\", \"high_risk\", \"high_single_day\", \"hire\", \"historic\", \"history\", \"hit\", \"hit\", \"hit\", \"hold\", \"hold\", \"hold\", \"hold\", \"hold\", \"holiday\", \"home\", \"hope\", \"hope\", \"hope\", \"hospital\", \"hospital\", \"hospitalise\", \"hospitalization\", \"hospitalize\", \"hotel\", \"hotel\", \"hotel_quarantine\", \"hotspot\", \"hour\", \"house\", \"house\", \"hse\", \"human\", \"human\", \"husband\", \"icmr\", \"icu\", \"icymi\", \"icymi\", \"icymi\", \"icymi\", \"idea\", \"idea\", \"identify\", \"identify\", \"identify\", \"identify\", \"ignore\", \"illegal\", \"illness\", \"illness\", \"image\", \"imf\", \"immunity\", \"immunity\", \"impact\", \"impact\", \"impact\", \"impact\", \"implement\", \"implement\", \"implement\", \"implementation\", \"import\", \"impose\", \"include\", \"include\", \"include\", \"include\", \"income\", \"increase\", \"increase\", \"increase\", \"india\", \"indiafightscorona\", \"indiafightscovid\", \"indiafightscovid\", \"indian\", \"indian\", \"industry\", \"infect\", \"infect\", \"infect\", \"infect\", \"infection\", \"infection\", \"infection\", \"infection_rate\", \"infectious\", \"information\", \"infrastructure\", \"inoculate\", \"inside\", \"inside\", \"inside\", \"inside\", \"intensive_care\", \"international\", \"internet\", \"interview\", \"interview\", \"introduce\", \"investor\", \"isolate\", \"isolation\", \"issue\", \"issue\", \"issue\", \"itvideo\", \"jab\", \"jail\", \"jampj\", \"jampk\", \"january\", \"january\", \"job\", \"job\", \"joe_biden\", \"johnson_amp_johnson\", \"johnson_amp_johnson\", \"join\", \"join\", \"july\", \"jump\", \"jump\", \"jump\", \"june\", \"june\", \"justin\", \"kano\", \"karnataka\", \"kashmir\", \"kenyan\", \"kenyan\", \"kid\", \"kid\", \"kill\", \"kill\", \"kind\", \"lab\", \"lakh\", \"late\", \"late\", \"latest\", \"latest\", \"launch\", \"lawyer\", \"lead\", \"lead\", \"lead\", \"leadership\", \"league\", \"learn\", \"leave\", \"leave\", \"leave\", \"letter\", \"level\", \"level\", \"life\", \"life\", \"lift\", \"lift\", \"lift\", \"limit\", \"limit\", \"line\", \"line\", \"link\", \"link\", \"link\", \"link\", \"list\", \"list\", \"listen\", \"listen\", \"live\", \"live\", \"live_update\", \"live_updates\", \"liveblog\", \"liveblog\", \"liveblog\", \"local\", \"local\", \"local_government\", \"lock\", \"lockdown\", \"lockdown\", \"lockdown\", \"lockdowns\", \"lockdowns\", \"log\", \"long\", \"long\", \"long\", \"lose\", \"lose\", \"lose\", \"loss\", \"loss\", \"lot\", \"love\", \"low\", \"luzon\", \"maharashtra\", \"major\", \"make\", \"make\", \"make\", \"make\", \"make\", \"malaca\\u00f1ang\", \"malay_mail\", \"malay_mail\", \"malay_mail\", \"malay_mail\", \"malaysian\", \"man\", \"man\", \"manage\", \"manage\", \"manage\", \"manage_isolation\", \"manage_isolation\", \"mandatory\", \"mandatory\", \"manufacture\", \"manufacturer\", \"map\", \"march\", \"march\", \"mark\", \"market\", \"mask\", \"mayor\", \"mayor\", \"meal\", \"measure\", \"measure\", \"measure\", \"medic\", \"medical\", \"medical\", \"medical\", \"meet\", \"meeting\", \"melbourne\", \"melbourne\", \"member\", \"member\", \"mental_health\", \"mental_health\", \"metro_manila\", \"mha\", \"mid\", \"mid\", \"mid\", \"midst\", \"migrant\", \"milestone\", \"million\", \"million\", \"mind\", \"minister\", \"minister\", \"minister\", \"ministry_health\", \"mobile\", \"model\", \"model\", \"model\", \"moderna\", \"moment\", \"monday\", \"monday\", \"money\", \"monitor\", \"monitor\", \"monitor\", \"monitor\", \"month\", \"month\", \"month\", \"month\", \"month\", \"morning\", \"morning\", \"morning\", \"mother\", \"mother\", \"mount\", \"move\", \"move\", \"movement\", \"mum\", \"mumbai\", \"mumbai\", \"mutation\", \"national\", \"nationwide\", \"ncdc\", \"ncdc\", \"ncov\", \"need_know\", \"need_know\", \"new_youtube\", \"news\", \"newsalert\", \"newsnight\", \"nigeria\", \"nigeria\", \"nigerian\", \"norm\", \"normal\", \"normal\", \"north\", \"nstworld\", \"nstworld\", \"nsw\", \"numb\", \"number\", \"number\", \"nurse\", \"nurse\", \"nyc\", \"nyc\", \"observe\", \"october\", \"october\", \"offer\", \"offer\", \"offer\", \"office\", \"office\", \"office\", \"office\", \"official\", \"official\", \"official\", \"official\", \"oil\", \"ongoing\", \"ongoing\", \"ongoing\", \"online\", \"ontario\", \"ontario\", \"ontario\", \"ontario\", \"open\", \"open\", \"open\", \"open\", \"operate\", \"operation\", \"opinion\", \"opinion\", \"opinion\", \"opposition\", \"opt\", \"order\", \"origin\", \"ottnews_ottawa\", \"outbreak\", \"outbreak\", \"outbreak\", \"overcome\", \"overseas\", \"overtake\", \"oxford\", \"package\", \"palace\", \"palace\", \"palace\", \"palliative\", \"pandemic\", \"pandemic\", \"pandemic\", \"pandemic\", \"pandemic\", \"pandemic\", \"pandemic\", \"panel\", \"panel\", \"panic\", \"panic\", \"panic\", \"panic_buy\", \"parent\", \"parents\", \"party\", \"party\", \"pass\", \"pass\", \"pass_away\", \"passenger\", \"past\", \"past_week\", \"patient\", \"patient_discharge\", \"patient_recover\", \"patient_recover\", \"patient_recover\", \"pause\", \"pay\", \"pay\", \"payment\", \"peak\", \"people\", \"people\", \"people\", \"people\", \"people\", \"people\", \"people\", \"percent\", \"percent\", \"performance\", \"period\", \"period\", \"period\", \"person\", \"person\", \"pfizer\", \"pfizer\", \"ph\", \"ph\", \"ph\", \"pharmacy\", \"phase\", \"philippine\", \"philippine\", \"photo\", \"photo\", \"place\", \"place\", \"place\", \"plan\", \"plan\", \"plan\", \"plan\", \"plane\", \"play\", \"play\", \"player\", \"plea\", \"pledge\", \"pm\", \"pm\", \"pm\", \"pm\", \"pm_modi\", \"point\", \"point\", \"police\", \"police\", \"political\", \"poll\", \"poll\", \"popular\", \"popular\", \"popular\", \"port\", \"pose\", \"positive\", \"possibly\", \"post\", \"postpone\", \"postpone\", \"potentially\", \"power\", \"power\", \"power\", \"ppe\", \"ppe\", \"prayer\", \"precaution\", \"premier\", \"prepare\", \"prepare\", \"prepare\", \"prepare\", \"prepare\", \"prepare\", \"prepare\", \"pres_trump\", \"president\", \"president_cyril_ramaphosa\", \"president_donald_trump\", \"president_duterte\", \"president_rodrigo_duterte\", \"president_rodrigo_duterte\", \"president_rodrigo_duterte\", \"president_rodrigo_duterte\", \"president_trump\", \"prevent\", \"prevent\", \"prevent_spread\", \"price\", \"price\", \"prime_minister\", \"prime_minister\", \"prime_minister\", \"prioritize\", \"priority\", \"prison\", \"private_sector\", \"probe\", \"probe\", \"problem\", \"problem\", \"produce\", \"produce\", \"professional\", \"progress\", \"protect\", \"protect\", \"protest\", \"protest\", \"protester\", \"protocol\", \"provide\", \"provide\", \"provide\", \"provide\", \"provide_update\", \"province\", \"province\", \"ptf\", \"pub\", \"pub\", \"public\", \"public\", \"public_health\", \"public_health\", \"public_health\", \"pune\", \"punjab\", \"purchase\", \"push\", \"push\", \"push\", \"push\", \"put\", \"putt\", \"putt\", \"putt\", \"quarantine\", \"quarter\", \"quarter\", \"question\", \"question\", \"question\", \"queue\", \"quickly\", \"race\", \"rajasthan\", \"rajasthan\", \"ramaphosa\", \"rank\", \"rapid\", \"rate\", \"reach\", \"reach\", \"reach\", \"reach\", \"read\", \"ready\", \"ready\", \"receive\", \"receive_dose\", \"recent\", \"recent\", \"recent\", \"recently\", \"recently\", \"record\", \"record\", \"record_high\", \"recover\", \"recover\", \"recover\", \"recovery\", \"recovery_rate\", \"recovery_rate\", \"reduce\", \"reduce\", \"reduce\", \"register\", \"register\", \"register\", \"register\", \"register\", \"register\", \"regulation\", \"relate_death\", \"relate_death\", \"relate_death\", \"relative\", \"relax\", \"relax\", \"relax\", \"relaxation\", \"release\", \"release\", \"release\", \"relief\", \"remain\", \"remain\", \"remain\", \"remain_open\", \"remember\", \"reopen\", \"reopen\", \"reopen\", \"reopen_school\", \"report\", \"report\", \"reporter\", \"reports\", \"republican\", \"require\", \"require\", \"requirement\", \"research\", \"researcher\", \"researchers\", \"resident\", \"resident\", \"resident\", \"resident\", \"resident\", \"resign\", \"resource\", \"resource\", \"respond\", \"respond\", \"response\", \"response\", \"restart\", \"restart\", \"restaurant\", \"restaurant\", \"restaurant\", \"restriction\", \"restriction\", \"result\", \"result\", \"result\", \"result\", \"resume\", \"retail\", \"retailer\", \"return\", \"return\", \"return_home\", \"reuters\", \"reuters\", \"reveal\", \"reveal\", \"reveal\", \"revenue\", \"review\", \"rise\", \"rise\", \"rise\", \"risk\", \"risk\", \"road\", \"road\", \"roll\", \"rollout\", \"roque\", \"roque\", \"roque\", \"route\", \"rs_crore\", \"rule\", \"rule\", \"rule\", \"run\", \"run\", \"run\", \"run\", \"run\", \"sa\", \"sa\", \"sa\", \"sa\", \"sa\", \"sabah\", \"safe\", \"safe\", \"safe\", \"safe\", \"safe\", \"safety_measure\", \"sale\", \"sale\", \"sample\", \"sample_test\", \"saturday\", \"saturday\", \"saturday\", \"saturday\", \"scare\", \"scare\", \"scene\", \"schedule\", \"scheme\", \"school\", \"schools\", \"schools\", \"science\", \"science\", \"scientist\", \"scientist\", \"scientists\", \"scientists\", \"scientists\", \"scientists\", \"screen\", \"screen\", \"screen\", \"sector\", \"sector\", \"sector\", \"security\", \"security\", \"security\", \"security\", \"seek\", \"seek\", \"seek\", \"seek\", \"seek\", \"seek\", \"self_isolate\", \"self_isolate\", \"self_isolate\", \"sell\", \"send\", \"send\", \"send\", \"senior\", \"senior\", \"senior\", \"september\", \"service\", \"service\", \"session\", \"session\", \"set\", \"set\", \"set\", \"severe\", \"severe\", \"share\", \"share\", \"share\", \"ship\", \"ship\", \"shoot\", \"shoot\", \"shop\", \"shop\", \"shot\", \"show\", \"show\", \"show\", \"shut\", \"shut\", \"shut\", \"sick\", \"sick\", \"sick\", \"sick\", \"sign\", \"sign\", \"sign\", \"similar\", \"single_day\", \"sit\", \"site\", \"site\", \"situation\", \"situation\", \"situation\", \"slam\", \"slam\", \"slash\", \"slow\", \"slow\", \"slump\", \"soar\", \"soar\", \"soar\", \"social\", \"social\", \"social_distance\", \"social_medium\", \"society\", \"son\", \"speak\", \"special\", \"special\", \"special\", \"speech\", \"spend\", \"spend\", \"spend\", \"spend\", \"spend\", \"spend\", \"spike\", \"spokesperson\", \"sport\", \"sport\", \"spread\", \"spread\", \"spring\", \"spring\", \"staff\", \"staff\", \"staff\", \"stand\", \"stand\", \"star\", \"star\", \"star\", \"start\", \"start\", \"start\", \"state\", \"state\", \"state\", \"statement\", \"station\", \"stay\", \"stay\", \"stay_home\", \"stay_home\", \"step\", \"step\", \"step\", \"step\", \"step\", \"stick\", \"stick\", \"stimulus_package\", \"stock\", \"stop\", \"stop\", \"stop\", \"stop\", \"stop\", \"story\", \"story\", \"story\", \"straight_day\", \"straight_day\", \"strain\", \"strategy\", \"strategy\", \"strategy\", \"strategy\", \"street\", \"street\", \"strengthen\", \"stress\", \"strict\", \"strict\", \"struggle\", \"struggle\", \"struggle\", \"struggle\", \"student\", \"students\", \"study\", \"study\", \"study_find\", \"study_find\", \"study_find\", \"study_suggest\", \"success\", \"success\", \"suggest\", \"summer\", \"summer\", \"sunday\", \"sunday\", \"sunday\", \"sunday\", \"supply\", \"supply\", \"supply\", \"support\", \"support\", \"support\", \"support\", \"supreme_court\", \"surge\", \"surge\", \"surpass\", \"surveillance\", \"survey\", \"survey\", \"survivor\", \"suspect\", \"suspect\", \"suspend\", \"suspend\", \"suspend\", \"suspension\", \"suspension\", \"sydney\", \"symptom\", \"symptom\", \"symptom\", \"symptom\", \"system\", \"take_total_numb\", \"talk\", \"talk\", \"talk\", \"tally\", \"tally\", \"tally_rise\", \"tally_rise\", \"tamil_nadu\", \"tamilnadu\", \"target\", \"target\", \"target\", \"teach\", \"teach\", \"teacher\", \"teacher\", \"teacher\", \"team\", \"team\", \"telangana\", \"test\", \"test\", \"test_negative\", \"test_negative\", \"test_negative\", \"test_positive\", \"test_positive\", \"test_positive\", \"test_result\", \"thanksgiving\", \"thecable\", \"thing\", \"thing\", \"thread\", \"thread\", \"thursday\", \"thursday\", \"thursday\", \"tier\", \"tier\", \"tighten\", \"time\", \"time\", \"times\", \"today\", \"today\", \"today\", \"today\", \"today\", \"toll\", \"toll\", \"tomorrow\", \"tomorrow\", \"tomorrow\", \"tonight\", \"top\", \"top\", \"total\", \"total_active\", \"total_numb\", \"touch\", \"touch\", \"tough\", \"tourist\", \"town\", \"track\", \"track\", \"track\", \"track\", \"trade\", \"traffic\", \"train\", \"train\", \"train\", \"transmission\", \"transmission\", \"travel\", \"travel\", \"travel_ban\", \"travel_ban\", \"traveler\", \"traveller\", \"treat\", \"treat\", \"treatment\", \"trend\", \"trial\", \"trump\", \"tuesday\", \"tuesday\", \"tuesday\", \"tuesday\", \"turn\", \"turn\", \"tv\", \"tv\", \"uk\", \"undergo\", \"union\", \"union_health_ministry\", \"union_health_ministry\", \"university\", \"university\", \"unlock\", \"unprecedented\", \"update\", \"update\", \"urge\", \"urge\", \"vaccinate\", \"vaccinate\", \"vaccinate\", \"vaccination\", \"vaccination_program\", \"vaccination_site\", \"vaccine\", \"vaccine\", \"vaccine\", \"vaccine_candidate\", \"vaccine_rollout\", \"vaccine_rollout\", \"vaccine_rollout\", \"vaccine_rollout\", \"vanguardnews\", \"variant\", \"ventilator\", \"venue\", \"victim\", \"victim\", \"victoria\", \"victoria_record_new\", \"victorian\", \"video\", \"video\", \"view\", \"view\", \"view\", \"village\", \"village\", \"village\", \"violate\", \"violation\", \"violation\", \"viral\", \"virus\", \"virus\", \"virus\", \"virus\", \"visit\", \"visit\", \"visit\", \"visit\", \"vmnews\", \"vmnews\", \"volunteer\", \"volunteer\", \"vote\", \"voter\", \"vow\", \"vulnerable\", \"vulnerable\", \"vulnerable\", \"vulnerable\", \"wa\", \"war\", \"war\", \"ward\", \"warn\", \"warn\", \"warn\", \"warn\", \"warn\", \"watch\", \"watch\", \"watch_live\", \"wave\", \"wave\", \"wear\", \"wear_face_mask\", \"wear_mask\", \"wednesday\", \"wednesday\", \"wednesday\", \"week\", \"week\", \"week\", \"weekend\", \"weekend\", \"weekend\", \"west_bengal\", \"western_cape\", \"white_house\", \"white_house\", \"widespread\", \"wife\", \"win\", \"witness\", \"witness\", \"woman\", \"word\", \"work\", \"work\", \"work\", \"work_home\", \"work_home\", \"work_home\", \"worker\", \"worker\", \"worker\", \"worker\", \"workers\", \"workers\", \"workplace\", \"workplace\", \"world\", \"world\", \"world\", \"world\", \"world_health_organisation\", \"world_health_organization\", \"world_health_organization\", \"worry\", \"worry\", \"worry\", \"worry\", \"worsen\", \"worsen\", \"worsen\", \"write\", \"wrong\", \"wrong\", \"wrong\", \"wrong_hit\", \"year\", \"year\", \"year\", \"year\", \"year_old\", \"year_old\", \"year_old_man\", \"young\", \"young\", \"youth\", \"youth\"]}, \"R\": 30, \"lambda.step\": 0.01, \"plot.opts\": {\"xlab\": \"PC1\", \"ylab\": \"PC2\"}, \"topic.order\": [17, 2, 3, 14, 10, 13, 19, 8, 5, 1, 11, 6, 18, 16, 15, 20, 12, 4, 7, 9]};\n",
       "\n",
       "function LDAvis_load_lib(url, callback){\n",
       "  var s = document.createElement('script');\n",
       "  s.src = url;\n",
       "  s.async = true;\n",
       "  s.onreadystatechange = s.onload = callback;\n",
       "  s.onerror = function(){console.warn(\"failed to load library \" + url);};\n",
       "  document.getElementsByTagName(\"head\")[0].appendChild(s);\n",
       "}\n",
       "\n",
       "if(typeof(LDAvis) !== \"undefined\"){\n",
       "   // already loaded: just create the visualization\n",
       "   !function(LDAvis){\n",
       "       new LDAvis(\"#\" + \"ldavis_el11402826887632297923108584864\", ldavis_el11402826887632297923108584864_data);\n",
       "   }(LDAvis);\n",
       "}else if(typeof define === \"function\" && define.amd){\n",
       "   // require.js is available: use it to load d3/LDAvis\n",
       "   require.config({paths: {d3: \"https://d3js.org/d3.v5\"}});\n",
       "   require([\"d3\"], function(d3){\n",
       "      window.d3 = d3;\n",
       "      LDAvis_load_lib(\"https://cdn.jsdelivr.net/gh/bmabey/pyLDAvis@3.3.1/pyLDAvis/js/ldavis.v3.0.0.js\", function(){\n",
       "        new LDAvis(\"#\" + \"ldavis_el11402826887632297923108584864\", ldavis_el11402826887632297923108584864_data);\n",
       "      });\n",
       "    });\n",
       "}else{\n",
       "    // require.js not available: dynamically load d3 & LDAvis\n",
       "    LDAvis_load_lib(\"https://d3js.org/d3.v5.js\", function(){\n",
       "         LDAvis_load_lib(\"https://cdn.jsdelivr.net/gh/bmabey/pyLDAvis@3.3.1/pyLDAvis/js/ldavis.v3.0.0.js\", function(){\n",
       "                 new LDAvis(\"#\" + \"ldavis_el11402826887632297923108584864\", ldavis_el11402826887632297923108584864_data);\n",
       "            })\n",
       "         });\n",
       "}\n",
       "</script>"
      ],
      "text/plain": [
       "PreparedData(topic_coordinates=              x         y  topics  cluster      Freq\n",
       "topic                                               \n",
       "16    -0.396016  0.158671       1        1  5.060770\n",
       "1     -0.009428 -0.128291       2        1  5.039623\n",
       "2      0.003147 -0.017628       3        1  5.024506\n",
       "13     0.174889  0.241040       4        1  5.024422\n",
       "9     -0.403878  0.159875       5        1  5.019313\n",
       "12     0.079011  0.109183       6        1  5.016137\n",
       "18     0.046577 -0.107687       7        1  5.014240\n",
       "7      0.190188  0.237556       8        1  5.008797\n",
       "4     -0.064104 -0.032795       9        1  5.005229\n",
       "0      0.016744 -0.054228      10        1  5.001546\n",
       "10     0.034346 -0.171774      11        1  5.000514\n",
       "5      0.131533  0.125376      12        1  4.993291\n",
       "17    -0.038118 -0.086385      13        1  4.992449\n",
       "15     0.048746 -0.135952      14        1  4.989666\n",
       "14    -0.026598 -0.075368      15        1  4.978413\n",
       "19     0.155393  0.201998      16        1  4.976855\n",
       "11    -0.006415 -0.098898      17        1  4.972301\n",
       "3      0.019406 -0.107652      18        1  4.965963\n",
       "6      0.028080 -0.129874      19        1  4.961092\n",
       "8      0.016496 -0.087169      20        1  4.954872, topic_info=              Term           Freq          Total Category  logprob  loglift\n",
       "102           case  258530.000000  258530.000000  Default  30.0000  30.0000\n",
       "3         lockdown  194610.000000  194610.000000  Default  29.0000  29.0000\n",
       "16         vaccine  177010.000000  177010.000000  Default  28.0000  28.0000\n",
       "199       pandemic  239851.000000  239851.000000  Default  27.0000  27.0000\n",
       "28          report  110141.000000  110141.000000  Default  26.0000  26.0000\n",
       "..             ...            ...            ...      ...      ...      ...\n",
       "681  test_positive   20849.085951   56030.431994  Topic20  -3.1904   2.0162\n",
       "510           body    3615.240026    4292.322330  Topic20  -4.9425   2.8331\n",
       "976          staff    5864.795545   13888.684292  Topic20  -4.4587   2.1427\n",
       "340         infect    4456.501682   18077.789708  Topic20  -4.7333   1.6045\n",
       "144          video    3360.676434   10493.352143  Topic20  -5.0155   1.8662\n",
       "\n",
       "[1145 rows x 6 columns], token_table=      Topic      Freq          Term\n",
       "term                               \n",
       "421       4  0.006357        access\n",
       "421       8  0.048229        access\n",
       "421      10  0.945285        access\n",
       "444       3  0.000064        accord\n",
       "444       9  0.419756        accord\n",
       "...     ...       ...           ...\n",
       "606      20  1.000051  year_old_man\n",
       "657      19  0.000301         young\n",
       "657      20  0.999640         young\n",
       "1744      6  0.990879         youth\n",
       "1744     11  0.009122         youth\n",
       "\n",
       "[1911 rows x 3 columns], R=30, lambda_step=0.01, plot_opts={'xlab': 'PC1', 'ylab': 'PC2'}, topic_order=[17, 2, 3, 14, 10, 13, 19, 8, 5, 1, 11, 6, 18, 16, 15, 20, 12, 4, 7, 9])"
      ]
     },
     "execution_count": 91,
     "metadata": {},
     "output_type": "execute_result"
    }
   ],
   "source": [
    "# Visualize the topics\n",
    "pyLDAvis.enable_notebook()\n",
    "vis = pyLDAvis.gensim_models.prepare(model, corpus, dictionary)\n",
    "vis"
   ]
  },
  {
   "cell_type": "markdown",
   "metadata": {},
   "source": [
    "### Selected model coherence"
   ]
  },
  {
   "cell_type": "code",
   "execution_count": 115,
   "metadata": {},
   "outputs": [],
   "source": [
    "m_coherence = CoherenceModel(model=ldamallet, texts=docs, dictionary=dictionary, coherence='c_v')\n",
    "m_coherence_general = m_coherence.get_coherence()\n",
    "m_coherence_per_topic = m_coherence.get_coherence_per_topic()"
   ]
  },
  {
   "cell_type": "code",
   "execution_count": 116,
   "metadata": {},
   "outputs": [
    {
     "data": {
      "text/plain": [
       "0     61.93\n",
       "1     45.41\n",
       "2     51.05\n",
       "3     49.47\n",
       "4     49.34\n",
       "5     50.58\n",
       "6     37.59\n",
       "7     50.76\n",
       "8     52.80\n",
       "9     64.86\n",
       "10    51.59\n",
       "11    51.03\n",
       "12    50.64\n",
       "13    55.25\n",
       "14    38.98\n",
       "15    48.63\n",
       "16    72.33\n",
       "17    52.99\n",
       "18    42.98\n",
       "19    47.09\n",
       "dtype: float64"
      ]
     },
     "execution_count": 116,
     "metadata": {},
     "output_type": "execute_result"
    }
   ],
   "source": [
    "pd.Series(np.round(np.array(m_coherence_per_topic) * 100,2))"
   ]
  },
  {
   "cell_type": "code",
   "execution_count": 117,
   "metadata": {},
   "outputs": [
    {
     "data": {
      "text/plain": [
       "0.5126522710767392"
      ]
     },
     "execution_count": 117,
     "metadata": {},
     "output_type": "execute_result"
    }
   ],
   "source": [
    "m_coherence_general"
   ]
  },
  {
   "cell_type": "markdown",
   "metadata": {},
   "source": [
    "### Topics prevalence"
   ]
  },
  {
   "cell_type": "code",
   "execution_count": 8,
   "metadata": {},
   "outputs": [
    {
     "data": {
      "text/plain": [
       "0     10.498346\n",
       "1      7.302873\n",
       "2      6.714864\n",
       "3      8.019671\n",
       "4      6.006439\n",
       "5      6.530257\n",
       "6      5.531054\n",
       "7      5.162073\n",
       "8      5.891895\n",
       "9      5.644435\n",
       "10     3.979252\n",
       "11     4.660175\n",
       "12     3.288677\n",
       "13     3.843312\n",
       "14     2.823177\n",
       "15     2.860563\n",
       "16     3.677660\n",
       "17     2.723518\n",
       "18     2.092657\n",
       "19     2.749102\n",
       "Name: num_topic, dtype: float64"
      ]
     },
     "execution_count": 8,
     "metadata": {},
     "output_type": "execute_result"
    }
   ],
   "source": [
    "df_iter = ldamallet.load_document_topics()\n",
    "df = []\n",
    "for k in df_iter:\n",
    "    df.append([i[1] for i in k])\n",
    "df = pd.DataFrame(df, columns=[fr'topic_{k}' for k in range(20)])\n",
    "df['topic'] = df.idxmax(axis=1)\n",
    "df['num_topic'] = df.topic.apply(lambda x: int(x.replace('topic_','')))\n",
    "df['tweetId'] = news_tweets.tweetId.values\n",
    "df.to_parquet('./../data/processed/news_tweets_topics_0612.parquet')\n",
    "df.num_topic.value_counts(normalize=True).sort_index() * 100"
   ]
  },
  {
   "cell_type": "markdown",
   "metadata": {},
   "source": [
    "### Topics keywords"
   ]
  },
  {
   "cell_type": "code",
   "execution_count": 93,
   "metadata": {
    "collapsed": true,
    "jupyter": {
     "outputs_hidden": true
    },
    "tags": []
   },
   "outputs": [
    {
     "name": "stdout",
     "output_type": "stream",
     "text": [
      "[(0,\n",
      "  '0.346*\"vaccine\" + 0.033*\"dose\" + 0.033*\"receive\" + 0.021*\"astrazeneca\" + '\n",
      "  '0.020*\"give\" + 0.019*\"trial\" + 0.018*\"supply\" + 0.015*\"ready\" + 0.015*\"jab\" '\n",
      "  '+ 0.014*\"shoot\"'),\n",
      " (1,\n",
      "  '0.114*\"government\" + 0.076*\"country\" + 0.068*\"read\" + 0.042*\"disease\" + '\n",
      "  '0.038*\"national\" + 0.022*\"announce\" + 0.022*\"area\" + 0.021*\"list\" + '\n",
      "  '0.020*\"official\" + 0.020*\"include\"'),\n",
      " (2,\n",
      "  '0.062*\"week\" + 0.053*\"start\" + 0.053*\"month\" + 0.047*\"plan\" + 0.047*\"begin\" '\n",
      "  '+ 0.043*\"end\" + 0.039*\"set\" + 0.039*\"announce\" + 0.038*\"march\" + '\n",
      "  '0.034*\"early\"'),\n",
      " (3,\n",
      "  '0.099*\"quarantine\" + 0.069*\"test_positive\" + 0.060*\"home\" + 0.040*\"day\" + '\n",
      "  '0.036*\"travel\" + 0.028*\"return\" + 0.027*\"leave\" + 0.017*\"send\" + '\n",
      "  '0.013*\"stay\" + 0.012*\"passenger\"'),\n",
      " (4,\n",
      "  '0.080*\"day\" + 0.054*\"surge\" + 0.044*\"continue\" + 0.041*\"high\" + '\n",
      "  '0.040*\"country\" + 0.036*\"hit\" + 0.035*\"week\" + 0.033*\"infection\" + '\n",
      "  '0.033*\"wave\" + 0.024*\"datum\"'),\n",
      " (5,\n",
      "  '0.048*\"response\" + 0.043*\"pandemic\" + 0.035*\"trump\" + 0.033*\"crisis\" + '\n",
      "  '0.029*\"american\" + 0.029*\"call\" + 0.021*\"president\" + 0.018*\"plan\" + '\n",
      "  '0.017*\"president_trump\" + 0.016*\"deal\"'),\n",
      " (6,\n",
      "  '0.107*\"outbreak\" + 0.049*\"virus\" + 0.048*\"spread\" + 0.045*\"warn\" + '\n",
      "  '0.041*\"global\" + 0.033*\"official\" + 0.030*\"country\" + 0.026*\"world\" + '\n",
      "  '0.025*\"emergency\" + 0.024*\"vanguardnews\"'),\n",
      " (7,\n",
      "  '0.145*\"pandemic\" + 0.077*\"time\" + 0.042*\"face\" + 0.029*\"world\" + '\n",
      "  '0.028*\"change\" + 0.026*\"year\" + 0.023*\"write\" + 0.022*\"long\" + 0.022*\"life\" '\n",
      "  '+ 0.021*\"work\"'),\n",
      " (8,\n",
      "  '0.097*\"patient\" + 0.079*\"hospital\" + 0.069*\"die\" + 0.041*\"test_positive\" + '\n",
      "  '0.038*\"doctor\" + 0.034*\"family\" + 0.028*\"man\" + 0.025*\"woman\" + '\n",
      "  '0.023*\"contract\" + 0.022*\"treatment\"'),\n",
      " (9,\n",
      "  '0.278*\"case\" + 0.085*\"report\" + 0.073*\"rise\" + 0.059*\"record\" + '\n",
      "  '0.059*\"numb\" + 0.051*\"death\" + 0.044*\"infection\" + 0.032*\"daily\" + '\n",
      "  '0.030*\"confirm\" + 0.029*\"spike\"'),\n",
      " (10,\n",
      "  '0.117*\"people\" + 0.040*\"order\" + 0.036*\"public\" + 0.035*\"urge\" + '\n",
      "  '0.031*\"issue\" + 0.027*\"social_distance\" + 0.022*\"police\" + 0.019*\"follow\" + '\n",
      "  '0.017*\"guideline\" + 0.017*\"place\"'),\n",
      " (11,\n",
      "  '0.383*\"lockdown\" + 0.064*\"restriction\" + 0.042*\"rule\" + 0.027*\"extend\" + '\n",
      "  '0.026*\"ease\" + 0.025*\"measure\" + 0.022*\"level\" + 0.021*\"break\" + '\n",
      "  '0.019*\"lift\" + 0.017*\"impose\"'),\n",
      " (12,\n",
      "  '0.059*\"amp\" + 0.054*\"watch\" + 0.048*\"pm\" + 0.042*\"today\" + 0.038*\"fight\" + '\n",
      "  '0.034*\"post\" + 0.030*\"meet\" + 0.023*\"live\" + 0.022*\"pandemic\" + '\n",
      "  '0.022*\"speak\"'),\n",
      " (13,\n",
      "  '0.123*\"pandemic\" + 0.038*\"business\" + 0.034*\"economy\" + 0.031*\"impact\" + '\n",
      "  '0.027*\"year\" + 0.022*\"company\" + 0.019*\"market\" + 0.018*\"demand\" + '\n",
      "  '0.016*\"employee\" + 0.016*\"support\"'),\n",
      " (14,\n",
      "  '0.121*\"news\" + 0.091*\"update\" + 0.073*\"late\" + 0.066*\"live\" + 0.054*\"city\" '\n",
      "  '+ 0.034*\"follow\" + 0.030*\"resident\" + 0.030*\"outbreak\" + 0.026*\"breaking\" + '\n",
      "  '0.018*\"local\"'),\n",
      " (15,\n",
      "  '0.085*\"people\" + 0.045*\"find\" + 0.037*\"expert\" + 0.033*\"virus\" + '\n",
      "  '0.031*\"risk\" + 0.029*\"study\" + 0.027*\"infect\" + 0.025*\"variant\" + '\n",
      "  '0.023*\"claim\" + 0.021*\"spread\"'),\n",
      " (16,\n",
      "  '0.224*\"case\" + 0.129*\"report\" + 0.100*\"death\" + 0.053*\"total\" + '\n",
      "  '0.049*\"confirm\" + 0.040*\"hour\" + 0.035*\"recovery\" + 0.028*\"breaking\" + '\n",
      "  '0.026*\"death_toll\" + 0.026*\"record\"'),\n",
      " (17,\n",
      "  '0.146*\"state\" + 0.138*\"test\" + 0.049*\"positive\" + 0.044*\"govt\" + '\n",
      "  '0.034*\"centre\" + 0.032*\"maharashtra\" + 0.026*\"coronavirusoutbreak\" + '\n",
      "  '0.020*\"live_update\" + 0.018*\"coronaviruspandemic\" + 0.017*\"district\"'),\n",
      " (18,\n",
      "  '0.069*\"health\" + 0.047*\"vaccination\" + 0.032*\"work\" + 0.024*\"provide\" + '\n",
      "  '0.022*\"service\" + 0.021*\"community\" + 0.020*\"fight\" + 0.018*\"question\" + '\n",
      "  '0.018*\"launch\" + 0.017*\"worker\"'),\n",
      " (19,\n",
      "  '0.141*\"amid\" + 0.136*\"pandemic\" + 0.054*\"school\" + 0.042*\"close\" + '\n",
      "  '0.029*\"student\" + 0.028*\"child\" + 0.025*\"open\" + 0.023*\"fear\" + '\n",
      "  '0.021*\"concern\" + 0.019*\"shut\"')]\n"
     ]
    }
   ],
   "source": [
    "pprint(model.print_topics())"
   ]
  },
  {
   "cell_type": "code",
   "execution_count": 7,
   "metadata": {
    "collapsed": true,
    "jupyter": {
     "outputs_hidden": true
    },
    "tags": []
   },
   "outputs": [
    {
     "data": {
      "text/plain": [
       "array([list(['vaccine', 'dose', 'receive', 'astrazeneca', 'give', 'trial', 'supply', 'ready', 'jab', 'shoot', 'approve', 'pfizer', 'roll', 'develope', 'effective', 'eu', 'vaccinate', 'development', 'deliver', 'race', 'access', 'hope', 'shot', 'distribution', 'delivery', 'drug', 'administer', 'covidvaccine', 'volunteer', 'age', 'potential', 'shortage', 'approval', 'produce', 'johnson_amp_johnson']),\n",
       "       list(['government', 'country', 'read', 'disease', 'national', 'announce', 'area', 'list', 'official', 'include', 'wednesday', 'thursday', 'add', 'tuesday', 'friday', 'affect', 'release', 'filipino', 'measure', 'decision', 'agency', 'remain', 'monday', 'suspend', 'continue', 'place', 'implement', 'operation', 'icymi', 'statement', 'ph', 'department', 'president_rodrigo_duterte', 'metro_manila', 'region']),\n",
       "       list(['week', 'start', 'month', 'plan', 'begin', 'end', 'set', 'announce', 'march', 'early', 'expect', 'april', 'monday', 'year', 'reopen', 'june', 'day', 'need_know', 'july', 'delay', 'ahead', 'tuesday', 'january', 'friday', 'phase', 'open', 'sunday', 'resume', 'february', 'thursday', 'vaccine_rollout', 'december', 'date', 'september', 'august']),\n",
       "       list(['quarantine', 'test_positive', 'home', 'day', 'travel', 'return', 'leave', 'send', 'stay', 'passenger', 'flight', 'test_negative', 'force', 'isolation', 'holiday', 'visit', 'staff', 'arrive', 'train', 'hotel', 'airport', 'free', 'canadian', 'screen', 'contact', 'player', 'airline', 'require', 'isolate', 'minister', 'enter', 'wait', 'hotel_quarantine', 'recently', 'indian']),\n",
       "       list(['day', 'surge', 'continue', 'high', 'country', 'hit', 'week', 'infection', 'wave', 'datum', 'low', 'fall', 'rate', 'increase', 'europe', 'month', 'drop', 'number', 'remain', 'accord', 'mark', 'slow', 'lockdowns', 'cent', 'reuters', 'recent', 'wrong', 'point', 'push', 'double', 'decline', 'current', 'past', 'peak', 'figure']),\n",
       "       list(['response', 'pandemic', 'trump', 'crisis', 'american', 'call', 'president', 'plan', 'president_trump', 'deal', 'handle', 'white_house', 'fund', 'sign', 'relief', 'house', 'election', 'analysis', 'pass', 'support', 'address', 'aid', 'push', 'president_donald_trump', 'donald_trump', 'fail', 'budget', 'seek', 'federal', 'campaign', 'congress', 'leader', 'nation', 'act', 'administration']),\n",
       "       list(['outbreak', 'virus', 'spread', 'warn', 'global', 'official', 'country', 'world', 'emergency', 'vanguardnews', 'chinese', 'control', 'public_health', 'lead', 'declare', 'deadly', 'fear', 'kill', 'nigerian', 'malay_mail', 'prepare', 'chief', 'stop', 'fmtnews', 'team', 'africa', 'head', 'fight', 'international', 'world_health_organization', 'halt', 'fg', 'ncov', 'bring', 'diagnose']),\n",
       "       list(['pandemic', 'time', 'face', 'world', 'change', 'year', 'write', 'long', 'life', 'work', 'make', 'challenge', 'crisis', 'opinion', 'happen', 'good', 'thing', 'experience', 'hard', 'wrong', 'turn', 'feel', 'spend', 'lose', 'hope', 'big', 'create', 'problem', 'great', 'normal', 'lot', 'manage', 'cope', 'mental_health', 'love']),\n",
       "       list(['patient', 'hospital', 'die', 'test_positive', 'doctor', 'family', 'man', 'woman', 'contract', 'treatment', 'treat', 'year_old', 'battle', 'recover', 'person', 'care', 'nurse', 'staff', 'suspect', 'inside', 'infect', 'admit', 'victim', 'fire', 'beat', 'wife', 'body', 'mother', 'bed', 'video', 'young', 'dead', 'facility', 'ventilator', 'doctors']),\n",
       "       list(['case', 'report', 'rise', 'record', 'numb', 'death', 'infection', 'daily', 'confirm', 'spike', 'increase', 'province', 'health_official', 'jump', 'count', 'breaking', 'sunday', 'number', 'surpass', 'toll', 'saturday', 'tally', 'register', 'record_high', 'import', 'death_toll', 'single_day', 'cases', 'high_numb', 'active', 'log', 'cross', 'additional_death', 'figure', 'exceed']),\n",
       "       list(['people', 'order', 'public', 'urge', 'issue', 'social_distance', 'police', 'follow', 'guideline', 'place', 'mask', 'protocol', 'event', 'avoid', 'party', 'limit', 'stop', 'wear_mask', 'hold', 'stay_home', 'ban', 'advice', 'fine', 'attend', 'arrest', 'court', 'safe', 'appeal', 'face_mask', 'breach', 'bar', 'encourage', 'violate', 'hand', 'advise']),\n",
       "       list(['lockdown', 'restriction', 'rule', 'extend', 'ease', 'measure', 'level', 'break', 'lift', 'impose', 'boris_johnson', 'nationwide', 'protest', 'curb', 'place', 'christmas', 'period', 'strict', 'police', 'anti', 'weekend', 'street', 'curfew', 'tough', 'relax', 'enforce', 'regulation', 'shop', 'sa', 'decision', 'introduce', 'extension', 'movement', 'pub', 'road']),\n",
       "       list(['amp', 'watch', 'pm', 'today', 'fight', 'post', 'meet', 'live', 'pandemic', 'speak', 'talk', 'join', 'situation', 'story', 'hold', 'discuss', 'detail', 'world', 'indian', 'listen', 'pm_modi', 'special', 'review', 'future', 'share', 'step', 'tonight', 'dr', 'explain', 'india', 'tomorrow', 'key', 'prime_minister', 'exclusive', 'strategy']),\n",
       "       list(['pandemic', 'business', 'economy', 'impact', 'year', 'company', 'market', 'demand', 'employee', 'support', 'pay', 'job', 'big', 'crisis', 'hit', 'worker', 'industry', 'food', 'cost', 'cut', 'struggle', 'affect', 'boost', 'sector', 'sale', 'million', 'bank', 'benefit', 'money', 'stock', 'price', 'customer', 'firm', 'quarter', 'trade']),\n",
       "       list(['news', 'update', 'late', 'live', 'city', 'follow', 'resident', 'outbreak', 'breaking', 'local', 'major', 'watch_live', 'australian', 'link', 'border', 'latest', 'reveal', 'grow', 'cluster', 'hotspot', 'victoria', 'follow_live', 'nsw', 'mayor', 'morning', 'alert', 'move', 'town', 'lock', 'track', 'county', 'bring', 'area', 'concern', 'victorian']),\n",
       "       list(['people', 'find', 'expert', 'virus', 'risk', 'study', 'infect', 'variant', 'claim', 'spread', 'show', 'result', 'accord', 'symptom', 'scientist', 'strain', 'protect', 'reduce', 'work', 'prevent', 'lead', 'worry', 'suggest', 'research', 'identify', 'effect', 'cure', 'detect', 'expose', 'reveal', 'cdc', 'concern', 'catch', 'researcher', 'transmission']),\n",
       "       list(['case', 'report', 'death', 'total', 'confirm', 'hour', 'recovery', 'breaking', 'death_toll', 'record', 'today', 'fresh', 'reach', 'doh', 'active_case', 'stand', 'fatality', 'health_ministry', 'additional', 'include', 'recover', 'total_numb', 'tally', 'department_health', 'discharge', 'health_department', 'death_toll_rise', 'bring_total', 'bring', 'covidph', 'ministry_health', 'patient_recover', 'bring_total_numb', 'infection', 'active']),\n",
       "       list(['state', 'test', 'positive', 'govt', 'centre', 'maharashtra', 'coronavirusoutbreak', 'live_update', 'coronaviruspandemic', 'district', 'lakh', 'conduct', 'health_minister', 'newsalert', 'day', 'person', 'view', 'live_updates', 'check', 'delhi', 'karnataka', 'capacity', 'minister', 'lab', 'decide', 'indiafightscovid', 'covidー', 'covidindia', 'complete', 'coronavirusupdates', 'tamil_nadu', 'pune', 'till', 'punjab', 'telangana']),\n",
       "       list(['health', 'vaccination', 'work', 'provide', 'service', 'community', 'fight', 'question', 'launch', 'worker', 'give', 'group', 'government', 'free', 'offer', 'line', 'system', 'member', 'medical', 'health_worker', 'effort', 'drive', 'facility', 'team', 'union', 'senior', 'run', 'target', 'office', 'minister', 'center', 'information', 'include', 'ensure', 'age']),\n",
       "       list(['amid', 'pandemic', 'school', 'close', 'student', 'child', 'open', 'fear', 'concern', 'shut', 'cancel', 'online', 'force', 'video', 'reopen', 'learn', 'parent', 'kid', 'restaurant', 'play', 'scare', 'university', 'ongoing', 'teacher', 'year', 'turn', 'closure', 'grow', 'star', 'education', 'postpone', 'class', 'game', 'shutdown', 'fan'])],\n",
       "      dtype=object)"
      ]
     },
     "execution_count": 7,
     "metadata": {},
     "output_type": "execute_result"
    }
   ],
   "source": [
    "df_words = pd.DataFrame([])\n",
    "topic_words = pd.DataFrame(columns=['topic', 'words'])\n",
    "for topic in range(20):\n",
    "    tmp = pd.DataFrame(model.get_topic_terms(topic,35), columns=['wordid','imp'])\n",
    "    tmp['topic'] = topic\n",
    "    tmp['word'] = tmp.wordid.apply(lambda x: dictionary[x])\n",
    "    df_words = pd.concat([df_words, tmp])\n",
    "    topic_words.loc[len(topic_words)] = [topic, (list(tmp.word.values))]\n",
    "(topic_words.words.values)"
   ]
  },
  {
   "cell_type": "markdown",
   "metadata": {},
   "source": [
    "### Themes"
   ]
  },
  {
   "cell_type": "code",
   "execution_count": 9,
   "metadata": {},
   "outputs": [],
   "source": [
    "topic2theme = pd.DataFrame({\n",
    "    'topic':[fr'topic_{k}' for k in range(20)], \n",
    "    'theme':[8,5,6,6,1,5,7,2,4,1,6,6,5,2,5,7,1,5,2,3]\n",
    "})\n",
    "df = df.merge(topic2theme, how='left')"
   ]
  },
  {
   "cell_type": "code",
   "execution_count": 10,
   "metadata": {},
   "outputs": [],
   "source": [
    "themes_keywords = []\n",
    "for theme_id in range(1,9):\n",
    "    theme = [int(t.replace('topic_', '')) for t in list(topic2theme[topic2theme.theme==theme_id].topic.values)]\n",
    "    theme_words_tmp = pd.DataFrame()\n",
    "    for topic in theme:\n",
    "        tmp = pd.DataFrame(model.get_topic_terms(topic,40), columns=['wordid','imp'])\n",
    "        theme_words_tmp = pd.concat([theme_words_tmp, tmp])\n",
    "    theme_words_tmp = theme_words_tmp.sort_values('imp', ascending=False)\n",
    "    theme_words_tmp['wordid'] = theme_words_tmp.wordid.apply(lambda x: dictionary[x])\n",
    "    themes_keywords = themes_keywords + [list(theme_words_tmp.drop_duplicates('wordid').wordid.values[:40])]"
   ]
  },
  {
   "cell_type": "code",
   "execution_count": 11,
   "metadata": {
    "tags": []
   },
   "outputs": [],
   "source": [
    "ch2 = CoherenceModel(topics=themes_keywords, texts=docs, dictionary=dictionary, coherence='c_v')"
   ]
  },
  {
   "cell_type": "code",
   "execution_count": 12,
   "metadata": {},
   "outputs": [],
   "source": [
    "cm = ch2.get_coherence()\n",
    "ct = ch2.get_coherence_per_topic()"
   ]
  },
  {
   "cell_type": "code",
   "execution_count": 13,
   "metadata": {},
   "outputs": [
    {
     "data": {
      "text/plain": [
       "[0.5499119210910914,\n",
       " 0.36634718029460184,\n",
       " 0.4491761580866596,\n",
       " 0.5079310150786362,\n",
       " 0.29246823267060074,\n",
       " 0.3267263983445418,\n",
       " 0.34401554600341194,\n",
       " 0.6038524465903001]"
      ]
     },
     "execution_count": 13,
     "metadata": {},
     "output_type": "execute_result"
    }
   ],
   "source": [
    "ct"
   ]
  },
  {
   "cell_type": "code",
   "execution_count": 14,
   "metadata": {},
   "outputs": [
    {
     "data": {
      "text/plain": [
       "0.4300536122699805"
      ]
     },
     "execution_count": 14,
     "metadata": {},
     "output_type": "execute_result"
    }
   ],
   "source": [
    "cm"
   ]
  },
  {
   "cell_type": "code",
   "execution_count": 15,
   "metadata": {},
   "outputs": [
    {
     "data": {
      "text/plain": [
       "6    0.233740\n",
       "5    0.226685\n",
       "1    0.153285\n",
       "2    0.110980\n",
       "8    0.104983\n",
       "7    0.083916\n",
       "4    0.058919\n",
       "3    0.027491\n",
       "Name: theme, dtype: float64"
      ]
     },
     "execution_count": 15,
     "metadata": {},
     "output_type": "execute_result"
    }
   ],
   "source": [
    "df.theme.value_counts(normalize=True)"
   ]
  },
  {
   "cell_type": "code",
   "execution_count": 19,
   "metadata": {},
   "outputs": [
    {
     "data": {
      "text/plain": [
       "array(['vaccine', 'dose', 'receive', 'astrazeneca', 'give', 'trial',\n",
       "       'supply', 'ready', 'jab', 'shoot', 'approve', 'pfizer', 'roll',\n",
       "       'develope', 'effective', 'eu', 'vaccinate', 'development',\n",
       "       'deliver', 'race', 'access', 'hope', 'shot', 'distribution',\n",
       "       'delivery', 'drug', 'administer', 'covidvaccine', 'volunteer',\n",
       "       'age', 'potential', 'shortage', 'approval', 'produce',\n",
       "       'johnson_amp_johnson'], dtype='<U19')"
      ]
     },
     "execution_count": 19,
     "metadata": {},
     "output_type": "execute_result"
    }
   ],
   "source": [
    "theme_id = 8\n",
    "theme = [int(t.replace('topic_', '')) for t in list(topic2theme[topic2theme.theme==theme_id].topic.values)]\n",
    "np.array(list(dict.fromkeys(df_words[df_words.topic.isin(theme)].word.values)))"
   ]
  },
  {
   "cell_type": "markdown",
   "metadata": {},
   "source": [
    "### Subthemes"
   ]
  },
  {
   "cell_type": "code",
   "execution_count": 16,
   "metadata": {},
   "outputs": [],
   "source": [
    "subthemes = [\n",
    "    (1,11,['rise', 'increase', 'high', 'spike', 'jump', 'reach', 'double', 'climb', 'soar', 'record_high', 'death_toll_rise', 'peak', 'hit', 'high_daily', 'top', 'exceed', 'high_single_day', 'tally_rise']),\n",
    "    (1,12,['low', 'drop', 'fall', 'dip', 'decrease']),\n",
    "    (2,21,['worker', 'plan', 'work', 'support', 'free', 'job', 'employee', 'food', 'citizen', 'congress', 'poor', 'protect', 'people', 'vulnerable', 'household', 'essential', 'loan', 'small_business', 'lose_job', 'donation', 'employer', 'assistance', 'job_loss']),\n",
    "    (2,22,['impact', 'business', 'government', 'economy', 'global', 'demand', 'market', 'company', 'industry', 'cut', 'aid', 'budget', 'sector', 'boost', 'bank', 'bill', 'stock', 'quarter', 'trade', 'law', 'growth', 'lawmaker', 'office', 'relief_bill', 'supreme_court', 'economic_recovery', 'debt', 'profit', 'relief_package', 'global_economy', 'stimulus_package', 'world_bank', 'relief_fund', 'organisation']),\n",
    "    (4,41,['nurse_home', 'care_home']),\n",
    "    (4,42,['mental_health']),\n",
    "    (4,43,['jail', 'prison', 'cop', 'inmate']),\n",
    "    (4,44,['family', 'couple', 'wife', 'mother', 'son', 'daughter', 'husband', 'father', 'mum', 'baby', 'dad']),\n",
    "    (5,51,['health_official', 'health_minister', 'expert', 'task_force', 'public_health', 'dr_anthony_fauci', 'chief_medical_officer']),\n",
    "    (5,52,['trump', 'pm', 'president', 'president_trump', 'minister', 'white_house', 'leader', 'pm_modi', 'governor', 'govt', 'president_donald_trump', 'donald_trump', 'administration', 'federal', 'biden', 'mp', 'joe_biden', 'trudeau', 'trump_administration', 'pm_narendra_modi', 'leadership', 'pres_trump', 'prime_minister_justin_trudeau', 'opposition', 'government']),\n",
    "    (5,53,['election', 'poll', 'debate', 'voter']),\n",
    "    (6,61,['lockdown', 'restriction', 'quarantine', 'police', 'rule', 'impose', 'protocol', 'quarantine_facility', 'mandatory', 'community_quarantine', 'stay_home_order', 'containment_zone', 'covidquarantine', 'quarantine_period']),\n",
    "    (6,62,['travel', 'passenger', 'flight', 'airport', 'plan', 'airline', 'tourism', 'fly', 'traveller', 'travel_ban', 'trip', 'vaccine_passport']),\n",
    "    (6,63,['protest', 'anti', 'break', 'arrest', 'fine', 'protester']),\n",
    "    (6,64,['social_distance', 'mask', 'wear_mask', 'social_distance_measure']),\n",
    "    (6,65,['christmas', 'holiday', 'easter']),\n",
    "    (6,66,['ease', 'relax', 'restriction_ease', 'ease_restriction', 'slow_spread']),\n",
    "    (7,71,['outbreak', 'fear', 'chinese', 'detect', 'epidemic', 'suspect', 'emerge', 'panic', 'epicentre', 'animal', 'origin', 'china', 'epicenter']),\n",
    "    (7,72,['hospital', 'study', 'treatment', 'research', 'lab', 'expert', 'cure', 'researcher', 'scientist', 'ventilator', 'study_find', 'medicine', 'scientists', 'private_hospital', 'expert_warn', 'oxygen', 'researchers', 'intensive_care', 'study_show', 'hospitals', 'palliative']),\n",
    "    (7,73,['variant', 'wave', 'strain', 'mutation']),\n",
    "    (7,74,['doctor', 'medical', 'healthcare_worker', 'health_worker', 'doctors', 'health_care_worker'])\n",
    "]"
   ]
  },
  {
   "cell_type": "code",
   "execution_count": 17,
   "metadata": {},
   "outputs": [],
   "source": [
    "for col in [fr'subtheme{subtheme[1]}' for subtheme in subthemes]:\n",
    "    df[col] = False"
   ]
  },
  {
   "cell_type": "code",
   "execution_count": 18,
   "metadata": {},
   "outputs": [],
   "source": [
    "for k in range(1,9):\n",
    "    subthemes_desc = [subtheme for subtheme in subthemes if subtheme[0]==k]\n",
    "    if len(subthemes_desc)>0:\n",
    "        indices = list(df[df.theme==k].index)\n",
    "        topic_docs = [docs[i] for i in indices]\n",
    "        for subtheme_desc in subthemes_desc:\n",
    "            kw = subtheme_desc[2]\n",
    "            t = [ind for k, ind in enumerate(indices) if any(i in topic_docs[k] for i in kw)]\n",
    "            df.loc[t,fr'subtheme{subtheme_desc[1]}'] = True"
   ]
  },
  {
   "cell_type": "code",
   "execution_count": 19,
   "metadata": {},
   "outputs": [
    {
     "data": {
      "text/plain": [
       "subtheme11     75511\n",
       "subtheme12     14259\n",
       "subtheme21     42662\n",
       "subtheme22     51198\n",
       "subtheme41      2214\n",
       "subtheme42        75\n",
       "subtheme43       982\n",
       "subtheme44     14107\n",
       "subtheme51     12735\n",
       "subtheme52     96187\n",
       "subtheme53      6999\n",
       "subtheme61    148678\n",
       "subtheme62     37233\n",
       "subtheme63     14535\n",
       "subtheme64     13296\n",
       "subtheme65      6523\n",
       "subtheme66     12707\n",
       "subtheme71     32926\n",
       "subtheme72     23564\n",
       "subtheme73      8348\n",
       "subtheme74      3084\n",
       "dtype: int64"
      ]
     },
     "execution_count": 19,
     "metadata": {},
     "output_type": "execute_result"
    }
   ],
   "source": [
    "df[[fr'subtheme{subtheme[1]}' for subtheme in subthemes]].sum()"
   ]
  },
  {
   "cell_type": "code",
   "execution_count": 20,
   "metadata": {},
   "outputs": [],
   "source": [
    "df.to_parquet('./../data/processed/news_tweets_topics_0612.parquet', compression='gzip', index=False)"
   ]
  },
  {
   "cell_type": "code",
   "execution_count": 25,
   "metadata": {},
   "outputs": [
    {
     "data": {
      "text/html": [
       "<div>\n",
       "<style scoped>\n",
       "    .dataframe tbody tr th:only-of-type {\n",
       "        vertical-align: middle;\n",
       "    }\n",
       "\n",
       "    .dataframe tbody tr th {\n",
       "        vertical-align: top;\n",
       "    }\n",
       "\n",
       "    .dataframe thead th {\n",
       "        text-align: right;\n",
       "    }\n",
       "</style>\n",
       "<table border=\"1\" class=\"dataframe\">\n",
       "  <thead>\n",
       "    <tr style=\"text-align: right;\">\n",
       "      <th></th>\n",
       "      <th>topic_0</th>\n",
       "      <th>topic_1</th>\n",
       "      <th>topic_2</th>\n",
       "      <th>topic_3</th>\n",
       "      <th>topic_4</th>\n",
       "      <th>topic_5</th>\n",
       "      <th>topic_6</th>\n",
       "      <th>topic_7</th>\n",
       "      <th>topic_8</th>\n",
       "      <th>topic_9</th>\n",
       "      <th>topic_10</th>\n",
       "      <th>topic_11</th>\n",
       "      <th>topic_12</th>\n",
       "      <th>topic_13</th>\n",
       "      <th>topic_14</th>\n",
       "      <th>topic_15</th>\n",
       "      <th>topic_16</th>\n",
       "      <th>topic_17</th>\n",
       "      <th>topic_18</th>\n",
       "      <th>topic_19</th>\n",
       "      <th>topic</th>\n",
       "      <th>num_topic</th>\n",
       "      <th>tweetId</th>\n",
       "      <th>theme</th>\n",
       "      <th>subtheme11</th>\n",
       "      <th>subtheme12</th>\n",
       "      <th>subtheme21</th>\n",
       "      <th>subtheme22</th>\n",
       "      <th>subtheme41</th>\n",
       "      <th>subtheme42</th>\n",
       "      <th>subtheme43</th>\n",
       "      <th>subtheme44</th>\n",
       "      <th>subtheme51</th>\n",
       "      <th>subtheme52</th>\n",
       "      <th>subtheme53</th>\n",
       "      <th>subtheme61</th>\n",
       "      <th>subtheme62</th>\n",
       "      <th>subtheme63</th>\n",
       "      <th>subtheme64</th>\n",
       "      <th>subtheme65</th>\n",
       "      <th>subtheme66</th>\n",
       "      <th>subtheme71</th>\n",
       "      <th>subtheme72</th>\n",
       "      <th>subtheme73</th>\n",
       "      <th>subtheme74</th>\n",
       "    </tr>\n",
       "  </thead>\n",
       "  <tbody>\n",
       "    <tr>\n",
       "      <th>0</th>\n",
       "      <td>0.048077</td>\n",
       "      <td>0.048077</td>\n",
       "      <td>0.048077</td>\n",
       "      <td>0.048077</td>\n",
       "      <td>0.048077</td>\n",
       "      <td>0.048077</td>\n",
       "      <td>0.086538</td>\n",
       "      <td>0.048077</td>\n",
       "      <td>0.048077</td>\n",
       "      <td>0.048077</td>\n",
       "      <td>0.048077</td>\n",
       "      <td>0.048077</td>\n",
       "      <td>0.048077</td>\n",
       "      <td>0.048077</td>\n",
       "      <td>0.048077</td>\n",
       "      <td>0.048077</td>\n",
       "      <td>0.048077</td>\n",
       "      <td>0.048077</td>\n",
       "      <td>0.048077</td>\n",
       "      <td>0.048077</td>\n",
       "      <td>topic_6</td>\n",
       "      <td>6</td>\n",
       "      <td>1212176883305111554</td>\n",
       "      <td>7</td>\n",
       "      <td>False</td>\n",
       "      <td>False</td>\n",
       "      <td>False</td>\n",
       "      <td>False</td>\n",
       "      <td>False</td>\n",
       "      <td>False</td>\n",
       "      <td>False</td>\n",
       "      <td>False</td>\n",
       "      <td>False</td>\n",
       "      <td>False</td>\n",
       "      <td>False</td>\n",
       "      <td>False</td>\n",
       "      <td>False</td>\n",
       "      <td>False</td>\n",
       "      <td>False</td>\n",
       "      <td>False</td>\n",
       "      <td>False</td>\n",
       "      <td>True</td>\n",
       "      <td>False</td>\n",
       "      <td>False</td>\n",
       "      <td>False</td>\n",
       "    </tr>\n",
       "    <tr>\n",
       "      <th>1</th>\n",
       "      <td>0.044643</td>\n",
       "      <td>0.044643</td>\n",
       "      <td>0.062500</td>\n",
       "      <td>0.044643</td>\n",
       "      <td>0.044643</td>\n",
       "      <td>0.044643</td>\n",
       "      <td>0.044643</td>\n",
       "      <td>0.044643</td>\n",
       "      <td>0.044643</td>\n",
       "      <td>0.044643</td>\n",
       "      <td>0.044643</td>\n",
       "      <td>0.062500</td>\n",
       "      <td>0.044643</td>\n",
       "      <td>0.044643</td>\n",
       "      <td>0.062500</td>\n",
       "      <td>0.044643</td>\n",
       "      <td>0.044643</td>\n",
       "      <td>0.044643</td>\n",
       "      <td>0.098214</td>\n",
       "      <td>0.044643</td>\n",
       "      <td>topic_18</td>\n",
       "      <td>18</td>\n",
       "      <td>1212187503463223296</td>\n",
       "      <td>2</td>\n",
       "      <td>False</td>\n",
       "      <td>False</td>\n",
       "      <td>False</td>\n",
       "      <td>True</td>\n",
       "      <td>False</td>\n",
       "      <td>False</td>\n",
       "      <td>False</td>\n",
       "      <td>False</td>\n",
       "      <td>False</td>\n",
       "      <td>False</td>\n",
       "      <td>False</td>\n",
       "      <td>False</td>\n",
       "      <td>False</td>\n",
       "      <td>False</td>\n",
       "      <td>False</td>\n",
       "      <td>False</td>\n",
       "      <td>False</td>\n",
       "      <td>False</td>\n",
       "      <td>False</td>\n",
       "      <td>False</td>\n",
       "      <td>False</td>\n",
       "    </tr>\n",
       "    <tr>\n",
       "      <th>2</th>\n",
       "      <td>0.047170</td>\n",
       "      <td>0.047170</td>\n",
       "      <td>0.047170</td>\n",
       "      <td>0.047170</td>\n",
       "      <td>0.047170</td>\n",
       "      <td>0.047170</td>\n",
       "      <td>0.066038</td>\n",
       "      <td>0.047170</td>\n",
       "      <td>0.047170</td>\n",
       "      <td>0.047170</td>\n",
       "      <td>0.047170</td>\n",
       "      <td>0.047170</td>\n",
       "      <td>0.047170</td>\n",
       "      <td>0.047170</td>\n",
       "      <td>0.047170</td>\n",
       "      <td>0.066038</td>\n",
       "      <td>0.047170</td>\n",
       "      <td>0.047170</td>\n",
       "      <td>0.047170</td>\n",
       "      <td>0.066038</td>\n",
       "      <td>topic_6</td>\n",
       "      <td>6</td>\n",
       "      <td>1212193136816148480</td>\n",
       "      <td>7</td>\n",
       "      <td>False</td>\n",
       "      <td>False</td>\n",
       "      <td>False</td>\n",
       "      <td>False</td>\n",
       "      <td>False</td>\n",
       "      <td>False</td>\n",
       "      <td>False</td>\n",
       "      <td>False</td>\n",
       "      <td>False</td>\n",
       "      <td>False</td>\n",
       "      <td>False</td>\n",
       "      <td>False</td>\n",
       "      <td>False</td>\n",
       "      <td>False</td>\n",
       "      <td>False</td>\n",
       "      <td>False</td>\n",
       "      <td>False</td>\n",
       "      <td>True</td>\n",
       "      <td>False</td>\n",
       "      <td>False</td>\n",
       "      <td>False</td>\n",
       "    </tr>\n",
       "    <tr>\n",
       "      <th>3</th>\n",
       "      <td>0.062500</td>\n",
       "      <td>0.044643</td>\n",
       "      <td>0.044643</td>\n",
       "      <td>0.044643</td>\n",
       "      <td>0.044643</td>\n",
       "      <td>0.044643</td>\n",
       "      <td>0.044643</td>\n",
       "      <td>0.044643</td>\n",
       "      <td>0.044643</td>\n",
       "      <td>0.044643</td>\n",
       "      <td>0.044643</td>\n",
       "      <td>0.044643</td>\n",
       "      <td>0.044643</td>\n",
       "      <td>0.080357</td>\n",
       "      <td>0.044643</td>\n",
       "      <td>0.098214</td>\n",
       "      <td>0.044643</td>\n",
       "      <td>0.044643</td>\n",
       "      <td>0.044643</td>\n",
       "      <td>0.044643</td>\n",
       "      <td>topic_15</td>\n",
       "      <td>15</td>\n",
       "      <td>1212478036119040001</td>\n",
       "      <td>7</td>\n",
       "      <td>False</td>\n",
       "      <td>False</td>\n",
       "      <td>False</td>\n",
       "      <td>False</td>\n",
       "      <td>False</td>\n",
       "      <td>False</td>\n",
       "      <td>False</td>\n",
       "      <td>False</td>\n",
       "      <td>False</td>\n",
       "      <td>False</td>\n",
       "      <td>False</td>\n",
       "      <td>False</td>\n",
       "      <td>False</td>\n",
       "      <td>False</td>\n",
       "      <td>False</td>\n",
       "      <td>False</td>\n",
       "      <td>False</td>\n",
       "      <td>False</td>\n",
       "      <td>True</td>\n",
       "      <td>False</td>\n",
       "      <td>False</td>\n",
       "    </tr>\n",
       "    <tr>\n",
       "      <th>4</th>\n",
       "      <td>0.081818</td>\n",
       "      <td>0.045455</td>\n",
       "      <td>0.063636</td>\n",
       "      <td>0.045455</td>\n",
       "      <td>0.045455</td>\n",
       "      <td>0.045455</td>\n",
       "      <td>0.045455</td>\n",
       "      <td>0.045455</td>\n",
       "      <td>0.045455</td>\n",
       "      <td>0.045455</td>\n",
       "      <td>0.045455</td>\n",
       "      <td>0.045455</td>\n",
       "      <td>0.045455</td>\n",
       "      <td>0.045455</td>\n",
       "      <td>0.045455</td>\n",
       "      <td>0.063636</td>\n",
       "      <td>0.045455</td>\n",
       "      <td>0.063636</td>\n",
       "      <td>0.045455</td>\n",
       "      <td>0.045455</td>\n",
       "      <td>topic_0</td>\n",
       "      <td>0</td>\n",
       "      <td>1212520131315818496</td>\n",
       "      <td>8</td>\n",
       "      <td>False</td>\n",
       "      <td>False</td>\n",
       "      <td>False</td>\n",
       "      <td>False</td>\n",
       "      <td>False</td>\n",
       "      <td>False</td>\n",
       "      <td>False</td>\n",
       "      <td>False</td>\n",
       "      <td>False</td>\n",
       "      <td>False</td>\n",
       "      <td>False</td>\n",
       "      <td>False</td>\n",
       "      <td>False</td>\n",
       "      <td>False</td>\n",
       "      <td>False</td>\n",
       "      <td>False</td>\n",
       "      <td>False</td>\n",
       "      <td>False</td>\n",
       "      <td>False</td>\n",
       "      <td>False</td>\n",
       "      <td>False</td>\n",
       "    </tr>\n",
       "    <tr>\n",
       "      <th>...</th>\n",
       "      <td>...</td>\n",
       "      <td>...</td>\n",
       "      <td>...</td>\n",
       "      <td>...</td>\n",
       "      <td>...</td>\n",
       "      <td>...</td>\n",
       "      <td>...</td>\n",
       "      <td>...</td>\n",
       "      <td>...</td>\n",
       "      <td>...</td>\n",
       "      <td>...</td>\n",
       "      <td>...</td>\n",
       "      <td>...</td>\n",
       "      <td>...</td>\n",
       "      <td>...</td>\n",
       "      <td>...</td>\n",
       "      <td>...</td>\n",
       "      <td>...</td>\n",
       "      <td>...</td>\n",
       "      <td>...</td>\n",
       "      <td>...</td>\n",
       "      <td>...</td>\n",
       "      <td>...</td>\n",
       "      <td>...</td>\n",
       "      <td>...</td>\n",
       "      <td>...</td>\n",
       "      <td>...</td>\n",
       "      <td>...</td>\n",
       "      <td>...</td>\n",
       "      <td>...</td>\n",
       "      <td>...</td>\n",
       "      <td>...</td>\n",
       "      <td>...</td>\n",
       "      <td>...</td>\n",
       "      <td>...</td>\n",
       "      <td>...</td>\n",
       "      <td>...</td>\n",
       "      <td>...</td>\n",
       "      <td>...</td>\n",
       "      <td>...</td>\n",
       "      <td>...</td>\n",
       "      <td>...</td>\n",
       "      <td>...</td>\n",
       "      <td>...</td>\n",
       "      <td>...</td>\n",
       "    </tr>\n",
       "    <tr>\n",
       "      <th>1719866</th>\n",
       "      <td>0.041667</td>\n",
       "      <td>0.058333</td>\n",
       "      <td>0.041667</td>\n",
       "      <td>0.058333</td>\n",
       "      <td>0.041667</td>\n",
       "      <td>0.058333</td>\n",
       "      <td>0.041667</td>\n",
       "      <td>0.041667</td>\n",
       "      <td>0.041667</td>\n",
       "      <td>0.041667</td>\n",
       "      <td>0.041667</td>\n",
       "      <td>0.058333</td>\n",
       "      <td>0.058333</td>\n",
       "      <td>0.041667</td>\n",
       "      <td>0.041667</td>\n",
       "      <td>0.058333</td>\n",
       "      <td>0.058333</td>\n",
       "      <td>0.091667</td>\n",
       "      <td>0.041667</td>\n",
       "      <td>0.041667</td>\n",
       "      <td>topic_17</td>\n",
       "      <td>17</td>\n",
       "      <td>1387918189342822405</td>\n",
       "      <td>5</td>\n",
       "      <td>False</td>\n",
       "      <td>False</td>\n",
       "      <td>False</td>\n",
       "      <td>False</td>\n",
       "      <td>False</td>\n",
       "      <td>False</td>\n",
       "      <td>False</td>\n",
       "      <td>False</td>\n",
       "      <td>False</td>\n",
       "      <td>False</td>\n",
       "      <td>False</td>\n",
       "      <td>False</td>\n",
       "      <td>False</td>\n",
       "      <td>False</td>\n",
       "      <td>False</td>\n",
       "      <td>False</td>\n",
       "      <td>False</td>\n",
       "      <td>False</td>\n",
       "      <td>False</td>\n",
       "      <td>False</td>\n",
       "      <td>False</td>\n",
       "    </tr>\n",
       "    <tr>\n",
       "      <th>1719867</th>\n",
       "      <td>0.046296</td>\n",
       "      <td>0.046296</td>\n",
       "      <td>0.046296</td>\n",
       "      <td>0.046296</td>\n",
       "      <td>0.046296</td>\n",
       "      <td>0.046296</td>\n",
       "      <td>0.064815</td>\n",
       "      <td>0.046296</td>\n",
       "      <td>0.046296</td>\n",
       "      <td>0.101852</td>\n",
       "      <td>0.046296</td>\n",
       "      <td>0.046296</td>\n",
       "      <td>0.046296</td>\n",
       "      <td>0.046296</td>\n",
       "      <td>0.046296</td>\n",
       "      <td>0.046296</td>\n",
       "      <td>0.046296</td>\n",
       "      <td>0.046296</td>\n",
       "      <td>0.046296</td>\n",
       "      <td>0.046296</td>\n",
       "      <td>topic_9</td>\n",
       "      <td>9</td>\n",
       "      <td>1387918271446323200</td>\n",
       "      <td>1</td>\n",
       "      <td>False</td>\n",
       "      <td>False</td>\n",
       "      <td>False</td>\n",
       "      <td>False</td>\n",
       "      <td>False</td>\n",
       "      <td>False</td>\n",
       "      <td>False</td>\n",
       "      <td>False</td>\n",
       "      <td>False</td>\n",
       "      <td>False</td>\n",
       "      <td>False</td>\n",
       "      <td>False</td>\n",
       "      <td>False</td>\n",
       "      <td>False</td>\n",
       "      <td>False</td>\n",
       "      <td>False</td>\n",
       "      <td>False</td>\n",
       "      <td>False</td>\n",
       "      <td>False</td>\n",
       "      <td>False</td>\n",
       "      <td>False</td>\n",
       "    </tr>\n",
       "    <tr>\n",
       "      <th>1719868</th>\n",
       "      <td>0.043103</td>\n",
       "      <td>0.043103</td>\n",
       "      <td>0.060345</td>\n",
       "      <td>0.043103</td>\n",
       "      <td>0.077586</td>\n",
       "      <td>0.043103</td>\n",
       "      <td>0.043103</td>\n",
       "      <td>0.043103</td>\n",
       "      <td>0.043103</td>\n",
       "      <td>0.043103</td>\n",
       "      <td>0.043103</td>\n",
       "      <td>0.043103</td>\n",
       "      <td>0.060345</td>\n",
       "      <td>0.077586</td>\n",
       "      <td>0.043103</td>\n",
       "      <td>0.043103</td>\n",
       "      <td>0.043103</td>\n",
       "      <td>0.043103</td>\n",
       "      <td>0.043103</td>\n",
       "      <td>0.077586</td>\n",
       "      <td>topic_4</td>\n",
       "      <td>4</td>\n",
       "      <td>1387918637030264834</td>\n",
       "      <td>1</td>\n",
       "      <td>False</td>\n",
       "      <td>False</td>\n",
       "      <td>False</td>\n",
       "      <td>False</td>\n",
       "      <td>False</td>\n",
       "      <td>False</td>\n",
       "      <td>False</td>\n",
       "      <td>False</td>\n",
       "      <td>False</td>\n",
       "      <td>False</td>\n",
       "      <td>False</td>\n",
       "      <td>False</td>\n",
       "      <td>False</td>\n",
       "      <td>False</td>\n",
       "      <td>False</td>\n",
       "      <td>False</td>\n",
       "      <td>False</td>\n",
       "      <td>False</td>\n",
       "      <td>False</td>\n",
       "      <td>False</td>\n",
       "      <td>False</td>\n",
       "    </tr>\n",
       "    <tr>\n",
       "      <th>1719869</th>\n",
       "      <td>0.046296</td>\n",
       "      <td>0.046296</td>\n",
       "      <td>0.046296</td>\n",
       "      <td>0.046296</td>\n",
       "      <td>0.064815</td>\n",
       "      <td>0.046296</td>\n",
       "      <td>0.046296</td>\n",
       "      <td>0.046296</td>\n",
       "      <td>0.046296</td>\n",
       "      <td>0.046296</td>\n",
       "      <td>0.064815</td>\n",
       "      <td>0.046296</td>\n",
       "      <td>0.046296</td>\n",
       "      <td>0.046296</td>\n",
       "      <td>0.064815</td>\n",
       "      <td>0.046296</td>\n",
       "      <td>0.046296</td>\n",
       "      <td>0.046296</td>\n",
       "      <td>0.046296</td>\n",
       "      <td>0.064815</td>\n",
       "      <td>topic_4</td>\n",
       "      <td>4</td>\n",
       "      <td>1387919253827903496</td>\n",
       "      <td>1</td>\n",
       "      <td>False</td>\n",
       "      <td>True</td>\n",
       "      <td>False</td>\n",
       "      <td>False</td>\n",
       "      <td>False</td>\n",
       "      <td>False</td>\n",
       "      <td>False</td>\n",
       "      <td>False</td>\n",
       "      <td>False</td>\n",
       "      <td>False</td>\n",
       "      <td>False</td>\n",
       "      <td>False</td>\n",
       "      <td>False</td>\n",
       "      <td>False</td>\n",
       "      <td>False</td>\n",
       "      <td>False</td>\n",
       "      <td>False</td>\n",
       "      <td>False</td>\n",
       "      <td>False</td>\n",
       "      <td>False</td>\n",
       "      <td>False</td>\n",
       "    </tr>\n",
       "    <tr>\n",
       "      <th>1719870</th>\n",
       "      <td>0.044643</td>\n",
       "      <td>0.062500</td>\n",
       "      <td>0.044643</td>\n",
       "      <td>0.044643</td>\n",
       "      <td>0.062500</td>\n",
       "      <td>0.044643</td>\n",
       "      <td>0.044643</td>\n",
       "      <td>0.044643</td>\n",
       "      <td>0.044643</td>\n",
       "      <td>0.062500</td>\n",
       "      <td>0.044643</td>\n",
       "      <td>0.044643</td>\n",
       "      <td>0.062500</td>\n",
       "      <td>0.044643</td>\n",
       "      <td>0.044643</td>\n",
       "      <td>0.044643</td>\n",
       "      <td>0.080357</td>\n",
       "      <td>0.044643</td>\n",
       "      <td>0.044643</td>\n",
       "      <td>0.044643</td>\n",
       "      <td>topic_16</td>\n",
       "      <td>16</td>\n",
       "      <td>1387919261427933186</td>\n",
       "      <td>1</td>\n",
       "      <td>False</td>\n",
       "      <td>False</td>\n",
       "      <td>False</td>\n",
       "      <td>False</td>\n",
       "      <td>False</td>\n",
       "      <td>False</td>\n",
       "      <td>False</td>\n",
       "      <td>False</td>\n",
       "      <td>False</td>\n",
       "      <td>False</td>\n",
       "      <td>False</td>\n",
       "      <td>False</td>\n",
       "      <td>False</td>\n",
       "      <td>False</td>\n",
       "      <td>False</td>\n",
       "      <td>False</td>\n",
       "      <td>False</td>\n",
       "      <td>False</td>\n",
       "      <td>False</td>\n",
       "      <td>False</td>\n",
       "      <td>False</td>\n",
       "    </tr>\n",
       "  </tbody>\n",
       "</table>\n",
       "<p>1719871 rows × 45 columns</p>\n",
       "</div>"
      ],
      "text/plain": [
       "          topic_0   topic_1   topic_2   topic_3   topic_4   topic_5   topic_6  \\\n",
       "0        0.048077  0.048077  0.048077  0.048077  0.048077  0.048077  0.086538   \n",
       "1        0.044643  0.044643  0.062500  0.044643  0.044643  0.044643  0.044643   \n",
       "2        0.047170  0.047170  0.047170  0.047170  0.047170  0.047170  0.066038   \n",
       "3        0.062500  0.044643  0.044643  0.044643  0.044643  0.044643  0.044643   \n",
       "4        0.081818  0.045455  0.063636  0.045455  0.045455  0.045455  0.045455   \n",
       "...           ...       ...       ...       ...       ...       ...       ...   \n",
       "1719866  0.041667  0.058333  0.041667  0.058333  0.041667  0.058333  0.041667   \n",
       "1719867  0.046296  0.046296  0.046296  0.046296  0.046296  0.046296  0.064815   \n",
       "1719868  0.043103  0.043103  0.060345  0.043103  0.077586  0.043103  0.043103   \n",
       "1719869  0.046296  0.046296  0.046296  0.046296  0.064815  0.046296  0.046296   \n",
       "1719870  0.044643  0.062500  0.044643  0.044643  0.062500  0.044643  0.044643   \n",
       "\n",
       "          topic_7   topic_8   topic_9  topic_10  topic_11  topic_12  topic_13  \\\n",
       "0        0.048077  0.048077  0.048077  0.048077  0.048077  0.048077  0.048077   \n",
       "1        0.044643  0.044643  0.044643  0.044643  0.062500  0.044643  0.044643   \n",
       "2        0.047170  0.047170  0.047170  0.047170  0.047170  0.047170  0.047170   \n",
       "3        0.044643  0.044643  0.044643  0.044643  0.044643  0.044643  0.080357   \n",
       "4        0.045455  0.045455  0.045455  0.045455  0.045455  0.045455  0.045455   \n",
       "...           ...       ...       ...       ...       ...       ...       ...   \n",
       "1719866  0.041667  0.041667  0.041667  0.041667  0.058333  0.058333  0.041667   \n",
       "1719867  0.046296  0.046296  0.101852  0.046296  0.046296  0.046296  0.046296   \n",
       "1719868  0.043103  0.043103  0.043103  0.043103  0.043103  0.060345  0.077586   \n",
       "1719869  0.046296  0.046296  0.046296  0.064815  0.046296  0.046296  0.046296   \n",
       "1719870  0.044643  0.044643  0.062500  0.044643  0.044643  0.062500  0.044643   \n",
       "\n",
       "         topic_14  topic_15  topic_16  topic_17  topic_18  topic_19     topic  \\\n",
       "0        0.048077  0.048077  0.048077  0.048077  0.048077  0.048077   topic_6   \n",
       "1        0.062500  0.044643  0.044643  0.044643  0.098214  0.044643  topic_18   \n",
       "2        0.047170  0.066038  0.047170  0.047170  0.047170  0.066038   topic_6   \n",
       "3        0.044643  0.098214  0.044643  0.044643  0.044643  0.044643  topic_15   \n",
       "4        0.045455  0.063636  0.045455  0.063636  0.045455  0.045455   topic_0   \n",
       "...           ...       ...       ...       ...       ...       ...       ...   \n",
       "1719866  0.041667  0.058333  0.058333  0.091667  0.041667  0.041667  topic_17   \n",
       "1719867  0.046296  0.046296  0.046296  0.046296  0.046296  0.046296   topic_9   \n",
       "1719868  0.043103  0.043103  0.043103  0.043103  0.043103  0.077586   topic_4   \n",
       "1719869  0.064815  0.046296  0.046296  0.046296  0.046296  0.064815   topic_4   \n",
       "1719870  0.044643  0.044643  0.080357  0.044643  0.044643  0.044643  topic_16   \n",
       "\n",
       "         num_topic              tweetId  theme  subtheme11  subtheme12  \\\n",
       "0                6  1212176883305111554      7       False       False   \n",
       "1               18  1212187503463223296      2       False       False   \n",
       "2                6  1212193136816148480      7       False       False   \n",
       "3               15  1212478036119040001      7       False       False   \n",
       "4                0  1212520131315818496      8       False       False   \n",
       "...            ...                  ...    ...         ...         ...   \n",
       "1719866         17  1387918189342822405      5       False       False   \n",
       "1719867          9  1387918271446323200      1       False       False   \n",
       "1719868          4  1387918637030264834      1       False       False   \n",
       "1719869          4  1387919253827903496      1       False        True   \n",
       "1719870         16  1387919261427933186      1       False       False   \n",
       "\n",
       "         subtheme21  subtheme22  subtheme41  subtheme42  subtheme43  \\\n",
       "0             False       False       False       False       False   \n",
       "1             False        True       False       False       False   \n",
       "2             False       False       False       False       False   \n",
       "3             False       False       False       False       False   \n",
       "4             False       False       False       False       False   \n",
       "...             ...         ...         ...         ...         ...   \n",
       "1719866       False       False       False       False       False   \n",
       "1719867       False       False       False       False       False   \n",
       "1719868       False       False       False       False       False   \n",
       "1719869       False       False       False       False       False   \n",
       "1719870       False       False       False       False       False   \n",
       "\n",
       "         subtheme44  subtheme51  subtheme52  subtheme53  subtheme61  \\\n",
       "0             False       False       False       False       False   \n",
       "1             False       False       False       False       False   \n",
       "2             False       False       False       False       False   \n",
       "3             False       False       False       False       False   \n",
       "4             False       False       False       False       False   \n",
       "...             ...         ...         ...         ...         ...   \n",
       "1719866       False       False       False       False       False   \n",
       "1719867       False       False       False       False       False   \n",
       "1719868       False       False       False       False       False   \n",
       "1719869       False       False       False       False       False   \n",
       "1719870       False       False       False       False       False   \n",
       "\n",
       "         subtheme62  subtheme63  subtheme64  subtheme65  subtheme66  \\\n",
       "0             False       False       False       False       False   \n",
       "1             False       False       False       False       False   \n",
       "2             False       False       False       False       False   \n",
       "3             False       False       False       False       False   \n",
       "4             False       False       False       False       False   \n",
       "...             ...         ...         ...         ...         ...   \n",
       "1719866       False       False       False       False       False   \n",
       "1719867       False       False       False       False       False   \n",
       "1719868       False       False       False       False       False   \n",
       "1719869       False       False       False       False       False   \n",
       "1719870       False       False       False       False       False   \n",
       "\n",
       "         subtheme71  subtheme72  subtheme73  subtheme74  \n",
       "0              True       False       False       False  \n",
       "1             False       False       False       False  \n",
       "2              True       False       False       False  \n",
       "3             False        True       False       False  \n",
       "4             False       False       False       False  \n",
       "...             ...         ...         ...         ...  \n",
       "1719866       False       False       False       False  \n",
       "1719867       False       False       False       False  \n",
       "1719868       False       False       False       False  \n",
       "1719869       False       False       False       False  \n",
       "1719870       False       False       False       False  \n",
       "\n",
       "[1719871 rows x 45 columns]"
      ]
     },
     "execution_count": 25,
     "metadata": {},
     "output_type": "execute_result"
    }
   ],
   "source": [
    "df"
   ]
  },
  {
   "cell_type": "markdown",
   "metadata": {},
   "source": [
    "# Trunk"
   ]
  },
  {
   "cell_type": "code",
   "execution_count": 39,
   "metadata": {},
   "outputs": [
    {
     "data": {
      "text/plain": [
       "array(['case', 'report', 'death', 'confirm', 'total', 'hour', 'recovery',\n",
       "       'record', 'breaking', 'death_toll', 'fresh', 'active_case',\n",
       "       'fatality', 'stand', 'additional', 'total_numb', 'tally',\n",
       "       'health_ministry', 'department_health', 'discharge', 'covidph',\n",
       "       'health_department', 'today', 'death_toll_rise', 'doh',\n",
       "       'past_hour', 'bring_total', 'reach', 'relate_death',\n",
       "       'ministry_health', 'patient_recover', 'bring_total_numb',\n",
       "       'union_health_ministry', 'additional_death', 'take_total_numb',\n",
       "       'include', 'total_active', 'sample_test', 'tally_rise', 'dfa',\n",
       "       'patient_discharge', 'manage_isolation'], dtype=object)"
      ]
     },
     "execution_count": 39,
     "metadata": {},
     "output_type": "execute_result"
    }
   ],
   "source": [
    "vis.sorted_terms(1, 0.64).Term.values"
   ]
  },
  {
   "cell_type": "code",
   "execution_count": 122,
   "metadata": {},
   "outputs": [
    {
     "data": {
      "text/plain": [
       "[(6, 0.08518786635782674), (15, 0.02161607494103565)]"
      ]
     },
     "execution_count": 122,
     "metadata": {},
     "output_type": "execute_result"
    }
   ],
   "source": [
    "model.get_term_topics(1)"
   ]
  },
  {
   "cell_type": "code",
   "execution_count": 183,
   "metadata": {},
   "outputs": [
    {
     "ename": "TypeError",
     "evalue": "'method' object is not iterable",
     "output_type": "error",
     "traceback": [
      "\u001b[1;31m---------------------------------------------------------------------------\u001b[0m",
      "\u001b[1;31mTypeError\u001b[0m                                 Traceback (most recent call last)",
      "\u001b[1;32mC:\\Users\\FC766~1.BRA\\AppData\\Local\\Temp/ipykernel_7056/2251255825.py\u001b[0m in \u001b[0;36m<module>\u001b[1;34m\u001b[0m\n\u001b[1;32m----> 1\u001b[1;33m \u001b[0mlist\u001b[0m\u001b[1;33m(\u001b[0m\u001b[0mdictionary\u001b[0m\u001b[1;33m.\u001b[0m\u001b[0mvalues\u001b[0m\u001b[1;33m)\u001b[0m\u001b[1;33m\u001b[0m\u001b[1;33m\u001b[0m\u001b[0m\n\u001b[0m",
      "\u001b[1;31mTypeError\u001b[0m: 'method' object is not iterable"
     ]
    }
   ],
   "source": [
    "list(dictionary.values)"
   ]
  },
  {
   "cell_type": "code",
   "execution_count": 166,
   "metadata": {},
   "outputs": [],
   "source": [
    "with open(\"data_pp.pickle\", \"rb\") as fp:   # Unpickling\n",
    "    b = pickle.load(fp)"
   ]
  },
  {
   "cell_type": "code",
   "execution_count": 188,
   "metadata": {},
   "outputs": [],
   "source": [
    "themes_keywords2 = []\n",
    "for theme in themes:\n",
    "    theme_words_tmp = pd.DataFrame()\n",
    "    for topic in theme:\n",
    "        tmp = pd.DataFrame(model.get_topic_terms(topic,50), columns=['wordid','imp'])\n",
    "        theme_words_tmp = pd.concat([theme_words_tmp, tmp])\n",
    "    theme_words_tmp = theme_words_tmp.sort_values('imp', ascending=False)\n",
    "    theme_words_tmp['wordid'] = theme_words_tmp.wordid.apply(lambda x: d[x])\n",
    "    themes_keywords2 = themes_keywords2 + [list(theme_words_tmp.drop_duplicates('wordid').wordid.values[:50])]"
   ]
  },
  {
   "cell_type": "code",
   "execution_count": 195,
   "metadata": {
    "collapsed": true,
    "jupyter": {
     "outputs_hidden": true
    },
    "tags": []
   },
   "outputs": [
    {
     "data": {
      "text/plain": [
       "['test_positive',\n",
       " 'patient',\n",
       " 'hospital',\n",
       " 'die',\n",
       " 'people',\n",
       " 'doctor',\n",
       " 'staff',\n",
       " 'person',\n",
       " 'contract',\n",
       " 'treatment',\n",
       " 'recover',\n",
       " 'treat',\n",
       " 'year_old',\n",
       " 'battle',\n",
       " 'facility',\n",
       " 'care',\n",
       " 'symptom',\n",
       " 'medical',\n",
       " 'infect',\n",
       " 'nurse',\n",
       " 'test_negative',\n",
       " 'man',\n",
       " 'suspect',\n",
       " 'health_worker',\n",
       " 'victim',\n",
       " 'dr',\n",
       " 'admit',\n",
       " 'body',\n",
       " 'dead',\n",
       " 'contact',\n",
       " 'nurse_home',\n",
       " 'diagnose',\n",
       " 'fire',\n",
       " 'wife',\n",
       " 'condition',\n",
       " 'young',\n",
       " 'bed',\n",
       " 'attend',\n",
       " 'recently',\n",
       " 'ventilator',\n",
       " 'doctors',\n",
       " 'age',\n",
       " 'healthcare_worker',\n",
       " 'nhs',\n",
       " 'prison',\n",
       " 'self_isolate',\n",
       " 'sick',\n",
       " 'shift',\n",
       " 'self_quarantine',\n",
       " 'isolation']"
      ]
     },
     "execution_count": 195,
     "metadata": {},
     "output_type": "execute_result"
    }
   ],
   "source": [
    "themes_keywords2[3]"
   ]
  },
  {
   "cell_type": "code",
   "execution_count": 54,
   "metadata": {},
   "outputs": [],
   "source": [
    "df_iter = ldamallet.load_document_topics()\n",
    "df = []\n",
    "for k in df_iter:\n",
    "    df.append([i[1] for i in k])\n",
    "df = pd.DataFrame(df, columns=[fr'topic_{k}' for k in range(20)])"
   ]
  },
  {
   "cell_type": "code",
   "execution_count": 56,
   "metadata": {},
   "outputs": [
    {
     "data": {
      "text/html": [
       "<div>\n",
       "<style scoped>\n",
       "    .dataframe tbody tr th:only-of-type {\n",
       "        vertical-align: middle;\n",
       "    }\n",
       "\n",
       "    .dataframe tbody tr th {\n",
       "        vertical-align: top;\n",
       "    }\n",
       "\n",
       "    .dataframe thead th {\n",
       "        text-align: right;\n",
       "    }\n",
       "</style>\n",
       "<table border=\"1\" class=\"dataframe\">\n",
       "  <thead>\n",
       "    <tr style=\"text-align: right;\">\n",
       "      <th></th>\n",
       "      <th>topic_0</th>\n",
       "      <th>topic_1</th>\n",
       "      <th>topic_2</th>\n",
       "      <th>topic_3</th>\n",
       "      <th>topic_4</th>\n",
       "      <th>topic_5</th>\n",
       "      <th>topic_6</th>\n",
       "      <th>topic_7</th>\n",
       "      <th>topic_8</th>\n",
       "      <th>topic_9</th>\n",
       "      <th>topic_10</th>\n",
       "      <th>topic_11</th>\n",
       "      <th>topic_12</th>\n",
       "      <th>topic_13</th>\n",
       "      <th>topic_14</th>\n",
       "      <th>topic_15</th>\n",
       "      <th>topic_16</th>\n",
       "      <th>topic_17</th>\n",
       "      <th>topic_18</th>\n",
       "      <th>topic_19</th>\n",
       "      <th>topic</th>\n",
       "    </tr>\n",
       "  </thead>\n",
       "  <tbody>\n",
       "    <tr>\n",
       "      <th>0</th>\n",
       "      <td>0.041667</td>\n",
       "      <td>0.041667</td>\n",
       "      <td>0.058333</td>\n",
       "      <td>0.058333</td>\n",
       "      <td>0.058333</td>\n",
       "      <td>0.041667</td>\n",
       "      <td>0.041667</td>\n",
       "      <td>0.058333</td>\n",
       "      <td>0.058333</td>\n",
       "      <td>0.058333</td>\n",
       "      <td>0.041667</td>\n",
       "      <td>0.041667</td>\n",
       "      <td>0.058333</td>\n",
       "      <td>0.075000</td>\n",
       "      <td>0.041667</td>\n",
       "      <td>0.058333</td>\n",
       "      <td>0.041667</td>\n",
       "      <td>0.041667</td>\n",
       "      <td>0.041667</td>\n",
       "      <td>0.041667</td>\n",
       "      <td>topic_13</td>\n",
       "    </tr>\n",
       "    <tr>\n",
       "      <th>1</th>\n",
       "      <td>0.046296</td>\n",
       "      <td>0.046296</td>\n",
       "      <td>0.046296</td>\n",
       "      <td>0.046296</td>\n",
       "      <td>0.046296</td>\n",
       "      <td>0.046296</td>\n",
       "      <td>0.046296</td>\n",
       "      <td>0.046296</td>\n",
       "      <td>0.046296</td>\n",
       "      <td>0.046296</td>\n",
       "      <td>0.046296</td>\n",
       "      <td>0.064815</td>\n",
       "      <td>0.046296</td>\n",
       "      <td>0.046296</td>\n",
       "      <td>0.083333</td>\n",
       "      <td>0.046296</td>\n",
       "      <td>0.064815</td>\n",
       "      <td>0.046296</td>\n",
       "      <td>0.046296</td>\n",
       "      <td>0.046296</td>\n",
       "      <td>topic_14</td>\n",
       "    </tr>\n",
       "    <tr>\n",
       "      <th>2</th>\n",
       "      <td>0.044643</td>\n",
       "      <td>0.080357</td>\n",
       "      <td>0.044643</td>\n",
       "      <td>0.044643</td>\n",
       "      <td>0.044643</td>\n",
       "      <td>0.044643</td>\n",
       "      <td>0.044643</td>\n",
       "      <td>0.062500</td>\n",
       "      <td>0.044643</td>\n",
       "      <td>0.044643</td>\n",
       "      <td>0.044643</td>\n",
       "      <td>0.044643</td>\n",
       "      <td>0.080357</td>\n",
       "      <td>0.044643</td>\n",
       "      <td>0.044643</td>\n",
       "      <td>0.044643</td>\n",
       "      <td>0.062500</td>\n",
       "      <td>0.044643</td>\n",
       "      <td>0.044643</td>\n",
       "      <td>0.044643</td>\n",
       "      <td>topic_1</td>\n",
       "    </tr>\n",
       "    <tr>\n",
       "      <th>3</th>\n",
       "      <td>0.101562</td>\n",
       "      <td>0.070312</td>\n",
       "      <td>0.039062</td>\n",
       "      <td>0.039062</td>\n",
       "      <td>0.039062</td>\n",
       "      <td>0.039062</td>\n",
       "      <td>0.054688</td>\n",
       "      <td>0.039062</td>\n",
       "      <td>0.132812</td>\n",
       "      <td>0.039062</td>\n",
       "      <td>0.039062</td>\n",
       "      <td>0.039062</td>\n",
       "      <td>0.039062</td>\n",
       "      <td>0.039062</td>\n",
       "      <td>0.039062</td>\n",
       "      <td>0.039062</td>\n",
       "      <td>0.039062</td>\n",
       "      <td>0.054688</td>\n",
       "      <td>0.039062</td>\n",
       "      <td>0.039062</td>\n",
       "      <td>topic_8</td>\n",
       "    </tr>\n",
       "    <tr>\n",
       "      <th>4</th>\n",
       "      <td>0.046296</td>\n",
       "      <td>0.064815</td>\n",
       "      <td>0.046296</td>\n",
       "      <td>0.046296</td>\n",
       "      <td>0.046296</td>\n",
       "      <td>0.046296</td>\n",
       "      <td>0.046296</td>\n",
       "      <td>0.064815</td>\n",
       "      <td>0.046296</td>\n",
       "      <td>0.046296</td>\n",
       "      <td>0.046296</td>\n",
       "      <td>0.064815</td>\n",
       "      <td>0.046296</td>\n",
       "      <td>0.046296</td>\n",
       "      <td>0.046296</td>\n",
       "      <td>0.046296</td>\n",
       "      <td>0.046296</td>\n",
       "      <td>0.046296</td>\n",
       "      <td>0.064815</td>\n",
       "      <td>0.046296</td>\n",
       "      <td>topic_1</td>\n",
       "    </tr>\n",
       "    <tr>\n",
       "      <th>...</th>\n",
       "      <td>...</td>\n",
       "      <td>...</td>\n",
       "      <td>...</td>\n",
       "      <td>...</td>\n",
       "      <td>...</td>\n",
       "      <td>...</td>\n",
       "      <td>...</td>\n",
       "      <td>...</td>\n",
       "      <td>...</td>\n",
       "      <td>...</td>\n",
       "      <td>...</td>\n",
       "      <td>...</td>\n",
       "      <td>...</td>\n",
       "      <td>...</td>\n",
       "      <td>...</td>\n",
       "      <td>...</td>\n",
       "      <td>...</td>\n",
       "      <td>...</td>\n",
       "      <td>...</td>\n",
       "      <td>...</td>\n",
       "      <td>...</td>\n",
       "    </tr>\n",
       "    <tr>\n",
       "      <th>1814501</th>\n",
       "      <td>0.048077</td>\n",
       "      <td>0.048077</td>\n",
       "      <td>0.048077</td>\n",
       "      <td>0.048077</td>\n",
       "      <td>0.048077</td>\n",
       "      <td>0.048077</td>\n",
       "      <td>0.048077</td>\n",
       "      <td>0.048077</td>\n",
       "      <td>0.067308</td>\n",
       "      <td>0.048077</td>\n",
       "      <td>0.048077</td>\n",
       "      <td>0.048077</td>\n",
       "      <td>0.048077</td>\n",
       "      <td>0.067308</td>\n",
       "      <td>0.048077</td>\n",
       "      <td>0.048077</td>\n",
       "      <td>0.048077</td>\n",
       "      <td>0.048077</td>\n",
       "      <td>0.048077</td>\n",
       "      <td>0.048077</td>\n",
       "      <td>topic_8</td>\n",
       "    </tr>\n",
       "    <tr>\n",
       "      <th>1814502</th>\n",
       "      <td>0.046296</td>\n",
       "      <td>0.046296</td>\n",
       "      <td>0.046296</td>\n",
       "      <td>0.046296</td>\n",
       "      <td>0.046296</td>\n",
       "      <td>0.046296</td>\n",
       "      <td>0.046296</td>\n",
       "      <td>0.046296</td>\n",
       "      <td>0.046296</td>\n",
       "      <td>0.046296</td>\n",
       "      <td>0.046296</td>\n",
       "      <td>0.120370</td>\n",
       "      <td>0.046296</td>\n",
       "      <td>0.046296</td>\n",
       "      <td>0.046296</td>\n",
       "      <td>0.046296</td>\n",
       "      <td>0.046296</td>\n",
       "      <td>0.046296</td>\n",
       "      <td>0.046296</td>\n",
       "      <td>0.046296</td>\n",
       "      <td>topic_11</td>\n",
       "    </tr>\n",
       "    <tr>\n",
       "      <th>1814503</th>\n",
       "      <td>0.044643</td>\n",
       "      <td>0.044643</td>\n",
       "      <td>0.080357</td>\n",
       "      <td>0.044643</td>\n",
       "      <td>0.062500</td>\n",
       "      <td>0.044643</td>\n",
       "      <td>0.062500</td>\n",
       "      <td>0.062500</td>\n",
       "      <td>0.044643</td>\n",
       "      <td>0.062500</td>\n",
       "      <td>0.044643</td>\n",
       "      <td>0.044643</td>\n",
       "      <td>0.044643</td>\n",
       "      <td>0.044643</td>\n",
       "      <td>0.044643</td>\n",
       "      <td>0.044643</td>\n",
       "      <td>0.044643</td>\n",
       "      <td>0.044643</td>\n",
       "      <td>0.044643</td>\n",
       "      <td>0.044643</td>\n",
       "      <td>topic_2</td>\n",
       "    </tr>\n",
       "    <tr>\n",
       "      <th>1814504</th>\n",
       "      <td>0.046296</td>\n",
       "      <td>0.046296</td>\n",
       "      <td>0.046296</td>\n",
       "      <td>0.046296</td>\n",
       "      <td>0.083333</td>\n",
       "      <td>0.046296</td>\n",
       "      <td>0.046296</td>\n",
       "      <td>0.046296</td>\n",
       "      <td>0.046296</td>\n",
       "      <td>0.046296</td>\n",
       "      <td>0.046296</td>\n",
       "      <td>0.046296</td>\n",
       "      <td>0.046296</td>\n",
       "      <td>0.046296</td>\n",
       "      <td>0.064815</td>\n",
       "      <td>0.046296</td>\n",
       "      <td>0.046296</td>\n",
       "      <td>0.046296</td>\n",
       "      <td>0.046296</td>\n",
       "      <td>0.064815</td>\n",
       "      <td>topic_4</td>\n",
       "    </tr>\n",
       "    <tr>\n",
       "      <th>1814505</th>\n",
       "      <td>0.040323</td>\n",
       "      <td>0.040323</td>\n",
       "      <td>0.040323</td>\n",
       "      <td>0.137097</td>\n",
       "      <td>0.040323</td>\n",
       "      <td>0.056452</td>\n",
       "      <td>0.040323</td>\n",
       "      <td>0.040323</td>\n",
       "      <td>0.056452</td>\n",
       "      <td>0.072581</td>\n",
       "      <td>0.040323</td>\n",
       "      <td>0.040323</td>\n",
       "      <td>0.040323</td>\n",
       "      <td>0.040323</td>\n",
       "      <td>0.040323</td>\n",
       "      <td>0.040323</td>\n",
       "      <td>0.040323</td>\n",
       "      <td>0.040323</td>\n",
       "      <td>0.056452</td>\n",
       "      <td>0.056452</td>\n",
       "      <td>topic_3</td>\n",
       "    </tr>\n",
       "  </tbody>\n",
       "</table>\n",
       "<p>1814506 rows × 21 columns</p>\n",
       "</div>"
      ],
      "text/plain": [
       "          topic_0   topic_1   topic_2   topic_3   topic_4   topic_5   topic_6  \\\n",
       "0        0.041667  0.041667  0.058333  0.058333  0.058333  0.041667  0.041667   \n",
       "1        0.046296  0.046296  0.046296  0.046296  0.046296  0.046296  0.046296   \n",
       "2        0.044643  0.080357  0.044643  0.044643  0.044643  0.044643  0.044643   \n",
       "3        0.101562  0.070312  0.039062  0.039062  0.039062  0.039062  0.054688   \n",
       "4        0.046296  0.064815  0.046296  0.046296  0.046296  0.046296  0.046296   \n",
       "...           ...       ...       ...       ...       ...       ...       ...   \n",
       "1814501  0.048077  0.048077  0.048077  0.048077  0.048077  0.048077  0.048077   \n",
       "1814502  0.046296  0.046296  0.046296  0.046296  0.046296  0.046296  0.046296   \n",
       "1814503  0.044643  0.044643  0.080357  0.044643  0.062500  0.044643  0.062500   \n",
       "1814504  0.046296  0.046296  0.046296  0.046296  0.083333  0.046296  0.046296   \n",
       "1814505  0.040323  0.040323  0.040323  0.137097  0.040323  0.056452  0.040323   \n",
       "\n",
       "          topic_7   topic_8   topic_9  topic_10  topic_11  topic_12  topic_13  \\\n",
       "0        0.058333  0.058333  0.058333  0.041667  0.041667  0.058333  0.075000   \n",
       "1        0.046296  0.046296  0.046296  0.046296  0.064815  0.046296  0.046296   \n",
       "2        0.062500  0.044643  0.044643  0.044643  0.044643  0.080357  0.044643   \n",
       "3        0.039062  0.132812  0.039062  0.039062  0.039062  0.039062  0.039062   \n",
       "4        0.064815  0.046296  0.046296  0.046296  0.064815  0.046296  0.046296   \n",
       "...           ...       ...       ...       ...       ...       ...       ...   \n",
       "1814501  0.048077  0.067308  0.048077  0.048077  0.048077  0.048077  0.067308   \n",
       "1814502  0.046296  0.046296  0.046296  0.046296  0.120370  0.046296  0.046296   \n",
       "1814503  0.062500  0.044643  0.062500  0.044643  0.044643  0.044643  0.044643   \n",
       "1814504  0.046296  0.046296  0.046296  0.046296  0.046296  0.046296  0.046296   \n",
       "1814505  0.040323  0.056452  0.072581  0.040323  0.040323  0.040323  0.040323   \n",
       "\n",
       "         topic_14  topic_15  topic_16  topic_17  topic_18  topic_19     topic  \n",
       "0        0.041667  0.058333  0.041667  0.041667  0.041667  0.041667  topic_13  \n",
       "1        0.083333  0.046296  0.064815  0.046296  0.046296  0.046296  topic_14  \n",
       "2        0.044643  0.044643  0.062500  0.044643  0.044643  0.044643   topic_1  \n",
       "3        0.039062  0.039062  0.039062  0.054688  0.039062  0.039062   topic_8  \n",
       "4        0.046296  0.046296  0.046296  0.046296  0.064815  0.046296   topic_1  \n",
       "...           ...       ...       ...       ...       ...       ...       ...  \n",
       "1814501  0.048077  0.048077  0.048077  0.048077  0.048077  0.048077   topic_8  \n",
       "1814502  0.046296  0.046296  0.046296  0.046296  0.046296  0.046296  topic_11  \n",
       "1814503  0.044643  0.044643  0.044643  0.044643  0.044643  0.044643   topic_2  \n",
       "1814504  0.064815  0.046296  0.046296  0.046296  0.046296  0.064815   topic_4  \n",
       "1814505  0.040323  0.040323  0.040323  0.040323  0.056452  0.056452   topic_3  \n",
       "\n",
       "[1814506 rows x 21 columns]"
      ]
     },
     "execution_count": 56,
     "metadata": {},
     "output_type": "execute_result"
    }
   ],
   "source": [
    "df['topic'] = df.idxmax(axis=1)\n",
    "df"
   ]
  },
  {
   "cell_type": "code",
   "execution_count": 87,
   "metadata": {},
   "outputs": [],
   "source": [
    "df_iter = ldamallet.load_document_topics()\n",
    "df = []\n",
    "for k in df_iter:\n",
    "    df.append([i[1] for i in k])\n",
    "df = pd.DataFrame(df, columns=[fr'topic_{k}' for k in range(20)])\n",
    "df['topic'] = df.idxmax(axis=1)"
   ]
  },
  {
   "cell_type": "code",
   "execution_count": 62,
   "metadata": {},
   "outputs": [],
   "source": [
    "topic2theme = pd.DataFrame({\n",
    "    'topic':[fr'topic_{k}' for k in range(20)], \n",
    "    'theme':[7,3,2,1,2,1,2,5,7,6,6,6,5,7,5,8,1,4,4,6]\n",
    "})\n",
    "\n",
    "df = df.merge(topic2theme, how='left')"
   ]
  },
  {
   "cell_type": "code",
   "execution_count": 65,
   "metadata": {},
   "outputs": [],
   "source": [
    "for col in [fr'subtheme{subtheme[1]}' for subtheme in subthemes]:\n",
    "    df[col] = False"
   ]
  },
  {
   "cell_type": "code",
   "execution_count": 68,
   "metadata": {},
   "outputs": [],
   "source": [
    "for k in range(1,9):\n",
    "    subthemes_desc = [subtheme for subtheme in subthemes if subtheme[0]==k]\n",
    "    if len(subthemes_desc)>0:\n",
    "        indices = list(df[df.theme==k].index)\n",
    "        topic_docs = [b[0][i] for i in indices]\n",
    "        for subtheme_desc in subthemes_desc:\n",
    "            kw = subtheme_desc[2]\n",
    "            t = [ind for k, ind in enumerate(indices) if any(i in topic_docs[k] for i in kw)]\n",
    "            df.loc[t,fr'subtheme{subtheme_desc[1]}'] = True"
   ]
  },
  {
   "cell_type": "code",
   "execution_count": 70,
   "metadata": {},
   "outputs": [
    {
     "data": {
      "text/plain": [
       "array([1331811812828803073, 1237432142214258688, 1234744569268338689, ...,\n",
       "       1310723512223625216, 1266240991133970438, 1325600258848600065],\n",
       "      dtype=int64)"
      ]
     },
     "execution_count": 70,
     "metadata": {},
     "output_type": "execute_result"
    }
   ],
   "source": [
    "tweets.tweetId.values"
   ]
  },
  {
   "cell_type": "code",
   "execution_count": 71,
   "metadata": {},
   "outputs": [],
   "source": [
    "df['tweetId'] = tweets.tweetId.values"
   ]
  },
  {
   "cell_type": "code",
   "execution_count": 73,
   "metadata": {},
   "outputs": [
    {
     "data": {
      "text/plain": [
       "0.2681159420289854"
      ]
     },
     "execution_count": 73,
     "metadata": {},
     "output_type": "execute_result"
    }
   ],
   "source": [
    "df[[fr'topic_{k}' for k in range(20)]].max(axis=1).max()"
   ]
  },
  {
   "cell_type": "code",
   "execution_count": 186,
   "metadata": {},
   "outputs": [
    {
     "data": {
      "text/plain": [
       "1814506"
      ]
     },
     "execution_count": 186,
     "metadata": {},
     "output_type": "execute_result"
    }
   ],
   "source": [
    "df.shape[0]"
   ]
  },
  {
   "cell_type": "code",
   "execution_count": 165,
   "metadata": {},
   "outputs": [
    {
     "data": {
      "text/plain": [
       "array(['Some of Melbourne’s biggest hospitals are bracing themselves for a huge surge of COVID-19 cases in coming days. \\n\\nThis is how the second wave crisis has unfolded in hospitals. https://t.co/aeSah0MkPV',\n",
       "       'What we know about COVID vaccine effectiveness against the new variants https://t.co/Su7gSgMVQw',\n",
       "       'Second waves of the pandemic have occurred around the world, sparking fears that Australia could be next. But experts say it’s avoidable.\\n\\nhttps://t.co/xz27TIOakS',\n",
       "       \"Japan detects new mutant 'vaccine-busting' Covid variant from traveller coming from Philippines https://t.co/1X8tTlXpQ5\",\n",
       "       'A leading medical professor claims lifting restrictions on air travel could cause a second wave of Covid-19 cases.\\n\\nhttps://t.co/dHTERBP8zf',\n",
       "       'Wuhan to test all 11 million residents after the #COVID19 epicentre in China witnesses a second wave of coronavirus infection. @SinghBhairavi has more https://t.co/idQMokjJUL',\n",
       "       'Health officials are calling on British Columbians to treat each other with compassion while also encouraging those around them to follow public health orders and help get the second wave of COVID-19 under control.\\nhttps://t.co/iiANc7HcCR',\n",
       "       '#InPics | As Covid cases rise, here’s are some of the variants of novel coronavirus widely reported till now. #coronavirus #CoronavirusIndia\\n\\nhttps://t.co/UKE72wRqZF',\n",
       "       'Pak may witness third wave of Covid-19 amid dull vaccination drive: Experts https://t.co/KRi5gptl58',\n",
       "       'BREAKING: Due to the shortage of vaccines and the unknown nature of the variants, the province is still grappling with what additional measures would be effective in reducing deaths linked to COVID-19. https://t.co/u7nyY15a8Q',\n",
       "       'UPDATED: “The old COVID-19 virus is being bulldozed by the B.1.1.7 variant, with the other two primary variants present in Toronto as well,” de Villa said.\\nhttps://t.co/uhBzLPP5ZQ',\n",
       "       'With coronavirus cases surging and families hoping to gather safely for Thanksgiving, long lines to get tested have reappeared across the U.S. — a reminder that the nation’s strained testing system remains unable to keep pace with the virus. https://t.co/XYzxUAH9qo https://t.co/QvUxXaUotv',\n",
       "       'Canada has become the latest country to halt flights from the UK following the discovery of a new variant of Covid-19 https://t.co/m9B6PpYdXx',\n",
       "       \"UK could be hit by an 'exit wave' of coronavirus but not a surge in deaths, SAGE expert says\\nhttps://t.co/qL9IY2aULz https://t.co/nycZPV4FME\",\n",
       "       'Biden says he will take action next week to extend nationwide restrictions on foreclosures and evictions: \"If we don\\'t act now, there will be a wave of evictions and foreclosures in the coming months as the pandemic rages on\" https://t.co/YiYVNMBhOS https://t.co/N5vMKnLHCZ',\n",
       "       \"@piaranada 'I think we've seen the worst,' says Roque when asked if Palace confident that 2021 won't be a repetition of pandemic-besieged 2020, despite threat of new COVID-19 virus variant. | via @piaranada\\n\\nLIVE: https://t.co/w6xTuJlllY\",\n",
       "       \"Stage 2 a 'trial run' for Albertans fearing a second wave of COVID-19 https://t.co/iXOvpieY60 #yyc #COVID19AB\",\n",
       "       \"Colorado health officials have announced the US' first known case of the Covid-19 variant originally discovered in the UK https://t.co/OvFCsgwARZ\",\n",
       "       'Nevada district sees first case of UK Covid-19 variant https://t.co/FnWXgd3f72',\n",
       "       'Guardian front page, Wednesday 3 June 2020 - Starmer warns PM: get a grip or risk second wave of coronavirus https://t.co/V4gggp40qN',\n",
       "       'Concern about the coronavirus variant is growing as several cases have now been detected in Canada. @Mirandanthistle speaks with Infectious Diseases physician @BogochIsaac for a breakdown of the state of the pandemic. https://t.co/HteFaWiCVh',\n",
       "       'Brazilian coronavirus variant likely to be in Britain already, top scientist warns https://t.co/KuEu3R3OXe',\n",
       "       'The Covid-19 health crisis determined every step for the retail industry throughout 2020, courtesy of the havoc it wreaked on retail operations. Stores were forced to close, employees were laid off, rent was defaulted, supply chains were strained... \\n\\nhttps://t.co/FSQUUeCKsI',\n",
       "       'UK COVID-19 variant has significantly higher death rate, study finds https://t.co/yZz2SOmNuW https://t.co/Uj32pMlbmS',\n",
       "       'UK economy crumbles under COVID-19 strain https://t.co/xl8s1OWliK'],\n",
       "      dtype=object)"
      ]
     },
     "execution_count": 165,
     "metadata": {},
     "output_type": "execute_result"
    }
   ],
   "source": [
    "tweets[tweets.tweetId.isin(df[df.subtheme73].tweetId.values)].sample(25).content.values"
   ]
  },
  {
   "cell_type": "code",
   "execution_count": null,
   "metadata": {
    "tags": []
   },
   "outputs": [],
   "source": [
    "# Train model\n",
    "ldamallet = gensim.models.wrappers.LdaMallet(mallet_path, corpus=corpus, num_topics=20, id2word=id2word, random_seed=50)\n",
    "model = gensim.models.wrappers.ldamallet.malletmodel2ldamodel(ldamallet)\n",
    "temp_file = datapath(\"model\")\n",
    "ldamallet.save(temp_file)\n",
    "\n",
    "# Visualize the topics\n",
    "pyLDAvis.enable_notebook()\n",
    "vis = pyLDAvis.gensim_models.prepare(model, corpus, dictionary)\n",
    "vis"
   ]
  },
  {
   "cell_type": "code",
   "execution_count": null,
   "metadata": {},
   "outputs": [],
   "source": [
    "# Compute Coherence Score\n",
    "coherence_model_ldamallet = CoherenceModel(model=ldamallet, texts=docs, dictionary=dictionary, coherence='c_v')\n",
    "coherence_ldamallet = coherence_model_ldamallet.get_coherence()\n",
    "print('\\nCoherence Score: ', coherence_ldamallet)"
   ]
  },
  {
   "cell_type": "code",
   "execution_count": null,
   "metadata": {
    "tags": []
   },
   "outputs": [],
   "source": [
    "# Train model\n",
    "ldamallet = gensim.models.wrappers.LdaMallet(mallet_path, corpus=corpus, num_topics=20, id2word=id2word)\n",
    "model = gensim.models.wrappers.ldamallet.malletmodel2ldamodel(ldamallet)\n",
    "\n",
    "# Visualize the topics\n",
    "pyLDAvis.enable_notebook()\n",
    "vis = pyLDAvis.gensim_models.prepare(model, corpus, dictionary)\n",
    "vis"
   ]
  },
  {
   "cell_type": "code",
   "execution_count": null,
   "metadata": {
    "tags": []
   },
   "outputs": [],
   "source": [
    "pprint(model.print_topics())\n",
    "doc_lda = model[corpus]"
   ]
  },
  {
   "cell_type": "code",
   "execution_count": null,
   "metadata": {
    "tags": []
   },
   "outputs": [],
   "source": [
    "# Compute Coherence Score\n",
    "coherence_model_ldamallet = CoherenceModel(model=ldamallet, texts=docs, dictionary=dictionary, coherence='c_v')\n",
    "coherence_ldamallet = coherence_model_ldamallet.get_coherence()\n",
    "print('\\nCoherence Score: ', coherence_ldamallet)"
   ]
  },
  {
   "cell_type": "code",
   "execution_count": null,
   "metadata": {},
   "outputs": [],
   "source": [
    "1"
   ]
  },
  {
   "cell_type": "code",
   "execution_count": null,
   "metadata": {},
   "outputs": [],
   "source": [
    "ldamallet[corpus[10]]"
   ]
  },
  {
   "cell_type": "code",
   "execution_count": null,
   "metadata": {
    "tags": []
   },
   "outputs": [],
   "source": [
    "# Compute tweets topics\n",
    "def format_topics_sentences(ldamodel, corpus, texts):\n",
    "    # Init output\n",
    "    sent_topics_df = pd.DataFrame()\n",
    "\n",
    "    # Get main topic in each document\n",
    "    for i, row in enumerate(ldamodel[corpus]):\n",
    "        row = sorted(row, key=lambda x: (x[1]), reverse=True)\n",
    "        # Get the Dominant topic, Perc Contribution and Keywords for each document\n",
    "        for j, (topic_num, prop_topic) in enumerate(row):\n",
    "            if j == 0:  # => dominant topic\n",
    "                wp = ldamodel.show_topic(topic_num)\n",
    "                topic_keywords = \", \".join([word for word, prop in wp])\n",
    "                sent_topics_df = sent_topics_df.append(pd.Series([int(topic_num), round(prop_topic,4), topic_keywords]), ignore_index=True)\n",
    "            else:\n",
    "                break\n",
    "    sent_topics_df.columns = ['Dominant_Topic', 'Perc_Contribution', 'Topic_Keywords']\n",
    "\n",
    "    # Add original text to the end of the output\n",
    "    contents = pd.Series(texts)\n",
    "    sent_topics_df = pd.concat([sent_topics_df, contents], axis=1)\n",
    "    return(sent_topics_df)\n",
    "\n",
    "\n",
    "df_topic_sents_keywords = format_topics_sentences(ldamodel=ldamallet, corpus=corpus, texts=list(tweets.content))\n",
    "\n",
    "# Format\n",
    "df = df_topic_sents_keywords.reset_index()\n",
    "df.columns = ['Document_No', 'Dominant_Topic', 'Topic_Perc_Contrib', 'Keywords', 'Text']\n",
    "df.to_csv('tweets_topics2.csv')\n",
    "\n",
    "# Show\n",
    "df.head(5)"
   ]
  },
  {
   "cell_type": "code",
   "execution_count": null,
   "metadata": {},
   "outputs": [],
   "source": [
    "df = pd.read_csv('tweets_topics2.csv')"
   ]
  },
  {
   "cell_type": "code",
   "execution_count": null,
   "metadata": {},
   "outputs": [],
   "source": [
    "df[df.Topic_Perc_Contrib==0.05]"
   ]
  },
  {
   "cell_type": "code",
   "execution_count": null,
   "metadata": {
    "tags": []
   },
   "outputs": [],
   "source": [
    "indices = list(df_dominant_topic[df_dominant_topic.Dominant_Topic==2.0].Document_No)\n",
    "topic_docs = [docs[i] for i in indices]\n",
    "\n",
    "kw = ['low', 'fall', 'drop', 'decline']\n",
    "t = [ind for k, ind in enumerate(indices) if any(i in topic_docs[k] for i in kw)]\n",
    "len(t)"
   ]
  },
  {
   "cell_type": "code",
   "execution_count": null,
   "metadata": {},
   "outputs": [],
   "source": [
    "(df.Dominant_Topic.value_counts() / df.shape[0]).sort_index()"
   ]
  },
  {
   "cell_type": "code",
   "execution_count": null,
   "metadata": {},
   "outputs": [],
   "source": [
    "# Group top 5 sentences under each topic\n",
    "sent_topics_sorteddf_mallet = pd.DataFrame()\n",
    "\n",
    "sent_topics_outdf_grpd = df_topic_sents_keywords.groupby('Dominant_Topic')\n",
    "\n",
    "for i, grp in sent_topics_outdf_grpd:\n",
    "    sent_topics_sorteddf_mallet = pd.concat([sent_topics_sorteddf_mallet, \n",
    "                                             grp.sort_values(['Perc_Contribution'], ascending=[0]).head(10)], \n",
    "                                            axis=0)\n",
    "\n",
    "# Reset Index    \n",
    "sent_topics_sorteddf_mallet.reset_index(drop=True, inplace=True)\n",
    "\n",
    "# Format\n",
    "sent_topics_sorteddf_mallet.columns = ['Topic_Num', \"Topic_Perc_Contrib\", \"Keywords\", \"Text\"]\n",
    "sent_topics_sorteddf_mallet.to_csv('relevant_topics2.csv', sep=\"|\")"
   ]
  },
  {
   "cell_type": "code",
   "execution_count": null,
   "metadata": {},
   "outputs": [],
   "source": [
    "sent_topics_sorteddf_mallet[sent_topics_sorteddf_mallet.Topic_Num==19.0].Text.values"
   ]
  },
  {
   "cell_type": "code",
   "execution_count": null,
   "metadata": {},
   "outputs": [],
   "source": [
    "topic_desc = pd.read_csv('topic_desc.csv', sep=';')"
   ]
  },
  {
   "cell_type": "code",
   "execution_count": null,
   "metadata": {
    "tags": []
   },
   "outputs": [],
   "source": [
    "# required: tweets, df, docs\n",
    "tweets['theme'] = np.nan\n",
    "for topic in topic_desc.topic.unique():\n",
    "    topic_themes = topic_desc[topic_desc.topic==topic]\n",
    "    non_default = []\n",
    "    for index, row in topic_themes[topic_themes.default=='F'].iterrows():\n",
    "        kw = row.keywords.replace(' ', '').split(',')\n",
    "        t = [k for k in df[df.Dominant_Topic==topic].Document_No.values if any(i in kw for i in docs[k])]\n",
    "        tweets.loc[t, 'theme'] = row.theme_id\n",
    "        non_default = non_default + t\n",
    "    topic_tweets = [k for k in df[df.Dominant_Topic==topic].Document_No.values]\n",
    "    topic_tweets = np.setdiff1d(topic_tweets,non_default)\n",
    "    tweets.loc[topic_tweets, 'theme'] = topic_themes[topic_themes.default=='T'].theme_id.unique()[0]"
   ]
  },
  {
   "cell_type": "code",
   "execution_count": null,
   "metadata": {},
   "outputs": [],
   "source": [
    "topic_themes.themes.unique()[0]"
   ]
  },
  {
   "cell_type": "code",
   "execution_count": null,
   "metadata": {},
   "outputs": [],
   "source": [
    "topic = 11\n",
    "topic_themes = topic_desc[topic_desc.topic==topic]\n",
    "non_default = []"
   ]
  },
  {
   "cell_type": "code",
   "execution_count": null,
   "metadata": {},
   "outputs": [],
   "source": [
    "topic_themes"
   ]
  },
  {
   "cell_type": "code",
   "execution_count": null,
   "metadata": {},
   "outputs": [],
   "source": [
    "topic_desc"
   ]
  },
  {
   "cell_type": "code",
   "execution_count": null,
   "metadata": {},
   "outputs": [],
   "source": [
    "topic = 10\n",
    "topic_desc[topic_desc.topic==topic]"
   ]
  },
  {
   "cell_type": "code",
   "execution_count": null,
   "metadata": {},
   "outputs": [],
   "source": [
    "topic = 1\n",
    "topic_themes = topic_desc[topic_desc.topic==topic]\n",
    "non_default = []\n",
    "for index, row in topic_themes[topic_themes.default=='F'].iterrows():\n",
    "    kw = row.keywords.replace(' ', '').split(',')\n",
    "    t = [k for k in df[df.Dominant_Topic==topic].Document_No.values if any(i in kw for i in docs[k])]\n",
    "    print(row.themes, len(t))"
   ]
  },
  {
   "cell_type": "code",
   "execution_count": null,
   "metadata": {},
   "outputs": [],
   "source": []
  },
  {
   "cell_type": "code",
   "execution_count": null,
   "metadata": {},
   "outputs": [],
   "source": [
    "topic = 1\n",
    "for topic in topic_desc.topic.unique():\n",
    "    topic_themes = topic_desc[topic_desc.topic==topic]\n",
    "    non_default = []\n",
    "    for index, row in topic_themes[topic_themes.default=='F'].iterrows():\n",
    "        kw = row.keywords.replace(' ', '').split(',')\n",
    "        t = [k for k in df[df.Dominant_Topic==topic].Document_No.values if any(i in kw for i in docs[k])]\n",
    "        print(row.themes, len(t))"
   ]
  },
  {
   "cell_type": "code",
   "execution_count": null,
   "metadata": {},
   "outputs": [],
   "source": [
    "tweets[tweets.theme=='Elections'].content[:10].values"
   ]
  },
  {
   "cell_type": "code",
   "execution_count": null,
   "metadata": {},
   "outputs": [],
   "source": [
    "tweets[['tweetId', 'theme']].to_parquet('news_tweets_topics.parquet', compression='gzip', index=False)"
   ]
  },
  {
   "cell_type": "code",
   "execution_count": null,
   "metadata": {},
   "outputs": [],
   "source": [
    "tweets.theme.value_counts() / tweets.shape[0]"
   ]
  },
  {
   "cell_type": "code",
   "execution_count": null,
   "metadata": {},
   "outputs": [],
   "source": [
    "topic_desc.topic.unique()"
   ]
  },
  {
   "cell_type": "code",
   "execution_count": null,
   "metadata": {},
   "outputs": [],
   "source": [
    "tweets.theme.isnull().sum()"
   ]
  },
  {
   "cell_type": "code",
   "execution_count": null,
   "metadata": {},
   "outputs": [],
   "source": [
    "topic_desc.keywords[20]"
   ]
  },
  {
   "cell_type": "code",
   "execution_count": null,
   "metadata": {},
   "outputs": [],
   "source": [
    "docs[92]"
   ]
  },
  {
   "cell_type": "code",
   "execution_count": null,
   "metadata": {},
   "outputs": [],
   "source": [
    "tweets[tweets.theme=='People violating mobility restrictions or protesting against them'].sample(frac=1).head(10).content.values"
   ]
  },
  {
   "cell_type": "code",
   "execution_count": null,
   "metadata": {},
   "outputs": [],
   "source": [
    "(tweets.theme.nunique())"
   ]
  },
  {
   "cell_type": "code",
   "execution_count": null,
   "metadata": {},
   "outputs": [],
   "source": [
    "df[df.Dominant_Topic==3.0]"
   ]
  }
 ],
 "metadata": {
  "kernelspec": {
   "display_name": "Python 3 (ipykernel)",
   "language": "python",
   "name": "python3"
  },
  "language_info": {
   "codemirror_mode": {
    "name": "ipython",
    "version": 3
   },
   "file_extension": ".py",
   "mimetype": "text/x-python",
   "name": "python",
   "nbconvert_exporter": "python",
   "pygments_lexer": "ipython3",
   "version": "3.8.8"
  }
 },
 "nbformat": 4,
 "nbformat_minor": 4
}
