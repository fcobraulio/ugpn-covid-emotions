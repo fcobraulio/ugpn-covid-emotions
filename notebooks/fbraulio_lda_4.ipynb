{
 "cells": [
  {
   "cell_type": "code",
   "execution_count": 2,
   "metadata": {
    "tags": []
   },
   "outputs": [
    {
     "name": "stderr",
     "output_type": "stream",
     "text": [
      "C:\\Users\\f.braulio\\Anaconda3\\envs\\ugpn-covid-emotions\\lib\\site-packages\\sklearn\\linear_model\\_least_angle.py:34: DeprecationWarning: `np.float` is a deprecated alias for the builtin `float`. To silence this warning, use `float` by itself. Doing this will not modify any behavior and is safe. If you specifically wanted the numpy scalar type, use `np.float64` here.\n",
      "Deprecated in NumPy 1.20; for more details and guidance: https://numpy.org/devdocs/release/1.20.0-notes.html#deprecations\n",
      "  method='lar', copy_X=True, eps=np.finfo(np.float).eps,\n",
      "C:\\Users\\f.braulio\\Anaconda3\\envs\\ugpn-covid-emotions\\lib\\site-packages\\sklearn\\linear_model\\_least_angle.py:164: DeprecationWarning: `np.float` is a deprecated alias for the builtin `float`. To silence this warning, use `float` by itself. Doing this will not modify any behavior and is safe. If you specifically wanted the numpy scalar type, use `np.float64` here.\n",
      "Deprecated in NumPy 1.20; for more details and guidance: https://numpy.org/devdocs/release/1.20.0-notes.html#deprecations\n",
      "  method='lar', copy_X=True, eps=np.finfo(np.float).eps,\n",
      "C:\\Users\\f.braulio\\Anaconda3\\envs\\ugpn-covid-emotions\\lib\\site-packages\\sklearn\\linear_model\\_least_angle.py:281: DeprecationWarning: `np.float` is a deprecated alias for the builtin `float`. To silence this warning, use `float` by itself. Doing this will not modify any behavior and is safe. If you specifically wanted the numpy scalar type, use `np.float64` here.\n",
      "Deprecated in NumPy 1.20; for more details and guidance: https://numpy.org/devdocs/release/1.20.0-notes.html#deprecations\n",
      "  eps=np.finfo(np.float).eps, copy_Gram=True, verbose=0,\n",
      "C:\\Users\\f.braulio\\Anaconda3\\envs\\ugpn-covid-emotions\\lib\\site-packages\\sklearn\\linear_model\\_least_angle.py:865: DeprecationWarning: `np.float` is a deprecated alias for the builtin `float`. To silence this warning, use `float` by itself. Doing this will not modify any behavior and is safe. If you specifically wanted the numpy scalar type, use `np.float64` here.\n",
      "Deprecated in NumPy 1.20; for more details and guidance: https://numpy.org/devdocs/release/1.20.0-notes.html#deprecations\n",
      "  eps=np.finfo(np.float).eps, copy_X=True, fit_path=True,\n",
      "C:\\Users\\f.braulio\\Anaconda3\\envs\\ugpn-covid-emotions\\lib\\site-packages\\sklearn\\linear_model\\_least_angle.py:1121: DeprecationWarning: `np.float` is a deprecated alias for the builtin `float`. To silence this warning, use `float` by itself. Doing this will not modify any behavior and is safe. If you specifically wanted the numpy scalar type, use `np.float64` here.\n",
      "Deprecated in NumPy 1.20; for more details and guidance: https://numpy.org/devdocs/release/1.20.0-notes.html#deprecations\n",
      "  eps=np.finfo(np.float).eps, copy_X=True, fit_path=True,\n",
      "C:\\Users\\f.braulio\\Anaconda3\\envs\\ugpn-covid-emotions\\lib\\site-packages\\sklearn\\linear_model\\_least_angle.py:1149: DeprecationWarning: `np.float` is a deprecated alias for the builtin `float`. To silence this warning, use `float` by itself. Doing this will not modify any behavior and is safe. If you specifically wanted the numpy scalar type, use `np.float64` here.\n",
      "Deprecated in NumPy 1.20; for more details and guidance: https://numpy.org/devdocs/release/1.20.0-notes.html#deprecations\n",
      "  eps=np.finfo(np.float).eps, positive=False):\n",
      "C:\\Users\\f.braulio\\Anaconda3\\envs\\ugpn-covid-emotions\\lib\\site-packages\\sklearn\\linear_model\\_least_angle.py:1379: DeprecationWarning: `np.float` is a deprecated alias for the builtin `float`. To silence this warning, use `float` by itself. Doing this will not modify any behavior and is safe. If you specifically wanted the numpy scalar type, use `np.float64` here.\n",
      "Deprecated in NumPy 1.20; for more details and guidance: https://numpy.org/devdocs/release/1.20.0-notes.html#deprecations\n",
      "  max_n_alphas=1000, n_jobs=None, eps=np.finfo(np.float).eps,\n",
      "C:\\Users\\f.braulio\\Anaconda3\\envs\\ugpn-covid-emotions\\lib\\site-packages\\sklearn\\linear_model\\_least_angle.py:1621: DeprecationWarning: `np.float` is a deprecated alias for the builtin `float`. To silence this warning, use `float` by itself. Doing this will not modify any behavior and is safe. If you specifically wanted the numpy scalar type, use `np.float64` here.\n",
      "Deprecated in NumPy 1.20; for more details and guidance: https://numpy.org/devdocs/release/1.20.0-notes.html#deprecations\n",
      "  max_n_alphas=1000, n_jobs=None, eps=np.finfo(np.float).eps,\n",
      "C:\\Users\\f.braulio\\Anaconda3\\envs\\ugpn-covid-emotions\\lib\\site-packages\\sklearn\\linear_model\\_least_angle.py:1755: DeprecationWarning: `np.float` is a deprecated alias for the builtin `float`. To silence this warning, use `float` by itself. Doing this will not modify any behavior and is safe. If you specifically wanted the numpy scalar type, use `np.float64` here.\n",
      "Deprecated in NumPy 1.20; for more details and guidance: https://numpy.org/devdocs/release/1.20.0-notes.html#deprecations\n",
      "  eps=np.finfo(np.float).eps, copy_X=True, positive=False):\n",
      "C:\\Users\\f.braulio\\Anaconda3\\envs\\ugpn-covid-emotions\\lib\\site-packages\\sklearn\\decomposition\\_lda.py:28: DeprecationWarning: `np.float` is a deprecated alias for the builtin `float`. To silence this warning, use `float` by itself. Doing this will not modify any behavior and is safe. If you specifically wanted the numpy scalar type, use `np.float64` here.\n",
      "Deprecated in NumPy 1.20; for more details and guidance: https://numpy.org/devdocs/release/1.20.0-notes.html#deprecations\n",
      "  EPS = np.finfo(np.float).eps\n"
     ]
    }
   ],
   "source": [
    "import warnings\n",
    "warnings.filterwarnings(\"ignore\")\n",
    "\n",
    "import io\n",
    "import os\n",
    "import os.path\n",
    "import re\n",
    "import spacy\n",
    "import time\n",
    "import pickle\n",
    "\n",
    "import numpy as np\n",
    "import pandas as pd\n",
    "from pprint import pprint\n",
    "\n",
    "import gensim\n",
    "from gensim.models import Phrases, LdaModel, CoherenceModel\n",
    "from gensim.corpora import Dictionary\n",
    "from gensim.utils import simple_preprocess\n",
    "from gensim.test.utils import datapath\n",
    "\n",
    "import pyLDAvis\n",
    "import pyLDAvis.gensim_models  # don't skip this\n",
    "import matplotlib.pyplot as plt\n",
    "%matplotlib inline\n",
    "\n",
    "import warnings\n",
    "warnings.filterwarnings(\"ignore\")\n",
    "os.environ.update({'MALLET_HOME':r'C:/mallet/mallet-2.0.8/'})\n",
    "mallet_path = 'C:\\\\mallet\\\\mallet-2.0.8\\\\bin\\\\mallet'\n",
    "pd.options.display.max_columns = 100"
   ]
  },
  {
   "cell_type": "code",
   "execution_count": 3,
   "metadata": {},
   "outputs": [],
   "source": [
    "def make_bigrams(texts):\n",
    "    return [bigram_mod[doc] for doc in texts]\n",
    "\n",
    "def make_trigrams(texts):\n",
    "    return [trigram_mod[bigram_mod[doc]] for doc in texts]\n",
    "\n",
    "def compute_coherence_values(id2word, corpus, texts, limit, start=2, step=3):\n",
    "    \"\"\"\n",
    "    Compute c_v coherence for various number of topics\n",
    "\n",
    "    Parameters:\n",
    "    ----------\n",
    "    dictionary : Gensim dictionary\n",
    "    corpus : Gensim corpus\n",
    "    texts : List of input texts\n",
    "    limit : Max num of topics\n",
    "\n",
    "    Returns:\n",
    "    -------\n",
    "    model_list : List of LDA topic models\n",
    "    coherence_values : Coherence values corresponding to the LDA model with respective number of topics\n",
    "    \"\"\"\n",
    "    coherence_values = []\n",
    "    model_list = []\n",
    "    chunksize = 2000\n",
    "    passes = 20\n",
    "    iterations = 400\n",
    "    eval_every = None  # Don't evaluate model perplexity, takes too much time.\n",
    "    for num_topics in range(start, limit, step):\n",
    "        ldamallet = gensim.models.wrappers.LdaMallet(mallet_path, corpus=corpus, num_topics=20, id2word=id2word, random_seed=50)\n",
    "        model_list.append(ldamallet)\n",
    "        coherence_model_ldamallet = CoherenceModel(model=ldamallet, texts=texts, dictionary=dictionary, coherence='c_v')\n",
    "        coherence_values.append(coherence_model_ldamallet.get_coherence())\n",
    "\n",
    "    return model_list, coherence_values\n",
    "\n",
    "def loop_compute_coherence_values(id2word, corpus, texts, limit, mallet_path, start=2, step=3):\n",
    "    coherence_values = []\n",
    "    model_list = []\n",
    "    for num_topics in range(start, limit, step):\n",
    "        ldamallet = gensim.models.wrappers.LdaMallet(mallet_path, corpus=corpus, num_topics=num_topics, id2word=id2word, random_seed=50)\n",
    "        model_list.append(ldamallet)\n",
    "        coherence_model_ldamallet = CoherenceModel(model=ldamallet, texts=texts, dictionary=dictionary, coherence='c_v')\n",
    "        coherence_values.append(coherence_model_ldamallet.get_coherence())\n",
    "        print(num_topics)\n",
    "    return model_list, coherence_values"
   ]
  },
  {
   "cell_type": "markdown",
   "metadata": {},
   "source": [
    "# Load and process News Tweets"
   ]
  },
  {
   "cell_type": "code",
   "execution_count": 4,
   "metadata": {},
   "outputs": [
    {
     "name": "stdout",
     "output_type": "stream",
     "text": [
      "Number of valid news tweets: 1678217\n",
      "Just collected 1678217 tweets.\n"
     ]
    }
   ],
   "source": [
    "# Load lookup tables\n",
    "media_list = pd.read_csv('./../data/external/MediaList.csv', sep=\";\")\n",
    "news_accounts = pd.read_parquet('./../data/raw/news_accounts.parquet')\n",
    "emotions = ['anger', 'sadness', 'optimism', 'joy']\n",
    "\n",
    "# Process lookup tables\n",
    "news_accounts = news_accounts.merge(media_list)\n",
    "news_accounts['userId'] = news_accounts.userId.astype('float64')\n",
    "\n",
    "# Load news tweets\n",
    "news_tweets = pd.read_parquet('./../data/raw/news_tweets_with_em_scores.parquet')\n",
    "\n",
    "# Include country information and filter valid news accountsw\n",
    "news_tweets = news_tweets.merge(news_accounts[['userId','country']])\n",
    "news_tweets = news_tweets[~news_tweets[emotions].isnull().any(axis=1)]\n",
    "news_tweets = news_tweets.sort_values('date').drop_duplicates('conversationId', keep='first')\n",
    "news_tweets = news_tweets[news_tweets.lang=='en']\n",
    "print('Number of valid news tweets:', news_tweets.shape[0])\n",
    "\n",
    "# Generate content file\n",
    "news_tweets = news_tweets.reset_index(drop=True)\n",
    "data = list(news_tweets.content)\n",
    "print(\"Just collected\", len(data), \"tweets.\")\n",
    "del media_list, news_accounts"
   ]
  },
  {
   "cell_type": "code",
   "execution_count": 4,
   "metadata": {
    "tags": []
   },
   "outputs": [
    {
     "name": "stdout",
     "output_type": "stream",
     "text": [
      "Finish 1 2261.469478368759\n",
      "Finish 2 503.2598092556\n",
      "Finish 3 30.863464832305908\n",
      "Finish 4 0.32923460006713867\n",
      "Finish 5 15.523886442184448\n",
      "Number of unique tokens: 1963\n",
      "Number of documents: 1678217\n"
     ]
    }
   ],
   "source": [
    "# Clean data\n",
    "start = time.time()\n",
    "nlp = spacy.load(\"en_core_web_sm\")\n",
    "docs = []\n",
    "for doc in nlp.pipe(data, disable=[\"tok2vec\", \"tagger\", \"parser\", \"attribute_ruler\"]):\n",
    "    docs.append([\n",
    "        re.sub(r'[^\\w\\s]|[0-9]|[_]', '', token.lemma_.lower()) for token in doc\n",
    "        if not token.like_url\n",
    "        and not token.is_punct\n",
    "        and not token.is_stop\n",
    "        and not token.is_space\n",
    "        and not token.like_num\n",
    "        and not token.ent_type_ == 'GPE'\n",
    "        and not token.text.startswith('@')\n",
    "        and len(token.text)>1\n",
    "    ])\n",
    "print(\"Finish 1\", time.time() - start)\n",
    "\n",
    "# Form Bigrams and Trigrams\n",
    "start = time.time()\n",
    "bigram = gensim.models.Phrases(docs, min_count=5, ) # higher threshold fewer phrases.\n",
    "trigram = gensim.models.Phrases(bigram[docs])\n",
    "bigram_mod = gensim.models.phrases.Phraser(bigram)\n",
    "trigram_mod = gensim.models.phrases.Phraser(trigram)\n",
    "docs = make_bigrams(docs)\n",
    "docs = make_trigrams(docs)\n",
    "print(\"Finish 2\", time.time() - start)\n",
    "\n",
    "# Create a dictionary representation of the documents.\n",
    "start = time.time()\n",
    "dictionary = Dictionary(docs)\n",
    "print(\"Finish 3\", time.time() - start)\n",
    "\n",
    "# Filter out words that occur less than 20 documents, or more than 50% of the documents.\n",
    "start = time.time()\n",
    "dictionary.filter_extremes(no_below=len(docs)*0.0005, no_above=0.33)\n",
    "temp = dictionary[0]  # This is only to \"load\" the dictionary.\n",
    "id2word = dictionary.id2token\n",
    "print(\"Finish 4\", time.time() - start)\n",
    "\n",
    "# Bag-of-words representation of the documents.\n",
    "start = time.time()\n",
    "corpus = [dictionary.doc2bow(doc) for doc in docs]\n",
    "print(\"Finish 5\", time.time() - start)\n",
    "\n",
    "print('Number of unique tokens: %d' % len(dictionary))\n",
    "print('Number of documents: %d' % len(corpus))"
   ]
  },
  {
   "cell_type": "code",
   "execution_count": 12,
   "metadata": {
    "tags": []
   },
   "outputs": [
    {
     "name": "stdout",
     "output_type": "stream",
     "text": [
      "2\n",
      "5\n",
      "8\n",
      "11\n",
      "14\n",
      "17\n",
      "20\n",
      "23\n",
      "26\n",
      "29\n",
      "32\n",
      "35\n",
      "38\n"
     ]
    },
    {
     "data": {
      "image/png": "[encoded data removed]",
      "text/plain": [
       "<Figure size 432x288 with 1 Axes>"
      ]
     },
     "metadata": {
      "needs_background": "light"
     },
     "output_type": "display_data"
    }
   ],
   "source": [
    "# Can take a long time to run.\n",
    "limit=40; start=2; step=3;\n",
    "model_list, coherence_values = loop_compute_coherence_values(id2word=id2word, corpus=corpus, texts=docs, mallet_path=mallet_path, start=start, limit=limit, step=step)\n",
    "\n",
    "# Show graph\n",
    "x = range(start, limit, step)\n",
    "plt.plot(x, coherence_values)\n",
    "plt.xlabel(\"Num Topics\")\n",
    "plt.ylabel(\"Coherence score\")\n",
    "plt.legend((\"coherence_values\"), loc='best')\n",
    "plt.show()"
   ]
  },
  {
   "cell_type": "code",
   "execution_count": 13,
   "metadata": {},
   "outputs": [
    {
     "data": {
      "text/plain": [
       "[0.1892453934546836,\n",
       " 0.36050858882911546,\n",
       " 0.4235994692881965,\n",
       " 0.45762735295692103,\n",
       " 0.4856239575281081,\n",
       " 0.5112665876542648,\n",
       " 0.4947429499680128,\n",
       " 0.5105737364293761,\n",
       " 0.5178710571664881,\n",
       " 0.5180311842401603,\n",
       " 0.5315036206338909,\n",
       " 0.5362784248177126,\n",
       " 0.5366768888311417]"
      ]
     },
     "execution_count": 13,
     "metadata": {},
     "output_type": "execute_result"
    }
   ],
   "source": [
    "coherence_values"
   ]
  },
  {
   "cell_type": "code",
   "execution_count": 39,
   "metadata": {},
   "outputs": [],
   "source": [
    "topics = [\n",
    "    ['case', 'state', 'rise', 'death', 'report', 'infection', 'confirm', 'maharashtra', 'numb', 'increase', 'total', 'coronavirusoutbreak', 'high', 'recovery', 'govt', 'surge', 'record', 'coronaviruspandemic', 'daily', 'breaking', 'positive', 'number', 'active_case', 'district', 'hour', 'spike', 'continue', 'death_toll', 'health_ministry', 'rate', 'fatality', 'live_update', 'low', 'additional', 'lakh', 'jump', 'total_numb', 'today', 'reach', 'discharge', 'fresh', 'mark', 'department_health', 'county', 'tally', 'include', 'bring_total', 'register', 'double', 'past_hour', 'newsalert', 'drop', 'climb', 'live_updates', 'soar', 'karnataka', 'recover', 'covidindia', 'record_high', 'relate_death', 'covidー', 'count', 'log', 'yesterday', 'fall', 'patient_recover', 'follow_live_update', 'worldwide', 'death_toll_rise', 'centre', 'hospitalization', 'doh', 'tamil_nadu', 'bring_total_numb', 'coronavirusupdates', 'peak', 'union_health_ministry', 'health_department', 'hit', 'additional_death', 'pune', 'trend', 'stand', 'telangana', 'country', 'punjab', 'toll', 'cases', 'infection_rate', 'bring', 'bihar', 'single_day', 'total_active', 'previous', 'high_daily', 'indiafightscorona', 'positivity_rate', 'filipino_abroad', 'rajasthan', 'top', 'victoria_record_new', 'coronavirusindia', 'exceed', 'ministry_health', 'mumbai', 'past_week', 'dfa', 'kerala', 'dip', 'cross', 'decrease', 'updates', 'reports', 'past_day', 'assam', 'consecutive_day', 'madhya_pradesh', 'milestone', 'recovery_rate', 'western_cape', 'pradesh', 'rapidly', 'follow_live_updates', 'overtake', 'coronavirusupdate', 'day', 'odisha', 'take_total_numb', 'west_bengal', 'high_single_day', 'seal', 'kashmir', 'kaduna', 'tally_rise', 'wrong_hit', 'uttarakhand', 'uttarpradesh', 'gujarat', 'tamilnadu'],\n",
    "    ['pandemic', 'year', 'worker', 'amid', 'vaccination', 'plan', 'impact', 'work', 'crisis', 'business', 'government', 'hold', 'economy', 'community', 'deal', 'hit', 'group', 'fund', 'global', 'support', 'cancel', 'demand', 'offer', 'house', 'market', 'free', 'sign', 'company', 'launch', 'event', 'job', 'employee', 'relief', 'industry', 'provide', 'seek', 'half', 'service', 'ongoing', 'cost', 'food', 'postpone', 'cut', 'ensure', 'aid', 'expect', 'centre', 'push', 'cent', 'pay', 'budget', 'big', 'effort', 'pass', 'sector', 'affect', 'delay', 'boost', 'urge', 'money', 'sale', 'citizen', 'congress', 'price', 'target', 'concern', 'bank', 'include', 'bill', 'stock', 'cover', 'power', 'quarter', 'nstnation', 'spend', 'firm', 'poor', 'massive', 'sell', 'protect', 'season', 'trade', 'people', 'reuters', 'drive', 'host', 'percent', 'benefit', 'law', 'loss', 'vulnerable', 'light', 'fall', 'access', 'celebrate', 'growth', 'donate', 'set', 'financial', 'site', 'lawmaker', 'estimate', 'involve', 'propose', 'household', 'fight', 'party', 'struggle', 'office', 'senate', 'product', 'essential', 'package', 'loan', 'app', 'parliament', 'shock', 'initiative', 'unveil', 'bernama', 'relief_bill', 'revenue', 'social', 'small_business', 'gain', 'malaysian', 'supreme_court', 'economic_recovery', 'apply', 'annual', 'lose_job', 'location', 'farmer', 'debt', 'public', 'celebration', 'profit', 'sabah', 'relief_package', 'fallout', 'programme', 'festival', 'weigh', 'workplace', 'call', 'performance', 'scheme', 'session', 'oil', 'healthcare', 'proposal', 'month', 'donation', 'file', 'global_economy', 'plant', 'stimulus_package', 'economist', 'employer', 'judge', 'credit', 'assistance', 'inquiry', 'boom', 'mission', 'legal', 'job_loss', 'network', 'stall', 'world_bank', 'amazon', 'violence', 'pain', 'commit', 'owe', 'tool', 'registration', 'relief_fund', 'google', 'mco', 'vital', 'organisation'],\n",
    "    ['school', 'home', 'close', 'amid', 'open', 'student', 'child', 'return', 'pandemic', 'force', 'leave', 'reopen', 'shut', 'online', 'send', 'stay', 'learn', 'safe', 'parent', 'kid', 'restaurant', 'scare', 'shutdown', 'university', 'miss', 'store', 'teacher', 'closure', 'education', 'summer', 'work_home', 'class', 'turn', 'bring', 'finally', 'virtual', 'option', 'migrant', 'work', 'space', 'owner', 'college', 'fee', 'teach', 'children', 'exam', 'reopen_school', 'safely', 'gym', 'eat', 'teen', 'pet', 'shelter', 'girl', 'meal', 'mom', 'parents', 'remain_open'],\n",
    "    ['time', 'test_positive', 'world', 'news', 'pandemic', 'die', 'face', 'people', 'post', 'man', 'change', 'family', 'write', 'woman', 'life', 'contract', 'challenge', 'resident', 'share', 'year_old', 'make', 'person', 'opinion', 'breaking', 'experience', 'australian', 'thing', 'reveal', 'big', 'age', 'good', 'victoria', 'happen', 'nsw', 'wrong', 'victim', 'future', 'couple', 'long', 'kill', 'feel', 'infect', 'problem', 'diagnose', 'great', 'nurse_home', 'survive', 'wife', 'lot', 'visit', 'hope', 'isolation', 'play', 'hotel_quarantine', 'create', 'mother', 'cope', 'young', 'mental_health', 'jail', 'stress', 'prison', 'love', 'victorian', 'real', 'son', 'history', 'care_home', 'social_medium', 'cop', 'normal', 'test_negative', 'moment', 'complication', 'difficult', 'dozen', 'story', 'catch', 'film', 'daughter', 'bring', 'reportedly', 'opportunity', 'husband', 'reality', 'inmate', 'look_like', 'father', 'era', 'year_old_man', 'new_normal', 'mum', 'kind', 'baby', 'digital', 'leave', 'devastate', 'year_old_woman', 'decade', 'quarantine_hotel', 'music', 'home', 'bite', 'funeral', 'art', 'dad', 'overcome', 'pass_away', 'environment', 'sydney', 'perspective', 'relative', 'song'],\n",
    "    ['response', 'update', 'live', 'trump', 'late', 'amp', 'american', 'official', 'watch', 'call', 'early', 'pm', 'emergency', 'give', 'meet', 'president', 'province', 'today', 'nation', 'release', 'situation', 'national', 'datum', 'video', 'lead', 'health_official', 'speak', 'team', 'accord', 'talk', 'claim', 'canadian', 'join', 'president_trump', 'month', 'question', 'crisis', 'watch_live', 'minister', 'declare', 'january', 'discuss', 'handle', 'news', 'fight', 'white_house', 'tuesday', 'health_minister', 'leader', 'expect', 'detail', 'expert', 'relate', 'listen', 'address', 'december', 'pm_modi', 'election', 'thursday', 'indian', 'analysis', 'senior', 'special', 'governor', 'september', 'govt', 'policy', 'week', 'explain', 'president_donald_trump', 'ottnews', 'review', 'task_force', 'february', 'tomorrow', 'action', 'track', 'tonight', 'approach', 'friday', 'union', 'donald_trump', 'public_health', 'india', 'administration', 'follow', 'answer', 'fail', 'federal', 'exclusive', 'respond', 'october', 'story', 'biden', 'source', 'mp', 'poll', 'vaccine_rollout', 'catch', 'pandemic', 'november', 'follow_update', 'accuse', 'wednesday', 'bjp', 'attack', 'africa', 'vmnews', 'slam', 'begin', 'interview', 'head', 'outbreak', 'tv', 'model', 'states', 'win', 'quebec', 'political', 'sabcnews', 'times', 'diagnosis', 'provide_update', 'grind', 'joe_biden', 'guidance', 'conversation', 'defend', 'publish', 'newsnight', 'debate', 'thread', 'discussion', 'comment', 'trudeau', 'tune', 'trump_administration', 'weekly', 'chair', 'twitter', 'commission', 'answer_question', 'trust', 'ontario', 'preparedness', 'dr_anthony_fauci', 'tracker', 'pm_narendra_modi', 'failure', 'provincial', 'warrior', 'leadership', 'chief_medical_officer', 'episode', 'defeat', 'covidab', 'dstv', 'praise', 'cdnpoli', 'coming', 'criticism', 'statistic', 'pres_trump', 'prime_minister_justin_trudeau', 'opposition', 'headline', 'voter', 'projection', 'speech', 'historic', 'government', 'climate_change'],\n",
    "    ['day', 'order', 'lockdown', 'country', 'travel', 'restriction', 'read', 'start', 'quarantine', 'measure', 'disease', 'week', 'police', 'ease', 'city', 'issue', 'level', 'area', 'march', 'social_distance', 'place', 'sa', 'announce', 'follow', 'rule', 'list', 'april', 'guideline', 'impose', 'add', 'end', 'protocol', 'lift', 'ph', 'extend', 'mask', 'boris_johnson', 'filipino', 'begin', 'public', 'weekend', 'na', 'monday', 'suspend', 'curb', 'government', 'month', 'passenger', 'protest', 'ang', 'june', 'flight', 'strict', 'doh', 'july', 'wear_mask', 'christmas', 'ng', 'sunday', 'resume', 'anti', 'remain', 'nationwide', 'train', 'break', 'ncov', 'decide', 'check', 'curfew', 'roque', 'period', 'hotel', 'metro_manila', 'complete', 'relax', 'icymi', 'saturday', 'holiday', 'ahead', 'national', 'august', 'arrest', 'stage', 'duterte', 'set', 'require', 'tough', 'arrive', 'friday', 'urge', 'enforce', 'president_rodrigo_duterte', 'date', 'breach', 'street', 'monitor', 'extension', 'airport', 'limit', 'arrival', 'bengaluru', 'fine', 'plan', 'region', 'need_know', 'player', 'brit', 'quarantine_facility', 'tuesday', 'advice', 'crowd', 'enhance_community_quarantine', 'village', 'ban', 'johnson', 'affect', 'relaxation', 'airline', 'personnel', 'average', 'activity', 'decision', 'president_duterte', 'covidpandemic', 'violate', 'local_government', 'phase', 'authority', 'pub', 'abroad', 'goa', 'game', 'part', 'malacañang', 'photos', 'tourism', 'include', 'induce', 'mandatory', 'exercise', 'wednesday', 'chandigarh', 'fly', 'local', 'frontliners', 'ottnews_ottawa', 'church', 'tier', 'community_quarantine', 'haryana', 'fan', 'stay_home_order', 'duque', 'containment_zone', 'easter', 'covidquarantine', 'traveller', 'restriction_ease', 'travel_ban', 'chennai', 'prevent_spread', 'mall', 'galvez', 'quarantine_period', 'norm', 'tighten', 'philippine', 'mid', 'precaution', 'ease_restriction', 'recommendation', 'trip', 'slow_spread', 'wa', 'land', 'protester', 'cdntopstories', 'observe', 'confusion', 'pnp', 'club', 'briton', 'lgus', 'flout', 'alert_level', 'curve', 'driver', 'social_distance_measure', 'distance', 'exit', 'ofws', 'spot', 'enforcement', 'yung', 'guest', 'ncr', 'football', 'prime_minister_boris_johnson', 'presidential_spokesperson_harry_roque', 'station', 'mkhize', 'muslim', 'health_secretary_francisco', 'vaccine_passport', 'reiterate', 'match', 'compliance', 'comply'],\n",
    "    ['patient', 'test', 'outbreak', 'hospital', 'people', 'spread', 'health', 'find', 'warn', 'doctor', 'study', 'virus', 'battle', 'variant', 'fear', 'treatment', 'result', 'wave', 'facility', 'symptom', 'vanguardnews', 'treat', 'risk', 'care', 'infect', 'chinese', 'medical', 'positive', 'europe', 'system', 'show', 'control', 'nurse', 'strain', 'malay_mail', 'staff', 'conduct', 'deadly', 'chief', 'detect', 'stop', 'fight', 'identify', 'nigerian', 'inside', 'research', 'grow', 'line', 'screen', 'cluster', 'build', 'lab', 'expert', 'cure', 'researcher', 'scientist', 'admit', 'carry', 'prevent', 'body', 'expose', 'concern', 'healthcare_worker', 'negative', 'worry', 'run', 'transmission', 'fg', 'condition', 'contact', 'fmtnews', 'lagos', 'evidence', 'world_health_organization', 'bed', 'wait', 'epidemic', 'shift', 'reduce', 'link', 'health_worker', 'population', 'thecable', 'suspect', 'country', 'work', 'human', 'emerge', 'fire', 'test_result', 'lock', 'officer', 'undergo', 'nstworld', 'recover', 'test_kit', 'global', 'critical', 'suggest', 'nigeria', 'ventilator', 'sample', 'panic', 'nhs', 'asymptomatic', 'ncdc', 'doctors', 'develop', 'quickly', 'sick', 'antibody', 'wrong', 'health_care_worker', 'icmr', 'buhari', 'icu', 'study_find', 'medicine', 'rapid', 'winter', 'ward', 'scientists', 'spark', 'describe', 'high_risk', 'lead', 'frontline', 'exposure', 'resurgence', 'private_hospital', 'trace', 'expert_warn', 'duty', 'close_contact', 'epicentre', 'commissioner', 'animal', 'new_youtube', 'army', 'long', 'origin', 'overwhelm', 'caution', 'oxygen', 'claim', 'china', 'save_live', 'mutation', 'danger', 'ppe', 'researchers', 'epicenter', 'intensive_care', 'study_show', 'ptf', 'hospitals', 'ability', 'palliative', 'aiims', 'infectious', 'gravitas', 'dedicate', 'rapid_test', 'scam', 'equipment', 'asian', 'transfer', 'fears'],\n",
    "    ['vaccine', 'dose', 'receive', 'astrazeneca', 'trial', 'supply', 'ready', 'jab', 'shoot', 'approve', 'pfizer', 'roll', 'develope', 'effective', 'eu', 'development', 'vaccinate', 'shot', 'deliver', 'distribution', 'race', 'delivery', 'covidvaccine', 'administer', 'volunteer', 'produce', 'distribute', 'approval', 'johnson_amp_johnson', 'clinical_trial', 'rollout', 'vaccination', 'fda', 'moderna', 'manufacture', 'russian', 'potential', 'sinovac', 'pfizer_biontech', 'vaccine_candidate', 'give', 'manufacturer', 'experimental', 'shipment', 'covishield', 'procure']\n",
    "]"
   ]
  },
  {
   "cell_type": "code",
   "execution_count": 43,
   "metadata": {},
   "outputs": [],
   "source": [
    "ch2 = CoherenceModel(topics=topics, texts=docs, dictionary=dictionary, coherence='c_v')\n",
    "cm2 = ch2.get_coherence()\n",
    "ct2 = ch2.get_coherence_per_topic()"
   ]
  },
  {
   "cell_type": "code",
   "execution_count": 30,
   "metadata": {},
   "outputs": [],
   "source": [
    "ch = CoherenceModel(model=ldamallet, texts=docs, dictionary=dictionary, coherence='c_v')\n",
    "cm = ch.get_coherence()\n",
    "ct = ch.get_coherence_per_topic()"
   ]
  },
  {
   "cell_type": "code",
   "execution_count": 37,
   "metadata": {},
   "outputs": [
    {
     "data": {
      "text/plain": [
       "[0.5045240018586463,\n",
       " 0.457429369616528,\n",
       " 0.39920349346028877,\n",
       " 0.632010435653083,\n",
       " 0.5676439882354302,\n",
       " 0.7761133997948086,\n",
       " 0.4258232788488341,\n",
       " 0.40830264158623547,\n",
       " 0.45647835420339933,\n",
       " 0.5317752172531746,\n",
       " 0.5020692943267668,\n",
       " 0.5413021154766547,\n",
       " 0.5135971149032914,\n",
       " 0.3908425767860518,\n",
       " 0.49576224182692885,\n",
       " 0.6483536339736877,\n",
       " 0.5485482238894555,\n",
       " 0.4492176147115874,\n",
       " 0.5023008732303528,\n",
       " 0.4343779247905027]"
      ]
     },
     "execution_count": 37,
     "metadata": {},
     "output_type": "execute_result"
    }
   ],
   "source": [
    "ct"
   ]
  },
  {
   "cell_type": "code",
   "execution_count": 45,
   "metadata": {},
   "outputs": [
    {
     "data": {
      "text/plain": [
       "0.4176788044591231"
      ]
     },
     "execution_count": 45,
     "metadata": {},
     "output_type": "execute_result"
    }
   ],
   "source": [
    "cm2"
   ]
  },
  {
   "cell_type": "code",
   "execution_count": 44,
   "metadata": {},
   "outputs": [
    {
     "data": {
      "text/plain": [
       "[0.5459828234103381,\n",
       " 0.3692984340037231,\n",
       " 0.4957032362906711,\n",
       " 0.3049389606300409,\n",
       " 0.3250778286215447,\n",
       " 0.3490729300288671,\n",
       " 0.3126503754655304,\n",
       " 0.6387058472222693]"
      ]
     },
     "execution_count": 44,
     "metadata": {},
     "output_type": "execute_result"
    }
   ],
   "source": [
    "ct2"
   ]
  },
  {
   "cell_type": "markdown",
   "metadata": {},
   "source": [
    "# Train LDA"
   ]
  },
  {
   "cell_type": "code",
   "execution_count": 11,
   "metadata": {},
   "outputs": [],
   "source": [
    "# Train model\n",
    "temp_file = datapath(\"model2\")\n",
    "ldamallet = gensim.models.wrappers.LdaMallet.load(temp_file)\n",
    "# ldamallet = gensim.models.wrappers.LdaMallet(mallet_path, corpus=corpus, num_topics=17, id2word=id2word, random_seed=50)\n",
    "model = gensim.models.wrappers.ldamallet.malletmodel2ldamodel(ldamallet)"
   ]
  },
  {
   "cell_type": "code",
   "execution_count": 18,
   "metadata": {},
   "outputs": [],
   "source": [
    "# Save the model\n",
    "# temp_file = datapath(\"model2\")\n",
    "# ldamallet.save(temp_file)"
   ]
  },
  {
   "cell_type": "code",
   "execution_count": 15,
   "metadata": {},
   "outputs": [
    {
     "data": {
      "text/html": [
       "\n",
       "<link rel=\"stylesheet\" type=\"text/css\" href=\"https://cdn.jsdelivr.net/gh/bmabey/pyLDAvis@3.3.1/pyLDAvis/js/ldavis.v1.0.0.css\">\n",
       "\n",
       "\n",
       "<div id=\"ldavis_el7056209042241435260079048\"></div>\n",
       "<script type=\"text/javascript\">\n",
       "\n",
       "var ldavis_el7056209042241435260079048_data = {\"mdsDat\": {\"x\": [0.34075459637495603, 0.056719543522768916, -0.014622002942722914, 0.32611743528056325, 0.04727649841951213, -0.21012611206484336, 0.0063561183684338815, -0.2338526091659297, -0.07039628069992943, 0.014570249878412425, -0.1293722443439085, -0.24549788510816184, -0.014820996129156902, 0.09423729634949139, 0.01600479206049056, -0.023141136818407505, 0.039792737018431536], \"y\": [0.22819371417069917, -0.10538374006840102, -0.013133165237296945, 0.23177247501131507, -0.09099706279611824, 0.17629538537140707, -0.18403438617144116, 0.19328416980528665, -0.07306231820358809, -0.10250488251022362, -0.0105845630365136, 0.20252172897835993, -0.08696574221745576, -0.08289544158984692, -0.09849720168772859, -0.00443807791113121, -0.17957089190732206], \"topics\": [1, 2, 3, 4, 5, 6, 7, 8, 9, 10, 11, 12, 13, 14, 15, 16, 17], \"cluster\": [1, 1, 1, 1, 1, 1, 1, 1, 1, 1, 1, 1, 1, 1, 1, 1, 1], \"Freq\": [5.959308672418788, 5.929581707868744, 5.9022622925719554, 5.899989058945818, 5.897637992029349, 5.89202354514208, 5.886222891932046, 5.884811749282381, 5.880563802881514, 5.876392741963008, 5.869187176951836, 5.868076243657186, 5.86590939155633, 5.856140851990669, 5.855742506503974, 5.8526536632737365, 5.823495711030575]}, \"tinfo\": {\"Term\": [\"case\", \"lockdown\", \"vaccine\", \"pandemic\", \"report\", \"people\", \"state\", \"test\", \"death\", \"news\", \"amid\", \"government\", \"test_positive\", \"country\", \"quarantine\", \"outbreak\", \"patient\", \"week\", \"live\", \"virus\", \"hospital\", \"day\", \"update\", \"infection\", \"confirm\", \"rise\", \"world\", \"year\", \"month\", \"health\", \"confirm\", \"fatality\", \"stand\", \"past_hour\", \"recovery\", \"bring_total\", \"take_total_numb\", \"dfa\", \"active_case\", \"tally_rise\", \"covidph\", \"total_active\", \"manage_isolation\", \"bring_total_numb\", \"hour\", \"sample_test\", \"additional_death\", \"patient_recover\", \"additional\", \"total_numb\", \"total\", \"health_department\", \"ministry_health\", \"death_toll_rise\", \"department_health\", \"relate_death\", \"discharge\", \"patient_discharge\", \"union_health_ministry\", \"death\", \"report\", \"fresh\", \"case\", \"record\", \"death_toll\", \"health_ministry\", \"tally\", \"breaking\", \"doh\", \"today\", \"reach\", \"include\", \"area\", \"local_government\", \"province\", \"add\", \"list\", \"western\", \"hotspot\", \"metro_manila\", \"ncov\", \"mayor\", \"provincial\", \"entire\", \"updated\", \"unit\", \"travel_restriction\", \"philippine\", \"photos\", \"malaca\\u00f1ang\", \"north\", \"cdntopstories\", \"president_duterte\", \"iatf\", \"community_quarantine\", \"central\", \"center\", \"pnp\", \"filipino\", \"resident\", \"wide\", \"regional\", \"city\", \"region\", \"president_rodrigo_duterte\", \"ottnews\", \"lock\", \"town\", \"enhance_community_quarantine\", \"read\", \"hard_hit\", \"disease\", \"local\", \"status\", \"wednesday\", \"capital\", \"country\", \"remain\", \"thursday\", \"official\", \"saturday\", \"friday\", \"tuesday\", \"announce\", \"authority\", \"place\", \"monday\", \"include\", \"county\", \"sunday\", \"government\", \"continue\", \"free\", \"month\", \"january\", \"expect\", \"december\", \"march\", \"movie\", \"season\", \"dark\", \"february\", \"celebration\", \"schedule\", \"postpone\", \"july\", \"mid\", \"final\", \"conference\", \"anticipate\", \"muslim\", \"end\", \"start\", \"week\", \"early\", \"event\", \"spring\", \"high_level\", \"mco\", \"september\", \"june\", \"annual\", \"october\", \"cancel\", \"film\", \"year_ago\", \"april\", \"long\", \"november\", \"august\", \"resume\", \"year\", \"ahead\", \"begin\", \"delay\", \"set\", \"time\", \"need_know\", \"day\", \"monday\", \"hold\", \"release\", \"plan\", \"announce\", \"hope\", \"number\", \"rate\", \"rise\", \"low\", \"toll\", \"high\", \"increase\", \"cases\", \"spike\", \"count\", \"jump\", \"lakh\", \"soar\", \"deaths\", \"double\", \"decrease\", \"top\", \"trend\", \"average\", \"cent\", \"infection_rate\", \"witness\", \"straight_day\", \"consecutive_day\", \"high_daily\", \"high_single_day\", \"caseload\", \"decline\", \"cross\", \"hospitalization\", \"numb\", \"daily\", \"drop\", \"figure\", \"record_high\", \"single_day\", \"infection\", \"register\", \"surge\", \"case\", \"record\", \"reach\", \"continue\", \"fall\", \"day\", \"report\", \"death_toll\", \"hit\", \"death\", \"screen\", \"check\", \"sabah\", \"union\", \"ani\", \"newsalert\", \"justin\", \"live_updates\", \"conduct\", \"kashmir\", \"centre\", \"district\", \"chhattisgarh\", \"sc\", \"govt\", \"reports\", \"surveillance\", \"undergo\", \"sample\", \"view\", \"pune\", \"delhi\", \"seal\", \"bengaluru\", \"rapid\", \"await\", \"negative\", \"states\", \"chief_minister\", \"tamil_nadu\", \"state\", \"test\", \"amp\", \"maharashtra\", \"coronavirusoutbreak\", \"coronaviruspandemic\", \"airport\", \"karnataka\", \"capacity\", \"covid\\u30fc\", \"covidindia\", \"coronavirusupdates\", \"corona\", \"punjab\", \"test_result\", \"positive\", \"health_minister\", \"indiafightscovid\", \"situation\", \"decide\", \"minister\", \"lab\", \"live_update\", \"guideline\", \"complete\", \"issue\", \"sector\", \"world\", \"great\", \"tourism\", \"decade\", \"challenge\", \"hire\", \"future\", \"ravage\", \"damage\", \"income\", \"oil\", \"economist\", \"blow\", \"investor\", \"global_economy\", \"trade\", \"slump\", \"strong\", \"mental_health\", \"forecast\", \"performance\", \"financial\", \"intervention\", \"plunge\", \"investment\", \"economic\", \"imf\", \"dollar\", \"recession\", \"economy\", \"impact\", \"post\", \"big\", \"opinion\", \"poor\", \"loss\", \"huge\", \"opportunity\", \"growth\", \"unprecedented\", \"uncertainty\", \"shock\", \"devastate\", \"unemployment\", \"debt\", \"problem\", \"pressure\", \"era\", \"face\", \"quarter\", \"write\", \"hit\", \"global\", \"crisis\", \"pandemic\", \"market\", \"job\", \"reuters\", \"year\", \"major\", \"suffer\", \"million\", \"industry\", \"nation\", \"affect\", \"investigate\", \"study\", \"suggest\", \"human\", \"researcher\", \"virus\", \"animal\", \"source\", \"link\", \"find\", \"associate\", \"scientist\", \"china\", \"discover\", \"strain\", \"scientists\", \"evidence\", \"detect\", \"common\", \"show\", \"cluster\", \"transmission\", \"cdc\", \"raise_concern\", \"antibody\", \"possibly\", \"similar\", \"infectious\", \"mutation\", \"potentially\", \"accord\", \"variant\", \"datum\", \"chinese\", \"protect\", \"identify\", \"research\", \"study_find\", \"involve\", \"flu\", \"high_risk\", \"kill\", \"british\", \"prevent\", \"people\", \"spread\", \"community\", \"infect\", \"claim\", \"emerge\", \"result\", \"outbreak\", \"activity\", \"brand\", \"employer\", \"work_home\", \"panic_buy\", \"shopper\", \"malaysian\", \"operate\", \"scam\", \"internet\", \"charge\", \"retailer\", \"executive\", \"limit\", \"lay\", \"sell\", \"employee\", \"airline\", \"festival\", \"product\", \"offer\", \"feature\", \"sale\", \"cash\", \"temporarily\", \"network\", \"cancellation\", \"store\", \"pay\", \"operator\", \"worker\", \"company\", \"service\", \"drive\", \"office\", \"food\", \"restaurant\", \"customer\", \"operation\", \"firm\", \"price\", \"ceo\", \"app\", \"essential\", \"technology\", \"owner\", \"demand\", \"line\", \"business\", \"run\", \"work\", \"launch\", \"cost\", \"pandemic\", \"group\", \"amid\", \"relate\", \"online\", \"cut\", \"free\", \"unveil\", \"committee\", \"grant\", \"federal_government\", \"federal\", \"senator\", \"effort\", \"ncdc\", \"program\", \"reject\", \"trudeau\", \"cooperation\", \"fund\", \"cdnpoli\", \"implementation\", \"propose\", \"kano\", \"fg\", \"nigeria\", \"support\", \"duterte\", \"inquiry\", \"resource\", \"labour\", \"apply\", \"gov\", \"african\", \"intend\", \"bn\", \"donate\", \"vanguardnews\", \"pass\", \"relief\", \"nigerian\", \"seek\", \"aid\", \"tackle\", \"budget\", \"benefit\", \"combat\", \"bill\", \"agree\", \"lawmaker\", \"senate\", \"liveblog\", \"national\", \"government\", \"step\", \"provide\", \"plan\", \"urge\", \"fight\", \"member\", \"deal\", \"house\", \"response\", \"ensure\", \"measure\", \"sign\", \"call\", \"vaccine\", \"vaccination\", \"receive\", \"develope\", \"eligible\", \"distribution\", \"dose\", \"batch\", \"administer\", \"manufacturer\", \"gp\", \"supply\", \"roll\", \"vaccines\", \"receive_dose\", \"vaccination_drive\", \"inoculate\", \"produce\", \"timeline\", \"trial\", \"eu\", \"experimental\", \"approval\", \"volunteer\", \"registration\", \"manufacture\", \"pharmacy\", \"johnson_amp_johnson\", \"clinical_trial\", \"russian\", \"astrazeneca\", \"ready\", \"vaccinate\", \"jab\", \"shoot\", \"pfizer\", \"approve\", \"effective\", \"phase\", \"development\", \"shot\", \"deliver\", \"delivery\", \"race\", \"covidvaccine\", \"drug\", \"promise\", \"give\", \"begin\", \"target\", \"hope\", \"wear_mask\", \"mask\", \"violence\", \"misinformation\", \"hear\", \"war\", \"listen\", \"react\", \"campaign\", \"comment\", \"handle\", \"question\", \"bjp\", \"politic\", \"reporter\", \"discuss\", \"political\", \"interview\", \"leadership\", \"lie\", \"trump\", \"role\", \"trust\", \"wear\", \"voice\", \"poll\", \"tweet\", \"politician\", \"twitter\", \"meeting\", \"american\", \"president\", \"president_trump\", \"white_house\", \"talk\", \"party\", \"election\", \"president_donald_trump\", \"donald_trump\", \"biden\", \"vote\", \"accuse\", \"message\", \"answer\", \"slam\", \"attack\", \"social_medium\", \"fail\", \"win\", \"blame\", \"leader\", \"meet\", \"analysis\", \"administration\", \"call\", \"response\", \"fight\", \"pm_modi\", \"hold\", \"video\", \"public\", \"governor\", \"crisis\", \"lead\", \"claim\", \"pandemic\", \"nation\", \"parent\", \"adapt\", \"virtually\", \"lot\", \"university\", \"student\", \"students\", \"learn\", \"kid\", \"class\", \"completely\", \"alternative\", \"college\", \"teacher\", \"pics\", \"anxiety\", \"teach\", \"resort\", \"club\", \"education\", \"exam\", \"safely\", \"relationship\", \"adjust\", \"opt\", \"youth\", \"gym\", \"school\", \"child\", \"thing\", \"close\", \"reopen\", \"experience\", \"normal\", \"change\", \"virtual\", \"easy\", \"difficult\", \"schools\", \"campus\", \"lesson\", \"water\", \"idea\", \"middle\", \"amid\", \"safe\", \"open\", \"shut\", \"date\", \"pandemic\", \"make\", \"time\", \"life\", \"cope\", \"feel\", \"ongoing\", \"push\", \"hard\", \"social_distance\", \"public\", \"force\", \"work\", \"plan\", \"avoid\", \"health\", \"declare\", \"world_health_organization\", \"public_health\", \"fears\", \"epidemic\", \"advise\", \"possibility\", \"chief\", \"system\", \"put\", \"fuel\", \"advice\", \"putt\", \"european\", \"flood\", \"countries\", \"confusion\", \"wave\", \"new_youtube\", \"thanksgiving\", \"expert\", \"risk\", \"warn\", \"winter\", \"europe\", \"expert_warn\", \"resurgence\", \"disaster\", \"travel\", \"africa\", \"prompt\", \"worsen\", \"young_people\", \"spark\", \"concern\", \"raise\", \"fear\", \"threat\", \"control\", \"grow\", \"reason\", \"outbreak\", \"worry\", \"head\", \"international\", \"prepare\", \"wrong\", \"emergency\", \"malay_mail\", \"spread\", \"stop\", \"country\", \"issue\", \"global\", \"coverage\", \"tonight\", \"late\", \"details\", \"sa\", \"overnight\", \"dstv\", \"thread\", \"air\", \"nz\", \"late_update\", \"follow_live_blog\", \"tv\", \"victorian\", \"melbourne\", \"bay_area\", \"community_transmission\", \"hotel_quarantine\", \"restriction_ease\", \"border\", \"detail\", \"morning\", \"press_conference\", \"provide_update\", \"nyc\", \"covidab\", \"news\", \"live\", \"follow\", \"pm\", \"update\", \"watch\", \"australian\", \"watch_live\", \"victoria\", \"tomorrow\", \"nsw\", \"alert\", \"prime_minister\", \"announcement\", \"exclusive\", \"premier\", \"story\", \"today\", \"latest\", \"give\", \"health_official\", \"join\", \"speak\", \"breaking\", \"catch\", \"special\", \"reveal\", \"bring\", \"day\", \"announce\", \"lift\", \"police\", \"rule\", \"impose\", \"tighten\", \"extend\", \"ban\", \"anti\", \"protest\", \"protester\", \"arrest\", \"nationwide\", \"enforce\", \"defy\", \"exercise\", \"fine\", \"mull\", \"comply\", \"violate\", \"traffic\", \"boris_johnson\", \"ease\", \"ogun\", \"drink\", \"regulation\", \"freedom\", \"extension\", \"exit\", \"breach\", \"flout\", \"lockdown\", \"restriction\", \"level\", \"break\", \"curb\", \"weekend\", \"strict\", \"curfew\", \"relax\", \"tough\", \"street\", \"coronaviruslockdown\", \"order\", \"stay_home\", \"court\", \"measure\", \"protocol\", \"place\", \"social_distance\", \"guideline\", \"hotel\", \"dad\", \"leave\", \"spot\", \"match\", \"touch\", \"player\", \"migrant\", \"guard\", \"boy\", \"quarantine_period\", \"arrival\", \"port\", \"yeg\", \"camp\", \"guest\", \"fly\", \"land\", \"train\", \"plane\", \"star\", \"surprise\", \"separate\", \"room\", \"stick\", \"days\", \"friend\", \"ship\", \"scene\", \"quarantine_hotel\", \"quarantine\", \"home\", \"family\", \"send\", \"passenger\", \"flight\", \"team\", \"couple\", \"beat\", \"game\", \"sport\", \"fan\", \"celebrate\", \"cruise_ship\", \"refuse\", \"son\", \"finally\", \"traveller\", \"walk\", \"strand\", \"care_home\", \"love\", \"stay\", \"woman\", \"return\", \"visit\", \"force\", \"day\", \"man\", \"play\", \"indian\", \"inside\", \"turn\", \"spend\", \"miss\", \"share\", \"life\", \"work\", \"bring\", \"video\", \"hospital\", \"italian\", \"suspect\", \"prison\", \"reportedly\", \"admit\", \"recently\", \"contact\", \"cancer\", \"medical\", \"staff_member\", \"die\", \"victim\", \"person\", \"dye\", \"private_hospital\", \"test_negative\", \"year_old\", \"young\", \"test_positive\", \"treat\", \"healthy\", \"care\", \"complication\", \"family_member\", \"treatment\", \"succumb\", \"relative\", \"ward\", \"hospitalise\", \"patient\", \"doctor\", \"contract\", \"nurse\", \"nurse_home\", \"dead\", \"wife\", \"diagnose\", \"bed\", \"ventilator\", \"nhs\", \"sick\", \"self_quarantine\", \"staff\", \"doctors\", \"body\", \"facility\", \"recover\", \"condition\", \"symptom\", \"health_worker\", \"people\", \"battle\", \"infect\", \"man\", \"dr\"], \"Freq\": [252197.0, 185531.0, 174668.0, 237717.0, 106735.0, 98752.0, 73589.0, 68147.0, 74149.0, 60054.0, 71926.0, 66662.0, 54962.0, 72766.0, 49967.0, 66382.0, 48354.0, 47539.0, 44514.0, 40692.0, 38947.0, 72103.0, 38016.0, 40184.0, 37789.0, 37344.0, 37172.0, 44151.0, 34901.0, 34151.0, 37789.33510103031, 6382.425673677887, 6355.341771684151, 2934.4366121675553, 17471.200163036647, 2881.310496718302, 1494.8230523466245, 1147.94076911915, 7005.355419533833, 1175.0246711128866, 4089.6692010542497, 1320.861066463777, 914.6025365577258, 2019.8340756098294, 19855.625227023702, 1195.8584418772998, 1713.57764537296, 2108.3776013585843, 6169.921211880876, 4920.936654554324, 26451.59705103682, 3892.7900673305476, 2360.46622760798, 3188.6086154933923, 4166.754152882577, 2476.0936553504716, 4139.67025088884, 956.2700780865515, 1801.079482583494, 68045.17869364894, 85412.2100028635, 7704.328428679885, 151382.3451283769, 22554.64022955339, 10162.713378880606, 5270.94400339646, 5363.654283298098, 14824.269587417988, 4257.381055707773, 8165.796451111631, 4638.639060696529, 3779.2460166644973, 14102.925068108116, 2474.059212187455, 12477.17901917184, 9009.670837288377, 9995.244220588154, 1017.0757288847018, 5047.125796213244, 3609.2687370156236, 4148.183863272008, 4286.569167091498, 1260.0938233969757, 3182.8619878482536, 1033.9519854480543, 3583.3918102851494, 2295.17089261592, 1821.510625071164, 1356.8510276935292, 2065.653803354328, 1818.1353737584934, 1685.3754887934551, 1935.1440859310699, 1005.8248911758002, 1600.9942059766934, 2164.661175192662, 4192.062130336725, 1258.9687396260856, 6100.204205766431, 15029.994095321606, 1719.1280019201597, 1810.2597873622624, 26747.74156914259, 6791.005641092987, 3631.7704124334264, 5967.444320801393, 3330.2479618348643, 3598.017899306722, 2188.287934381355, 30448.142091600315, 2114.032405502605, 19902.731907046873, 11697.495965944961, 2084.780227459461, 11910.136798643201, 3565.390469950907, 54106.403625878535, 10212.385388369954, 11273.339384319372, 21013.189588915462, 8893.78720888669, 11447.727368807347, 10186.508461639482, 17525.429899155974, 5716.550639892887, 10583.663032763707, 10321.5185141463, 10921.188164030753, 4520.58659143665, 7403.051212457232, 11790.877918928845, 5886.438289297301, 4647.721057547238, 34901.24842055336, 6777.842572155525, 17034.627272998696, 4835.4052601881685, 18947.989530210067, 1267.0014245590185, 3737.2628074812346, 952.7671789269934, 5214.499243352782, 1993.8777934587197, 3956.443989487914, 5380.00340119456, 7855.856140800621, 971.7777916520625, 2451.2507701971476, 1273.7110525796309, 979.605691009444, 1441.4517530949465, 21487.583736011948, 26665.180025251357, 47535.477983366945, 16719.274756029903, 7120.033601206769, 1502.956676617229, 1242.3994551501053, 1149.5829341982972, 4582.675938078426, 8662.129774610905, 1980.4585374174947, 3731.6714507973907, 8675.54903065213, 2629.055912743382, 1139.5184921673783, 14521.871579279268, 12829.927046748118, 3161.353069045317, 4366.849570082053, 5118.327908390668, 32092.150822590207, 7389.536993368043, 17540.085917218184, 7060.765220358024, 11916.29936460803, 17825.24510809422, 5712.129988214885, 18194.274649227915, 8283.035791446291, 6813.627254932126, 5986.106465723235, 8720.279884122881, 8497.743888105897, 5216.735786026319, 11811.549692723986, 8919.057930862751, 37344.56030519868, 10365.30381179337, 4131.821565445224, 19507.52777372107, 21188.856318443406, 5614.900674804038, 14585.958457565417, 5768.733570004148, 5898.73319975072, 6996.146740861369, 3898.9055621492826, 1835.1614399224463, 4168.65479387342, 1217.6631986262275, 1695.4118379448812, 2331.3266934551975, 1738.7450478604053, 5251.9850417615235, 1938.0778134718162, 2020.410912311312, 1081.1635873923267, 1110.4135040853055, 1229.579831352997, 1574.0788501814136, 1414.8293037418623, 4192.488059326959, 2277.1601810607926, 2676.9090425315026, 29063.583890342026, 15754.87179503668, 7521.561911087099, 5553.150850674416, 3265.1573671347423, 2429.909746013015, 38668.38986811795, 5223.818455316433, 21087.023275141924, 100813.62953821897, 19759.943721478998, 6899.730348799328, 11611.133596864687, 5450.234477125046, 17803.449293793085, 21323.18926918153, 5893.3165485112795, 6170.649091970635, 6104.5659468494605, 4243.933465954458, 6270.076590264222, 1877.6996149289498, 5104.684262886491, 1902.070937364606, 5316.271653123322, 969.3139605090448, 4626.120113240882, 6076.213798162413, 1321.5903484426178, 19331.997628392393, 8681.729724010725, 1096.7095096045193, 973.7451100428005, 21495.506388248577, 2442.6711804827933, 1045.7512899663298, 2844.798000671117, 2496.9527622713, 5437.020477918162, 3101.804673628944, 4342.526543080521, 1359.2551194795406, 2666.4442319374525, 2314.1678440038795, 1912.041023815556, 3403.1228419243266, 2067.1312574970034, 1290.5723017063283, 3115.0981222302103, 73543.78881174226, 68144.43310486102, 27765.582978512804, 16376.420889377385, 12503.59619687496, 9024.036025493348, 4436.688470672829, 4132.046940227128, 4221.777718285681, 3388.721605939621, 3383.1826690224266, 3148.3317437333776, 3203.7211129053235, 2976.624699300347, 2792.7319936494882, 23287.906374652735, 6970.198216597612, 3519.440517185412, 8883.347027796606, 4937.408367987216, 6696.574732888202, 3361.0269213536485, 4248.3646154882135, 4317.047433261426, 3502.8237064338286, 3420.8474400593495, 4627.1461355008405, 37172.90616654788, 4320.058930490119, 3012.74482915876, 1708.720947881088, 9346.418432504897, 1231.6390400965736, 5063.648662623224, 1302.9271412597768, 1525.5653648925502, 1341.313041886117, 1278.7988608660773, 1080.2889176270035, 1193.2531394702335, 1732.8492282747873, 1262.347760597646, 3504.084357175915, 1112.0943781459712, 3260.6080732031282, 3235.3830527915334, 1277.702120848182, 1304.0238812776722, 2953.520868192407, 954.1638155690285, 1521.1784048209684, 1411.504403031425, 4501.021033442866, 1094.546537859644, 1206.4140196849787, 1912.7145912096387, 16641.933031545334, 16775.735313728575, 16811.927734319124, 15609.900674705726, 7596.021363943783, 4204.901228611098, 3205.771072308357, 3167.3851716820163, 2386.506278940467, 2806.5577057944183, 2396.3769391015257, 2054.1940535181498, 2024.582073034973, 1947.8102717822928, 1699.9470277379244, 1663.754607147375, 4438.506852422825, 3138.869931216735, 2001.550532659169, 18384.652919981178, 3490.9234769611694, 9558.089255958717, 17327.39554272998, 16916.11803601919, 18697.22382508138, 82001.05765800588, 6578.246627336819, 4817.978898614647, 4450.570992619675, 12059.753236778204, 4936.426820547353, 3901.104243654063, 3507.374577229601, 3611.564878929668, 3799.107421989787, 3507.374577229601, 2489.3411194913233, 14615.382039526929, 4952.984372847862, 2978.717874579833, 3887.081577518094, 40692.012375167855, 1923.9880645260587, 4454.669229538557, 9521.618052201551, 21481.18149162486, 1203.3305142244863, 8079.185653070807, 1613.3790738534428, 1627.9039547122343, 7511.598001050344, 2416.7167151973663, 3147.4299522473325, 5281.470139962067, 1559.7487445286747, 10969.636943970292, 5640.122967321454, 3823.395561444932, 4748.518742297183, 1129.5888114029299, 2459.174059246141, 992.1610925082114, 1556.3968489458769, 1165.3423642861087, 1601.0887900498503, 1251.3743509112576, 14200.864285787575, 12216.542100771152, 10538.359712316947, 10472.439099188588, 8511.58018325175, 5016.670388921024, 5041.250956528209, 2599.953673723657, 2992.1254569110247, 2499.3968062397175, 2117.280709800744, 8109.35271331599, 3808.8706805861407, 6118.326737133971, 67951.8618515365, 22436.47173272229, 8960.734191346684, 11094.774379061419, 8068.012667794814, 4818.90854953594, 5955.201152104468, 12580.781420768537, 3185.858736279497, 1548.278229579419, 1630.8828359160284, 3183.6261793514805, 1598.5107604597895, 1136.3714763603812, 2343.068495953281, 2392.184748369643, 1033.6738576716236, 1026.9761868875742, 4432.741780576693, 1108.4645147601752, 1203.3481842008753, 6408.554661871266, 1406.5108646503736, 3575.4399202183704, 8561.855818943148, 3601.1143248905596, 1634.231671308053, 2255.998775760639, 10241.854907275538, 1463.4410663147933, 4330.044161887936, 1924.4640719501936, 972.278542151171, 1499.1619771630567, 1207.8132980569083, 4177.114012318808, 7838.507374265812, 995.7203898953437, 16663.8049107149, 12982.31853641575, 10618.040749646312, 7850.786437369902, 7842.972488121845, 6419.717446511348, 4813.392736803501, 3870.1374347165433, 3869.0211562525355, 3764.0909806357613, 3938.230421021046, 3130.044813079085, 2810.7891723727307, 2808.556615444714, 2346.4173313453057, 2221.3941433763835, 10943.994061136716, 6468.83369892771, 16295.433017592186, 6799.252124274147, 23051.15028177001, 6774.693998065965, 4760.9276489951135, 53266.57574554486, 7196.647257461077, 22355.708798692882, 5834.787531371034, 5493.206321384514, 4438.323172896734, 5851.5317083311575, 2198.5038580941905, 2517.5155797658995, 2462.859725353614, 4098.0736553211855, 4567.667833026743, 1814.7974516079394, 9451.001110924442, 2499.668770161888, 4675.864116251064, 1786.911811601671, 1684.2926563786039, 1104.2713442482236, 9629.46920696456, 1240.353267478813, 1109.8484722494773, 2490.7453653598823, 2045.6905508598406, 4202.923661744754, 2969.2629478674457, 13920.511491129122, 1629.636801966318, 1132.1569842544918, 1794.7197908034261, 1406.5516819161717, 2067.999062864855, 945.8809090126198, 1094.232513845967, 978.2282514198911, 1335.164443500125, 3590.555007207103, 12155.908191532466, 7551.431313697449, 6506.277526262514, 6356.810495828916, 8386.885088285246, 5308.310431593228, 5424.314694019305, 4502.973148212201, 4163.883765735978, 4948.027962712243, 3769.0231032472198, 3096.421466296029, 2637.981544592979, 2432.743234146844, 2240.8900309037185, 18241.670266500452, 54871.131553134204, 7462.1972656773905, 9828.01496380919, 19207.628836317588, 11445.38208417275, 18576.297946575673, 6284.307831812618, 7695.321216129793, 6062.3381373627235, 11686.31401382691, 4491.818892209693, 7335.038747248807, 4946.912537111992, 6417.043478242455, 174668.377763003, 23027.142124123333, 16303.574352164622, 6021.041139375844, 1764.9365401391615, 4107.410311972212, 16324.046754034367, 1202.4842361387693, 3673.179893366545, 1526.810181548957, 1308.078729993249, 8780.505412450566, 6402.474311054271, 1711.0617983766717, 1977.2030226833706, 3802.4792735965207, 1700.2868500241736, 3040.6904250749167, 1353.3335130737403, 9561.689168006664, 5701.025173306656, 1271.443905594756, 3041.7679199101663, 3429.666060600092, 1110.8971751425368, 2268.1266282008146, 1051.6349592037982, 3007.288085182173, 2591.3750787757526, 2156.0671653348363, 10839.59804261292, 8018.716563928961, 7929.2844926032285, 7186.890551116121, 6914.284357797923, 6543.626134471994, 6719.25779261771, 5896.051738486868, 5578.190762088179, 5280.802187559237, 4301.359382317175, 4910.143964233308, 3930.701158991246, 4273.3445166006795, 3432.898545105841, 5487.681195927197, 3593.4452755580605, 5761.3648840806445, 5773.217327268391, 3739.984573152032, 4034.1406631752257, 5795.072728914224, 8263.571156556196, 996.080294291959, 2047.8075323991113, 3299.8637682409594, 3146.278203311026, 6360.445678076588, 1502.4674830102176, 4467.336649483714, 2301.5575961963923, 7303.104906305961, 8903.511010430919, 2412.851483826779, 1735.0717081577254, 1299.9126075229142, 8331.460428010732, 2718.909674810342, 2154.649664524283, 1699.4576641160018, 2063.3886766673654, 17773.633854572723, 2285.976451928139, 1976.579444315664, 1672.747131084709, 1016.1131940654286, 3745.0393187625054, 3068.3724819697554, 1584.8249598567036, 2214.748363844691, 1193.0704753977432, 14631.807406766913, 10712.0366844247, 8256.893523298373, 7728.247557054037, 9557.919069697591, 6110.034430908218, 5714.941129820346, 4703.279691260133, 4380.5274171320125, 3881.930800547881, 3869.6884729085386, 3669.359475173843, 3877.4790450426653, 3682.714741689489, 3157.4075920740647, 3276.4920518385784, 2879.1728729980987, 4505.176571278045, 2940.3845111948112, 3832.961489990511, 7476.723371009365, 13112.645840612136, 4892.47930023179, 3755.0557686492402, 12766.521850081635, 12837.749938165081, 14757.569499789248, 4949.239182923287, 7801.701522890093, 6465.061932449151, 8427.173171372864, 4540.790615319769, 9271.8937784875, 6137.857902815815, 5918.608944183954, 9823.911461134216, 4771.168962714669, 4998.368802192008, 1701.2621657898308, 964.4597643897524, 3761.3930811200344, 4573.333626955128, 14500.540411115697, 1605.9376541931692, 6078.339445340068, 4899.6798960684055, 3465.326362749227, 1295.2918928722838, 1023.8974010323768, 1947.9844310988371, 4130.3550142412305, 1030.6261900862587, 1954.7132201527193, 1620.516697143247, 1306.5065412954204, 2060.1309153302036, 3518.035210337969, 1518.4633964927034, 1398.4666583651413, 965.5812292320661, 1018.2900768208084, 985.7675963937121, 1733.784646216927, 1372.6729669919268, 27191.036566737137, 13607.854396634018, 6183.757140517552, 21578.105030957242, 15423.505976339844, 6461.880421411341, 4304.182064799848, 13795.139025300401, 2623.1062661716637, 1990.6000951067565, 2759.924976933931, 1583.5083573468958, 1510.6131425965077, 1590.2371464007779, 1738.2705055861818, 1979.3854466836199, 1738.2705055861818, 49569.86749510634, 7305.221982831218, 13056.093694215697, 7482.413427916777, 3989.0504441097087, 90291.37738435784, 7222.233584500007, 21510.81714041842, 6374.406163710875, 2867.585601796043, 3657.0968507848634, 3643.6392726770996, 4761.739720463825, 3680.647612473451, 4796.505130575548, 4883.979388276014, 4051.852475279274, 4380.4416740771785, 4165.120424352954, 6574.546108563314, 34151.85992176154, 8058.291463336021, 4383.0307390422095, 9912.134566737037, 983.9456761115164, 3860.8686586512113, 3609.2916391908807, 1435.6661910536216, 8491.00393680779, 6807.115086553309, 1695.070051119385, 2163.5623673588457, 4266.746250047212, 2303.3273781701405, 1920.9303085904378, 1377.523946556123, 992.8906368034393, 1204.2153331501172, 16113.22856641257, 1868.3786645253906, 1013.0167983602657, 18533.9585536642, 15360.733748204559, 27203.86170431045, 2246.303253759132, 8787.305759727737, 2011.4980355961568, 1971.2457124825037, 1854.9612234875065, 17367.759303454754, 4978.988745141572, 2875.804862453205, 2783.0008952745047, 2144.5543258885095, 2221.7046118563444, 16933.928709896496, 5778.444606982178, 18175.042005900792, 6916.690855029364, 8191.347753628374, 8478.704615856395, 3206.768408054351, 49407.490381836, 6680.767516779898, 6608.089711158024, 3891.057900986451, 7783.233922059392, 7687.075594621222, 7770.934601107999, 6291.661726681254, 11235.988749141623, 6447.080418703414, 15218.732497220284, 6355.394571611204, 6316.26036858404, 2038.0741551209135, 4570.124131532919, 29245.177227558666, 2103.6361634387245, 6593.5033537550125, 2339.8854692735945, 1128.118694847849, 1427.6692500930194, 3187.6700595901143, 2148.851341588939, 3228.363719925307, 1235.504742954608, 2163.5462744877586, 2779.603076784429, 2627.0018505274556, 1263.7642292984922, 1702.3514573555717, 3360.6181160146843, 1611.921101055143, 6682.803330601687, 9395.71401961455, 3620.6053903784173, 1001.5161960272487, 2048.247570204712, 2008.6842893232742, 1320.28320198626, 60053.669239660994, 44513.212509432306, 27902.2864364973, 23269.991435007832, 38009.00913252397, 24132.470958223174, 7805.270128180759, 7277.382923277006, 4914.889864928304, 4729.507634512424, 4548.646921911568, 3755.1205453753046, 4084.0609664181147, 3130.0207074485907, 3846.681281129489, 2344.406987088616, 9153.812816510903, 25429.01619168057, 4344.048240781847, 12760.853653444256, 7947.697939353933, 6899.836185722715, 7686.580285536445, 16053.649002233617, 6240.824964183341, 4620.9912069519105, 6110.831327001474, 6514.376791992137, 9290.5887304153, 4278.486232464036, 8262.003070435389, 14749.696433608678, 19940.068430908763, 8569.492137891099, 1548.3106753511875, 13431.730925397458, 6912.528081813512, 4097.318987192511, 5547.841619889939, 1271.2445544988695, 4662.3165669697855, 6881.018601402856, 3469.302446593924, 1888.3957570248167, 1875.3573513376487, 4086.4536491198705, 917.0345333308086, 1095.2260777221031, 3260.6879555992373, 1303.8405687167894, 6157.387085765038, 12125.71728906614, 982.2265617666479, 1090.879942493047, 3410.629621001668, 1037.6397859371114, 2722.853721003562, 1086.533807263991, 4354.827499514076, 2060.068098572527, 185527.820657941, 28990.895045417812, 10517.647254315434, 10003.716763479566, 5685.831413412466, 5866.196025418289, 4996.968979607095, 3812.647129689345, 3650.7535924070103, 3624.676781032674, 3718.1186884573776, 2542.489108997739, 18724.237100580358, 4980.670972498135, 3910.435172343104, 10430.724549734316, 5271.862032844884, 6970.114373598503, 4581.91306523225, 4144.039940904862, 4773.813305535471, 1376.2244109715305, 15612.836221143363, 1769.1124828790557, 1292.5124638321429, 2239.0155461548175, 3773.734577043588, 2356.21227214996, 1165.270304180274, 983.3363390640051, 949.85156020825, 3079.4834954342678, 1139.5986403908619, 976.6393832928542, 1666.4258277214071, 1780.274075830974, 3095.109725566954, 2197.7176522327195, 5180.095288985299, 1200.9874016264125, 3581.755178270593, 2019.1321650020263, 1294.7447824225267, 2107.308749322181, 2694.4085385930857, 1263.4923221571553, 1949.9302887001327, 2945.5443800112475, 990.0332948351561, 1551.4614203166482, 49963.75468996722, 30153.043359607374, 17868.59415672606, 9698.308115921838, 6073.022725138764, 6041.770264873393, 9988.509532671716, 4198.991268511677, 4030.45121493771, 3240.210433941892, 3095.109725566954, 3057.1603095304313, 3099.574362747721, 2695.5246978882774, 3453.396859323532, 2564.9340603508326, 2543.7270337421883, 2887.5040966612723, 2406.439440433592, 2401.974803252825, 2566.0502196460247, 3140.872256669819, 6446.9360890280295, 12031.081042872771, 13631.653472177859, 8759.618148665508, 8334.36145719742, 26681.787951560775, 7993.93287216391, 4082.910701811726, 6234.8658229415805, 4095.188454058836, 5378.771643529445, 4505.935074689431, 3532.6441692821527, 4503.702756099047, 4532.722897774034, 4750.373960336443, 4220.198295120322, 3938.92615273198, 38947.69773191356, 2281.381315403975, 4993.690212606479, 2871.013684361041, 2087.4087977657628, 4184.736644728934, 3286.511634074712, 3855.2037880594708, 1296.0890951280555, 6912.475174016296, 1294.9869785505657, 33831.67257920571, 4240.944590180916, 12407.628429380653, 2074.183398835885, 2102.8384298506203, 6036.29249491187, 8210.76850229933, 3374.6809602738995, 54962.553719418465, 8305.550527963458, 1474.63198068141, 7480.0652114235645, 2348.6104266308553, 1605.7838534027012, 10942.91549789665, 2020.1796865388824, 1080.074245940046, 2414.7374212802465, 1393.0753539471616, 48353.16060421189, 18827.457493258986, 11245.99755670636, 6502.487807190074, 3725.1540319156693, 3899.2884511590646, 3646.90375491389, 3709.7243998308113, 3328.392064019326, 3017.59518916719, 2882.0348501359395, 2780.640125006874, 2599.8930062985396, 13064.4899095646, 2967.999943180147, 4078.933453289909, 7581.45993655263, 10784.210710738114, 3457.339703585638, 7140.613305556693, 4901.112420097332, 30800.851991108644, 7669.629262751818, 6694.256091673307, 5850.0347933160865, 4211.18744258869], \"Total\": [252197.0, 185531.0, 174668.0, 237717.0, 106735.0, 98752.0, 73589.0, 68147.0, 74149.0, 60054.0, 71926.0, 66662.0, 54962.0, 72766.0, 49967.0, 66382.0, 48354.0, 47539.0, 44514.0, 40692.0, 38947.0, 72103.0, 38016.0, 40184.0, 37789.0, 37344.0, 37172.0, 44151.0, 34901.0, 34151.0, 37789.33510103031, 6382.425673677887, 6355.341771684151, 2934.4366121675553, 17471.200163036647, 2881.310496718302, 1494.8230523466245, 1147.94076911915, 7005.355419533833, 1175.0246711128866, 4089.6692010542497, 1320.861066463777, 914.6025365577258, 2019.8340756098294, 19855.625227023702, 1195.8584418772998, 1713.57764537296, 2108.3776013585843, 6171.03415075718, 4922.06703400808, 26458.347553662163, 3893.8733975784357, 2361.5740149914186, 3190.8515451780195, 4171.254487966137, 2479.468906663142, 4148.61642158299, 960.7317804875544, 1816.518924742467, 74149.7446404984, 106735.39927204503, 9007.574716889274, 252197.09293793264, 42314.583951032386, 16058.232620494342, 7564.5327376265905, 7808.730652781545, 31829.04519602534, 7239.978132337579, 35250.95478103337, 11538.369409495856, 20899.641840354427, 14102.925068108116, 2474.059212187455, 12477.17901917184, 9009.670837288377, 9995.244220588154, 1017.0757288847018, 5047.125796213244, 3609.2687370156236, 4148.183863272008, 4286.569167091498, 1260.0938233969757, 3182.8619878482536, 1033.9519854480543, 3583.3918102851494, 2295.17089261592, 1821.510625071164, 1356.8510276935292, 2065.653803354328, 1818.1353737584934, 1685.3754887934551, 1935.1440859310699, 1005.8248911758002, 1600.9942059766934, 2164.661175192662, 4192.062130336725, 1258.9687396260856, 6100.204205766431, 15029.994095321606, 1719.1280019201597, 1810.2597873622624, 26753.251372823393, 6800.830758642387, 3631.7704124334264, 6003.229003577993, 3332.4210294493923, 3606.9533133970936, 2190.522531436554, 32981.02190185923, 2126.3333902070613, 21641.887048275956, 12828.286049985301, 2099.2492396551165, 13728.326346792928, 3759.9427732708396, 72766.43464862392, 12380.174275034326, 13940.416522512893, 28355.659007558275, 10903.211167811136, 15283.36631639473, 14742.3455851349, 30301.660019725903, 7205.886595098046, 17553.77740636221, 18605.662092976032, 20899.641840354427, 5160.069100996102, 12451.779914634531, 66662.00947206304, 25609.667971016308, 12450.486533415899, 34901.24842055336, 6777.842572155525, 17034.627272998696, 4835.4052601881685, 18947.989530210067, 1267.0014245590185, 3737.2628074812346, 952.7671789269934, 5214.499243352782, 1993.8777934587197, 3956.443989487914, 5380.00340119456, 7855.856140800621, 971.7777916520625, 2451.2507701971476, 1273.7110525796309, 979.605691009444, 1441.4517530949465, 21488.670269819213, 26667.416265424337, 47539.811304358496, 16721.505607230403, 7122.26984137975, 1504.043210424493, 1243.5209199924188, 1150.6246227365177, 4587.197455893447, 8671.074103312718, 1982.7087049592749, 3736.07991710735, 8697.872216555967, 2633.4428728149637, 1141.7119722031691, 15933.756533875136, 14317.731962631064, 3316.7732904788995, 4672.872355764176, 5603.601704455464, 44151.90405936841, 8817.083201687296, 23313.303244486575, 9461.423713294564, 21494.94297791046, 41653.20894533088, 8059.372066963921, 72103.3618795068, 18605.662092976032, 14615.328777822218, 10863.862729700277, 32094.14542325743, 30301.660019725903, 10958.500657064737, 11811.549692723986, 8919.057930862751, 37344.56030519868, 10365.30381179337, 4131.821565445224, 19507.52777372107, 21188.856318443406, 5614.900674804038, 14585.958457565417, 5768.733570004148, 5898.73319975072, 6996.146740861369, 3898.9055621492826, 1835.1614399224463, 4168.65479387342, 1217.6631986262275, 1695.4118379448812, 2331.3266934551975, 1738.7450478604053, 5251.9850417615235, 1938.0778134718162, 2020.410912311312, 1081.1635873923267, 1110.4135040853055, 1229.579831352997, 1574.0788501814136, 1414.8293037418623, 4192.488059326959, 2277.1601810607926, 2676.9090425315026, 29065.809768094634, 15755.98909356428, 7530.5080817812495, 5587.171171297769, 3268.517595346969, 2437.2849610132293, 40184.046691228985, 5614.451657149175, 26200.18643066234, 252197.09293793264, 42314.583951032386, 11538.369409495856, 25609.667971016308, 9177.019533953913, 72103.3618795068, 106735.39927204503, 16058.232620494342, 23598.509696461355, 74149.7446404984, 4243.933465954458, 6270.076590264222, 1877.6996149289498, 5104.684262886491, 1902.070937364606, 5316.271653123322, 969.3139605090448, 4626.120113240882, 6076.213798162413, 1321.5903484426178, 19331.997628392393, 8681.729724010725, 1096.7095096045193, 973.7451100428005, 21495.506388248577, 2442.6711804827933, 1045.7512899663298, 2844.798000671117, 2496.9527622713, 5437.020477918162, 3101.804673628944, 4342.526543080521, 1359.2551194795406, 2666.4442319374525, 2314.1678440038795, 1912.041023815556, 3403.1228419243266, 2067.1312574970034, 1290.5723017063283, 3115.0981222302103, 73589.5865014146, 68147.68309560468, 27766.699137807995, 16377.523005954874, 12525.652571142458, 9028.277369572017, 4437.818850126584, 4133.130270475016, 4229.61241304696, 3388.721605939621, 3385.3869021774062, 3148.3317437333776, 3207.0855074322644, 2977.7497830712373, 2794.9256477799295, 24596.267178657865, 7385.047476125829, 3597.4366994945317, 10578.916208429646, 6441.730503060616, 11368.794065019974, 3673.870509081463, 7743.4345650277555, 8461.087374166287, 5304.296758877526, 14975.844319786416, 4627.1461355008405, 37172.90616654788, 4320.058930490119, 3012.74482915876, 1708.720947881088, 9346.418432504897, 1231.6390400965736, 5063.648662623224, 1302.9271412597768, 1525.5653648925502, 1341.313041886117, 1278.7988608660773, 1080.2889176270035, 1193.2531394702335, 1732.8492282747873, 1262.347760597646, 3504.084357175915, 1112.0943781459712, 3260.6080732031282, 3235.3830527915334, 1277.702120848182, 1304.0238812776722, 2953.520868192407, 954.1638155690285, 1521.1784048209684, 1411.504403031425, 4501.021033442866, 1094.546537859644, 1206.4140196849787, 1912.7145912096387, 16643.048457145585, 16779.079341284996, 16817.508530795083, 15618.830902417792, 7600.188118096666, 4207.161987518609, 3206.8925371506707, 3169.645930589527, 2386.506278940467, 2813.18078665268, 2398.6376980090363, 2055.31217360464, 2025.7001931214634, 1950.0532014669202, 1699.9470277379244, 1663.754607147375, 4483.02440747498, 3183.486955226764, 2011.6670671087131, 20306.701348658105, 3602.7506106380465, 11665.964501683851, 23598.509696461355, 23241.421440233273, 32590.23596896133, 237717.51686507824, 9951.6401455697, 7145.419496071812, 6466.867759612689, 44151.90405936841, 8380.163223026933, 5174.048890654832, 4266.428228743521, 6312.958761829592, 10585.152193850845, 12087.047362171272, 2489.3411194913233, 14615.382039526929, 4952.984372847862, 2978.717874579833, 3887.081577518094, 40692.012375167855, 1923.9880645260587, 4454.669229538557, 9521.618052201551, 21481.18149162486, 1203.3305142244863, 8079.185653070807, 1613.3790738534428, 1627.9039547122343, 7511.598001050344, 2416.7167151973663, 3147.4299522473325, 5281.470139962067, 1559.7487445286747, 10969.636943970292, 5640.122967321454, 3823.395561444932, 4748.518742297183, 1129.5888114029299, 2459.174059246141, 992.1610925082114, 1556.3968489458769, 1165.3423642861087, 1601.0887900498503, 1251.3743509112576, 14203.037353402102, 12216.542100771152, 10545.056668088098, 10484.58139316989, 8512.698454588519, 5018.864043051466, 5045.682106061965, 2599.953673723657, 2996.618554137432, 2501.6291248301013, 2118.3961354009944, 8286.869238383551, 3916.033413130931, 6637.093832014258, 98752.71384264514, 33684.49803254243, 13131.10771761035, 17790.11700454199, 13986.621611978768, 6267.670005414654, 10549.76027565881, 66382.15199948644, 3185.858736279497, 1548.278229579419, 1630.8828359160284, 3183.6261793514805, 1598.5107604597895, 1136.3714763603812, 2343.068495953281, 2392.184748369643, 1033.6738576716236, 1026.9761868875742, 4432.741780576693, 1108.4645147601752, 1203.3481842008753, 6408.554661871266, 1406.5108646503736, 3575.4399202183704, 8561.855818943148, 3601.1143248905596, 1634.231671308053, 2255.998775760639, 10241.854907275538, 1463.4410663147933, 4330.044161887936, 1924.4640719501936, 972.278542151171, 1499.1619771630567, 1207.8132980569083, 4177.114012318808, 7838.507374265812, 995.7203898953437, 16666.055078256682, 12983.436656502241, 10620.234229682103, 7859.406396051901, 7854.102057852484, 6420.8347450389465, 4821.246609628273, 3871.245222099982, 3871.187816748312, 3766.3339103203884, 3948.1348014946943, 3131.1415530969807, 2810.7891723727307, 2814.133743445968, 2347.500661593194, 2221.3941433763835, 11608.61851198135, 6967.76146080809, 19073.475482921323, 7516.7354347334895, 32198.590467974806, 8817.026607933038, 5906.967328615814, 237717.51686507824, 11340.453362392542, 71926.69171939947, 8677.912342746986, 8380.978290342204, 5724.799213888079, 12450.486533415899, 2198.5038580941905, 2517.5155797658995, 2462.859725353614, 4098.0736553211855, 4567.667833026743, 1814.7974516079394, 9451.001110924442, 2499.668770161888, 4675.864116251064, 1786.911811601671, 1684.2926563786039, 1104.2713442482236, 9629.46920696456, 1240.353267478813, 1109.8484722494773, 2490.7453653598823, 2045.6905508598406, 4202.923661744754, 2969.2629478674457, 13920.511491129122, 1629.636801966318, 1132.1569842544918, 1794.7197908034261, 1406.5516819161717, 2067.999062864855, 945.8809090126198, 1094.232513845967, 978.2282514198911, 1335.164443500125, 3590.555007207103, 12163.491503267682, 7553.677971615212, 6508.510022293759, 6357.887990664166, 8415.857381866044, 5309.418218976667, 5427.574295441096, 4506.364286573466, 4164.996704612282, 4961.592516157307, 3771.2273364021994, 3097.504796543917, 2640.2141015209954, 2433.845350724334, 2240.8900309037185, 18687.203439772955, 66662.00947206304, 8640.26539394337, 12483.276300680529, 32094.14542325743, 17038.23649233812, 33333.86744636492, 8344.677090941022, 11078.76417133721, 8583.741985201075, 24524.063951991993, 5862.285587688453, 17769.1117748687, 7592.64725655808, 19186.855548377778, 174668.377763003, 23027.142124123333, 16303.574352164622, 6021.041139375844, 1764.9365401391615, 4107.410311972212, 16324.046754034367, 1202.4842361387693, 3673.179893366545, 1526.810181548957, 1308.078729993249, 8780.505412450566, 6402.474311054271, 1711.0617983766717, 1977.2030226833706, 3802.4792735965207, 1700.2868500241736, 3040.6904250749167, 1353.3335130737403, 9561.689168006664, 5701.025173306656, 1271.443905594756, 3041.7679199101663, 3429.666060600092, 1110.8971751425368, 2268.1266282008146, 1051.6349592037982, 3007.288085182173, 2591.3750787757526, 2156.0671653348363, 10839.59804261292, 8019.841647699851, 7932.534483346893, 7189.116428868729, 6916.498396343418, 6543.626134471994, 6721.430860232238, 5897.16789778206, 5579.2875021060745, 5283.045117243864, 4301.359382317175, 4916.868586972475, 3931.78769279851, 4278.884273437223, 3432.898545105841, 5929.027195255091, 3864.4915687076123, 18522.2185375249, 23313.303244486575, 5251.913331293908, 10958.500657064737, 5795.072728914224, 8263.571156556196, 996.080294291959, 2047.8075323991113, 3299.8637682409594, 3146.278203311026, 6360.445678076588, 1502.4674830102176, 4467.336649483714, 2301.5575961963923, 7303.104906305961, 8903.511010430919, 2412.851483826779, 1735.0717081577254, 1299.9126075229142, 8331.460428010732, 2718.909674810342, 2154.649664524283, 1699.4576641160018, 2063.3886766673654, 17773.633854572723, 2285.976451928139, 1976.579444315664, 1672.747131084709, 1016.1131940654286, 3745.0393187625054, 3068.3724819697554, 1584.8249598567036, 2214.748363844691, 1193.0704753977432, 14643.036530904357, 10713.11417925995, 8256.893523298373, 7728.247557054037, 9582.458432903108, 6111.136547485708, 5717.134609856137, 4703.279691260133, 4380.5274171320125, 3881.930800547881, 3870.8099377508524, 3670.442805421731, 3881.9460005211804, 3687.179855545522, 3158.5230176743153, 3280.9005181485377, 2881.3278626685983, 4538.639339285567, 2943.7268956334487, 3860.91449215277, 7749.811635465328, 14075.05593253984, 5359.510084768313, 3902.291947882337, 19186.855548377778, 24524.063951991993, 33333.86744636492, 6015.983196347239, 14615.328777822218, 10403.98808518113, 17438.808521782317, 5398.60212596087, 32590.23596896133, 15631.332194872832, 13986.621611978768, 237717.51686507824, 10585.152193850845, 4998.368802192008, 1701.2621657898308, 964.4597643897524, 3761.3930811200344, 4573.333626955128, 14500.540411115697, 1605.9376541931692, 6078.339445340068, 4899.6798960684055, 3465.326362749227, 1295.2918928722838, 1023.8974010323768, 1947.9844310988371, 4130.3550142412305, 1030.6261900862587, 1954.7132201527193, 1620.516697143247, 1306.5065412954204, 2060.1309153302036, 3518.035210337969, 1518.4633964927034, 1398.4666583651413, 965.5812292320661, 1018.2900768208084, 985.7675963937121, 1733.784646216927, 1372.6729669919268, 27193.119943813577, 13608.962184017457, 6185.912130188051, 21630.595814334323, 15436.899887882146, 6467.419089734193, 4313.103230943351, 14030.93812914792, 2628.3892987885547, 1991.6775899420063, 2772.1726370337383, 1584.6050973647912, 1511.709882614403, 1592.4630241533855, 1749.4434908621752, 2016.6746072920646, 1753.8591100262765, 71926.69171939947, 9257.642624303844, 18818.77384475487, 9914.840481559253, 4691.016084891787, 237717.51686507824, 10212.623787085486, 41653.20894533088, 10908.246360012508, 3426.942430200011, 5042.769466812719, 5446.861424900457, 9557.960074588735, 5864.528857985412, 13308.208588455635, 17438.808521782317, 13147.515844930309, 32198.590467974806, 32094.14542325743, 6574.546108563314, 34151.85992176154, 8058.291463336021, 4383.0307390422095, 9912.134566737037, 983.9456761115164, 3860.8686586512113, 3609.2916391908807, 1435.6661910536216, 8491.00393680779, 6807.115086553309, 1695.070051119385, 2163.5623673588457, 4266.746250047212, 2303.3273781701405, 1920.9303085904378, 1377.523946556123, 992.8906368034393, 1204.2153331501172, 16113.22856641257, 1868.3786645253906, 1013.0167983602657, 18536.18443141681, 15362.99450711207, 27212.6637122327, 2247.421525095901, 8791.778845074812, 2012.6058229795958, 1972.3478290599935, 1856.0477572947705, 17511.66054674133, 4990.072632985114, 2878.0374193812213, 2789.6476195751384, 2146.8044934302898, 2230.633886217879, 17474.350500634413, 5970.444502791594, 19803.408956940235, 7319.137180811784, 8911.99391160587, 9263.970468669526, 3303.5940902927873, 66382.15199948644, 7654.19899990816, 7828.030405516945, 4416.412568416773, 10982.396283525983, 11001.4454600201, 11956.011453248742, 9165.01707918692, 33684.49803254243, 11294.678995819539, 72766.43464862392, 14975.844319786416, 23241.421440233273, 2038.0741551209135, 4570.124131532919, 29245.177227558666, 2103.6361634387245, 6593.5033537550125, 2339.8854692735945, 1128.118694847849, 1427.6692500930194, 3187.6700595901143, 2148.851341588939, 3228.363719925307, 1235.504742954608, 2163.5462744877586, 2779.603076784429, 2627.0018505274556, 1263.7642292984922, 1702.3514573555717, 3360.6181160146843, 1611.921101055143, 6682.803330601687, 9395.71401961455, 3620.6053903784173, 1001.5161960272487, 2048.247570204712, 2008.6842893232742, 1320.28320198626, 60054.78735974748, 44514.329807959904, 27903.40259579249, 23272.11645379394, 38016.83657813052, 24340.590528091998, 7807.513057865386, 7280.731758669031, 4917.122183518687, 4731.733512265032, 4549.749038489058, 3758.4749056347755, 4091.7614619066417, 3133.3440695989075, 3865.6012420266547, 2348.880072435691, 9444.01423326078, 35250.95478103337, 4949.504924222294, 18522.2185375249, 10398.374410137561, 9135.73038821718, 10584.792482955847, 31829.04519602534, 8419.5679083978, 5562.952323173933, 9906.294425256423, 16253.104112803336, 72103.3618795068, 30301.660019725903, 8262.003070435389, 14749.696433608678, 19940.068430908763, 8569.492137891099, 1548.3106753511875, 13431.730925397458, 6912.528081813512, 4097.318987192511, 5547.841619889939, 1271.2445544988695, 4662.3165669697855, 6881.018601402856, 3469.302446593924, 1888.3957570248167, 1875.3573513376487, 4086.4536491198705, 917.0345333308086, 1095.2260777221031, 3260.6879555992373, 1303.8405687167894, 6157.387085765038, 12125.71728906614, 982.2265617666479, 1090.879942493047, 3410.629621001668, 1037.6397859371114, 2722.853721003562, 1086.533807263991, 4354.827499514076, 2060.068098572527, 185531.1725535238, 28994.145036161477, 10531.041165857736, 10022.727376204635, 5688.063732002849, 5870.669110765364, 4999.201536535112, 3813.765401026114, 3651.875057249324, 3625.795052369443, 3724.7757454610623, 2542.489108997739, 19297.367221068238, 5022.044760454101, 4001.701133647915, 17769.1117748687, 7569.274287695703, 17553.77740636221, 13308.208588455635, 8461.087374166287, 4773.813305535471, 1376.2244109715305, 15612.836221143363, 1769.1124828790557, 1292.5124638321429, 2239.0155461548175, 3773.734577043588, 2356.21227214996, 1165.270304180274, 983.3363390640051, 949.85156020825, 3079.4834954342678, 1139.5986403908619, 976.6393832928542, 1666.4258277214071, 1780.274075830974, 3095.109725566954, 2197.7176522327195, 5180.095288985299, 1200.9874016264125, 3581.755178270593, 2019.1321650020263, 1294.7447824225267, 2107.308749322181, 2694.4085385930857, 1263.4923221571553, 1949.9302887001327, 2945.5443800112475, 990.0332948351561, 1551.4614203166482, 49967.100966767975, 30157.427204175092, 17869.707095602364, 9701.627686342707, 6076.344256821343, 6051.896018811404, 10072.16929842704, 4198.991268511677, 4036.076633792161, 3242.4363116944996, 3096.226004030962, 3058.237804365681, 3101.789937514599, 2695.5246978882774, 3463.3748959553654, 2564.9340603508326, 2543.7270337421883, 2891.955048630787, 2406.439440433592, 2401.974803252825, 2568.2544528010044, 3152.995539022207, 6577.01147166509, 12830.115561552908, 16363.531793786478, 10440.492396399728, 13147.515844930309, 72103.3618795068, 13843.967665479997, 5090.120384866724, 10848.647038432387, 5222.17676945293, 9386.02235751188, 7758.502815997802, 4607.0074882186445, 10310.509075945578, 10908.246360012508, 32198.590467974806, 16253.104112803336, 10403.98808518113, 38947.69773191356, 2281.381315403975, 4993.690212606479, 2871.013684361041, 2087.4087977657628, 4184.736644728934, 3286.511634074712, 3855.2037880594708, 1296.0890951280555, 6912.475174016296, 1294.9869785505657, 33831.67257920571, 4240.944590180916, 12407.628429380653, 2074.183398835885, 2102.8384298506203, 6036.29249491187, 8210.76850229933, 3374.6809602738995, 54962.553719418465, 8305.550527963458, 1474.63198068141, 7480.0652114235645, 2348.6104266308553, 1605.7838534027012, 10942.91549789665, 2020.1796865388824, 1080.074245940046, 2414.7374212802465, 1393.0753539471616, 48354.2768826759, 18835.098160944883, 11247.11567679285, 6503.612890960964, 3725.1540319156693, 3901.5249938326024, 3646.90375491389, 3710.845864673125, 3328.392064019326, 3017.59518916719, 2884.2283301717302, 2781.756403470882, 2599.8930062985396, 13286.599579245494, 2979.128355131735, 4224.151744318754, 8439.995158717784, 13010.374489731978, 3599.0877862464017, 10121.524660172317, 5969.987296665126, 98752.71384264514, 13322.186777788465, 17790.11700454199, 13843.967665479997, 5741.478397506504], \"Category\": [\"Default\", \"Default\", \"Default\", \"Default\", \"Default\", \"Default\", \"Default\", \"Default\", \"Default\", \"Default\", \"Default\", \"Default\", \"Default\", \"Default\", \"Default\", \"Default\", \"Default\", \"Default\", \"Default\", \"Default\", \"Default\", \"Default\", \"Default\", \"Default\", \"Default\", \"Default\", \"Default\", \"Default\", \"Default\", \"Default\", \"Topic1\", \"Topic1\", \"Topic1\", \"Topic1\", \"Topic1\", \"Topic1\", \"Topic1\", \"Topic1\", \"Topic1\", \"Topic1\", \"Topic1\", \"Topic1\", \"Topic1\", \"Topic1\", \"Topic1\", \"Topic1\", \"Topic1\", \"Topic1\", \"Topic1\", \"Topic1\", \"Topic1\", \"Topic1\", \"Topic1\", \"Topic1\", \"Topic1\", \"Topic1\", \"Topic1\", \"Topic1\", \"Topic1\", \"Topic1\", \"Topic1\", \"Topic1\", \"Topic1\", \"Topic1\", \"Topic1\", \"Topic1\", \"Topic1\", \"Topic1\", \"Topic1\", \"Topic1\", \"Topic1\", \"Topic1\", \"Topic2\", \"Topic2\", \"Topic2\", \"Topic2\", \"Topic2\", \"Topic2\", \"Topic2\", \"Topic2\", \"Topic2\", \"Topic2\", \"Topic2\", \"Topic2\", \"Topic2\", \"Topic2\", \"Topic2\", \"Topic2\", \"Topic2\", \"Topic2\", \"Topic2\", \"Topic2\", \"Topic2\", \"Topic2\", \"Topic2\", \"Topic2\", \"Topic2\", \"Topic2\", \"Topic2\", \"Topic2\", \"Topic2\", \"Topic2\", \"Topic2\", \"Topic2\", \"Topic2\", \"Topic2\", \"Topic2\", \"Topic2\", \"Topic2\", \"Topic2\", \"Topic2\", \"Topic2\", \"Topic2\", \"Topic2\", \"Topic2\", \"Topic2\", \"Topic2\", \"Topic2\", \"Topic2\", \"Topic2\", \"Topic2\", \"Topic2\", \"Topic2\", \"Topic2\", \"Topic2\", \"Topic2\", \"Topic2\", \"Topic2\", \"Topic2\", \"Topic2\", \"Topic2\", \"Topic2\", \"Topic2\", \"Topic3\", \"Topic3\", \"Topic3\", \"Topic3\", \"Topic3\", \"Topic3\", \"Topic3\", \"Topic3\", \"Topic3\", \"Topic3\", \"Topic3\", \"Topic3\", \"Topic3\", \"Topic3\", \"Topic3\", \"Topic3\", \"Topic3\", \"Topic3\", \"Topic3\", \"Topic3\", \"Topic3\", \"Topic3\", \"Topic3\", \"Topic3\", \"Topic3\", \"Topic3\", \"Topic3\", \"Topic3\", \"Topic3\", \"Topic3\", \"Topic3\", \"Topic3\", \"Topic3\", \"Topic3\", \"Topic3\", \"Topic3\", \"Topic3\", \"Topic3\", \"Topic3\", \"Topic3\", \"Topic3\", \"Topic3\", \"Topic3\", \"Topic3\", \"Topic3\", \"Topic3\", \"Topic3\", \"Topic3\", \"Topic3\", \"Topic3\", \"Topic3\", \"Topic3\", \"Topic4\", \"Topic4\", \"Topic4\", \"Topic4\", \"Topic4\", \"Topic4\", \"Topic4\", \"Topic4\", \"Topic4\", \"Topic4\", \"Topic4\", \"Topic4\", \"Topic4\", \"Topic4\", \"Topic4\", \"Topic4\", \"Topic4\", \"Topic4\", \"Topic4\", \"Topic4\", \"Topic4\", \"Topic4\", \"Topic4\", \"Topic4\", \"Topic4\", \"Topic4\", \"Topic4\", \"Topic4\", \"Topic4\", \"Topic4\", \"Topic4\", \"Topic4\", \"Topic4\", \"Topic4\", \"Topic4\", \"Topic4\", \"Topic4\", \"Topic4\", \"Topic4\", \"Topic4\", \"Topic4\", \"Topic4\", \"Topic4\", \"Topic4\", \"Topic4\", \"Topic4\", \"Topic4\", \"Topic4\", \"Topic4\", \"Topic5\", \"Topic5\", \"Topic5\", \"Topic5\", \"Topic5\", \"Topic5\", \"Topic5\", \"Topic5\", \"Topic5\", \"Topic5\", \"Topic5\", \"Topic5\", \"Topic5\", \"Topic5\", \"Topic5\", \"Topic5\", \"Topic5\", \"Topic5\", \"Topic5\", \"Topic5\", \"Topic5\", \"Topic5\", \"Topic5\", \"Topic5\", \"Topic5\", \"Topic5\", \"Topic5\", \"Topic5\", \"Topic5\", \"Topic5\", \"Topic5\", \"Topic5\", \"Topic5\", \"Topic5\", \"Topic5\", \"Topic5\", \"Topic5\", \"Topic5\", \"Topic5\", \"Topic5\", \"Topic5\", \"Topic5\", \"Topic5\", \"Topic5\", \"Topic5\", \"Topic5\", \"Topic5\", \"Topic5\", \"Topic5\", \"Topic5\", \"Topic5\", \"Topic5\", \"Topic5\", \"Topic5\", \"Topic5\", \"Topic5\", \"Topic6\", \"Topic6\", \"Topic6\", \"Topic6\", \"Topic6\", \"Topic6\", \"Topic6\", \"Topic6\", \"Topic6\", \"Topic6\", \"Topic6\", \"Topic6\", \"Topic6\", \"Topic6\", \"Topic6\", \"Topic6\", \"Topic6\", \"Topic6\", \"Topic6\", \"Topic6\", \"Topic6\", \"Topic6\", \"Topic6\", \"Topic6\", \"Topic6\", \"Topic6\", \"Topic6\", \"Topic6\", \"Topic6\", \"Topic6\", \"Topic6\", \"Topic6\", \"Topic6\", \"Topic6\", \"Topic6\", \"Topic6\", \"Topic6\", \"Topic6\", \"Topic6\", \"Topic6\", \"Topic6\", \"Topic6\", \"Topic6\", \"Topic6\", \"Topic6\", \"Topic6\", \"Topic6\", \"Topic6\", \"Topic6\", \"Topic6\", \"Topic6\", \"Topic6\", \"Topic6\", \"Topic6\", \"Topic6\", \"Topic6\", \"Topic6\", \"Topic6\", \"Topic6\", \"Topic6\", \"Topic6\", \"Topic6\", \"Topic6\", \"Topic6\", \"Topic6\", \"Topic6\", \"Topic7\", \"Topic7\", \"Topic7\", \"Topic7\", \"Topic7\", \"Topic7\", \"Topic7\", \"Topic7\", \"Topic7\", \"Topic7\", \"Topic7\", \"Topic7\", \"Topic7\", \"Topic7\", \"Topic7\", \"Topic7\", \"Topic7\", \"Topic7\", \"Topic7\", \"Topic7\", \"Topic7\", \"Topic7\", \"Topic7\", \"Topic7\", \"Topic7\", \"Topic7\", \"Topic7\", \"Topic7\", \"Topic7\", \"Topic7\", \"Topic7\", \"Topic7\", \"Topic7\", \"Topic7\", \"Topic7\", \"Topic7\", \"Topic7\", \"Topic7\", \"Topic7\", \"Topic7\", \"Topic7\", \"Topic7\", \"Topic7\", \"Topic7\", \"Topic7\", \"Topic7\", \"Topic7\", \"Topic7\", \"Topic7\", \"Topic7\", \"Topic7\", \"Topic7\", \"Topic8\", \"Topic8\", \"Topic8\", \"Topic8\", \"Topic8\", \"Topic8\", \"Topic8\", \"Topic8\", \"Topic8\", \"Topic8\", \"Topic8\", \"Topic8\", \"Topic8\", \"Topic8\", \"Topic8\", \"Topic8\", \"Topic8\", \"Topic8\", \"Topic8\", \"Topic8\", \"Topic8\", \"Topic8\", \"Topic8\", \"Topic8\", \"Topic8\", \"Topic8\", \"Topic8\", \"Topic8\", \"Topic8\", \"Topic8\", \"Topic8\", \"Topic8\", \"Topic8\", \"Topic8\", \"Topic8\", \"Topic8\", \"Topic8\", \"Topic8\", \"Topic8\", \"Topic8\", \"Topic8\", \"Topic8\", \"Topic8\", \"Topic8\", \"Topic8\", \"Topic8\", \"Topic8\", \"Topic8\", \"Topic8\", \"Topic8\", \"Topic8\", \"Topic8\", \"Topic8\", \"Topic8\", \"Topic8\", \"Topic8\", \"Topic8\", \"Topic8\", \"Topic8\", \"Topic8\", \"Topic9\", \"Topic9\", \"Topic9\", \"Topic9\", \"Topic9\", \"Topic9\", \"Topic9\", \"Topic9\", \"Topic9\", \"Topic9\", \"Topic9\", \"Topic9\", \"Topic9\", \"Topic9\", \"Topic9\", \"Topic9\", \"Topic9\", \"Topic9\", \"Topic9\", \"Topic9\", \"Topic9\", \"Topic9\", \"Topic9\", \"Topic9\", \"Topic9\", \"Topic9\", \"Topic9\", \"Topic9\", \"Topic9\", \"Topic9\", \"Topic9\", \"Topic9\", \"Topic9\", \"Topic9\", \"Topic9\", \"Topic9\", \"Topic9\", \"Topic9\", \"Topic9\", \"Topic9\", \"Topic9\", \"Topic9\", \"Topic9\", \"Topic9\", \"Topic9\", \"Topic9\", \"Topic9\", \"Topic9\", \"Topic9\", \"Topic9\", \"Topic9\", \"Topic9\", \"Topic9\", \"Topic9\", \"Topic9\", \"Topic9\", \"Topic9\", \"Topic9\", \"Topic9\", \"Topic9\", \"Topic10\", \"Topic10\", \"Topic10\", \"Topic10\", \"Topic10\", \"Topic10\", \"Topic10\", \"Topic10\", \"Topic10\", \"Topic10\", \"Topic10\", \"Topic10\", \"Topic10\", \"Topic10\", \"Topic10\", \"Topic10\", \"Topic10\", \"Topic10\", \"Topic10\", \"Topic10\", \"Topic10\", \"Topic10\", \"Topic10\", \"Topic10\", \"Topic10\", \"Topic10\", \"Topic10\", \"Topic10\", \"Topic10\", \"Topic10\", \"Topic10\", \"Topic10\", \"Topic10\", \"Topic10\", \"Topic10\", \"Topic10\", \"Topic10\", \"Topic10\", \"Topic10\", \"Topic10\", \"Topic10\", \"Topic10\", \"Topic10\", \"Topic10\", \"Topic10\", \"Topic10\", \"Topic10\", \"Topic10\", \"Topic10\", \"Topic10\", \"Topic10\", \"Topic11\", \"Topic11\", \"Topic11\", \"Topic11\", \"Topic11\", \"Topic11\", \"Topic11\", \"Topic11\", \"Topic11\", \"Topic11\", \"Topic11\", \"Topic11\", \"Topic11\", \"Topic11\", \"Topic11\", \"Topic11\", \"Topic11\", \"Topic11\", \"Topic11\", \"Topic11\", \"Topic11\", \"Topic11\", \"Topic11\", \"Topic11\", \"Topic11\", \"Topic11\", \"Topic11\", \"Topic11\", \"Topic11\", \"Topic11\", \"Topic11\", \"Topic11\", \"Topic11\", \"Topic11\", \"Topic11\", \"Topic11\", \"Topic11\", \"Topic11\", \"Topic11\", \"Topic11\", \"Topic11\", \"Topic11\", \"Topic11\", \"Topic11\", \"Topic11\", \"Topic11\", \"Topic11\", \"Topic11\", \"Topic11\", \"Topic11\", \"Topic11\", \"Topic11\", \"Topic11\", \"Topic11\", \"Topic11\", \"Topic11\", \"Topic11\", \"Topic11\", \"Topic11\", \"Topic11\", \"Topic11\", \"Topic11\", \"Topic11\", \"Topic11\", \"Topic11\", \"Topic11\", \"Topic11\", \"Topic12\", \"Topic12\", \"Topic12\", \"Topic12\", \"Topic12\", \"Topic12\", \"Topic12\", \"Topic12\", \"Topic12\", \"Topic12\", \"Topic12\", \"Topic12\", \"Topic12\", \"Topic12\", \"Topic12\", \"Topic12\", \"Topic12\", \"Topic12\", \"Topic12\", \"Topic12\", \"Topic12\", \"Topic12\", \"Topic12\", \"Topic12\", \"Topic12\", \"Topic12\", \"Topic12\", \"Topic12\", \"Topic12\", \"Topic12\", \"Topic12\", \"Topic12\", \"Topic12\", \"Topic12\", \"Topic12\", \"Topic12\", \"Topic12\", \"Topic12\", \"Topic12\", \"Topic12\", \"Topic12\", \"Topic12\", \"Topic12\", \"Topic12\", \"Topic12\", \"Topic12\", \"Topic12\", \"Topic12\", \"Topic12\", \"Topic12\", \"Topic12\", \"Topic12\", \"Topic12\", \"Topic12\", \"Topic12\", \"Topic12\", \"Topic12\", \"Topic12\", \"Topic12\", \"Topic12\", \"Topic12\", \"Topic12\", \"Topic12\", \"Topic13\", \"Topic13\", \"Topic13\", \"Topic13\", \"Topic13\", \"Topic13\", \"Topic13\", \"Topic13\", \"Topic13\", \"Topic13\", \"Topic13\", \"Topic13\", \"Topic13\", \"Topic13\", \"Topic13\", \"Topic13\", \"Topic13\", \"Topic13\", \"Topic13\", \"Topic13\", \"Topic13\", \"Topic13\", \"Topic13\", \"Topic13\", \"Topic13\", \"Topic13\", \"Topic13\", \"Topic13\", \"Topic13\", \"Topic13\", \"Topic13\", \"Topic13\", \"Topic13\", \"Topic13\", \"Topic13\", \"Topic13\", \"Topic13\", \"Topic13\", \"Topic13\", \"Topic13\", \"Topic13\", \"Topic13\", \"Topic13\", \"Topic13\", \"Topic13\", \"Topic13\", \"Topic13\", \"Topic13\", \"Topic13\", \"Topic13\", \"Topic13\", \"Topic13\", \"Topic13\", \"Topic13\", \"Topic13\", \"Topic13\", \"Topic14\", \"Topic14\", \"Topic14\", \"Topic14\", \"Topic14\", \"Topic14\", \"Topic14\", \"Topic14\", \"Topic14\", \"Topic14\", \"Topic14\", \"Topic14\", \"Topic14\", \"Topic14\", \"Topic14\", \"Topic14\", \"Topic14\", \"Topic14\", \"Topic14\", \"Topic14\", \"Topic14\", \"Topic14\", \"Topic14\", \"Topic14\", \"Topic14\", \"Topic14\", \"Topic14\", \"Topic14\", \"Topic14\", \"Topic14\", \"Topic14\", \"Topic14\", \"Topic14\", \"Topic14\", \"Topic14\", \"Topic14\", \"Topic14\", \"Topic14\", \"Topic14\", \"Topic14\", \"Topic14\", \"Topic14\", \"Topic14\", \"Topic14\", \"Topic14\", \"Topic14\", \"Topic14\", \"Topic14\", \"Topic14\", \"Topic14\", \"Topic14\", \"Topic14\", \"Topic14\", \"Topic14\", \"Topic14\", \"Topic14\", \"Topic15\", \"Topic15\", \"Topic15\", \"Topic15\", \"Topic15\", \"Topic15\", \"Topic15\", \"Topic15\", \"Topic15\", \"Topic15\", \"Topic15\", \"Topic15\", \"Topic15\", \"Topic15\", \"Topic15\", \"Topic15\", \"Topic15\", \"Topic15\", \"Topic15\", \"Topic15\", \"Topic15\", \"Topic15\", \"Topic15\", \"Topic15\", \"Topic15\", \"Topic15\", \"Topic15\", \"Topic15\", \"Topic15\", \"Topic15\", \"Topic15\", \"Topic15\", \"Topic15\", \"Topic15\", \"Topic15\", \"Topic15\", \"Topic15\", \"Topic15\", \"Topic15\", \"Topic15\", \"Topic15\", \"Topic15\", \"Topic15\", \"Topic15\", \"Topic15\", \"Topic15\", \"Topic15\", \"Topic15\", \"Topic15\", \"Topic15\", \"Topic16\", \"Topic16\", \"Topic16\", \"Topic16\", \"Topic16\", \"Topic16\", \"Topic16\", \"Topic16\", \"Topic16\", \"Topic16\", \"Topic16\", \"Topic16\", \"Topic16\", \"Topic16\", \"Topic16\", \"Topic16\", \"Topic16\", \"Topic16\", \"Topic16\", \"Topic16\", \"Topic16\", \"Topic16\", \"Topic16\", \"Topic16\", \"Topic16\", \"Topic16\", \"Topic16\", \"Topic16\", \"Topic16\", \"Topic16\", \"Topic16\", \"Topic16\", \"Topic16\", \"Topic16\", \"Topic16\", \"Topic16\", \"Topic16\", \"Topic16\", \"Topic16\", \"Topic16\", \"Topic16\", \"Topic16\", \"Topic16\", \"Topic16\", \"Topic16\", \"Topic16\", \"Topic16\", \"Topic16\", \"Topic16\", \"Topic16\", \"Topic16\", \"Topic16\", \"Topic16\", \"Topic16\", \"Topic16\", \"Topic16\", \"Topic16\", \"Topic16\", \"Topic16\", \"Topic16\", \"Topic16\", \"Topic16\", \"Topic16\", \"Topic16\", \"Topic16\", \"Topic16\", \"Topic16\", \"Topic16\", \"Topic16\", \"Topic16\", \"Topic17\", \"Topic17\", \"Topic17\", \"Topic17\", \"Topic17\", \"Topic17\", \"Topic17\", \"Topic17\", \"Topic17\", \"Topic17\", \"Topic17\", \"Topic17\", \"Topic17\", \"Topic17\", \"Topic17\", \"Topic17\", \"Topic17\", \"Topic17\", \"Topic17\", \"Topic17\", \"Topic17\", \"Topic17\", \"Topic17\", \"Topic17\", \"Topic17\", \"Topic17\", \"Topic17\", \"Topic17\", \"Topic17\", \"Topic17\", \"Topic17\", \"Topic17\", \"Topic17\", \"Topic17\", \"Topic17\", \"Topic17\", \"Topic17\", \"Topic17\", \"Topic17\", \"Topic17\", \"Topic17\", \"Topic17\", \"Topic17\", \"Topic17\", \"Topic17\", \"Topic17\", \"Topic17\", \"Topic17\", \"Topic17\", \"Topic17\", \"Topic17\", \"Topic17\", \"Topic17\", \"Topic17\", \"Topic17\", \"Topic17\"], \"logprob\": [30.0, 29.0, 28.0, 27.0, 26.0, 25.0, 24.0, 23.0, 22.0, 21.0, 20.0, 19.0, 18.0, 17.0, 16.0, 15.0, 14.0, 13.0, 12.0, 11.0, 10.0, 9.0, 8.0, 7.0, 6.0, 5.0, 4.0, 3.0, 2.0, 1.0, -2.7468, -4.5252, -4.5295, -5.3023, -3.5182, -5.3205, -5.9768, -6.2408, -4.4321, -6.2175, -4.9703, -6.1005, -6.4681, -5.6758, -3.3903, -6.1999, -5.8402, -5.6329, -4.5591, -4.7853, -3.1035, -5.0197, -5.5199, -5.2192, -4.9516, -5.4721, -4.9582, -6.4235, -5.7904, -2.1586, -1.9313, -4.337, -1.359, -3.2628, -4.0601, -4.7166, -4.6991, -3.6825, -4.9301, -4.2788, -4.8444, -5.0493, -3.7274, -5.4679, -3.8499, -4.1755, -4.0717, -6.3569, -4.755, -5.0903, -4.9511, -4.9183, -6.1426, -5.216, -6.3404, -5.0975, -5.543, -5.7741, -6.0686, -5.6483, -5.776, -5.8518, -5.7136, -6.368, -5.9032, -5.6015, -4.9406, -6.1435, -4.5655, -3.6637, -5.832, -5.7803, -3.0873, -4.4582, -5.0841, -4.5875, -5.1707, -5.0934, -5.5907, -2.9578, -5.6252, -3.3829, -3.9144, -5.6391, -3.8964, -5.1025, -2.3828, -4.0502, -3.9513, -3.3286, -4.1884, -3.936, -4.0527, -3.5101, -4.6304, -4.0145, -4.0396, -3.9831, -4.8651, -4.3719, -3.9065, -4.6011, -4.8374, -2.8166, -4.4555, -3.5339, -4.7932, -3.4275, -6.1325, -5.0508, -6.4176, -4.7177, -5.6791, -4.9938, -4.6865, -4.3079, -6.3978, -5.4726, -6.1272, -6.3898, -6.0035, -3.3017, -3.0858, -2.5077, -3.5526, -4.4063, -5.9617, -6.1521, -6.2298, -4.8469, -4.2102, -5.6858, -5.0523, -4.2087, -5.4025, -6.2386, -3.6935, -3.8174, -5.2182, -4.8951, -4.7363, -2.9006, -4.3691, -3.5047, -4.4146, -3.8913, -3.4886, -4.6266, -3.4681, -4.255, -4.4502, -4.5797, -4.2035, -4.2294, -4.7173, -3.8997, -4.1806, -2.7486, -4.0303, -4.9501, -3.398, -3.3153, -4.6434, -3.6887, -4.6163, -4.594, -4.4234, -5.0081, -5.7616, -4.9412, -6.1718, -5.8409, -5.5223, -5.8156, -4.7102, -5.7071, -5.6655, -6.2907, -6.264, -6.1621, -5.9151, -6.0218, -4.9355, -5.5459, -5.3841, -2.9993, -3.6116, -4.351, -4.6544, -5.1855, -5.4809, -2.7138, -4.7156, -3.3201, -1.7555, -3.3851, -4.4373, -3.9168, -4.6731, -3.4894, -3.309, -4.595, -4.549, -4.5597, -4.9229, -4.5326, -5.7383, -4.7382, -5.7254, -4.6976, -6.3995, -4.8367, -4.564, -6.0895, -3.4066, -4.2072, -6.2761, -6.395, -3.3005, -5.4753, -6.3236, -5.3229, -5.4533, -4.6752, -5.2364, -4.8999, -6.0614, -5.3876, -5.5293, -5.7202, -5.1437, -5.6422, -6.1133, -5.2321, -2.0705, -2.1468, -3.0446, -3.5725, -3.8424, -4.1685, -4.8785, -4.9496, -4.9281, -5.1479, -5.1496, -5.2215, -5.2041, -5.2776, -5.3414, -3.2204, -4.4267, -5.1101, -4.1842, -4.7715, -4.4668, -5.1561, -4.9218, -4.9058, -5.1148, -5.1385, -4.8355, -2.7518, -4.9042, -5.2646, -5.8317, -4.1324, -6.1591, -4.7453, -6.1028, -5.9451, -6.0738, -6.1215, -6.2902, -6.1907, -5.8177, -6.1345, -5.1135, -6.2612, -5.1855, -5.1933, -6.1224, -6.102, -5.2844, -6.4143, -5.9479, -6.0228, -4.8631, -6.2771, -6.1798, -5.7189, -3.5555, -3.5475, -3.5453, -3.6195, -4.3398, -4.9312, -5.2025, -5.2145, -5.4976, -5.3355, -5.4935, -5.6475, -5.6621, -5.7007, -5.8368, -5.8584, -4.8771, -5.2236, -5.6735, -3.4559, -5.1173, -4.11, -3.5151, -3.5392, -3.4391, -1.9607, -4.4837, -4.7951, -4.8744, -3.8776, -4.7708, -5.0062, -5.1126, -5.0833, -5.0327, -5.1126, -5.4544, -3.6844, -4.7665, -5.275, -5.0088, -2.6604, -5.712, -4.8725, -4.1129, -3.2993, -6.1814, -4.2772, -5.8881, -5.8792, -4.35, -5.484, -5.2199, -4.7022, -5.9219, -3.9713, -4.6365, -5.0253, -4.8086, -6.2446, -5.4666, -6.3743, -5.9241, -6.2134, -5.8958, -6.1422, -3.7131, -3.8637, -4.0114, -4.0177, -4.225, -4.7537, -4.7488, -5.411, -5.2705, -5.4504, -5.6163, -4.2734, -5.0291, -4.5552, -2.1476, -3.2558, -4.1736, -3.96, -4.2785, -4.7939, -4.5822, -3.8343, -5.2075, -5.9291, -5.8771, -5.2082, -5.8971, -6.2384, -5.5147, -5.494, -6.3331, -6.3396, -4.8772, -6.2632, -6.1811, -4.5086, -6.0251, -5.0921, -4.2189, -5.085, -5.875, -5.5526, -4.0397, -5.9854, -4.9006, -5.7116, -6.3943, -5.9613, -6.1774, -4.9366, -4.3072, -6.3705, -3.553, -3.8026, -4.0037, -4.3056, -4.3066, -4.5068, -4.7948, -5.0129, -5.0132, -5.0407, -4.9955, -5.2252, -5.3327, -5.3335, -5.5133, -5.5681, -3.9734, -4.4992, -3.5753, -4.4494, -3.2285, -4.453, -4.8058, -2.3909, -4.3926, -3.2591, -4.6024, -4.6627, -4.8759, -4.5995, -5.5777, -5.4422, -5.4642, -4.955, -4.8465, -5.7695, -4.1194, -5.4493, -4.8231, -5.785, -5.8441, -6.2663, -4.1007, -6.1501, -6.2613, -5.4529, -5.6497, -4.9297, -5.2772, -3.7321, -5.8771, -6.2414, -5.7806, -6.0243, -5.6389, -6.4211, -6.2754, -6.3875, -6.0764, -5.0872, -3.8677, -4.3437, -4.4927, -4.516, -4.2388, -4.6962, -4.6746, -4.8607, -4.939, -4.7665, -5.0387, -5.2352, -5.3955, -5.4765, -5.5586, -3.4618, -2.3605, -4.3556, -4.0802, -3.4102, -3.9279, -3.4436, -4.5274, -4.3249, -4.5634, -3.9071, -4.8632, -4.3728, -4.7667, -4.5065, -1.2019, -3.2281, -3.5734, -4.5695, -5.7967, -4.952, -3.5721, -6.1804, -5.0637, -5.9416, -6.0962, -4.1922, -4.5081, -5.8277, -5.6831, -5.0291, -5.834, -5.2527, -6.0622, -4.107, -4.6241, -6.1246, -5.2523, -5.1323, -6.2596, -5.5458, -6.3144, -5.2637, -5.4126, -5.5965, -3.9816, -4.283, -4.2942, -4.3925, -4.4312, -4.4863, -4.4598, -4.5905, -4.6459, -4.7007, -4.9058, -4.7735, -4.996, -4.9124, -5.1314, -4.6623, -5.0857, -4.6136, -4.6115, -5.0457, -4.97, -4.6065, -4.2517, -6.3675, -5.6468, -5.1697, -5.2173, -4.5134, -5.9564, -4.8668, -5.53, -4.3752, -4.1771, -5.4827, -5.8125, -6.1012, -4.2435, -5.3633, -5.5959, -5.8332, -5.6392, -3.4858, -5.5368, -5.6822, -5.8491, -6.3476, -5.0431, -5.2424, -5.9031, -5.5684, -6.187, -3.6803, -3.9922, -4.2525, -4.3187, -4.1062, -4.5536, -4.6205, -4.8153, -4.8864, -5.0072, -5.0104, -5.0635, -5.0084, -5.0599, -5.2138, -5.1768, -5.306, -4.8583, -5.285, -5.0199, -4.3518, -3.79, -4.7758, -5.0404, -3.8167, -3.8112, -3.6718, -4.7643, -4.3092, -4.4971, -4.2321, -4.8504, -4.1366, -4.5491, -4.5854, -4.0787, -4.801, -4.7542, -5.832, -6.3995, -5.0386, -4.8431, -3.6892, -5.8896, -4.5586, -4.7742, -5.1206, -6.1046, -6.3397, -5.6966, -4.945, -6.3332, -5.6931, -5.8806, -6.096, -5.6406, -5.1055, -5.9457, -6.028, -6.3984, -6.3452, -6.3777, -5.8131, -6.0466, -3.0605, -3.7527, -4.5414, -3.2917, -3.6275, -4.4974, -4.9038, -3.739, -5.399, -5.6749, -5.3482, -5.9037, -5.9508, -5.8995, -5.8105, -5.6806, -5.8105, -2.46, -4.3748, -3.7941, -4.3508, -4.9798, -1.8603, -4.3862, -3.2948, -4.5111, -5.3099, -5.0667, -5.0704, -4.8027, -5.0603, -4.7955, -4.7774, -4.9642, -4.8862, -4.9366, -4.4798, -2.8322, -4.2763, -4.8852, -4.0692, -6.3792, -5.0121, -5.0795, -6.0014, -4.224, -4.445, -5.8353, -5.5912, -4.9121, -5.5286, -5.7102, -6.0427, -6.3701, -6.1772, -3.5833, -5.7379, -6.3501, -3.4434, -3.6312, -3.0596, -5.5537, -4.1897, -5.6641, -5.6843, -5.7451, -3.5084, -4.7578, -5.3067, -5.3395, -5.6001, -5.5647, -3.5337, -4.6089, -3.4629, -4.4291, -4.2599, -4.2254, -5.1977, -2.4629, -4.4638, -4.4747, -5.0043, -4.311, -4.3234, -4.3126, -4.5238, -3.9439, -4.4994, -3.6405, -4.5137, -4.5199, -5.6493, -4.8418, -2.9856, -5.6177, -4.4752, -5.5112, -6.2408, -6.0053, -5.202, -5.5964, -5.1893, -6.1498, -5.5896, -5.339, -5.3955, -6.1272, -5.8293, -5.1492, -5.8839, -4.4618, -4.1211, -5.0747, -6.3598, -5.6443, -5.6638, -6.0835, -2.2661, -2.5655, -3.0326, -3.2142, -2.7235, -3.1778, -4.3065, -4.3765, -4.7691, -4.8075, -4.8465, -5.0382, -4.9542, -5.2203, -5.0141, -5.5093, -4.1472, -3.1254, -4.8925, -3.8149, -4.2884, -4.4298, -4.3218, -3.5854, -4.5302, -4.8307, -4.5513, -4.4873, -4.1323, -4.9077, -4.2496, -3.67, -3.3685, -4.213, -5.9241, -3.7636, -4.4279, -4.9509, -4.6478, -6.1213, -4.8217, -4.4325, -5.1173, -5.7255, -5.7325, -4.9536, -6.4479, -6.2703, -5.1793, -6.0959, -4.5436, -3.8659, -6.3792, -6.2743, -5.1344, -6.3243, -5.3596, -6.2783, -4.89, -5.6385, -1.138, -2.9943, -4.0082, -4.0583, -4.6233, -4.592, -4.7524, -5.0229, -5.0663, -5.0735, -5.048, -5.4281, -3.4314, -4.7557, -4.9976, -4.0165, -4.6989, -4.4196, -4.8391, -4.9396, -4.7976, -6.0414, -3.6126, -5.7902, -6.1041, -5.5547, -5.0327, -5.5037, -6.2078, -6.3775, -6.4122, -5.236, -6.23, -6.3844, -5.85, -5.784, -5.2309, -5.5733, -4.7159, -6.1776, -5.0849, -5.6581, -6.1024, -5.6153, -5.3695, -6.1268, -5.6929, -5.2804, -6.3707, -5.9215, -2.4494, -2.9544, -3.4777, -4.0888, -4.5569, -4.562, -4.0593, -4.9259, -4.9668, -5.1851, -5.2309, -5.2432, -5.2295, -5.3691, -5.1214, -5.4188, -5.4271, -5.3003, -5.4826, -5.4844, -5.4184, -5.2162, -4.4971, -3.8732, -3.7483, -4.1906, -4.2403, -3.0767, -4.282, -4.9539, -4.5306, -4.9509, -4.6783, -4.8553, -5.0987, -4.8558, -4.8494, -4.8025, -4.9208, -4.9898, -2.6935, -5.531, -4.7476, -5.3011, -5.6198, -4.9243, -5.1659, -5.0063, -6.0964, -4.4224, -6.0972, -2.8343, -4.9109, -3.8374, -5.6262, -5.6124, -4.5579, -4.2503, -5.1394, -2.3491, -4.2388, -5.9673, -4.3435, -5.5019, -5.8821, -3.963, -5.6525, -6.2787, -5.4741, -6.0242, -2.4772, -3.4204, -3.9357, -4.4835, -5.0406, -4.9949, -5.0619, -5.0448, -5.1532, -5.2513, -5.2972, -5.333, -5.4003, -3.7858, -5.2678, -4.9499, -4.33, -3.9776, -5.1152, -4.3899, -4.7663, -2.9282, -4.3185, -4.4545, -4.5893, -4.918], \"loglift\": [30.0, 29.0, 28.0, 27.0, 26.0, 25.0, 24.0, 23.0, 22.0, 21.0, 20.0, 19.0, 18.0, 17.0, 16.0, 15.0, 14.0, 13.0, 12.0, 11.0, 10.0, 9.0, 8.0, 7.0, 6.0, 5.0, 4.0, 3.0, 2.0, 1.0, 2.8202, 2.8202, 2.8202, 2.8202, 2.8202, 2.8202, 2.8202, 2.8202, 2.8202, 2.8202, 2.8202, 2.8202, 2.8202, 2.8202, 2.8202, 2.8202, 2.8202, 2.8202, 2.82, 2.82, 2.82, 2.8199, 2.8197, 2.8195, 2.8191, 2.8189, 2.8181, 2.8156, 2.8117, 2.7343, 2.5974, 2.6639, 2.3098, 2.191, 2.3627, 2.459, 2.4446, 2.0561, 2.2893, 1.3577, 1.909, 1.11, 2.8252, 2.8252, 2.8252, 2.8252, 2.8252, 2.8252, 2.8252, 2.8252, 2.8252, 2.8252, 2.8252, 2.8252, 2.8252, 2.8252, 2.8252, 2.8252, 2.8252, 2.8252, 2.8252, 2.8252, 2.8252, 2.8252, 2.8252, 2.8252, 2.8252, 2.8252, 2.8252, 2.8252, 2.8252, 2.8252, 2.825, 2.8238, 2.8252, 2.8192, 2.8246, 2.8227, 2.8242, 2.7453, 2.8194, 2.7414, 2.7329, 2.8183, 2.6831, 2.7721, 2.5289, 2.6327, 2.6129, 2.5255, 2.6215, 2.5362, 2.4556, 2.2777, 2.5937, 2.3193, 2.236, 2.1762, 2.6929, 2.3052, 1.0929, 1.3549, 1.8398, 2.8298, 2.8298, 2.8298, 2.8298, 2.8298, 2.8298, 2.8298, 2.8298, 2.8298, 2.8298, 2.8298, 2.8298, 2.8298, 2.8298, 2.8298, 2.8298, 2.8298, 2.8298, 2.8298, 2.8298, 2.8297, 2.8297, 2.8295, 2.8291, 2.8289, 2.8289, 2.8288, 2.8288, 2.8287, 2.8287, 2.8273, 2.8282, 2.8279, 2.7371, 2.7201, 2.7818, 2.7621, 2.7393, 2.5108, 2.6532, 2.5453, 2.5372, 2.2399, 1.9811, 2.4856, 1.4528, 2.0206, 2.0667, 2.2338, 1.5268, 1.5584, 2.0876, 2.8302, 2.8302, 2.8302, 2.8302, 2.8302, 2.8302, 2.8302, 2.8302, 2.8302, 2.8302, 2.8302, 2.8302, 2.8302, 2.8302, 2.8302, 2.8302, 2.8302, 2.8302, 2.8302, 2.8302, 2.8302, 2.8302, 2.8302, 2.8302, 2.8302, 2.8302, 2.8302, 2.8302, 2.8302, 2.8302, 2.8301, 2.8301, 2.829, 2.8241, 2.8292, 2.8272, 2.7918, 2.7581, 2.6131, 1.9133, 2.0687, 2.316, 2.0392, 2.3092, 1.4315, 1.2197, 1.8278, 1.4888, 0.3332, 2.8306, 2.8306, 2.8306, 2.8306, 2.8306, 2.8306, 2.8306, 2.8306, 2.8306, 2.8306, 2.8306, 2.8306, 2.8306, 2.8306, 2.8306, 2.8306, 2.8306, 2.8306, 2.8306, 2.8306, 2.8306, 2.8306, 2.8306, 2.8306, 2.8306, 2.8306, 2.8306, 2.8306, 2.8306, 2.8306, 2.83, 2.8306, 2.8306, 2.8306, 2.8289, 2.8301, 2.8304, 2.8304, 2.8288, 2.8306, 2.83, 2.8306, 2.8296, 2.8302, 2.8298, 2.776, 2.7728, 2.8087, 2.6559, 2.5647, 2.3013, 2.7416, 2.2303, 2.1577, 2.4157, 1.3541, 2.8316, 2.8316, 2.8316, 2.8316, 2.8316, 2.8316, 2.8316, 2.8316, 2.8316, 2.8316, 2.8316, 2.8316, 2.8316, 2.8316, 2.8316, 2.8316, 2.8316, 2.8316, 2.8316, 2.8316, 2.8316, 2.8316, 2.8316, 2.8316, 2.8316, 2.8316, 2.8316, 2.8316, 2.8316, 2.8316, 2.8315, 2.8314, 2.8312, 2.831, 2.831, 2.831, 2.8312, 2.8309, 2.8316, 2.8292, 2.8306, 2.831, 2.831, 2.8304, 2.8316, 2.8316, 2.8216, 2.8175, 2.8265, 2.7321, 2.8, 2.6323, 2.5227, 2.5139, 2.2759, 1.7672, 2.4176, 2.4375, 2.4579, 1.5338, 2.3023, 2.5492, 2.6357, 2.2731, 1.8069, 1.5943, 2.8326, 2.8326, 2.8326, 2.8326, 2.8326, 2.8326, 2.8326, 2.8326, 2.8326, 2.8326, 2.8326, 2.8326, 2.8326, 2.8326, 2.8326, 2.8326, 2.8326, 2.8326, 2.8326, 2.8326, 2.8326, 2.8326, 2.8326, 2.8326, 2.8326, 2.8326, 2.8326, 2.8326, 2.8326, 2.8326, 2.8324, 2.8326, 2.8319, 2.8314, 2.8324, 2.8321, 2.8317, 2.8326, 2.8311, 2.8317, 2.832, 2.8109, 2.8048, 2.7512, 2.4587, 2.4262, 2.4504, 2.3604, 2.2824, 2.5697, 2.2607, 1.1693, 2.8328, 2.8328, 2.8328, 2.8328, 2.8328, 2.8328, 2.8328, 2.8328, 2.8328, 2.8328, 2.8328, 2.8328, 2.8328, 2.8328, 2.8328, 2.8328, 2.8328, 2.8328, 2.8328, 2.8328, 2.8328, 2.8328, 2.8328, 2.8328, 2.8328, 2.8328, 2.8328, 2.8328, 2.8328, 2.8328, 2.8327, 2.8327, 2.8326, 2.8317, 2.8314, 2.8326, 2.8312, 2.8325, 2.8322, 2.8322, 2.8303, 2.8324, 2.8328, 2.8308, 2.8323, 2.8328, 2.7738, 2.7585, 2.6754, 2.7325, 2.4986, 2.5693, 2.6171, 1.337, 2.378, 1.6642, 2.4359, 2.4103, 2.5783, 2.0777, 2.8335, 2.8335, 2.8335, 2.8335, 2.8335, 2.8335, 2.8335, 2.8335, 2.8335, 2.8335, 2.8335, 2.8335, 2.8335, 2.8335, 2.8335, 2.8335, 2.8335, 2.8335, 2.8335, 2.8335, 2.8335, 2.8335, 2.8335, 2.8335, 2.8335, 2.8335, 2.8335, 2.8335, 2.8335, 2.8335, 2.8329, 2.8332, 2.8332, 2.8333, 2.8301, 2.8333, 2.8329, 2.8328, 2.8333, 2.8308, 2.8329, 2.8332, 2.8327, 2.8331, 2.8335, 2.8094, 2.6389, 2.6869, 2.5944, 2.3202, 2.4356, 2.2488, 2.5499, 2.4691, 2.4857, 2.0923, 2.5672, 1.9487, 2.4051, 1.7382, 2.8342, 2.8342, 2.8342, 2.8342, 2.8342, 2.8342, 2.8342, 2.8342, 2.8342, 2.8342, 2.8342, 2.8342, 2.8342, 2.8342, 2.8342, 2.8342, 2.8342, 2.8342, 2.8342, 2.8342, 2.8342, 2.8342, 2.8342, 2.8342, 2.8342, 2.8342, 2.8342, 2.8342, 2.8342, 2.8342, 2.8342, 2.8341, 2.8338, 2.8339, 2.8339, 2.8342, 2.8339, 2.834, 2.834, 2.8338, 2.8342, 2.8329, 2.834, 2.8329, 2.8342, 2.7569, 2.7615, 1.6664, 1.4384, 2.4947, 1.8349, 2.8355, 2.8355, 2.8355, 2.8355, 2.8355, 2.8355, 2.8355, 2.8355, 2.8355, 2.8355, 2.8355, 2.8355, 2.8355, 2.8355, 2.8355, 2.8355, 2.8355, 2.8355, 2.8355, 2.8355, 2.8355, 2.8355, 2.8355, 2.8355, 2.8355, 2.8355, 2.8355, 2.8355, 2.8355, 2.8355, 2.8347, 2.8354, 2.8355, 2.8355, 2.8329, 2.8353, 2.8351, 2.8355, 2.8355, 2.8355, 2.8352, 2.8352, 2.8343, 2.8342, 2.8351, 2.8341, 2.8347, 2.8281, 2.8343, 2.8282, 2.7996, 2.7646, 2.7443, 2.797, 2.4281, 2.1882, 2.0206, 2.6403, 2.2077, 2.3597, 2.1082, 2.6624, 1.5784, 1.9007, 1.9755, -0.3508, 2.0386, 2.8356, 2.8356, 2.8356, 2.8356, 2.8356, 2.8356, 2.8356, 2.8356, 2.8356, 2.8356, 2.8356, 2.8356, 2.8356, 2.8356, 2.8356, 2.8356, 2.8356, 2.8356, 2.8356, 2.8356, 2.8356, 2.8356, 2.8356, 2.8356, 2.8356, 2.8356, 2.8356, 2.8356, 2.8356, 2.8353, 2.8332, 2.8348, 2.8348, 2.8336, 2.8187, 2.8336, 2.8351, 2.8312, 2.835, 2.8349, 2.8342, 2.8292, 2.817, 2.8267, 2.4634, 2.5988, 2.47, 2.5542, 2.6735, 1.8676, 2.4892, 2.1748, 2.2984, 2.6574, 2.5144, 2.4336, 2.1389, 2.3698, 1.8151, 1.5629, 1.6586, 0.8409, 0.7937, 2.836, 2.836, 2.836, 2.836, 2.836, 2.836, 2.836, 2.836, 2.836, 2.836, 2.836, 2.836, 2.836, 2.836, 2.836, 2.836, 2.836, 2.836, 2.836, 2.836, 2.836, 2.836, 2.8359, 2.8359, 2.8357, 2.8355, 2.8355, 2.8355, 2.8355, 2.8354, 2.8278, 2.8338, 2.8352, 2.8336, 2.835, 2.832, 2.8046, 2.8033, 2.7502, 2.7795, 2.7517, 2.7474, 2.8063, 2.5407, 2.7, 2.6666, 2.7094, 2.4917, 2.4775, 2.4052, 2.4598, 1.7381, 2.2753, 1.2713, 1.9789, 1.5332, 2.8377, 2.8377, 2.8377, 2.8377, 2.8377, 2.8377, 2.8377, 2.8377, 2.8377, 2.8377, 2.8377, 2.8377, 2.8377, 2.8377, 2.8377, 2.8377, 2.8377, 2.8377, 2.8377, 2.8377, 2.8377, 2.8377, 2.8377, 2.8377, 2.8377, 2.8377, 2.8377, 2.8377, 2.8376, 2.8376, 2.8375, 2.8291, 2.8374, 2.8372, 2.8372, 2.8372, 2.8374, 2.8368, 2.8358, 2.8366, 2.8328, 2.8358, 2.8065, 2.5111, 2.7072, 2.4651, 2.5689, 2.557, 2.5177, 2.1532, 2.5382, 2.6522, 2.3546, 1.9234, 0.7886, 0.8801, 2.8377, 2.8377, 2.8377, 2.8377, 2.8377, 2.8377, 2.8377, 2.8377, 2.8377, 2.8377, 2.8377, 2.8377, 2.8377, 2.8377, 2.8377, 2.8377, 2.8377, 2.8377, 2.8377, 2.8377, 2.8377, 2.8377, 2.8377, 2.8377, 2.8377, 2.8377, 2.8377, 2.8377, 2.8377, 2.8377, 2.8377, 2.8376, 2.8365, 2.8358, 2.8374, 2.837, 2.8373, 2.8375, 2.8374, 2.8374, 2.836, 2.8377, 2.8076, 2.8295, 2.8147, 2.305, 2.476, 1.9141, 1.7715, 2.1239, 2.8383, 2.8383, 2.8383, 2.8383, 2.8383, 2.8383, 2.8383, 2.8383, 2.8383, 2.8383, 2.8383, 2.8383, 2.8383, 2.8383, 2.8383, 2.8383, 2.8383, 2.8383, 2.8383, 2.8383, 2.8383, 2.8383, 2.8383, 2.8383, 2.8383, 2.8383, 2.8383, 2.8383, 2.8383, 2.8383, 2.8382, 2.8381, 2.8382, 2.8379, 2.8377, 2.8366, 2.8299, 2.8383, 2.8369, 2.8376, 2.8379, 2.8379, 2.8376, 2.8383, 2.8354, 2.8383, 2.8383, 2.8367, 2.8383, 2.8383, 2.8374, 2.8344, 2.8183, 2.774, 2.6556, 2.6627, 2.3824, 1.8442, 2.2891, 2.6178, 2.2844, 2.5952, 2.2815, 2.2949, 2.5727, 2.01, 1.9601, 0.9246, 1.4899, 1.867, 2.8433, 2.8433, 2.8433, 2.8433, 2.8433, 2.8433, 2.8433, 2.8433, 2.8433, 2.8433, 2.8433, 2.8433, 2.8433, 2.8433, 2.8433, 2.8433, 2.8433, 2.8433, 2.8433, 2.8433, 2.8433, 2.8433, 2.8433, 2.8433, 2.8433, 2.8433, 2.8433, 2.8433, 2.8433, 2.8433, 2.8432, 2.8429, 2.8432, 2.8431, 2.8433, 2.8427, 2.8433, 2.843, 2.8433, 2.8433, 2.8425, 2.8429, 2.8433, 2.8264, 2.8395, 2.8083, 2.736, 2.6556, 2.8031, 2.4944, 2.646, 1.6782, 2.2911, 1.8659, 1.9819, 2.5333]}, \"token.table\": {\"Topic\": [7, 15, 4, 11, 1, 8, 12, 2, 1, 11, 1, 12, 10, 9, 11, 17, 13, 13, 2, 6, 8, 9, 12, 8, 9, 10, 13, 16, 9, 4, 9, 3, 11, 14, 5, 9, 14, 8, 5, 14, 13, 14, 12, 2, 11, 12, 8, 9, 12, 5, 16, 7, 11, 5, 7, 2, 3, 14, 5, 14, 2, 3, 8, 11, 15, 7, 3, 12, 8, 9, 10, 10, 15, 2, 3, 10, 2, 15, 16, 7, 10, 11, 17, 2, 3, 12, 14, 2, 13, 4, 13, 5, 15, 10, 11, 13, 16, 17, 14, 2, 16, 17, 3, 10, 9, 11, 5, 11, 6, 8, 9, 17, 11, 11, 13, 6, 9, 7, 11, 17, 14, 15, 16, 8, 15, 3, 15, 1, 14, 17, 1, 2, 6, 12, 14, 16, 1, 1, 7, 8, 9, 14, 6, 8, 6, 9, 11, 16, 11, 6, 12, 3, 16, 8, 17, 5, 8, 12, 2, 13, 15, 17, 17, 16, 17, 1, 3, 4, 4, 4, 8, 14, 16, 7, 9, 2, 5, 16, 3, 4, 2, 2, 5, 6, 8, 6, 6, 12, 8, 5, 5, 13, 5, 5, 12, 7, 6, 7, 8, 2, 3, 10, 7, 11, 12, 10, 3, 8, 12, 17, 12, 7, 12, 9, 14, 11, 9, 7, 3, 7, 8, 12, 13, 2, 14, 8, 13, 5, 15, 12, 17, 15, 7, 12, 13, 3, 5, 16, 17, 5, 3, 1, 13, 4, 17, 2, 4, 8, 12, 13, 13, 17, 7, 13, 16, 9, 6, 12, 16, 5, 12, 15, 5, 16, 17, 1, 5, 8, 5, 4, 6, 8, 4, 13, 2, 4, 6, 7, 13, 2, 3, 4, 12, 16, 9, 11, 15, 14, 14, 5, 17, 1, 10, 5, 4, 6, 8, 9, 11, 12, 4, 16, 15, 16, 3, 15, 5, 8, 6, 8, 16, 4, 7, 6, 3, 12, 14, 7, 16, 1, 2, 3, 4, 5, 14, 16, 16, 3, 17, 6, 9, 1, 4, 1, 4, 15, 16, 1, 12, 4, 6, 6, 3, 3, 5, 12, 15, 13, 4, 4, 15, 3, 10, 5, 7, 10, 12, 10, 15, 6, 8, 1, 2, 14, 14, 7, 6, 12, 10, 10, 12, 1, 12, 17, 17, 3, 11, 12, 13, 15, 1, 3, 7, 11, 2, 7, 17, 10, 5, 12, 15, 17, 14, 15, 17, 1, 2, 6, 11, 9, 10, 4, 11, 17, 15, 8, 10, 3, 4, 7, 10, 14, 14, 9, 17, 3, 9, 15, 10, 12, 6, 6, 6, 9, 12, 10, 16, 9, 6, 11, 10, 3, 4, 6, 7, 9, 13, 8, 8, 3, 15, 15, 2, 7, 5, 8, 9, 2, 13, 6, 14, 16, 8, 9, 10, 3, 13, 13, 3, 13, 7, 12, 11, 14, 8, 15, 15, 3, 12, 16, 17, 10, 11, 13, 5, 13, 15, 15, 6, 13, 5, 17, 9, 11, 3, 4, 6, 11, 15, 11, 16, 17, 10, 16, 1, 12, 13, 13, 8, 3, 9, 9, 6, 12, 16, 8, 9, 9, 11, 4, 6, 13, 2, 3, 6, 3, 16, 6, 7, 15, 8, 12, 2, 16, 13, 15, 7, 16, 16, 14, 16, 14, 7, 8, 8, 12, 16, 6, 2, 3, 5, 8, 12, 14, 15, 1, 4, 2, 3, 15, 16, 13, 9, 6, 11, 16, 10, 14, 6, 13, 14, 6, 9, 2, 9, 2, 9, 11, 14, 5, 10, 9, 6, 8, 9, 6, 13, 1, 6, 8, 16, 16, 5, 15, 12, 11, 6, 12, 16, 2, 3, 1, 12, 13, 16, 13, 1, 4, 5, 14, 1, 2, 3, 4, 7, 1, 2, 7, 14, 10, 17, 17, 11, 4, 4, 3, 12, 7, 9, 4, 6, 4, 6, 8, 3, 11, 10, 16, 17, 3, 6, 10, 17, 17, 4, 16, 14, 2, 1, 9, 16, 6, 14, 7, 2, 6, 12, 7, 10, 16, 6, 5, 6, 13, 9, 15, 1, 2, 5, 8, 9, 16, 17, 6, 4, 5, 14, 3, 5, 6, 16, 6, 8, 7, 15, 17, 1, 4, 4, 7, 10, 9, 14, 16, 9, 6, 11, 13, 8, 6, 11, 7, 6, 6, 2, 7, 12, 5, 11, 13, 15, 17, 10, 11, 3, 6, 8, 10, 11, 14, 3, 4, 3, 8, 14, 5, 9, 4, 5, 5, 12, 7, 11, 17, 5, 7, 9, 4, 16, 14, 14, 1, 4, 14, 8, 9, 14, 17, 8, 9, 8, 6, 7, 11, 13, 14, 6, 11, 11, 12, 16, 11, 12, 15, 16, 11, 7, 12, 16, 15, 8, 7, 8, 16, 7, 2, 11, 7, 14, 5, 11, 14, 16, 5, 9, 2, 8, 2, 2, 15, 7, 15, 3, 11, 16, 6, 12, 12, 16, 17, 4, 5, 17, 4, 6, 8, 13, 8, 11, 12, 16, 2, 3, 6, 7, 13, 8, 16, 17, 1, 10, 10, 3, 6, 8, 11, 16, 2, 1, 3, 9, 15, 16, 17, 6, 7, 9, 11, 16, 11, 14, 9, 11, 12, 16, 6, 8, 11, 13, 2, 3, 9, 11, 12, 16, 6, 8, 9, 11, 12, 5, 9, 14, 1, 5, 11, 12, 16, 2, 3, 5, 3, 14, 3, 15, 3, 7, 6, 11, 12, 13, 2, 9, 15, 9, 2, 2, 3, 14, 5, 8, 13, 13, 14, 5, 6, 17, 9, 9, 10, 7, 8, 12, 17, 2, 1, 3, 5, 13, 14, 17, 4, 11, 4, 2, 17, 17, 14, 14, 3, 17, 8, 3, 5, 8, 11, 2, 6, 7, 13, 15, 6, 6, 8, 12, 8, 12, 1, 3, 8, 12, 8, 4, 8, 8, 1, 6, 6, 12, 2, 3, 8, 15, 17, 2, 3, 2, 7, 9, 13, 14, 14, 8, 3, 6, 7, 8, 9, 11, 12, 8, 12, 11, 17, 8, 9, 14, 7, 16, 17, 1, 8, 17, 1, 9, 1, 8, 7, 17, 6, 17, 10, 10, 6, 10, 2, 2, 12, 2, 15, 3, 8, 9, 12, 16, 11, 16, 16, 6, 1, 4, 14, 5, 6, 11, 2, 15, 11, 11, 11, 11, 6, 14, 16, 1, 5, 13, 7, 6, 16, 3, 7, 3, 14, 3, 12, 13, 10, 11, 11, 2, 2, 11, 14, 6, 9, 7, 10, 13, 2, 6, 8, 17, 13, 14, 15, 17, 17, 6, 11, 10, 8, 9, 3, 9, 10, 11, 8, 13, 9, 3, 7, 15, 15, 2, 8, 15, 9, 14, 14, 2, 2, 5, 9, 11, 12, 13, 14, 13, 5, 2, 5, 3, 8, 9, 11, 12, 13, 13, 9, 16, 16, 16, 3, 6, 11, 6, 9, 10, 8, 13, 7, 5, 4, 6, 1, 4, 11, 2, 3, 8, 9, 13, 2, 10, 11, 13, 10, 10, 17, 6, 1, 4, 4, 7, 12, 1, 16, 17, 1, 1, 7, 8, 16, 2, 4, 17, 2, 1, 4, 10, 15, 9, 7, 8, 15, 1, 2, 12, 17, 12, 15, 2, 3, 7, 9, 14, 9, 14, 17, 2, 3, 7, 14, 12, 16, 1, 4, 17, 11, 5, 5, 7, 7, 2, 12, 9, 9, 11, 2, 8, 12, 4, 15, 14, 3, 7, 10, 13, 3, 5, 12, 15, 13, 17, 8, 12, 13, 16, 3, 6, 10, 7, 14, 4, 13, 14, 11, 10, 16, 15, 3, 8, 12, 16, 10, 14, 5, 10, 12, 12, 8, 5, 1, 1, 2, 4, 5, 8, 16, 3, 1, 12, 6, 12, 7, 7, 5, 5, 3, 6, 5, 8, 9, 17, 8, 9, 17, 9, 4, 13, 16, 16, 3, 14, 6, 8, 2, 3, 9, 10, 14, 16, 6, 11, 12, 16, 16, 6, 13, 6, 7, 10, 8, 10, 7, 2, 8, 12, 17, 8, 17, 3, 7, 9, 12, 13, 7, 1, 2, 4, 5, 14, 9, 11, 6, 4, 11, 12, 15, 16, 10, 11, 16, 7, 13, 16, 11, 12, 14, 10, 14, 16, 9, 16, 17, 4, 8, 16, 16, 4, 6, 7, 13, 14, 3, 15, 8, 15, 17, 17, 1, 16, 3, 13, 1, 3, 4, 5, 9, 5, 2, 5, 14, 7, 8, 12, 16, 12, 13, 15, 9, 11, 14, 16, 8, 11, 13, 16, 8, 14, 16, 4, 7, 16, 5, 13, 15, 8, 15, 6, 12, 12, 7, 7, 17, 6, 17, 7, 2, 3, 4, 10, 9, 4, 13, 16, 5, 17, 6, 7, 17, 13, 9, 15, 1, 9, 11, 1, 4, 1, 5, 8, 9, 10, 12, 12, 3, 9, 16, 4, 8, 8, 4, 5, 17, 17, 5, 10, 16, 13, 10, 12, 14, 1, 12, 13, 2, 3, 15, 3, 12, 16, 10, 1, 5, 14, 4, 11, 14, 14, 4, 1, 2, 1, 1, 14, 16, 3, 15, 6, 2, 8, 12, 6, 15, 16, 7, 2, 8, 13, 17, 2, 8, 16, 17, 17, 17, 4, 10, 9, 11, 11, 2, 3, 13, 1, 8, 11, 12, 16, 14, 11, 11, 6, 13, 5, 6, 5, 1, 4, 14, 17, 2, 12, 6, 14, 9, 3, 13, 14, 2, 9, 11, 13, 4, 10, 10, 10, 10, 10, 4, 9, 7, 17, 17, 14, 16, 14, 11, 16, 5, 15, 11, 1, 8, 12, 12, 7, 14, 16, 11, 10, 11, 12, 16, 11, 17, 1, 3, 8, 13, 15, 16, 11, 14, 8, 14, 7, 12, 13, 11, 11, 1, 2, 3, 6, 3, 4, 3, 15, 2, 11, 2, 17, 5, 7, 11, 3, 13, 4, 16, 17, 2, 5, 6, 8, 12, 14, 16, 8, 2, 8, 6, 13, 12, 13, 5, 13, 1, 6, 12, 3, 6, 13, 3, 6, 3, 6, 17, 16, 17, 2, 13, 12], \"Freq\": [0.9998565550909001, 0.0001408149503684107, 0.00027244669186041187, 0.9996069124358511, 0.9999492645965055, 1.000044340861349, 0.9998458992416909, 1.0000365343770674, 0.9998324185652006, 0.00016204739360862246, 1.0002464753366622, 0.9997151334109883, 0.999951025168446, 0.037670169726735266, 0.9622550158087818, 1.0000629323404133, 1.0000594715359006, 0.9999191976653496, 0.28807697162646895, 0.29014530140552175, 0.3178609204448288, 0.02829475137744181, 0.07553540353100693, 0.0006011936540100757, 0.00020039788467002522, 0.00040079576934005045, 0.9977810677720556, 0.0008015915386801009, 0.9997875096535471, 0.0003228405008817948, 0.9995141907300366, 0.8381456578050438, 0.0908463696754858, 0.07099853610094146, 0.0001883445527846814, 0.9997328861810889, 1.0001035051946148, 0.9999682529127806, 0.9998154836521638, 0.000225335921490233, 0.0007981960969068449, 0.9990754479617342, 1.000100204344224, 0.00034145923145431086, 0.9992462949278953, 0.0004780429240360352, 0.31081646417459685, 1.3903044559608018e-05, 0.6891739188197695, 0.9999748209967442, 3.601436364606872e-05, 0.08713482997768965, 0.9127699962545134, 0.9999627051950521, 1.0000062035072677, 0.5783511526626429, 0.2804466816163846, 0.14118038408506628, 0.0009574435278612806, 0.9989327474019362, 0.0010087210466154081, 0.9986338361492539, 0.0010848399472523685, 0.9988663814326183, 0.99992214733744, 0.9999292204447723, 1.0004025180684177, 1.0001467119802148, 1.0000750065602009, 1.0000004531603335, 1.0000762977636508, 0.999638341852682, 0.00029755569038627237, 0.08849137345624321, 0.9113983867599744, 0.0001255196786613379, 1.000005313216338, 0.9999321009276744, 0.999842994633683, 0.9997253337960109, 1.0000370823148146, 0.9985063496678945, 0.0012191774721219714, 0.06548434810605017, 0.9345429679056244, 0.0002561635164971226, 0.9996781231300209, 0.7933791247685064, 0.206636613045357, 1.0001466299730994, 1.000069037684, 0.9999785444898698, 1.0000682699847152, 0.9995973035452638, 0.2811100056218912, 7.506275183495093e-05, 0.14306960499741644, 0.5757313065740736, 1.0001865622527064, 0.0014865921894953225, 0.998494420611025, 0.9998822061789041, 0.752360136015821, 0.2476268566259598, 0.9997606949817803, 0.00024009622838179164, 0.9998333991267727, 1.0000178260395856, 0.9994345990123739, 0.0005762275074382681, 0.9994093868644036, 0.0005303313276011693, 1.0000615521403686, 0.9927699791825212, 0.007252167862538636, 0.9997878576960243, 0.9998768365193326, 0.03243254700408367, 0.0018938713579026959, 0.965637658610637, 1.0000294291764376, 0.9999371347359446, 0.9996579613193943, 0.9998202974283926, 1.0000396113246606, 0.0018956915904056887, 0.9981315089693953, 0.46573813033672623, 0.5043820793595388, 0.02987837034202824, 0.0216574014143374, 0.2223575247483391, 0.04743709230242652, 0.04811388609662457, 0.40078497958236886, 0.259642710137795, 0.9998922376749553, 1.0000821475348765, 0.9726679009499676, 0.027323566658347738, 0.9992534366155239, 0.0006657251409830273, 0.1456472892151964, 0.8543277817716435, 0.00015635704310358692, 0.3344477151985724, 0.665403456434498, 0.9997444664416961, 0.9999246420160091, 0.0006615025882284805, 0.9995304108132339, 0.9974853371018335, 0.0025293542434578534, 1.0001545784794654, 0.9999312584849371, 0.9982002102548503, 0.0007092848485941618, 0.0009457131314588823, 0.9481527286381395, 0.00026596149470915553, 0.05079864548944871, 0.0005319229894183111, 0.9999912819712501, 0.9991221847981046, 0.0007787390372549529, 0.6002527556384486, 3.9651527634622915e-06, 0.39974291069568746, 1.0001206479521496, 1.0000176895731046, 0.9997588565268858, 0.7412494403394664, 0.2588018795865562, 1.0001013490161743, 0.9997151880129029, 0.9997772076335797, 0.0006447889896768958, 0.9994229339991885, 1.000061290888379, 1.0000028481114012, 0.9999851790515518, 1.0001565255621623, 1.0000001226778346, 0.0003193723385041184, 0.9996354195178907, 0.9999552307113234, 0.01681997296458266, 0.9831844366373634, 1.0000582527555382, 0.9999877847960675, 1.0002648745113785, 0.9999995363554393, 1.000331402040092, 7.348098895993797e-05, 0.9999292977668358, 0.9997650435290837, 0.0007630252176983953, 0.9988000099671994, 0.00038151260884919765, 0.9998037108555438, 0.00011213590296719872, 7.475726864479914e-05, 0.5768369391712295, 0.42319011439693943, 0.9999058204870008, 0.9998552587856445, 0.00101707785531367, 0.0013406935365498378, 0.9975684528162896, 4.623081160516682e-05, 0.9999364529073228, 0.9999781977587783, 1.0000079923129335, 0.9972604529467015, 0.0028216746849744987, 1.0001922193058905, 1.0001924199548133, 1.0001610871444562, 7.615503745041123e-05, 0.682425290593135, 0.004264682097223028, 0.2538247398222206, 0.05940092921132075, 1.0000036190157873, 0.9997935459484273, 0.9998893469779805, 7.702120990432757e-05, 0.6604079973725472, 0.3395360557430652, 0.9997746508922892, 1.0001658739843473, 0.9997935789452956, 0.019113729004570097, 0.011788707110603114, 0.9690775058784133, 0.00055569636496304, 0.00027784818248152, 0.038343049182449754, 0.9605211668386145, 0.9999648139171012, 1.0002268547641036, 0.9999911323914694, 0.9998211838496077, 0.9996276125211156, 0.9999471394845321, 0.22983507660706376, 0.45338346491413817, 0.11573754112526961, 0.00722383438197533, 0.19379400020401927, 8.891168444754124e-05, 0.9999008032970487, 0.07955570964615301, 0.9190984735001965, 0.001234291687034814, 0.9997542775608215, 0.16282736327363187, 0.8368976305892046, 0.000291805310526222, 0.9990379092091203, 0.0009354287539411238, 0.9998076259221689, 0.9982713418706548, 7.983615977852326e-05, 0.0016765593553489885, 0.0003322893036174202, 0.9995262252812, 0.00011076310120580674, 0.9998946287239145, 0.0006771664337167282, 0.1933310168261259, 0.8059973477313358, 1.0000461851795752, 1.000110146266373, 0.7435571120293055, 0.04246463379607722, 0.00021988159894408918, 0.004603770977891867, 0.20914862839563084, 0.8761510575754236, 0.0017441626892675983, 0.12189759239436883, 0.00019379585436306648, 1.0000020794252154, 0.0004997874486885576, 0.022240541466640812, 0.9770844621861301, 0.9999636151016748, 0.9997854990612363, 0.9992949396194949, 0.0005907744248415577, 1.0000808864799298, 1.0000295537117763, 1.0000821531222543, 0.00024547229445098627, 0.5736994361687613, 0.047959149528361444, 0.08692787627245552, 0.2845023892686931, 0.0066891200237893765, 0.9999296575347993, 1.0001763300896835, 0.9996371819831698, 0.0003516135005216918, 0.00026220805289463913, 0.999799305687259, 0.00025831481671355957, 0.9996783406814754, 0.22463669937632533, 0.775223695048314, 0.9998369372249603, 0.9999372242797069, 6.346792918309786e-05, 1.0002849010061792, 1.000244363028194, 0.8503488216225161, 0.1496477495058928, 0.9993308079500934, 0.0006638181491412654, 6.934489418614888e-05, 0.0005963660900008803, 0.25233220096455855, 0.2469094302392017, 0.001178863201164531, 0.12885668237670184, 0.37005209333496486, 0.9996103481212179, 0.0005126200660412356, 0.9993528187473888, 0.3053589685348154, 0.6945720552395521, 0.9176700517298321, 0.08233339210538063, 0.632884093796814, 0.36697687343743235, 6.227335371414091e-05, 6.227335371414091e-05, 0.9994197332117135, 0.0006267919305184782, 0.9999120295801043, 1.0001474934173409, 1.0001633105272443, 0.9999161889921605, 0.1962205651725797, 0.7664089638109381, 0.013505687634505088, 0.023751381702060672, 0.9999638306286951, 0.9998835871873568, 1.0002765964957736, 0.9997904268618776, 0.7462936037922445, 0.2537673052974337, 1.000109027985156, 0.000203381477928769, 0.9986030566302557, 0.001220288867572614, 0.9997996603936798, 0.0002543372323565708, 0.0572850248557697, 0.9427478376263814, 0.9989800459362018, 0.0011986801607105854, 1.0000304373233213, 1.000172956030895, 0.9999109831259843, 0.9989471048967404, 0.001025613044041828, 0.9999931673983133, 0.9996128904450978, 0.0003785695476027638, 1.0000515975061113, 0.00026948033857183295, 0.9997720561015003, 1.0000096779369545, 0.0003607278950238876, 0.003968006845262764, 0.9956089902659297, 0.9994354901210637, 0.0005387792399574468, 0.997923061399901, 0.002169397959565002, 1.000058999357725, 0.9999447362182524, 0.919651782471784, 4.6206691577741246e-05, 0.08030722996211428, 0.9999001044597331, 1.0000311315829755, 5.3092369970947574e-05, 0.000371646589796633, 0.99957004944303, 0.002349680566109903, 0.0013426746092056589, 0.9962645600305989, 0.5879852013621397, 0.4120178190423451, 0.999656817909753, 1.0001078826412864, 1.0001239342642025, 0.9999971358796583, 1.000082809957564, 0.2664818874289367, 0.7334347895184656, 1.0001100556553257, 0.9989304031846319, 0.0011451246501925471, 0.001195138482325506, 0.9988701848947174, 0.0742111623896961, 0.9256155890787551, 0.00016866173270385477, 0.999894785142387, 1.000222870539769, 0.9999115802218899, 0.9998501566013697, 0.000119606454524956, 1.0000233149864144, 0.0005020892965056247, 0.9996597893426987, 0.9999953269618805, 0.999732555224543, 0.9999370032991081, 6.008514621434371e-05, 0.9999899914765306, 0.9998019561589048, 0.00016957292336480746, 0.9999998824543105, 0.00034982559209854376, 0.9996266294215888, 1.0000359558881553, 0.00015954892314625654, 0.0006381956925850262, 0.2302290961000482, 0.7688662606418103, 0.35003312069116765, 0.649965921359872, 1.0000168399304894, 1.000071840895858, 0.9999688082226217, 4.6536150792191996e-05, 0.9999128220734341, 0.9988484339237088, 0.0009130241626359312, 0.05680378327172297, 0.1768934632215517, 0.7662540374071458, 1.000043361022964, 1.0000340186005796, 0.9951944994940901, 0.0029826008975846856, 0.0019884005983897904, 0.9981757286916714, 0.0021320948281060978, 0.9999955844245744, 0.0004549704980626094, 0.9994564416190371, 1.0000362800301763, 0.9996813036531469, 0.0002808093549587491, 0.9998633957692925, 0.9996948253782253, 0.004915147427373728, 0.995188008058249, 0.999710653819529, 0.9998094489365487, 1.0004290641790363, 1.0000218805492678, 0.9991620939266492, 0.0003092423689033269, 0.0004638635533549903, 0.9996508649789404, 0.00010789707058644812, 0.9998821531246147, 0.0004968682831889721, 0.9992021174930228, 1.0000200327570614, 1.0000537226790076, 0.9053661490528054, 0.09464855798093512, 0.10177730956548327, 0.8982232640464828, 0.007270901592545261, 0.9925882325580727, 0.40383481655326414, 0.5938747302253884, 0.0019614211273499067, 0.00010896784040832815, 0.0002179356808166563, 5.596062625145627e-05, 0.9999604304872721, 1.0001346050384308, 0.0003269856904431973, 0.9995952556848542, 0.9999333053450755, 0.08220806849668459, 0.9177712806678393, 1.000055210251747, 0.9996986101285896, 0.9999042586201506, 1.000072721350457, 0.9999820268430046, 0.144166812459801, 0.7251967443816951, 0.13068215874966832, 0.9998582383929278, 1.0000181631315221, 0.5572710706277715, 0.4427329059175631, 0.9938839941984752, 0.005906387863956362, 0.00017898145042292009, 0.9999665247654762, 0.9983129032868616, 0.0015189241586715278, 0.9998976970450365, 1.0001073095714246, 1.0001622239452421, 0.9999915511339574, 0.9998889870878707, 0.9993803230473025, 0.0005310203629369302, 0.0016523747217263005, 0.9983648068670308, 1.000345586329056, 0.999966943533287, 0.9989490349292763, 0.0007994790195512416, 0.9999645487311654, 0.9999497338796702, 3.5837923226997e-05, 1.0004008540219826, 0.000155742989768215, 0.9998699943119402, 0.05788165680693529, 0.30819510299829406, 0.6338840050315357, 1.000233136618432, 0.3733187444141415, 0.0014457266349945238, 0.11830862963038519, 0.47002179266599736, 0.0008031814638858465, 0.0361431658748631, 1.0003471475051078, 0.8552801660978664, 0.14465603016946002, 0.7490496375605113, 0.2509263941338715, 6.543061124742412e-05, 1.0000357506626116, 1.0002022741048544, 0.9999512738496301, 1.0000693842326325, 0.0006168201339180039, 0.9992486169471664, 0.31103185551604207, 0.6889563458149995, 0.7278384432510087, 0.27175618394262063, 0.0003872396541297634, 0.9997245128414683, 1.0001259048430362, 0.17687735628403783, 0.8231225016250904, 0.00037046627133019736, 0.1580038647223292, 0.8411436690552132, 0.00037046627133019736, 1.0000229634856006, 0.9999398124964165, 1.0000569560031949, 0.999986358868926, 0.6346307127250175, 0.36541748972245, 0.08473688497333264, 0.9152663027883916, 0.00035546951150262554, 0.9978029187878699, 0.002132817069015753, 0.9997680330655434, 0.9998460485187675, 0.5102181089845294, 0.48977156442712294, 1.0002382453912455, 0.9999856353828533, 0.3696801657046928, 0.6276719049626265, 0.0027282669055696887, 0.9941996912319285, 0.005643517641808487, 0.00012774605465191245, 0.0014052066011710368, 0.8441459291398374, 0.15431723401951022, 1.0000041016283967, 0.9997756995440635, 0.0002568136911235714, 0.9437989427329231, 0.05619462858452842, 0.6968044402507011, 0.00013219587179865322, 0.00013219587179865322, 0.30246415467531856, 0.00039658761539595967, 0.01817591794114862, 0.21186003822407623, 0.005673963801734226, 0.764350242308197, 0.17906235756936206, 0.8209397702969536, 1.000249566890866, 1.0000412840555273, 1.0000242073872407, 1.0003417172568134, 0.9987769244827597, 0.0008041682161696938, 0.9993409469656486, 0.00047205524183545046, 0.9999499070955661, 1.000293072801101, 0.26149956414092346, 0.7342412814567786, 0.0042375557306907055, 0.46622283381950247, 0.5338230920839093, 3.315932732688672e-05, 0.9998531968876152, 9.947798198066015e-05, 0.4760687764924027, 0.1558607380197477, 0.3681160522082332, 1.0000077608717342, 0.9999459082045001, 1.000033978542809, 1.000039108036402, 1.0001136350433557, 0.9999750756731012, 1.000018874901798, 0.7062188041592209, 0.2936947550784223, 0.9991652283417553, 0.0006309853036575657, 1.000094713709739, 1.0001740947412776, 0.018347035196561823, 0.9813184501079959, 0.9996285926385978, 0.0001992482743947773, 0.0001992482743947773, 1.0004142922431078, 5.959802559247072e-05, 0.9998164773392888, 0.00011919605118494145, 1.000136530124888, 0.9999425709384897, 0.18081649574985798, 0.5225448399270174, 0.1393803789678053, 9.569541981998304e-05, 0.1557921434669324, 4.784770990999152e-05, 0.0012440404576597797, 0.9997666153415785, 1.000006780996314, 0.978196503219764, 0.021682104930702356, 9.217739285437186e-05, 0.16011213138804392, 0.26510218184917345, 0.5747260444470086, 0.5721564382519723, 0.4278500940527622, 0.6236608785185246, 5.6210984994909833e-05, 0.37627633355592643, 0.037726414456185145, 0.9622724236093451, 0.9999598501818269, 0.9997062114134, 0.9998312931584635, 0.9998613405590611, 0.21581038899188076, 0.7841557612437904, 0.9997666685463645, 0.11864833547193877, 0.00022642812112965414, 0.8810318193154842, 1.0000231875994106, 0.9998283150478402, 1.0001625950990944, 0.9998629679602156, 1.0003511125912967, 1.0000870079882038, 0.0006674189470123248, 0.9984587447304378, 0.0006674189470123248, 0.22843453276821923, 0.17888807754634883, 0.42435003090968526, 0.1683377541972174, 0.9998328576632937, 0.9997056065387633, 0.0002781983043102166, 1.0000232268369764, 0.6742781165820553, 0.3256631750283193, 0.9999042043282809, 0.24475328243967048, 0.7552762293531872, 1.0000183123515503, 1.0000452300926734, 0.99895352026697, 0.0009226077305628908, 0.00011532596632036135, 0.9996761002917156, 1.0001512687928433, 0.00024194737028820316, 0.9997265340308554, 1.0003099686357917, 1.0000653316009178, 0.978536014836618, 0.0009653826758777832, 0.020514381862402894, 0.9148389938327777, 0.08519625262411765, 1.000318735592579, 0.9999790254740496, 1.0001284731762488, 0.9999939399389757, 0.9998873361377895, 0.0006061212274622364, 0.12162832631075543, 0.8776635373653182, 0.7683996319013324, 0.23125709954934567, 0.00011341691983783505, 0.0002268338396756701, 0.00075751432387541, 0.9991613931916659, 1.0003477650702315, 0.10754041811940877, 0.2072120251569096, 0.3926728652093582, 0.2924894655811641, 6.397407383665007e-05, 0.03522666263921498, 0.9647976430527853, 0.9997306999017008, 0.9999441549220605, 1.0000104900131095, 0.0012559161309652867, 0.9984533241174031, 0.9987616451543256, 0.0012344458439823383, 0.9998116318695743, 9.167376377433168e-05, 0.5843285702975901, 0.41555717118904545, 0.9999996283667093, 1.0000694911961012, 0.0005740724653820307, 0.9284186946390891, 0.0708979494746808, 1.000040113749192, 0.9999755663210659, 0.9999299297409104, 2.2464676078784486e-05, 0.9999701262949338, 0.548593775065338, 0.0002582833215938503, 0.4508335378420657, 0.0002582833215938503, 0.9999740358577075, 1.0000490738477859, 0.9118131568334806, 0.08816454478743838, 0.9999760667864522, 0.9992734923264506, 0.0006001642596555258, 1.616978946831445e-05, 0.9999829001591478, 0.8960916459035545, 0.0008381215706034804, 0.1030889531842281, 0.9997216816153548, 0.00031182834735351053, 0.9998954958677392, 0.996195510309562, 0.003805904528403293, 0.9999706895428357, 0.9999070063309135, 6.105929447550766e-05, 0.00011932941798224281, 0.5890100071603505, 0.0027445766135915845, 0.40798728008128815, 0.026535786067307873, 0.1831067156674012, 0.7071640109892895, 0.08313240727359551, 1.0001675966442731, 0.09492617334840608, 0.07790492847214016, 0.14064349131735107, 0.6865235433427254, 0.9999707665595781, 0.5774356162311097, 0.42256671940855545, 1.0004345750491466, 0.9999441705770568, 1.0001243235428587, 1.0000005525541333, 0.6609965697893943, 0.33893910457580223, 1.0000518956557256, 1.0003772003609246, 1.0001005076301603, 0.0008690931692576778, 0.9994571446463294, 0.4127949721366531, 0.5870299051612037, 0.00016883229944239392, 0.9999312584849372, 0.0008525721004246555, 7.104767503538795e-05, 0.06728214825851239, 0.9316481627390423, 0.0001420953500707759, 0.9999409293925242, 0.9999992955743616, 0.7530549033253674, 0.050331486218436396, 0.0009586949755892647, 0.19569361189215867, 0.9998816051189973, 0.0007728082769820156, 0.9987258966197582, 0.0002576027589940052, 0.9999255425308546, 1.0002286616856717, 0.00171051367971915, 0.0068420547188766, 0.9909575917839609, 0.9999099095813782, 0.8219990615036843, 0.1757910738887263, 0.00023438809851830176, 0.0016407166896281122, 0.00023438809851830176, 0.5890686348700462, 0.212687465897532, 0.19826201328909723, 0.9993334890283232, 0.0004234463936560692, 1.0000939871535013, 0.23312312878728902, 0.7668752458151695, 0.5547773547868925, 0.4451870596492763, 5.3747079518203104e-05, 0.9999928821871823, 1.000108989955832, 0.9999988756452907, 0.9999623423878236, 0.999686598532364, 0.9999445439563364, 0.35889894924769483, 0.45072568751270126, 0.0007557756235802997, 0.1896052095657077, 0.023866599485440117, 0.9761760264874408, 0.9999972967079537, 1.0001325094916838, 0.9999556761999785, 0.014641339178729873, 0.7087400795669918, 0.27657241550329564, 0.9999639031765726, 0.9998919548617667, 0.9997973298814741, 1.6651461839497967e-05, 0.9999868893092109, 0.9999489015721832, 0.0006934263765035959, 0.9992274085416817, 0.9999114433877826, 0.9998603324460151, 0.00015728493510240918, 0.0013911097598950106, 0.0004637032532983369, 0.9978894010980209, 0.00023185162664916844, 0.9999255425308547, 0.04582767246598671, 0.953034688585421, 0.0006029956903419304, 0.0003014978451709652, 0.9998353670756955, 0.00021979234272932413, 0.9999377355006079, 6.880936798104928e-05, 1.000038124317954, 0.0001537606891378557, 0.9997520007743379, 0.9999586508599779, 1.0001571728710201, 1.0000691804073107, 0.9989079684594893, 0.00107064090938852, 1.0000141666451805, 0.00012732200226507192, 0.00012732200226507192, 0.9985864637649591, 0.0011458980203856474, 0.7410513715939006, 7.053265803016234e-05, 0.11599095613060195, 0.1428638988400938, 0.9997693385869748, 1.0001572875454288, 0.006976494725252619, 0.32403982079133875, 0.6690091257584353, 0.6554127465441406, 0.34458984380474755, 5.313842486495038e-05, 0.11552293565640212, 0.19066066841544196, 0.6937752750367921, 0.9999227700244436, 0.0005166372944622313, 0.9994348461371865, 1.0002808118699724, 0.0005263027622271184, 0.9994489454692979, 1.0002068802684032, 1.0002357590238695, 0.025340244314059884, 0.00036274378363684905, 0.00393836107948579, 0.9702878006880516, 5.182054051954986e-05, 0.9939650805330931, 0.005996772733231331, 0.01411523989169934, 0.18952383466111994, 1.5064290172571333e-05, 0.7442813845562318, 0.05206218683640653, 1.0000489471505805, 0.999822569363677, 0.009204201814213999, 0.34495144102713077, 4.20667358967733e-05, 0.22407688210134236, 0.0005721076081961169, 0.04132636134499009, 0.37982476508555585, 1.000306059585154, 0.9999262154901722, 0.999814020276445, 0.0001636356825329697, 0.00013238583955494846, 0.9996454744794158, 0.00013238583955494846, 0.0001645726373842946, 0.9994496268348212, 0.0003291452747685892, 0.9998512109051036, 2.068069392137419e-05, 0.9999735931802063, 0.9950748163185015, 0.0041634929553075375, 0.9998209043018002, 1.000062846880237, 0.6881026085852819, 0.31190028913108175, 0.9999816864721459, 1.000029946949287, 1.0000571343044855, 1.0003471174032463, 0.00017923435557363178, 0.9997692353897181, 1.0002686643284426, 1.0001097926768896, 1.0003627017412686, 0.6029471466445692, 0.3970655340242486, 0.27170064461915666, 3.115833080494916e-05, 0.5984892181014635, 0.12977444780261324, 1.0000104900131095, 0.19783422077675802, 0.8021421285317806, 1.000070334293786, 0.9998827193310115, 4.2969877792828545e-05, 4.2969877792828545e-05, 0.9999090562391202, 0.1763635245265003, 0.0008311193427262032, 0.8226419254303959, 1.0000248301430612, 1.0000205811958698, 0.9999586713578532, 1.0000332211071574, 1.0001104476189675, 0.9999895011082237, 0.9994861173577289, 0.000475379841787267, 1.0003521938293998, 0.053178801096084576, 0.9468103363345701, 1.0002325115325963, 0.9998376347254213, 0.9996724526237049, 0.0003567710394802658, 0.9999993678081023, 0.9997008481826521, 0.0017029392206696044, 0.9979223833123883, 0.012019234836572515, 0.279265100331575, 0.7086795813109384, 9.334353982112406e-05, 0.999895998563881, 0.9999405327179132, 0.9999255425308547, 1.0000632164317953, 1.0000128954916672, 1.000483071541599, 0.9860257146165704, 0.014135443503582564, 0.92178898699452, 0.00015066835354601504, 0.0780462071368358, 0.0002532841582869505, 0.002026273266295604, 0.997433015334011, 0.0002532841582869505, 0.0007331805697691105, 0.9981031489790158, 0.0009775740930254807, 0.9999952336134391, 1.000076834314556, 0.9901797528914691, 0.01003786638434695, 1.000101810734342, 1.0000005426595857, 1.0000290606710456, 0.00025876625222769637, 0.06934935559702263, 0.9297471442541131, 0.0005175325044553927, 0.0006949179974282615, 0.9992920803018401, 1.0001022323050999, 0.00011747156384483225, 0.9999179514472121, 1.0000285480590314, 0.9998076259221689, 0.3033315893615167, 0.00013211306156860484, 0.6965000605896847, 0.7872933165361584, 0.21268454979685597, 0.999879130722129, 0.9999856522719147, 0.9999255425308547, 5.734336716587768e-05, 0.22289366817376655, 0.4832325551068512, 0.2800650052381466, 0.013647721385478888, 5.734336716587768e-05, 0.9999864240405403, 1.000062971847556, 0.00033582405267396396, 0.9997482048103907, 0.09060510749593843, 0.1497181395227343, 0.15432163228234316, 0.1072404563317978, 0.4982234663922157, 0.9999586736139083, 0.9998578672865858, 6.00395048332949e-05, 0.9999379398302487, 0.999702589886796, 1.0001562768310002, 0.031087358550239707, 0.968981863382918, 1.0000549209821281, 0.00046741156623836483, 0.0007011173493575472, 0.9986248112682664, 0.0321584096310127, 0.9677671398332883, 1.0003640161737788, 0.9999274711191263, 0.9999935048226841, 1.000055919274314, 0.4020498768380732, 0.598004774775319, 0.9996888564874089, 0.9231975919546496, 0.04845210693456155, 0.005578966004980804, 0.022740350563780452, 3.0320467418373935e-05, 0.0001246907412800111, 0.999895054324409, 0.029361960746031965, 0.9707609083765414, 1.0000261076391093, 0.9998973182414546, 1.0001485970474664, 1.000149216611654, 0.533031354534911, 0.46697847774816414, 0.9989237948873286, 0.0003059490949118924, 0.0006118981898237848, 0.1697875800380214, 0.0013066495521260135, 0.8288769864780546, 0.999988543257774, 0.0002887357072339556, 0.0020211499506376895, 0.0005774714144679112, 0.9970043970788488, 0.99855447679978, 0.0007352042974523487, 0.000588163437961879, 0.9998564916681705, 0.06964170748573803, 0.9304559588375844, 1.000092560193476, 1.0001085954910058, 1.000049352406625, 0.32600006640588886, 0.6723967435413084, 0.0016132912441436705, 0.998600947705446, 0.0012099365279145146, 1.0004336981242552, 0.9999312584849374, 0.0002738319313567159, 0.9997603813833699, 0.08928684245504649, 0.5510010710679467, 0.20140166112540386, 0.032216901916769354, 0.12610615893135432, 0.9996143476333045, 0.00015364499656214334, 0.00015364499656214334, 0.8248672250594539, 0.1656681040537544, 0.004684909817219773, 0.004765684124413218, 0.9991643472474501, 0.0008421380001437273, 0.8002218624985289, 0.19977439673647884, 0.9998041601787823, 1.0000672295018758, 1.0001346147282673, 0.000792757037783719, 0.9990720568669319, 0.9999790131705582, 1.0000003928596615, 1.0003776932521824, 1.0001561297746921, 0.47651156117013765, 0.5234858311057871, 0.00020741523530510748, 0.9982895275234823, 0.0014519066471357523, 0.00010346916580083332, 0.9998915285773196, 1.0000489471505802, 0.3698662242594255, 0.5644678025281596, 0.06549911864768401, 0.00018957776743179166, 0.9133411455583365, 0.0005353699563647928, 0.08440999645351566, 0.0016061098690943784, 0.9993166372380495, 0.000507009963083739, 0.9995809385379597, 0.1667732879668587, 0.00018333450491043462, 0.8330719903130148, 0.028761992190658284, 0.688277565809785, 0.28313552527470603, 0.38308976465756184, 0.6168805143141924, 1.0000117739986152, 0.9998701745866572, 0.0001301829535299339, 1.0000103010999266, 0.9999259175388721, 0.9998534864327402, 0.9999965681708165, 0.05135208008204773, 0.9045150064192811, 0.005055386122066875, 0.03911272420757003, 0.9999688482177568, 1.0000753235750923, 1.0001599750400234, 0.21085281417922377, 0.7890777702762447, 0.999666307121196, 0.999989801053688, 1.000018918150721, 1.000118373645026, 0.05007699031015023, 0.8157229886785277, 0.13427236962282038, 1.0002617625029082, 1.0003155176325258, 0.9999663699843937, 0.999887780671458, 7.354801523813376e-05, 0.9999220411700476, 0.000631072058055983, 0.9996181399606769, 0.9999770208188326, 1.0001172188700695, 1.0000156774478384, 0.9998123093480507, 0.9999296791542975, 0.9999684177900241, 0.000831763144547002, 0.0026141127400048634, 0.9965710704736722, 1.000041153117148, 0.9998769605340359, 0.9996526686775384, 0.0004108724491070853, 1.0001116093654865, 0.00010307548715848292, 0.00020615097431696584, 0.9996260744629674, 1.0001971180582754, 0.9990849628920913, 0.001089990140619781, 0.0001883197636461043, 0.9997896251971676, 0.12672748203144116, 0.5543629500318108, 0.14808134188916194, 4.652257049612377e-05, 0.170644788579782, 9.304514099224754e-05, 0.08030641299096708, 0.24819337058440188, 0.23471197999775403, 0.4368358503759852, 1.0001546810809725, 0.9996543451376265, 0.0004936564667346304, 0.00014458183067441688, 0.00014458183067441688, 0.9996387772829184, 0.999673103058191, 0.9999164491303255, 1.0000330964490038, 0.0009077301865561249, 0.24428027909321495, 0.7546263617569918, 0.00010085890961734721, 0.00035948510759327076, 0.999728084216886, 0.24510555240039344, 0.00039511910650251496, 0.6515514066226472, 0.0005268254753366866, 0.10233584858415137, 0.9997450207213247, 0.0024617556403850605, 0.00041029260673084344, 0.9970110343559495, 0.8396890404445891, 0.1603188801749435, 0.0003166036765932199, 0.9995178070047953, 0.9999151347692913, 1.0000242216307147, 0.29523132087125975, 0.36045422403141586, 0.34429878142838183, 7.514159350248402e-05, 0.0006941244090659162, 0.9991920868503863, 1.0000257081264532, 1.0000742525301878, 0.9961294023769548, 0.004034727552381905, 0.2723718962504318, 0.0015116026153336483, 0.7262305815043597, 0.00035952132677256226, 0.8306740255080051, 0.16897502358310426, 0.4190241438459666, 0.5807821569270765, 0.00012889084707658156, 1.0000028481114014, 0.0003229738393444486, 0.9996040327710685, 0.9999364184696313, 0.00023749797287379013, 5.9374493218447533e-05, 0.6660630649245445, 0.3335659029012382, 5.9374493218447533e-05, 0.9993063959750208, 0.0006648745149534403, 0.01663330024223925, 7.526380200108258e-05, 0.9832463093421429, 1.0000100552744158, 0.9999462229260944, 1.0000683524465581, 0.9999093925935574, 7.49978918127551e-05, 0.00020383318772570707, 8.153327509028282e-05, 1.3588879181713804e-05, 0.99938053053996, 0.00033972197954284513, 0.999936502582249, 0.9932122211188903, 0.005239968552665609, 0.001429082332545166, 0.00015204474012371334, 0.0003040894802474267, 0.019309681995711595, 0.9802324395775799, 0.00019912208028778668, 0.007964883211511467, 0.9918270819134655, 0.8636308793513094, 0.12360731427863823, 0.01273109042195712, 0.9998483754088386, 0.20708866545616092, 0.14059717859956544, 0.5707997546797219, 0.08154282209710312, 0.9999727054807526, 0.969291211756185, 0.030707281124021595, 0.9998486932095806, 1.0000535171011016, 1.0000104900131095, 0.0016108352314394983, 0.0002684725385732497, 0.9981808984153424, 0.0004000638872795228, 0.9995596223678876, 1.0001202005233603, 1.000031694603875, 1.0000388220592922, 0.9999738604488138, 1.000017818116073, 0.9999110541799426, 0.7539549939402073, 0.24603555685359751, 1.0000031550982118, 0.5945334763987662, 0.17089926216082324, 0.23458493645289694, 1.0000563279135086, 1.0000350927385957, 0.80484160125371, 0.19515128312278746, 0.999934543659738, 1.0002378290479357, 1.0000620357652021, 0.00019759868865111774, 0.2943232467458399, 0.7055261178288159, 0.9999830931970672, 0.9993414561926681, 0.0005527331063012545, 1.000118373645026, 0.002608933832069437, 0.9974475826767872, 0.6869234243710649, 0.31311106871499883, 0.9999790037490334, 0.9999685010788232, 0.13138069051684167, 0.15651438783310706, 0.712121423960852, 1.0002982399734635, 0.9999140475237586, 9.928347810398391e-05, 0.008240528682630664, 0.9917426627806953, 0.0004259849704669831, 0.9993607407155424, 0.9997135160973987, 4.40220395430214e-05, 0.9999459542065501, 0.9999515439465341, 1.000008119720634, 0.9993110200332309, 0.0003577912710466276, 0.0003577912710466276, 0.9999834174909114, 0.0003233152941568215, 0.999690889532892, 1.000231671241052, 0.0002732562528330935, 0.0546512505666187, 0.9450567504232539, 0.8086558950225639, 0.1913142262064382, 0.9997993455989593, 0.42793821775880475, 0.5164307995629537, 0.055625966370106625, 0.9997535618009025, 0.23165329990987032, 0.046977450973640124, 0.7213705318893084, 1.0000431854454384, 0.00042267807238422026, 0.9996336411886809, 0.9999728384767358, 0.9997570867823004, 0.9997600925889537, 0.000264566786939463, 1.0001051840649637, 0.9997832142470415, 0.00020316667633550934, 0.9999930567008147, 0.000275801578841723, 0.9997807233012458, 1.0000846971302615, 0.997517762882087, 0.0022179383276978034, 0.0002772422909622254, 0.999975926043064, 1.000122278204127, 0.9999816047813828, 0.9998965418464884, 0.007823358592083591, 0.00011420961448297213, 0.99179629217013, 0.00022841922896594426, 0.9999255425308547, 0.001037360522398288, 0.998632396228752, 0.0003457868407994294, 1.0000541170672586, 1.0000077220831474, 0.9998598680072962, 1.0000325080629453, 0.9998262437483798, 1.0000206004821677, 1.0002127694313252, 0.691002659052561, 0.3089060674708317, 0.00013566362207765995, 0.0003196242120176734, 0.18452971173820346, 0.005966318624329904, 0.23609575127705476, 0.5730862121476884, 1.000209713800713, 0.9998786060128149, 1.0001136183953974, 0.9993615696819725, 0.00048654409429502073, 1.0000710065631497, 1.0000311611251476, 1.0000618524275449, 0.9914567778341934, 0.004404027885993086, 0.003303020914494814, 0.0011010069714982714, 0.999890659379188, 0.9999270495042911, 0.9989003349646236, 0.0008338066235097025, 1.0002256725199652, 0.00010521653982911959, 7.891240487183969e-05, 0.9997938655912516, 1.0000464378932692, 0.6717244478409882, 0.11257033560148672, 0.21569133646270264, 0.0003781893424224033, 0.9995544320224119, 0.9999938279738507, 0.9998739576044902, 0.9999978372559026, 0.9999638830247216, 0.0006577058896165486, 0.9993840992723455, 1.0000374819015947, 1.0001341501452095, 1.000013065442829, 0.9995684094396108, 0.00040674197739149983, 1.0001427985236044, 0.6213963287028742, 0.37860481651363054, 0.9999962336139352, 1.0000956989460543, 0.999919389739543, 0.0015218445767693665, 0.0003804611441923416, 0.9979495812165121, 0.9995232933433534, 0.9999996958821368, 0.16100773183644784, 0.8390408869049869, 0.9998886009294145, 1.0000973679052152, 0.9997907575510352, 0.0002583438650002675, 0.9998173897808486, 0.9999115770147937, 1.0001087400714626, 3.674759702228186e-05, 0.00011024279106684558, 3.674759702228186e-05, 0.9996816293941557, 7.349519404456372e-05, 3.674759702228186e-05, 0.008545396618867678, 0.9914303423390135, 0.0004120464946985523, 0.9994874473071217, 0.006287713811538371, 0.9934587822230625, 0.9999858149835318, 1.0001511698394765, 0.999987449870325, 7.284209121628361e-05, 0.8675493063859377, 0.13220839555755476, 0.00014568418243256722, 0.9998987942058143, 8.4140005823567e-05, 0.0006813533388664306, 0.9992046714476205, 0.9999255425308547, 0.9999679672458459, 0.9999255425308547, 1.0000263909037852, 0.0003397054263027393, 0.0006794108526054786, 0.9987339533300534, 0.0004449543571748644, 0.9993674862147455, 0.9997966194357751, 0.9377156380455715, 0.06227535489971005, 3.1057260130520766e-05, 0.00012422904052208306, 0.00024845808104416613, 0.7159009032686342, 0.13603079937168097, 9.31717803915623e-05, 0.14752198561997365, 1.0001174197683584, 0.00012000440359814327, 0.9998766907797296, 1.0000025242431059, 0.9999929868066095, 0.12711976785705137, 0.8728542333535048, 0.0025092774983049996, 0.9976170396832591, 0.0005143166687275593, 0.819306453283002, 0.18018227294422162, 9.08971465280684e-05, 0.3011422464474906, 0.6987263653612619, 0.7268542701317664, 0.2731479028352581, 0.9985005218086086, 0.0017517553014186117, 1.0000281944011216, 1.0003692424382171, 1.0000945392260354, 0.0009316172041378035, 0.9991594514377942, 1.000124210226191], \"Term\": [\"accord\", \"accord\", \"accuse\", \"accuse\", \"active_case\", \"activity\", \"adapt\", \"add\", \"additional\", \"additional\", \"additional_death\", \"adjust\", \"administer\", \"administration\", \"administration\", \"admit\", \"advice\", \"advise\", \"affect\", \"affect\", \"affect\", \"affect\", \"affect\", \"africa\", \"africa\", \"africa\", \"africa\", \"africa\", \"african\", \"agree\", \"agree\", \"ahead\", \"ahead\", \"ahead\", \"aid\", \"aid\", \"air\", \"airline\", \"airport\", \"airport\", \"alert\", \"alert\", \"alternative\", \"american\", \"american\", \"american\", \"amid\", \"amid\", \"amid\", \"amp\", \"amp\", \"analysis\", \"analysis\", \"ani\", \"animal\", \"announce\", \"announce\", \"announce\", \"announcement\", \"announcement\", \"annual\", \"annual\", \"answer\", \"answer\", \"anti\", \"antibody\", \"anticipate\", \"anxiety\", \"app\", \"apply\", \"approval\", \"approve\", \"approve\", \"april\", \"april\", \"april\", \"area\", \"arrest\", \"arrival\", \"associate\", \"astrazeneca\", \"attack\", \"attack\", \"august\", \"august\", \"australian\", \"australian\", \"authority\", \"authority\", \"average\", \"avoid\", \"await\", \"ban\", \"batch\", \"battle\", \"battle\", \"battle\", \"battle\", \"bay_area\", \"beat\", \"beat\", \"bed\", \"begin\", \"begin\", \"benefit\", \"benefit\", \"bengaluru\", \"biden\", \"big\", \"big\", \"bill\", \"bill\", \"bjp\", \"blame\", \"blame\", \"blow\", \"bn\", \"body\", \"body\", \"body\", \"border\", \"boris_johnson\", \"boy\", \"brand\", \"breach\", \"break\", \"break\", \"breaking\", \"breaking\", \"breaking\", \"bring\", \"bring\", \"bring\", \"bring\", \"bring\", \"bring\", \"bring_total\", \"bring_total_numb\", \"british\", \"british\", \"budget\", \"budget\", \"business\", \"business\", \"call\", \"call\", \"call\", \"camp\", \"campaign\", \"campus\", \"campus\", \"cancel\", \"cancel\", \"cancellation\", \"cancer\", \"capacity\", \"capacity\", \"capacity\", \"capital\", \"capital\", \"capital\", \"capital\", \"care\", \"care_home\", \"care_home\", \"case\", \"case\", \"case\", \"caseload\", \"cases\", \"cash\", \"catch\", \"catch\", \"cdc\", \"cdnpoli\", \"cdntopstories\", \"celebrate\", \"celebrate\", \"celebration\", \"cent\", \"center\", \"central\", \"centre\", \"ceo\", \"ceo\", \"challenge\", \"change\", \"change\", \"charge\", \"check\", \"chhattisgarh\", \"chief\", \"chief_minister\", \"child\", \"child\", \"china\", \"chinese\", \"chinese\", \"chinese\", \"city\", \"city\", \"city\", \"claim\", \"claim\", \"class\", \"clinical_trial\", \"close\", \"close\", \"close\", \"close\", \"club\", \"cluster\", \"college\", \"combat\", \"combat\", \"comment\", \"committee\", \"common\", \"community\", \"community\", \"community\", \"community\", \"community\", \"community_quarantine\", \"community_transmission\", \"company\", \"company\", \"complete\", \"complete\", \"completely\", \"complication\", \"comply\", \"concern\", \"concern\", \"concern\", \"condition\", \"condition\", \"condition\", \"condition\", \"conduct\", \"conference\", \"confirm\", \"confusion\", \"consecutive_day\", \"contact\", \"continue\", \"continue\", \"continue\", \"continue\", \"continue\", \"contract\", \"contract\", \"control\", \"control\", \"control\", \"cooperation\", \"cope\", \"cope\", \"cope\", \"corona\", \"corona\", \"coronaviruslockdown\", \"coronavirusoutbreak\", \"coronavirusoutbreak\", \"coronavirusoutbreak\", \"coronaviruspandemic\", \"coronaviruspandemic\", \"coronaviruspandemic\", \"coronavirusupdates\", \"cost\", \"cost\", \"cost\", \"count\", \"countries\", \"country\", \"country\", \"country\", \"country\", \"country\", \"county\", \"county\", \"county\", \"county\", \"couple\", \"court\", \"court\", \"court\", \"coverage\", \"covidab\", \"covidindia\", \"covidindia\", \"covidph\", \"covidvaccine\", \"covid\\u30fc\", \"crisis\", \"crisis\", \"crisis\", \"crisis\", \"crisis\", \"crisis\", \"cross\", \"cruise_ship\", \"curb\", \"curb\", \"curfew\", \"curfew\", \"customer\", \"customer\", \"cut\", \"cut\", \"dad\", \"daily\", \"daily\", \"damage\", \"dark\", \"date\", \"date\", \"datum\", \"datum\", \"day\", \"day\", \"day\", \"day\", \"day\", \"day\", \"day\", \"days\", \"dead\", \"dead\", \"deal\", \"deal\", \"death\", \"death\", \"death_toll\", \"death_toll\", \"death_toll\", \"death_toll\", \"death_toll_rise\", \"death_toll_rise\", \"deaths\", \"debt\", \"decade\", \"december\", \"decide\", \"decide\", \"decide\", \"decide\", \"declare\", \"decline\", \"decrease\", \"defy\", \"delay\", \"delay\", \"delhi\", \"deliver\", \"deliver\", \"deliver\", \"delivery\", \"delivery\", \"demand\", \"demand\", \"department_health\", \"department_health\", \"detail\", \"details\", \"detect\", \"devastate\", \"devastate\", \"develope\", \"development\", \"development\", \"dfa\", \"diagnose\", \"diagnose\", \"die\", \"difficult\", \"difficult\", \"difficult\", \"disaster\", \"disaster\", \"discharge\", \"discharge\", \"discover\", \"discuss\", \"disease\", \"disease\", \"disease\", \"distribution\", \"district\", \"doctor\", \"doctor\", \"doctor\", \"doctors\", \"doctors\", \"doctors\", \"doh\", \"doh\", \"dollar\", \"donald_trump\", \"donate\", \"dose\", \"double\", \"dr\", \"dr\", \"drink\", \"drive\", \"drive\", \"drop\", \"drop\", \"drug\", \"drug\", \"drug\", \"dstv\", \"duterte\", \"dye\", \"early\", \"early\", \"ease\", \"easy\", \"easy\", \"economic\", \"economist\", \"economy\", \"economy\", \"education\", \"effective\", \"effective\", \"effort\", \"election\", \"election\", \"eligible\", \"emerge\", \"emerge\", \"emerge\", \"emerge\", \"emergency\", \"emergency\", \"employee\", \"employer\", \"end\", \"end\", \"enforce\", \"enhance_community_quarantine\", \"enhance_community_quarantine\", \"ensure\", \"ensure\", \"ensure\", \"entire\", \"epidemic\", \"era\", \"era\", \"era\", \"essential\", \"essential\", \"eu\", \"europe\", \"europe\", \"european\", \"event\", \"event\", \"evidence\", \"exam\", \"exclusive\", \"exclusive\", \"executive\", \"exercise\", \"exit\", \"expect\", \"experience\", \"experience\", \"experience\", \"experimental\", \"expert\", \"expert\", \"expert_warn\", \"expert_warn\", \"extend\", \"extension\", \"face\", \"face\", \"facility\", \"facility\", \"fail\", \"fail\", \"fall\", \"fall\", \"fall\", \"fall\", \"fall\", \"family\", \"family\", \"family_member\", \"fan\", \"fan\", \"fatality\", \"fear\", \"fear\", \"fears\", \"feature\", \"february\", \"federal\", \"federal_government\", \"feel\", \"feel\", \"feel\", \"festival\", \"fg\", \"fight\", \"fight\", \"figure\", \"figure\", \"figure\", \"filipino\", \"film\", \"film\", \"final\", \"finally\", \"financial\", \"find\", \"fine\", \"firm\", \"firm\", \"flight\", \"flight\", \"flood\", \"flout\", \"flu\", \"flu\", \"fly\", \"follow\", \"follow\", \"follow_live_blog\", \"food\", \"food\", \"force\", \"force\", \"force\", \"forecast\", \"free\", \"free\", \"free\", \"free\", \"free\", \"free\", \"freedom\", \"fresh\", \"fresh\", \"friday\", \"friday\", \"friday\", \"friend\", \"fuel\", \"fund\", \"future\", \"game\", \"game\", \"give\", \"give\", \"global\", \"global\", \"global\", \"global_economy\", \"gov\", \"government\", \"government\", \"governor\", \"governor\", \"governor\", \"governor\", \"govt\", \"gp\", \"grant\", \"great\", \"group\", \"group\", \"grow\", \"grow\", \"growth\", \"growth\", \"growth\", \"guard\", \"guest\", \"guideline\", \"guideline\", \"gym\", \"handle\", \"hard\", \"hard\", \"hard\", \"hard_hit\", \"hard_hit\", \"head\", \"head\", \"head\", \"head\", \"health\", \"health_department\", \"health_department\", \"health_minister\", \"health_minister\", \"health_ministry\", \"health_ministry\", \"health_ministry\", \"health_ministry\", \"health_ministry\", \"health_official\", \"health_official\", \"health_official\", \"health_official\", \"health_worker\", \"health_worker\", \"healthy\", \"hear\", \"high\", \"high_daily\", \"high_level\", \"high_level\", \"high_risk\", \"high_risk\", \"high_single_day\", \"hire\", \"hit\", \"hit\", \"hit\", \"hold\", \"hold\", \"home\", \"home\", \"home\", \"hope\", \"hope\", \"hope\", \"hospital\", \"hospitalise\", \"hospitalization\", \"hotel\", \"hotel_quarantine\", \"hotspot\", \"hour\", \"house\", \"house\", \"huge\", \"huge\", \"human\", \"iatf\", \"idea\", \"idea\", \"identify\", \"identify\", \"identify\", \"imf\", \"impact\", \"impact\", \"impact\", \"implementation\", \"impose\", \"include\", \"include\", \"include\", \"include\", \"include\", \"include\", \"include\", \"income\", \"increase\", \"indiafightscovid\", \"indiafightscovid\", \"indian\", \"indian\", \"indian\", \"indian\", \"industry\", \"industry\", \"infect\", \"infect\", \"infect\", \"infection\", \"infection\", \"infection_rate\", \"infectious\", \"inoculate\", \"inquiry\", \"inside\", \"inside\", \"intend\", \"international\", \"international\", \"international\", \"internet\", \"intervention\", \"interview\", \"investigate\", \"investment\", \"investor\", \"involve\", \"involve\", \"involve\", \"issue\", \"issue\", \"issue\", \"issue\", \"italian\", \"jab\", \"jab\", \"january\", \"job\", \"job\", \"johnson_amp_johnson\", \"join\", \"join\", \"july\", \"jump\", \"june\", \"june\", \"june\", \"justin\", \"kano\", \"karnataka\", \"karnataka\", \"kashmir\", \"kid\", \"kill\", \"kill\", \"kill\", \"lab\", \"lab\", \"labour\", \"lakh\", \"land\", \"late\", \"late_update\", \"latest\", \"latest\", \"latest\", \"launch\", \"launch\", \"launch\", \"launch\", \"lawmaker\", \"lawmaker\", \"lay\", \"lead\", \"lead\", \"lead\", \"lead\", \"lead\", \"leader\", \"leader\", \"leadership\", \"learn\", \"leave\", \"lesson\", \"lesson\", \"level\", \"level\", \"lie\", \"life\", \"life\", \"life\", \"lift\", \"limit\", \"line\", \"line\", \"line\", \"link\", \"list\", \"listen\", \"live\", \"live\", \"live_update\", \"live_update\", \"live_update\", \"live_update\", \"live_updates\", \"liveblog\", \"local\", \"local\", \"local_government\", \"lock\", \"lock\", \"lockdown\", \"lockdown\", \"long\", \"long\", \"long\", \"loss\", \"loss\", \"lot\", \"love\", \"love\", \"low\", \"maharashtra\", \"maharashtra\", \"major\", \"major\", \"major\", \"major\", \"make\", \"make\", \"make\", \"make\", \"malaca\\u00f1ang\", \"malay_mail\", \"malay_mail\", \"malay_mail\", \"malay_mail\", \"malaysian\", \"man\", \"man\", \"manage_isolation\", \"manufacture\", \"manufacturer\", \"march\", \"market\", \"market\", \"mask\", \"match\", \"mayor\", \"mco\", \"mco\", \"measure\", \"measure\", \"measure\", \"medical\", \"meet\", \"meet\", \"meet\", \"meet\", \"meet\", \"meeting\", \"melbourne\", \"member\", \"member\", \"member\", \"member\", \"mental_health\", \"message\", \"message\", \"message\", \"metro_manila\", \"mid\", \"middle\", \"middle\", \"middle\", \"migrant\", \"million\", \"million\", \"million\", \"million\", \"million\", \"minister\", \"minister\", \"minister\", \"ministry_health\", \"ministry_health\", \"misinformation\", \"miss\", \"miss\", \"monday\", \"monday\", \"monday\", \"month\", \"morning\", \"movie\", \"mull\", \"muslim\", \"mutation\", \"nation\", \"nation\", \"nation\", \"nation\", \"national\", \"national\", \"nationwide\", \"ncdc\", \"ncov\", \"need_know\", \"need_know\", \"need_know\", \"negative\", \"network\", \"new_youtube\", \"news\", \"news\", \"newsalert\", \"nhs\", \"nhs\", \"nigeria\", \"nigerian\", \"nigerian\", \"normal\", \"normal\", \"normal\", \"normal\", \"north\", \"november\", \"november\", \"november\", \"november\", \"nsw\", \"nsw\", \"numb\", \"numb\", \"number\", \"nurse\", \"nurse\", \"nurse_home\", \"nyc\", \"nz\", \"october\", \"october\", \"offer\", \"office\", \"office\", \"office\", \"office\", \"official\", \"official\", \"official\", \"official\", \"ogun\", \"oil\", \"ongoing\", \"ongoing\", \"ongoing\", \"online\", \"online\", \"open\", \"open\", \"open\", \"open\", \"operate\", \"operation\", \"operation\", \"operator\", \"opinion\", \"opinion\", \"opportunity\", \"opt\", \"order\", \"order\", \"order\", \"order\", \"order\", \"ottnews\", \"ottnews\", \"outbreak\", \"outbreak\", \"outbreak\", \"outbreak\", \"outbreak\", \"overnight\", \"owner\", \"pandemic\", \"pandemic\", \"pandemic\", \"pandemic\", \"pandemic\", \"pandemic\", \"pandemic\", \"panic_buy\", \"parent\", \"party\", \"party\", \"pass\", \"pass\", \"pass\", \"passenger\", \"passenger\", \"passenger\", \"past_hour\", \"patient\", \"patient\", \"patient_discharge\", \"patient_discharge\", \"patient_recover\", \"pay\", \"people\", \"people\", \"performance\", \"person\", \"pfizer\", \"pharmacy\", \"phase\", \"phase\", \"philippine\", \"photos\", \"pics\", \"place\", \"place\", \"plan\", \"plan\", \"plan\", \"plan\", \"plane\", \"play\", \"play\", \"player\", \"plunge\", \"pm\", \"pm\", \"pm\", \"pm_modi\", \"pm_modi\", \"pm_modi\", \"pnp\", \"police\", \"politic\", \"political\", \"politician\", \"poll\", \"poor\", \"poor\", \"port\", \"positive\", \"positive\", \"possibility\", \"possibly\", \"post\", \"post\", \"postpone\", \"potentially\", \"premier\", \"premier\", \"prepare\", \"prepare\", \"prepare\", \"president\", \"president\", \"president_donald_trump\", \"president_duterte\", \"president_rodrigo_duterte\", \"president_trump\", \"press_conference\", \"pressure\", \"pressure\", \"prevent\", \"prevent\", \"prevent\", \"price\", \"price\", \"price\", \"price\", \"prime_minister\", \"prime_minister\", \"prime_minister\", \"prison\", \"private_hospital\", \"problem\", \"problem\", \"produce\", \"product\", \"program\", \"promise\", \"promise\", \"promise\", \"promise\", \"prompt\", \"prompt\", \"propose\", \"protect\", \"protect\", \"protest\", \"protester\", \"protocol\", \"protocol\", \"protocol\", \"provide\", \"provide\", \"provide_update\", \"province\", \"provincial\", \"public\", \"public\", \"public\", \"public\", \"public\", \"public\", \"public_health\", \"pune\", \"punjab\", \"punjab\", \"push\", \"push\", \"push\", \"push\", \"push\", \"put\", \"putt\", \"quarantine\", \"quarantine\", \"quarantine_hotel\", \"quarantine_period\", \"quarter\", \"quarter\", \"question\", \"race\", \"race\", \"race\", \"raise\", \"raise\", \"raise_concern\", \"rapid\", \"rate\", \"ravage\", \"reach\", \"reach\", \"react\", \"read\", \"read\", \"read\", \"read\", \"read\", \"ready\", \"ready\", \"reason\", \"reason\", \"receive\", \"receive_dose\", \"recently\", \"recession\", \"record\", \"record\", \"record_high\", \"record_high\", \"record_high\", \"recover\", \"recover\", \"recover\", \"recovery\", \"refuse\", \"refuse\", \"refuse\", \"refuse\", \"region\", \"region\", \"region\", \"regional\", \"register\", \"register\", \"registration\", \"regulation\", \"reject\", \"relate\", \"relate\", \"relate\", \"relate_death\", \"relate_death\", \"relationship\", \"relative\", \"relax\", \"relax\", \"release\", \"release\", \"release\", \"release\", \"release\", \"relief\", \"relief\", \"relief\", \"remain\", \"remain\", \"remain\", \"remain\", \"reopen\", \"reopen\", \"report\", \"report\", \"reportedly\", \"reporter\", \"reports\", \"research\", \"research\", \"researcher\", \"resident\", \"resort\", \"resource\", \"response\", \"response\", \"restaurant\", \"restaurant\", \"restaurant\", \"restriction\", \"restriction\", \"restriction_ease\", \"result\", \"result\", \"result\", \"result\", \"resume\", \"resume\", \"resume\", \"resume\", \"resurgence\", \"resurgence\", \"retailer\", \"return\", \"return\", \"return\", \"reuters\", \"reuters\", \"reuters\", \"reveal\", \"reveal\", \"rise\", \"risk\", \"risk\", \"role\", \"roll\", \"room\", \"rule\", \"run\", \"run\", \"run\", \"run\", \"russian\", \"sa\", \"sabah\", \"safe\", \"safe\", \"safely\", \"sale\", \"sample\", \"sample_test\", \"saturday\", \"saturday\", \"saturday\", \"sc\", \"scam\", \"scene\", \"schedule\", \"school\", \"school\", \"schools\", \"schools\", \"scientist\", \"scientists\", \"screen\", \"seal\", \"season\", \"sector\", \"seek\", \"seek\", \"seek\", \"self_quarantine\", \"sell\", \"senate\", \"senate\", \"senator\", \"send\", \"send\", \"send\", \"separate\", \"september\", \"september\", \"service\", \"service\", \"set\", \"set\", \"set\", \"set\", \"set\", \"set\", \"share\", \"share\", \"share\", \"share\", \"ship\", \"shock\", \"shock\", \"shoot\", \"shoot\", \"shoot\", \"shopper\", \"shot\", \"show\", \"shut\", \"shut\", \"shut\", \"shut\", \"sick\", \"sick\", \"sign\", \"sign\", \"sign\", \"sign\", \"sign\", \"similar\", \"single_day\", \"single_day\", \"single_day\", \"situation\", \"situation\", \"slam\", \"slam\", \"slump\", \"soar\", \"social_distance\", \"social_distance\", \"social_distance\", \"social_distance\", \"social_medium\", \"social_medium\", \"son\", \"source\", \"spark\", \"spark\", \"speak\", \"speak\", \"speak\", \"special\", \"special\", \"special\", \"spend\", \"spend\", \"spend\", \"spike\", \"sport\", \"sport\", \"spot\", \"spread\", \"spread\", \"spread\", \"spread\", \"spread\", \"spring\", \"spring\", \"staff\", \"staff\", \"staff\", \"staff_member\", \"stand\", \"star\", \"start\", \"start\", \"state\", \"state\", \"state\", \"state\", \"state\", \"states\", \"status\", \"status\", \"status\", \"stay\", \"stay\", \"stay\", \"stay\", \"stay_home\", \"stay_home\", \"stay_home\", \"step\", \"step\", \"step\", \"stick\", \"stop\", \"stop\", \"stop\", \"stop\", \"store\", \"story\", \"story\", \"straight_day\", \"strain\", \"strand\", \"street\", \"street\", \"street\", \"strict\", \"strict\", \"strong\", \"student\", \"students\", \"study\", \"study_find\", \"succumb\", \"suffer\", \"suffer\", \"suggest\", \"sunday\", \"sunday\", \"sunday\", \"supply\", \"support\", \"surge\", \"surge\", \"surprise\", \"surveillance\", \"suspect\", \"symptom\", \"symptom\", \"symptom\", \"system\", \"tackle\", \"tackle\", \"take_total_numb\", \"talk\", \"talk\", \"tally\", \"tally\", \"tally_rise\", \"tamil_nadu\", \"target\", \"target\", \"target\", \"teach\", \"teacher\", \"team\", \"team\", \"team\", \"technology\", \"technology\", \"temporarily\", \"test\", \"test\", \"test_negative\", \"test_positive\", \"test_result\", \"test_result\", \"test_result\", \"thanksgiving\", \"thing\", \"thing\", \"thread\", \"threat\", \"threat\", \"threat\", \"thursday\", \"thursday\", \"tighten\", \"time\", \"time\", \"time\", \"timeline\", \"today\", \"today\", \"today\", \"toll\", \"tomorrow\", \"tomorrow\", \"tonight\", \"top\", \"total\", \"total\", \"total_active\", \"total_numb\", \"total_numb\", \"touch\", \"tough\", \"tough\", \"tourism\", \"town\", \"town\", \"town\", \"trade\", \"traffic\", \"train\", \"transmission\", \"travel\", \"travel\", \"travel\", \"travel\", \"travel_restriction\", \"traveller\", \"traveller\", \"traveller\", \"treat\", \"treatment\", \"trend\", \"trial\", \"trudeau\", \"trump\", \"trust\", \"tuesday\", \"tuesday\", \"tuesday\", \"turn\", \"turn\", \"turn\", \"turn\", \"turn\", \"tv\", \"tweet\", \"twitter\", \"uncertainty\", \"uncertainty\", \"undergo\", \"unemployment\", \"union\", \"union_health_ministry\", \"union_health_ministry\", \"union_health_ministry\", \"union_health_ministry\", \"unit\", \"university\", \"unprecedented\", \"unprecedented\", \"unveil\", \"update\", \"update\", \"update\", \"updated\", \"urge\", \"urge\", \"urge\", \"vaccinate\", \"vaccinate\", \"vaccination\", \"vaccination_drive\", \"vaccine\", \"vaccines\", \"vanguardnews\", \"vanguardnews\", \"variant\", \"ventilator\", \"victim\", \"victoria\", \"victoria\", \"victorian\", \"video\", \"video\", \"view\", \"violate\", \"violence\", \"virtual\", \"virtual\", \"virtual\", \"virtually\", \"virus\", \"visit\", \"visit\", \"voice\", \"volunteer\", \"vote\", \"vote\", \"walk\", \"war\", \"ward\", \"warn\", \"warn\", \"warn\", \"warn\", \"warn\", \"warn\", \"watch\", \"watch\", \"watch_live\", \"watch_live\", \"water\", \"water\", \"wave\", \"wear\", \"wear_mask\", \"wednesday\", \"wednesday\", \"wednesday\", \"wednesday\", \"week\", \"week\", \"weekend\", \"weekend\", \"western\", \"white_house\", \"wide\", \"wife\", \"win\", \"win\", \"win\", \"winter\", \"winter\", \"witness\", \"woman\", \"woman\", \"work\", \"work\", \"work\", \"work\", \"work\", \"work\", \"work\", \"work_home\", \"worker\", \"worker\", \"world\", \"world_health_organization\", \"worry\", \"worry\", \"worsen\", \"worsen\", \"write\", \"write\", \"write\", \"wrong\", \"wrong\", \"wrong\", \"year\", \"year\", \"year_ago\", \"year_ago\", \"year_old\", \"yeg\", \"young\", \"young_people\", \"young_people\", \"youth\"]}, \"R\": 30, \"lambda.step\": 0.01, \"plot.opts\": {\"xlab\": \"PC1\", \"ylab\": \"PC2\"}, \"topic.order\": [17, 15, 3, 6, 14, 1, 16, 4, 8, 13, 9, 12, 7, 2, 10, 11, 5]};\n",
       "\n",
       "function LDAvis_load_lib(url, callback){\n",
       "  var s = document.createElement('script');\n",
       "  s.src = url;\n",
       "  s.async = true;\n",
       "  s.onreadystatechange = s.onload = callback;\n",
       "  s.onerror = function(){console.warn(\"failed to load library \" + url);};\n",
       "  document.getElementsByTagName(\"head\")[0].appendChild(s);\n",
       "}\n",
       "\n",
       "if(typeof(LDAvis) !== \"undefined\"){\n",
       "   // already loaded: just create the visualization\n",
       "   !function(LDAvis){\n",
       "       new LDAvis(\"#\" + \"ldavis_el7056209042241435260079048\", ldavis_el7056209042241435260079048_data);\n",
       "   }(LDAvis);\n",
       "}else if(typeof define === \"function\" && define.amd){\n",
       "   // require.js is available: use it to load d3/LDAvis\n",
       "   require.config({paths: {d3: \"https://d3js.org/d3.v5\"}});\n",
       "   require([\"d3\"], function(d3){\n",
       "      window.d3 = d3;\n",
       "      LDAvis_load_lib(\"https://cdn.jsdelivr.net/gh/bmabey/pyLDAvis@3.3.1/pyLDAvis/js/ldavis.v3.0.0.js\", function(){\n",
       "        new LDAvis(\"#\" + \"ldavis_el7056209042241435260079048\", ldavis_el7056209042241435260079048_data);\n",
       "      });\n",
       "    });\n",
       "}else{\n",
       "    // require.js not available: dynamically load d3 & LDAvis\n",
       "    LDAvis_load_lib(\"https://d3js.org/d3.v5.js\", function(){\n",
       "         LDAvis_load_lib(\"https://cdn.jsdelivr.net/gh/bmabey/pyLDAvis@3.3.1/pyLDAvis/js/ldavis.v3.0.0.js\", function(){\n",
       "                 new LDAvis(\"#\" + \"ldavis_el7056209042241435260079048\", ldavis_el7056209042241435260079048_data);\n",
       "            })\n",
       "         });\n",
       "}\n",
       "</script>"
      ],
      "text/plain": [
       "PreparedData(topic_coordinates=              x         y  topics  cluster      Freq\n",
       "topic                                               \n",
       "16     0.340755  0.228194       1        1  5.959309\n",
       "14     0.056720 -0.105384       2        1  5.929582\n",
       "2     -0.014622 -0.013133       3        1  5.902262\n",
       "5      0.326117  0.231772       4        1  5.899989\n",
       "13     0.047276 -0.090997       5        1  5.897638\n",
       "0     -0.210126  0.176295       6        1  5.892024\n",
       "15     0.006356 -0.184034       7        1  5.886223\n",
       "3     -0.233853  0.193284       8        1  5.884812\n",
       "7     -0.070396 -0.073062       9        1  5.880564\n",
       "12     0.014570 -0.102505      10        1  5.876393\n",
       "8     -0.129372 -0.010585      11        1  5.869187\n",
       "11    -0.245498  0.202522      12        1  5.868076\n",
       "6     -0.014821 -0.086966      13        1  5.865909\n",
       "1      0.094237 -0.082895      14        1  5.856141\n",
       "9      0.016005 -0.098497      15        1  5.855743\n",
       "10    -0.023141 -0.004438      16        1  5.852654\n",
       "4      0.039793 -0.179571      17        1  5.823496, topic_info=         Term           Freq          Total Category  logprob  loglift\n",
       "102      case  252197.000000  252197.000000  Default  30.0000  30.0000\n",
       "3    lockdown  185531.000000  185531.000000  Default  29.0000  29.0000\n",
       "16    vaccine  174668.000000  174668.000000  Default  28.0000  28.0000\n",
       "193  pandemic  237717.000000  237717.000000  Default  27.0000  27.0000\n",
       "28     report  106735.000000  106735.000000  Default  26.0000  26.0000\n",
       "..        ...            ...            ...      ...      ...      ...\n",
       "45     people   30800.851991   98752.713843  Topic17  -2.9282   1.6782\n",
       "849    battle    7669.629263   13322.186778  Topic17  -4.3185   2.2911\n",
       "332    infect    6694.256092   17790.117005  Topic17  -4.4545   1.8659\n",
       "420       man    5850.034793   13843.967665  Topic17  -4.5893   1.9819\n",
       "119        dr    4211.187443    5741.478398  Topic17  -4.9180   2.5333\n",
       "\n",
       "[997 rows x 6 columns], token_table=      Topic      Freq          Term\n",
       "term                               \n",
       "434       7  0.999857        accord\n",
       "434      15  0.000141        accord\n",
       "555       4  0.000272        accuse\n",
       "555      11  0.999607        accuse\n",
       "1742      1  0.999949   active_case\n",
       "...     ...       ...           ...\n",
       "831      16  1.000369           yeg\n",
       "648      17  1.000095         young\n",
       "1056      2  0.000932  young_people\n",
       "1056     13  0.999159  young_people\n",
       "1741     12  1.000124         youth\n",
       "\n",
       "[1605 rows x 3 columns], R=30, lambda_step=0.01, plot_opts={'xlab': 'PC1', 'ylab': 'PC2'}, topic_order=[17, 15, 3, 6, 14, 1, 16, 4, 8, 13, 9, 12, 7, 2, 10, 11, 5])"
      ]
     },
     "execution_count": 15,
     "metadata": {},
     "output_type": "execute_result"
    }
   ],
   "source": [
    "# Visualize the topics\n",
    "pyLDAvis.enable_notebook()\n",
    "vis = pyLDAvis.gensim_models.prepare(model, corpus, dictionary)\n",
    "vis"
   ]
  },
  {
   "cell_type": "code",
   "execution_count": 19,
   "metadata": {},
   "outputs": [
    {
     "data": {
      "text/plain": [
       "0.5112665876542648"
      ]
     },
     "execution_count": 19,
     "metadata": {},
     "output_type": "execute_result"
    }
   ],
   "source": [
    "CoherenceModel(model=ldamallet, texts=docs, dictionary=dictionary, coherence='c_v').get_coherence()"
   ]
  },
  {
   "cell_type": "code",
   "execution_count": 47,
   "metadata": {},
   "outputs": [],
   "source": [
    "m_coherence = CoherenceModel(model=ldamallet, texts=docs, dictionary=dictionary, coherence='c_v')"
   ]
  },
  {
   "cell_type": "code",
   "execution_count": 48,
   "metadata": {},
   "outputs": [],
   "source": [
    "m_coherence_per_topic = m_coherence.get_coherence_per_topic()"
   ]
  },
  {
   "cell_type": "code",
   "execution_count": 82,
   "metadata": {},
   "outputs": [
    {
     "data": {
      "text/plain": [
       "array([54.61, 40.66, 50.16, 48.32, 53.52, 58.61, 44.34, 42.43, 47.99,\n",
       "       50.37, 45.72, 47.48, 62.42, 52.98, 47.06, 45.64, 76.82])"
      ]
     },
     "execution_count": 82,
     "metadata": {},
     "output_type": "execute_result"
    }
   ],
   "source": [
    "np.round(np.array(m_coherence_per_topic) * 100,2)"
   ]
  },
  {
   "cell_type": "code",
   "execution_count": 54,
   "metadata": {},
   "outputs": [],
   "source": [
    "df_iter = ldamallet.load_document_topics()\n",
    "df = []\n",
    "for k in df_iter:\n",
    "    df.append([i[1] for i in k])\n",
    "df = pd.DataFrame(df, columns=[fr'topic_{k}' for k in range(17)])\n",
    "df['topic'] = df.idxmax(axis=1)\n",
    "df['num_topic'] = df.topic.apply(lambda x: int(x.replace('topic_','')))"
   ]
  },
  {
   "cell_type": "code",
   "execution_count": 72,
   "metadata": {},
   "outputs": [],
   "source": [
    "df['num_topic'] = df.topic.apply(lambda x: int(x.replace('topic_','')))"
   ]
  },
  {
   "cell_type": "code",
   "execution_count": 75,
   "metadata": {},
   "outputs": [
    {
     "data": {
      "text/plain": [
       "0     11.152372\n",
       "1      8.905642\n",
       "2      7.522627\n",
       "3      7.563384\n",
       "4      8.647749\n",
       "5      7.079537\n",
       "6      5.517940\n",
       "7      5.425401\n",
       "8      5.042495\n",
       "9      5.743894\n",
       "10     4.245816\n",
       "11     3.650839\n",
       "12     6.023297\n",
       "13     3.546860\n",
       "14     2.494016\n",
       "15     2.938059\n",
       "16     4.500074\n",
       "Name: num_topic, dtype: float64"
      ]
     },
     "execution_count": 75,
     "metadata": {},
     "output_type": "execute_result"
    }
   ],
   "source": [
    "df.num_topic.value_counts(normalize=True).sort_index() * 100"
   ]
  },
  {
   "cell_type": "code",
   "execution_count": 85,
   "metadata": {},
   "outputs": [
    {
     "data": {
      "text/plain": [
       "(1678217, 19)"
      ]
     },
     "execution_count": 85,
     "metadata": {},
     "output_type": "execute_result"
    }
   ],
   "source": [
    "df.shape"
   ]
  },
  {
   "cell_type": "code",
   "execution_count": 87,
   "metadata": {},
   "outputs": [],
   "source": [
    "df['tweetId'] = news_tweets.tweetId.values"
   ]
  },
  {
   "cell_type": "code",
   "execution_count": 88,
   "metadata": {},
   "outputs": [
    {
     "data": {
      "text/html": [
       "<div>\n",
       "<style scoped>\n",
       "    .dataframe tbody tr th:only-of-type {\n",
       "        vertical-align: middle;\n",
       "    }\n",
       "\n",
       "    .dataframe tbody tr th {\n",
       "        vertical-align: top;\n",
       "    }\n",
       "\n",
       "    .dataframe thead th {\n",
       "        text-align: right;\n",
       "    }\n",
       "</style>\n",
       "<table border=\"1\" class=\"dataframe\">\n",
       "  <thead>\n",
       "    <tr style=\"text-align: right;\">\n",
       "      <th></th>\n",
       "      <th>topic_0</th>\n",
       "      <th>topic_1</th>\n",
       "      <th>topic_2</th>\n",
       "      <th>topic_3</th>\n",
       "      <th>topic_4</th>\n",
       "      <th>topic_5</th>\n",
       "      <th>topic_6</th>\n",
       "      <th>topic_7</th>\n",
       "      <th>topic_8</th>\n",
       "      <th>topic_9</th>\n",
       "      <th>topic_10</th>\n",
       "      <th>topic_11</th>\n",
       "      <th>topic_12</th>\n",
       "      <th>topic_13</th>\n",
       "      <th>topic_14</th>\n",
       "      <th>topic_15</th>\n",
       "      <th>topic_16</th>\n",
       "      <th>topic</th>\n",
       "      <th>num_topic</th>\n",
       "      <th>tweetId</th>\n",
       "    </tr>\n",
       "  </thead>\n",
       "  <tbody>\n",
       "    <tr>\n",
       "      <th>0</th>\n",
       "      <td>0.056561</td>\n",
       "      <td>0.056561</td>\n",
       "      <td>0.056561</td>\n",
       "      <td>0.056561</td>\n",
       "      <td>0.056561</td>\n",
       "      <td>0.056561</td>\n",
       "      <td>0.075792</td>\n",
       "      <td>0.056561</td>\n",
       "      <td>0.056561</td>\n",
       "      <td>0.056561</td>\n",
       "      <td>0.056561</td>\n",
       "      <td>0.056561</td>\n",
       "      <td>0.056561</td>\n",
       "      <td>0.056561</td>\n",
       "      <td>0.056561</td>\n",
       "      <td>0.075792</td>\n",
       "      <td>0.056561</td>\n",
       "      <td>topic_6</td>\n",
       "      <td>6</td>\n",
       "      <td>1.212177e+18</td>\n",
       "    </tr>\n",
       "    <tr>\n",
       "      <th>1</th>\n",
       "      <td>0.052521</td>\n",
       "      <td>0.052521</td>\n",
       "      <td>0.070378</td>\n",
       "      <td>0.070378</td>\n",
       "      <td>0.052521</td>\n",
       "      <td>0.052521</td>\n",
       "      <td>0.052521</td>\n",
       "      <td>0.070378</td>\n",
       "      <td>0.052521</td>\n",
       "      <td>0.070378</td>\n",
       "      <td>0.052521</td>\n",
       "      <td>0.052521</td>\n",
       "      <td>0.052521</td>\n",
       "      <td>0.052521</td>\n",
       "      <td>0.088235</td>\n",
       "      <td>0.052521</td>\n",
       "      <td>0.052521</td>\n",
       "      <td>topic_14</td>\n",
       "      <td>14</td>\n",
       "      <td>1.212188e+18</td>\n",
       "    </tr>\n",
       "    <tr>\n",
       "      <th>2</th>\n",
       "      <td>0.055494</td>\n",
       "      <td>0.055494</td>\n",
       "      <td>0.055494</td>\n",
       "      <td>0.055494</td>\n",
       "      <td>0.055494</td>\n",
       "      <td>0.055494</td>\n",
       "      <td>0.093230</td>\n",
       "      <td>0.055494</td>\n",
       "      <td>0.055494</td>\n",
       "      <td>0.055494</td>\n",
       "      <td>0.055494</td>\n",
       "      <td>0.055494</td>\n",
       "      <td>0.055494</td>\n",
       "      <td>0.055494</td>\n",
       "      <td>0.055494</td>\n",
       "      <td>0.074362</td>\n",
       "      <td>0.055494</td>\n",
       "      <td>topic_6</td>\n",
       "      <td>6</td>\n",
       "      <td>1.212193e+18</td>\n",
       "    </tr>\n",
       "    <tr>\n",
       "      <th>3</th>\n",
       "      <td>0.070378</td>\n",
       "      <td>0.052521</td>\n",
       "      <td>0.052521</td>\n",
       "      <td>0.052521</td>\n",
       "      <td>0.070378</td>\n",
       "      <td>0.052521</td>\n",
       "      <td>0.052521</td>\n",
       "      <td>0.070378</td>\n",
       "      <td>0.052521</td>\n",
       "      <td>0.052521</td>\n",
       "      <td>0.052521</td>\n",
       "      <td>0.052521</td>\n",
       "      <td>0.070378</td>\n",
       "      <td>0.052521</td>\n",
       "      <td>0.052521</td>\n",
       "      <td>0.088235</td>\n",
       "      <td>0.052521</td>\n",
       "      <td>topic_15</td>\n",
       "      <td>15</td>\n",
       "      <td>1.212478e+18</td>\n",
       "    </tr>\n",
       "    <tr>\n",
       "      <th>4</th>\n",
       "      <td>0.053476</td>\n",
       "      <td>0.053476</td>\n",
       "      <td>0.071658</td>\n",
       "      <td>0.053476</td>\n",
       "      <td>0.053476</td>\n",
       "      <td>0.053476</td>\n",
       "      <td>0.053476</td>\n",
       "      <td>0.053476</td>\n",
       "      <td>0.053476</td>\n",
       "      <td>0.053476</td>\n",
       "      <td>0.053476</td>\n",
       "      <td>0.053476</td>\n",
       "      <td>0.089840</td>\n",
       "      <td>0.071658</td>\n",
       "      <td>0.053476</td>\n",
       "      <td>0.071658</td>\n",
       "      <td>0.053476</td>\n",
       "      <td>topic_12</td>\n",
       "      <td>12</td>\n",
       "      <td>1.212520e+18</td>\n",
       "    </tr>\n",
       "    <tr>\n",
       "      <th>...</th>\n",
       "      <td>...</td>\n",
       "      <td>...</td>\n",
       "      <td>...</td>\n",
       "      <td>...</td>\n",
       "      <td>...</td>\n",
       "      <td>...</td>\n",
       "      <td>...</td>\n",
       "      <td>...</td>\n",
       "      <td>...</td>\n",
       "      <td>...</td>\n",
       "      <td>...</td>\n",
       "      <td>...</td>\n",
       "      <td>...</td>\n",
       "      <td>...</td>\n",
       "      <td>...</td>\n",
       "      <td>...</td>\n",
       "      <td>...</td>\n",
       "      <td>...</td>\n",
       "      <td>...</td>\n",
       "      <td>...</td>\n",
       "    </tr>\n",
       "    <tr>\n",
       "      <th>1678212</th>\n",
       "      <td>0.049020</td>\n",
       "      <td>0.049020</td>\n",
       "      <td>0.049020</td>\n",
       "      <td>0.049020</td>\n",
       "      <td>0.049020</td>\n",
       "      <td>0.065686</td>\n",
       "      <td>0.065686</td>\n",
       "      <td>0.049020</td>\n",
       "      <td>0.065686</td>\n",
       "      <td>0.065686</td>\n",
       "      <td>0.049020</td>\n",
       "      <td>0.049020</td>\n",
       "      <td>0.049020</td>\n",
       "      <td>0.099020</td>\n",
       "      <td>0.082353</td>\n",
       "      <td>0.065686</td>\n",
       "      <td>0.049020</td>\n",
       "      <td>topic_13</td>\n",
       "      <td>13</td>\n",
       "      <td>1.387918e+18</td>\n",
       "    </tr>\n",
       "    <tr>\n",
       "      <th>1678213</th>\n",
       "      <td>0.054466</td>\n",
       "      <td>0.054466</td>\n",
       "      <td>0.054466</td>\n",
       "      <td>0.054466</td>\n",
       "      <td>0.054466</td>\n",
       "      <td>0.091503</td>\n",
       "      <td>0.054466</td>\n",
       "      <td>0.072985</td>\n",
       "      <td>0.054466</td>\n",
       "      <td>0.054466</td>\n",
       "      <td>0.054466</td>\n",
       "      <td>0.054466</td>\n",
       "      <td>0.054466</td>\n",
       "      <td>0.054466</td>\n",
       "      <td>0.054466</td>\n",
       "      <td>0.054466</td>\n",
       "      <td>0.072985</td>\n",
       "      <td>topic_5</td>\n",
       "      <td>5</td>\n",
       "      <td>1.387918e+18</td>\n",
       "    </tr>\n",
       "    <tr>\n",
       "      <th>1678214</th>\n",
       "      <td>0.050710</td>\n",
       "      <td>0.050710</td>\n",
       "      <td>0.067951</td>\n",
       "      <td>0.154158</td>\n",
       "      <td>0.050710</td>\n",
       "      <td>0.050710</td>\n",
       "      <td>0.067951</td>\n",
       "      <td>0.050710</td>\n",
       "      <td>0.050710</td>\n",
       "      <td>0.050710</td>\n",
       "      <td>0.050710</td>\n",
       "      <td>0.050710</td>\n",
       "      <td>0.050710</td>\n",
       "      <td>0.050710</td>\n",
       "      <td>0.050710</td>\n",
       "      <td>0.050710</td>\n",
       "      <td>0.050710</td>\n",
       "      <td>topic_3</td>\n",
       "      <td>3</td>\n",
       "      <td>1.387919e+18</td>\n",
       "    </tr>\n",
       "    <tr>\n",
       "      <th>1678215</th>\n",
       "      <td>0.054466</td>\n",
       "      <td>0.054466</td>\n",
       "      <td>0.054466</td>\n",
       "      <td>0.054466</td>\n",
       "      <td>0.054466</td>\n",
       "      <td>0.072985</td>\n",
       "      <td>0.054466</td>\n",
       "      <td>0.054466</td>\n",
       "      <td>0.054466</td>\n",
       "      <td>0.054466</td>\n",
       "      <td>0.054466</td>\n",
       "      <td>0.072985</td>\n",
       "      <td>0.054466</td>\n",
       "      <td>0.054466</td>\n",
       "      <td>0.072985</td>\n",
       "      <td>0.072985</td>\n",
       "      <td>0.054466</td>\n",
       "      <td>topic_5</td>\n",
       "      <td>5</td>\n",
       "      <td>1.387919e+18</td>\n",
       "    </tr>\n",
       "    <tr>\n",
       "      <th>1678216</th>\n",
       "      <td>0.070378</td>\n",
       "      <td>0.052521</td>\n",
       "      <td>0.052521</td>\n",
       "      <td>0.052521</td>\n",
       "      <td>0.052521</td>\n",
       "      <td>0.052521</td>\n",
       "      <td>0.052521</td>\n",
       "      <td>0.070378</td>\n",
       "      <td>0.052521</td>\n",
       "      <td>0.052521</td>\n",
       "      <td>0.052521</td>\n",
       "      <td>0.052521</td>\n",
       "      <td>0.052521</td>\n",
       "      <td>0.052521</td>\n",
       "      <td>0.052521</td>\n",
       "      <td>0.052521</td>\n",
       "      <td>0.123950</td>\n",
       "      <td>topic_16</td>\n",
       "      <td>16</td>\n",
       "      <td>1.387919e+18</td>\n",
       "    </tr>\n",
       "  </tbody>\n",
       "</table>\n",
       "<p>1678217 rows × 20 columns</p>\n",
       "</div>"
      ],
      "text/plain": [
       "          topic_0   topic_1   topic_2   topic_3   topic_4   topic_5   topic_6  \\\n",
       "0        0.056561  0.056561  0.056561  0.056561  0.056561  0.056561  0.075792   \n",
       "1        0.052521  0.052521  0.070378  0.070378  0.052521  0.052521  0.052521   \n",
       "2        0.055494  0.055494  0.055494  0.055494  0.055494  0.055494  0.093230   \n",
       "3        0.070378  0.052521  0.052521  0.052521  0.070378  0.052521  0.052521   \n",
       "4        0.053476  0.053476  0.071658  0.053476  0.053476  0.053476  0.053476   \n",
       "...           ...       ...       ...       ...       ...       ...       ...   \n",
       "1678212  0.049020  0.049020  0.049020  0.049020  0.049020  0.065686  0.065686   \n",
       "1678213  0.054466  0.054466  0.054466  0.054466  0.054466  0.091503  0.054466   \n",
       "1678214  0.050710  0.050710  0.067951  0.154158  0.050710  0.050710  0.067951   \n",
       "1678215  0.054466  0.054466  0.054466  0.054466  0.054466  0.072985  0.054466   \n",
       "1678216  0.070378  0.052521  0.052521  0.052521  0.052521  0.052521  0.052521   \n",
       "\n",
       "          topic_7   topic_8   topic_9  topic_10  topic_11  topic_12  topic_13  \\\n",
       "0        0.056561  0.056561  0.056561  0.056561  0.056561  0.056561  0.056561   \n",
       "1        0.070378  0.052521  0.070378  0.052521  0.052521  0.052521  0.052521   \n",
       "2        0.055494  0.055494  0.055494  0.055494  0.055494  0.055494  0.055494   \n",
       "3        0.070378  0.052521  0.052521  0.052521  0.052521  0.070378  0.052521   \n",
       "4        0.053476  0.053476  0.053476  0.053476  0.053476  0.089840  0.071658   \n",
       "...           ...       ...       ...       ...       ...       ...       ...   \n",
       "1678212  0.049020  0.065686  0.065686  0.049020  0.049020  0.049020  0.099020   \n",
       "1678213  0.072985  0.054466  0.054466  0.054466  0.054466  0.054466  0.054466   \n",
       "1678214  0.050710  0.050710  0.050710  0.050710  0.050710  0.050710  0.050710   \n",
       "1678215  0.054466  0.054466  0.054466  0.054466  0.072985  0.054466  0.054466   \n",
       "1678216  0.070378  0.052521  0.052521  0.052521  0.052521  0.052521  0.052521   \n",
       "\n",
       "         topic_14  topic_15  topic_16     topic  num_topic       tweetId  \n",
       "0        0.056561  0.075792  0.056561   topic_6          6  1.212177e+18  \n",
       "1        0.088235  0.052521  0.052521  topic_14         14  1.212188e+18  \n",
       "2        0.055494  0.074362  0.055494   topic_6          6  1.212193e+18  \n",
       "3        0.052521  0.088235  0.052521  topic_15         15  1.212478e+18  \n",
       "4        0.053476  0.071658  0.053476  topic_12         12  1.212520e+18  \n",
       "...           ...       ...       ...       ...        ...           ...  \n",
       "1678212  0.082353  0.065686  0.049020  topic_13         13  1.387918e+18  \n",
       "1678213  0.054466  0.054466  0.072985   topic_5          5  1.387918e+18  \n",
       "1678214  0.050710  0.050710  0.050710   topic_3          3  1.387919e+18  \n",
       "1678215  0.072985  0.072985  0.054466   topic_5          5  1.387919e+18  \n",
       "1678216  0.052521  0.052521  0.123950  topic_16         16  1.387919e+18  \n",
       "\n",
       "[1678217 rows x 20 columns]"
      ]
     },
     "execution_count": 88,
     "metadata": {},
     "output_type": "execute_result"
    }
   ],
   "source": [
    "df"
   ]
  },
  {
   "cell_type": "code",
   "execution_count": 187,
   "metadata": {},
   "outputs": [],
   "source": [
    "df.to_parquet('./../data/processed/news_tweets_topics_v4.parquet')"
   ]
  },
  {
   "cell_type": "code",
   "execution_count": 86,
   "metadata": {},
   "outputs": [
    {
     "data": {
      "text/plain": [
       "array([1.21217688e+18, 1.21218750e+18, 1.21219314e+18, ...,\n",
       "       1.38791864e+18, 1.38791925e+18, 1.38791926e+18])"
      ]
     },
     "execution_count": 86,
     "metadata": {},
     "output_type": "execute_result"
    }
   ],
   "source": [
    "news_tweets.tweetId.values"
   ]
  },
  {
   "cell_type": "code",
   "execution_count": 156,
   "metadata": {},
   "outputs": [
    {
     "ename": "ValueError",
     "evalue": "The truth value of an array with more than one element is ambiguous. Use a.any() or a.all()",
     "output_type": "error",
     "traceback": [
      "\u001b[1;31m---------------------------------------------------------------------------\u001b[0m",
      "\u001b[1;31mValueError\u001b[0m                                Traceback (most recent call last)",
      "\u001b[1;32mC:\\Users\\FC766~1.BRA\\AppData\\Local\\Temp/ipykernel_7056/2333404933.py\u001b[0m in \u001b[0;36m<module>\u001b[1;34m\u001b[0m\n\u001b[1;32m----> 1\u001b[1;33m \u001b[0mdf\u001b[0m\u001b[1;33m.\u001b[0m\u001b[0mnum_topic\u001b[0m\u001b[1;33m[\u001b[0m\u001b[1;36m0\u001b[0m\u001b[1;33m]\u001b[0m \u001b[1;32min\u001b[0m \u001b[0mthemes\u001b[0m\u001b[1;33m\u001b[0m\u001b[1;33m\u001b[0m\u001b[0m\n\u001b[0m",
      "\u001b[1;31mValueError\u001b[0m: The truth value of an array with more than one element is ambiguous. Use a.any() or a.all()"
     ]
    }
   ],
   "source": [
    "df.num_topic[0] in themes"
   ]
  },
  {
   "cell_type": "code",
   "execution_count": 83,
   "metadata": {},
   "outputs": [],
   "source": [
    "themes = [\n",
    "    [16,5],\n",
    "    [0,3,7],\n",
    "    [11],\n",
    "    [4],\n",
    "    [1,8,13],\n",
    "    [2,9,10,14],\n",
    "    [6,15],\n",
    "    [12]\n",
    "]"
   ]
  },
  {
   "cell_type": "code",
   "execution_count": 157,
   "metadata": {},
   "outputs": [],
   "source": [
    "topic2theme = pd.DataFrame({\n",
    "    'topic':[fr'topic_{k}' for k in range(17)], \n",
    "    'theme':[2,5,6,2,4,1,7,2,5,6,6,3,8,5,6,7,1]\n",
    "})\n",
    "\n",
    "df = df.merge(topic2theme, how='left')"
   ]
  },
  {
   "cell_type": "code",
   "execution_count": 159,
   "metadata": {},
   "outputs": [
    {
     "data": {
      "text/plain": [
       "2    405141\n",
       "6    335750\n",
       "5    293604\n",
       "1    194331\n",
       "4    145128\n",
       "7    141910\n",
       "8    101084\n",
       "3     61269\n",
       "Name: theme, dtype: int64"
      ]
     },
     "execution_count": 159,
     "metadata": {},
     "output_type": "execute_result"
    }
   ],
   "source": [
    "df.theme.value_counts()"
   ]
  },
  {
   "cell_type": "code",
   "execution_count": 139,
   "metadata": {},
   "outputs": [
    {
     "data": {
      "text/plain": [
       "['vaccine',\n",
       " 'vaccination',\n",
       " 'dose',\n",
       " 'receive',\n",
       " 'astrazeneca',\n",
       " 'trial',\n",
       " 'supply',\n",
       " 'ready',\n",
       " 'vaccinate',\n",
       " 'jab',\n",
       " 'shoot',\n",
       " 'approve',\n",
       " 'pfizer',\n",
       " 'roll',\n",
       " 'develope',\n",
       " 'effective',\n",
       " 'begin',\n",
       " 'give',\n",
       " 'eu',\n",
       " 'phase']"
      ]
     },
     "execution_count": 139,
     "metadata": {},
     "output_type": "execute_result"
    }
   ],
   "source": [
    "list(theme_words_tmp.drop_duplicates('wordid').wordid.values[:20])"
   ]
  },
  {
   "cell_type": "code",
   "execution_count": 142,
   "metadata": {},
   "outputs": [],
   "source": [
    "themes_keywords = []\n",
    "for theme in themes:\n",
    "    theme_words_tmp = pd.DataFrame()\n",
    "    for topic in theme:\n",
    "        tmp = pd.DataFrame(model.get_topic_terms(topic,20), columns=['wordid','imp'])\n",
    "        theme_words_tmp = pd.concat([theme_words_tmp, tmp])\n",
    "    theme_words_tmp = theme_words_tmp.sort_values('imp', ascending=False)\n",
    "    theme_words_tmp['wordid'] = theme_words_tmp.wordid.apply(lambda x: d[x])\n",
    "    themes_keywords = themes_keywords + [list(theme_words_tmp.drop_duplicates('wordid').wordid.values[:20])]"
   ]
  },
  {
   "cell_type": "code",
   "execution_count": 144,
   "metadata": {
    "tags": []
   },
   "outputs": [],
   "source": [
    "ch2 = CoherenceModel(topics=themes_keywords, texts=docs, dictionary=dictionary, coherence='c_v')"
   ]
  },
  {
   "cell_type": "code",
   "execution_count": 146,
   "metadata": {},
   "outputs": [],
   "source": [
    "cm = ch2.get_coherence()\n",
    "ct = ch2.get_coherence_per_topic()"
   ]
  },
  {
   "cell_type": "code",
   "execution_count": 148,
   "metadata": {},
   "outputs": [
    {
     "data": {
      "text/plain": [
       "0.4458135855491103"
      ]
     },
     "execution_count": 148,
     "metadata": {},
     "output_type": "execute_result"
    }
   ],
   "source": [
    "cm"
   ]
  },
  {
   "cell_type": "code",
   "execution_count": 149,
   "metadata": {},
   "outputs": [
    {
     "data": {
      "text/plain": [
       "[0.6084162328519914,\n",
       " 0.3837689810147352,\n",
       " 0.4560105330210148,\n",
       " 0.5181523399730444,\n",
       " 0.30296325559563825,\n",
       " 0.31221385574574534,\n",
       " 0.37408271619289024,\n",
       " 0.6109007699978231]"
      ]
     },
     "execution_count": 149,
     "metadata": {},
     "output_type": "execute_result"
    }
   ],
   "source": [
    "ct"
   ]
  },
  {
   "cell_type": "code",
   "execution_count": 39,
   "metadata": {},
   "outputs": [
    {
     "data": {
      "text/plain": [
       "array(['case', 'report', 'death', 'confirm', 'total', 'hour', 'recovery',\n",
       "       'record', 'breaking', 'death_toll', 'fresh', 'active_case',\n",
       "       'fatality', 'stand', 'additional', 'total_numb', 'tally',\n",
       "       'health_ministry', 'department_health', 'discharge', 'covidph',\n",
       "       'health_department', 'today', 'death_toll_rise', 'doh',\n",
       "       'past_hour', 'bring_total', 'reach', 'relate_death',\n",
       "       'ministry_health', 'patient_recover', 'bring_total_numb',\n",
       "       'union_health_ministry', 'additional_death', 'take_total_numb',\n",
       "       'include', 'total_active', 'sample_test', 'tally_rise', 'dfa',\n",
       "       'patient_discharge', 'manage_isolation'], dtype=object)"
      ]
     },
     "execution_count": 39,
     "metadata": {},
     "output_type": "execute_result"
    }
   ],
   "source": [
    "vis.sorted_terms(1, 0.64).Term.values"
   ]
  },
  {
   "cell_type": "code",
   "execution_count": 122,
   "metadata": {},
   "outputs": [
    {
     "data": {
      "text/plain": [
       "[(6, 0.08518786635782674), (15, 0.02161607494103565)]"
      ]
     },
     "execution_count": 122,
     "metadata": {},
     "output_type": "execute_result"
    }
   ],
   "source": [
    "model.get_term_topics(1)"
   ]
  },
  {
   "cell_type": "code",
   "execution_count": 125,
   "metadata": {
    "tags": []
   },
   "outputs": [],
   "source": [
    "d = model.id2word"
   ]
  },
  {
   "cell_type": "code",
   "execution_count": null,
   "metadata": {},
   "outputs": [],
   "source": []
  },
  {
   "cell_type": "code",
   "execution_count": 132,
   "metadata": {
    "tags": []
   },
   "outputs": [
    {
     "data": {
      "text/html": [
       "<div>\n",
       "<style scoped>\n",
       "    .dataframe tbody tr th:only-of-type {\n",
       "        vertical-align: middle;\n",
       "    }\n",
       "\n",
       "    .dataframe tbody tr th {\n",
       "        vertical-align: top;\n",
       "    }\n",
       "\n",
       "    .dataframe thead th {\n",
       "        text-align: right;\n",
       "    }\n",
       "</style>\n",
       "<table border=\"1\" class=\"dataframe\">\n",
       "  <thead>\n",
       "    <tr style=\"text-align: right;\">\n",
       "      <th></th>\n",
       "      <th>wordid</th>\n",
       "      <th>imp</th>\n",
       "    </tr>\n",
       "  </thead>\n",
       "  <tbody>\n",
       "    <tr>\n",
       "      <th>0</th>\n",
       "      <td>193</td>\n",
       "      <td>0.140760</td>\n",
       "    </tr>\n",
       "    <tr>\n",
       "      <th>1</th>\n",
       "      <td>48</td>\n",
       "      <td>0.063810</td>\n",
       "    </tr>\n",
       "    <tr>\n",
       "      <th>2</th>\n",
       "      <td>41</td>\n",
       "      <td>0.032095</td>\n",
       "    </tr>\n",
       "    <tr>\n",
       "      <th>3</th>\n",
       "      <td>395</td>\n",
       "      <td>0.031558</td>\n",
       "    </tr>\n",
       "    <tr>\n",
       "      <th>4</th>\n",
       "      <td>82</td>\n",
       "      <td>0.029744</td>\n",
       "    </tr>\n",
       "    <tr>\n",
       "      <th>5</th>\n",
       "      <td>239</td>\n",
       "      <td>0.029038</td>\n",
       "    </tr>\n",
       "    <tr>\n",
       "      <th>6</th>\n",
       "      <td>74</td>\n",
       "      <td>0.028859</td>\n",
       "    </tr>\n",
       "    <tr>\n",
       "      <th>7</th>\n",
       "      <td>350</td>\n",
       "      <td>0.028797</td>\n",
       "    </tr>\n",
       "    <tr>\n",
       "      <th>8</th>\n",
       "      <td>1076</td>\n",
       "      <td>0.028567</td>\n",
       "    </tr>\n",
       "    <tr>\n",
       "      <th>9</th>\n",
       "      <td>109</td>\n",
       "      <td>0.026795</td>\n",
       "    </tr>\n",
       "    <tr>\n",
       "      <th>10</th>\n",
       "      <td>21</td>\n",
       "      <td>0.020701</td>\n",
       "    </tr>\n",
       "    <tr>\n",
       "      <th>11</th>\n",
       "      <td>475</td>\n",
       "      <td>0.016407</td>\n",
       "    </tr>\n",
       "    <tr>\n",
       "      <th>12</th>\n",
       "      <td>478</td>\n",
       "      <td>0.016044</td>\n",
       "    </tr>\n",
       "    <tr>\n",
       "      <th>13</th>\n",
       "      <td>1264</td>\n",
       "      <td>0.013039</td>\n",
       "    </tr>\n",
       "    <tr>\n",
       "      <th>14</th>\n",
       "      <td>112</td>\n",
       "      <td>0.011292</td>\n",
       "    </tr>\n",
       "    <tr>\n",
       "      <th>15</th>\n",
       "      <td>534</td>\n",
       "      <td>0.008692</td>\n",
       "    </tr>\n",
       "    <tr>\n",
       "      <th>16</th>\n",
       "      <td>605</td>\n",
       "      <td>0.008474</td>\n",
       "    </tr>\n",
       "    <tr>\n",
       "      <th>17</th>\n",
       "      <td>1087</td>\n",
       "      <td>0.008270</td>\n",
       "    </tr>\n",
       "    <tr>\n",
       "      <th>18</th>\n",
       "      <td>29</td>\n",
       "      <td>0.007943</td>\n",
       "    </tr>\n",
       "    <tr>\n",
       "      <th>19</th>\n",
       "      <td>1397</td>\n",
       "      <td>0.007726</td>\n",
       "    </tr>\n",
       "  </tbody>\n",
       "</table>\n",
       "</div>"
      ],
      "text/plain": [
       "    wordid       imp\n",
       "0      193  0.140760\n",
       "1       48  0.063810\n",
       "2       41  0.032095\n",
       "3      395  0.031558\n",
       "4       82  0.029744\n",
       "5      239  0.029038\n",
       "6       74  0.028859\n",
       "7      350  0.028797\n",
       "8     1076  0.028567\n",
       "9      109  0.026795\n",
       "10      21  0.020701\n",
       "11     475  0.016407\n",
       "12     478  0.016044\n",
       "13    1264  0.013039\n",
       "14     112  0.011292\n",
       "15     534  0.008692\n",
       "16     605  0.008474\n",
       "17    1087  0.008270\n",
       "18      29  0.007943\n",
       "19    1397  0.007726"
      ]
     },
     "execution_count": 132,
     "metadata": {},
     "output_type": "execute_result"
    }
   ],
   "source": [
    "pd.DataFrame(model.get_topic_terms(0,20), columns=['wordid','imp'])"
   ]
  },
  {
   "cell_type": "code",
   "execution_count": 23,
   "metadata": {},
   "outputs": [
    {
     "name": "stdout",
     "output_type": "stream",
     "text": [
      "[(0,\n",
      "  '0.141*\"pandemic\" + 0.064*\"world\" + 0.032*\"crisis\" + 0.032*\"face\" + '\n",
      "  '0.030*\"hit\" + 0.029*\"global\" + 0.029*\"post\" + 0.029*\"impact\" + '\n",
      "  '0.029*\"economy\" + 0.027*\"big\"'),\n",
      " (1,\n",
      "  '0.104*\"news\" + 0.077*\"live\" + 0.066*\"update\" + 0.051*\"late\" + '\n",
      "  '0.048*\"follow\" + 0.044*\"today\" + 0.042*\"watch\" + 0.040*\"pm\" + '\n",
      "  '0.028*\"breaking\" + 0.022*\"give\"'),\n",
      " (2,\n",
      "  '0.081*\"week\" + 0.060*\"month\" + 0.055*\"year\" + 0.046*\"start\" + 0.037*\"end\" + '\n",
      "  '0.032*\"march\" + 0.031*\"day\" + 0.031*\"time\" + 0.030*\"begin\" + '\n",
      "  '0.029*\"expect\"'),\n",
      " (3,\n",
      "  '0.092*\"pandemic\" + 0.040*\"work\" + 0.038*\"amid\" + 0.029*\"worker\" + '\n",
      "  '0.028*\"business\" + 0.022*\"company\" + 0.019*\"demand\" + 0.018*\"service\" + '\n",
      "  '0.018*\"offer\" + 0.015*\"employee\"'),\n",
      " (4,\n",
      "  '0.095*\"test_positive\" + 0.084*\"patient\" + 0.068*\"hospital\" + 0.059*\"die\" + '\n",
      "  '0.053*\"people\" + 0.033*\"doctor\" + 0.023*\"staff\" + 0.022*\"person\" + '\n",
      "  '0.020*\"contract\" + 0.019*\"treatment\"'),\n",
      " (5,\n",
      "  '0.173*\"case\" + 0.066*\"infection\" + 0.064*\"rise\" + 0.050*\"numb\" + '\n",
      "  '0.037*\"report\" + 0.036*\"increase\" + 0.036*\"surge\" + 0.034*\"record\" + '\n",
      "  '0.033*\"high\" + 0.031*\"day\"'),\n",
      " (6,\n",
      "  '0.085*\"outbreak\" + 0.059*\"health\" + 0.047*\"warn\" + 0.032*\"expert\" + '\n",
      "  '0.031*\"fear\" + 0.030*\"travel\" + 0.029*\"concern\" + 0.028*\"wave\" + '\n",
      "  '0.026*\"risk\" + 0.026*\"country\"'),\n",
      " (7,\n",
      "  '0.094*\"government\" + 0.033*\"plan\" + 0.032*\"fight\" + 0.031*\"national\" + '\n",
      "  '0.024*\"support\" + 0.021*\"vanguardnews\" + 0.020*\"response\" + 0.020*\"urge\" + '\n",
      "  '0.017*\"provide\" + 0.017*\"fund\"'),\n",
      " (8,\n",
      "  '0.031*\"trump\" + 0.025*\"fight\" + 0.025*\"american\" + 0.023*\"meet\" + '\n",
      "  '0.022*\"response\" + 0.022*\"call\" + 0.018*\"president\" + 0.017*\"pandemic\" + '\n",
      "  '0.016*\"talk\" + 0.016*\"crisis\"'),\n",
      " (9,\n",
      "  '0.320*\"lockdown\" + 0.050*\"restriction\" + 0.034*\"rule\" + 0.032*\"order\" + '\n",
      "  '0.025*\"police\" + 0.023*\"extend\" + 0.021*\"ease\" + 0.018*\"level\" + '\n",
      "  '0.018*\"measure\" + 0.017*\"break\"'),\n",
      " (10,\n",
      "  '0.086*\"quarantine\" + 0.052*\"home\" + 0.046*\"day\" + 0.031*\"family\" + '\n",
      "  '0.027*\"leave\" + 0.024*\"return\" + 0.021*\"woman\" + 0.017*\"team\" + '\n",
      "  '0.017*\"send\" + 0.015*\"visit\"'),\n",
      " (11,\n",
      "  '0.156*\"pandemic\" + 0.085*\"amid\" + 0.047*\"school\" + 0.037*\"close\" + '\n",
      "  '0.037*\"time\" + 0.027*\"reopen\" + 0.025*\"student\" + 0.024*\"change\" + '\n",
      "  '0.023*\"child\" + 0.023*\"open\"'),\n",
      " (12,\n",
      "  '0.301*\"vaccine\" + 0.040*\"vaccination\" + 0.028*\"dose\" + 0.028*\"receive\" + '\n",
      "  '0.019*\"astrazeneca\" + 0.016*\"trial\" + 0.015*\"supply\" + 0.014*\"ready\" + '\n",
      "  '0.014*\"vaccinate\" + 0.012*\"jab\"'),\n",
      " (13,\n",
      "  '0.126*\"state\" + 0.117*\"test\" + 0.048*\"amp\" + 0.040*\"positive\" + '\n",
      "  '0.037*\"govt\" + 0.033*\"centre\" + 0.028*\"maharashtra\" + '\n",
      "  '0.021*\"coronavirusoutbreak\" + 0.015*\"coronaviruspandemic\" + '\n",
      "  '0.015*\"situation\"'),\n",
      " (14,\n",
      "  '0.092*\"country\" + 0.052*\"read\" + 0.046*\"city\" + 0.036*\"official\" + '\n",
      "  '0.034*\"disease\" + 0.030*\"announce\" + 0.026*\"resident\" + 0.024*\"area\" + '\n",
      "  '0.021*\"province\" + 0.020*\"wednesday\"'),\n",
      " (15,\n",
      "  '0.117*\"people\" + 0.070*\"virus\" + 0.039*\"spread\" + 0.037*\"find\" + '\n",
      "  '0.025*\"study\" + 0.024*\"accord\" + 0.022*\"outbreak\" + 0.021*\"variant\" + '\n",
      "  '0.019*\"infect\" + 0.019*\"show\"'),\n",
      " (16,\n",
      "  '0.257*\"case\" + 0.145*\"report\" + 0.115*\"death\" + 0.064*\"confirm\" + '\n",
      "  '0.045*\"total\" + 0.038*\"record\" + 0.034*\"hour\" + 0.030*\"recovery\" + '\n",
      "  '0.025*\"breaking\" + 0.017*\"death_toll\"')]\n"
     ]
    }
   ],
   "source": [
    "pprint(model.print_topics())"
   ]
  },
  {
   "cell_type": "code",
   "execution_count": 150,
   "metadata": {},
   "outputs": [],
   "source": [
    "subthemes = [\n",
    "    (1,11,['rise', 'increase', 'high', 'spike', 'jump', 'reach', 'double', 'climb', 'soar', 'record_high', 'death_toll_rise', 'peak', 'hit', 'high_daily', 'top', 'exceed', 'high_single_day', 'tally_rise']),\n",
    "    (1,12,['low', 'drop', 'fall', 'dip', 'decrease']),\n",
    "    (2,21,['worker', 'plan', 'work', 'support', 'free', 'job', 'employee', 'food', 'citizen', 'congress', 'poor', 'protect', 'people', 'vulnerable', 'household', 'essential', 'loan', 'small_business', 'lose_job', 'donation', 'employer', 'assistance', 'job_loss']),\n",
    "    (2,22,['impact', 'business', 'government', 'economy', 'global', 'demand', 'market', 'company', 'industry', 'cut', 'aid', 'budget', 'sector', 'boost', 'bank', 'bill', 'stock', 'quarter', 'trade', 'law', 'growth', 'lawmaker', 'office', 'relief_bill', 'supreme_court', 'economic_recovery', 'debt', 'profit', 'relief_package', 'global_economy', 'stimulus_package', 'world_bank', 'relief_fund', 'organisation']),\n",
    "    (4,41,['nurse_home', 'care_home']),\n",
    "    (4,42,['mental_health']),\n",
    "    (4,43,['jail', 'prison', 'cop', 'inmate']),\n",
    "    (4,44,['family', 'couple', 'wife', 'mother', 'son', 'daughter', 'husband', 'father', 'mum', 'baby', 'dad']),\n",
    "    (5,51,['health_official', 'health_minister', 'expert', 'task_force', 'public_health', 'dr_anthony_fauci', 'chief_medical_officer']),\n",
    "    (5,52,['trump', 'pm', 'president', 'president_trump', 'minister', 'white_house', 'leader', 'pm_modi', 'governor', 'govt', 'president_donald_trump', 'donald_trump', 'administration', 'federal', 'biden', 'mp', 'joe_biden', 'trudeau', 'trump_administration', 'pm_narendra_modi', 'leadership', 'pres_trump', 'prime_minister_justin_trudeau', 'opposition', 'government']),\n",
    "    (5,53,['election', 'poll', 'debate', 'voter']),\n",
    "    (6,61,['lockdown', 'restriction', 'quarantine', 'police', 'rule', 'impose', 'protocol', 'quarantine_facility', 'mandatory', 'community_quarantine', 'stay_home_order', 'containment_zone', 'covidquarantine', 'quarantine_period']),\n",
    "    (6,62,['travel', 'passenger', 'flight', 'airport', 'plan', 'airline', 'tourism', 'fly', 'traveller', 'travel_ban', 'trip', 'vaccine_passport']),\n",
    "    (6,63,['protest', 'anti', 'break', 'arrest', 'fine', 'protester']),\n",
    "    (6,64,['social_distance', 'mask', 'wear_mask', 'social_distance_measure']),\n",
    "    (6,65,['christmas', 'holiday', 'easter']),\n",
    "    (6,66,['ease', 'relax', 'restriction_ease', 'ease_restriction', 'slow_spread']),\n",
    "    (7,71,['outbreak', 'fear', 'chinese', 'detect', 'epidemic', 'suspect', 'emerge', 'panic', 'epicentre', 'animal', 'origin', 'china', 'epicenter']),\n",
    "    (7,72,['hospital', 'study', 'treatment', 'research', 'lab', 'expert', 'cure', 'researcher', 'scientist', 'ventilator', 'study_find', 'medicine', 'scientists', 'private_hospital', 'expert_warn', 'oxygen', 'researchers', 'intensive_care', 'study_show', 'hospitals', 'palliative']),\n",
    "    (7,73,['variant', 'wave', 'strain', 'mutation']),\n",
    "    (7,74,['doctor', 'medical', 'healthcare_worker', 'health_worker', 'doctors', 'health_care_worker'])\n",
    "]"
   ]
  },
  {
   "cell_type": "code",
   "execution_count": 183,
   "metadata": {},
   "outputs": [
    {
     "ename": "TypeError",
     "evalue": "'method' object is not iterable",
     "output_type": "error",
     "traceback": [
      "\u001b[1;31m---------------------------------------------------------------------------\u001b[0m",
      "\u001b[1;31mTypeError\u001b[0m                                 Traceback (most recent call last)",
      "\u001b[1;32mC:\\Users\\FC766~1.BRA\\AppData\\Local\\Temp/ipykernel_7056/2251255825.py\u001b[0m in \u001b[0;36m<module>\u001b[1;34m\u001b[0m\n\u001b[1;32m----> 1\u001b[1;33m \u001b[0mlist\u001b[0m\u001b[1;33m(\u001b[0m\u001b[0mdictionary\u001b[0m\u001b[1;33m.\u001b[0m\u001b[0mvalues\u001b[0m\u001b[1;33m)\u001b[0m\u001b[1;33m\u001b[0m\u001b[1;33m\u001b[0m\u001b[0m\n\u001b[0m",
      "\u001b[1;31mTypeError\u001b[0m: 'method' object is not iterable"
     ]
    }
   ],
   "source": [
    "list(dictionary.values)"
   ]
  },
  {
   "cell_type": "code",
   "execution_count": 151,
   "metadata": {},
   "outputs": [],
   "source": [
    "for col in [fr'subtheme{subtheme[1]}' for subtheme in subthemes]:\n",
    "    df[col] = False"
   ]
  },
  {
   "cell_type": "code",
   "execution_count": 166,
   "metadata": {},
   "outputs": [],
   "source": [
    "with open(\"data_pp.pickle\", \"rb\") as fp:   # Unpickling\n",
    "    b = pickle.load(fp)"
   ]
  },
  {
   "cell_type": "code",
   "execution_count": 174,
   "metadata": {},
   "outputs": [],
   "source": [
    "for k in range(1,9):\n",
    "    subthemes_desc = [subtheme for subtheme in subthemes if subtheme[0]==k]\n",
    "    if len(subthemes_desc)>0:\n",
    "        indices = list(df[df.theme==k].index)\n",
    "        topic_docs = [docs[i] for i in indices]\n",
    "        for subtheme_desc in subthemes_desc:\n",
    "            kw = subtheme_desc[2]\n",
    "            t = [ind for k, ind in enumerate(indices) if any(i in topic_docs[k] for i in kw)]\n",
    "            df.loc[t,fr'subtheme{subtheme_desc[1]}'] = True"
   ]
  },
  {
   "cell_type": "code",
   "execution_count": 186,
   "metadata": {},
   "outputs": [
    {
     "data": {
      "text/plain": [
       "subtheme11     64646\n",
       "subtheme12     10765\n",
       "subtheme21     77813\n",
       "subtheme22    113288\n",
       "subtheme41      1934\n",
       "subtheme42        69\n",
       "subtheme43      2853\n",
       "subtheme44      7484\n",
       "subtheme51     12490\n",
       "subtheme52     65979\n",
       "subtheme53      5696\n",
       "subtheme61    129126\n",
       "subtheme62     20217\n",
       "subtheme63     12968\n",
       "subtheme64      5497\n",
       "subtheme65      4768\n",
       "subtheme66     10283\n",
       "subtheme71     31887\n",
       "subtheme72     23894\n",
       "subtheme73     13831\n",
       "subtheme74      2089\n",
       "dtype: int64"
      ]
     },
     "execution_count": 186,
     "metadata": {},
     "output_type": "execute_result"
    }
   ],
   "source": [
    "df[[fr'subtheme{subtheme[1]}' for subtheme in subthemes]].sum()"
   ]
  },
  {
   "cell_type": "code",
   "execution_count": 188,
   "metadata": {},
   "outputs": [],
   "source": [
    "themes_keywords2 = []\n",
    "for theme in themes:\n",
    "    theme_words_tmp = pd.DataFrame()\n",
    "    for topic in theme:\n",
    "        tmp = pd.DataFrame(model.get_topic_terms(topic,50), columns=['wordid','imp'])\n",
    "        theme_words_tmp = pd.concat([theme_words_tmp, tmp])\n",
    "    theme_words_tmp = theme_words_tmp.sort_values('imp', ascending=False)\n",
    "    theme_words_tmp['wordid'] = theme_words_tmp.wordid.apply(lambda x: d[x])\n",
    "    themes_keywords2 = themes_keywords2 + [list(theme_words_tmp.drop_duplicates('wordid').wordid.values[:50])]"
   ]
  },
  {
   "cell_type": "code",
   "execution_count": 195,
   "metadata": {},
   "outputs": [
    {
     "data": {
      "text/plain": [
       "['test_positive',\n",
       " 'patient',\n",
       " 'hospital',\n",
       " 'die',\n",
       " 'people',\n",
       " 'doctor',\n",
       " 'staff',\n",
       " 'person',\n",
       " 'contract',\n",
       " 'treatment',\n",
       " 'recover',\n",
       " 'treat',\n",
       " 'year_old',\n",
       " 'battle',\n",
       " 'facility',\n",
       " 'care',\n",
       " 'symptom',\n",
       " 'medical',\n",
       " 'infect',\n",
       " 'nurse',\n",
       " 'test_negative',\n",
       " 'man',\n",
       " 'suspect',\n",
       " 'health_worker',\n",
       " 'victim',\n",
       " 'dr',\n",
       " 'admit',\n",
       " 'body',\n",
       " 'dead',\n",
       " 'contact',\n",
       " 'nurse_home',\n",
       " 'diagnose',\n",
       " 'fire',\n",
       " 'wife',\n",
       " 'condition',\n",
       " 'young',\n",
       " 'bed',\n",
       " 'attend',\n",
       " 'recently',\n",
       " 'ventilator',\n",
       " 'doctors',\n",
       " 'age',\n",
       " 'healthcare_worker',\n",
       " 'nhs',\n",
       " 'prison',\n",
       " 'self_isolate',\n",
       " 'sick',\n",
       " 'shift',\n",
       " 'self_quarantine',\n",
       " 'isolation']"
      ]
     },
     "execution_count": 195,
     "metadata": {},
     "output_type": "execute_result"
    }
   ],
   "source": [
    "themes_keywords2[3]"
   ]
  },
  {
   "cell_type": "code",
   "execution_count": null,
   "metadata": {},
   "outputs": [],
   "source": []
  },
  {
   "cell_type": "code",
   "execution_count": null,
   "metadata": {},
   "outputs": [],
   "source": []
  },
  {
   "cell_type": "code",
   "execution_count": null,
   "metadata": {},
   "outputs": [],
   "source": []
  },
  {
   "cell_type": "code",
   "execution_count": null,
   "metadata": {},
   "outputs": [],
   "source": []
  },
  {
   "cell_type": "code",
   "execution_count": null,
   "metadata": {},
   "outputs": [],
   "source": []
  },
  {
   "cell_type": "code",
   "execution_count": null,
   "metadata": {},
   "outputs": [],
   "source": []
  },
  {
   "cell_type": "code",
   "execution_count": null,
   "metadata": {},
   "outputs": [],
   "source": []
  },
  {
   "cell_type": "code",
   "execution_count": null,
   "metadata": {},
   "outputs": [],
   "source": []
  },
  {
   "cell_type": "code",
   "execution_count": null,
   "metadata": {},
   "outputs": [],
   "source": []
  },
  {
   "cell_type": "code",
   "execution_count": null,
   "metadata": {},
   "outputs": [],
   "source": []
  },
  {
   "cell_type": "code",
   "execution_count": null,
   "metadata": {},
   "outputs": [],
   "source": []
  },
  {
   "cell_type": "code",
   "execution_count": null,
   "metadata": {},
   "outputs": [],
   "source": []
  },
  {
   "cell_type": "code",
   "execution_count": null,
   "metadata": {},
   "outputs": [],
   "source": []
  },
  {
   "cell_type": "code",
   "execution_count": null,
   "metadata": {},
   "outputs": [],
   "source": []
  },
  {
   "cell_type": "code",
   "execution_count": null,
   "metadata": {},
   "outputs": [],
   "source": []
  },
  {
   "cell_type": "code",
   "execution_count": null,
   "metadata": {},
   "outputs": [],
   "source": []
  },
  {
   "cell_type": "code",
   "execution_count": null,
   "metadata": {},
   "outputs": [],
   "source": []
  },
  {
   "cell_type": "code",
   "execution_count": null,
   "metadata": {},
   "outputs": [],
   "source": []
  },
  {
   "cell_type": "code",
   "execution_count": null,
   "metadata": {},
   "outputs": [],
   "source": []
  },
  {
   "cell_type": "code",
   "execution_count": null,
   "metadata": {},
   "outputs": [],
   "source": []
  },
  {
   "cell_type": "code",
   "execution_count": null,
   "metadata": {},
   "outputs": [],
   "source": []
  },
  {
   "cell_type": "code",
   "execution_count": null,
   "metadata": {},
   "outputs": [],
   "source": []
  },
  {
   "cell_type": "code",
   "execution_count": null,
   "metadata": {},
   "outputs": [],
   "source": []
  },
  {
   "cell_type": "code",
   "execution_count": 54,
   "metadata": {},
   "outputs": [],
   "source": [
    "df_iter = ldamallet.load_document_topics()\n",
    "df = []\n",
    "for k in df_iter:\n",
    "    df.append([i[1] for i in k])\n",
    "df = pd.DataFrame(df, columns=[fr'topic_{k}' for k in range(20)])"
   ]
  },
  {
   "cell_type": "code",
   "execution_count": 56,
   "metadata": {},
   "outputs": [
    {
     "data": {
      "text/html": [
       "<div>\n",
       "<style scoped>\n",
       "    .dataframe tbody tr th:only-of-type {\n",
       "        vertical-align: middle;\n",
       "    }\n",
       "\n",
       "    .dataframe tbody tr th {\n",
       "        vertical-align: top;\n",
       "    }\n",
       "\n",
       "    .dataframe thead th {\n",
       "        text-align: right;\n",
       "    }\n",
       "</style>\n",
       "<table border=\"1\" class=\"dataframe\">\n",
       "  <thead>\n",
       "    <tr style=\"text-align: right;\">\n",
       "      <th></th>\n",
       "      <th>topic_0</th>\n",
       "      <th>topic_1</th>\n",
       "      <th>topic_2</th>\n",
       "      <th>topic_3</th>\n",
       "      <th>topic_4</th>\n",
       "      <th>topic_5</th>\n",
       "      <th>topic_6</th>\n",
       "      <th>topic_7</th>\n",
       "      <th>topic_8</th>\n",
       "      <th>topic_9</th>\n",
       "      <th>topic_10</th>\n",
       "      <th>topic_11</th>\n",
       "      <th>topic_12</th>\n",
       "      <th>topic_13</th>\n",
       "      <th>topic_14</th>\n",
       "      <th>topic_15</th>\n",
       "      <th>topic_16</th>\n",
       "      <th>topic_17</th>\n",
       "      <th>topic_18</th>\n",
       "      <th>topic_19</th>\n",
       "      <th>topic</th>\n",
       "    </tr>\n",
       "  </thead>\n",
       "  <tbody>\n",
       "    <tr>\n",
       "      <th>0</th>\n",
       "      <td>0.041667</td>\n",
       "      <td>0.041667</td>\n",
       "      <td>0.058333</td>\n",
       "      <td>0.058333</td>\n",
       "      <td>0.058333</td>\n",
       "      <td>0.041667</td>\n",
       "      <td>0.041667</td>\n",
       "      <td>0.058333</td>\n",
       "      <td>0.058333</td>\n",
       "      <td>0.058333</td>\n",
       "      <td>0.041667</td>\n",
       "      <td>0.041667</td>\n",
       "      <td>0.058333</td>\n",
       "      <td>0.075000</td>\n",
       "      <td>0.041667</td>\n",
       "      <td>0.058333</td>\n",
       "      <td>0.041667</td>\n",
       "      <td>0.041667</td>\n",
       "      <td>0.041667</td>\n",
       "      <td>0.041667</td>\n",
       "      <td>topic_13</td>\n",
       "    </tr>\n",
       "    <tr>\n",
       "      <th>1</th>\n",
       "      <td>0.046296</td>\n",
       "      <td>0.046296</td>\n",
       "      <td>0.046296</td>\n",
       "      <td>0.046296</td>\n",
       "      <td>0.046296</td>\n",
       "      <td>0.046296</td>\n",
       "      <td>0.046296</td>\n",
       "      <td>0.046296</td>\n",
       "      <td>0.046296</td>\n",
       "      <td>0.046296</td>\n",
       "      <td>0.046296</td>\n",
       "      <td>0.064815</td>\n",
       "      <td>0.046296</td>\n",
       "      <td>0.046296</td>\n",
       "      <td>0.083333</td>\n",
       "      <td>0.046296</td>\n",
       "      <td>0.064815</td>\n",
       "      <td>0.046296</td>\n",
       "      <td>0.046296</td>\n",
       "      <td>0.046296</td>\n",
       "      <td>topic_14</td>\n",
       "    </tr>\n",
       "    <tr>\n",
       "      <th>2</th>\n",
       "      <td>0.044643</td>\n",
       "      <td>0.080357</td>\n",
       "      <td>0.044643</td>\n",
       "      <td>0.044643</td>\n",
       "      <td>0.044643</td>\n",
       "      <td>0.044643</td>\n",
       "      <td>0.044643</td>\n",
       "      <td>0.062500</td>\n",
       "      <td>0.044643</td>\n",
       "      <td>0.044643</td>\n",
       "      <td>0.044643</td>\n",
       "      <td>0.044643</td>\n",
       "      <td>0.080357</td>\n",
       "      <td>0.044643</td>\n",
       "      <td>0.044643</td>\n",
       "      <td>0.044643</td>\n",
       "      <td>0.062500</td>\n",
       "      <td>0.044643</td>\n",
       "      <td>0.044643</td>\n",
       "      <td>0.044643</td>\n",
       "      <td>topic_1</td>\n",
       "    </tr>\n",
       "    <tr>\n",
       "      <th>3</th>\n",
       "      <td>0.101562</td>\n",
       "      <td>0.070312</td>\n",
       "      <td>0.039062</td>\n",
       "      <td>0.039062</td>\n",
       "      <td>0.039062</td>\n",
       "      <td>0.039062</td>\n",
       "      <td>0.054688</td>\n",
       "      <td>0.039062</td>\n",
       "      <td>0.132812</td>\n",
       "      <td>0.039062</td>\n",
       "      <td>0.039062</td>\n",
       "      <td>0.039062</td>\n",
       "      <td>0.039062</td>\n",
       "      <td>0.039062</td>\n",
       "      <td>0.039062</td>\n",
       "      <td>0.039062</td>\n",
       "      <td>0.039062</td>\n",
       "      <td>0.054688</td>\n",
       "      <td>0.039062</td>\n",
       "      <td>0.039062</td>\n",
       "      <td>topic_8</td>\n",
       "    </tr>\n",
       "    <tr>\n",
       "      <th>4</th>\n",
       "      <td>0.046296</td>\n",
       "      <td>0.064815</td>\n",
       "      <td>0.046296</td>\n",
       "      <td>0.046296</td>\n",
       "      <td>0.046296</td>\n",
       "      <td>0.046296</td>\n",
       "      <td>0.046296</td>\n",
       "      <td>0.064815</td>\n",
       "      <td>0.046296</td>\n",
       "      <td>0.046296</td>\n",
       "      <td>0.046296</td>\n",
       "      <td>0.064815</td>\n",
       "      <td>0.046296</td>\n",
       "      <td>0.046296</td>\n",
       "      <td>0.046296</td>\n",
       "      <td>0.046296</td>\n",
       "      <td>0.046296</td>\n",
       "      <td>0.046296</td>\n",
       "      <td>0.064815</td>\n",
       "      <td>0.046296</td>\n",
       "      <td>topic_1</td>\n",
       "    </tr>\n",
       "    <tr>\n",
       "      <th>...</th>\n",
       "      <td>...</td>\n",
       "      <td>...</td>\n",
       "      <td>...</td>\n",
       "      <td>...</td>\n",
       "      <td>...</td>\n",
       "      <td>...</td>\n",
       "      <td>...</td>\n",
       "      <td>...</td>\n",
       "      <td>...</td>\n",
       "      <td>...</td>\n",
       "      <td>...</td>\n",
       "      <td>...</td>\n",
       "      <td>...</td>\n",
       "      <td>...</td>\n",
       "      <td>...</td>\n",
       "      <td>...</td>\n",
       "      <td>...</td>\n",
       "      <td>...</td>\n",
       "      <td>...</td>\n",
       "      <td>...</td>\n",
       "      <td>...</td>\n",
       "    </tr>\n",
       "    <tr>\n",
       "      <th>1814501</th>\n",
       "      <td>0.048077</td>\n",
       "      <td>0.048077</td>\n",
       "      <td>0.048077</td>\n",
       "      <td>0.048077</td>\n",
       "      <td>0.048077</td>\n",
       "      <td>0.048077</td>\n",
       "      <td>0.048077</td>\n",
       "      <td>0.048077</td>\n",
       "      <td>0.067308</td>\n",
       "      <td>0.048077</td>\n",
       "      <td>0.048077</td>\n",
       "      <td>0.048077</td>\n",
       "      <td>0.048077</td>\n",
       "      <td>0.067308</td>\n",
       "      <td>0.048077</td>\n",
       "      <td>0.048077</td>\n",
       "      <td>0.048077</td>\n",
       "      <td>0.048077</td>\n",
       "      <td>0.048077</td>\n",
       "      <td>0.048077</td>\n",
       "      <td>topic_8</td>\n",
       "    </tr>\n",
       "    <tr>\n",
       "      <th>1814502</th>\n",
       "      <td>0.046296</td>\n",
       "      <td>0.046296</td>\n",
       "      <td>0.046296</td>\n",
       "      <td>0.046296</td>\n",
       "      <td>0.046296</td>\n",
       "      <td>0.046296</td>\n",
       "      <td>0.046296</td>\n",
       "      <td>0.046296</td>\n",
       "      <td>0.046296</td>\n",
       "      <td>0.046296</td>\n",
       "      <td>0.046296</td>\n",
       "      <td>0.120370</td>\n",
       "      <td>0.046296</td>\n",
       "      <td>0.046296</td>\n",
       "      <td>0.046296</td>\n",
       "      <td>0.046296</td>\n",
       "      <td>0.046296</td>\n",
       "      <td>0.046296</td>\n",
       "      <td>0.046296</td>\n",
       "      <td>0.046296</td>\n",
       "      <td>topic_11</td>\n",
       "    </tr>\n",
       "    <tr>\n",
       "      <th>1814503</th>\n",
       "      <td>0.044643</td>\n",
       "      <td>0.044643</td>\n",
       "      <td>0.080357</td>\n",
       "      <td>0.044643</td>\n",
       "      <td>0.062500</td>\n",
       "      <td>0.044643</td>\n",
       "      <td>0.062500</td>\n",
       "      <td>0.062500</td>\n",
       "      <td>0.044643</td>\n",
       "      <td>0.062500</td>\n",
       "      <td>0.044643</td>\n",
       "      <td>0.044643</td>\n",
       "      <td>0.044643</td>\n",
       "      <td>0.044643</td>\n",
       "      <td>0.044643</td>\n",
       "      <td>0.044643</td>\n",
       "      <td>0.044643</td>\n",
       "      <td>0.044643</td>\n",
       "      <td>0.044643</td>\n",
       "      <td>0.044643</td>\n",
       "      <td>topic_2</td>\n",
       "    </tr>\n",
       "    <tr>\n",
       "      <th>1814504</th>\n",
       "      <td>0.046296</td>\n",
       "      <td>0.046296</td>\n",
       "      <td>0.046296</td>\n",
       "      <td>0.046296</td>\n",
       "      <td>0.083333</td>\n",
       "      <td>0.046296</td>\n",
       "      <td>0.046296</td>\n",
       "      <td>0.046296</td>\n",
       "      <td>0.046296</td>\n",
       "      <td>0.046296</td>\n",
       "      <td>0.046296</td>\n",
       "      <td>0.046296</td>\n",
       "      <td>0.046296</td>\n",
       "      <td>0.046296</td>\n",
       "      <td>0.064815</td>\n",
       "      <td>0.046296</td>\n",
       "      <td>0.046296</td>\n",
       "      <td>0.046296</td>\n",
       "      <td>0.046296</td>\n",
       "      <td>0.064815</td>\n",
       "      <td>topic_4</td>\n",
       "    </tr>\n",
       "    <tr>\n",
       "      <th>1814505</th>\n",
       "      <td>0.040323</td>\n",
       "      <td>0.040323</td>\n",
       "      <td>0.040323</td>\n",
       "      <td>0.137097</td>\n",
       "      <td>0.040323</td>\n",
       "      <td>0.056452</td>\n",
       "      <td>0.040323</td>\n",
       "      <td>0.040323</td>\n",
       "      <td>0.056452</td>\n",
       "      <td>0.072581</td>\n",
       "      <td>0.040323</td>\n",
       "      <td>0.040323</td>\n",
       "      <td>0.040323</td>\n",
       "      <td>0.040323</td>\n",
       "      <td>0.040323</td>\n",
       "      <td>0.040323</td>\n",
       "      <td>0.040323</td>\n",
       "      <td>0.040323</td>\n",
       "      <td>0.056452</td>\n",
       "      <td>0.056452</td>\n",
       "      <td>topic_3</td>\n",
       "    </tr>\n",
       "  </tbody>\n",
       "</table>\n",
       "<p>1814506 rows × 21 columns</p>\n",
       "</div>"
      ],
      "text/plain": [
       "          topic_0   topic_1   topic_2   topic_3   topic_4   topic_5   topic_6  \\\n",
       "0        0.041667  0.041667  0.058333  0.058333  0.058333  0.041667  0.041667   \n",
       "1        0.046296  0.046296  0.046296  0.046296  0.046296  0.046296  0.046296   \n",
       "2        0.044643  0.080357  0.044643  0.044643  0.044643  0.044643  0.044643   \n",
       "3        0.101562  0.070312  0.039062  0.039062  0.039062  0.039062  0.054688   \n",
       "4        0.046296  0.064815  0.046296  0.046296  0.046296  0.046296  0.046296   \n",
       "...           ...       ...       ...       ...       ...       ...       ...   \n",
       "1814501  0.048077  0.048077  0.048077  0.048077  0.048077  0.048077  0.048077   \n",
       "1814502  0.046296  0.046296  0.046296  0.046296  0.046296  0.046296  0.046296   \n",
       "1814503  0.044643  0.044643  0.080357  0.044643  0.062500  0.044643  0.062500   \n",
       "1814504  0.046296  0.046296  0.046296  0.046296  0.083333  0.046296  0.046296   \n",
       "1814505  0.040323  0.040323  0.040323  0.137097  0.040323  0.056452  0.040323   \n",
       "\n",
       "          topic_7   topic_8   topic_9  topic_10  topic_11  topic_12  topic_13  \\\n",
       "0        0.058333  0.058333  0.058333  0.041667  0.041667  0.058333  0.075000   \n",
       "1        0.046296  0.046296  0.046296  0.046296  0.064815  0.046296  0.046296   \n",
       "2        0.062500  0.044643  0.044643  0.044643  0.044643  0.080357  0.044643   \n",
       "3        0.039062  0.132812  0.039062  0.039062  0.039062  0.039062  0.039062   \n",
       "4        0.064815  0.046296  0.046296  0.046296  0.064815  0.046296  0.046296   \n",
       "...           ...       ...       ...       ...       ...       ...       ...   \n",
       "1814501  0.048077  0.067308  0.048077  0.048077  0.048077  0.048077  0.067308   \n",
       "1814502  0.046296  0.046296  0.046296  0.046296  0.120370  0.046296  0.046296   \n",
       "1814503  0.062500  0.044643  0.062500  0.044643  0.044643  0.044643  0.044643   \n",
       "1814504  0.046296  0.046296  0.046296  0.046296  0.046296  0.046296  0.046296   \n",
       "1814505  0.040323  0.056452  0.072581  0.040323  0.040323  0.040323  0.040323   \n",
       "\n",
       "         topic_14  topic_15  topic_16  topic_17  topic_18  topic_19     topic  \n",
       "0        0.041667  0.058333  0.041667  0.041667  0.041667  0.041667  topic_13  \n",
       "1        0.083333  0.046296  0.064815  0.046296  0.046296  0.046296  topic_14  \n",
       "2        0.044643  0.044643  0.062500  0.044643  0.044643  0.044643   topic_1  \n",
       "3        0.039062  0.039062  0.039062  0.054688  0.039062  0.039062   topic_8  \n",
       "4        0.046296  0.046296  0.046296  0.046296  0.064815  0.046296   topic_1  \n",
       "...           ...       ...       ...       ...       ...       ...       ...  \n",
       "1814501  0.048077  0.048077  0.048077  0.048077  0.048077  0.048077   topic_8  \n",
       "1814502  0.046296  0.046296  0.046296  0.046296  0.046296  0.046296  topic_11  \n",
       "1814503  0.044643  0.044643  0.044643  0.044643  0.044643  0.044643   topic_2  \n",
       "1814504  0.064815  0.046296  0.046296  0.046296  0.046296  0.064815   topic_4  \n",
       "1814505  0.040323  0.040323  0.040323  0.040323  0.056452  0.056452   topic_3  \n",
       "\n",
       "[1814506 rows x 21 columns]"
      ]
     },
     "execution_count": 56,
     "metadata": {},
     "output_type": "execute_result"
    }
   ],
   "source": [
    "df['topic'] = df.idxmax(axis=1)\n",
    "df"
   ]
  },
  {
   "cell_type": "code",
   "execution_count": 87,
   "metadata": {},
   "outputs": [],
   "source": [
    "df_iter = ldamallet.load_document_topics()\n",
    "df = []\n",
    "for k in df_iter:\n",
    "    df.append([i[1] for i in k])\n",
    "df = pd.DataFrame(df, columns=[fr'topic_{k}' for k in range(20)])\n",
    "df['topic'] = df.idxmax(axis=1)"
   ]
  },
  {
   "cell_type": "code",
   "execution_count": 62,
   "metadata": {},
   "outputs": [],
   "source": [
    "topic2theme = pd.DataFrame({\n",
    "    'topic':[fr'topic_{k}' for k in range(20)], \n",
    "    'theme':[7,3,2,1,2,1,2,5,7,6,6,6,5,7,5,8,1,4,4,6]\n",
    "})\n",
    "\n",
    "df = df.merge(topic2theme, how='left')"
   ]
  },
  {
   "cell_type": "code",
   "execution_count": 65,
   "metadata": {},
   "outputs": [],
   "source": [
    "for col in [fr'subtheme{subtheme[1]}' for subtheme in subthemes]:\n",
    "    df[col] = False"
   ]
  },
  {
   "cell_type": "code",
   "execution_count": 68,
   "metadata": {},
   "outputs": [],
   "source": [
    "for k in range(1,9):\n",
    "    subthemes_desc = [subtheme for subtheme in subthemes if subtheme[0]==k]\n",
    "    if len(subthemes_desc)>0:\n",
    "        indices = list(df[df.theme==k].index)\n",
    "        topic_docs = [b[0][i] for i in indices]\n",
    "        for subtheme_desc in subthemes_desc:\n",
    "            kw = subtheme_desc[2]\n",
    "            t = [ind for k, ind in enumerate(indices) if any(i in topic_docs[k] for i in kw)]\n",
    "            df.loc[t,fr'subtheme{subtheme_desc[1]}'] = True"
   ]
  },
  {
   "cell_type": "code",
   "execution_count": 70,
   "metadata": {},
   "outputs": [
    {
     "data": {
      "text/plain": [
       "array([1331811812828803073, 1237432142214258688, 1234744569268338689, ...,\n",
       "       1310723512223625216, 1266240991133970438, 1325600258848600065],\n",
       "      dtype=int64)"
      ]
     },
     "execution_count": 70,
     "metadata": {},
     "output_type": "execute_result"
    }
   ],
   "source": [
    "tweets.tweetId.values"
   ]
  },
  {
   "cell_type": "code",
   "execution_count": 71,
   "metadata": {},
   "outputs": [],
   "source": [
    "df['tweetId'] = tweets.tweetId.values"
   ]
  },
  {
   "cell_type": "code",
   "execution_count": 73,
   "metadata": {},
   "outputs": [
    {
     "data": {
      "text/plain": [
       "0.2681159420289854"
      ]
     },
     "execution_count": 73,
     "metadata": {},
     "output_type": "execute_result"
    }
   ],
   "source": [
    "df[[fr'topic_{k}' for k in range(20)]].max(axis=1).max()"
   ]
  },
  {
   "cell_type": "code",
   "execution_count": 77,
   "metadata": {},
   "outputs": [],
   "source": [
    "df.to_parquet('news_tweets_topics2.parquet', compression='gzip', index=False)"
   ]
  },
  {
   "cell_type": "code",
   "execution_count": 186,
   "metadata": {},
   "outputs": [
    {
     "data": {
      "text/plain": [
       "1814506"
      ]
     },
     "execution_count": 186,
     "metadata": {},
     "output_type": "execute_result"
    }
   ],
   "source": [
    "df.shape[0]"
   ]
  },
  {
   "cell_type": "code",
   "execution_count": 76,
   "metadata": {},
   "outputs": [
    {
     "data": {
      "text/html": [
       "<div>\n",
       "<style scoped>\n",
       "    .dataframe tbody tr th:only-of-type {\n",
       "        vertical-align: middle;\n",
       "    }\n",
       "\n",
       "    .dataframe tbody tr th {\n",
       "        vertical-align: top;\n",
       "    }\n",
       "\n",
       "    .dataframe thead th {\n",
       "        text-align: right;\n",
       "    }\n",
       "</style>\n",
       "<table border=\"1\" class=\"dataframe\">\n",
       "  <thead>\n",
       "    <tr style=\"text-align: right;\">\n",
       "      <th></th>\n",
       "      <th>topic_0</th>\n",
       "      <th>topic_1</th>\n",
       "      <th>topic_2</th>\n",
       "      <th>topic_3</th>\n",
       "      <th>topic_4</th>\n",
       "      <th>topic_5</th>\n",
       "      <th>topic_6</th>\n",
       "      <th>topic_7</th>\n",
       "      <th>topic_8</th>\n",
       "      <th>topic_9</th>\n",
       "      <th>topic_10</th>\n",
       "      <th>topic_11</th>\n",
       "      <th>topic_12</th>\n",
       "      <th>topic_13</th>\n",
       "      <th>topic_14</th>\n",
       "      <th>topic_15</th>\n",
       "      <th>topic_16</th>\n",
       "      <th>topic_17</th>\n",
       "      <th>topic_18</th>\n",
       "      <th>topic_19</th>\n",
       "      <th>topic</th>\n",
       "      <th>theme</th>\n",
       "      <th>subtheme11</th>\n",
       "      <th>subtheme12</th>\n",
       "      <th>subtheme21</th>\n",
       "      <th>subtheme22</th>\n",
       "      <th>subtheme41</th>\n",
       "      <th>subtheme42</th>\n",
       "      <th>subtheme43</th>\n",
       "      <th>subtheme44</th>\n",
       "      <th>subtheme51</th>\n",
       "      <th>subtheme52</th>\n",
       "      <th>subtheme53</th>\n",
       "      <th>subtheme61</th>\n",
       "      <th>subtheme62</th>\n",
       "      <th>subtheme63</th>\n",
       "      <th>subtheme64</th>\n",
       "      <th>subtheme65</th>\n",
       "      <th>subtheme66</th>\n",
       "      <th>subtheme71</th>\n",
       "      <th>subtheme72</th>\n",
       "      <th>subtheme73</th>\n",
       "      <th>subtheme74</th>\n",
       "      <th>tweetId</th>\n",
       "    </tr>\n",
       "  </thead>\n",
       "  <tbody>\n",
       "    <tr>\n",
       "      <th>0</th>\n",
       "      <td>0.041667</td>\n",
       "      <td>0.041667</td>\n",
       "      <td>0.058333</td>\n",
       "      <td>0.058333</td>\n",
       "      <td>0.058333</td>\n",
       "      <td>0.041667</td>\n",
       "      <td>0.041667</td>\n",
       "      <td>0.058333</td>\n",
       "      <td>0.058333</td>\n",
       "      <td>0.058333</td>\n",
       "      <td>0.041667</td>\n",
       "      <td>0.041667</td>\n",
       "      <td>0.058333</td>\n",
       "      <td>0.075000</td>\n",
       "      <td>0.041667</td>\n",
       "      <td>0.058333</td>\n",
       "      <td>0.041667</td>\n",
       "      <td>0.041667</td>\n",
       "      <td>0.041667</td>\n",
       "      <td>0.041667</td>\n",
       "      <td>topic_13</td>\n",
       "      <td>7</td>\n",
       "      <td>False</td>\n",
       "      <td>False</td>\n",
       "      <td>False</td>\n",
       "      <td>False</td>\n",
       "      <td>False</td>\n",
       "      <td>False</td>\n",
       "      <td>False</td>\n",
       "      <td>False</td>\n",
       "      <td>False</td>\n",
       "      <td>False</td>\n",
       "      <td>False</td>\n",
       "      <td>False</td>\n",
       "      <td>False</td>\n",
       "      <td>False</td>\n",
       "      <td>False</td>\n",
       "      <td>False</td>\n",
       "      <td>False</td>\n",
       "      <td>False</td>\n",
       "      <td>False</td>\n",
       "      <td>False</td>\n",
       "      <td>False</td>\n",
       "      <td>1331811812828803073</td>\n",
       "    </tr>\n",
       "    <tr>\n",
       "      <th>1</th>\n",
       "      <td>0.046296</td>\n",
       "      <td>0.046296</td>\n",
       "      <td>0.046296</td>\n",
       "      <td>0.046296</td>\n",
       "      <td>0.046296</td>\n",
       "      <td>0.046296</td>\n",
       "      <td>0.046296</td>\n",
       "      <td>0.046296</td>\n",
       "      <td>0.046296</td>\n",
       "      <td>0.046296</td>\n",
       "      <td>0.046296</td>\n",
       "      <td>0.064815</td>\n",
       "      <td>0.046296</td>\n",
       "      <td>0.046296</td>\n",
       "      <td>0.083333</td>\n",
       "      <td>0.046296</td>\n",
       "      <td>0.064815</td>\n",
       "      <td>0.046296</td>\n",
       "      <td>0.046296</td>\n",
       "      <td>0.046296</td>\n",
       "      <td>topic_14</td>\n",
       "      <td>5</td>\n",
       "      <td>False</td>\n",
       "      <td>False</td>\n",
       "      <td>False</td>\n",
       "      <td>False</td>\n",
       "      <td>False</td>\n",
       "      <td>False</td>\n",
       "      <td>False</td>\n",
       "      <td>False</td>\n",
       "      <td>False</td>\n",
       "      <td>True</td>\n",
       "      <td>False</td>\n",
       "      <td>False</td>\n",
       "      <td>False</td>\n",
       "      <td>False</td>\n",
       "      <td>False</td>\n",
       "      <td>False</td>\n",
       "      <td>False</td>\n",
       "      <td>False</td>\n",
       "      <td>False</td>\n",
       "      <td>False</td>\n",
       "      <td>False</td>\n",
       "      <td>1237432142214258688</td>\n",
       "    </tr>\n",
       "    <tr>\n",
       "      <th>2</th>\n",
       "      <td>0.044643</td>\n",
       "      <td>0.080357</td>\n",
       "      <td>0.044643</td>\n",
       "      <td>0.044643</td>\n",
       "      <td>0.044643</td>\n",
       "      <td>0.044643</td>\n",
       "      <td>0.044643</td>\n",
       "      <td>0.062500</td>\n",
       "      <td>0.044643</td>\n",
       "      <td>0.044643</td>\n",
       "      <td>0.044643</td>\n",
       "      <td>0.044643</td>\n",
       "      <td>0.080357</td>\n",
       "      <td>0.044643</td>\n",
       "      <td>0.044643</td>\n",
       "      <td>0.044643</td>\n",
       "      <td>0.062500</td>\n",
       "      <td>0.044643</td>\n",
       "      <td>0.044643</td>\n",
       "      <td>0.044643</td>\n",
       "      <td>topic_1</td>\n",
       "      <td>3</td>\n",
       "      <td>False</td>\n",
       "      <td>False</td>\n",
       "      <td>False</td>\n",
       "      <td>False</td>\n",
       "      <td>False</td>\n",
       "      <td>False</td>\n",
       "      <td>False</td>\n",
       "      <td>False</td>\n",
       "      <td>False</td>\n",
       "      <td>False</td>\n",
       "      <td>False</td>\n",
       "      <td>False</td>\n",
       "      <td>False</td>\n",
       "      <td>False</td>\n",
       "      <td>False</td>\n",
       "      <td>False</td>\n",
       "      <td>False</td>\n",
       "      <td>False</td>\n",
       "      <td>False</td>\n",
       "      <td>False</td>\n",
       "      <td>False</td>\n",
       "      <td>1234744569268338689</td>\n",
       "    </tr>\n",
       "    <tr>\n",
       "      <th>3</th>\n",
       "      <td>0.101562</td>\n",
       "      <td>0.070312</td>\n",
       "      <td>0.039062</td>\n",
       "      <td>0.039062</td>\n",
       "      <td>0.039062</td>\n",
       "      <td>0.039062</td>\n",
       "      <td>0.054688</td>\n",
       "      <td>0.039062</td>\n",
       "      <td>0.132812</td>\n",
       "      <td>0.039062</td>\n",
       "      <td>0.039062</td>\n",
       "      <td>0.039062</td>\n",
       "      <td>0.039062</td>\n",
       "      <td>0.039062</td>\n",
       "      <td>0.039062</td>\n",
       "      <td>0.039062</td>\n",
       "      <td>0.039062</td>\n",
       "      <td>0.054688</td>\n",
       "      <td>0.039062</td>\n",
       "      <td>0.039062</td>\n",
       "      <td>topic_8</td>\n",
       "      <td>7</td>\n",
       "      <td>False</td>\n",
       "      <td>False</td>\n",
       "      <td>False</td>\n",
       "      <td>False</td>\n",
       "      <td>False</td>\n",
       "      <td>False</td>\n",
       "      <td>False</td>\n",
       "      <td>False</td>\n",
       "      <td>False</td>\n",
       "      <td>False</td>\n",
       "      <td>False</td>\n",
       "      <td>False</td>\n",
       "      <td>False</td>\n",
       "      <td>False</td>\n",
       "      <td>False</td>\n",
       "      <td>False</td>\n",
       "      <td>False</td>\n",
       "      <td>False</td>\n",
       "      <td>False</td>\n",
       "      <td>False</td>\n",
       "      <td>False</td>\n",
       "      <td>1290590799000793090</td>\n",
       "    </tr>\n",
       "    <tr>\n",
       "      <th>4</th>\n",
       "      <td>0.046296</td>\n",
       "      <td>0.064815</td>\n",
       "      <td>0.046296</td>\n",
       "      <td>0.046296</td>\n",
       "      <td>0.046296</td>\n",
       "      <td>0.046296</td>\n",
       "      <td>0.046296</td>\n",
       "      <td>0.064815</td>\n",
       "      <td>0.046296</td>\n",
       "      <td>0.046296</td>\n",
       "      <td>0.046296</td>\n",
       "      <td>0.064815</td>\n",
       "      <td>0.046296</td>\n",
       "      <td>0.046296</td>\n",
       "      <td>0.046296</td>\n",
       "      <td>0.046296</td>\n",
       "      <td>0.046296</td>\n",
       "      <td>0.046296</td>\n",
       "      <td>0.064815</td>\n",
       "      <td>0.046296</td>\n",
       "      <td>topic_1</td>\n",
       "      <td>3</td>\n",
       "      <td>False</td>\n",
       "      <td>False</td>\n",
       "      <td>False</td>\n",
       "      <td>False</td>\n",
       "      <td>False</td>\n",
       "      <td>False</td>\n",
       "      <td>False</td>\n",
       "      <td>False</td>\n",
       "      <td>False</td>\n",
       "      <td>False</td>\n",
       "      <td>False</td>\n",
       "      <td>False</td>\n",
       "      <td>False</td>\n",
       "      <td>False</td>\n",
       "      <td>False</td>\n",
       "      <td>False</td>\n",
       "      <td>False</td>\n",
       "      <td>False</td>\n",
       "      <td>False</td>\n",
       "      <td>False</td>\n",
       "      <td>False</td>\n",
       "      <td>1381989345708679172</td>\n",
       "    </tr>\n",
       "    <tr>\n",
       "      <th>...</th>\n",
       "      <td>...</td>\n",
       "      <td>...</td>\n",
       "      <td>...</td>\n",
       "      <td>...</td>\n",
       "      <td>...</td>\n",
       "      <td>...</td>\n",
       "      <td>...</td>\n",
       "      <td>...</td>\n",
       "      <td>...</td>\n",
       "      <td>...</td>\n",
       "      <td>...</td>\n",
       "      <td>...</td>\n",
       "      <td>...</td>\n",
       "      <td>...</td>\n",
       "      <td>...</td>\n",
       "      <td>...</td>\n",
       "      <td>...</td>\n",
       "      <td>...</td>\n",
       "      <td>...</td>\n",
       "      <td>...</td>\n",
       "      <td>...</td>\n",
       "      <td>...</td>\n",
       "      <td>...</td>\n",
       "      <td>...</td>\n",
       "      <td>...</td>\n",
       "      <td>...</td>\n",
       "      <td>...</td>\n",
       "      <td>...</td>\n",
       "      <td>...</td>\n",
       "      <td>...</td>\n",
       "      <td>...</td>\n",
       "      <td>...</td>\n",
       "      <td>...</td>\n",
       "      <td>...</td>\n",
       "      <td>...</td>\n",
       "      <td>...</td>\n",
       "      <td>...</td>\n",
       "      <td>...</td>\n",
       "      <td>...</td>\n",
       "      <td>...</td>\n",
       "      <td>...</td>\n",
       "      <td>...</td>\n",
       "      <td>...</td>\n",
       "      <td>...</td>\n",
       "    </tr>\n",
       "    <tr>\n",
       "      <th>1814501</th>\n",
       "      <td>0.048077</td>\n",
       "      <td>0.048077</td>\n",
       "      <td>0.048077</td>\n",
       "      <td>0.048077</td>\n",
       "      <td>0.048077</td>\n",
       "      <td>0.048077</td>\n",
       "      <td>0.048077</td>\n",
       "      <td>0.048077</td>\n",
       "      <td>0.067308</td>\n",
       "      <td>0.048077</td>\n",
       "      <td>0.048077</td>\n",
       "      <td>0.048077</td>\n",
       "      <td>0.048077</td>\n",
       "      <td>0.067308</td>\n",
       "      <td>0.048077</td>\n",
       "      <td>0.048077</td>\n",
       "      <td>0.048077</td>\n",
       "      <td>0.048077</td>\n",
       "      <td>0.048077</td>\n",
       "      <td>0.048077</td>\n",
       "      <td>topic_8</td>\n",
       "      <td>7</td>\n",
       "      <td>False</td>\n",
       "      <td>False</td>\n",
       "      <td>False</td>\n",
       "      <td>False</td>\n",
       "      <td>False</td>\n",
       "      <td>False</td>\n",
       "      <td>False</td>\n",
       "      <td>False</td>\n",
       "      <td>False</td>\n",
       "      <td>False</td>\n",
       "      <td>False</td>\n",
       "      <td>False</td>\n",
       "      <td>False</td>\n",
       "      <td>False</td>\n",
       "      <td>False</td>\n",
       "      <td>False</td>\n",
       "      <td>False</td>\n",
       "      <td>False</td>\n",
       "      <td>False</td>\n",
       "      <td>False</td>\n",
       "      <td>False</td>\n",
       "      <td>1338677309054709761</td>\n",
       "    </tr>\n",
       "    <tr>\n",
       "      <th>1814502</th>\n",
       "      <td>0.046296</td>\n",
       "      <td>0.046296</td>\n",
       "      <td>0.046296</td>\n",
       "      <td>0.046296</td>\n",
       "      <td>0.046296</td>\n",
       "      <td>0.046296</td>\n",
       "      <td>0.046296</td>\n",
       "      <td>0.046296</td>\n",
       "      <td>0.046296</td>\n",
       "      <td>0.046296</td>\n",
       "      <td>0.046296</td>\n",
       "      <td>0.120370</td>\n",
       "      <td>0.046296</td>\n",
       "      <td>0.046296</td>\n",
       "      <td>0.046296</td>\n",
       "      <td>0.046296</td>\n",
       "      <td>0.046296</td>\n",
       "      <td>0.046296</td>\n",
       "      <td>0.046296</td>\n",
       "      <td>0.046296</td>\n",
       "      <td>topic_11</td>\n",
       "      <td>6</td>\n",
       "      <td>False</td>\n",
       "      <td>False</td>\n",
       "      <td>False</td>\n",
       "      <td>False</td>\n",
       "      <td>False</td>\n",
       "      <td>False</td>\n",
       "      <td>False</td>\n",
       "      <td>False</td>\n",
       "      <td>False</td>\n",
       "      <td>False</td>\n",
       "      <td>False</td>\n",
       "      <td>True</td>\n",
       "      <td>False</td>\n",
       "      <td>False</td>\n",
       "      <td>False</td>\n",
       "      <td>False</td>\n",
       "      <td>False</td>\n",
       "      <td>False</td>\n",
       "      <td>False</td>\n",
       "      <td>False</td>\n",
       "      <td>False</td>\n",
       "      <td>1346192468350541829</td>\n",
       "    </tr>\n",
       "    <tr>\n",
       "      <th>1814503</th>\n",
       "      <td>0.044643</td>\n",
       "      <td>0.044643</td>\n",
       "      <td>0.080357</td>\n",
       "      <td>0.044643</td>\n",
       "      <td>0.062500</td>\n",
       "      <td>0.044643</td>\n",
       "      <td>0.062500</td>\n",
       "      <td>0.062500</td>\n",
       "      <td>0.044643</td>\n",
       "      <td>0.062500</td>\n",
       "      <td>0.044643</td>\n",
       "      <td>0.044643</td>\n",
       "      <td>0.044643</td>\n",
       "      <td>0.044643</td>\n",
       "      <td>0.044643</td>\n",
       "      <td>0.044643</td>\n",
       "      <td>0.044643</td>\n",
       "      <td>0.044643</td>\n",
       "      <td>0.044643</td>\n",
       "      <td>0.044643</td>\n",
       "      <td>topic_2</td>\n",
       "      <td>2</td>\n",
       "      <td>False</td>\n",
       "      <td>False</td>\n",
       "      <td>False</td>\n",
       "      <td>True</td>\n",
       "      <td>False</td>\n",
       "      <td>False</td>\n",
       "      <td>False</td>\n",
       "      <td>False</td>\n",
       "      <td>False</td>\n",
       "      <td>False</td>\n",
       "      <td>False</td>\n",
       "      <td>False</td>\n",
       "      <td>False</td>\n",
       "      <td>False</td>\n",
       "      <td>False</td>\n",
       "      <td>False</td>\n",
       "      <td>False</td>\n",
       "      <td>False</td>\n",
       "      <td>False</td>\n",
       "      <td>False</td>\n",
       "      <td>False</td>\n",
       "      <td>1310723512223625216</td>\n",
       "    </tr>\n",
       "    <tr>\n",
       "      <th>1814504</th>\n",
       "      <td>0.046296</td>\n",
       "      <td>0.046296</td>\n",
       "      <td>0.046296</td>\n",
       "      <td>0.046296</td>\n",
       "      <td>0.083333</td>\n",
       "      <td>0.046296</td>\n",
       "      <td>0.046296</td>\n",
       "      <td>0.046296</td>\n",
       "      <td>0.046296</td>\n",
       "      <td>0.046296</td>\n",
       "      <td>0.046296</td>\n",
       "      <td>0.046296</td>\n",
       "      <td>0.046296</td>\n",
       "      <td>0.046296</td>\n",
       "      <td>0.064815</td>\n",
       "      <td>0.046296</td>\n",
       "      <td>0.046296</td>\n",
       "      <td>0.046296</td>\n",
       "      <td>0.046296</td>\n",
       "      <td>0.064815</td>\n",
       "      <td>topic_4</td>\n",
       "      <td>2</td>\n",
       "      <td>False</td>\n",
       "      <td>False</td>\n",
       "      <td>False</td>\n",
       "      <td>False</td>\n",
       "      <td>False</td>\n",
       "      <td>False</td>\n",
       "      <td>False</td>\n",
       "      <td>False</td>\n",
       "      <td>False</td>\n",
       "      <td>False</td>\n",
       "      <td>False</td>\n",
       "      <td>False</td>\n",
       "      <td>False</td>\n",
       "      <td>False</td>\n",
       "      <td>False</td>\n",
       "      <td>False</td>\n",
       "      <td>False</td>\n",
       "      <td>False</td>\n",
       "      <td>False</td>\n",
       "      <td>False</td>\n",
       "      <td>False</td>\n",
       "      <td>1266240991133970438</td>\n",
       "    </tr>\n",
       "    <tr>\n",
       "      <th>1814505</th>\n",
       "      <td>0.040323</td>\n",
       "      <td>0.040323</td>\n",
       "      <td>0.040323</td>\n",
       "      <td>0.137097</td>\n",
       "      <td>0.040323</td>\n",
       "      <td>0.056452</td>\n",
       "      <td>0.040323</td>\n",
       "      <td>0.040323</td>\n",
       "      <td>0.056452</td>\n",
       "      <td>0.072581</td>\n",
       "      <td>0.040323</td>\n",
       "      <td>0.040323</td>\n",
       "      <td>0.040323</td>\n",
       "      <td>0.040323</td>\n",
       "      <td>0.040323</td>\n",
       "      <td>0.040323</td>\n",
       "      <td>0.040323</td>\n",
       "      <td>0.040323</td>\n",
       "      <td>0.056452</td>\n",
       "      <td>0.056452</td>\n",
       "      <td>topic_3</td>\n",
       "      <td>1</td>\n",
       "      <td>True</td>\n",
       "      <td>False</td>\n",
       "      <td>False</td>\n",
       "      <td>False</td>\n",
       "      <td>False</td>\n",
       "      <td>False</td>\n",
       "      <td>False</td>\n",
       "      <td>False</td>\n",
       "      <td>False</td>\n",
       "      <td>False</td>\n",
       "      <td>False</td>\n",
       "      <td>False</td>\n",
       "      <td>False</td>\n",
       "      <td>False</td>\n",
       "      <td>False</td>\n",
       "      <td>False</td>\n",
       "      <td>False</td>\n",
       "      <td>False</td>\n",
       "      <td>False</td>\n",
       "      <td>False</td>\n",
       "      <td>False</td>\n",
       "      <td>1325600258848600065</td>\n",
       "    </tr>\n",
       "  </tbody>\n",
       "</table>\n",
       "<p>1814506 rows × 44 columns</p>\n",
       "</div>"
      ],
      "text/plain": [
       "          topic_0   topic_1   topic_2   topic_3   topic_4   topic_5   topic_6  \\\n",
       "0        0.041667  0.041667  0.058333  0.058333  0.058333  0.041667  0.041667   \n",
       "1        0.046296  0.046296  0.046296  0.046296  0.046296  0.046296  0.046296   \n",
       "2        0.044643  0.080357  0.044643  0.044643  0.044643  0.044643  0.044643   \n",
       "3        0.101562  0.070312  0.039062  0.039062  0.039062  0.039062  0.054688   \n",
       "4        0.046296  0.064815  0.046296  0.046296  0.046296  0.046296  0.046296   \n",
       "...           ...       ...       ...       ...       ...       ...       ...   \n",
       "1814501  0.048077  0.048077  0.048077  0.048077  0.048077  0.048077  0.048077   \n",
       "1814502  0.046296  0.046296  0.046296  0.046296  0.046296  0.046296  0.046296   \n",
       "1814503  0.044643  0.044643  0.080357  0.044643  0.062500  0.044643  0.062500   \n",
       "1814504  0.046296  0.046296  0.046296  0.046296  0.083333  0.046296  0.046296   \n",
       "1814505  0.040323  0.040323  0.040323  0.137097  0.040323  0.056452  0.040323   \n",
       "\n",
       "          topic_7   topic_8   topic_9  topic_10  topic_11  topic_12  topic_13  \\\n",
       "0        0.058333  0.058333  0.058333  0.041667  0.041667  0.058333  0.075000   \n",
       "1        0.046296  0.046296  0.046296  0.046296  0.064815  0.046296  0.046296   \n",
       "2        0.062500  0.044643  0.044643  0.044643  0.044643  0.080357  0.044643   \n",
       "3        0.039062  0.132812  0.039062  0.039062  0.039062  0.039062  0.039062   \n",
       "4        0.064815  0.046296  0.046296  0.046296  0.064815  0.046296  0.046296   \n",
       "...           ...       ...       ...       ...       ...       ...       ...   \n",
       "1814501  0.048077  0.067308  0.048077  0.048077  0.048077  0.048077  0.067308   \n",
       "1814502  0.046296  0.046296  0.046296  0.046296  0.120370  0.046296  0.046296   \n",
       "1814503  0.062500  0.044643  0.062500  0.044643  0.044643  0.044643  0.044643   \n",
       "1814504  0.046296  0.046296  0.046296  0.046296  0.046296  0.046296  0.046296   \n",
       "1814505  0.040323  0.056452  0.072581  0.040323  0.040323  0.040323  0.040323   \n",
       "\n",
       "         topic_14  topic_15  topic_16  topic_17  topic_18  topic_19     topic  \\\n",
       "0        0.041667  0.058333  0.041667  0.041667  0.041667  0.041667  topic_13   \n",
       "1        0.083333  0.046296  0.064815  0.046296  0.046296  0.046296  topic_14   \n",
       "2        0.044643  0.044643  0.062500  0.044643  0.044643  0.044643   topic_1   \n",
       "3        0.039062  0.039062  0.039062  0.054688  0.039062  0.039062   topic_8   \n",
       "4        0.046296  0.046296  0.046296  0.046296  0.064815  0.046296   topic_1   \n",
       "...           ...       ...       ...       ...       ...       ...       ...   \n",
       "1814501  0.048077  0.048077  0.048077  0.048077  0.048077  0.048077   topic_8   \n",
       "1814502  0.046296  0.046296  0.046296  0.046296  0.046296  0.046296  topic_11   \n",
       "1814503  0.044643  0.044643  0.044643  0.044643  0.044643  0.044643   topic_2   \n",
       "1814504  0.064815  0.046296  0.046296  0.046296  0.046296  0.064815   topic_4   \n",
       "1814505  0.040323  0.040323  0.040323  0.040323  0.056452  0.056452   topic_3   \n",
       "\n",
       "         theme  subtheme11  subtheme12  subtheme21  subtheme22  subtheme41  \\\n",
       "0            7       False       False       False       False       False   \n",
       "1            5       False       False       False       False       False   \n",
       "2            3       False       False       False       False       False   \n",
       "3            7       False       False       False       False       False   \n",
       "4            3       False       False       False       False       False   \n",
       "...        ...         ...         ...         ...         ...         ...   \n",
       "1814501      7       False       False       False       False       False   \n",
       "1814502      6       False       False       False       False       False   \n",
       "1814503      2       False       False       False        True       False   \n",
       "1814504      2       False       False       False       False       False   \n",
       "1814505      1        True       False       False       False       False   \n",
       "\n",
       "         subtheme42  subtheme43  subtheme44  subtheme51  subtheme52  \\\n",
       "0             False       False       False       False       False   \n",
       "1             False       False       False       False        True   \n",
       "2             False       False       False       False       False   \n",
       "3             False       False       False       False       False   \n",
       "4             False       False       False       False       False   \n",
       "...             ...         ...         ...         ...         ...   \n",
       "1814501       False       False       False       False       False   \n",
       "1814502       False       False       False       False       False   \n",
       "1814503       False       False       False       False       False   \n",
       "1814504       False       False       False       False       False   \n",
       "1814505       False       False       False       False       False   \n",
       "\n",
       "         subtheme53  subtheme61  subtheme62  subtheme63  subtheme64  \\\n",
       "0             False       False       False       False       False   \n",
       "1             False       False       False       False       False   \n",
       "2             False       False       False       False       False   \n",
       "3             False       False       False       False       False   \n",
       "4             False       False       False       False       False   \n",
       "...             ...         ...         ...         ...         ...   \n",
       "1814501       False       False       False       False       False   \n",
       "1814502       False        True       False       False       False   \n",
       "1814503       False       False       False       False       False   \n",
       "1814504       False       False       False       False       False   \n",
       "1814505       False       False       False       False       False   \n",
       "\n",
       "         subtheme65  subtheme66  subtheme71  subtheme72  subtheme73  \\\n",
       "0             False       False       False       False       False   \n",
       "1             False       False       False       False       False   \n",
       "2             False       False       False       False       False   \n",
       "3             False       False       False       False       False   \n",
       "4             False       False       False       False       False   \n",
       "...             ...         ...         ...         ...         ...   \n",
       "1814501       False       False       False       False       False   \n",
       "1814502       False       False       False       False       False   \n",
       "1814503       False       False       False       False       False   \n",
       "1814504       False       False       False       False       False   \n",
       "1814505       False       False       False       False       False   \n",
       "\n",
       "         subtheme74              tweetId  \n",
       "0             False  1331811812828803073  \n",
       "1             False  1237432142214258688  \n",
       "2             False  1234744569268338689  \n",
       "3             False  1290590799000793090  \n",
       "4             False  1381989345708679172  \n",
       "...             ...                  ...  \n",
       "1814501       False  1338677309054709761  \n",
       "1814502       False  1346192468350541829  \n",
       "1814503       False  1310723512223625216  \n",
       "1814504       False  1266240991133970438  \n",
       "1814505       False  1325600258848600065  \n",
       "\n",
       "[1814506 rows x 44 columns]"
      ]
     },
     "execution_count": 76,
     "metadata": {},
     "output_type": "execute_result"
    }
   ],
   "source": [
    "df"
   ]
  },
  {
   "cell_type": "code",
   "execution_count": 185,
   "metadata": {},
   "outputs": [
    {
     "data": {
      "text/plain": [
       "subtheme11    24882\n",
       "subtheme12     4687\n",
       "subtheme21    44784\n",
       "subtheme22    41271\n",
       "subtheme41      356\n",
       "subtheme42      178\n",
       "subtheme43      466\n",
       "subtheme44     2045\n",
       "subtheme51     5507\n",
       "subtheme52    21703\n",
       "subtheme53     1287\n",
       "subtheme61    42059\n",
       "subtheme62    10884\n",
       "subtheme63     3971\n",
       "subtheme64     3849\n",
       "subtheme65     1651\n",
       "subtheme66     2890\n",
       "subtheme71    20791\n",
       "subtheme72    20940\n",
       "subtheme73     6134\n",
       "subtheme74     6820\n",
       "dtype: int64"
      ]
     },
     "execution_count": 185,
     "metadata": {},
     "output_type": "execute_result"
    }
   ],
   "source": [
    "df[[fr'subtheme{subtheme[1]}' for subtheme in subthemes]].sum(axis=0)"
   ]
  },
  {
   "cell_type": "code",
   "execution_count": 181,
   "metadata": {},
   "outputs": [
    {
     "data": {
      "text/plain": [
       "topic_0     175491\n",
       "topic_1     160666\n",
       "topic_2     140509\n",
       "topic_3     135791\n",
       "topic_5     119667\n",
       "topic_4     115319\n",
       "topic_15     95432\n",
       "topic_6      94345\n",
       "topic_8      90977\n",
       "topic_10     84361\n",
       "topic_7      79566\n",
       "topic_11     75052\n",
       "topic_9      70405\n",
       "topic_12     63129\n",
       "topic_13     61638\n",
       "topic_14     60010\n",
       "topic_17     56182\n",
       "topic_16     48950\n",
       "topic_18     46101\n",
       "topic_19     40915\n",
       "Name: topic, dtype: int64"
      ]
     },
     "execution_count": 181,
     "metadata": {},
     "output_type": "execute_result"
    }
   ],
   "source": [
    "df.topic.value_counts()"
   ]
  },
  {
   "cell_type": "code",
   "execution_count": 165,
   "metadata": {},
   "outputs": [
    {
     "data": {
      "text/plain": [
       "array(['Some of Melbourne’s biggest hospitals are bracing themselves for a huge surge of COVID-19 cases in coming days. \\n\\nThis is how the second wave crisis has unfolded in hospitals. https://t.co/aeSah0MkPV',\n",
       "       'What we know about COVID vaccine effectiveness against the new variants https://t.co/Su7gSgMVQw',\n",
       "       'Second waves of the pandemic have occurred around the world, sparking fears that Australia could be next. But experts say it’s avoidable.\\n\\nhttps://t.co/xz27TIOakS',\n",
       "       \"Japan detects new mutant 'vaccine-busting' Covid variant from traveller coming from Philippines https://t.co/1X8tTlXpQ5\",\n",
       "       'A leading medical professor claims lifting restrictions on air travel could cause a second wave of Covid-19 cases.\\n\\nhttps://t.co/dHTERBP8zf',\n",
       "       'Wuhan to test all 11 million residents after the #COVID19 epicentre in China witnesses a second wave of coronavirus infection. @SinghBhairavi has more https://t.co/idQMokjJUL',\n",
       "       'Health officials are calling on British Columbians to treat each other with compassion while also encouraging those around them to follow public health orders and help get the second wave of COVID-19 under control.\\nhttps://t.co/iiANc7HcCR',\n",
       "       '#InPics | As Covid cases rise, here’s are some of the variants of novel coronavirus widely reported till now. #coronavirus #CoronavirusIndia\\n\\nhttps://t.co/UKE72wRqZF',\n",
       "       'Pak may witness third wave of Covid-19 amid dull vaccination drive: Experts https://t.co/KRi5gptl58',\n",
       "       'BREAKING: Due to the shortage of vaccines and the unknown nature of the variants, the province is still grappling with what additional measures would be effective in reducing deaths linked to COVID-19. https://t.co/u7nyY15a8Q',\n",
       "       'UPDATED: “The old COVID-19 virus is being bulldozed by the B.1.1.7 variant, with the other two primary variants present in Toronto as well,” de Villa said.\\nhttps://t.co/uhBzLPP5ZQ',\n",
       "       'With coronavirus cases surging and families hoping to gather safely for Thanksgiving, long lines to get tested have reappeared across the U.S. — a reminder that the nation’s strained testing system remains unable to keep pace with the virus. https://t.co/XYzxUAH9qo https://t.co/QvUxXaUotv',\n",
       "       'Canada has become the latest country to halt flights from the UK following the discovery of a new variant of Covid-19 https://t.co/m9B6PpYdXx',\n",
       "       \"UK could be hit by an 'exit wave' of coronavirus but not a surge in deaths, SAGE expert says\\nhttps://t.co/qL9IY2aULz https://t.co/nycZPV4FME\",\n",
       "       'Biden says he will take action next week to extend nationwide restrictions on foreclosures and evictions: \"If we don\\'t act now, there will be a wave of evictions and foreclosures in the coming months as the pandemic rages on\" https://t.co/YiYVNMBhOS https://t.co/N5vMKnLHCZ',\n",
       "       \"@piaranada 'I think we've seen the worst,' says Roque when asked if Palace confident that 2021 won't be a repetition of pandemic-besieged 2020, despite threat of new COVID-19 virus variant. | via @piaranada\\n\\nLIVE: https://t.co/w6xTuJlllY\",\n",
       "       \"Stage 2 a 'trial run' for Albertans fearing a second wave of COVID-19 https://t.co/iXOvpieY60 #yyc #COVID19AB\",\n",
       "       \"Colorado health officials have announced the US' first known case of the Covid-19 variant originally discovered in the UK https://t.co/OvFCsgwARZ\",\n",
       "       'Nevada district sees first case of UK Covid-19 variant https://t.co/FnWXgd3f72',\n",
       "       'Guardian front page, Wednesday 3 June 2020 - Starmer warns PM: get a grip or risk second wave of coronavirus https://t.co/V4gggp40qN',\n",
       "       'Concern about the coronavirus variant is growing as several cases have now been detected in Canada. @Mirandanthistle speaks with Infectious Diseases physician @BogochIsaac for a breakdown of the state of the pandemic. https://t.co/HteFaWiCVh',\n",
       "       'Brazilian coronavirus variant likely to be in Britain already, top scientist warns https://t.co/KuEu3R3OXe',\n",
       "       'The Covid-19 health crisis determined every step for the retail industry throughout 2020, courtesy of the havoc it wreaked on retail operations. Stores were forced to close, employees were laid off, rent was defaulted, supply chains were strained... \\n\\nhttps://t.co/FSQUUeCKsI',\n",
       "       'UK COVID-19 variant has significantly higher death rate, study finds https://t.co/yZz2SOmNuW https://t.co/Uj32pMlbmS',\n",
       "       'UK economy crumbles under COVID-19 strain https://t.co/xl8s1OWliK'],\n",
       "      dtype=object)"
      ]
     },
     "execution_count": 165,
     "metadata": {},
     "output_type": "execute_result"
    }
   ],
   "source": [
    "tweets[tweets.tweetId.isin(df[df.subtheme73].tweetId.values)].sample(25).content.values"
   ]
  },
  {
   "cell_type": "code",
   "execution_count": null,
   "metadata": {},
   "outputs": [],
   "source": []
  },
  {
   "cell_type": "code",
   "execution_count": null,
   "metadata": {},
   "outputs": [],
   "source": []
  },
  {
   "cell_type": "code",
   "execution_count": null,
   "metadata": {},
   "outputs": [],
   "source": []
  },
  {
   "cell_type": "code",
   "execution_count": null,
   "metadata": {},
   "outputs": [],
   "source": []
  },
  {
   "cell_type": "code",
   "execution_count": null,
   "metadata": {},
   "outputs": [],
   "source": []
  },
  {
   "cell_type": "code",
   "execution_count": null,
   "metadata": {},
   "outputs": [],
   "source": []
  },
  {
   "cell_type": "code",
   "execution_count": null,
   "metadata": {
    "tags": []
   },
   "outputs": [],
   "source": [
    "# Train model\n",
    "ldamallet = gensim.models.wrappers.LdaMallet(mallet_path, corpus=corpus, num_topics=20, id2word=id2word, random_seed=50)\n",
    "model = gensim.models.wrappers.ldamallet.malletmodel2ldamodel(ldamallet)\n",
    "temp_file = datapath(\"model\")\n",
    "ldamallet.save(temp_file)\n",
    "\n",
    "# Visualize the topics\n",
    "pyLDAvis.enable_notebook()\n",
    "vis = pyLDAvis.gensim_models.prepare(model, corpus, dictionary)\n",
    "vis"
   ]
  },
  {
   "cell_type": "code",
   "execution_count": null,
   "metadata": {},
   "outputs": [],
   "source": [
    "# Compute Coherence Score\n",
    "coherence_model_ldamallet = CoherenceModel(model=ldamallet, texts=docs, dictionary=dictionary, coherence='c_v')\n",
    "coherence_ldamallet = coherence_model_ldamallet.get_coherence()\n",
    "print('\\nCoherence Score: ', coherence_ldamallet)"
   ]
  },
  {
   "cell_type": "code",
   "execution_count": null,
   "metadata": {
    "tags": []
   },
   "outputs": [],
   "source": [
    "# Train model\n",
    "ldamallet = gensim.models.wrappers.LdaMallet(mallet_path, corpus=corpus, num_topics=20, id2word=id2word)\n",
    "model = gensim.models.wrappers.ldamallet.malletmodel2ldamodel(ldamallet)\n",
    "\n",
    "# Visualize the topics\n",
    "pyLDAvis.enable_notebook()\n",
    "vis = pyLDAvis.gensim_models.prepare(model, corpus, dictionary)\n",
    "vis"
   ]
  },
  {
   "cell_type": "code",
   "execution_count": null,
   "metadata": {
    "tags": []
   },
   "outputs": [],
   "source": [
    "pprint(model.print_topics())\n",
    "doc_lda = model[corpus]"
   ]
  },
  {
   "cell_type": "code",
   "execution_count": null,
   "metadata": {
    "tags": []
   },
   "outputs": [],
   "source": [
    "# Compute Coherence Score\n",
    "coherence_model_ldamallet = CoherenceModel(model=ldamallet, texts=docs, dictionary=dictionary, coherence='c_v')\n",
    "coherence_ldamallet = coherence_model_ldamallet.get_coherence()\n",
    "print('\\nCoherence Score: ', coherence_ldamallet)"
   ]
  },
  {
   "cell_type": "code",
   "execution_count": null,
   "metadata": {},
   "outputs": [],
   "source": [
    "1"
   ]
  },
  {
   "cell_type": "code",
   "execution_count": null,
   "metadata": {},
   "outputs": [],
   "source": [
    "ldamallet[corpus[10]]"
   ]
  },
  {
   "cell_type": "code",
   "execution_count": null,
   "metadata": {
    "tags": []
   },
   "outputs": [],
   "source": [
    "# Compute tweets topics\n",
    "def format_topics_sentences(ldamodel, corpus, texts):\n",
    "    # Init output\n",
    "    sent_topics_df = pd.DataFrame()\n",
    "\n",
    "    # Get main topic in each document\n",
    "    for i, row in enumerate(ldamodel[corpus]):\n",
    "        row = sorted(row, key=lambda x: (x[1]), reverse=True)\n",
    "        # Get the Dominant topic, Perc Contribution and Keywords for each document\n",
    "        for j, (topic_num, prop_topic) in enumerate(row):\n",
    "            if j == 0:  # => dominant topic\n",
    "                wp = ldamodel.show_topic(topic_num)\n",
    "                topic_keywords = \", \".join([word for word, prop in wp])\n",
    "                sent_topics_df = sent_topics_df.append(pd.Series([int(topic_num), round(prop_topic,4), topic_keywords]), ignore_index=True)\n",
    "            else:\n",
    "                break\n",
    "    sent_topics_df.columns = ['Dominant_Topic', 'Perc_Contribution', 'Topic_Keywords']\n",
    "\n",
    "    # Add original text to the end of the output\n",
    "    contents = pd.Series(texts)\n",
    "    sent_topics_df = pd.concat([sent_topics_df, contents], axis=1)\n",
    "    return(sent_topics_df)\n",
    "\n",
    "\n",
    "df_topic_sents_keywords = format_topics_sentences(ldamodel=ldamallet, corpus=corpus, texts=list(tweets.content))\n",
    "\n",
    "# Format\n",
    "df = df_topic_sents_keywords.reset_index()\n",
    "df.columns = ['Document_No', 'Dominant_Topic', 'Topic_Perc_Contrib', 'Keywords', 'Text']\n",
    "df.to_csv('tweets_topics2.csv')\n",
    "\n",
    "# Show\n",
    "df.head(5)"
   ]
  },
  {
   "cell_type": "code",
   "execution_count": null,
   "metadata": {},
   "outputs": [],
   "source": [
    "df = pd.read_csv('tweets_topics2.csv')"
   ]
  },
  {
   "cell_type": "code",
   "execution_count": null,
   "metadata": {},
   "outputs": [],
   "source": [
    "df[df.Topic_Perc_Contrib==0.05]"
   ]
  },
  {
   "cell_type": "code",
   "execution_count": null,
   "metadata": {
    "tags": []
   },
   "outputs": [],
   "source": [
    "indices = list(df_dominant_topic[df_dominant_topic.Dominant_Topic==2.0].Document_No)\n",
    "topic_docs = [docs[i] for i in indices]\n",
    "\n",
    "kw = ['low', 'fall', 'drop', 'decline']\n",
    "t = [ind for k, ind in enumerate(indices) if any(i in topic_docs[k] for i in kw)]\n",
    "len(t)"
   ]
  },
  {
   "cell_type": "code",
   "execution_count": null,
   "metadata": {},
   "outputs": [],
   "source": [
    "(df.Dominant_Topic.value_counts() / df.shape[0]).sort_index()"
   ]
  },
  {
   "cell_type": "code",
   "execution_count": null,
   "metadata": {},
   "outputs": [],
   "source": [
    "# Group top 5 sentences under each topic\n",
    "sent_topics_sorteddf_mallet = pd.DataFrame()\n",
    "\n",
    "sent_topics_outdf_grpd = df_topic_sents_keywords.groupby('Dominant_Topic')\n",
    "\n",
    "for i, grp in sent_topics_outdf_grpd:\n",
    "    sent_topics_sorteddf_mallet = pd.concat([sent_topics_sorteddf_mallet, \n",
    "                                             grp.sort_values(['Perc_Contribution'], ascending=[0]).head(10)], \n",
    "                                            axis=0)\n",
    "\n",
    "# Reset Index    \n",
    "sent_topics_sorteddf_mallet.reset_index(drop=True, inplace=True)\n",
    "\n",
    "# Format\n",
    "sent_topics_sorteddf_mallet.columns = ['Topic_Num', \"Topic_Perc_Contrib\", \"Keywords\", \"Text\"]\n",
    "sent_topics_sorteddf_mallet.to_csv('relevant_topics2.csv', sep=\"|\")"
   ]
  },
  {
   "cell_type": "code",
   "execution_count": null,
   "metadata": {},
   "outputs": [],
   "source": [
    "sent_topics_sorteddf_mallet[sent_topics_sorteddf_mallet.Topic_Num==19.0].Text.values"
   ]
  },
  {
   "cell_type": "code",
   "execution_count": null,
   "metadata": {},
   "outputs": [],
   "source": [
    "topic_desc = pd.read_csv('topic_desc.csv', sep=';')"
   ]
  },
  {
   "cell_type": "code",
   "execution_count": null,
   "metadata": {
    "tags": []
   },
   "outputs": [],
   "source": [
    "# required: tweets, df, docs\n",
    "tweets['theme'] = np.nan\n",
    "for topic in topic_desc.topic.unique():\n",
    "    topic_themes = topic_desc[topic_desc.topic==topic]\n",
    "    non_default = []\n",
    "    for index, row in topic_themes[topic_themes.default=='F'].iterrows():\n",
    "        kw = row.keywords.replace(' ', '').split(',')\n",
    "        t = [k for k in df[df.Dominant_Topic==topic].Document_No.values if any(i in kw for i in docs[k])]\n",
    "        tweets.loc[t, 'theme'] = row.theme_id\n",
    "        non_default = non_default + t\n",
    "    topic_tweets = [k for k in df[df.Dominant_Topic==topic].Document_No.values]\n",
    "    topic_tweets = np.setdiff1d(topic_tweets,non_default)\n",
    "    tweets.loc[topic_tweets, 'theme'] = topic_themes[topic_themes.default=='T'].theme_id.unique()[0]"
   ]
  },
  {
   "cell_type": "code",
   "execution_count": null,
   "metadata": {},
   "outputs": [],
   "source": [
    "topic_themes.themes.unique()[0]"
   ]
  },
  {
   "cell_type": "code",
   "execution_count": null,
   "metadata": {},
   "outputs": [],
   "source": [
    "topic = 11\n",
    "topic_themes = topic_desc[topic_desc.topic==topic]\n",
    "non_default = []"
   ]
  },
  {
   "cell_type": "code",
   "execution_count": null,
   "metadata": {},
   "outputs": [],
   "source": [
    "topic_themes"
   ]
  },
  {
   "cell_type": "code",
   "execution_count": null,
   "metadata": {},
   "outputs": [],
   "source": [
    "topic_desc"
   ]
  },
  {
   "cell_type": "code",
   "execution_count": null,
   "metadata": {},
   "outputs": [],
   "source": [
    "topic = 10\n",
    "topic_desc[topic_desc.topic==topic]"
   ]
  },
  {
   "cell_type": "code",
   "execution_count": null,
   "metadata": {},
   "outputs": [],
   "source": [
    "topic = 1\n",
    "topic_themes = topic_desc[topic_desc.topic==topic]\n",
    "non_default = []\n",
    "for index, row in topic_themes[topic_themes.default=='F'].iterrows():\n",
    "    kw = row.keywords.replace(' ', '').split(',')\n",
    "    t = [k for k in df[df.Dominant_Topic==topic].Document_No.values if any(i in kw for i in docs[k])]\n",
    "    print(row.themes, len(t))"
   ]
  },
  {
   "cell_type": "code",
   "execution_count": null,
   "metadata": {},
   "outputs": [],
   "source": []
  },
  {
   "cell_type": "code",
   "execution_count": null,
   "metadata": {},
   "outputs": [],
   "source": [
    "topic = 1\n",
    "for topic in topic_desc.topic.unique():\n",
    "    topic_themes = topic_desc[topic_desc.topic==topic]\n",
    "    non_default = []\n",
    "    for index, row in topic_themes[topic_themes.default=='F'].iterrows():\n",
    "        kw = row.keywords.replace(' ', '').split(',')\n",
    "        t = [k for k in df[df.Dominant_Topic==topic].Document_No.values if any(i in kw for i in docs[k])]\n",
    "        print(row.themes, len(t))"
   ]
  },
  {
   "cell_type": "code",
   "execution_count": null,
   "metadata": {},
   "outputs": [],
   "source": [
    "tweets[tweets.theme=='Elections'].content[:10].values"
   ]
  },
  {
   "cell_type": "code",
   "execution_count": null,
   "metadata": {},
   "outputs": [],
   "source": [
    "tweets[['tweetId', 'theme']].to_parquet('news_tweets_topics.parquet', compression='gzip', index=False)"
   ]
  },
  {
   "cell_type": "code",
   "execution_count": null,
   "metadata": {},
   "outputs": [],
   "source": [
    "tweets.theme.value_counts() / tweets.shape[0]"
   ]
  },
  {
   "cell_type": "code",
   "execution_count": null,
   "metadata": {},
   "outputs": [],
   "source": []
  },
  {
   "cell_type": "code",
   "execution_count": null,
   "metadata": {},
   "outputs": [],
   "source": []
  },
  {
   "cell_type": "code",
   "execution_count": null,
   "metadata": {},
   "outputs": [],
   "source": [
    "topic_desc.topic.unique()"
   ]
  },
  {
   "cell_type": "code",
   "execution_count": null,
   "metadata": {},
   "outputs": [],
   "source": [
    "tweets.theme.isnull().sum()"
   ]
  },
  {
   "cell_type": "code",
   "execution_count": null,
   "metadata": {},
   "outputs": [],
   "source": [
    "topic_desc.keywords[20]"
   ]
  },
  {
   "cell_type": "code",
   "execution_count": null,
   "metadata": {},
   "outputs": [],
   "source": [
    "docs[92]"
   ]
  },
  {
   "cell_type": "code",
   "execution_count": null,
   "metadata": {},
   "outputs": [],
   "source": [
    "tweets[tweets.theme=='People violating mobility restrictions or protesting against them'].sample(frac=1).head(10).content.values"
   ]
  },
  {
   "cell_type": "code",
   "execution_count": null,
   "metadata": {},
   "outputs": [],
   "source": [
    "(tweets.theme.nunique())"
   ]
  },
  {
   "cell_type": "code",
   "execution_count": null,
   "metadata": {},
   "outputs": [],
   "source": [
    "df[df.Dominant_Topic==3.0]"
   ]
  },
  {
   "cell_type": "code",
   "execution_count": null,
   "metadata": {},
   "outputs": [],
   "source": []
  },
  {
   "cell_type": "code",
   "execution_count": null,
   "metadata": {},
   "outputs": [],
   "source": []
  },
  {
   "cell_type": "code",
   "execution_count": null,
   "metadata": {},
   "outputs": [],
   "source": []
  },
  {
   "cell_type": "code",
   "execution_count": null,
   "metadata": {},
   "outputs": [],
   "source": []
  },
  {
   "cell_type": "code",
   "execution_count": null,
   "metadata": {},
   "outputs": [],
   "source": []
  },
  {
   "cell_type": "code",
   "execution_count": null,
   "metadata": {},
   "outputs": [],
   "source": []
  },
  {
   "cell_type": "code",
   "execution_count": null,
   "metadata": {},
   "outputs": [],
   "source": []
  },
  {
   "cell_type": "code",
   "execution_count": null,
   "metadata": {},
   "outputs": [],
   "source": []
  },
  {
   "cell_type": "code",
   "execution_count": null,
   "metadata": {},
   "outputs": [],
   "source": []
  },
  {
   "cell_type": "code",
   "execution_count": null,
   "metadata": {},
   "outputs": [],
   "source": []
  },
  {
   "cell_type": "code",
   "execution_count": null,
   "metadata": {},
   "outputs": [],
   "source": []
  },
  {
   "cell_type": "code",
   "execution_count": null,
   "metadata": {},
   "outputs": [],
   "source": []
  },
  {
   "cell_type": "code",
   "execution_count": null,
   "metadata": {},
   "outputs": [],
   "source": []
  }
 ],
 "metadata": {
  "kernelspec": {
   "display_name": "Python 3 (ipykernel)",
   "language": "python",
   "name": "python3"
  },
  "language_info": {
   "codemirror_mode": {
    "name": "ipython",
    "version": 3
   },
   "file_extension": ".py",
   "mimetype": "text/x-python",
   "name": "python",
   "nbconvert_exporter": "python",
   "pygments_lexer": "ipython3",
   "version": "3.8.8"
  }
 },
 "nbformat": 4,
 "nbformat_minor": 4
}
