{
 "cells": [
  {
   "cell_type": "code",
   "execution_count": 2,
   "metadata": {},
   "outputs": [],
   "source": [
    "import pandas as pd\n",
    "import glob\n",
    "pd.options.display.max_rows=300"
   ]
  },
  {
   "cell_type": "code",
   "execution_count": 3,
   "metadata": {},
   "outputs": [],
   "source": [
    "df = pd.DataFrame([])\n",
    "for file in glob.glob('./../data/interim/*.csv'):\n",
    "    tmp = pd.read_csv(file).iloc[:,1:]\n",
    "    tmp['location'] = file.split('\\\\')[1].replace('.csv', '')\n",
    "    df = pd.concat([df, tmp])"
   ]
  },
  {
   "cell_type": "code",
   "execution_count": 74,
   "metadata": {},
   "outputs": [],
   "source": [
    "to_remove_australia = [\n",
    "    'mjrowland68', 'PatsKarvelas', 'CNN', 'BBCNews', 'healthgovau', 'MailOnline', 'NBCNews', 'nytimes', 'Raf_Epstein',\n",
    "    'samanthamaiden', 'googlenews', 'ABC', 'FoxNews', 'TC_Africa', 'SkyNews', 'Ro_Smith', 'WebMD', 'thehill', 'BBCWorld',\n",
    "    'nypost', '3AWNeilMitchell', 'Reuters', 'hughriminton', 'CUhlmann', 'CNNIndonesia', 'LisaMillar', 'StevePriceMedia',\n",
    "    'VictorianLabor', 'AlanKohler', 'IngrahamAngle', 'seanhannity', 'FinancialTimes', 'WSJ', 'mirandadevine', 'business',\n",
    "    'abchobart', 'nzherald', 'AP', 'TheEconomist', 'SAPoliceNews', 'andrew_lund', 'OANN'\n",
    "]\n",
    "aus = df[(df.location=='australia_media') & ~(df.username.isin(to_remove_australia))].reset_index(drop=True)\n",
    "aus['country'] = 'aus'"
   ]
  },
  {
   "cell_type": "code",
   "execution_count": 84,
   "metadata": {},
   "outputs": [],
   "source": [
    "to_remove_us = [\n",
    "    'googlenews', 'GovAbbott', 'seanhannity', 'JohnCornyn', 'SenateGOP', 'IngrahamAngle', 'HoustonChron', 'TheDemocrats', \n",
    "    'kayleighmcenany', 'Acosta', 'KenPaxtonTX', 'JaniceDean', 'SRuhle', 'CP24', 'CTVNews', 'margbrennan', 'TorontoStar', \n",
    "    'chucktodd', 'globeandmail', 'NHS', 'TuckerCarlson', 'GavinNewsom', 'amazon', 'US_FDA', 'Forbes', 'BBCWorld', 'MailOnline',\n",
    "    'JudyWoodruff', 'CAgovernor', 'democracynow', 'sfchronicle', 'pajhwok', 'BeschlossDC', 'VinGuptaMD'\n",
    "]\n",
    "us = df[(df.location.isin(['central_us_media', 'east_us_media', 'west_us_media'])) & ~(df.username.isin(to_remove_us))].drop_duplicates('username').reset_index(drop=True)\n",
    "us['country'] = 'us'"
   ]
  },
  {
   "cell_type": "code",
   "execution_count": 76,
   "metadata": {},
   "outputs": [],
   "source": [
    "to_remove_canada = [\n",
    "    'CNN', 'cityoftoronto', 'nytimes', 'NBCNews', 'thehill', 'CityCynthia', 'UofT', 'Travisdhanraj', 'UHN', 'CBCQueensPark',\n",
    "    'BBCWorld', 'seanhannity', 'AP', 'WSJ', 'googlenews', 'Acosta', 'IngrahamAngle', 'cnnbrk', 'Sunnybrook', 'Reuters',\n",
    "    'business', 'CBCHealth', 'WR_Record', 'USATODAY', 'CityBrampton', 'ASPphysician', 'MailOnline', 'ezralevant', 'davidakin', \n",
    "    'nypost', 'ABC', 'joe_warmington', 'kayleighmcenany', 'YourAlberta', 'CityofEdmonton', 'cityofcalgary', 'keithbaldrey', \n",
    "    'cspotweet', 'charlesadler', 'CoryBMorgan', 'MercedesGlobal', 'richardzussman', 'RobynUrback', 'VassyKapelos',\n",
    "    'SheilaGunnReid', 'MarketWatch', 'MobilePunch', 'LSMOH']\n",
    "can = df[(df.location.isin(['east_canada_media', 'west_canada_media'])) & ~(df.username.isin(to_remove_canada))].drop_duplicates('username').reset_index(drop=True)\n",
    "can['country'] = 'can'"
   ]
  },
  {
   "cell_type": "code",
   "execution_count": 85,
   "metadata": {},
   "outputs": [],
   "source": [
    "to_remove_uk = [\n",
    "    'rtenews', 'bbclaurak', 'FT', 'CNN', 'PHE_uk', 'nytimes', 'gavreilly', 'lewis_goodall', 'googlenews', \n",
    "    'Independent_ie', 'talkSPORT', 'newschambers', 'tomhfh', 'FinancialTimes', 'FergalBowers', 'NewstalkFM', 'WalesOnline',\n",
    "    'ladbible', 'LiamThorpECHO', 'marksandspencer', 'krishgm', 'VirginMediaNews', 'SimonCalder',\n",
    "    'PaulBrandITV', 'breakingnewsie', 'SamCoatesSky', 'healthdpt', 'jamesmatthewsky', \n",
    "    'BBCHughPym', 'Reuters'\n",
    "]\n",
    "uk = df[(df.location.isin(['ireland_uk_media'])) & ~(df.username.isin(to_remove_uk))].drop_duplicates('username').reset_index(drop=True)\n",
    "uk['country'] = 'uk'"
   ]
  },
  {
   "cell_type": "code",
   "execution_count": 86,
   "metadata": {},
   "outputs": [],
   "source": [
    "to_remove_ireland = [\n",
    "    'nytimes', 'FergalBowers', 'gavreilly', 'googlenews', 'CNN', 'UL', 'ZaraKing', 'FinancialTimes'\n",
    "    'SkyNews', 'AmbulanceNAS', 'PatKennyNT', 'merrionstreet', 'Aldi_Ireland', 'BBCNews', 'EoinBearla', 'MailOnline', \n",
    "    'MichealLehane', 'dfatirl', 'DCU', 'Forbes', 'FT', 'bankofireland', 'SkySportsNews', 'TheEconomist', 'SuperValuIRL', \n",
    "    'EU_Commission', 'siliconrepublic', 'countykerry', 'Postvox', 'MaryERegan', 'RTENewsPaulC'\n",
    "]\n",
    "ire = df[(df.location.isin(['ireland_media'])) & ~(df.username.isin(to_remove_ireland))].drop_duplicates('username').reset_index(drop=True)\n",
    "ire['country'] = 'ire'"
   ]
  },
  {
   "cell_type": "code",
   "execution_count": 87,
   "metadata": {},
   "outputs": [],
   "source": [
    "to_remove_new_zeland = [\n",
    "    'CNN', 'IngrahamAngle', 'googlenews', 'nytimes', 'MailOnline', 'Reuters', 'FoxNews', 'marcdaalder', 'ninetonoon'\n",
    "    'wordpressdotcom', 'BBCWorld', 'NBCNews', 'business', 'LBC', 'Telegraph', 'SamSachdevaNZ', 'ABC', 'Forbes', 'nypost', \n",
    "    'BBCNews', 'patrickgowernz', 'MutchJessica', 'foxandfriends', 'cnni', 'timesofindia', 'FinancialTimes',\n",
    "    'cnnbrk', 'ConversationEDU', 'FT', 'LloydBurr'\n",
    "]\n",
    "nz = df[(df.location.isin(['new_zeland_media'])) & ~(df.username.isin(to_remove_new_zeland))].drop_duplicates('username').reset_index(drop=True)\n",
    "nz['country'] = 'nz'"
   ]
  },
  {
   "cell_type": "code",
   "execution_count": 88,
   "metadata": {},
   "outputs": [],
   "source": [
    "to_remove_singapore = [\n",
    "    'business', 'googlenews', 'govsingapore', 'SCMPNews', 'nytimes', 'CNBCi', 'ABSCBNNews', 'FT',\n",
    "    'Mediaite', 'CNN', 'NBCNews', 'Reuters', 'Telegraph', 'ndtv', 'timesofindia'\n",
    "]\n",
    "sg = df[(df.location.isin(['singapore_media'])) & ~(df.username.isin(to_remove_singapore))].drop_duplicates('username').reset_index(drop=True)\n",
    "sg['country'] = 'sg'"
   ]
  },
  {
   "cell_type": "code",
   "execution_count": 89,
   "metadata": {},
   "outputs": [],
   "source": [
    "to_remove_south_africa = [\n",
    "    'CNN', 'karynmaughan', 'SundayTimesZA', 'googlenews', 'SkyNews', 'ANCParliament', 'RediTlhabi',\n",
    "    'SamsungSA', 'TheFCA', 'TC_Africa', 'BBCWorld', 'SuperSportTV', 'CathyMohlahlana', 'Shoprite_SA',\n",
    "    'MailOnline', 'newsonnbc', 'TheNamibian'\n",
    "]\n",
    "sa = df[(df.location.isin(['south_africa_media'])) & ~(df.username.isin(to_remove_south_africa))].drop_duplicates('username').reset_index(drop=True)\n",
    "sa['country'] = 'sa'"
   ]
  },
  {
   "cell_type": "code",
   "execution_count": 90,
   "metadata": {},
   "outputs": [],
   "source": [
    "to_remove_sri_lanka = [\n",
    "    'CMOTamilNadu', 'timesofindia', 'MailOnline', 'AFP', 'Jamz5251',\n",
    "    'sardesairajdeep', 'googlenews', 'CNN', 'IndiaToday', 'ABC',\n",
    "    'htTweets', 'rahulkanwal', 'AJEnglish', 'NewIndianXpress',\n",
    "    'xpresskerala', 'BBCWorld', 'AJENews', 'ndtv', 'Reuters',\n",
    "    'the_hindu', 'NBCNews', 'qatarairways', 'TimesNow', 'PMDNewsGov',\n",
    "    'MohamedNasheed', 'KeralaHealth', 'ADB_HQ', 'cnnbrk', 'PDChina',\n",
    "    'OHCHRAsia', 'nypost', 'Forbes', 'cnni', 'nytimes', 'DDNewslive',\n",
    "    'FactCrescendo', 'OfficeOfOPS'\n",
    "]\n",
    "sl = df[(df.location.isin(['sri_lanka_media'])) & ~(df.username.isin(to_remove_sri_lanka))].drop_duplicates('username').reset_index(drop=True)\n",
    "sl['country'] = 'sl'"
   ]
  },
  {
   "cell_type": "code",
   "execution_count": 83,
   "metadata": {},
   "outputs": [],
   "source": [
    "to_remove_trinidad_tobago = ['LaStampa', 'CNNEE', 'CNN', 'nytimes', 'Forbes']\n",
    "tt = df[(df.location.isin(['trinidad_tobago_media'])) & ~(df.username.isin(to_remove_trinidad_tobago))].drop_duplicates('username').reset_index(drop=True)"
   ]
  },
  {
   "cell_type": "code",
   "execution_count": 91,
   "metadata": {},
   "outputs": [],
   "source": [
    "news = pd.concat([\n",
    "    aus, us, uk, can, ire, nz, sg, sa, sl, tt\n",
    "])"
   ]
  },
  {
   "cell_type": "code",
   "execution_count": 92,
   "metadata": {},
   "outputs": [
    {
     "data": {
      "text/plain": [
       "(253, 9)"
      ]
     },
     "execution_count": 92,
     "metadata": {},
     "output_type": "execute_result"
    }
   ],
   "source": [
    "news.shape"
   ]
  },
  {
   "cell_type": "code",
   "execution_count": 93,
   "metadata": {},
   "outputs": [
    {
     "data": {
      "text/plain": [
       "us     78\n",
       "uk     35\n",
       "ire    19\n",
       "sa     17\n",
       "nz     14\n",
       "sg      3\n",
       "sl      3\n",
       "Name: country, dtype: int64"
      ]
     },
     "execution_count": 93,
     "metadata": {},
     "output_type": "execute_result"
    }
   ],
   "source": [
    "news.country.value_counts()"
   ]
  }
 ],
 "metadata": {
  "kernelspec": {
   "display_name": "Python 3",
   "language": "python",
   "name": "python3"
  },
  "language_info": {
   "codemirror_mode": {
    "name": "ipython",
    "version": 3
   },
   "file_extension": ".py",
   "mimetype": "text/x-python",
   "name": "python",
   "nbconvert_exporter": "python",
   "pygments_lexer": "ipython3",
   "version": "3.8.8"
  }
 },
 "nbformat": 4,
 "nbformat_minor": 4
}
